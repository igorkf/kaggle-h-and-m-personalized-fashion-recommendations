{
 "cells": [
  {
   "cell_type": "code",
   "execution_count": 1,
   "id": "35402ae3-748a-4cfb-8a5d-6c30931d01ea",
   "metadata": {},
   "outputs": [],
   "source": [
    "from pathlib import Path\n",
    "import pickle\n",
    "\n",
    "import matplotlib.pyplot as plt\n",
    "import numpy as np\n",
    "import pandas as pd\n",
    "\n",
    "from metric import apk, mapk\n",
    "from utils import plot_images"
   ]
  },
  {
   "cell_type": "code",
   "execution_count": 2,
   "id": "727ed930-0cfb-479e-b394-718664edad09",
   "metadata": {},
   "outputs": [],
   "source": [
    "dataset = '10'\n",
    "\n",
    "transactions = pd.read_pickle(f\"input/{dataset}/transactions_train.pkl\")\n",
    "users = pd.read_pickle(f\"input/{dataset}/users.pkl\")\n",
    "items = pd.read_pickle(f\"input/{dataset}/items.pkl\")\n",
    "merged = pd.read_pickle(\"output/merged.pkl\")"
   ]
  },
  {
   "cell_type": "code",
   "execution_count": 10,
   "id": "38723c4d-7db5-4b6a-a463-b55feb0fa16c",
   "metadata": {},
   "outputs": [],
   "source": [
    "num_week = 3\n",
    "num_user_transactions = transactions.query('week <= @num_week').groupby('user').size().reset_index(name='num_transactions')"
   ]
  },
  {
   "cell_type": "code",
   "execution_count": 6,
   "id": "5097ebdf-1bdb-471b-b008-f14969ae6c4d",
   "metadata": {},
   "outputs": [],
   "source": [
    "merged['apk'] = merged.apply(lambda x: apk(x['gt'], x['item']), axis=1)\n",
    "merged = merged.merge(num_user_transactions, on='user').fillna(0)"
   ]
  },
  {
   "cell_type": "code",
   "execution_count": 13,
   "id": "25855a44-29f3-4a20-8eb7-27b383eccfde",
   "metadata": {},
   "outputs": [
    {
     "data": {
      "text/plain": [
       "<matplotlib.collections.PathCollection at 0x7f8ac5869390>"
      ]
     },
     "execution_count": 13,
     "metadata": {},
     "output_type": "execute_result"
    },
    {
     "data": {
      "image/png": "[encoded data removed]",
      "text/plain": [
       "<Figure size 432x288 with 1 Axes>"
      ]
     },
     "metadata": {
      "needs_background": "light"
     },
     "output_type": "display_data"
    }
   ],
   "source": [
    "plt.scatter(merged['num_transactions'], merged['apk'])"
   ]
  }
 ],
 "metadata": {
  "kernelspec": {
   "display_name": "Python 3 (ipykernel)",
   "language": "python",
   "name": "python3"
  },
  "language_info": {
   "codemirror_mode": {
    "name": "ipython",
    "version": 3
   },
   "file_extension": ".py",
   "mimetype": "text/x-python",
   "name": "python",
   "nbconvert_exporter": "python",
   "pygments_lexer": "ipython3",
   "version": "3.7.12"
  }
 },
 "nbformat": 4,
 "nbformat_minor": 5
}
