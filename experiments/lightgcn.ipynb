{
 "cells": [
  {
   "cell_type": "code",
   "execution_count": 15,
   "metadata": {},
   "outputs": [
    {
     "name": "stdout",
     "output_type": "stream",
     "text": [
      "Note: you may need to restart the kernel to use updated packages.\n"
     ]
    }
   ],
   "source": [
    "pip install -q recommenders"
   ]
  },
  {
   "cell_type": "code",
   "execution_count": 16,
   "metadata": {},
   "outputs": [],
   "source": [
    "# https://github.com/benhamner/Metrics/blob/master/Python/ml_metrics/average_precision.py\n",
    "import numpy as np\n",
    "\n",
    "\n",
    "def apk(actual, predicted, k=12):\n",
    "    \"\"\"\n",
    "    Computes the average precision at k.\n",
    "\n",
    "    This function computes the average prescision at k between two lists of\n",
    "    items.\n",
    "\n",
    "    Parameters\n",
    "    ----------\n",
    "    actual : list\n",
    "             A list of elements that are to be predicted (order doesn't matter)\n",
    "    predicted : list\n",
    "                A list of predicted elements (order does matter)\n",
    "    k : int, optional\n",
    "        The maximum number of predicted elements\n",
    "\n",
    "    Returns\n",
    "    -------\n",
    "    score : double\n",
    "            The average precision at k over the input lists\n",
    "\n",
    "    \"\"\"\n",
    "    if len(predicted) > k:\n",
    "        predicted = predicted[:k]\n",
    "\n",
    "    score = 0.0\n",
    "    num_hits = 0.0\n",
    "\n",
    "    for i, p in enumerate(predicted):\n",
    "        if p in actual and p not in predicted[:i]:\n",
    "            num_hits += 1.0\n",
    "            score += num_hits / (i + 1.0)\n",
    "\n",
    "    if not actual:\n",
    "        return 0.0\n",
    "\n",
    "    return score / min(len(actual), k)\n",
    "\n",
    "\n",
    "def mapk(actual, predicted, k=12):\n",
    "    \"\"\"\n",
    "    Computes the mean average precision at k.\n",
    "\n",
    "    This function computes the mean average prescision at k between two lists\n",
    "    of lists of items.\n",
    "\n",
    "    Parameters\n",
    "    ----------\n",
    "    actual : list\n",
    "             A list of lists of elements that are to be predicted\n",
    "             (order doesn't matter in the lists)\n",
    "    predicted : list\n",
    "                A list of lists of predicted elements\n",
    "                (order matters in the lists)\n",
    "    k : int, optional\n",
    "        The maximum number of predicted elements\n",
    "\n",
    "    Returns\n",
    "    -------\n",
    "    score : double\n",
    "            The mean average precision at k over the input lists\n",
    "\n",
    "    \"\"\"\n",
    "    return np.mean([apk(a, p, k) for a, p in zip(actual, predicted)])"
   ]
  },
  {
   "cell_type": "code",
   "execution_count": 17,
   "metadata": {},
   "outputs": [
    {
     "name": "stdout",
     "output_type": "stream",
     "text": [
      "System version: 3.7.12 | packaged by conda-forge | (default, Oct 26 2021, 06:08:21) \n",
      "[GCC 9.4.0]\n",
      "Pandas version: 1.3.5\n",
      "Tensorflow version: 2.8.0\n"
     ]
    }
   ],
   "source": [
    "import gc\n",
    "import sys\n",
    "import os\n",
    "import pandas as pd\n",
    "import numpy as np\n",
    "import tensorflow as tf\n",
    "tf.get_logger().setLevel('ERROR') # only show error messages\n",
    "\n",
    "from recommenders.utils.timer import Timer\n",
    "from recommenders.models.deeprec.models.graphrec.lightgcn import LightGCN\n",
    "from recommenders.models.deeprec.DataModel.ImplicitCF import ImplicitCF\n",
    "from recommenders.models.deeprec.deeprec_utils import prepare_hparams\n",
    "import datetime\n",
    "from pathlib import Path\n",
    "\n",
    "print(\"System version: {}\".format(sys.version))\n",
    "print(\"Pandas version: {}\".format(pd.__version__))\n",
    "print(\"Tensorflow version: {}\".format(tf.__version__))"
   ]
  },
  {
   "cell_type": "code",
   "execution_count": 18,
   "metadata": {},
   "outputs": [
    {
     "name": "stdout",
     "output_type": "stream",
     "text": [
      "local\n"
     ]
    }
   ],
   "source": [
    "if os.getenv('LOCAL'):\n",
    "    print('local')\n",
    "    INPUT_DIR = Path('./input/transformed')\n",
    "    OUTPUT_DIR = Path('./output')\n",
    "else:\n",
    "    print('kaggle')\n",
    "    INPUT_DIR = Path('../input/transformed')\n",
    "    OUTPUT_DIR = Path('/kaggle/working')"
   ]
  },
  {
   "cell_type": "code",
   "execution_count": 19,
   "metadata": {},
   "outputs": [],
   "source": [
    "transactions = pd.read_pickle(INPUT_DIR / 'transactions_train.pkl')[['user', 'item', 't_dat']]\n",
    "valid_start_date = datetime.date(2020, 9, 16)"
   ]
  },
  {
   "cell_type": "code",
   "execution_count": 20,
   "metadata": {},
   "outputs": [],
   "source": [
    "def train_valid_stats(train, valid):\n",
    "    train_users = set(train.user)\n",
    "    train_items = set(train.item)\n",
    "    valid_users = set(valid.user)\n",
    "    valid_items = set(valid.item)\n",
    "    print(f\"train transaction: {len(train)}, train user: {len(train_users)}, train item: {len(train_items)}\")\n",
    "    print(f\"valid transaction: {len(valid)}, valid user: {len(valid_users)}, valid item: {len(valid_items)}\")\n",
    "    print(f\"valid user coverage: {len(train_users & valid_users) / len(valid_users)}\")\n",
    "    print(f\"valid item coverage: {len(train_items & valid_items) / len(valid_items)}\")"
   ]
  },
  {
   "cell_type": "code",
   "execution_count": 21,
   "metadata": {},
   "outputs": [
    {
     "name": "stdout",
     "output_type": "stream",
     "text": [
      "train vaild split\n",
      "train transaction: 255241, train user: 72019, train item: 18611\n",
      "valid transaction: 240311, valid user: 68984, valid item: 17986\n",
      "valid user coverage: 0.18366577757161082\n",
      "valid item coverage: 0.775992438563327\n"
     ]
    }
   ],
   "source": [
    "print(\"train vaild split\")\n",
    "train_start_date = valid_start_date - datetime.timedelta(days=7)\n",
    "train = transactions.query(\"@train_start_date <= t_dat < @valid_start_date\").reset_index(drop=True)\n",
    "valid = transactions.query(\"@valid_start_date <= t_dat\").reset_index(drop=True)\n",
    "del transactions\n",
    "train_valid_stats(train, valid)"
   ]
  },
  {
   "cell_type": "code",
   "execution_count": 22,
   "metadata": {},
   "outputs": [
    {
     "name": "stdout",
     "output_type": "stream",
     "text": [
      "filter recent items\n",
      "train transaction: 255241, train user: 72019, train item: 18611\n",
      "valid transaction: 240311, valid user: 68984, valid item: 17986\n",
      "valid user coverage: 0.18366577757161082\n",
      "valid item coverage: 0.775992438563327\n"
     ]
    }
   ],
   "source": [
    "print(\"filter recent items\")\n",
    "train_item_start_date = valid_start_date - datetime.timedelta(days=60)\n",
    "recent_items = set(train.query(\"@train_item_start_date <= t_dat < @valid_start_date\")['item'])\n",
    "train = train.query(\"item in @recent_items\").reset_index(drop=True)\n",
    "train_valid_stats(train, valid)"
   ]
  },
  {
   "cell_type": "code",
   "execution_count": 23,
   "metadata": {},
   "outputs": [
    {
     "name": "stdout",
     "output_type": "stream",
     "text": [
      "filter each user recent transactions (train)\n",
      "train transaction: 255241, train user: 72019, train item: 18611\n",
      "valid transaction: 240311, valid user: 68984, valid item: 17986\n",
      "valid user coverage: 0.18366577757161082\n",
      "valid item coverage: 0.775992438563327\n"
     ]
    }
   ],
   "source": [
    "print(\"filter each user recent transactions (train)\")\n",
    "train['last_t_dat'] = train.groupby('user').t_dat.transform(max)\n",
    "train['diff_t_dat'] = (train.last_t_dat - train.t_dat).dt.days\n",
    "train = train.query(\"diff_t_dat < 21\").reset_index(drop=True)\n",
    "train_valid_stats(train, valid)"
   ]
  },
  {
   "cell_type": "code",
   "execution_count": 24,
   "metadata": {},
   "outputs": [
    {
     "name": "stdout",
     "output_type": "stream",
     "text": [
      "drop duplicates (train)\n",
      "train transaction: 227910, train user: 72019, train item: 18611\n",
      "valid transaction: 240311, valid user: 68984, valid item: 17986\n",
      "valid user coverage: 0.18366577757161082\n",
      "valid item coverage: 0.775992438563327\n"
     ]
    }
   ],
   "source": [
    "print(\"drop duplicates (train)\")\n",
    "train = train[['user', 'item']]\n",
    "valid = valid[['user', 'item']]\n",
    "train = train.drop_duplicates(ignore_index=True)\n",
    "train_valid_stats(train, valid)"
   ]
  },
  {
   "cell_type": "code",
   "execution_count": 25,
   "metadata": {},
   "outputs": [
    {
     "name": "stdout",
     "output_type": "stream",
     "text": [
      "drop users and items which apper only once (train)\n",
      "(205270, 2) 49379 17981\n",
      "(199564, 2) 49304 12275\n",
      "(198650, 2) 48390 12275\n",
      "(198523, 2) 48390 12148\n",
      "(198494, 2) 48361 12148\n",
      "(198488, 2) 48361 12142\n",
      "train transaction: 198488, train user: 48361, train item: 12142\n",
      "valid transaction: 240311, valid user: 68984, valid item: 17986\n",
      "valid user coverage: 0.12892844717615679\n",
      "valid item coverage: 0.6126987657066607\n"
     ]
    }
   ],
   "source": [
    "print(\"drop users and items which apper only once (train)\")\n",
    "for _ in range(3):\n",
    "    users = train.groupby('user').size().reset_index(name='sz').query(\"sz > 1\").user\n",
    "    train = train.query(\"user in @users\")\n",
    "    print(train.shape, len(train.user.unique()), len(train.item.unique()))\n",
    "\n",
    "    items = train.groupby('item').size().reset_index(name='sz').query(\"sz > 1\").item\n",
    "    train = train.query(\"item in @items\")\n",
    "    print(train.shape, len(train.user.unique()), len(train.item.unique()))\n",
    "\n",
    "train_valid_stats(train, valid)"
   ]
  },
  {
   "cell_type": "code",
   "execution_count": 26,
   "metadata": {},
   "outputs": [
    {
     "data": {
      "text/html": [
       "<div>\n",
       "<style scoped>\n",
       "    .dataframe tbody tr th:only-of-type {\n",
       "        vertical-align: middle;\n",
       "    }\n",
       "\n",
       "    .dataframe tbody tr th {\n",
       "        vertical-align: top;\n",
       "    }\n",
       "\n",
       "    .dataframe thead th {\n",
       "        text-align: right;\n",
       "    }\n",
       "</style>\n",
       "<table border=\"1\" class=\"dataframe\">\n",
       "  <thead>\n",
       "    <tr style=\"text-align: right;\">\n",
       "      <th></th>\n",
       "      <th>userID</th>\n",
       "      <th>itemID</th>\n",
       "      <th>rating</th>\n",
       "    </tr>\n",
       "  </thead>\n",
       "  <tbody>\n",
       "    <tr>\n",
       "      <th>0</th>\n",
       "      <td>107</td>\n",
       "      <td>2219</td>\n",
       "      <td>1</td>\n",
       "    </tr>\n",
       "    <tr>\n",
       "      <th>1</th>\n",
       "      <td>107</td>\n",
       "      <td>61303</td>\n",
       "      <td>1</td>\n",
       "    </tr>\n",
       "    <tr>\n",
       "      <th>2</th>\n",
       "      <td>107</td>\n",
       "      <td>13042</td>\n",
       "      <td>1</td>\n",
       "    </tr>\n",
       "    <tr>\n",
       "      <th>3</th>\n",
       "      <td>107</td>\n",
       "      <td>92029</td>\n",
       "      <td>1</td>\n",
       "    </tr>\n",
       "    <tr>\n",
       "      <th>4</th>\n",
       "      <td>107</td>\n",
       "      <td>61305</td>\n",
       "      <td>1</td>\n",
       "    </tr>\n",
       "  </tbody>\n",
       "</table>\n",
       "</div>"
      ],
      "text/plain": [
       "   userID  itemID  rating\n",
       "0     107    2219       1\n",
       "1     107   61303       1\n",
       "2     107   13042       1\n",
       "3     107   92029       1\n",
       "4     107   61305       1"
      ]
     },
     "execution_count": 26,
     "metadata": {},
     "output_type": "execute_result"
    }
   ],
   "source": [
    "# LightGCNが学習できるような形式にする\n",
    "# - testのみに含まれるユーザーがあってはいけない\n",
    "# - カラム名をあわせる\n",
    "# - ratingカラムを追加\n",
    "users = sorted(set(train.user))\n",
    "valid = valid.query(\"user in @users\")\n",
    "\n",
    "train = train.rename(columns={'user': 'userID', 'item': 'itemID'})\n",
    "valid = valid.rename(columns={'user': 'userID', 'item': 'itemID'})\n",
    "train['rating'] = 1\n",
    "valid['rating'] = 1\n",
    "\n",
    "train.head()"
   ]
  },
  {
   "cell_type": "code",
   "execution_count": 27,
   "metadata": {},
   "outputs": [],
   "source": [
    "data = ImplicitCF(train=train, test=valid, seed=42)"
   ]
  },
  {
   "cell_type": "code",
   "execution_count": 28,
   "metadata": {},
   "outputs": [
    {
     "name": "stdout",
     "output_type": "stream",
     "text": [
      "Already create adjacency matrix.\n",
      "Already normalize adjacency matrix.\n",
      "Using xavier initialization.\n"
     ]
    },
    {
     "name": "stderr",
     "output_type": "stream",
     "text": [
      "2022-03-15 11:19:47.630349: I tensorflow/core/platform/cpu_feature_guard.cc:151] This TensorFlow binary is optimized with oneAPI Deep Neural Network Library (oneDNN) to use the following CPU instructions in performance-critical operations:  AVX2 FMA\n",
      "To enable them in other operations, rebuild TensorFlow with the appropriate compiler flags.\n",
      "2022-03-15 11:19:47.673058: I tensorflow/stream_executor/cuda/cuda_gpu_executor.cc:936] successful NUMA node read from SysFS had negative value (-1), but there must be at least one NUMA node, so returning NUMA node zero\n",
      "2022-03-15 11:19:47.700703: I tensorflow/stream_executor/cuda/cuda_gpu_executor.cc:936] successful NUMA node read from SysFS had negative value (-1), but there must be at least one NUMA node, so returning NUMA node zero\n",
      "2022-03-15 11:19:47.700988: I tensorflow/stream_executor/cuda/cuda_gpu_executor.cc:936] successful NUMA node read from SysFS had negative value (-1), but there must be at least one NUMA node, so returning NUMA node zero\n"
     ]
    },
    {
     "name": "stdout",
     "output_type": "stream",
     "text": [
      "20.955905377999443 sec\n"
     ]
    },
    {
     "name": "stderr",
     "output_type": "stream",
     "text": [
      "2022-03-15 11:19:48.232946: I tensorflow/stream_executor/cuda/cuda_gpu_executor.cc:936] successful NUMA node read from SysFS had negative value (-1), but there must be at least one NUMA node, so returning NUMA node zero\n",
      "2022-03-15 11:19:48.233163: I tensorflow/stream_executor/cuda/cuda_gpu_executor.cc:936] successful NUMA node read from SysFS had negative value (-1), but there must be at least one NUMA node, so returning NUMA node zero\n",
      "2022-03-15 11:19:48.233330: I tensorflow/stream_executor/cuda/cuda_gpu_executor.cc:936] successful NUMA node read from SysFS had negative value (-1), but there must be at least one NUMA node, so returning NUMA node zero\n",
      "2022-03-15 11:19:48.233717: I tensorflow/core/common_runtime/gpu/gpu_device.cc:1525] Created device /job:localhost/replica:0/task:0/device:GPU:0 with 8772 MB memory:  -> device: 0, name: NVIDIA GeForce GTX 1080 Ti, pci bus id: 0000:01:00.0, compute capability: 6.1\n"
     ]
    }
   ],
   "source": [
    "hparams = prepare_hparams(\n",
    "    model_type='lightgcn',\n",
    "    embed_size=128,\n",
    "    n_layers=3,\n",
    "    batch_size=8192,\n",
    "    decay=0.0001,\n",
    "    epochs=800,\n",
    "    learning_rate=0.001,\n",
    "    eval_epoch=10,\n",
    "    top_k=12,\n",
    "    save_model=True,\n",
    "    save_epoch=100,\n",
    "    metrics=['recall', 'ndcg', 'precision', 'map'],\n",
    "    MODEL_DIR=str(OUTPUT_DIR),\n",
    ")\n",
    "with Timer() as prepare_time:\n",
    "    model = LightGCN(hparams, data, seed=42)\n",
    "del data\n",
    "print(f\"{prepare_time.interval} sec\")"
   ]
  },
  {
   "cell_type": "code",
   "execution_count": 29,
   "metadata": {},
   "outputs": [
    {
     "name": "stdout",
     "output_type": "stream",
     "text": [
      "Epoch 1 (train)1.2s: train loss = 0.69266 = (mf)0.69266 + (embed)0.00000\n",
      "Epoch 2 (train)1.0s: train loss = 0.68939 = (mf)0.68938 + (embed)0.00001\n",
      "Epoch 3 (train)1.0s: train loss = 0.66974 = (mf)0.66973 + (embed)0.00002\n",
      "Epoch 4 (train)0.9s: train loss = 0.60849 = (mf)0.60844 + (embed)0.00005\n",
      "Epoch 5 (train)1.0s: train loss = 0.50853 = (mf)0.50843 + (embed)0.00010\n",
      "5.035875362000297 sec\n"
     ]
    }
   ],
   "source": [
    "gc.collect()\n",
    "with Timer() as train_time:\n",
    "    model.fit()\n",
    "print(f\"{train_time.interval} sec\")"
   ]
  },
  {
   "cell_type": "code",
   "execution_count": 30,
   "metadata": {},
   "outputs": [],
   "source": [
    "# to avoid oom\n",
    "tmp = valid[['userID']].drop_duplicates()\n",
    "step = len(tmp) // 10\n",
    "res = []\n",
    "for i in range(0, len(tmp), step):\n",
    "    res.append(model.recommend_k_items(tmp.iloc[i:i+step], top_k=12, remove_seen=False))\n",
    "pred = pd.concat(res).reset_index(drop=True)\n",
    "del tmp"
   ]
  },
  {
   "cell_type": "code",
   "execution_count": 31,
   "metadata": {},
   "outputs": [
    {
     "data": {
      "text/html": [
       "<div>\n",
       "<style scoped>\n",
       "    .dataframe tbody tr th:only-of-type {\n",
       "        vertical-align: middle;\n",
       "    }\n",
       "\n",
       "    .dataframe tbody tr th {\n",
       "        vertical-align: top;\n",
       "    }\n",
       "\n",
       "    .dataframe thead th {\n",
       "        text-align: right;\n",
       "    }\n",
       "</style>\n",
       "<table border=\"1\" class=\"dataframe\">\n",
       "  <thead>\n",
       "    <tr style=\"text-align: right;\">\n",
       "      <th></th>\n",
       "      <th>user</th>\n",
       "      <th>item_pred</th>\n",
       "    </tr>\n",
       "  </thead>\n",
       "  <tbody>\n",
       "    <tr>\n",
       "      <th>0</th>\n",
       "      <td>86</td>\n",
       "      <td>[95217, 104072, 104553, 103108, 82628, 3091, 8...</td>\n",
       "    </tr>\n",
       "    <tr>\n",
       "      <th>1</th>\n",
       "      <td>107</td>\n",
       "      <td>[95217, 103108, 104072, 104553, 82628, 3091, 8...</td>\n",
       "    </tr>\n",
       "    <tr>\n",
       "      <th>2</th>\n",
       "      <td>179</td>\n",
       "      <td>[95217, 104072, 103108, 104553, 82628, 104527,...</td>\n",
       "    </tr>\n",
       "    <tr>\n",
       "      <th>3</th>\n",
       "      <td>330</td>\n",
       "      <td>[95217, 104553, 104072, 103108, 82628, 71107, ...</td>\n",
       "    </tr>\n",
       "    <tr>\n",
       "      <th>4</th>\n",
       "      <td>475</td>\n",
       "      <td>[95217, 103108, 82628, 104072, 82631, 104553, ...</td>\n",
       "    </tr>\n",
       "    <tr>\n",
       "      <th>...</th>\n",
       "      <td>...</td>\n",
       "      <td>...</td>\n",
       "    </tr>\n",
       "    <tr>\n",
       "      <th>8889</th>\n",
       "      <td>1371634</td>\n",
       "      <td>[82827, 88637, 82824, 82837, 74155, 89334, 906...</td>\n",
       "    </tr>\n",
       "    <tr>\n",
       "      <th>8890</th>\n",
       "      <td>1371691</td>\n",
       "      <td>[95217, 104072, 82628, 82631, 104553, 3091, 10...</td>\n",
       "    </tr>\n",
       "    <tr>\n",
       "      <th>8891</th>\n",
       "      <td>1371747</td>\n",
       "      <td>[95217, 104072, 104553, 82628, 103108, 82631, ...</td>\n",
       "    </tr>\n",
       "    <tr>\n",
       "      <th>8892</th>\n",
       "      <td>1371813</td>\n",
       "      <td>[104072, 104553, 95217, 103108, 104527, 82628,...</td>\n",
       "    </tr>\n",
       "    <tr>\n",
       "      <th>8893</th>\n",
       "      <td>1371960</td>\n",
       "      <td>[95217, 104553, 104072, 103108, 82628, 67522, ...</td>\n",
       "    </tr>\n",
       "  </tbody>\n",
       "</table>\n",
       "<p>8894 rows × 2 columns</p>\n",
       "</div>"
      ],
      "text/plain": [
       "         user                                          item_pred\n",
       "0          86  [95217, 104072, 104553, 103108, 82628, 3091, 8...\n",
       "1         107  [95217, 103108, 104072, 104553, 82628, 3091, 8...\n",
       "2         179  [95217, 104072, 103108, 104553, 82628, 104527,...\n",
       "3         330  [95217, 104553, 104072, 103108, 82628, 71107, ...\n",
       "4         475  [95217, 103108, 82628, 104072, 82631, 104553, ...\n",
       "...       ...                                                ...\n",
       "8889  1371634  [82827, 88637, 82824, 82837, 74155, 89334, 906...\n",
       "8890  1371691  [95217, 104072, 82628, 82631, 104553, 3091, 10...\n",
       "8891  1371747  [95217, 104072, 104553, 82628, 103108, 82631, ...\n",
       "8892  1371813  [104072, 104553, 95217, 103108, 104527, 82628,...\n",
       "8893  1371960  [95217, 104553, 104072, 103108, 82628, 67522, ...\n",
       "\n",
       "[8894 rows x 2 columns]"
      ]
     },
     "execution_count": 31,
     "metadata": {},
     "output_type": "execute_result"
    }
   ],
   "source": [
    "pred = pred.rename(columns={'userID': 'user', 'itemID': 'item_pred'})\n",
    "pred = pred.groupby('user')['item_pred'].apply(list).reset_index()\n",
    "pred"
   ]
  },
  {
   "cell_type": "code",
   "execution_count": 32,
   "metadata": {},
   "outputs": [
    {
     "data": {
      "text/html": [
       "<div>\n",
       "<style scoped>\n",
       "    .dataframe tbody tr th:only-of-type {\n",
       "        vertical-align: middle;\n",
       "    }\n",
       "\n",
       "    .dataframe tbody tr th {\n",
       "        vertical-align: top;\n",
       "    }\n",
       "\n",
       "    .dataframe thead th {\n",
       "        text-align: right;\n",
       "    }\n",
       "</style>\n",
       "<table border=\"1\" class=\"dataframe\">\n",
       "  <thead>\n",
       "    <tr style=\"text-align: right;\">\n",
       "      <th></th>\n",
       "      <th>user</th>\n",
       "      <th>item_valid</th>\n",
       "    </tr>\n",
       "  </thead>\n",
       "  <tbody>\n",
       "    <tr>\n",
       "      <th>0</th>\n",
       "      <td>80</td>\n",
       "      <td>[28967]</td>\n",
       "    </tr>\n",
       "    <tr>\n",
       "      <th>1</th>\n",
       "      <td>86</td>\n",
       "      <td>[87371]</td>\n",
       "    </tr>\n",
       "    <tr>\n",
       "      <th>2</th>\n",
       "      <td>107</td>\n",
       "      <td>[69711, 77256, 33872]</td>\n",
       "    </tr>\n",
       "    <tr>\n",
       "      <th>3</th>\n",
       "      <td>117</td>\n",
       "      <td>[97391]</td>\n",
       "    </tr>\n",
       "    <tr>\n",
       "      <th>4</th>\n",
       "      <td>179</td>\n",
       "      <td>[102397, 98409, 73, 95784, 103796, 105103, 103...</td>\n",
       "    </tr>\n",
       "    <tr>\n",
       "      <th>...</th>\n",
       "      <td>...</td>\n",
       "      <td>...</td>\n",
       "    </tr>\n",
       "    <tr>\n",
       "      <th>68979</th>\n",
       "      <td>1371868</td>\n",
       "      <td>[97531, 103424]</td>\n",
       "    </tr>\n",
       "    <tr>\n",
       "      <th>68980</th>\n",
       "      <td>1371871</td>\n",
       "      <td>[94310, 91533]</td>\n",
       "    </tr>\n",
       "    <tr>\n",
       "      <th>68981</th>\n",
       "      <td>1371879</td>\n",
       "      <td>[2118, 84994, 57078, 84991, 101099, 104036, 87...</td>\n",
       "    </tr>\n",
       "    <tr>\n",
       "      <th>68982</th>\n",
       "      <td>1371937</td>\n",
       "      <td>[67261, 70640]</td>\n",
       "    </tr>\n",
       "    <tr>\n",
       "      <th>68983</th>\n",
       "      <td>1371960</td>\n",
       "      <td>[101689]</td>\n",
       "    </tr>\n",
       "  </tbody>\n",
       "</table>\n",
       "<p>68984 rows × 2 columns</p>\n",
       "</div>"
      ],
      "text/plain": [
       "          user                                         item_valid\n",
       "0           80                                            [28967]\n",
       "1           86                                            [87371]\n",
       "2          107                              [69711, 77256, 33872]\n",
       "3          117                                            [97391]\n",
       "4          179  [102397, 98409, 73, 95784, 103796, 105103, 103...\n",
       "...        ...                                                ...\n",
       "68979  1371868                                    [97531, 103424]\n",
       "68980  1371871                                     [94310, 91533]\n",
       "68981  1371879  [2118, 84994, 57078, 84991, 101099, 104036, 87...\n",
       "68982  1371937                                     [67261, 70640]\n",
       "68983  1371960                                           [101689]\n",
       "\n",
       "[68984 rows x 2 columns]"
      ]
     },
     "execution_count": 32,
     "metadata": {},
     "output_type": "execute_result"
    }
   ],
   "source": [
    "valid = pd.read_pickle(INPUT_DIR / 'transactions_train.pkl')[['user', 'item', 't_dat']].query(\"t_dat >= @valid_start_date\")[['user', 'item']].rename(columns={'item': 'item_valid'}).reset_index(drop=True)\n",
    "valid = valid.groupby('user')['item_valid'].apply(list).reset_index()\n",
    "valid"
   ]
  },
  {
   "cell_type": "code",
   "execution_count": 34,
   "metadata": {},
   "outputs": [
    {
     "name": "stdout",
     "output_type": "stream",
     "text": [
      "mapk: 0.01676288000521493, user coverage: 0.12892844717615679\n"
     ]
    }
   ],
   "source": [
    "merged = valid.merge(pred, on='user')\n",
    "mpk = mapk(merged['item_valid'], merged['item_pred'])\n",
    "users_valid = set(valid['user'])\n",
    "users_merged = set(merged['user'])\n",
    "user_coverage = len(users_valid & users_merged) / len(users_valid)\n",
    "print(f\"mapk: {mpk}, user coverage: {user_coverage}\")"
   ]
  },
  {
   "cell_type": "code",
   "execution_count": 35,
   "metadata": {},
   "outputs": [],
   "source": [
    "pred.to_csv(OUTPUT_DIR / 'pred.csv', index=False)\n",
    "model.infer_embedding(OUTPUT_DIR / 'user_emb.csv', OUTPUT_DIR / 'item_emb.csv')"
   ]
  },
  {
   "cell_type": "code",
   "execution_count": null,
   "metadata": {},
   "outputs": [],
   "source": []
  }
 ],
 "metadata": {
  "interpreter": {
   "hash": "7fdfdbd45d085a0ba7113cd82f547db5c004cd8ea43fffd106ba9e69f1df9763"
  },
  "kernelspec": {
   "display_name": "Python 3.7.12 ('rec')",
   "language": "python",
   "name": "python3"
  },
  "language_info": {
   "codemirror_mode": {
    "name": "ipython",
    "version": 3
   },
   "file_extension": ".py",
   "mimetype": "text/x-python",
   "name": "python",
   "nbconvert_exporter": "python",
   "pygments_lexer": "ipython3",
   "version": "3.7.12"
  },
  "orig_nbformat": 4
 },
 "nbformat": 4,
 "nbformat_minor": 2
}
