{
 "cells": [
  {
   "cell_type": "markdown",
   "metadata": {},
   "source": [
    "# LightFM (index only, two step)\n",
    "* lightfm_index_onlyでは簡易的に内積が大きいアイテム上位12件を求めていたが、実際はアイテムのバイアスがあるので、内積が大きいこととスコアが大きいことは等しくはないので、候補アイテムを多めにとっておき、それに対しては正確に計算する"
   ]
  },
  {
   "cell_type": "code",
   "execution_count": 1,
   "metadata": {},
   "outputs": [],
   "source": [
    "import datetime\n",
    "\n",
    "import faiss\n",
    "import matplotlib.pyplot as plt\n",
    "import numpy as np\n",
    "import optuna\n",
    "import pandas as pd\n",
    "import psutil\n",
    "from lightfm import LightFM\n",
    "from scipy.sparse import lil_matrix\n",
    "\n",
    "import schema\n",
    "from metric import mapk"
   ]
  },
  {
   "cell_type": "code",
   "execution_count": 2,
   "metadata": {},
   "outputs": [],
   "source": [
    "transactions = pd.read_csv('input/transformed/transactions_train.csv', parse_dates=['t_dat'], usecols=list(schema.TRANSACTIONS.keys())+['t_dat'], dtype=schema.TRANSACTIONS)\n",
    "n_user = transactions.customer_id_idx.max() + 1\n",
    "n_item = transactions.article_id_idx.max() + 1\n",
    "TOPK = 12"
   ]
  },
  {
   "cell_type": "code",
   "execution_count": 3,
   "metadata": {},
   "outputs": [
    {
     "name": "stderr",
     "output_type": "stream",
     "text": [
      "Epoch: 100%|██████████| 100/100 [00:57<00:00,  1.75it/s]\n"
     ]
    },
    {
     "data": {
      "text/plain": [
       "<lightfm.lightfm.LightFM at 0x7f693818a430>"
      ]
     },
     "execution_count": 3,
     "metadata": {},
     "output_type": "execute_result"
    }
   ],
   "source": [
    "train_days = 21\n",
    "no_components = 128\n",
    "learning_schedule = 'adadelta'\n",
    "loss = 'bpr'\n",
    "learning_rate = 0.005\n",
    "item_alpha = 1e-8\n",
    "user_alpha = 1e-8\n",
    "max_sampled = 10\n",
    "epochs = 100\n",
    "\n",
    "lightfm_params = {\n",
    "    'no_components': no_components,\n",
    "    'learning_schedule': learning_schedule,\n",
    "    'loss': loss,\n",
    "    'learning_rate': learning_rate,\n",
    "    'item_alpha': item_alpha,\n",
    "    'user_alpha': user_alpha,\n",
    "    'max_sampled': max_sampled,\n",
    "}\n",
    "\n",
    "valid_start_date = datetime.date(2020, 9, 16)\n",
    "valid_end_date = datetime.date(2020, 9, 22)\n",
    "train_end_date = valid_start_date - datetime.timedelta(days=1)\n",
    "train_start_date = valid_start_date - datetime.timedelta(days=train_days)\n",
    "\n",
    "transactions_train = transactions.query(\"@train_start_date <= t_dat <= @train_end_date\")\n",
    "transactions_valid = transactions.query(\"@valid_start_date <= t_dat <= @valid_end_date\")\n",
    "\n",
    "val = transactions_valid.groupby('customer_id_idx')['article_id_idx'].apply(list).reset_index()\n",
    "\n",
    "train = lil_matrix((n_user, n_item))\n",
    "train[transactions_train.customer_id_idx, transactions_train.article_id_idx] = 1\n",
    "\n",
    "model = LightFM(**lightfm_params)\n",
    "model.fit(train, epochs=epochs, num_threads=psutil.cpu_count(logical=False), verbose=True)"
   ]
  },
  {
   "cell_type": "markdown",
   "metadata": {},
   "source": [
    "普通に内積上位12件"
   ]
  },
  {
   "cell_type": "code",
   "execution_count": 4,
   "metadata": {},
   "outputs": [
    {
     "data": {
      "text/plain": [
       "0.019324815197848552"
      ]
     },
     "execution_count": 4,
     "metadata": {},
     "output_type": "execute_result"
    }
   ],
   "source": [
    "index = faiss.index_factory(no_components, \"Flat\", faiss.METRIC_INNER_PRODUCT)\n",
    "index = faiss.index_cpu_to_gpu(faiss.StandardGpuResources(), 0, index)\n",
    "index.add(model.item_embeddings)\n",
    "_, candidates = index.search(model.user_embeddings, TOPK)\n",
    "mapk(val.article_id_idx, candidates[val.customer_id_idx])"
   ]
  },
  {
   "cell_type": "markdown",
   "metadata": {},
   "source": [
    "上位12件 -> バイアス込み計算"
   ]
  },
  {
   "cell_type": "code",
   "execution_count": 5,
   "metadata": {},
   "outputs": [
    {
     "data": {
      "text/plain": [
       "0.019069074568707454"
      ]
     },
     "execution_count": 5,
     "metadata": {},
     "output_type": "execute_result"
    }
   ],
   "source": [
    "index = faiss.index_factory(no_components, \"Flat\", faiss.METRIC_INNER_PRODUCT)\n",
    "index = faiss.index_cpu_to_gpu(faiss.StandardGpuResources(), 0, index)\n",
    "index.add(model.item_embeddings)\n",
    "_, candidates = index.search(model.user_embeddings, TOPK)\n",
    "\n",
    "user_idxs = np.repeat(range(n_user), TOPK)\n",
    "\n",
    "result = model.predict(user_idxs, candidates.flatten(), num_threads=psutil.cpu_count(logical=False))\n",
    "result = result.reshape(n_user, TOPK)\n",
    "\n",
    "idxs_each_user = np.argsort(result, axis=1)[:,::-1]\n",
    "pred = np.array([candidates[i, x] for i, x in enumerate(idxs_each_user)])\n",
    "\n",
    "mapk(val.article_id_idx, pred[val.customer_id_idx])"
   ]
  },
  {
   "cell_type": "markdown",
   "metadata": {},
   "source": [
    "上位100件 -> バイアス込み計算"
   ]
  },
  {
   "cell_type": "code",
   "execution_count": 6,
   "metadata": {},
   "outputs": [
    {
     "data": {
      "text/plain": [
       "0.018261404718307145"
      ]
     },
     "execution_count": 6,
     "metadata": {},
     "output_type": "execute_result"
    }
   ],
   "source": [
    "index = faiss.index_factory(no_components, \"Flat\", faiss.METRIC_INNER_PRODUCT)\n",
    "index = faiss.index_cpu_to_gpu(faiss.StandardGpuResources(), 0, index)\n",
    "index.add(model.item_embeddings)\n",
    "_, candidates = index.search(model.user_embeddings, 100)\n",
    "\n",
    "user_idxs = np.repeat(range(n_user), 100)\n",
    "\n",
    "result = model.predict(user_idxs, candidates.flatten(), num_threads=psutil.cpu_count(logical=False))\n",
    "result = result.reshape(n_user, 100)\n",
    "\n",
    "idxs_each_user = np.argsort(result, axis=1)[:,::-1][:,:TOPK]\n",
    "pred = np.array([candidates[i, x] for i, x in enumerate(idxs_each_user)])\n",
    "\n",
    "mapk(val.article_id_idx, pred[val.customer_id_idx])"
   ]
  },
  {
   "cell_type": "markdown",
   "metadata": {},
   "source": [
    "上位12件 + アイテムバイアス上位100件 -> バイアス込み計算"
   ]
  },
  {
   "cell_type": "code",
   "execution_count": 7,
   "metadata": {},
   "outputs": [
    {
     "data": {
      "text/plain": [
       "0.017932175663766044"
      ]
     },
     "execution_count": 7,
     "metadata": {},
     "output_type": "execute_result"
    }
   ],
   "source": [
    "index = faiss.index_factory(no_components, \"Flat\", faiss.METRIC_INNER_PRODUCT)\n",
    "index = faiss.index_cpu_to_gpu(faiss.StandardGpuResources(), 0, index)\n",
    "index.add(model.item_embeddings)\n",
    "_, candidates = index.search(model.user_embeddings, TOPK)\n",
    "\n",
    "item_high_bias = np.argsort(model.item_biases)[::-1][:100]\n",
    "item_high_bias = np.array([item_high_bias] * n_user)\n",
    "candidates = np.hstack([candidates, item_high_bias])\n",
    "\n",
    "user_idxs = np.repeat(range(n_user), TOPK + 100)\n",
    "\n",
    "result = model.predict(user_idxs, candidates.flatten(), num_threads=psutil.cpu_count(logical=False))\n",
    "result = result.reshape(n_user, TOPK + 100)\n",
    "\n",
    "idxs_each_user = np.argsort(result, axis=1)[:,::-1][:,:TOPK]\n",
    "pred = np.array([candidates[i, x] for i, x in enumerate(idxs_each_user)])\n",
    "\n",
    "mapk(val.article_id_idx, pred[val.customer_id_idx])"
   ]
  },
  {
   "cell_type": "markdown",
   "metadata": {},
   "source": [
    "↓の理解に反しており謎\n",
    "* 内積だけだと（アイテムの）バイアスを無視しているのでモデルのスコアを計算したほうがよい\n",
    "* 候補数は多ければ多いほどよい\n",
    "\n",
    "特に、アイテムのバイアスが高いのは直近の人気商品であり、それを取り込むとスコアがあがることはノートブックで主張されている :thinking:"
   ]
  },
  {
   "cell_type": "markdown",
   "metadata": {},
   "source": []
  }
 ],
 "metadata": {
  "interpreter": {
   "hash": "c89b5301ada1d96cd3523f144e4a3cd3ad36f6698a61e6b8277fb627756a86c6"
  },
  "kernelspec": {
   "display_name": "Python 3.9.10 64-bit ('3.9.10')",
   "language": "python",
   "name": "python3"
  },
  "language_info": {
   "codemirror_mode": {
    "name": "ipython",
    "version": 3
   },
   "file_extension": ".py",
   "mimetype": "text/x-python",
   "name": "python",
   "nbconvert_exporter": "python",
   "pygments_lexer": "ipython3",
   "version": "3.9.7"
  },
  "orig_nbformat": 4
 },
 "nbformat": 4,
 "nbformat_minor": 2
}
