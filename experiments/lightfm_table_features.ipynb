{
 "cells": [
  {
   "cell_type": "markdown",
   "metadata": {},
   "source": [
    "# LightFM table features\n",
    "UUIDとともにテーブル特徴を取り込む"
   ]
  },
  {
   "cell_type": "code",
   "execution_count": 1,
   "metadata": {},
   "outputs": [],
   "source": [
    "import datetime\n",
    "\n",
    "import faiss\n",
    "import matplotlib.pyplot as plt\n",
    "import numpy as np\n",
    "import optuna\n",
    "import pandas as pd\n",
    "import psutil\n",
    "from lightfm import LightFM\n",
    "\n",
    "import schema\n",
    "from metric import mapk\n",
    "from scipy import sparse"
   ]
  },
  {
   "cell_type": "code",
   "execution_count": 2,
   "metadata": {},
   "outputs": [],
   "source": [
    "articles = pd.read_csv('input/transformed/articles.csv', usecols=schema.ARTICLES.keys(), dtype=schema.ARTICLES)\n",
    "customers = pd.read_csv('input/transformed/customers.csv', usecols=schema.CUSTOMERS.keys(), dtype=schema.CUSTOMERS)\n",
    "n_user = len(customers)\n",
    "n_item = len(articles)"
   ]
  },
  {
   "cell_type": "code",
   "execution_count": 3,
   "metadata": {},
   "outputs": [],
   "source": [
    "transactions = pd.read_csv('input/transformed/transactions_train.csv', parse_dates=['t_dat'], usecols=list(schema.TRANSACTIONS.keys())+['t_dat'], dtype=schema.TRANSACTIONS)\n",
    "TOPK = 12"
   ]
  },
  {
   "cell_type": "code",
   "execution_count": 13,
   "metadata": {},
   "outputs": [],
   "source": [
    "def create_customer_features(customers):\n",
    "    df = customers.copy().drop('customer_id_idx', axis=1)\n",
    "    df['age_is_null'] = df['age'].isnull().astype(int)\n",
    "    df['age'] = df['age'].fillna(df['age'].mean())\n",
    "    for c in ['club_member_status_idx', 'fashion_news_frequency_idx']:\n",
    "        df = pd.concat([df, pd.get_dummies(df[c], prefix=c)], axis=1).drop(c, axis=1)\n",
    "\n",
    "    idxs = sparse.identity(len(df), dtype='f')\n",
    "    return sparse.hstack([idxs, df.values]).astype('float32')\n",
    "\n",
    "\n",
    "def create_article_features(articles):\n",
    "    df = articles.copy().drop('article_id_idx', axis=1)\n",
    "    for c in df.columns:\n",
    "        df = pd.concat([df, pd.get_dummies(df[c], prefix=c)], axis=1).drop(c, axis=1)\n",
    "\n",
    "    idxs = sparse.identity(len(df), dtype='f')\n",
    "    return sparse.hstack([idxs, df.values]).astype('float32')\n",
    "\n",
    "user_features = create_customer_features(customers)\n",
    "item_features = create_article_features(articles)"
   ]
  },
  {
   "cell_type": "code",
   "execution_count": 20,
   "metadata": {},
   "outputs": [],
   "source": [
    "def objective(trial: optuna.Trial) -> float:\n",
    "    train_days = trial.suggest_int('train_days', 7, 28, 7)\n",
    "    no_components = trial.suggest_int('no_components', 128, 1024, 128)\n",
    "    learning_schedule = 'adadelta'\n",
    "    loss = 'bpr'\n",
    "    learning_rate = trial.suggest_loguniform('learning_rate', 5*1e-3, 5*1e-2)\n",
    "    item_alpha = trial.suggest_loguniform('item_alpha', 1e-12, 1e-6)\n",
    "    user_alpha = trial.suggest_loguniform('user_alpha', 1e-12, 1e-6)\n",
    "    max_sampled = trial.suggest_int('max_sampled', 10, 20)\n",
    "    epochs = 20\n",
    "\n",
    "    lightfm_params = {\n",
    "        'no_components': no_components,\n",
    "        'learning_schedule': learning_schedule,\n",
    "        'loss': loss,\n",
    "        'learning_rate': learning_rate,\n",
    "        'item_alpha': item_alpha,\n",
    "        'user_alpha': user_alpha,\n",
    "        'max_sampled': max_sampled,\n",
    "    }\n",
    "    print(lightfm_params)\n",
    "\n",
    "    valid_start_date = datetime.date(2020, 9, 16)\n",
    "    valid_end_date = datetime.date(2020, 9, 22)\n",
    "    train_end_date = valid_start_date - datetime.timedelta(days=1)\n",
    "    train_start_date = valid_start_date - datetime.timedelta(days=train_days)\n",
    "\n",
    "    transactions_train = transactions.query(\"@train_start_date <= t_dat <= @train_end_date\")\n",
    "    transactions_valid = transactions.query(\"@valid_start_date <= t_dat <= @valid_end_date\")\n",
    "\n",
    "    val = transactions_valid.groupby('customer_id_idx')['article_id_idx'].apply(list).reset_index()\n",
    "\n",
    "    train = sparse.lil_matrix((n_user, n_item))\n",
    "    train[transactions_train.customer_id_idx, transactions_train.article_id_idx] = 1\n",
    "\n",
    "    model = LightFM(**lightfm_params)\n",
    "    model.fit(train, user_features=user_features, item_features=item_features, epochs=epochs, num_threads=psutil.cpu_count(logical=False), verbose=True)\n",
    "\n",
    "    index = faiss.index_factory(no_components, \"Flat\", faiss.METRIC_INNER_PRODUCT)\n",
    "    index = faiss.index_cpu_to_gpu(faiss.StandardGpuResources(), 0, index)\n",
    "    index.add(model.item_embeddings)\n",
    "    _, idxs = index.search(model.user_embeddings, TOPK)\n",
    "\n",
    "    return mapk(val.article_id_idx, idxs[val.customer_id_idx])"
   ]
  },
  {
   "cell_type": "code",
   "execution_count": 21,
   "metadata": {},
   "outputs": [
    {
     "name": "stderr",
     "output_type": "stream",
     "text": [
      "\u001b[32m[I 2022-03-04 18:45:37,374]\u001b[0m A new study created in memory with name: no-name-4ed06eab-d012-4f11-83d8-47aa904aaad4\u001b[0m\n"
     ]
    },
    {
     "name": "stdout",
     "output_type": "stream",
     "text": [
      "{'no_components': 384, 'learning_schedule': 'adadelta', 'loss': 'bpr', 'learning_rate': 0.04438449855265177, 'item_alpha': 1.424971069814322e-12, 'user_alpha': 7.225127522877115e-09, 'max_sampled': 12}\n"
     ]
    },
    {
     "name": "stderr",
     "output_type": "stream",
     "text": [
      "Epoch: 100%|██████████| 20/20 [08:35<00:00, 25.80s/it]\n",
      "\u001b[32m[I 2022-03-04 18:54:39,796]\u001b[0m Trial 0 finished with value: 0.01143350442683491 and parameters: {'train_days': 28, 'no_components': 384, 'learning_rate': 0.04438449855265177, 'item_alpha': 1.424971069814322e-12, 'user_alpha': 7.225127522877115e-09, 'max_sampled': 12}. Best is trial 0 with value: 0.01143350442683491.\u001b[0m\n"
     ]
    },
    {
     "name": "stdout",
     "output_type": "stream",
     "text": [
      "{'no_components': 768, 'learning_schedule': 'adadelta', 'loss': 'bpr', 'learning_rate': 0.013067997329139045, 'item_alpha': 1.5731211546179455e-12, 'user_alpha': 2.9335066353527017e-08, 'max_sampled': 19}\n"
     ]
    },
    {
     "name": "stderr",
     "output_type": "stream",
     "text": [
      "Epoch: 100%|██████████| 20/20 [14:07<00:00, 42.40s/it]\n",
      "\u001b[32m[I 2022-03-04 19:09:32,392]\u001b[0m Trial 1 finished with value: 0.012845120156728552 and parameters: {'train_days': 28, 'no_components': 768, 'learning_rate': 0.013067997329139045, 'item_alpha': 1.5731211546179455e-12, 'user_alpha': 2.9335066353527017e-08, 'max_sampled': 19}. Best is trial 1 with value: 0.012845120156728552.\u001b[0m\n"
     ]
    },
    {
     "name": "stdout",
     "output_type": "stream",
     "text": [
      "{'no_components': 128, 'learning_schedule': 'adadelta', 'loss': 'bpr', 'learning_rate': 0.006012048787846059, 'item_alpha': 7.447907575388095e-10, 'user_alpha': 2.190846133101763e-08, 'max_sampled': 19}\n"
     ]
    },
    {
     "name": "stderr",
     "output_type": "stream",
     "text": [
      "Epoch: 100%|██████████| 20/20 [04:12<00:00, 12.65s/it]\n",
      "\u001b[32m[I 2022-03-04 19:13:57,085]\u001b[0m Trial 2 finished with value: 0.005104265175821466 and parameters: {'train_days': 21, 'no_components': 128, 'learning_rate': 0.006012048787846059, 'item_alpha': 7.447907575388095e-10, 'user_alpha': 2.190846133101763e-08, 'max_sampled': 19}. Best is trial 1 with value: 0.012845120156728552.\u001b[0m\n"
     ]
    },
    {
     "name": "stdout",
     "output_type": "stream",
     "text": [
      "{'no_components': 384, 'learning_schedule': 'adadelta', 'loss': 'bpr', 'learning_rate': 0.015392848889039575, 'item_alpha': 1.632272085856521e-11, 'user_alpha': 1.5206117205978786e-10, 'max_sampled': 10}\n"
     ]
    },
    {
     "name": "stderr",
     "output_type": "stream",
     "text": [
      "Epoch: 100%|██████████| 20/20 [09:34<00:00, 28.70s/it]\n",
      "\u001b[32m[I 2022-03-04 19:23:54,963]\u001b[0m Trial 3 finished with value: 0.01141169605534723 and parameters: {'train_days': 28, 'no_components': 384, 'learning_rate': 0.015392848889039575, 'item_alpha': 1.632272085856521e-11, 'user_alpha': 1.5206117205978786e-10, 'max_sampled': 10}. Best is trial 1 with value: 0.012845120156728552.\u001b[0m\n"
     ]
    },
    {
     "name": "stdout",
     "output_type": "stream",
     "text": [
      "{'no_components': 384, 'learning_schedule': 'adadelta', 'loss': 'bpr', 'learning_rate': 0.006156766378622971, 'item_alpha': 6.704053722354312e-09, 'user_alpha': 8.410487972766976e-07, 'max_sampled': 12}\n"
     ]
    },
    {
     "name": "stderr",
     "output_type": "stream",
     "text": [
      "Epoch: 100%|██████████| 20/20 [04:48<00:00, 14.41s/it]\n",
      "\u001b[32m[I 2022-03-04 19:29:06,614]\u001b[0m Trial 4 finished with value: 0.010542250607274508 and parameters: {'train_days': 14, 'no_components': 384, 'learning_rate': 0.006156766378622971, 'item_alpha': 6.704053722354312e-09, 'user_alpha': 8.410487972766976e-07, 'max_sampled': 12}. Best is trial 1 with value: 0.012845120156728552.\u001b[0m\n"
     ]
    },
    {
     "name": "stdout",
     "output_type": "stream",
     "text": [
      "{'no_components': 256, 'learning_schedule': 'adadelta', 'loss': 'bpr', 'learning_rate': 0.010111489318630543, 'item_alpha': 1.3504875673307761e-09, 'user_alpha': 5.116894469211582e-08, 'max_sampled': 19}\n"
     ]
    },
    {
     "name": "stderr",
     "output_type": "stream",
     "text": [
      "Epoch: 100%|██████████| 20/20 [05:49<00:00, 17.49s/it]\n",
      "\u001b[32m[I 2022-03-04 19:35:13,786]\u001b[0m Trial 5 finished with value: 0.00991481941036904 and parameters: {'train_days': 21, 'no_components': 256, 'learning_rate': 0.010111489318630543, 'item_alpha': 1.3504875673307761e-09, 'user_alpha': 5.116894469211582e-08, 'max_sampled': 19}. Best is trial 1 with value: 0.012845120156728552.\u001b[0m\n"
     ]
    },
    {
     "name": "stdout",
     "output_type": "stream",
     "text": [
      "{'no_components': 256, 'learning_schedule': 'adadelta', 'loss': 'bpr', 'learning_rate': 0.019485043246482137, 'item_alpha': 1.0327695820485805e-07, 'user_alpha': 7.316156647786821e-08, 'max_sampled': 20}\n"
     ]
    },
    {
     "name": "stderr",
     "output_type": "stream",
     "text": [
      "Epoch: 100%|██████████| 20/20 [03:52<00:00, 11.62s/it]\n",
      "\u001b[32m[I 2022-03-04 19:39:23,652]\u001b[0m Trial 6 finished with value: 0.009378920169782907 and parameters: {'train_days': 14, 'no_components': 256, 'learning_rate': 0.019485043246482137, 'item_alpha': 1.0327695820485805e-07, 'user_alpha': 7.316156647786821e-08, 'max_sampled': 20}. Best is trial 1 with value: 0.012845120156728552.\u001b[0m\n"
     ]
    },
    {
     "name": "stdout",
     "output_type": "stream",
     "text": [
      "{'no_components': 256, 'learning_schedule': 'adadelta', 'loss': 'bpr', 'learning_rate': 0.01184934934803008, 'item_alpha': 7.863766201428401e-07, 'user_alpha': 6.1070127698484305e-12, 'max_sampled': 15}\n"
     ]
    },
    {
     "name": "stderr",
     "output_type": "stream",
     "text": [
      "Epoch: 100%|██████████| 20/20 [07:20<00:00, 22.04s/it]\n",
      "\u001b[32m[I 2022-03-04 19:47:02,455]\u001b[0m Trial 7 finished with value: 0.009858210937684736 and parameters: {'train_days': 28, 'no_components': 256, 'learning_rate': 0.01184934934803008, 'item_alpha': 7.863766201428401e-07, 'user_alpha': 6.1070127698484305e-12, 'max_sampled': 15}. Best is trial 1 with value: 0.012845120156728552.\u001b[0m\n"
     ]
    },
    {
     "name": "stdout",
     "output_type": "stream",
     "text": [
      "{'no_components': 384, 'learning_schedule': 'adadelta', 'loss': 'bpr', 'learning_rate': 0.014710749790755014, 'item_alpha': 3.0488649378678514e-12, 'user_alpha': 7.881353203163838e-08, 'max_sampled': 18}\n"
     ]
    },
    {
     "name": "stderr",
     "output_type": "stream",
     "text": [
      "Epoch: 100%|██████████| 20/20 [04:52<00:00, 14.62s/it]\n",
      "\u001b[32m[I 2022-03-04 19:52:18,230]\u001b[0m Trial 8 finished with value: 0.010301398141893844 and parameters: {'train_days': 14, 'no_components': 384, 'learning_rate': 0.014710749790755014, 'item_alpha': 3.0488649378678514e-12, 'user_alpha': 7.881353203163838e-08, 'max_sampled': 18}. Best is trial 1 with value: 0.012845120156728552.\u001b[0m\n"
     ]
    },
    {
     "name": "stdout",
     "output_type": "stream",
     "text": [
      "{'no_components': 640, 'learning_schedule': 'adadelta', 'loss': 'bpr', 'learning_rate': 0.022380960573479054, 'item_alpha': 1.4330600129826203e-08, 'user_alpha': 4.305587967272264e-11, 'max_sampled': 14}\n"
     ]
    },
    {
     "name": "stderr",
     "output_type": "stream",
     "text": [
      "Epoch: 100%|██████████| 20/20 [13:14<00:00, 39.73s/it]\n",
      "\u001b[32m[I 2022-03-04 20:06:09,758]\u001b[0m Trial 9 finished with value: 0.01239332984037478 and parameters: {'train_days': 28, 'no_components': 640, 'learning_rate': 0.022380960573479054, 'item_alpha': 1.4330600129826203e-08, 'user_alpha': 4.305587967272264e-11, 'max_sampled': 14}. Best is trial 1 with value: 0.012845120156728552.\u001b[0m\n"
     ]
    },
    {
     "name": "stdout",
     "output_type": "stream",
     "text": [
      "{'no_components': 1024, 'learning_schedule': 'adadelta', 'loss': 'bpr', 'learning_rate': 0.03026938904874928, 'item_alpha': 9.465436641697277e-11, 'user_alpha': 1.4728255087211056e-09, 'max_sampled': 17}\n"
     ]
    },
    {
     "name": "stderr",
     "output_type": "stream",
     "text": [
      "Epoch: 100%|██████████| 20/20 [04:19<00:00, 12.99s/it]\n",
      "\u001b[32m[I 2022-03-04 20:11:20,498]\u001b[0m Trial 10 finished with value: 0.00874551296053323 and parameters: {'train_days': 7, 'no_components': 1024, 'learning_rate': 0.03026938904874928, 'item_alpha': 9.465436641697277e-11, 'user_alpha': 1.4728255087211056e-09, 'max_sampled': 17}. Best is trial 1 with value: 0.012845120156728552.\u001b[0m\n"
     ]
    },
    {
     "name": "stdout",
     "output_type": "stream",
     "text": [
      "{'no_components': 768, 'learning_schedule': 'adadelta', 'loss': 'bpr', 'learning_rate': 0.025371203848486665, 'item_alpha': 2.446531892486056e-08, 'user_alpha': 2.9093087061889047e-11, 'max_sampled': 15}\n"
     ]
    },
    {
     "name": "stderr",
     "output_type": "stream",
     "text": [
      "Epoch: 100%|██████████| 20/20 [14:33<00:00, 43.67s/it]\n",
      "\u001b[32m[I 2022-03-04 20:26:36,528]\u001b[0m Trial 11 finished with value: 0.012665883990250315 and parameters: {'train_days': 28, 'no_components': 768, 'learning_rate': 0.025371203848486665, 'item_alpha': 2.446531892486056e-08, 'user_alpha': 2.9093087061889047e-11, 'max_sampled': 15}. Best is trial 1 with value: 0.012845120156728552.\u001b[0m\n"
     ]
    },
    {
     "name": "stdout",
     "output_type": "stream",
     "text": [
      "{'no_components': 768, 'learning_schedule': 'adadelta', 'loss': 'bpr', 'learning_rate': 0.031417354326112604, 'item_alpha': 9.381584358370356e-11, 'user_alpha': 1.168503412473116e-12, 'max_sampled': 16}\n"
     ]
    },
    {
     "name": "stderr",
     "output_type": "stream",
     "text": [
      "Epoch: 100%|██████████| 20/20 [11:12<00:00, 33.62s/it]\n",
      "\u001b[32m[I 2022-03-04 20:38:31,685]\u001b[0m Trial 12 finished with value: 0.012441844650280398 and parameters: {'train_days': 21, 'no_components': 768, 'learning_rate': 0.031417354326112604, 'item_alpha': 9.381584358370356e-11, 'user_alpha': 1.168503412473116e-12, 'max_sampled': 16}. Best is trial 1 with value: 0.012845120156728552.\u001b[0m\n"
     ]
    },
    {
     "name": "stdout",
     "output_type": "stream",
     "text": [
      "{'no_components': 896, 'learning_schedule': 'adadelta', 'loss': 'bpr', 'learning_rate': 0.008950894525341778, 'item_alpha': 3.863379304227777e-08, 'user_alpha': 3.4622935981607887e-10, 'max_sampled': 14}\n"
     ]
    },
    {
     "name": "stderr",
     "output_type": "stream",
     "text": [
      "Epoch: 100%|██████████| 20/20 [16:27<00:00, 49.39s/it]\n",
      "\u001b[32m[I 2022-03-04 20:55:49,120]\u001b[0m Trial 13 finished with value: 0.012571848343131362 and parameters: {'train_days': 28, 'no_components': 896, 'learning_rate': 0.008950894525341778, 'item_alpha': 3.863379304227777e-08, 'user_alpha': 3.4622935981607887e-10, 'max_sampled': 14}. Best is trial 1 with value: 0.012845120156728552.\u001b[0m\n"
     ]
    },
    {
     "name": "stdout",
     "output_type": "stream",
     "text": [
      "{'no_components': 640, 'learning_schedule': 'adadelta', 'loss': 'bpr', 'learning_rate': 0.02433795229130115, 'item_alpha': 2.793393243768145e-07, 'user_alpha': 2.6459189427259217e-09, 'max_sampled': 17}\n"
     ]
    },
    {
     "name": "stderr",
     "output_type": "stream",
     "text": [
      "Epoch: 100%|██████████| 20/20 [10:03<00:00, 30.18s/it]\n",
      "\u001b[32m[I 2022-03-04 21:06:29,439]\u001b[0m Trial 14 finished with value: 0.011890880422486368 and parameters: {'train_days': 21, 'no_components': 640, 'learning_rate': 0.02433795229130115, 'item_alpha': 2.793393243768145e-07, 'user_alpha': 2.6459189427259217e-09, 'max_sampled': 17}. Best is trial 1 with value: 0.012845120156728552.\u001b[0m\n"
     ]
    },
    {
     "name": "stdout",
     "output_type": "stream",
     "text": [
      "{'no_components': 768, 'learning_schedule': 'adadelta', 'loss': 'bpr', 'learning_rate': 0.049468742688575075, 'item_alpha': 2.0315588185148622e-09, 'user_alpha': 3.019533427743043e-11, 'max_sampled': 13}\n"
     ]
    },
    {
     "name": "stderr",
     "output_type": "stream",
     "text": [
      "Epoch: 100%|██████████| 20/20 [03:53<00:00, 11.68s/it]\n",
      "\u001b[32m[I 2022-03-04 21:11:05,597]\u001b[0m Trial 15 finished with value: 0.008787746303128932 and parameters: {'train_days': 7, 'no_components': 768, 'learning_rate': 0.049468742688575075, 'item_alpha': 2.0315588185148622e-09, 'user_alpha': 3.019533427743043e-11, 'max_sampled': 13}. Best is trial 1 with value: 0.012845120156728552.\u001b[0m\n"
     ]
    },
    {
     "name": "stdout",
     "output_type": "stream",
     "text": [
      "{'no_components': 1024, 'learning_schedule': 'adadelta', 'loss': 'bpr', 'learning_rate': 0.03509733554285025, 'item_alpha': 2.548398644343316e-10, 'user_alpha': 8.409130976927917e-07, 'max_sampled': 16}\n"
     ]
    },
    {
     "name": "stderr",
     "output_type": "stream",
     "text": [
      "Epoch: 100%|██████████| 20/20 [16:18<00:00, 48.92s/it]\n",
      "\u001b[32m[I 2022-03-04 21:28:15,150]\u001b[0m Trial 16 finished with value: 0.013132215308796704 and parameters: {'train_days': 28, 'no_components': 1024, 'learning_rate': 0.03509733554285025, 'item_alpha': 2.548398644343316e-10, 'user_alpha': 8.409130976927917e-07, 'max_sampled': 16}. Best is trial 16 with value: 0.013132215308796704.\u001b[0m\n"
     ]
    },
    {
     "name": "stdout",
     "output_type": "stream",
     "text": [
      "{'no_components': 1024, 'learning_schedule': 'adadelta', 'loss': 'bpr', 'learning_rate': 0.038332971013971893, 'item_alpha': 1.883294566140812e-11, 'user_alpha': 9.250226238062989e-07, 'max_sampled': 20}\n"
     ]
    },
    {
     "name": "stderr",
     "output_type": "stream",
     "text": [
      "Epoch: 100%|██████████| 20/20 [13:26<00:00, 40.33s/it]\n",
      "\u001b[32m[I 2022-03-04 21:42:33,243]\u001b[0m Trial 17 finished with value: 0.01245508104203842 and parameters: {'train_days': 21, 'no_components': 1024, 'learning_rate': 0.038332971013971893, 'item_alpha': 1.883294566140812e-11, 'user_alpha': 9.250226238062989e-07, 'max_sampled': 20}. Best is trial 16 with value: 0.013132215308796704.\u001b[0m\n"
     ]
    },
    {
     "name": "stdout",
     "output_type": "stream",
     "text": [
      "{'no_components': 896, 'learning_schedule': 'adadelta', 'loss': 'bpr', 'learning_rate': 0.008053964283859993, 'item_alpha': 2.1425655653289647e-10, 'user_alpha': 2.483083625435052e-07, 'max_sampled': 17}\n"
     ]
    },
    {
     "name": "stderr",
     "output_type": "stream",
     "text": [
      "Epoch: 100%|██████████| 20/20 [16:36<00:00, 49.81s/it]\n",
      "\u001b[32m[I 2022-03-04 21:59:59,621]\u001b[0m Trial 18 finished with value: 0.012710893740753917 and parameters: {'train_days': 28, 'no_components': 896, 'learning_rate': 0.008053964283859993, 'item_alpha': 2.1425655653289647e-10, 'user_alpha': 2.483083625435052e-07, 'max_sampled': 17}. Best is trial 16 with value: 0.013132215308796704.\u001b[0m\n"
     ]
    }
   ],
   "source": [
    "study = optuna.create_study(direction='maximize')\n",
    "study.optimize(objective, timeout=10800)"
   ]
  },
  {
   "cell_type": "code",
   "execution_count": 22,
   "metadata": {},
   "outputs": [
    {
     "data": {
      "text/html": [
       "<div>\n",
       "<style scoped>\n",
       "    .dataframe tbody tr th:only-of-type {\n",
       "        vertical-align: middle;\n",
       "    }\n",
       "\n",
       "    .dataframe tbody tr th {\n",
       "        vertical-align: top;\n",
       "    }\n",
       "\n",
       "    .dataframe thead th {\n",
       "        text-align: right;\n",
       "    }\n",
       "</style>\n",
       "<table border=\"1\" class=\"dataframe\">\n",
       "  <thead>\n",
       "    <tr style=\"text-align: right;\">\n",
       "      <th></th>\n",
       "      <th>number</th>\n",
       "      <th>value</th>\n",
       "      <th>datetime_start</th>\n",
       "      <th>datetime_complete</th>\n",
       "      <th>duration</th>\n",
       "      <th>params_item_alpha</th>\n",
       "      <th>params_learning_rate</th>\n",
       "      <th>params_max_sampled</th>\n",
       "      <th>params_no_components</th>\n",
       "      <th>params_train_days</th>\n",
       "      <th>params_user_alpha</th>\n",
       "      <th>state</th>\n",
       "    </tr>\n",
       "  </thead>\n",
       "  <tbody>\n",
       "    <tr>\n",
       "      <th>16</th>\n",
       "      <td>16</td>\n",
       "      <td>0.013132</td>\n",
       "      <td>2022-03-04 21:11:05.598831</td>\n",
       "      <td>2022-03-04 21:28:15.149825</td>\n",
       "      <td>0 days 00:17:09.550994</td>\n",
       "      <td>2.548399e-10</td>\n",
       "      <td>0.035097</td>\n",
       "      <td>16</td>\n",
       "      <td>1024</td>\n",
       "      <td>28</td>\n",
       "      <td>8.409131e-07</td>\n",
       "      <td>COMPLETE</td>\n",
       "    </tr>\n",
       "    <tr>\n",
       "      <th>1</th>\n",
       "      <td>1</td>\n",
       "      <td>0.012845</td>\n",
       "      <td>2022-03-04 18:54:39.797119</td>\n",
       "      <td>2022-03-04 19:09:32.392005</td>\n",
       "      <td>0 days 00:14:52.594886</td>\n",
       "      <td>1.573121e-12</td>\n",
       "      <td>0.013068</td>\n",
       "      <td>19</td>\n",
       "      <td>768</td>\n",
       "      <td>28</td>\n",
       "      <td>2.933507e-08</td>\n",
       "      <td>COMPLETE</td>\n",
       "    </tr>\n",
       "    <tr>\n",
       "      <th>18</th>\n",
       "      <td>18</td>\n",
       "      <td>0.012711</td>\n",
       "      <td>2022-03-04 21:42:33.245008</td>\n",
       "      <td>2022-03-04 21:59:59.621193</td>\n",
       "      <td>0 days 00:17:26.376185</td>\n",
       "      <td>2.142566e-10</td>\n",
       "      <td>0.008054</td>\n",
       "      <td>17</td>\n",
       "      <td>896</td>\n",
       "      <td>28</td>\n",
       "      <td>2.483084e-07</td>\n",
       "      <td>COMPLETE</td>\n",
       "    </tr>\n",
       "    <tr>\n",
       "      <th>11</th>\n",
       "      <td>11</td>\n",
       "      <td>0.012666</td>\n",
       "      <td>2022-03-04 20:11:20.499422</td>\n",
       "      <td>2022-03-04 20:26:36.528212</td>\n",
       "      <td>0 days 00:15:16.028790</td>\n",
       "      <td>2.446532e-08</td>\n",
       "      <td>0.025371</td>\n",
       "      <td>15</td>\n",
       "      <td>768</td>\n",
       "      <td>28</td>\n",
       "      <td>2.909309e-11</td>\n",
       "      <td>COMPLETE</td>\n",
       "    </tr>\n",
       "    <tr>\n",
       "      <th>13</th>\n",
       "      <td>13</td>\n",
       "      <td>0.012572</td>\n",
       "      <td>2022-03-04 20:38:31.685981</td>\n",
       "      <td>2022-03-04 20:55:49.120267</td>\n",
       "      <td>0 days 00:17:17.434286</td>\n",
       "      <td>3.863379e-08</td>\n",
       "      <td>0.008951</td>\n",
       "      <td>14</td>\n",
       "      <td>896</td>\n",
       "      <td>28</td>\n",
       "      <td>3.462294e-10</td>\n",
       "      <td>COMPLETE</td>\n",
       "    </tr>\n",
       "    <tr>\n",
       "      <th>17</th>\n",
       "      <td>17</td>\n",
       "      <td>0.012455</td>\n",
       "      <td>2022-03-04 21:28:15.150985</td>\n",
       "      <td>2022-03-04 21:42:33.243713</td>\n",
       "      <td>0 days 00:14:18.092728</td>\n",
       "      <td>1.883295e-11</td>\n",
       "      <td>0.038333</td>\n",
       "      <td>20</td>\n",
       "      <td>1024</td>\n",
       "      <td>21</td>\n",
       "      <td>9.250226e-07</td>\n",
       "      <td>COMPLETE</td>\n",
       "    </tr>\n",
       "    <tr>\n",
       "      <th>12</th>\n",
       "      <td>12</td>\n",
       "      <td>0.012442</td>\n",
       "      <td>2022-03-04 20:26:36.529609</td>\n",
       "      <td>2022-03-04 20:38:31.684754</td>\n",
       "      <td>0 days 00:11:55.155145</td>\n",
       "      <td>9.381584e-11</td>\n",
       "      <td>0.031417</td>\n",
       "      <td>16</td>\n",
       "      <td>768</td>\n",
       "      <td>21</td>\n",
       "      <td>1.168503e-12</td>\n",
       "      <td>COMPLETE</td>\n",
       "    </tr>\n",
       "    <tr>\n",
       "      <th>9</th>\n",
       "      <td>9</td>\n",
       "      <td>0.012393</td>\n",
       "      <td>2022-03-04 19:52:18.231092</td>\n",
       "      <td>2022-03-04 20:06:09.758676</td>\n",
       "      <td>0 days 00:13:51.527584</td>\n",
       "      <td>1.433060e-08</td>\n",
       "      <td>0.022381</td>\n",
       "      <td>14</td>\n",
       "      <td>640</td>\n",
       "      <td>28</td>\n",
       "      <td>4.305588e-11</td>\n",
       "      <td>COMPLETE</td>\n",
       "    </tr>\n",
       "    <tr>\n",
       "      <th>14</th>\n",
       "      <td>14</td>\n",
       "      <td>0.011891</td>\n",
       "      <td>2022-03-04 20:55:49.121503</td>\n",
       "      <td>2022-03-04 21:06:29.438814</td>\n",
       "      <td>0 days 00:10:40.317311</td>\n",
       "      <td>2.793393e-07</td>\n",
       "      <td>0.024338</td>\n",
       "      <td>17</td>\n",
       "      <td>640</td>\n",
       "      <td>21</td>\n",
       "      <td>2.645919e-09</td>\n",
       "      <td>COMPLETE</td>\n",
       "    </tr>\n",
       "    <tr>\n",
       "      <th>0</th>\n",
       "      <td>0</td>\n",
       "      <td>0.011434</td>\n",
       "      <td>2022-03-04 18:45:37.377221</td>\n",
       "      <td>2022-03-04 18:54:39.795831</td>\n",
       "      <td>0 days 00:09:02.418610</td>\n",
       "      <td>1.424971e-12</td>\n",
       "      <td>0.044384</td>\n",
       "      <td>12</td>\n",
       "      <td>384</td>\n",
       "      <td>28</td>\n",
       "      <td>7.225128e-09</td>\n",
       "      <td>COMPLETE</td>\n",
       "    </tr>\n",
       "    <tr>\n",
       "      <th>3</th>\n",
       "      <td>3</td>\n",
       "      <td>0.011412</td>\n",
       "      <td>2022-03-04 19:13:57.086466</td>\n",
       "      <td>2022-03-04 19:23:54.963414</td>\n",
       "      <td>0 days 00:09:57.876948</td>\n",
       "      <td>1.632272e-11</td>\n",
       "      <td>0.015393</td>\n",
       "      <td>10</td>\n",
       "      <td>384</td>\n",
       "      <td>28</td>\n",
       "      <td>1.520612e-10</td>\n",
       "      <td>COMPLETE</td>\n",
       "    </tr>\n",
       "    <tr>\n",
       "      <th>4</th>\n",
       "      <td>4</td>\n",
       "      <td>0.010542</td>\n",
       "      <td>2022-03-04 19:23:54.964665</td>\n",
       "      <td>2022-03-04 19:29:06.614531</td>\n",
       "      <td>0 days 00:05:11.649866</td>\n",
       "      <td>6.704054e-09</td>\n",
       "      <td>0.006157</td>\n",
       "      <td>12</td>\n",
       "      <td>384</td>\n",
       "      <td>14</td>\n",
       "      <td>8.410488e-07</td>\n",
       "      <td>COMPLETE</td>\n",
       "    </tr>\n",
       "    <tr>\n",
       "      <th>8</th>\n",
       "      <td>8</td>\n",
       "      <td>0.010301</td>\n",
       "      <td>2022-03-04 19:47:02.456800</td>\n",
       "      <td>2022-03-04 19:52:18.229874</td>\n",
       "      <td>0 days 00:05:15.773074</td>\n",
       "      <td>3.048865e-12</td>\n",
       "      <td>0.014711</td>\n",
       "      <td>18</td>\n",
       "      <td>384</td>\n",
       "      <td>14</td>\n",
       "      <td>7.881353e-08</td>\n",
       "      <td>COMPLETE</td>\n",
       "    </tr>\n",
       "    <tr>\n",
       "      <th>5</th>\n",
       "      <td>5</td>\n",
       "      <td>0.009915</td>\n",
       "      <td>2022-03-04 19:29:06.615725</td>\n",
       "      <td>2022-03-04 19:35:13.786311</td>\n",
       "      <td>0 days 00:06:07.170586</td>\n",
       "      <td>1.350488e-09</td>\n",
       "      <td>0.010111</td>\n",
       "      <td>19</td>\n",
       "      <td>256</td>\n",
       "      <td>21</td>\n",
       "      <td>5.116894e-08</td>\n",
       "      <td>COMPLETE</td>\n",
       "    </tr>\n",
       "    <tr>\n",
       "      <th>7</th>\n",
       "      <td>7</td>\n",
       "      <td>0.009858</td>\n",
       "      <td>2022-03-04 19:39:23.653520</td>\n",
       "      <td>2022-03-04 19:47:02.455392</td>\n",
       "      <td>0 days 00:07:38.801872</td>\n",
       "      <td>7.863766e-07</td>\n",
       "      <td>0.011849</td>\n",
       "      <td>15</td>\n",
       "      <td>256</td>\n",
       "      <td>28</td>\n",
       "      <td>6.107013e-12</td>\n",
       "      <td>COMPLETE</td>\n",
       "    </tr>\n",
       "    <tr>\n",
       "      <th>6</th>\n",
       "      <td>6</td>\n",
       "      <td>0.009379</td>\n",
       "      <td>2022-03-04 19:35:13.787513</td>\n",
       "      <td>2022-03-04 19:39:23.652260</td>\n",
       "      <td>0 days 00:04:09.864747</td>\n",
       "      <td>1.032770e-07</td>\n",
       "      <td>0.019485</td>\n",
       "      <td>20</td>\n",
       "      <td>256</td>\n",
       "      <td>14</td>\n",
       "      <td>7.316157e-08</td>\n",
       "      <td>COMPLETE</td>\n",
       "    </tr>\n",
       "    <tr>\n",
       "      <th>15</th>\n",
       "      <td>15</td>\n",
       "      <td>0.008788</td>\n",
       "      <td>2022-03-04 21:06:29.439981</td>\n",
       "      <td>2022-03-04 21:11:05.597624</td>\n",
       "      <td>0 days 00:04:36.157643</td>\n",
       "      <td>2.031559e-09</td>\n",
       "      <td>0.049469</td>\n",
       "      <td>13</td>\n",
       "      <td>768</td>\n",
       "      <td>7</td>\n",
       "      <td>3.019533e-11</td>\n",
       "      <td>COMPLETE</td>\n",
       "    </tr>\n",
       "    <tr>\n",
       "      <th>10</th>\n",
       "      <td>10</td>\n",
       "      <td>0.008746</td>\n",
       "      <td>2022-03-04 20:06:09.759853</td>\n",
       "      <td>2022-03-04 20:11:20.498218</td>\n",
       "      <td>0 days 00:05:10.738365</td>\n",
       "      <td>9.465437e-11</td>\n",
       "      <td>0.030269</td>\n",
       "      <td>17</td>\n",
       "      <td>1024</td>\n",
       "      <td>7</td>\n",
       "      <td>1.472826e-09</td>\n",
       "      <td>COMPLETE</td>\n",
       "    </tr>\n",
       "    <tr>\n",
       "      <th>2</th>\n",
       "      <td>2</td>\n",
       "      <td>0.005104</td>\n",
       "      <td>2022-03-04 19:09:32.393115</td>\n",
       "      <td>2022-03-04 19:13:57.085222</td>\n",
       "      <td>0 days 00:04:24.692107</td>\n",
       "      <td>7.447908e-10</td>\n",
       "      <td>0.006012</td>\n",
       "      <td>19</td>\n",
       "      <td>128</td>\n",
       "      <td>21</td>\n",
       "      <td>2.190846e-08</td>\n",
       "      <td>COMPLETE</td>\n",
       "    </tr>\n",
       "  </tbody>\n",
       "</table>\n",
       "</div>"
      ],
      "text/plain": [
       "    number     value             datetime_start          datetime_complete  \\\n",
       "16      16  0.013132 2022-03-04 21:11:05.598831 2022-03-04 21:28:15.149825   \n",
       "1        1  0.012845 2022-03-04 18:54:39.797119 2022-03-04 19:09:32.392005   \n",
       "18      18  0.012711 2022-03-04 21:42:33.245008 2022-03-04 21:59:59.621193   \n",
       "11      11  0.012666 2022-03-04 20:11:20.499422 2022-03-04 20:26:36.528212   \n",
       "13      13  0.012572 2022-03-04 20:38:31.685981 2022-03-04 20:55:49.120267   \n",
       "17      17  0.012455 2022-03-04 21:28:15.150985 2022-03-04 21:42:33.243713   \n",
       "12      12  0.012442 2022-03-04 20:26:36.529609 2022-03-04 20:38:31.684754   \n",
       "9        9  0.012393 2022-03-04 19:52:18.231092 2022-03-04 20:06:09.758676   \n",
       "14      14  0.011891 2022-03-04 20:55:49.121503 2022-03-04 21:06:29.438814   \n",
       "0        0  0.011434 2022-03-04 18:45:37.377221 2022-03-04 18:54:39.795831   \n",
       "3        3  0.011412 2022-03-04 19:13:57.086466 2022-03-04 19:23:54.963414   \n",
       "4        4  0.010542 2022-03-04 19:23:54.964665 2022-03-04 19:29:06.614531   \n",
       "8        8  0.010301 2022-03-04 19:47:02.456800 2022-03-04 19:52:18.229874   \n",
       "5        5  0.009915 2022-03-04 19:29:06.615725 2022-03-04 19:35:13.786311   \n",
       "7        7  0.009858 2022-03-04 19:39:23.653520 2022-03-04 19:47:02.455392   \n",
       "6        6  0.009379 2022-03-04 19:35:13.787513 2022-03-04 19:39:23.652260   \n",
       "15      15  0.008788 2022-03-04 21:06:29.439981 2022-03-04 21:11:05.597624   \n",
       "10      10  0.008746 2022-03-04 20:06:09.759853 2022-03-04 20:11:20.498218   \n",
       "2        2  0.005104 2022-03-04 19:09:32.393115 2022-03-04 19:13:57.085222   \n",
       "\n",
       "                 duration  params_item_alpha  params_learning_rate  \\\n",
       "16 0 days 00:17:09.550994       2.548399e-10              0.035097   \n",
       "1  0 days 00:14:52.594886       1.573121e-12              0.013068   \n",
       "18 0 days 00:17:26.376185       2.142566e-10              0.008054   \n",
       "11 0 days 00:15:16.028790       2.446532e-08              0.025371   \n",
       "13 0 days 00:17:17.434286       3.863379e-08              0.008951   \n",
       "17 0 days 00:14:18.092728       1.883295e-11              0.038333   \n",
       "12 0 days 00:11:55.155145       9.381584e-11              0.031417   \n",
       "9  0 days 00:13:51.527584       1.433060e-08              0.022381   \n",
       "14 0 days 00:10:40.317311       2.793393e-07              0.024338   \n",
       "0  0 days 00:09:02.418610       1.424971e-12              0.044384   \n",
       "3  0 days 00:09:57.876948       1.632272e-11              0.015393   \n",
       "4  0 days 00:05:11.649866       6.704054e-09              0.006157   \n",
       "8  0 days 00:05:15.773074       3.048865e-12              0.014711   \n",
       "5  0 days 00:06:07.170586       1.350488e-09              0.010111   \n",
       "7  0 days 00:07:38.801872       7.863766e-07              0.011849   \n",
       "6  0 days 00:04:09.864747       1.032770e-07              0.019485   \n",
       "15 0 days 00:04:36.157643       2.031559e-09              0.049469   \n",
       "10 0 days 00:05:10.738365       9.465437e-11              0.030269   \n",
       "2  0 days 00:04:24.692107       7.447908e-10              0.006012   \n",
       "\n",
       "    params_max_sampled  params_no_components  params_train_days  \\\n",
       "16                  16                  1024                 28   \n",
       "1                   19                   768                 28   \n",
       "18                  17                   896                 28   \n",
       "11                  15                   768                 28   \n",
       "13                  14                   896                 28   \n",
       "17                  20                  1024                 21   \n",
       "12                  16                   768                 21   \n",
       "9                   14                   640                 28   \n",
       "14                  17                   640                 21   \n",
       "0                   12                   384                 28   \n",
       "3                   10                   384                 28   \n",
       "4                   12                   384                 14   \n",
       "8                   18                   384                 14   \n",
       "5                   19                   256                 21   \n",
       "7                   15                   256                 28   \n",
       "6                   20                   256                 14   \n",
       "15                  13                   768                  7   \n",
       "10                  17                  1024                  7   \n",
       "2                   19                   128                 21   \n",
       "\n",
       "    params_user_alpha     state  \n",
       "16       8.409131e-07  COMPLETE  \n",
       "1        2.933507e-08  COMPLETE  \n",
       "18       2.483084e-07  COMPLETE  \n",
       "11       2.909309e-11  COMPLETE  \n",
       "13       3.462294e-10  COMPLETE  \n",
       "17       9.250226e-07  COMPLETE  \n",
       "12       1.168503e-12  COMPLETE  \n",
       "9        4.305588e-11  COMPLETE  \n",
       "14       2.645919e-09  COMPLETE  \n",
       "0        7.225128e-09  COMPLETE  \n",
       "3        1.520612e-10  COMPLETE  \n",
       "4        8.410488e-07  COMPLETE  \n",
       "8        7.881353e-08  COMPLETE  \n",
       "5        5.116894e-08  COMPLETE  \n",
       "7        6.107013e-12  COMPLETE  \n",
       "6        7.316157e-08  COMPLETE  \n",
       "15       3.019533e-11  COMPLETE  \n",
       "10       1.472826e-09  COMPLETE  \n",
       "2        2.190846e-08  COMPLETE  "
      ]
     },
     "execution_count": 22,
     "metadata": {},
     "output_type": "execute_result"
    }
   ],
   "source": [
    "study.trials_dataframe().sort_values(by='value', ascending=False).head(20)"
   ]
  },
  {
   "cell_type": "markdown",
   "metadata": {},
   "source": [
    "この実験では特徴いれないほうがよい"
   ]
  },
  {
   "cell_type": "markdown",
   "metadata": {},
   "source": []
  }
 ],
 "metadata": {
  "interpreter": {
   "hash": "c89b5301ada1d96cd3523f144e4a3cd3ad36f6698a61e6b8277fb627756a86c6"
  },
  "kernelspec": {
   "display_name": "Python 3.9.10 64-bit ('3.9.10')",
   "language": "python",
   "name": "python3"
  },
  "language_info": {
   "codemirror_mode": {
    "name": "ipython",
    "version": 3
   },
   "file_extension": ".py",
   "mimetype": "text/x-python",
   "name": "python",
   "nbconvert_exporter": "python",
   "pygments_lexer": "ipython3",
   "version": "3.9.7"
  },
  "orig_nbformat": 4
 },
 "nbformat": 4,
 "nbformat_minor": 2
}
