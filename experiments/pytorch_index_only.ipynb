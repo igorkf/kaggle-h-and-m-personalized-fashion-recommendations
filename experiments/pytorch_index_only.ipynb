{
 "cells": [
  {
   "cell_type": "code",
   "execution_count": 1,
   "metadata": {},
   "outputs": [],
   "source": [
    "import torch\n",
    "from torch.utils.data import Dataset, DataLoader, TensorDataset\n",
    "from scipy import sparse\n",
    "import numpy as np\n",
    "from torch import nn\n",
    "from torch.nn import functional as F\n",
    "import faiss\n",
    "from metric import mapk\n",
    "import pandas as pd\n",
    "import schema\n",
    "from utils import extract_transactions_train, extract_transactions_valid\n",
    "import datetime\n",
    "from logzero import logger"
   ]
  },
  {
   "cell_type": "code",
   "execution_count": 2,
   "metadata": {},
   "outputs": [],
   "source": [
    "class BPRDataset(Dataset):\n",
    "    def __init__(self, n_user: int, n_item: int, transactions: np.ndarray):\n",
    "        \"\"\"\n",
    "        Parameters\n",
    "        ----------\n",
    "        n_user\n",
    "            number of users\n",
    "        n_item\n",
    "            number of items\n",
    "        transactions\n",
    "            (n_transactions, 2) 2d array\n",
    "        \"\"\"\n",
    "        self.n_user = n_user\n",
    "        self.n_item = n_item\n",
    "        self.transactions = transactions\n",
    "        self.transactions_matrix = sparse.lil_matrix((self.n_user, self.n_item), dtype='int')\n",
    "        self.transactions_matrix[transactions[:,0], transactions[:,1]] = 1\n",
    "\n",
    "    def __len__(self):\n",
    "        return len(self.transactions)\n",
    "\n",
    "    def __getitem__(self, idx):\n",
    "        user, pos_item = self.transactions[idx]\n",
    "        while True:\n",
    "            neg_item = np.random.randint(0, self.n_item)\n",
    "            if self.transactions_matrix[user, neg_item] == 0:\n",
    "                break\n",
    "        return torch.tensor(user), torch.tensor(pos_item), torch.tensor(neg_item)"
   ]
  },
  {
   "cell_type": "code",
   "execution_count": 3,
   "metadata": {},
   "outputs": [],
   "source": [
    "class BPRModel(nn.Module):\n",
    "    def __init__(self, n_user: int, n_item: int, embedding_dim: int):\n",
    "        super(BPRModel, self).__init__()\n",
    "        self.n_user = n_user\n",
    "        self.n_item = n_item\n",
    "\n",
    "        self.embedding_dim = embedding_dim\n",
    "\n",
    "        self.user_embedding = nn.Embedding(self.n_user, embedding_dim)\n",
    "        self.item_embedding = nn.Embedding(self.n_item, embedding_dim)\n",
    "\n",
    "    def forward(self, users, pos_items, neg_items):\n",
    "        x_users = self.forward_user(users)\n",
    "        x_pos_items = self.forward_item(pos_items)\n",
    "        x_neg_items = self.forward_item(neg_items)\n",
    "\n",
    "        pos = (x_users * x_pos_items).sum(dim=1)\n",
    "        neg = (x_users * x_neg_items).sum(dim=1)\n",
    "        return pos, neg\n",
    "\n",
    "    def forward_user(self, users):\n",
    "        return self.user_embedding(users)\n",
    "\n",
    "    def forward_item(self, items):\n",
    "        return self.item_embedding(items)"
   ]
  },
  {
   "cell_type": "code",
   "execution_count": 4,
   "metadata": {},
   "outputs": [],
   "source": [
    "transactions = pd.read_pickle('input/transformed/transactions_train.pkl')[schema.TRANSACTIONS]\n",
    "articles = pd.read_pickle('input/transformed/articles.pkl')[schema.ARTICLES]\n",
    "customers = pd.read_pickle('input/transformed/customers.pkl')[schema.CUSTOMERS]"
   ]
  },
  {
   "cell_type": "code",
   "execution_count": 5,
   "metadata": {},
   "outputs": [],
   "source": [
    "tmp = datetime.date(2020, 9, 16) - datetime.timedelta(days=21)\n",
    "transactions = transactions.query(\"t_dat >= @tmp\")\n",
    "\n",
    "users = sorted(transactions.customer_id_idx.unique())\n",
    "items = sorted(transactions.article_id_idx.unique())\n",
    "mp_user = {x: i for i, x in enumerate(users)}\n",
    "mp_item = {x: i for i, x in enumerate(items)}\n",
    "transactions.customer_id_idx = transactions.customer_id_idx.apply(lambda x: mp_user[x])\n",
    "transactions.article_id_idx = transactions.article_id_idx.apply(lambda x: mp_item[x])\n",
    "\n",
    "customers = customers.query(\"customer_id_idx in @users\").reset_index(drop=True)\n",
    "articles = articles.query(\"article_id_idx in @items\").reset_index(drop=True)\n",
    "\n",
    "customers.customer_id_idx = customers.customer_id_idx.apply(lambda x: mp_user[x])\n",
    "articles.article_id_idx = articles.article_id_idx.apply(lambda x: mp_item[x])\n",
    "\n",
    "n_user = len(users)\n",
    "n_item = len(items)"
   ]
  },
  {
   "cell_type": "code",
   "execution_count": 6,
   "metadata": {},
   "outputs": [
    {
     "name": "stderr",
     "output_type": "stream",
     "text": [
      "[I 220307 13:41:56 utils:14] valid: [2020-09-16, 2020-09-23)\n",
      "[I 220307 13:41:56 utils:16] # of records: 240311\n",
      "[I 220307 13:41:56 utils:27] train: [2020-08-26, 2020-09-16)\n",
      "[I 220307 13:41:56 utils:29] # of records: 803079\n"
     ]
    }
   ],
   "source": [
    "\n",
    "transactions_valid = extract_transactions_valid(transactions, datetime.date(2020, 9, 16))\n",
    "transactions_train = extract_transactions_train(transactions, datetime.date(2020, 9, 16), 21)"
   ]
  },
  {
   "cell_type": "code",
   "execution_count": 7,
   "metadata": {},
   "outputs": [],
   "source": [
    "val = transactions_valid.groupby('customer_id_idx')['article_id_idx'].apply(list).reset_index()"
   ]
  },
  {
   "cell_type": "code",
   "execution_count": 8,
   "metadata": {},
   "outputs": [],
   "source": [
    "dataset = BPRDataset(n_user, n_item, transactions_train[['customer_id_idx', 'article_id_idx']].values)\n",
    "model = BPRModel(n_user, n_item, 128).cuda()"
   ]
  },
  {
   "cell_type": "code",
   "execution_count": 9,
   "metadata": {},
   "outputs": [],
   "source": [
    "def calc_user_representations(model):\n",
    "    users = torch.from_numpy(np.arange(model.n_user))\n",
    "    user_dataset = TensorDataset(users)\n",
    "    user_loader = DataLoader(user_dataset, batch_size=256, shuffle=False)\n",
    "    representations = []\n",
    "    for x in user_loader:\n",
    "        x = x[0].cuda()\n",
    "        representations.append(model.forward_user(x).cpu().detach().numpy())\n",
    "    return np.vstack(representations)\n",
    "\n",
    "\n",
    "def calc_item_representations(model):\n",
    "    items = torch.from_numpy(np.arange(model.n_item))\n",
    "    item_dataset = TensorDataset(items)\n",
    "    item_loader = DataLoader(item_dataset, batch_size=256, shuffle=False)\n",
    "    representations = []\n",
    "    for x in item_loader:\n",
    "        x = x[0].cuda()\n",
    "        representations.append(model.forward_item(x).cpu().detach().numpy())\n",
    "    return np.vstack(representations)\n"
   ]
  },
  {
   "cell_type": "code",
   "execution_count": 10,
   "metadata": {},
   "outputs": [
    {
     "name": "stderr",
     "output_type": "stream",
     "text": [
      "[I 220307 13:43:07 3238338069:33] loss: 6.20738950146586, map: 8.841319609637867e-05\n",
      "[I 220307 13:44:17 3238338069:33] loss: 4.937219098528594, map: 8.59528006454416e-05\n",
      "[I 220307 13:45:26 3238338069:33] loss: 3.9870531508069074, map: 9.182804280218174e-05\n",
      "[I 220307 13:46:34 3238338069:33] loss: 3.2497269384299337, map: 9.368210615304804e-05\n",
      "[I 220307 13:47:43 3238338069:33] loss: 2.6611531829811184, map: 0.0001014235435985407\n",
      "[I 220307 13:48:49 3238338069:33] loss: 2.187795760983451, map: 9.696115095555545e-05\n",
      "[I 220307 13:49:53 3238338069:33] loss: 1.8236980932531062, map: 0.00012735965634981557\n",
      "[I 220307 13:50:57 3238338069:33] loss: 1.508634222443977, map: 0.00015151952995847435\n",
      "[I 220307 13:52:01 3238338069:33] loss: 1.2487400842246867, map: 0.00018393238183052048\n",
      "[I 220307 13:53:05 3238338069:33] loss: 1.0283187861973822, map: 0.0002211758454885743\n",
      "[I 220307 13:54:09 3238338069:33] loss: 0.8594680130030458, map: 0.00029535055204050906\n",
      "[I 220307 13:55:15 3238338069:33] loss: 0.705881603158343, map: 0.0003657488307858408\n",
      "[I 220307 13:56:19 3238338069:33] loss: 0.5845242409385292, map: 0.00041789594031004044\n",
      "[I 220307 13:57:25 3238338069:33] loss: 0.4851680821930627, map: 0.0005074455614850075\n",
      "[I 220307 13:58:31 3238338069:33] loss: 0.40469556087913017, map: 0.0005944557787087352\n",
      "[I 220307 13:59:38 3238338069:33] loss: 0.34354062857041606, map: 0.0007142602428003007\n",
      "[I 220307 14:00:46 3238338069:33] loss: 0.29175815640574343, map: 0.0008097121282182341\n",
      "[I 220307 14:01:54 3238338069:33] loss: 0.24625419546007768, map: 0.0009202761334831187\n",
      "[I 220307 14:03:03 3238338069:33] loss: 0.21089127706668104, map: 0.0010141820882655745\n",
      "[I 220307 14:04:12 3238338069:33] loss: 0.18312569254831387, map: 0.0011046914451666723\n",
      "[I 220307 14:05:16 3238338069:33] loss: 0.161071114223691, map: 0.0012058755145212736\n",
      "[I 220307 14:06:19 3238338069:33] loss: 0.1422584054381466, map: 0.0012773392503759584\n",
      "[I 220307 14:07:22 3238338069:33] loss: 0.12542988060309207, map: 0.0013183630992656236\n",
      "[I 220307 14:08:25 3238338069:33] loss: 0.1101478808738593, map: 0.001328769865076421\n",
      "[I 220307 14:09:31 3238338069:33] loss: 0.10273441338155964, map: 0.0013821319848596218\n",
      "[I 220307 14:10:39 3238338069:33] loss: 0.09115294635468853, map: 0.0013998054427743984\n",
      "[I 220307 14:11:45 3238338069:33] loss: 0.08445881945667522, map: 0.0014440456744640665\n",
      "[I 220307 14:12:49 3238338069:33] loss: 0.077200237792917, map: 0.0014798548695539302\n",
      "[I 220307 14:13:51 3238338069:33] loss: 0.07140640112754047, map: 0.0014976174220148323\n",
      "[I 220307 14:14:55 3238338069:33] loss: 0.06489476160834698, map: 0.001543104162875921\n",
      "[I 220307 14:16:02 3238338069:33] loss: 0.06143201958569208, map: 0.0015753996215908015\n",
      "[I 220307 14:17:11 3238338069:33] loss: 0.05782684605459521, map: 0.001629979148232173\n",
      "[I 220307 14:18:20 3238338069:33] loss: 0.05403850352839544, map: 0.001616205247691075\n",
      "[I 220307 14:19:30 3238338069:33] loss: 0.05052102151180226, map: 0.0016431977974932378\n",
      "[I 220307 14:20:41 3238338069:33] loss: 0.04695434365941569, map: 0.0016495816004573414\n",
      "[I 220307 14:21:46 3238338069:33] loss: 0.043889509717641204, map: 0.0016678536160182073\n",
      "[I 220307 14:22:52 3238338069:33] loss: 0.04193970539097336, map: 0.001708474902936631\n",
      "[I 220307 14:23:58 3238338069:33] loss: 0.040537687311490406, map: 0.0016792789265524175\n",
      "[I 220307 14:25:03 3238338069:33] loss: 0.03817797768384476, map: 0.0017083999669966496\n",
      "[I 220307 14:26:10 3238338069:33] loss: 0.0377583584698116, map: 0.0017463800972493762\n",
      "[I 220307 14:27:22 3238338069:33] loss: 0.035004080436357055, map: 0.0017513522517442195\n",
      "[I 220307 14:28:34 3238338069:33] loss: 0.034664735538355515, map: 0.0017695106794992338\n",
      "[I 220307 14:29:45 3238338069:33] loss: 0.032771250222615116, map: 0.0017520258839529795\n",
      "[I 220307 14:30:54 3238338069:33] loss: 0.03133450359933514, map: 0.0017513956435703704\n",
      "[I 220307 14:32:03 3238338069:33] loss: 0.030017298219564326, map: 0.001762022616278558\n",
      "[I 220307 14:33:12 3238338069:33] loss: 0.029232679372937533, map: 0.0017918939157363209\n",
      "[I 220307 14:34:16 3238338069:33] loss: 0.02784475996896684, map: 0.001789067385576362\n",
      "[I 220307 14:35:20 3238338069:33] loss: 0.02682134031061075, map: 0.0017821846809275446\n",
      "[I 220307 14:36:24 3238338069:33] loss: 0.027074618003980127, map: 0.0018110004284972692\n",
      "[I 220307 14:37:29 3238338069:33] loss: 0.02537147830342422, map: 0.001851755658344946\n",
      "[I 220307 14:38:34 3238338069:33] loss: 0.024973569481603713, map: 0.0018382145922133549\n",
      "[I 220307 14:39:40 3238338069:33] loss: 0.02339411827354794, map: 0.0018151612346493644\n",
      "[I 220307 14:40:46 3238338069:33] loss: 0.023161729275732828, map: 0.001816823924528067\n",
      "[I 220307 14:41:51 3238338069:33] loss: 0.023077453892314644, map: 0.0018246557803399644\n",
      "[I 220307 14:42:58 3238338069:33] loss: 0.021947518804103575, map: 0.0018278486339757716\n",
      "[I 220307 14:44:03 3238338069:33] loss: 0.021162278928793722, map: 0.0018309380189036673\n",
      "[I 220307 14:45:09 3238338069:33] loss: 0.021440538910123447, map: 0.0018598783271103374\n",
      "[I 220307 14:46:16 3238338069:33] loss: 0.01993487125021002, map: 0.0018440263306705375\n",
      "[I 220307 14:47:20 3238338069:33] loss: 0.020734105634011454, map: 0.0018407354796972386\n",
      "[I 220307 14:48:26 3238338069:33] loss: 0.020233649706751605, map: 0.0018443130135809486\n",
      "[I 220307 14:49:32 3238338069:33] loss: 0.018811337828669294, map: 0.0018911780264613176\n",
      "[I 220307 14:50:37 3238338069:33] loss: 0.0196331924231441, map: 0.001876572635915657\n",
      "[I 220307 14:51:43 3238338069:33] loss: 0.019305323738006974, map: 0.0018772544738217402\n",
      "[I 220307 14:52:48 3238338069:33] loss: 0.018306525873170783, map: 0.0019255513350139662\n",
      "[I 220307 14:53:53 3238338069:33] loss: 0.017763203786426582, map: 0.0019050637428412807\n",
      "[I 220307 14:55:02 3238338069:33] loss: 0.017594976208061653, map: 0.0018992133263519694\n",
      "[I 220307 14:56:11 3238338069:33] loss: 0.017200731840382455, map: 0.0019251734322610523\n",
      "[I 220307 14:57:22 3238338069:33] loss: 0.016949640739970614, map: 0.0019619130898436035\n",
      "[I 220307 14:58:32 3238338069:33] loss: 0.01691234731606829, map: 0.0019481017009390562\n",
      "[I 220307 14:59:43 3238338069:33] loss: 0.016282973920351294, map: 0.0019832919051002294\n",
      "[I 220307 15:00:55 3238338069:33] loss: 0.01579183674496014, map: 0.0019984778601498045\n",
      "[I 220307 15:02:02 3238338069:33] loss: 0.016313398635837514, map: 0.00200742998155484\n",
      "[I 220307 15:03:12 3238338069:33] loss: 0.015961763982497504, map: 0.0020253070021360453\n",
      "[I 220307 15:04:18 3238338069:33] loss: 0.014894142463034573, map: 0.0020171873365855807\n",
      "[I 220307 15:05:23 3238338069:33] loss: 0.014810018067553148, map: 0.0020077511001676536\n",
      "[I 220307 15:06:30 3238338069:33] loss: 0.014097659758090726, map: 0.0019862798617413216\n",
      "[I 220307 15:07:36 3238338069:33] loss: 0.01484664177928621, map: 0.0019785706024179257\n",
      "[I 220307 15:08:42 3238338069:33] loss: 0.014499482841057667, map: 0.00200465836654343\n",
      "[I 220307 15:09:49 3238338069:33] loss: 0.013962996377742459, map: 0.0020156078323382114\n",
      "[I 220307 15:10:54 3238338069:33] loss: 0.014477835419387436, map: 0.0020088293688396096\n",
      "[I 220307 15:12:02 3238338069:33] loss: 0.013117392127341164, map: 0.0020077869358120773\n",
      "[I 220307 15:13:08 3238338069:33] loss: 0.014155477995329345, map: 0.002009498681766826\n",
      "[I 220307 15:14:13 3238338069:33] loss: 0.012488802225934946, map: 0.0020452188227956343\n",
      "[I 220307 15:15:21 3238338069:33] loss: 0.013660759957114839, map: 0.0020488359932417212\n",
      "[I 220307 15:16:26 3238338069:33] loss: 0.013323356949685571, map: 0.0020703826141700516\n",
      "[I 220307 15:17:33 3238338069:33] loss: 0.014151434533275147, map: 0.0020783802992049927\n"
     ]
    },
    {
     "ename": "KeyboardInterrupt",
     "evalue": "",
     "output_type": "error",
     "traceback": [
      "\u001b[0;31m---------------------------------------------------------------------------\u001b[0m",
      "\u001b[0;31mKeyboardInterrupt\u001b[0m                         Traceback (most recent call last)",
      "\u001b[1;32m/home/wakatsuki/kaggle/h-and-m-personalized-fashion-recommendations/experiments/pytorch_index_only.ipynb Cell 10'\u001b[0m in \u001b[0;36m<cell line: 9>\u001b[0;34m()\u001b[0m\n\u001b[1;32m     <a href='vscode-notebook-cell:/home/wakatsuki/kaggle/h-and-m-personalized-fashion-recommendations/experiments/pytorch_index_only.ipynb#ch0000008?line=18'>19</a>\u001b[0m     loss\u001b[39m.\u001b[39mbackward()\n\u001b[1;32m     <a href='vscode-notebook-cell:/home/wakatsuki/kaggle/h-and-m-personalized-fashion-recommendations/experiments/pytorch_index_only.ipynb#ch0000008?line=19'>20</a>\u001b[0m     optimizer\u001b[39m.\u001b[39mstep()\n\u001b[0;32m---> <a href='vscode-notebook-cell:/home/wakatsuki/kaggle/h-and-m-personalized-fashion-recommendations/experiments/pytorch_index_only.ipynb#ch0000008?line=21'>22</a>\u001b[0m     losses\u001b[39m.\u001b[39mappend(loss\u001b[39m.\u001b[39;49mcpu()\u001b[39m.\u001b[39mdetach()\u001b[39m.\u001b[39mitem())\n\u001b[1;32m     <a href='vscode-notebook-cell:/home/wakatsuki/kaggle/h-and-m-personalized-fashion-recommendations/experiments/pytorch_index_only.ipynb#ch0000008?line=23'>24</a>\u001b[0m model\u001b[39m.\u001b[39meval()\n\u001b[1;32m     <a href='vscode-notebook-cell:/home/wakatsuki/kaggle/h-and-m-personalized-fashion-recommendations/experiments/pytorch_index_only.ipynb#ch0000008?line=24'>25</a>\u001b[0m user_representations \u001b[39m=\u001b[39m calc_user_representations(model)\n",
      "\u001b[0;31mKeyboardInterrupt\u001b[0m: "
     ]
    }
   ],
   "source": [
    "dataloader = DataLoader(dataset, batch_size=128, shuffle=True, drop_last=True, num_workers=4)\n",
    "\n",
    "model = model.cuda()\n",
    "optimizer = torch.optim.Adam(model.parameters(), lr=0.001)\n",
    "\n",
    "def loss_fn(pos_output, neg_output):\n",
    "    return -(pos_output - neg_output).sigmoid().log().mean()\n",
    "\n",
    "for _ in range(1000):\n",
    "    model.train()\n",
    "    losses = []\n",
    "    for users, items_pos, items_neg in dataloader:\n",
    "        users, items_pos, items_neg = users.cuda(), items_pos.cuda(), items_neg.cuda()\n",
    "\n",
    "        pos_output, neg_output = model(users, items_pos, items_neg)\n",
    "        loss = loss_fn(pos_output, neg_output)\n",
    "\n",
    "        optimizer.zero_grad()\n",
    "        loss.backward()\n",
    "        optimizer.step()\n",
    "\n",
    "        losses.append(loss.cpu().detach().item())\n",
    "\n",
    "    model.eval()\n",
    "    user_representations = calc_user_representations(model)\n",
    "    item_representations = calc_item_representations(model)\n",
    "\n",
    "    index = faiss.index_factory(model.embedding_dim, \"Flat\", faiss.METRIC_INNER_PRODUCT)\n",
    "    index = faiss.index_cpu_to_gpu(faiss.StandardGpuResources(), 0, index)\n",
    "    index.add(item_representations)\n",
    "    _, idxs = index.search(user_representations, 12)\n",
    "\n",
    "    logger.info(f\"loss: {np.mean(losses)}, map: {mapk(val.article_id_idx, idxs[val.customer_id_idx])}\")"
   ]
  },
  {
   "cell_type": "code",
   "execution_count": 15,
   "metadata": {},
   "outputs": [
    {
     "data": {
      "text/plain": [
       "-4.7970004"
      ]
     },
     "execution_count": 15,
     "metadata": {},
     "output_type": "execute_result"
    }
   ],
   "source": [
    "item_representations.min()"
   ]
  },
  {
   "cell_type": "code",
   "execution_count": null,
   "metadata": {},
   "outputs": [],
   "source": []
  }
 ],
 "metadata": {
  "interpreter": {
   "hash": "c89b5301ada1d96cd3523f144e4a3cd3ad36f6698a61e6b8277fb627756a86c6"
  },
  "kernelspec": {
   "display_name": "Python 3.9.10 64-bit ('3.9.10')",
   "language": "python",
   "name": "python3"
  },
  "language_info": {
   "codemirror_mode": {
    "name": "ipython",
    "version": 3
   },
   "file_extension": ".py",
   "mimetype": "text/x-python",
   "name": "python",
   "nbconvert_exporter": "python",
   "pygments_lexer": "ipython3",
   "version": "3.9.7"
  },
  "orig_nbformat": 4
 },
 "nbformat": 4,
 "nbformat_minor": 2
}
