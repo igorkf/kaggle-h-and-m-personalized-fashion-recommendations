{
 "cells": [
  {
   "cell_type": "markdown",
   "metadata": {},
   "source": [
    "# LightFM item features\n",
    "\n",
    "アイテムの特徴はまあまあ充実しているので、むしろアイテムのほうを特徴のみにする"
   ]
  },
  {
   "cell_type": "code",
   "execution_count": 1,
   "metadata": {},
   "outputs": [],
   "source": [
    "import datetime\n",
    "\n",
    "import faiss\n",
    "import matplotlib.pyplot as plt\n",
    "import numpy as np\n",
    "import optuna\n",
    "import pandas as pd\n",
    "import psutil\n",
    "from lightfm import LightFM\n",
    "\n",
    "import schema\n",
    "from metric import mapk\n",
    "from scipy import sparse\n",
    "from logzero import logger\n",
    "from utils import train_valid_split"
   ]
  },
  {
   "cell_type": "code",
   "execution_count": 2,
   "metadata": {},
   "outputs": [],
   "source": [
    "transactions = pd.read_pickle('input/transformed/transactions_train.pkl')[schema.TRANSACTIONS]\n",
    "articles = pd.read_pickle('input/transformed/articles.pkl')[schema.ARTICLES]\n",
    "TOPK = 12"
   ]
  },
  {
   "cell_type": "code",
   "execution_count": 3,
   "metadata": {},
   "outputs": [],
   "source": [
    "tmp = datetime.date(2020, 9, 16) - datetime.timedelta(days=21)\n",
    "transactions = transactions.query(\"t_dat >= @tmp\")\n",
    "\n",
    "users = sorted(transactions.customer_id_idx.unique())\n",
    "items = sorted(transactions.article_id_idx.unique())\n",
    "mp_user = {x: i for i, x in enumerate(users)}\n",
    "mp_item = {x: i for i, x in enumerate(items)}\n",
    "transactions.customer_id_idx = transactions.customer_id_idx.apply(lambda x: mp_user[x])\n",
    "transactions.article_id_idx = transactions.article_id_idx.apply(lambda x: mp_item[x])\n",
    "\n",
    "articles = articles.query(\"article_id_idx in @items\").reset_index(drop=True)\n",
    "articles.article_id_idx = articles.article_id_idx.apply(lambda x: mp_item[x])\n",
    "\n",
    "n_user = len(users)\n",
    "n_item = len(items)"
   ]
  },
  {
   "cell_type": "code",
   "execution_count": 6,
   "metadata": {},
   "outputs": [],
   "source": [
    "def create_article_features(articles):\n",
    "    df = articles.copy().drop('article_id_idx', axis=1)\n",
    "    for c in df.columns:\n",
    "        df = pd.concat([df, pd.get_dummies(df[c], prefix=c)], axis=1).drop(c, axis=1)\n",
    "\n",
    "    # idxs = sparse.identity(len(df), dtype='f')\n",
    "    # return sparse.hstack([idxs, df.values]).astype('float32')\n",
    "    return sparse.csr_matrix(df.values.astype('float32'))\n",
    "\n",
    "item_features = create_article_features(articles)"
   ]
  },
  {
   "cell_type": "code",
   "execution_count": 7,
   "metadata": {},
   "outputs": [
    {
     "name": "stderr",
     "output_type": "stream",
     "text": [
      "[I 220307 14:36:50 utils:27] train: [2020-08-26, 2020-09-16)\n",
      "[I 220307 14:36:50 utils:29] # of records: 803079\n",
      "[I 220307 14:36:50 utils:14] valid: [2020-09-16, 2020-09-23)\n",
      "[I 220307 14:36:50 utils:16] # of records: 240311\n"
     ]
    },
    {
     "name": "stdout",
     "output_type": "stream",
     "text": [
      "{'no_components': 1024, 'learning_schedule': 'adadelta', 'loss': 'bpr', 'learning_rate': 0.005, 'item_alpha': 1e-08, 'user_alpha': 1e-08, 'max_sampled': 10}\n"
     ]
    },
    {
     "name": "stderr",
     "output_type": "stream",
     "text": [
      "[I 220307 14:39:47 1626565973:42] epoch=0 mapk=0.0037638370612872152\n",
      "[I 220307 14:42:41 1626565973:42] epoch=1 mapk=0.004153410311430187\n",
      "[I 220307 14:45:36 1626565973:42] epoch=2 mapk=0.0043877802948470825\n",
      "[I 220307 14:48:33 1626565973:42] epoch=3 mapk=0.004463086877472533\n",
      "[I 220307 14:51:30 1626565973:42] epoch=4 mapk=0.0048273224444899615\n",
      "[I 220307 14:54:26 1626565973:42] epoch=5 mapk=0.00485026339037145\n",
      "[I 220307 14:57:21 1626565973:42] epoch=6 mapk=0.005007803279993207\n",
      "[I 220307 15:00:15 1626565973:42] epoch=7 mapk=0.004965568016337554\n",
      "[I 220307 15:03:10 1626565973:42] epoch=8 mapk=0.004943019242196364\n",
      "[I 220307 15:06:07 1626565973:42] epoch=9 mapk=0.004831250854418344\n",
      "[I 220307 15:09:02 1626565973:42] epoch=10 mapk=0.004975811977684479\n",
      "[I 220307 15:11:59 1626565973:42] epoch=11 mapk=0.0050763638851060175\n",
      "[I 220307 15:14:55 1626565973:42] epoch=12 mapk=0.005056837968565915\n",
      "[I 220307 15:17:51 1626565973:42] epoch=13 mapk=0.005106182659166273\n",
      "[I 220307 15:20:47 1626565973:42] epoch=14 mapk=0.0051584746978829595\n",
      "[I 220307 15:23:40 1626565973:42] epoch=15 mapk=0.005295307348867992\n",
      "[I 220307 15:26:33 1626565973:42] epoch=16 mapk=0.0053184853779029385\n",
      "[I 220307 15:29:27 1626565973:42] epoch=17 mapk=0.005309235594455364\n",
      "[I 220307 15:32:20 1626565973:42] epoch=18 mapk=0.0053722960198895634\n",
      "[I 220307 15:35:13 1626565973:42] epoch=19 mapk=0.0052667965614443596\n",
      "[I 220307 15:38:06 1626565973:42] epoch=20 mapk=0.005346831350890285\n",
      "[I 220307 15:40:59 1626565973:42] epoch=21 mapk=0.005423232879055734\n",
      "[I 220307 15:43:53 1626565973:42] epoch=22 mapk=0.005350468657546099\n",
      "[I 220307 15:46:46 1626565973:42] epoch=23 mapk=0.005422958841485207\n",
      "[I 220307 15:49:39 1626565973:42] epoch=24 mapk=0.005454923998701859\n",
      "[I 220307 15:52:31 1626565973:42] epoch=25 mapk=0.00549051494402486\n",
      "[I 220307 15:55:22 1626565973:42] epoch=26 mapk=0.0054697870015950854\n",
      "[I 220307 15:58:15 1626565973:42] epoch=27 mapk=0.005392867045075091\n"
     ]
    },
    {
     "ename": "KeyboardInterrupt",
     "evalue": "",
     "output_type": "error",
     "traceback": [
      "\u001b[0;31m---------------------------------------------------------------------------\u001b[0m",
      "\u001b[0;31mKeyboardInterrupt\u001b[0m                         Traceback (most recent call last)",
      "\u001b[1;32m/home/wakatsuki/kaggle/h-and-m-personalized-fashion-recommendations/experiments/lightfm_item_features.ipynb Cell 6'\u001b[0m in \u001b[0;36m<cell line: 30>\u001b[0;34m()\u001b[0m\n\u001b[1;32m     <a href='vscode-notebook-cell:/home/wakatsuki/kaggle/h-and-m-personalized-fashion-recommendations/experiments/lightfm_item_features.ipynb#ch0000005?line=27'>28</a>\u001b[0m model \u001b[39m=\u001b[39m LightFM(\u001b[39m*\u001b[39m\u001b[39m*\u001b[39mlightfm_params)\n\u001b[1;32m     <a href='vscode-notebook-cell:/home/wakatsuki/kaggle/h-and-m-personalized-fashion-recommendations/experiments/lightfm_item_features.ipynb#ch0000005?line=29'>30</a>\u001b[0m \u001b[39mfor\u001b[39;00m epoch \u001b[39min\u001b[39;00m \u001b[39mrange\u001b[39m(\u001b[39m10000\u001b[39m):\n\u001b[0;32m---> <a href='vscode-notebook-cell:/home/wakatsuki/kaggle/h-and-m-personalized-fashion-recommendations/experiments/lightfm_item_features.ipynb#ch0000005?line=30'>31</a>\u001b[0m     model\u001b[39m.\u001b[39;49mfit_partial(train, item_features\u001b[39m=\u001b[39;49mitem_features, epochs\u001b[39m=\u001b[39;49m\u001b[39m5\u001b[39;49m, num_threads\u001b[39m=\u001b[39;49mpsutil\u001b[39m.\u001b[39;49mcpu_count(logical\u001b[39m=\u001b[39;49m\u001b[39mFalse\u001b[39;49;00m), verbose\u001b[39m=\u001b[39;49m\u001b[39mFalse\u001b[39;49;00m)\n\u001b[1;32m     <a href='vscode-notebook-cell:/home/wakatsuki/kaggle/h-and-m-personalized-fashion-recommendations/experiments/lightfm_item_features.ipynb#ch0000005?line=32'>33</a>\u001b[0m     user_biases, user_representations \u001b[39m=\u001b[39m model\u001b[39m.\u001b[39mget_user_representations()\n\u001b[1;32m     <a href='vscode-notebook-cell:/home/wakatsuki/kaggle/h-and-m-personalized-fashion-recommendations/experiments/lightfm_item_features.ipynb#ch0000005?line=33'>34</a>\u001b[0m     item_biases, item_representations \u001b[39m=\u001b[39m model\u001b[39m.\u001b[39mget_item_representations(item_features)\n",
      "File \u001b[0;32m~/.pyenv/versions/miniforge3-4.10.3-10/lib/python3.9/site-packages/lightfm/lightfm.py:638\u001b[0m, in \u001b[0;36mLightFM.fit_partial\u001b[0;34m(self, interactions, user_features, item_features, sample_weight, epochs, num_threads, verbose)\u001b[0m\n\u001b[1;32m    <a href='file:///~/.pyenv/versions/miniforge3-4.10.3-10/lib/python3.9/site-packages/lightfm/lightfm.py?line=634'>635</a>\u001b[0m     \u001b[39mraise\u001b[39;00m \u001b[39mValueError\u001b[39;00m(\u001b[39m\"\u001b[39m\u001b[39mNumber of threads must be 1 or larger.\u001b[39m\u001b[39m\"\u001b[39m)\n\u001b[1;32m    <a href='file:///~/.pyenv/versions/miniforge3-4.10.3-10/lib/python3.9/site-packages/lightfm/lightfm.py?line=636'>637</a>\u001b[0m \u001b[39mfor\u001b[39;00m _ \u001b[39min\u001b[39;00m \u001b[39mself\u001b[39m\u001b[39m.\u001b[39m_progress(epochs, verbose\u001b[39m=\u001b[39mverbose):\n\u001b[0;32m--> <a href='file:///~/.pyenv/versions/miniforge3-4.10.3-10/lib/python3.9/site-packages/lightfm/lightfm.py?line=637'>638</a>\u001b[0m     \u001b[39mself\u001b[39;49m\u001b[39m.\u001b[39;49m_run_epoch(\n\u001b[1;32m    <a href='file:///~/.pyenv/versions/miniforge3-4.10.3-10/lib/python3.9/site-packages/lightfm/lightfm.py?line=638'>639</a>\u001b[0m         item_features,\n\u001b[1;32m    <a href='file:///~/.pyenv/versions/miniforge3-4.10.3-10/lib/python3.9/site-packages/lightfm/lightfm.py?line=639'>640</a>\u001b[0m         user_features,\n\u001b[1;32m    <a href='file:///~/.pyenv/versions/miniforge3-4.10.3-10/lib/python3.9/site-packages/lightfm/lightfm.py?line=640'>641</a>\u001b[0m         interactions,\n\u001b[1;32m    <a href='file:///~/.pyenv/versions/miniforge3-4.10.3-10/lib/python3.9/site-packages/lightfm/lightfm.py?line=641'>642</a>\u001b[0m         sample_weight_data,\n\u001b[1;32m    <a href='file:///~/.pyenv/versions/miniforge3-4.10.3-10/lib/python3.9/site-packages/lightfm/lightfm.py?line=642'>643</a>\u001b[0m         num_threads,\n\u001b[1;32m    <a href='file:///~/.pyenv/versions/miniforge3-4.10.3-10/lib/python3.9/site-packages/lightfm/lightfm.py?line=643'>644</a>\u001b[0m         \u001b[39mself\u001b[39;49m\u001b[39m.\u001b[39;49mloss,\n\u001b[1;32m    <a href='file:///~/.pyenv/versions/miniforge3-4.10.3-10/lib/python3.9/site-packages/lightfm/lightfm.py?line=644'>645</a>\u001b[0m     )\n\u001b[1;32m    <a href='file:///~/.pyenv/versions/miniforge3-4.10.3-10/lib/python3.9/site-packages/lightfm/lightfm.py?line=646'>647</a>\u001b[0m     \u001b[39mself\u001b[39m\u001b[39m.\u001b[39m_check_finite()\n\u001b[1;32m    <a href='file:///~/.pyenv/versions/miniforge3-4.10.3-10/lib/python3.9/site-packages/lightfm/lightfm.py?line=648'>649</a>\u001b[0m \u001b[39mreturn\u001b[39;00m \u001b[39mself\u001b[39m\n",
      "File \u001b[0;32m~/.pyenv/versions/miniforge3-4.10.3-10/lib/python3.9/site-packages/lightfm/lightfm.py:696\u001b[0m, in \u001b[0;36mLightFM._run_epoch\u001b[0;34m(self, item_features, user_features, interactions, sample_weight, num_threads, loss)\u001b[0m\n\u001b[1;32m    <a href='file:///~/.pyenv/versions/miniforge3-4.10.3-10/lib/python3.9/site-packages/lightfm/lightfm.py?line=678'>679</a>\u001b[0m     fit_warp(\n\u001b[1;32m    <a href='file:///~/.pyenv/versions/miniforge3-4.10.3-10/lib/python3.9/site-packages/lightfm/lightfm.py?line=679'>680</a>\u001b[0m         CSRMatrix(item_features),\n\u001b[1;32m    <a href='file:///~/.pyenv/versions/miniforge3-4.10.3-10/lib/python3.9/site-packages/lightfm/lightfm.py?line=680'>681</a>\u001b[0m         CSRMatrix(user_features),\n\u001b[0;32m   (...)\u001b[0m\n\u001b[1;32m    <a href='file:///~/.pyenv/versions/miniforge3-4.10.3-10/lib/python3.9/site-packages/lightfm/lightfm.py?line=692'>693</a>\u001b[0m         \u001b[39mself\u001b[39m\u001b[39m.\u001b[39mrandom_state,\n\u001b[1;32m    <a href='file:///~/.pyenv/versions/miniforge3-4.10.3-10/lib/python3.9/site-packages/lightfm/lightfm.py?line=693'>694</a>\u001b[0m     )\n\u001b[1;32m    <a href='file:///~/.pyenv/versions/miniforge3-4.10.3-10/lib/python3.9/site-packages/lightfm/lightfm.py?line=694'>695</a>\u001b[0m \u001b[39melif\u001b[39;00m loss \u001b[39m==\u001b[39m \u001b[39m\"\u001b[39m\u001b[39mbpr\u001b[39m\u001b[39m\"\u001b[39m:\n\u001b[0;32m--> <a href='file:///~/.pyenv/versions/miniforge3-4.10.3-10/lib/python3.9/site-packages/lightfm/lightfm.py?line=695'>696</a>\u001b[0m     fit_bpr(\n\u001b[1;32m    <a href='file:///~/.pyenv/versions/miniforge3-4.10.3-10/lib/python3.9/site-packages/lightfm/lightfm.py?line=696'>697</a>\u001b[0m         CSRMatrix(item_features),\n\u001b[1;32m    <a href='file:///~/.pyenv/versions/miniforge3-4.10.3-10/lib/python3.9/site-packages/lightfm/lightfm.py?line=697'>698</a>\u001b[0m         CSRMatrix(user_features),\n\u001b[1;32m    <a href='file:///~/.pyenv/versions/miniforge3-4.10.3-10/lib/python3.9/site-packages/lightfm/lightfm.py?line=698'>699</a>\u001b[0m         positives_lookup,\n\u001b[1;32m    <a href='file:///~/.pyenv/versions/miniforge3-4.10.3-10/lib/python3.9/site-packages/lightfm/lightfm.py?line=699'>700</a>\u001b[0m         interactions\u001b[39m.\u001b[39;49mrow,\n\u001b[1;32m    <a href='file:///~/.pyenv/versions/miniforge3-4.10.3-10/lib/python3.9/site-packages/lightfm/lightfm.py?line=700'>701</a>\u001b[0m         interactions\u001b[39m.\u001b[39;49mcol,\n\u001b[1;32m    <a href='file:///~/.pyenv/versions/miniforge3-4.10.3-10/lib/python3.9/site-packages/lightfm/lightfm.py?line=701'>702</a>\u001b[0m         interactions\u001b[39m.\u001b[39;49mdata,\n\u001b[1;32m    <a href='file:///~/.pyenv/versions/miniforge3-4.10.3-10/lib/python3.9/site-packages/lightfm/lightfm.py?line=702'>703</a>\u001b[0m         sample_weight,\n\u001b[1;32m    <a href='file:///~/.pyenv/versions/miniforge3-4.10.3-10/lib/python3.9/site-packages/lightfm/lightfm.py?line=703'>704</a>\u001b[0m         shuffle_indices,\n\u001b[1;32m    <a href='file:///~/.pyenv/versions/miniforge3-4.10.3-10/lib/python3.9/site-packages/lightfm/lightfm.py?line=704'>705</a>\u001b[0m         lightfm_data,\n\u001b[1;32m    <a href='file:///~/.pyenv/versions/miniforge3-4.10.3-10/lib/python3.9/site-packages/lightfm/lightfm.py?line=705'>706</a>\u001b[0m         \u001b[39mself\u001b[39;49m\u001b[39m.\u001b[39;49mlearning_rate,\n\u001b[1;32m    <a href='file:///~/.pyenv/versions/miniforge3-4.10.3-10/lib/python3.9/site-packages/lightfm/lightfm.py?line=706'>707</a>\u001b[0m         \u001b[39mself\u001b[39;49m\u001b[39m.\u001b[39;49mitem_alpha,\n\u001b[1;32m    <a href='file:///~/.pyenv/versions/miniforge3-4.10.3-10/lib/python3.9/site-packages/lightfm/lightfm.py?line=707'>708</a>\u001b[0m         \u001b[39mself\u001b[39;49m\u001b[39m.\u001b[39;49muser_alpha,\n\u001b[1;32m    <a href='file:///~/.pyenv/versions/miniforge3-4.10.3-10/lib/python3.9/site-packages/lightfm/lightfm.py?line=708'>709</a>\u001b[0m         num_threads,\n\u001b[1;32m    <a href='file:///~/.pyenv/versions/miniforge3-4.10.3-10/lib/python3.9/site-packages/lightfm/lightfm.py?line=709'>710</a>\u001b[0m         \u001b[39mself\u001b[39;49m\u001b[39m.\u001b[39;49mrandom_state,\n\u001b[1;32m    <a href='file:///~/.pyenv/versions/miniforge3-4.10.3-10/lib/python3.9/site-packages/lightfm/lightfm.py?line=710'>711</a>\u001b[0m     )\n\u001b[1;32m    <a href='file:///~/.pyenv/versions/miniforge3-4.10.3-10/lib/python3.9/site-packages/lightfm/lightfm.py?line=711'>712</a>\u001b[0m \u001b[39melif\u001b[39;00m loss \u001b[39m==\u001b[39m \u001b[39m\"\u001b[39m\u001b[39mwarp-kos\u001b[39m\u001b[39m\"\u001b[39m:\n\u001b[1;32m    <a href='file:///~/.pyenv/versions/miniforge3-4.10.3-10/lib/python3.9/site-packages/lightfm/lightfm.py?line=712'>713</a>\u001b[0m     fit_warp_kos(\n\u001b[1;32m    <a href='file:///~/.pyenv/versions/miniforge3-4.10.3-10/lib/python3.9/site-packages/lightfm/lightfm.py?line=713'>714</a>\u001b[0m         CSRMatrix(item_features),\n\u001b[1;32m    <a href='file:///~/.pyenv/versions/miniforge3-4.10.3-10/lib/python3.9/site-packages/lightfm/lightfm.py?line=714'>715</a>\u001b[0m         CSRMatrix(user_features),\n\u001b[0;32m   (...)\u001b[0m\n\u001b[1;32m    <a href='file:///~/.pyenv/versions/miniforge3-4.10.3-10/lib/python3.9/site-packages/lightfm/lightfm.py?line=725'>726</a>\u001b[0m         \u001b[39mself\u001b[39m\u001b[39m.\u001b[39mrandom_state,\n\u001b[1;32m    <a href='file:///~/.pyenv/versions/miniforge3-4.10.3-10/lib/python3.9/site-packages/lightfm/lightfm.py?line=726'>727</a>\u001b[0m     )\n",
      "\u001b[0;31mKeyboardInterrupt\u001b[0m: "
     ]
    }
   ],
   "source": [
    "train_days = 21\n",
    "no_components = 1024\n",
    "learning_schedule = 'adadelta'\n",
    "loss = 'bpr'\n",
    "learning_rate = 0.005\n",
    "item_alpha = 1e-8\n",
    "user_alpha = 1e-8\n",
    "max_sampled = 10\n",
    "\n",
    "lightfm_params = {\n",
    "    'no_components': no_components,\n",
    "    'learning_schedule': learning_schedule,\n",
    "    'loss': loss,\n",
    "    'learning_rate': learning_rate,\n",
    "    'item_alpha': item_alpha,\n",
    "    'user_alpha': user_alpha,\n",
    "    'max_sampled': max_sampled,\n",
    "}\n",
    "print(lightfm_params)\n",
    "\n",
    "transactions_train, transactions_valid = train_valid_split(transactions, datetime.date(2020, 9, 16), 21)\n",
    "\n",
    "val = transactions_valid.groupby('customer_id_idx')['article_id_idx'].apply(list).reset_index()\n",
    "\n",
    "train = sparse.lil_matrix((n_user, n_item))\n",
    "train[transactions_train.customer_id_idx, transactions_train.article_id_idx] = 1\n",
    "\n",
    "model = LightFM(**lightfm_params)\n",
    "\n",
    "for epoch in range(10000):\n",
    "    model.fit_partial(train, item_features=item_features, epochs=5, num_threads=psutil.cpu_count(logical=False), verbose=True)\n",
    "\n",
    "    user_biases, user_representations = model.get_user_representations()\n",
    "    item_biases, item_representations = model.get_item_representations(item_features)\n",
    "\n",
    "    index = faiss.index_factory(no_components, \"Flat\", faiss.METRIC_INNER_PRODUCT)\n",
    "    index = faiss.index_cpu_to_gpu(faiss.StandardGpuResources(), 0, index)\n",
    "    index.add(item_representations)\n",
    "    _, idxs = index.search(user_representations, TOPK)\n",
    "\n",
    "    mpk = mapk(val.article_id_idx, idxs[val.customer_id_idx])\n",
    "    logger.info(f\"epoch={epoch} mapk={mpk}\")"
   ]
  },
  {
   "cell_type": "code",
   "execution_count": 121,
   "metadata": {},
   "outputs": [
    {
     "name": "stderr",
     "output_type": "stream",
     "text": [
      "Epoch: 100%|██████████| 5/5 [02:54<00:00, 34.84s/it]\n",
      "[I 220307 18:32:03 1376685835:13] epoch=0 mapk=0.00541820576909706\n",
      "Epoch: 100%|██████████| 5/5 [02:52<00:00, 34.52s/it]\n",
      "[I 220307 18:34:58 1376685835:13] epoch=1 mapk=0.005416876391854967\n",
      "Epoch: 100%|██████████| 5/5 [02:54<00:00, 34.84s/it]\n",
      "[I 220307 18:37:55 1376685835:13] epoch=2 mapk=0.00544618636525363\n",
      "Epoch: 100%|██████████| 5/5 [02:50<00:00, 34.16s/it]\n",
      "[I 220307 18:40:48 1376685835:13] epoch=3 mapk=0.00536193505852078\n",
      "Epoch: 100%|██████████| 5/5 [02:52<00:00, 34.48s/it]\n",
      "[I 220307 18:43:43 1376685835:13] epoch=4 mapk=0.005372772496977109\n",
      "Epoch: 100%|██████████| 5/5 [02:50<00:00, 34.04s/it]\n",
      "[I 220307 18:46:36 1376685835:13] epoch=5 mapk=0.005397180134798609\n",
      "Epoch: 100%|██████████| 5/5 [02:52<00:00, 34.56s/it]\n",
      "[I 220307 18:49:31 1376685835:13] epoch=6 mapk=0.005581176302516792\n",
      "Epoch: 100%|██████████| 5/5 [02:51<00:00, 34.21s/it]\n",
      "[I 220307 18:52:25 1376685835:13] epoch=7 mapk=0.005497551585756469\n",
      "Epoch:   0%|          | 0/5 [00:34<?, ?it/s]\n"
     ]
    },
    {
     "ename": "KeyboardInterrupt",
     "evalue": "",
     "output_type": "error",
     "traceback": [
      "\u001b[0;31m---------------------------------------------------------------------------\u001b[0m",
      "\u001b[0;31mKeyboardInterrupt\u001b[0m                         Traceback (most recent call last)",
      "\u001b[1;32m/home/wakatsuki/kaggle/h-and-m-personalized-fashion-recommendations/experiments/lightfm_item_features.ipynb Cell 7'\u001b[0m in \u001b[0;36m<cell line: 1>\u001b[0;34m()\u001b[0m\n\u001b[1;32m      <a href='vscode-notebook-cell:/home/wakatsuki/kaggle/h-and-m-personalized-fashion-recommendations/experiments/lightfm_item_features.ipynb#ch0000026?line=0'>1</a>\u001b[0m \u001b[39mfor\u001b[39;00m epoch \u001b[39min\u001b[39;00m \u001b[39mrange\u001b[39m(\u001b[39m10000\u001b[39m):\n\u001b[0;32m----> <a href='vscode-notebook-cell:/home/wakatsuki/kaggle/h-and-m-personalized-fashion-recommendations/experiments/lightfm_item_features.ipynb#ch0000026?line=1'>2</a>\u001b[0m     model\u001b[39m.\u001b[39;49mfit_partial(train, item_features\u001b[39m=\u001b[39;49mitem_features, epochs\u001b[39m=\u001b[39;49m\u001b[39m5\u001b[39;49m, num_threads\u001b[39m=\u001b[39;49mpsutil\u001b[39m.\u001b[39;49mcpu_count(logical\u001b[39m=\u001b[39;49m\u001b[39mFalse\u001b[39;49;00m), verbose\u001b[39m=\u001b[39;49m\u001b[39mTrue\u001b[39;49;00m)\n\u001b[1;32m      <a href='vscode-notebook-cell:/home/wakatsuki/kaggle/h-and-m-personalized-fashion-recommendations/experiments/lightfm_item_features.ipynb#ch0000026?line=3'>4</a>\u001b[0m     user_biases, user_representations \u001b[39m=\u001b[39m model\u001b[39m.\u001b[39mget_user_representations()\n\u001b[1;32m      <a href='vscode-notebook-cell:/home/wakatsuki/kaggle/h-and-m-personalized-fashion-recommendations/experiments/lightfm_item_features.ipynb#ch0000026?line=4'>5</a>\u001b[0m     item_biases, item_representations \u001b[39m=\u001b[39m model\u001b[39m.\u001b[39mget_item_representations(item_features)\n",
      "File \u001b[0;32m~/.pyenv/versions/miniforge3-4.10.3-10/lib/python3.9/site-packages/lightfm/lightfm.py:638\u001b[0m, in \u001b[0;36mLightFM.fit_partial\u001b[0;34m(self, interactions, user_features, item_features, sample_weight, epochs, num_threads, verbose)\u001b[0m\n\u001b[1;32m    <a href='file:///~/.pyenv/versions/miniforge3-4.10.3-10/lib/python3.9/site-packages/lightfm/lightfm.py?line=634'>635</a>\u001b[0m     \u001b[39mraise\u001b[39;00m \u001b[39mValueError\u001b[39;00m(\u001b[39m\"\u001b[39m\u001b[39mNumber of threads must be 1 or larger.\u001b[39m\u001b[39m\"\u001b[39m)\n\u001b[1;32m    <a href='file:///~/.pyenv/versions/miniforge3-4.10.3-10/lib/python3.9/site-packages/lightfm/lightfm.py?line=636'>637</a>\u001b[0m \u001b[39mfor\u001b[39;00m _ \u001b[39min\u001b[39;00m \u001b[39mself\u001b[39m\u001b[39m.\u001b[39m_progress(epochs, verbose\u001b[39m=\u001b[39mverbose):\n\u001b[0;32m--> <a href='file:///~/.pyenv/versions/miniforge3-4.10.3-10/lib/python3.9/site-packages/lightfm/lightfm.py?line=637'>638</a>\u001b[0m     \u001b[39mself\u001b[39;49m\u001b[39m.\u001b[39;49m_run_epoch(\n\u001b[1;32m    <a href='file:///~/.pyenv/versions/miniforge3-4.10.3-10/lib/python3.9/site-packages/lightfm/lightfm.py?line=638'>639</a>\u001b[0m         item_features,\n\u001b[1;32m    <a href='file:///~/.pyenv/versions/miniforge3-4.10.3-10/lib/python3.9/site-packages/lightfm/lightfm.py?line=639'>640</a>\u001b[0m         user_features,\n\u001b[1;32m    <a href='file:///~/.pyenv/versions/miniforge3-4.10.3-10/lib/python3.9/site-packages/lightfm/lightfm.py?line=640'>641</a>\u001b[0m         interactions,\n\u001b[1;32m    <a href='file:///~/.pyenv/versions/miniforge3-4.10.3-10/lib/python3.9/site-packages/lightfm/lightfm.py?line=641'>642</a>\u001b[0m         sample_weight_data,\n\u001b[1;32m    <a href='file:///~/.pyenv/versions/miniforge3-4.10.3-10/lib/python3.9/site-packages/lightfm/lightfm.py?line=642'>643</a>\u001b[0m         num_threads,\n\u001b[1;32m    <a href='file:///~/.pyenv/versions/miniforge3-4.10.3-10/lib/python3.9/site-packages/lightfm/lightfm.py?line=643'>644</a>\u001b[0m         \u001b[39mself\u001b[39;49m\u001b[39m.\u001b[39;49mloss,\n\u001b[1;32m    <a href='file:///~/.pyenv/versions/miniforge3-4.10.3-10/lib/python3.9/site-packages/lightfm/lightfm.py?line=644'>645</a>\u001b[0m     )\n\u001b[1;32m    <a href='file:///~/.pyenv/versions/miniforge3-4.10.3-10/lib/python3.9/site-packages/lightfm/lightfm.py?line=646'>647</a>\u001b[0m     \u001b[39mself\u001b[39m\u001b[39m.\u001b[39m_check_finite()\n\u001b[1;32m    <a href='file:///~/.pyenv/versions/miniforge3-4.10.3-10/lib/python3.9/site-packages/lightfm/lightfm.py?line=648'>649</a>\u001b[0m \u001b[39mreturn\u001b[39;00m \u001b[39mself\u001b[39m\n",
      "File \u001b[0;32m~/.pyenv/versions/miniforge3-4.10.3-10/lib/python3.9/site-packages/lightfm/lightfm.py:696\u001b[0m, in \u001b[0;36mLightFM._run_epoch\u001b[0;34m(self, item_features, user_features, interactions, sample_weight, num_threads, loss)\u001b[0m\n\u001b[1;32m    <a href='file:///~/.pyenv/versions/miniforge3-4.10.3-10/lib/python3.9/site-packages/lightfm/lightfm.py?line=678'>679</a>\u001b[0m     fit_warp(\n\u001b[1;32m    <a href='file:///~/.pyenv/versions/miniforge3-4.10.3-10/lib/python3.9/site-packages/lightfm/lightfm.py?line=679'>680</a>\u001b[0m         CSRMatrix(item_features),\n\u001b[1;32m    <a href='file:///~/.pyenv/versions/miniforge3-4.10.3-10/lib/python3.9/site-packages/lightfm/lightfm.py?line=680'>681</a>\u001b[0m         CSRMatrix(user_features),\n\u001b[0;32m   (...)\u001b[0m\n\u001b[1;32m    <a href='file:///~/.pyenv/versions/miniforge3-4.10.3-10/lib/python3.9/site-packages/lightfm/lightfm.py?line=692'>693</a>\u001b[0m         \u001b[39mself\u001b[39m\u001b[39m.\u001b[39mrandom_state,\n\u001b[1;32m    <a href='file:///~/.pyenv/versions/miniforge3-4.10.3-10/lib/python3.9/site-packages/lightfm/lightfm.py?line=693'>694</a>\u001b[0m     )\n\u001b[1;32m    <a href='file:///~/.pyenv/versions/miniforge3-4.10.3-10/lib/python3.9/site-packages/lightfm/lightfm.py?line=694'>695</a>\u001b[0m \u001b[39melif\u001b[39;00m loss \u001b[39m==\u001b[39m \u001b[39m\"\u001b[39m\u001b[39mbpr\u001b[39m\u001b[39m\"\u001b[39m:\n\u001b[0;32m--> <a href='file:///~/.pyenv/versions/miniforge3-4.10.3-10/lib/python3.9/site-packages/lightfm/lightfm.py?line=695'>696</a>\u001b[0m     fit_bpr(\n\u001b[1;32m    <a href='file:///~/.pyenv/versions/miniforge3-4.10.3-10/lib/python3.9/site-packages/lightfm/lightfm.py?line=696'>697</a>\u001b[0m         CSRMatrix(item_features),\n\u001b[1;32m    <a href='file:///~/.pyenv/versions/miniforge3-4.10.3-10/lib/python3.9/site-packages/lightfm/lightfm.py?line=697'>698</a>\u001b[0m         CSRMatrix(user_features),\n\u001b[1;32m    <a href='file:///~/.pyenv/versions/miniforge3-4.10.3-10/lib/python3.9/site-packages/lightfm/lightfm.py?line=698'>699</a>\u001b[0m         positives_lookup,\n\u001b[1;32m    <a href='file:///~/.pyenv/versions/miniforge3-4.10.3-10/lib/python3.9/site-packages/lightfm/lightfm.py?line=699'>700</a>\u001b[0m         interactions\u001b[39m.\u001b[39;49mrow,\n\u001b[1;32m    <a href='file:///~/.pyenv/versions/miniforge3-4.10.3-10/lib/python3.9/site-packages/lightfm/lightfm.py?line=700'>701</a>\u001b[0m         interactions\u001b[39m.\u001b[39;49mcol,\n\u001b[1;32m    <a href='file:///~/.pyenv/versions/miniforge3-4.10.3-10/lib/python3.9/site-packages/lightfm/lightfm.py?line=701'>702</a>\u001b[0m         interactions\u001b[39m.\u001b[39;49mdata,\n\u001b[1;32m    <a href='file:///~/.pyenv/versions/miniforge3-4.10.3-10/lib/python3.9/site-packages/lightfm/lightfm.py?line=702'>703</a>\u001b[0m         sample_weight,\n\u001b[1;32m    <a href='file:///~/.pyenv/versions/miniforge3-4.10.3-10/lib/python3.9/site-packages/lightfm/lightfm.py?line=703'>704</a>\u001b[0m         shuffle_indices,\n\u001b[1;32m    <a href='file:///~/.pyenv/versions/miniforge3-4.10.3-10/lib/python3.9/site-packages/lightfm/lightfm.py?line=704'>705</a>\u001b[0m         lightfm_data,\n\u001b[1;32m    <a href='file:///~/.pyenv/versions/miniforge3-4.10.3-10/lib/python3.9/site-packages/lightfm/lightfm.py?line=705'>706</a>\u001b[0m         \u001b[39mself\u001b[39;49m\u001b[39m.\u001b[39;49mlearning_rate,\n\u001b[1;32m    <a href='file:///~/.pyenv/versions/miniforge3-4.10.3-10/lib/python3.9/site-packages/lightfm/lightfm.py?line=706'>707</a>\u001b[0m         \u001b[39mself\u001b[39;49m\u001b[39m.\u001b[39;49mitem_alpha,\n\u001b[1;32m    <a href='file:///~/.pyenv/versions/miniforge3-4.10.3-10/lib/python3.9/site-packages/lightfm/lightfm.py?line=707'>708</a>\u001b[0m         \u001b[39mself\u001b[39;49m\u001b[39m.\u001b[39;49muser_alpha,\n\u001b[1;32m    <a href='file:///~/.pyenv/versions/miniforge3-4.10.3-10/lib/python3.9/site-packages/lightfm/lightfm.py?line=708'>709</a>\u001b[0m         num_threads,\n\u001b[1;32m    <a href='file:///~/.pyenv/versions/miniforge3-4.10.3-10/lib/python3.9/site-packages/lightfm/lightfm.py?line=709'>710</a>\u001b[0m         \u001b[39mself\u001b[39;49m\u001b[39m.\u001b[39;49mrandom_state,\n\u001b[1;32m    <a href='file:///~/.pyenv/versions/miniforge3-4.10.3-10/lib/python3.9/site-packages/lightfm/lightfm.py?line=710'>711</a>\u001b[0m     )\n\u001b[1;32m    <a href='file:///~/.pyenv/versions/miniforge3-4.10.3-10/lib/python3.9/site-packages/lightfm/lightfm.py?line=711'>712</a>\u001b[0m \u001b[39melif\u001b[39;00m loss \u001b[39m==\u001b[39m \u001b[39m\"\u001b[39m\u001b[39mwarp-kos\u001b[39m\u001b[39m\"\u001b[39m:\n\u001b[1;32m    <a href='file:///~/.pyenv/versions/miniforge3-4.10.3-10/lib/python3.9/site-packages/lightfm/lightfm.py?line=712'>713</a>\u001b[0m     fit_warp_kos(\n\u001b[1;32m    <a href='file:///~/.pyenv/versions/miniforge3-4.10.3-10/lib/python3.9/site-packages/lightfm/lightfm.py?line=713'>714</a>\u001b[0m         CSRMatrix(item_features),\n\u001b[1;32m    <a href='file:///~/.pyenv/versions/miniforge3-4.10.3-10/lib/python3.9/site-packages/lightfm/lightfm.py?line=714'>715</a>\u001b[0m         CSRMatrix(user_features),\n\u001b[0;32m   (...)\u001b[0m\n\u001b[1;32m    <a href='file:///~/.pyenv/versions/miniforge3-4.10.3-10/lib/python3.9/site-packages/lightfm/lightfm.py?line=725'>726</a>\u001b[0m         \u001b[39mself\u001b[39m\u001b[39m.\u001b[39mrandom_state,\n\u001b[1;32m    <a href='file:///~/.pyenv/versions/miniforge3-4.10.3-10/lib/python3.9/site-packages/lightfm/lightfm.py?line=726'>727</a>\u001b[0m     )\n",
      "\u001b[0;31mKeyboardInterrupt\u001b[0m: "
     ]
    }
   ],
   "source": [
    "for epoch in range(10000):\n",
    "    model.fit_partial(train, item_features=item_features, epochs=5, num_threads=psutil.cpu_count(logical=False), verbose=True)\n",
    "\n",
    "    user_biases, user_representations = model.get_user_representations()\n",
    "    item_biases, item_representations = model.get_item_representations(item_features)\n",
    "\n",
    "    index = faiss.index_factory(no_components, \"Flat\", faiss.METRIC_INNER_PRODUCT)\n",
    "    index = faiss.index_cpu_to_gpu(faiss.StandardGpuResources(), 0, index)\n",
    "    index.add(item_representations)\n",
    "    _, idxs = index.search(user_representations, TOPK)\n",
    "\n",
    "    mpk = mapk(val.article_id_idx, idxs[val.customer_id_idx])\n",
    "    logger.info(f\"epoch={epoch} mapk={mpk}\")"
   ]
  },
  {
   "cell_type": "code",
   "execution_count": 122,
   "metadata": {},
   "outputs": [
    {
     "data": {
      "text/plain": [
       "0.005923731623614608"
      ]
     },
     "execution_count": 122,
     "metadata": {},
     "output_type": "execute_result"
    }
   ],
   "source": [
    "index = faiss.index_factory(no_components, \"Flat\", faiss.METRIC_INNER_PRODUCT)\n",
    "index = faiss.index_cpu_to_gpu(faiss.StandardGpuResources(), 0, index)\n",
    "index.add(item_representations)\n",
    "_, candidates = index.search(user_representations, 100)\n",
    "\n",
    "item_high_bias = np.argsort(model.item_biases)[::-1][:100]\n",
    "item_high_bias = np.array([item_high_bias] * n_user)\n",
    "candidates = np.hstack([candidates, item_high_bias])\n",
    "\n",
    "user_idxs = np.repeat(range(n_user), 100 + 100)\n",
    "\n",
    "result = model.predict(user_idxs, candidates.flatten(), item_features=item_features, num_threads=psutil.cpu_count(logical=False))\n",
    "result = result.reshape(n_user, 100 + 100)\n",
    "\n",
    "idxs_each_user = np.argsort(result, axis=1)[:,::-1][:,:12]\n",
    "pred = np.array([candidates[i, x] for i, x in enumerate(idxs_each_user)])\n",
    "\n",
    "mapk(val.article_id_idx, pred[val.customer_id_idx])"
   ]
  }
 ],
 "metadata": {
  "interpreter": {
   "hash": "c89b5301ada1d96cd3523f144e4a3cd3ad36f6698a61e6b8277fb627756a86c6"
  },
  "kernelspec": {
   "display_name": "Python 3.9.10 64-bit ('3.9.10')",
   "language": "python",
   "name": "python3"
  },
  "language_info": {
   "codemirror_mode": {
    "name": "ipython",
    "version": 3
   },
   "file_extension": ".py",
   "mimetype": "text/x-python",
   "name": "python",
   "nbconvert_exporter": "python",
   "pygments_lexer": "ipython3",
   "version": "3.9.7"
  },
  "orig_nbformat": 4
 },
 "nbformat": 4,
 "nbformat_minor": 2
}
