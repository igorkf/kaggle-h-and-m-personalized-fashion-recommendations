{
 "cells": [
  {
   "cell_type": "markdown",
   "metadata": {},
   "source": [
    "# LightFM (user item trancation 2)\n",
    "* user: 各ユーザーの最新購入の直近user_records個のデータのみ学習に使う\n",
    "* item: 学習期間の最後item_days日に含まれるアイテムのみ学習＆予測に使う"
   ]
  },
  {
   "cell_type": "code",
   "execution_count": 1,
   "metadata": {},
   "outputs": [],
   "source": [
    "import datetime\n",
    "\n",
    "import faiss\n",
    "import matplotlib.pyplot as plt\n",
    "import numpy as np\n",
    "import optuna\n",
    "import pandas as pd\n",
    "import psutil\n",
    "from lightfm import LightFM\n",
    "from scipy.sparse import lil_matrix\n",
    "from utils import train_valid_split\n",
    "\n",
    "import schema\n",
    "from metric import mapk"
   ]
  },
  {
   "cell_type": "code",
   "execution_count": 2,
   "metadata": {},
   "outputs": [
    {
     "name": "stderr",
     "output_type": "stream",
     "text": [
      "[I 220309 11:51:59 utils:29] train: [2020-07-08, 2020-09-16)\n",
      "[I 220309 11:51:59 utils:31] # of records: 2809233\n",
      "[I 220309 11:51:59 utils:16] valid: [2020-09-16, 2020-09-23)\n",
      "[I 220309 11:52:00 utils:18] # of records: 240311\n"
     ]
    }
   ],
   "source": [
    "transactions = pd.read_pickle('input/transformed/transactions_train.pkl')[['t_dat', 'user', 'item']]\n",
    "users = pd.read_pickle('input/transformed/users.pkl')['user']\n",
    "items = pd.read_pickle('input/transformed/items.pkl')['item']\n",
    "TOPK = 12\n",
    "\n",
    "valid_start_date = datetime.date(2020, 9, 16)\n",
    "transactions_train, transactions_valid = train_valid_split(transactions, valid_start_date, 70)"
   ]
  },
  {
   "cell_type": "code",
   "execution_count": 18,
   "metadata": {},
   "outputs": [],
   "source": [
    "def objective(trial: optuna.Trial) -> float:\n",
    "    user_records = trial.suggest_int('user_records', 1, 100)\n",
    "    item_days = trial.suggest_int('item_days', 7, 70, 7)\n",
    "    no_components = trial.suggest_int('no_components', 128, 1024, 128)\n",
    "    epochs = 100\n",
    "\n",
    "    lightfm_params = {\n",
    "        'no_components': no_components,\n",
    "        'learning_schedule': 'adadelta',\n",
    "        'loss': 'bpr',\n",
    "        'learning_rate': 0.005,\n",
    "        'item_alpha': 1e-8,\n",
    "        'user_alpha': 1e-8,\n",
    "    }\n",
    "\n",
    "    start_date = valid_start_date - datetime.timedelta(days=item_days)\n",
    "    transactions_item = sorted(transactions_train.query(\"t_dat >= @start_date\")['item'].unique())\n",
    "\n",
    "    print('item days', item_days)\n",
    "    print(len(transactions_item))\n",
    "    mp_item = dict(zip(transactions_item, range(len(transactions_item))))\n",
    "    tr_train = transactions_train.copy()\n",
    "\n",
    "    tr_train = tr_train.query(\"item in @transactions_item\").reset_index(drop=True)\n",
    "    tr_train = tr_train.drop_duplicates(ignore_index=True)\n",
    "\n",
    "    tr_train['rnk'] = tr_train.groupby('user')['t_dat'].rank(method='first')\n",
    "    print('user records', user_records)\n",
    "    print('before', len(tr_train))\n",
    "    tr_train = tr_train.query(\"rnk <= @user_records\").reset_index(drop=True)\n",
    "    print('after', len(tr_train))\n",
    "\n",
    "    tr_valid = transactions_valid.copy()\n",
    "    tr_train['item'] = tr_train['item'].apply(lambda x: mp_item[x])\n",
    "    tr_valid['item'] = tr_valid['item'].apply(lambda x: mp_item.get(x, 123456789))\n",
    "    val = tr_valid.groupby('user')['item'].apply(list).reset_index()\n",
    "    n_item = len(transactions_item)\n",
    "    n_user = len(users)\n",
    "\n",
    "    train = lil_matrix((n_user, n_item))\n",
    "    train[tr_train.user, tr_train.item] = 1\n",
    "\n",
    "    model = LightFM(**lightfm_params)\n",
    "    model.fit(train, epochs=epochs, num_threads=psutil.cpu_count(logical=False), verbose=True)\n",
    "\n",
    "    index = faiss.index_factory(no_components, \"Flat\", faiss.METRIC_INNER_PRODUCT)\n",
    "    index = faiss.index_cpu_to_gpu(faiss.StandardGpuResources(), 0, index)\n",
    "    index.add(model.item_embeddings)\n",
    "    _, idxs = index.search(model.user_embeddings, TOPK)\n",
    "\n",
    "    return mapk(val.item, idxs[val.user])"
   ]
  },
  {
   "cell_type": "code",
   "execution_count": 19,
   "metadata": {},
   "outputs": [
    {
     "name": "stderr",
     "output_type": "stream",
     "text": [
      "\u001b[32m[I 2022-03-09 01:01:25,758]\u001b[0m A new study created in memory with name: no-name-db7597cb-dc63-423d-9f6f-36b3089adc0a\u001b[0m\n"
     ]
    },
    {
     "name": "stdout",
     "output_type": "stream",
     "text": [
      "item days 28\n",
      "29009\n",
      "user days 7\n",
      "before 2775154\n",
      "after 1688381\n"
     ]
    },
    {
     "name": "stderr",
     "output_type": "stream",
     "text": [
      "Epoch: 100%|██████████| 100/100 [04:51<00:00,  2.92s/it]\n",
      "\u001b[32m[I 2022-03-09 01:06:37,291]\u001b[0m Trial 0 finished with value: 0.02255802923842525 and parameters: {'user_days': 7, 'item_days': 28, 'no_components': 640}. Best is trial 0 with value: 0.02255802923842525.\u001b[0m\n"
     ]
    },
    {
     "name": "stdout",
     "output_type": "stream",
     "text": [
      "item days 42\n",
      "32792\n",
      "user days 56\n",
      "before 2797986\n",
      "after 2718059\n"
     ]
    },
    {
     "name": "stderr",
     "output_type": "stream",
     "text": [
      "Epoch: 100%|██████████| 100/100 [04:35<00:00,  2.76s/it]\n",
      "\u001b[32m[I 2022-03-09 01:11:28,280]\u001b[0m Trial 1 finished with value: 0.01789910280402429 and parameters: {'user_days': 56, 'item_days': 42, 'no_components': 384}. Best is trial 0 with value: 0.02255802923842525.\u001b[0m\n"
     ]
    },
    {
     "name": "stdout",
     "output_type": "stream",
     "text": [
      "item days 42\n",
      "32792\n",
      "user days 49\n",
      "before 2797986\n",
      "after 2627046\n"
     ]
    },
    {
     "name": "stderr",
     "output_type": "stream",
     "text": [
      "Epoch: 100%|██████████| 100/100 [07:55<00:00,  4.75s/it]\n",
      "\u001b[32m[I 2022-03-09 01:19:47,934]\u001b[0m Trial 2 finished with value: 0.018444032109301883 and parameters: {'user_days': 49, 'item_days': 42, 'no_components': 768}. Best is trial 0 with value: 0.02255802923842525.\u001b[0m\n"
     ]
    },
    {
     "name": "stdout",
     "output_type": "stream",
     "text": [
      "item days 42\n",
      "32792\n",
      "user days 21\n",
      "before 2797986\n",
      "after 2057586\n"
     ]
    },
    {
     "name": "stderr",
     "output_type": "stream",
     "text": [
      "Epoch: 100%|██████████| 100/100 [01:52<00:00,  1.13s/it]\n",
      "\u001b[32m[I 2022-03-09 01:21:49,218]\u001b[0m Trial 3 finished with value: 0.01934459260179415 and parameters: {'user_days': 21, 'item_days': 42, 'no_components': 128}. Best is trial 0 with value: 0.02255802923842525.\u001b[0m\n"
     ]
    },
    {
     "name": "stdout",
     "output_type": "stream",
     "text": [
      "item days 21\n",
      "26503\n",
      "user days 14\n",
      "before 2748250\n",
      "after 1864414\n"
     ]
    },
    {
     "name": "stderr",
     "output_type": "stream",
     "text": [
      "Epoch: 100%|██████████| 100/100 [02:33<00:00,  1.54s/it]\n",
      "\u001b[32m[I 2022-03-09 01:24:33,492]\u001b[0m Trial 4 finished with value: 0.02165345079455688 and parameters: {'user_days': 14, 'item_days': 21, 'no_components': 256}. Best is trial 0 with value: 0.02255802923842525.\u001b[0m\n"
     ]
    },
    {
     "name": "stdout",
     "output_type": "stream",
     "text": [
      "item days 21\n",
      "26503\n",
      "user days 14\n",
      "before 2748250\n",
      "after 1864414\n"
     ]
    },
    {
     "name": "stderr",
     "output_type": "stream",
     "text": [
      "Epoch: 100%|██████████| 100/100 [06:53<00:00,  4.13s/it]\n",
      "\u001b[32m[I 2022-03-09 01:31:52,338]\u001b[0m Trial 5 finished with value: 0.02248486482205698 and parameters: {'user_days': 14, 'item_days': 21, 'no_components': 896}. Best is trial 0 with value: 0.02255802923842525.\u001b[0m\n"
     ]
    },
    {
     "name": "stdout",
     "output_type": "stream",
     "text": [
      "item days 35\n",
      "30979\n",
      "user days 7\n",
      "before 2789764\n",
      "after 1694346\n"
     ]
    },
    {
     "name": "stderr",
     "output_type": "stream",
     "text": [
      "Epoch: 100%|██████████| 100/100 [06:26<00:00,  3.86s/it]\n",
      "\u001b[32m[I 2022-03-09 01:38:45,010]\u001b[0m Trial 6 finished with value: 0.022864496703678995 and parameters: {'user_days': 7, 'item_days': 35, 'no_components': 896}. Best is trial 6 with value: 0.022864496703678995.\u001b[0m\n"
     ]
    },
    {
     "name": "stdout",
     "output_type": "stream",
     "text": [
      "item days 7\n",
      "18611\n",
      "user days 70\n",
      "before 2586623\n",
      "after 2586623\n"
     ]
    },
    {
     "name": "stderr",
     "output_type": "stream",
     "text": [
      "Epoch: 100%|██████████| 100/100 [10:50<00:00,  6.50s/it]\n",
      "\u001b[32m[I 2022-03-09 01:50:00,021]\u001b[0m Trial 7 finished with value: 0.0177226038351356 and parameters: {'user_days': 70, 'item_days': 7, 'no_components': 1024}. Best is trial 6 with value: 0.022864496703678995.\u001b[0m\n"
     ]
    },
    {
     "name": "stdout",
     "output_type": "stream",
     "text": [
      "item days 28\n",
      "29009\n",
      "user days 21\n",
      "before 2775154\n",
      "after 2045298\n"
     ]
    },
    {
     "name": "stderr",
     "output_type": "stream",
     "text": [
      "Epoch: 100%|██████████| 100/100 [01:51<00:00,  1.11s/it]\n",
      "\u001b[32m[I 2022-03-09 01:51:59,562]\u001b[0m Trial 8 finished with value: 0.019221943560105936 and parameters: {'user_days': 21, 'item_days': 28, 'no_components': 128}. Best is trial 6 with value: 0.022864496703678995.\u001b[0m\n"
     ]
    },
    {
     "name": "stdout",
     "output_type": "stream",
     "text": [
      "item days 35\n",
      "30979\n",
      "user days 14\n",
      "before 2789764\n",
      "after 1884570\n"
     ]
    },
    {
     "name": "stderr",
     "output_type": "stream",
     "text": [
      "Epoch: 100%|██████████| 100/100 [01:46<00:00,  1.07s/it]\n",
      "\u001b[32m[I 2022-03-09 01:53:54,852]\u001b[0m Trial 9 finished with value: 0.01993475073845579 and parameters: {'user_days': 14, 'item_days': 35, 'no_components': 128}. Best is trial 6 with value: 0.022864496703678995.\u001b[0m\n"
     ]
    },
    {
     "name": "stdout",
     "output_type": "stream",
     "text": [
      "item days 63\n",
      "37318\n",
      "user days 35\n",
      "before 2807797\n",
      "after 2377682\n"
     ]
    },
    {
     "name": "stderr",
     "output_type": "stream",
     "text": [
      "Epoch: 100%|██████████| 100/100 [05:17<00:00,  3.17s/it]\n",
      "\u001b[32m[I 2022-03-09 01:59:30,666]\u001b[0m Trial 10 finished with value: 0.019415494827727905 and parameters: {'user_days': 35, 'item_days': 63, 'no_components': 512}. Best is trial 6 with value: 0.022864496703678995.\u001b[0m\n"
     ]
    },
    {
     "name": "stdout",
     "output_type": "stream",
     "text": [
      "item days 56\n",
      "36054\n",
      "user days 7\n",
      "before 2805786\n",
      "after 1700661\n"
     ]
    },
    {
     "name": "stderr",
     "output_type": "stream",
     "text": [
      "Epoch: 100%|██████████| 100/100 [04:54<00:00,  2.95s/it]\n",
      "\u001b[32m[I 2022-03-09 02:04:47,245]\u001b[0m Trial 11 finished with value: 0.02260522504628402 and parameters: {'user_days': 7, 'item_days': 56, 'no_components': 640}. Best is trial 6 with value: 0.022864496703678995.\u001b[0m\n"
     ]
    },
    {
     "name": "stdout",
     "output_type": "stream",
     "text": [
      "item days 63\n",
      "37318\n",
      "user days 35\n",
      "before 2807797\n",
      "after 2377682\n"
     ]
    },
    {
     "name": "stderr",
     "output_type": "stream",
     "text": [
      "Epoch: 100%|██████████| 100/100 [07:27<00:00,  4.48s/it]\n",
      "\u001b[32m[I 2022-03-09 02:12:40,472]\u001b[0m Trial 12 finished with value: 0.01975904194619919 and parameters: {'user_days': 35, 'item_days': 63, 'no_components': 768}. Best is trial 6 with value: 0.022864496703678995.\u001b[0m\n"
     ]
    },
    {
     "name": "stdout",
     "output_type": "stream",
     "text": [
      "item days 56\n",
      "36054\n",
      "user days 7\n",
      "before 2805786\n",
      "after 1700661\n"
     ]
    },
    {
     "name": "stderr",
     "output_type": "stream",
     "text": [
      "Epoch: 100%|██████████| 100/100 [07:46<00:00,  4.67s/it]\n",
      "\u001b[32m[I 2022-03-09 02:20:57,765]\u001b[0m Trial 13 finished with value: 0.022825693222618623 and parameters: {'user_days': 7, 'item_days': 56, 'no_components': 1024}. Best is trial 6 with value: 0.022864496703678995.\u001b[0m\n"
     ]
    },
    {
     "name": "stdout",
     "output_type": "stream",
     "text": [
      "item days 56\n",
      "36054\n",
      "user days 28\n",
      "before 2805786\n",
      "after 2220618\n"
     ]
    },
    {
     "name": "stderr",
     "output_type": "stream",
     "text": [
      "Epoch: 100%|██████████| 100/100 [09:21<00:00,  5.61s/it]\n",
      "\u001b[32m[I 2022-03-09 02:30:49,480]\u001b[0m Trial 14 finished with value: 0.020637883857391317 and parameters: {'user_days': 28, 'item_days': 56, 'no_components': 1024}. Best is trial 6 with value: 0.022864496703678995.\u001b[0m\n"
     ]
    },
    {
     "name": "stdout",
     "output_type": "stream",
     "text": [
      "item days 70\n",
      "38540\n",
      "user days 49\n",
      "before 2809233\n",
      "after 2636204\n"
     ]
    },
    {
     "name": "stderr",
     "output_type": "stream",
     "text": [
      "Epoch: 100%|██████████| 100/100 [09:09<00:00,  5.49s/it]\n",
      "\u001b[32m[I 2022-03-09 02:40:29,368]\u001b[0m Trial 15 finished with value: 0.01859216877332609 and parameters: {'user_days': 49, 'item_days': 70, 'no_components': 896}. Best is trial 6 with value: 0.022864496703678995.\u001b[0m\n"
     ]
    },
    {
     "name": "stdout",
     "output_type": "stream",
     "text": [
      "item days 49\n",
      "34469\n",
      "user days 7\n",
      "before 2802618\n",
      "after 1699471\n"
     ]
    },
    {
     "name": "stderr",
     "output_type": "stream",
     "text": [
      "Epoch: 100%|██████████| 100/100 [06:31<00:00,  3.91s/it]\n",
      "\u001b[32m[I 2022-03-09 02:47:28,455]\u001b[0m Trial 16 finished with value: 0.022875402307824616 and parameters: {'user_days': 7, 'item_days': 49, 'no_components': 896}. Best is trial 16 with value: 0.022875402307824616.\u001b[0m\n"
     ]
    },
    {
     "name": "stdout",
     "output_type": "stream",
     "text": [
      "item days 49\n",
      "34469\n",
      "user days 28\n",
      "before 2802618\n",
      "after 2218853\n"
     ]
    },
    {
     "name": "stderr",
     "output_type": "stream",
     "text": [
      "Epoch: 100%|██████████| 100/100 [06:55<00:00,  4.15s/it]\n",
      "\u001b[32m[I 2022-03-09 02:54:48,067]\u001b[0m Trial 17 finished with value: 0.020591604858482587 and parameters: {'user_days': 28, 'item_days': 49, 'no_components': 768}. Best is trial 16 with value: 0.022875402307824616.\u001b[0m\n"
     ]
    },
    {
     "name": "stdout",
     "output_type": "stream",
     "text": [
      "item days 7\n",
      "18611\n",
      "user days 21\n",
      "before 2586623\n",
      "after 1933763\n"
     ]
    },
    {
     "name": "stderr",
     "output_type": "stream",
     "text": [
      "Epoch: 100%|██████████| 100/100 [06:58<00:00,  4.19s/it]\n",
      "\u001b[32m[I 2022-03-09 03:02:08,954]\u001b[0m Trial 18 finished with value: 0.02150159960456763 and parameters: {'user_days': 21, 'item_days': 7, 'no_components': 896}. Best is trial 16 with value: 0.022875402307824616.\u001b[0m\n"
     ]
    },
    {
     "name": "stdout",
     "output_type": "stream",
     "text": [
      "item days 35\n",
      "30979\n",
      "user days 70\n",
      "before 2789764\n",
      "after 2789764\n"
     ]
    },
    {
     "name": "stderr",
     "output_type": "stream",
     "text": [
      "Epoch: 100%|██████████| 100/100 [06:23<00:00,  3.83s/it]\n",
      "\u001b[32m[I 2022-03-09 03:08:49,762]\u001b[0m Trial 19 finished with value: 0.017466323666751226 and parameters: {'user_days': 70, 'item_days': 35, 'no_components': 512}. Best is trial 16 with value: 0.022875402307824616.\u001b[0m\n"
     ]
    },
    {
     "name": "stdout",
     "output_type": "stream",
     "text": [
      "item days 49\n",
      "34469\n",
      "user days 42\n",
      "before 2802618\n",
      "after 2513885\n"
     ]
    },
    {
     "name": "stderr",
     "output_type": "stream",
     "text": [
      "Epoch: 100%|██████████| 100/100 [08:33<00:00,  5.13s/it]\n",
      "\u001b[32m[I 2022-03-09 03:17:52,041]\u001b[0m Trial 20 finished with value: 0.019214757777074428 and parameters: {'user_days': 42, 'item_days': 49, 'no_components': 896}. Best is trial 16 with value: 0.022875402307824616.\u001b[0m\n"
     ]
    },
    {
     "name": "stdout",
     "output_type": "stream",
     "text": [
      "item days 49\n",
      "34469\n",
      "user days 7\n",
      "before 2802618\n",
      "after 1699471\n"
     ]
    },
    {
     "name": "stderr",
     "output_type": "stream",
     "text": [
      "Epoch: 100%|██████████| 100/100 [07:54<00:00,  4.75s/it]\n",
      "\u001b[32m[I 2022-03-09 03:26:16,200]\u001b[0m Trial 21 finished with value: 0.02289279846580044 and parameters: {'user_days': 7, 'item_days': 49, 'no_components': 1024}. Best is trial 21 with value: 0.02289279846580044.\u001b[0m\n"
     ]
    },
    {
     "name": "stdout",
     "output_type": "stream",
     "text": [
      "item days 49\n",
      "34469\n",
      "user days 7\n",
      "before 2802618\n",
      "after 1699471\n"
     ]
    },
    {
     "name": "stderr",
     "output_type": "stream",
     "text": [
      "Epoch: 100%|██████████| 100/100 [07:51<00:00,  4.71s/it]\n",
      "\u001b[32m[I 2022-03-09 03:34:36,824]\u001b[0m Trial 22 finished with value: 0.02267433619259932 and parameters: {'user_days': 7, 'item_days': 49, 'no_components': 1024}. Best is trial 21 with value: 0.02289279846580044.\u001b[0m\n"
     ]
    },
    {
     "name": "stdout",
     "output_type": "stream",
     "text": [
      "item days 28\n",
      "29009\n",
      "user days 14\n",
      "before 2775154\n",
      "after 1877640\n"
     ]
    },
    {
     "name": "stderr",
     "output_type": "stream",
     "text": [
      "Epoch: 100%|██████████| 100/100 [06:07<00:00,  3.68s/it]\n",
      "\u001b[32m[I 2022-03-09 03:41:07,440]\u001b[0m Trial 23 finished with value: 0.02233947230782944 and parameters: {'user_days': 14, 'item_days': 28, 'no_components': 768}. Best is trial 21 with value: 0.02289279846580044.\u001b[0m\n"
     ]
    },
    {
     "name": "stdout",
     "output_type": "stream",
     "text": [
      "item days 49\n",
      "34469\n",
      "user days 7\n",
      "before 2802618\n",
      "after 1699471\n"
     ]
    },
    {
     "name": "stderr",
     "output_type": "stream",
     "text": [
      "Epoch: 100%|██████████| 100/100 [06:28<00:00,  3.89s/it]\n",
      "\u001b[32m[I 2022-03-09 03:48:03,924]\u001b[0m Trial 24 finished with value: 0.022582355609732232 and parameters: {'user_days': 7, 'item_days': 49, 'no_components': 896}. Best is trial 21 with value: 0.02289279846580044.\u001b[0m\n"
     ]
    },
    {
     "name": "stdout",
     "output_type": "stream",
     "text": [
      "item days 35\n",
      "30979\n",
      "user days 21\n",
      "before 2789764\n",
      "after 2053176\n"
     ]
    },
    {
     "name": "stderr",
     "output_type": "stream",
     "text": [
      "Epoch: 100%|██████████| 100/100 [09:01<00:00,  5.41s/it]\n",
      "\u001b[32m[I 2022-03-09 03:57:34,171]\u001b[0m Trial 25 finished with value: 0.021447339896791 and parameters: {'user_days': 21, 'item_days': 35, 'no_components': 1024}. Best is trial 21 with value: 0.02289279846580044.\u001b[0m\n"
     ]
    },
    {
     "name": "stdout",
     "output_type": "stream",
     "text": [
      "item days 63\n",
      "37318\n",
      "user days 28\n",
      "before 2807797\n",
      "after 2221623\n"
     ]
    },
    {
     "name": "stderr",
     "output_type": "stream",
     "text": [
      "Epoch: 100%|██████████| 100/100 [06:04<00:00,  3.65s/it]\n",
      "\u001b[32m[I 2022-03-09 04:04:01,268]\u001b[0m Trial 26 finished with value: 0.020576898209759106 and parameters: {'user_days': 28, 'item_days': 63, 'no_components': 640}. Best is trial 21 with value: 0.02289279846580044.\u001b[0m\n"
     ]
    },
    {
     "name": "stdout",
     "output_type": "stream",
     "text": [
      "item days 42\n",
      "32792\n",
      "user days 14\n",
      "before 2797986\n",
      "after 1888434\n"
     ]
    },
    {
     "name": "stderr",
     "output_type": "stream",
     "text": [
      "Epoch: 100%|██████████| 100/100 [07:03<00:00,  4.24s/it]\n",
      "\u001b[32m[I 2022-03-09 04:11:32,710]\u001b[0m Trial 27 finished with value: 0.022379059866066937 and parameters: {'user_days': 14, 'item_days': 42, 'no_components': 896}. Best is trial 21 with value: 0.02289279846580044.\u001b[0m\n"
     ]
    },
    {
     "name": "stdout",
     "output_type": "stream",
     "text": [
      "item days 21\n",
      "26503\n",
      "user days 7\n",
      "before 2748250\n",
      "after 1677143\n"
     ]
    },
    {
     "name": "stderr",
     "output_type": "stream",
     "text": [
      "Epoch: 100%|██████████| 100/100 [05:47<00:00,  3.47s/it]\n",
      "\u001b[32m[I 2022-03-09 04:17:41,973]\u001b[0m Trial 28 finished with value: 0.022748247549167534 and parameters: {'user_days': 7, 'item_days': 21, 'no_components': 768}. Best is trial 21 with value: 0.02289279846580044.\u001b[0m\n"
     ]
    },
    {
     "name": "stdout",
     "output_type": "stream",
     "text": [
      "item days 14\n",
      "23518\n",
      "user days 7\n",
      "before 2702726\n",
      "after 1657177\n"
     ]
    },
    {
     "name": "stderr",
     "output_type": "stream",
     "text": [
      "Epoch: 100%|██████████| 100/100 [07:15<00:00,  4.36s/it]\n",
      "\u001b[32m[I 2022-03-09 04:25:23,328]\u001b[0m Trial 29 finished with value: 0.022936058784333434 and parameters: {'user_days': 7, 'item_days': 14, 'no_components': 1024}. Best is trial 29 with value: 0.022936058784333434.\u001b[0m\n"
     ]
    },
    {
     "name": "stdout",
     "output_type": "stream",
     "text": [
      "item days 14\n",
      "23518\n",
      "user days 14\n",
      "before 2702726\n",
      "after 1841150\n"
     ]
    },
    {
     "name": "stderr",
     "output_type": "stream",
     "text": [
      "Epoch: 100%|██████████| 100/100 [07:52<00:00,  4.73s/it]\n",
      "\u001b[32m[I 2022-03-09 04:33:41,702]\u001b[0m Trial 30 finished with value: 0.022362563633314413 and parameters: {'user_days': 14, 'item_days': 14, 'no_components': 1024}. Best is trial 29 with value: 0.022936058784333434.\u001b[0m\n"
     ]
    },
    {
     "name": "stdout",
     "output_type": "stream",
     "text": [
      "item days 14\n",
      "23518\n",
      "user days 7\n",
      "before 2702726\n",
      "after 1657177\n"
     ]
    },
    {
     "name": "stderr",
     "output_type": "stream",
     "text": [
      "Epoch: 100%|██████████| 100/100 [06:24<00:00,  3.85s/it]\n",
      "\u001b[32m[I 2022-03-09 04:40:30,520]\u001b[0m Trial 31 finished with value: 0.022914055489553616 and parameters: {'user_days': 7, 'item_days': 14, 'no_components': 896}. Best is trial 29 with value: 0.022936058784333434.\u001b[0m\n"
     ]
    },
    {
     "name": "stdout",
     "output_type": "stream",
     "text": [
      "item days 14\n",
      "23518\n",
      "user days 7\n",
      "before 2702726\n",
      "after 1657177\n"
     ]
    },
    {
     "name": "stderr",
     "output_type": "stream",
     "text": [
      "Epoch: 100%|██████████| 100/100 [07:15<00:00,  4.36s/it]\n",
      "\u001b[32m[I 2022-03-09 04:48:11,926]\u001b[0m Trial 32 finished with value: 0.02276540023312167 and parameters: {'user_days': 7, 'item_days': 14, 'no_components': 1024}. Best is trial 29 with value: 0.022936058784333434.\u001b[0m\n"
     ]
    },
    {
     "name": "stdout",
     "output_type": "stream",
     "text": [
      "item days 14\n",
      "23518\n",
      "user days 14\n",
      "before 2702726\n",
      "after 1841150\n"
     ]
    },
    {
     "name": "stderr",
     "output_type": "stream",
     "text": [
      "Epoch: 100%|██████████| 100/100 [06:50<00:00,  4.10s/it]\n",
      "\u001b[32m[I 2022-03-09 04:55:26,683]\u001b[0m Trial 33 finished with value: 0.022483956250403732 and parameters: {'user_days': 14, 'item_days': 14, 'no_components': 896}. Best is trial 29 with value: 0.022936058784333434.\u001b[0m\n"
     ]
    },
    {
     "name": "stdout",
     "output_type": "stream",
     "text": [
      "item days 7\n",
      "18611\n",
      "user days 63\n",
      "before 2586623\n",
      "after 2569547\n"
     ]
    },
    {
     "name": "stderr",
     "output_type": "stream",
     "text": [
      "Epoch: 100%|██████████| 100/100 [07:40<00:00,  4.60s/it]\n",
      "\u001b[32m[I 2022-03-09 05:03:27,243]\u001b[0m Trial 34 finished with value: 0.017793778469181846 and parameters: {'user_days': 63, 'item_days': 7, 'no_components': 768}. Best is trial 29 with value: 0.022936058784333434.\u001b[0m\n"
     ]
    },
    {
     "name": "stdout",
     "output_type": "stream",
     "text": [
      "item days 42\n",
      "32792\n",
      "user days 21\n",
      "before 2797986\n",
      "after 2057586\n"
     ]
    },
    {
     "name": "stderr",
     "output_type": "stream",
     "text": [
      "Epoch: 100%|██████████| 100/100 [03:51<00:00,  2.32s/it]\n",
      "\u001b[32m[I 2022-03-09 05:07:33,779]\u001b[0m Trial 35 finished with value: 0.021281408962743907 and parameters: {'user_days': 21, 'item_days': 42, 'no_components': 384}. Best is trial 29 with value: 0.022936058784333434.\u001b[0m\n"
     ]
    },
    {
     "name": "stdout",
     "output_type": "stream",
     "text": [
      "item days 21\n",
      "26503\n",
      "user days 7\n",
      "before 2748250\n",
      "after 1677143\n"
     ]
    },
    {
     "name": "stderr",
     "output_type": "stream",
     "text": [
      "Epoch: 100%|██████████| 100/100 [07:49<00:00,  4.69s/it]\n",
      "\u001b[32m[I 2022-03-09 05:15:49,789]\u001b[0m Trial 36 finished with value: 0.023028028405801832 and parameters: {'user_days': 7, 'item_days': 21, 'no_components': 1024}. Best is trial 36 with value: 0.023028028405801832.\u001b[0m\n"
     ]
    },
    {
     "name": "stdout",
     "output_type": "stream",
     "text": [
      "item days 21\n",
      "26503\n",
      "user days 14\n",
      "before 2748250\n",
      "after 1864414\n"
     ]
    },
    {
     "name": "stderr",
     "output_type": "stream",
     "text": [
      "Epoch: 100%|██████████| 100/100 [08:24<00:00,  5.05s/it]\n",
      "\u001b[32m[I 2022-03-09 05:24:41,392]\u001b[0m Trial 37 finished with value: 0.022324209253473195 and parameters: {'user_days': 14, 'item_days': 21, 'no_components': 1024}. Best is trial 36 with value: 0.023028028405801832.\u001b[0m\n"
     ]
    },
    {
     "name": "stdout",
     "output_type": "stream",
     "text": [
      "item days 28\n",
      "29009\n",
      "user days 21\n",
      "before 2775154\n",
      "after 2045298\n"
     ]
    },
    {
     "name": "stderr",
     "output_type": "stream",
     "text": [
      "Epoch: 100%|██████████| 100/100 [08:59<00:00,  5.39s/it]\n",
      "\u001b[32m[I 2022-03-09 05:34:08,798]\u001b[0m Trial 38 finished with value: 0.0214950354982134 and parameters: {'user_days': 21, 'item_days': 28, 'no_components': 1024}. Best is trial 36 with value: 0.023028028405801832.\u001b[0m\n"
     ]
    },
    {
     "name": "stdout",
     "output_type": "stream",
     "text": [
      "item days 14\n",
      "23518\n",
      "user days 14\n",
      "before 2702726\n",
      "after 1841150\n"
     ]
    },
    {
     "name": "stderr",
     "output_type": "stream",
     "text": [
      "Epoch: 100%|██████████| 100/100 [07:50<00:00,  4.70s/it]\n",
      "\u001b[32m[I 2022-03-09 05:42:24,704]\u001b[0m Trial 39 finished with value: 0.022434222772113096 and parameters: {'user_days': 14, 'item_days': 14, 'no_components': 1024}. Best is trial 36 with value: 0.023028028405801832.\u001b[0m\n"
     ]
    },
    {
     "name": "stdout",
     "output_type": "stream",
     "text": [
      "item days 21\n",
      "26503\n",
      "user days 49\n",
      "before 2748250\n",
      "after 2583482\n"
     ]
    },
    {
     "name": "stderr",
     "output_type": "stream",
     "text": [
      "Epoch: 100%|██████████| 100/100 [08:51<00:00,  5.32s/it]\n",
      "\u001b[32m[I 2022-03-09 05:51:42,212]\u001b[0m Trial 40 finished with value: 0.018582017013461984 and parameters: {'user_days': 49, 'item_days': 21, 'no_components': 896}. Best is trial 36 with value: 0.023028028405801832.\u001b[0m\n"
     ]
    },
    {
     "name": "stdout",
     "output_type": "stream",
     "text": [
      "item days 14\n",
      "23518\n",
      "user days 7\n",
      "before 2702726\n",
      "after 1657177\n"
     ]
    },
    {
     "name": "stderr",
     "output_type": "stream",
     "text": [
      "Epoch: 100%|██████████| 100/100 [06:20<00:00,  3.80s/it]\n",
      "\u001b[32m[I 2022-03-09 05:58:26,010]\u001b[0m Trial 41 finished with value: 0.022665944737531623 and parameters: {'user_days': 7, 'item_days': 14, 'no_components': 896}. Best is trial 36 with value: 0.023028028405801832.\u001b[0m\n"
     ]
    },
    {
     "name": "stdout",
     "output_type": "stream",
     "text": [
      "item days 7\n",
      "18611\n",
      "user days 7\n",
      "before 2586623\n",
      "after 1604397\n"
     ]
    },
    {
     "name": "stderr",
     "output_type": "stream",
     "text": [
      "Epoch: 100%|██████████| 100/100 [07:15<00:00,  4.35s/it]\n",
      "\u001b[32m[I 2022-03-09 06:06:05,315]\u001b[0m Trial 42 finished with value: 0.022803645370982138 and parameters: {'user_days': 7, 'item_days': 7, 'no_components': 1024}. Best is trial 36 with value: 0.023028028405801832.\u001b[0m\n"
     ]
    },
    {
     "name": "stdout",
     "output_type": "stream",
     "text": [
      "item days 21\n",
      "26503\n",
      "user days 7\n",
      "before 2748250\n",
      "after 1677143\n"
     ]
    },
    {
     "name": "stderr",
     "output_type": "stream",
     "text": [
      "Epoch: 100%|██████████| 100/100 [06:23<00:00,  3.84s/it]\n",
      "\u001b[32m[I 2022-03-09 06:12:54,216]\u001b[0m Trial 43 finished with value: 0.022734954975583865 and parameters: {'user_days': 7, 'item_days': 21, 'no_components': 896}. Best is trial 36 with value: 0.023028028405801832.\u001b[0m\n"
     ]
    },
    {
     "name": "stdout",
     "output_type": "stream",
     "text": [
      "item days 42\n",
      "32792\n",
      "user days 14\n",
      "before 2797986\n",
      "after 1888434\n"
     ]
    },
    {
     "name": "stderr",
     "output_type": "stream",
     "text": [
      "Epoch: 100%|██████████| 100/100 [06:12<00:00,  3.73s/it]\n",
      "\u001b[32m[I 2022-03-09 06:19:30,755]\u001b[0m Trial 44 finished with value: 0.022308411873430058 and parameters: {'user_days': 14, 'item_days': 42, 'no_components': 768}. Best is trial 36 with value: 0.023028028405801832.\u001b[0m\n"
     ]
    },
    {
     "name": "stdout",
     "output_type": "stream",
     "text": [
      "item days 56\n",
      "36054\n",
      "user days 7\n",
      "before 2805786\n",
      "after 1700661\n"
     ]
    },
    {
     "name": "stderr",
     "output_type": "stream",
     "text": [
      "Epoch: 100%|██████████| 100/100 [07:50<00:00,  4.70s/it]\n",
      "\u001b[32m[I 2022-03-09 06:27:51,840]\u001b[0m Trial 45 finished with value: 0.022981271091357034 and parameters: {'user_days': 7, 'item_days': 56, 'no_components': 1024}. Best is trial 36 with value: 0.023028028405801832.\u001b[0m\n"
     ]
    },
    {
     "name": "stdout",
     "output_type": "stream",
     "text": [
      "item days 56\n",
      "36054\n",
      "user days 14\n",
      "before 2805786\n",
      "after 1891850\n"
     ]
    },
    {
     "name": "stderr",
     "output_type": "stream",
     "text": [
      "Epoch: 100%|██████████| 100/100 [08:39<00:00,  5.20s/it]\n",
      "\u001b[32m[I 2022-03-09 06:37:01,662]\u001b[0m Trial 46 finished with value: 0.022366856786461477 and parameters: {'user_days': 14, 'item_days': 56, 'no_components': 1024}. Best is trial 36 with value: 0.023028028405801832.\u001b[0m\n"
     ]
    },
    {
     "name": "stdout",
     "output_type": "stream",
     "text": [
      "item days 70\n",
      "38540\n",
      "user days 21\n",
      "before 2809233\n",
      "after 2062972\n"
     ]
    },
    {
     "name": "stderr",
     "output_type": "stream",
     "text": [
      "Epoch: 100%|██████████| 100/100 [09:08<00:00,  5.49s/it]\n",
      "\u001b[32m[I 2022-03-09 06:46:41,546]\u001b[0m Trial 47 finished with value: 0.02142681526000594 and parameters: {'user_days': 21, 'item_days': 70, 'no_components': 1024}. Best is trial 36 with value: 0.023028028405801832.\u001b[0m\n"
     ]
    },
    {
     "name": "stdout",
     "output_type": "stream",
     "text": [
      "item days 7\n",
      "18611\n",
      "user days 7\n",
      "before 2586623\n",
      "after 1604397\n"
     ]
    },
    {
     "name": "stderr",
     "output_type": "stream",
     "text": [
      "Epoch: 100%|██████████| 100/100 [02:17<00:00,  1.38s/it]\n",
      "\u001b[32m[I 2022-03-09 06:49:08,894]\u001b[0m Trial 48 finished with value: 0.022053582691325426 and parameters: {'user_days': 7, 'item_days': 7, 'no_components': 256}. Best is trial 36 with value: 0.023028028405801832.\u001b[0m\n"
     ]
    },
    {
     "name": "stdout",
     "output_type": "stream",
     "text": [
      "item days 28\n",
      "29009\n",
      "user days 7\n",
      "before 2775154\n",
      "after 1688381\n"
     ]
    },
    {
     "name": "stderr",
     "output_type": "stream",
     "text": [
      "Epoch: 100%|██████████| 100/100 [07:52<00:00,  4.72s/it]\n",
      "\u001b[32m[I 2022-03-09 06:57:28,582]\u001b[0m Trial 49 finished with value: 0.022995697178301373 and parameters: {'user_days': 7, 'item_days': 28, 'no_components': 1024}. Best is trial 36 with value: 0.023028028405801832.\u001b[0m\n"
     ]
    },
    {
     "name": "stdout",
     "output_type": "stream",
     "text": [
      "item days 28\n",
      "29009\n",
      "user days 28\n",
      "before 2775154\n",
      "after 2202057\n"
     ]
    },
    {
     "name": "stderr",
     "output_type": "stream",
     "text": [
      "Epoch: 100%|██████████| 100/100 [09:39<00:00,  5.79s/it]\n",
      "\u001b[32m[I 2022-03-09 07:07:35,241]\u001b[0m Trial 50 finished with value: 0.020654087796655486 and parameters: {'user_days': 28, 'item_days': 28, 'no_components': 1024}. Best is trial 36 with value: 0.023028028405801832.\u001b[0m\n"
     ]
    },
    {
     "name": "stdout",
     "output_type": "stream",
     "text": [
      "item days 21\n",
      "26503\n",
      "user days 7\n",
      "before 2748250\n",
      "after 1677143\n"
     ]
    },
    {
     "name": "stderr",
     "output_type": "stream",
     "text": [
      "Epoch: 100%|██████████| 100/100 [07:40<00:00,  4.60s/it]\n",
      "\u001b[32m[I 2022-03-09 07:15:42,261]\u001b[0m Trial 51 finished with value: 0.022828288286579554 and parameters: {'user_days': 7, 'item_days': 21, 'no_components': 1024}. Best is trial 36 with value: 0.023028028405801832.\u001b[0m\n"
     ]
    },
    {
     "name": "stdout",
     "output_type": "stream",
     "text": [
      "item days 14\n",
      "23518\n",
      "user days 7\n",
      "before 2702726\n",
      "after 1657177\n"
     ]
    },
    {
     "name": "stderr",
     "output_type": "stream",
     "text": [
      "Epoch: 100%|██████████| 100/100 [07:15<00:00,  4.35s/it]\n",
      "\u001b[32m[I 2022-03-09 07:23:23,162]\u001b[0m Trial 52 finished with value: 0.022999150826475377 and parameters: {'user_days': 7, 'item_days': 14, 'no_components': 1024}. Best is trial 36 with value: 0.023028028405801832.\u001b[0m\n"
     ]
    },
    {
     "name": "stdout",
     "output_type": "stream",
     "text": [
      "item days 14\n",
      "23518\n",
      "user days 14\n",
      "before 2702726\n",
      "after 1841150\n"
     ]
    },
    {
     "name": "stderr",
     "output_type": "stream",
     "text": [
      "Epoch: 100%|██████████| 100/100 [06:49<00:00,  4.10s/it]\n",
      "\u001b[32m[I 2022-03-09 07:30:37,235]\u001b[0m Trial 53 finished with value: 0.022261103408922032 and parameters: {'user_days': 14, 'item_days': 14, 'no_components': 896}. Best is trial 36 with value: 0.023028028405801832.\u001b[0m\n"
     ]
    },
    {
     "name": "stdout",
     "output_type": "stream",
     "text": [
      "item days 21\n",
      "26503\n",
      "user days 7\n",
      "before 2748250\n",
      "after 1677143\n"
     ]
    },
    {
     "name": "stderr",
     "output_type": "stream",
     "text": [
      "Epoch: 100%|██████████| 100/100 [07:49<00:00,  4.70s/it]\n",
      "\u001b[32m[I 2022-03-09 07:38:53,478]\u001b[0m Trial 54 finished with value: 0.02284875167107638 and parameters: {'user_days': 7, 'item_days': 21, 'no_components': 1024}. Best is trial 36 with value: 0.023028028405801832.\u001b[0m\n"
     ]
    },
    {
     "name": "stdout",
     "output_type": "stream",
     "text": [
      "item days 14\n",
      "23518\n",
      "user days 14\n",
      "before 2702726\n",
      "after 1841150\n"
     ]
    },
    {
     "name": "stderr",
     "output_type": "stream",
     "text": [
      "Epoch: 100%|██████████| 100/100 [06:43<00:00,  4.03s/it]\n",
      "\u001b[32m[I 2022-03-09 07:46:00,586]\u001b[0m Trial 55 finished with value: 0.022212801714272788 and parameters: {'user_days': 14, 'item_days': 14, 'no_components': 896}. Best is trial 36 with value: 0.023028028405801832.\u001b[0m\n"
     ]
    },
    {
     "name": "stdout",
     "output_type": "stream",
     "text": [
      "item days 35\n",
      "30979\n",
      "user days 7\n",
      "before 2789764\n",
      "after 1694346\n"
     ]
    },
    {
     "name": "stderr",
     "output_type": "stream",
     "text": [
      "Epoch: 100%|██████████| 100/100 [07:53<00:00,  4.74s/it]\n",
      "\u001b[32m[I 2022-03-09 07:54:22,355]\u001b[0m Trial 56 finished with value: 0.022970630196765287 and parameters: {'user_days': 7, 'item_days': 35, 'no_components': 1024}. Best is trial 36 with value: 0.023028028405801832.\u001b[0m\n"
     ]
    },
    {
     "name": "stdout",
     "output_type": "stream",
     "text": [
      "item days 35\n",
      "30979\n",
      "user days 42\n",
      "before 2789764\n",
      "after 2503764\n"
     ]
    },
    {
     "name": "stderr",
     "output_type": "stream",
     "text": [
      "Epoch: 100%|██████████| 100/100 [10:30<00:00,  6.30s/it]\n",
      "\u001b[32m[I 2022-03-09 08:05:21,804]\u001b[0m Trial 57 finished with value: 0.019110647834669196 and parameters: {'user_days': 42, 'item_days': 35, 'no_components': 1024}. Best is trial 36 with value: 0.023028028405801832.\u001b[0m\n"
     ]
    },
    {
     "name": "stdout",
     "output_type": "stream",
     "text": [
      "item days 28\n",
      "29009\n",
      "user days 14\n",
      "before 2775154\n",
      "after 1877640\n"
     ]
    },
    {
     "name": "stderr",
     "output_type": "stream",
     "text": [
      "Epoch: 100%|██████████| 100/100 [08:29<00:00,  5.09s/it]\n",
      "\u001b[32m[I 2022-03-09 08:14:19,320]\u001b[0m Trial 58 finished with value: 0.022274314018463238 and parameters: {'user_days': 14, 'item_days': 28, 'no_components': 1024}. Best is trial 36 with value: 0.023028028405801832.\u001b[0m\n"
     ]
    },
    {
     "name": "stdout",
     "output_type": "stream",
     "text": [
      "item days 28\n",
      "29009\n",
      "user days 7\n",
      "before 2775154\n",
      "after 1688381\n"
     ]
    },
    {
     "name": "stderr",
     "output_type": "stream",
     "text": [
      "Epoch: 100%|██████████| 100/100 [07:48<00:00,  4.68s/it]\n",
      "\u001b[32m[I 2022-03-09 08:22:35,091]\u001b[0m Trial 59 finished with value: 0.0231487379063096 and parameters: {'user_days': 7, 'item_days': 28, 'no_components': 1024}. Best is trial 59 with value: 0.0231487379063096.\u001b[0m\n"
     ]
    },
    {
     "name": "stdout",
     "output_type": "stream",
     "text": [
      "item days 35\n",
      "30979\n",
      "user days 7\n",
      "before 2789764\n",
      "after 1694346\n"
     ]
    },
    {
     "name": "stderr",
     "output_type": "stream",
     "text": [
      "Epoch: 100%|██████████| 100/100 [03:20<00:00,  2.00s/it]\n",
      "\u001b[32m[I 2022-03-09 08:26:09,377]\u001b[0m Trial 60 finished with value: 0.02250215712024591 and parameters: {'user_days': 7, 'item_days': 35, 'no_components': 384}. Best is trial 59 with value: 0.0231487379063096.\u001b[0m\n"
     ]
    },
    {
     "name": "stdout",
     "output_type": "stream",
     "text": [
      "item days 28\n",
      "29009\n",
      "user days 7\n",
      "before 2775154\n",
      "after 1688381\n"
     ]
    },
    {
     "name": "stderr",
     "output_type": "stream",
     "text": [
      "Epoch: 100%|██████████| 100/100 [07:54<00:00,  4.75s/it]\n",
      "\u001b[32m[I 2022-03-09 08:34:31,984]\u001b[0m Trial 61 finished with value: 0.022683874324127464 and parameters: {'user_days': 7, 'item_days': 28, 'no_components': 1024}. Best is trial 59 with value: 0.0231487379063096.\u001b[0m\n"
     ]
    },
    {
     "name": "stdout",
     "output_type": "stream",
     "text": [
      "item days 28\n",
      "29009\n",
      "user days 7\n",
      "before 2775154\n",
      "after 1688381\n"
     ]
    },
    {
     "name": "stderr",
     "output_type": "stream",
     "text": [
      "Epoch: 100%|██████████| 100/100 [07:57<00:00,  4.78s/it]\n",
      "\u001b[32m[I 2022-03-09 08:42:57,992]\u001b[0m Trial 62 finished with value: 0.022836138394951234 and parameters: {'user_days': 7, 'item_days': 28, 'no_components': 1024}. Best is trial 59 with value: 0.0231487379063096.\u001b[0m\n"
     ]
    },
    {
     "name": "stdout",
     "output_type": "stream",
     "text": [
      "item days 21\n",
      "26503\n",
      "user days 14\n",
      "before 2748250\n",
      "after 1864414\n"
     ]
    },
    {
     "name": "stderr",
     "output_type": "stream",
     "text": [
      "Epoch: 100%|██████████| 100/100 [08:23<00:00,  5.04s/it]\n",
      "\u001b[32m[I 2022-03-09 08:51:49,086]\u001b[0m Trial 63 finished with value: 0.022403361455568465 and parameters: {'user_days': 14, 'item_days': 21, 'no_components': 1024}. Best is trial 59 with value: 0.0231487379063096.\u001b[0m\n"
     ]
    },
    {
     "name": "stdout",
     "output_type": "stream",
     "text": [
      "item days 35\n",
      "30979\n",
      "user days 7\n",
      "before 2789764\n",
      "after 1694346\n"
     ]
    },
    {
     "name": "stderr",
     "output_type": "stream",
     "text": [
      "Epoch: 100%|██████████| 100/100 [06:36<00:00,  3.97s/it]\n",
      "\u001b[32m[I 2022-03-09 08:58:52,353]\u001b[0m Trial 64 finished with value: 0.022961003423987963 and parameters: {'user_days': 7, 'item_days': 35, 'no_components': 896}. Best is trial 59 with value: 0.0231487379063096.\u001b[0m\n"
     ]
    },
    {
     "name": "stdout",
     "output_type": "stream",
     "text": [
      "item days 35\n",
      "30979\n",
      "user days 21\n",
      "before 2789764\n",
      "after 2053176\n"
     ]
    },
    {
     "name": "stderr",
     "output_type": "stream",
     "text": [
      "Epoch: 100%|██████████| 100/100 [05:42<00:00,  3.42s/it]\n",
      "\u001b[32m[I 2022-03-09 09:04:55,228]\u001b[0m Trial 65 finished with value: 0.021316396892195878 and parameters: {'user_days': 21, 'item_days': 35, 'no_components': 640}. Best is trial 59 with value: 0.0231487379063096.\u001b[0m\n"
     ]
    }
   ],
   "source": [
    "study = optuna.create_study(direction='maximize')\n",
    "study.optimize(objective, timeout=3600*8)"
   ]
  },
  {
   "cell_type": "code",
   "execution_count": 20,
   "metadata": {},
   "outputs": [
    {
     "data": {
      "text/html": [
       "<div>\n",
       "<style scoped>\n",
       "    .dataframe tbody tr th:only-of-type {\n",
       "        vertical-align: middle;\n",
       "    }\n",
       "\n",
       "    .dataframe tbody tr th {\n",
       "        vertical-align: top;\n",
       "    }\n",
       "\n",
       "    .dataframe thead th {\n",
       "        text-align: right;\n",
       "    }\n",
       "</style>\n",
       "<table border=\"1\" class=\"dataframe\">\n",
       "  <thead>\n",
       "    <tr style=\"text-align: right;\">\n",
       "      <th></th>\n",
       "      <th>number</th>\n",
       "      <th>value</th>\n",
       "      <th>datetime_start</th>\n",
       "      <th>datetime_complete</th>\n",
       "      <th>duration</th>\n",
       "      <th>params_item_days</th>\n",
       "      <th>params_no_components</th>\n",
       "      <th>params_user_days</th>\n",
       "      <th>state</th>\n",
       "    </tr>\n",
       "  </thead>\n",
       "  <tbody>\n",
       "    <tr>\n",
       "      <th>59</th>\n",
       "      <td>59</td>\n",
       "      <td>0.023149</td>\n",
       "      <td>2022-03-09 08:14:19.321905</td>\n",
       "      <td>2022-03-09 08:22:35.091491</td>\n",
       "      <td>0 days 00:08:15.769586</td>\n",
       "      <td>28</td>\n",
       "      <td>1024</td>\n",
       "      <td>7</td>\n",
       "      <td>COMPLETE</td>\n",
       "    </tr>\n",
       "    <tr>\n",
       "      <th>36</th>\n",
       "      <td>36</td>\n",
       "      <td>0.023028</td>\n",
       "      <td>2022-03-09 05:07:33.780202</td>\n",
       "      <td>2022-03-09 05:15:49.789598</td>\n",
       "      <td>0 days 00:08:16.009396</td>\n",
       "      <td>21</td>\n",
       "      <td>1024</td>\n",
       "      <td>7</td>\n",
       "      <td>COMPLETE</td>\n",
       "    </tr>\n",
       "    <tr>\n",
       "      <th>52</th>\n",
       "      <td>52</td>\n",
       "      <td>0.022999</td>\n",
       "      <td>2022-03-09 07:15:42.262143</td>\n",
       "      <td>2022-03-09 07:23:23.162689</td>\n",
       "      <td>0 days 00:07:40.900546</td>\n",
       "      <td>14</td>\n",
       "      <td>1024</td>\n",
       "      <td>7</td>\n",
       "      <td>COMPLETE</td>\n",
       "    </tr>\n",
       "    <tr>\n",
       "      <th>49</th>\n",
       "      <td>49</td>\n",
       "      <td>0.022996</td>\n",
       "      <td>2022-03-09 06:49:08.895512</td>\n",
       "      <td>2022-03-09 06:57:28.581912</td>\n",
       "      <td>0 days 00:08:19.686400</td>\n",
       "      <td>28</td>\n",
       "      <td>1024</td>\n",
       "      <td>7</td>\n",
       "      <td>COMPLETE</td>\n",
       "    </tr>\n",
       "    <tr>\n",
       "      <th>45</th>\n",
       "      <td>45</td>\n",
       "      <td>0.022981</td>\n",
       "      <td>2022-03-09 06:19:30.756071</td>\n",
       "      <td>2022-03-09 06:27:51.839865</td>\n",
       "      <td>0 days 00:08:21.083794</td>\n",
       "      <td>56</td>\n",
       "      <td>1024</td>\n",
       "      <td>7</td>\n",
       "      <td>COMPLETE</td>\n",
       "    </tr>\n",
       "    <tr>\n",
       "      <th>56</th>\n",
       "      <td>56</td>\n",
       "      <td>0.022971</td>\n",
       "      <td>2022-03-09 07:46:00.587434</td>\n",
       "      <td>2022-03-09 07:54:22.355102</td>\n",
       "      <td>0 days 00:08:21.767668</td>\n",
       "      <td>35</td>\n",
       "      <td>1024</td>\n",
       "      <td>7</td>\n",
       "      <td>COMPLETE</td>\n",
       "    </tr>\n",
       "    <tr>\n",
       "      <th>64</th>\n",
       "      <td>64</td>\n",
       "      <td>0.022961</td>\n",
       "      <td>2022-03-09 08:51:49.087369</td>\n",
       "      <td>2022-03-09 08:58:52.353776</td>\n",
       "      <td>0 days 00:07:03.266407</td>\n",
       "      <td>35</td>\n",
       "      <td>896</td>\n",
       "      <td>7</td>\n",
       "      <td>COMPLETE</td>\n",
       "    </tr>\n",
       "    <tr>\n",
       "      <th>29</th>\n",
       "      <td>29</td>\n",
       "      <td>0.022936</td>\n",
       "      <td>2022-03-09 04:17:41.974663</td>\n",
       "      <td>2022-03-09 04:25:23.328200</td>\n",
       "      <td>0 days 00:07:41.353537</td>\n",
       "      <td>14</td>\n",
       "      <td>1024</td>\n",
       "      <td>7</td>\n",
       "      <td>COMPLETE</td>\n",
       "    </tr>\n",
       "    <tr>\n",
       "      <th>31</th>\n",
       "      <td>31</td>\n",
       "      <td>0.022914</td>\n",
       "      <td>2022-03-09 04:33:41.703001</td>\n",
       "      <td>2022-03-09 04:40:30.519930</td>\n",
       "      <td>0 days 00:06:48.816929</td>\n",
       "      <td>14</td>\n",
       "      <td>896</td>\n",
       "      <td>7</td>\n",
       "      <td>COMPLETE</td>\n",
       "    </tr>\n",
       "    <tr>\n",
       "      <th>21</th>\n",
       "      <td>21</td>\n",
       "      <td>0.022893</td>\n",
       "      <td>2022-03-09 03:17:52.042700</td>\n",
       "      <td>2022-03-09 03:26:16.200555</td>\n",
       "      <td>0 days 00:08:24.157855</td>\n",
       "      <td>49</td>\n",
       "      <td>1024</td>\n",
       "      <td>7</td>\n",
       "      <td>COMPLETE</td>\n",
       "    </tr>\n",
       "    <tr>\n",
       "      <th>16</th>\n",
       "      <td>16</td>\n",
       "      <td>0.022875</td>\n",
       "      <td>2022-03-09 02:40:29.369131</td>\n",
       "      <td>2022-03-09 02:47:28.455009</td>\n",
       "      <td>0 days 00:06:59.085878</td>\n",
       "      <td>49</td>\n",
       "      <td>896</td>\n",
       "      <td>7</td>\n",
       "      <td>COMPLETE</td>\n",
       "    </tr>\n",
       "    <tr>\n",
       "      <th>6</th>\n",
       "      <td>6</td>\n",
       "      <td>0.022864</td>\n",
       "      <td>2022-03-09 01:31:52.339046</td>\n",
       "      <td>2022-03-09 01:38:45.010044</td>\n",
       "      <td>0 days 00:06:52.670998</td>\n",
       "      <td>35</td>\n",
       "      <td>896</td>\n",
       "      <td>7</td>\n",
       "      <td>COMPLETE</td>\n",
       "    </tr>\n",
       "    <tr>\n",
       "      <th>54</th>\n",
       "      <td>54</td>\n",
       "      <td>0.022849</td>\n",
       "      <td>2022-03-09 07:30:37.237041</td>\n",
       "      <td>2022-03-09 07:38:53.478508</td>\n",
       "      <td>0 days 00:08:16.241467</td>\n",
       "      <td>21</td>\n",
       "      <td>1024</td>\n",
       "      <td>7</td>\n",
       "      <td>COMPLETE</td>\n",
       "    </tr>\n",
       "    <tr>\n",
       "      <th>62</th>\n",
       "      <td>62</td>\n",
       "      <td>0.022836</td>\n",
       "      <td>2022-03-09 08:34:31.985630</td>\n",
       "      <td>2022-03-09 08:42:57.992097</td>\n",
       "      <td>0 days 00:08:26.006467</td>\n",
       "      <td>28</td>\n",
       "      <td>1024</td>\n",
       "      <td>7</td>\n",
       "      <td>COMPLETE</td>\n",
       "    </tr>\n",
       "    <tr>\n",
       "      <th>51</th>\n",
       "      <td>51</td>\n",
       "      <td>0.022828</td>\n",
       "      <td>2022-03-09 07:07:35.242389</td>\n",
       "      <td>2022-03-09 07:15:42.261012</td>\n",
       "      <td>0 days 00:08:07.018623</td>\n",
       "      <td>21</td>\n",
       "      <td>1024</td>\n",
       "      <td>7</td>\n",
       "      <td>COMPLETE</td>\n",
       "    </tr>\n",
       "    <tr>\n",
       "      <th>13</th>\n",
       "      <td>13</td>\n",
       "      <td>0.022826</td>\n",
       "      <td>2022-03-09 02:12:40.473718</td>\n",
       "      <td>2022-03-09 02:20:57.764894</td>\n",
       "      <td>0 days 00:08:17.291176</td>\n",
       "      <td>56</td>\n",
       "      <td>1024</td>\n",
       "      <td>7</td>\n",
       "      <td>COMPLETE</td>\n",
       "    </tr>\n",
       "    <tr>\n",
       "      <th>42</th>\n",
       "      <td>42</td>\n",
       "      <td>0.022804</td>\n",
       "      <td>2022-03-09 05:58:26.011461</td>\n",
       "      <td>2022-03-09 06:06:05.315735</td>\n",
       "      <td>0 days 00:07:39.304274</td>\n",
       "      <td>7</td>\n",
       "      <td>1024</td>\n",
       "      <td>7</td>\n",
       "      <td>COMPLETE</td>\n",
       "    </tr>\n",
       "    <tr>\n",
       "      <th>32</th>\n",
       "      <td>32</td>\n",
       "      <td>0.022765</td>\n",
       "      <td>2022-03-09 04:40:30.521009</td>\n",
       "      <td>2022-03-09 04:48:11.926016</td>\n",
       "      <td>0 days 00:07:41.405007</td>\n",
       "      <td>14</td>\n",
       "      <td>1024</td>\n",
       "      <td>7</td>\n",
       "      <td>COMPLETE</td>\n",
       "    </tr>\n",
       "    <tr>\n",
       "      <th>28</th>\n",
       "      <td>28</td>\n",
       "      <td>0.022748</td>\n",
       "      <td>2022-03-09 04:11:32.711350</td>\n",
       "      <td>2022-03-09 04:17:41.973605</td>\n",
       "      <td>0 days 00:06:09.262255</td>\n",
       "      <td>21</td>\n",
       "      <td>768</td>\n",
       "      <td>7</td>\n",
       "      <td>COMPLETE</td>\n",
       "    </tr>\n",
       "    <tr>\n",
       "      <th>43</th>\n",
       "      <td>43</td>\n",
       "      <td>0.022735</td>\n",
       "      <td>2022-03-09 06:06:05.316877</td>\n",
       "      <td>2022-03-09 06:12:54.216526</td>\n",
       "      <td>0 days 00:06:48.899649</td>\n",
       "      <td>21</td>\n",
       "      <td>896</td>\n",
       "      <td>7</td>\n",
       "      <td>COMPLETE</td>\n",
       "    </tr>\n",
       "  </tbody>\n",
       "</table>\n",
       "</div>"
      ],
      "text/plain": [
       "    number     value             datetime_start          datetime_complete  \\\n",
       "59      59  0.023149 2022-03-09 08:14:19.321905 2022-03-09 08:22:35.091491   \n",
       "36      36  0.023028 2022-03-09 05:07:33.780202 2022-03-09 05:15:49.789598   \n",
       "52      52  0.022999 2022-03-09 07:15:42.262143 2022-03-09 07:23:23.162689   \n",
       "49      49  0.022996 2022-03-09 06:49:08.895512 2022-03-09 06:57:28.581912   \n",
       "45      45  0.022981 2022-03-09 06:19:30.756071 2022-03-09 06:27:51.839865   \n",
       "56      56  0.022971 2022-03-09 07:46:00.587434 2022-03-09 07:54:22.355102   \n",
       "64      64  0.022961 2022-03-09 08:51:49.087369 2022-03-09 08:58:52.353776   \n",
       "29      29  0.022936 2022-03-09 04:17:41.974663 2022-03-09 04:25:23.328200   \n",
       "31      31  0.022914 2022-03-09 04:33:41.703001 2022-03-09 04:40:30.519930   \n",
       "21      21  0.022893 2022-03-09 03:17:52.042700 2022-03-09 03:26:16.200555   \n",
       "16      16  0.022875 2022-03-09 02:40:29.369131 2022-03-09 02:47:28.455009   \n",
       "6        6  0.022864 2022-03-09 01:31:52.339046 2022-03-09 01:38:45.010044   \n",
       "54      54  0.022849 2022-03-09 07:30:37.237041 2022-03-09 07:38:53.478508   \n",
       "62      62  0.022836 2022-03-09 08:34:31.985630 2022-03-09 08:42:57.992097   \n",
       "51      51  0.022828 2022-03-09 07:07:35.242389 2022-03-09 07:15:42.261012   \n",
       "13      13  0.022826 2022-03-09 02:12:40.473718 2022-03-09 02:20:57.764894   \n",
       "42      42  0.022804 2022-03-09 05:58:26.011461 2022-03-09 06:06:05.315735   \n",
       "32      32  0.022765 2022-03-09 04:40:30.521009 2022-03-09 04:48:11.926016   \n",
       "28      28  0.022748 2022-03-09 04:11:32.711350 2022-03-09 04:17:41.973605   \n",
       "43      43  0.022735 2022-03-09 06:06:05.316877 2022-03-09 06:12:54.216526   \n",
       "\n",
       "                 duration  params_item_days  params_no_components  \\\n",
       "59 0 days 00:08:15.769586                28                  1024   \n",
       "36 0 days 00:08:16.009396                21                  1024   \n",
       "52 0 days 00:07:40.900546                14                  1024   \n",
       "49 0 days 00:08:19.686400                28                  1024   \n",
       "45 0 days 00:08:21.083794                56                  1024   \n",
       "56 0 days 00:08:21.767668                35                  1024   \n",
       "64 0 days 00:07:03.266407                35                   896   \n",
       "29 0 days 00:07:41.353537                14                  1024   \n",
       "31 0 days 00:06:48.816929                14                   896   \n",
       "21 0 days 00:08:24.157855                49                  1024   \n",
       "16 0 days 00:06:59.085878                49                   896   \n",
       "6  0 days 00:06:52.670998                35                   896   \n",
       "54 0 days 00:08:16.241467                21                  1024   \n",
       "62 0 days 00:08:26.006467                28                  1024   \n",
       "51 0 days 00:08:07.018623                21                  1024   \n",
       "13 0 days 00:08:17.291176                56                  1024   \n",
       "42 0 days 00:07:39.304274                 7                  1024   \n",
       "32 0 days 00:07:41.405007                14                  1024   \n",
       "28 0 days 00:06:09.262255                21                   768   \n",
       "43 0 days 00:06:48.899649                21                   896   \n",
       "\n",
       "    params_user_days     state  \n",
       "59                 7  COMPLETE  \n",
       "36                 7  COMPLETE  \n",
       "52                 7  COMPLETE  \n",
       "49                 7  COMPLETE  \n",
       "45                 7  COMPLETE  \n",
       "56                 7  COMPLETE  \n",
       "64                 7  COMPLETE  \n",
       "29                 7  COMPLETE  \n",
       "31                 7  COMPLETE  \n",
       "21                 7  COMPLETE  \n",
       "16                 7  COMPLETE  \n",
       "6                  7  COMPLETE  \n",
       "54                 7  COMPLETE  \n",
       "62                 7  COMPLETE  \n",
       "51                 7  COMPLETE  \n",
       "13                 7  COMPLETE  \n",
       "42                 7  COMPLETE  \n",
       "32                 7  COMPLETE  \n",
       "28                 7  COMPLETE  \n",
       "43                 7  COMPLETE  "
      ]
     },
     "execution_count": 20,
     "metadata": {},
     "output_type": "execute_result"
    }
   ],
   "source": [
    "study.trials_dataframe().sort_values(by='value', ascending=False).head(20)"
   ]
  },
  {
   "cell_type": "code",
   "execution_count": 22,
   "metadata": {},
   "outputs": [
    {
     "data": {
      "text/plain": [
       "439368"
      ]
     },
     "execution_count": 22,
     "metadata": {},
     "output_type": "execute_result"
    }
   ],
   "source": [
    "len(transactions_train.user.unique())"
   ]
  },
  {
   "cell_type": "code",
   "execution_count": 25,
   "metadata": {},
   "outputs": [
    {
     "data": {
      "text/plain": [
       "329034"
      ]
     },
     "execution_count": 25,
     "metadata": {},
     "output_type": "execute_result"
    }
   ],
   "source": [
    "len(transactions_train.query(\"t_dat > '2020-08-01'\").user.unique())"
   ]
  },
  {
   "cell_type": "code",
   "execution_count": 27,
   "metadata": {},
   "outputs": [
    {
     "data": {
      "text/plain": [
       "1042946"
      ]
     },
     "execution_count": 27,
     "metadata": {},
     "output_type": "execute_result"
    }
   ],
   "source": [
    "len(users) - len(transactions_train.query(\"t_dat > '2020-08-01'\").user.unique())"
   ]
  },
  {
   "cell_type": "code",
   "execution_count": 29,
   "metadata": {},
   "outputs": [],
   "source": [
    "v = set(transactions_valid.user)"
   ]
  },
  {
   "cell_type": "code",
   "execution_count": 36,
   "metadata": {},
   "outputs": [
    {
     "name": "stdout",
     "output_type": "stream",
     "text": [
      "42230\n"
     ]
    }
   ],
   "source": [
    "t = set(transactions_train.query(\"t_dat > '2020-08-25'\").user)\n",
    "print(len(v - t))"
   ]
  },
  {
   "cell_type": "code",
   "execution_count": 37,
   "metadata": {},
   "outputs": [
    {
     "name": "stdout",
     "output_type": "stream",
     "text": [
      "23068\n"
     ]
    }
   ],
   "source": [
    "t = set(transactions_train.user)\n",
    "print(len(v - t))"
   ]
  },
  {
   "cell_type": "code",
   "execution_count": null,
   "metadata": {},
   "outputs": [],
   "source": []
  }
 ],
 "metadata": {
  "interpreter": {
   "hash": "c89b5301ada1d96cd3523f144e4a3cd3ad36f6698a61e6b8277fb627756a86c6"
  },
  "kernelspec": {
   "display_name": "Python 3.9.10 64-bit ('3.9.10')",
   "language": "python",
   "name": "python3"
  },
  "language_info": {
   "codemirror_mode": {
    "name": "ipython",
    "version": 3
   },
   "file_extension": ".py",
   "mimetype": "text/x-python",
   "name": "python",
   "nbconvert_exporter": "python",
   "pygments_lexer": "ipython3",
   "version": "3.9.7"
  },
  "orig_nbformat": 4
 },
 "nbformat": 4,
 "nbformat_minor": 2
}
