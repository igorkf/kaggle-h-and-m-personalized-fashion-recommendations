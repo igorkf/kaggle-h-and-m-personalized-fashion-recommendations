{
 "cells": [
  {
   "cell_type": "markdown",
   "metadata": {},
   "source": [
    "# LightFM user features\n",
    "全部入れると良くなかったので、一旦ユーザーの特徴のみ入れてみる"
   ]
  },
  {
   "cell_type": "code",
   "execution_count": 7,
   "metadata": {},
   "outputs": [],
   "source": [
    "import datetime\n",
    "\n",
    "import faiss\n",
    "import matplotlib.pyplot as plt\n",
    "import numpy as np\n",
    "import optuna\n",
    "import pandas as pd\n",
    "import psutil\n",
    "from lightfm import LightFM\n",
    "\n",
    "import schema\n",
    "from metric import mapk\n",
    "from scipy import sparse"
   ]
  },
  {
   "cell_type": "code",
   "execution_count": 8,
   "metadata": {},
   "outputs": [],
   "source": [
    "articles = pd.read_csv('input/transformed/articles.csv', usecols=schema.ARTICLES.keys(), dtype=schema.ARTICLES)\n",
    "customers = pd.read_csv('input/transformed/customers.csv', usecols=schema.CUSTOMERS.keys(), dtype=schema.CUSTOMERS)\n",
    "n_user = len(customers)\n",
    "n_item = len(articles)"
   ]
  },
  {
   "cell_type": "code",
   "execution_count": 9,
   "metadata": {},
   "outputs": [],
   "source": [
    "transactions = pd.read_csv('input/transformed/transactions_train.csv', parse_dates=['t_dat'], usecols=list(schema.TRANSACTIONS.keys())+['t_dat'], dtype=schema.TRANSACTIONS)\n",
    "TOPK = 12"
   ]
  },
  {
   "cell_type": "code",
   "execution_count": 10,
   "metadata": {},
   "outputs": [],
   "source": [
    "def create_customer_features(customers):\n",
    "    df = customers.copy().drop('customer_id_idx', axis=1)\n",
    "    df['age_is_null'] = df['age'].isnull().astype(int)\n",
    "    df['age'] = df['age'].fillna(df['age'].mean())\n",
    "    for c in ['club_member_status_idx', 'fashion_news_frequency_idx']:\n",
    "        df = pd.concat([df, pd.get_dummies(df[c], prefix=c)], axis=1).drop(c, axis=1)\n",
    "\n",
    "    idxs = sparse.identity(len(df), dtype='f')\n",
    "    return sparse.hstack([idxs, df.values]).astype('float32')\n",
    "\n",
    "\n",
    "def create_article_features(articles):\n",
    "    df = articles.copy().drop('article_id_idx', axis=1)\n",
    "    for c in df.columns:\n",
    "        df = pd.concat([df, pd.get_dummies(df[c], prefix=c)], axis=1).drop(c, axis=1)\n",
    "\n",
    "    idxs = sparse.identity(len(df), dtype='f')\n",
    "    return sparse.hstack([idxs, df.values]).astype('float32')\n",
    "\n",
    "user_features = create_customer_features(customers)\n",
    "# item_features = create_article_features(articles)"
   ]
  },
  {
   "cell_type": "code",
   "execution_count": 11,
   "metadata": {},
   "outputs": [],
   "source": [
    "def objective(trial: optuna.Trial) -> float:\n",
    "    train_days = trial.suggest_int('train_days', 7, 28, 7)\n",
    "    no_components = trial.suggest_int('no_components', 128, 1024, 128)\n",
    "    learning_schedule = 'adadelta'\n",
    "    loss = 'bpr'\n",
    "    learning_rate = trial.suggest_loguniform('learning_rate', 5*1e-3, 5*1e-2)\n",
    "    item_alpha = trial.suggest_loguniform('item_alpha', 1e-12, 1e-6)\n",
    "    user_alpha = trial.suggest_loguniform('user_alpha', 1e-12, 1e-6)\n",
    "    max_sampled = trial.suggest_int('max_sampled', 10, 20)\n",
    "    epochs = 20\n",
    "\n",
    "    lightfm_params = {\n",
    "        'no_components': no_components,\n",
    "        'learning_schedule': learning_schedule,\n",
    "        'loss': loss,\n",
    "        'learning_rate': learning_rate,\n",
    "        'item_alpha': item_alpha,\n",
    "        'user_alpha': user_alpha,\n",
    "        'max_sampled': max_sampled,\n",
    "    }\n",
    "    print(lightfm_params)\n",
    "\n",
    "    valid_start_date = datetime.date(2020, 9, 16)\n",
    "    valid_end_date = datetime.date(2020, 9, 22)\n",
    "    train_end_date = valid_start_date - datetime.timedelta(days=1)\n",
    "    train_start_date = valid_start_date - datetime.timedelta(days=train_days)\n",
    "\n",
    "    transactions_train = transactions.query(\"@train_start_date <= t_dat <= @train_end_date\")\n",
    "    transactions_valid = transactions.query(\"@valid_start_date <= t_dat <= @valid_end_date\")\n",
    "\n",
    "    val = transactions_valid.groupby('customer_id_idx')['article_id_idx'].apply(list).reset_index()\n",
    "\n",
    "    train = sparse.lil_matrix((n_user, n_item))\n",
    "    train[transactions_train.customer_id_idx, transactions_train.article_id_idx] = 1\n",
    "\n",
    "    model = LightFM(**lightfm_params)\n",
    "    model.fit(train, user_features=user_features, epochs=epochs, num_threads=psutil.cpu_count(logical=False), verbose=True)\n",
    "    model.fit(train, epochs=epochs, num_threads=psutil.cpu_count(logical=False), verbose=True)\n",
    "\n",
    "    index = faiss.index_factory(no_components, \"Flat\", faiss.METRIC_INNER_PRODUCT)\n",
    "    index = faiss.index_cpu_to_gpu(faiss.StandardGpuResources(), 0, index)\n",
    "    index.add(model.item_embeddings)\n",
    "    _, idxs = index.search(model.user_embeddings, TOPK)\n",
    "\n",
    "    return mapk(val.article_id_idx, idxs[val.customer_id_idx])"
   ]
  },
  {
   "cell_type": "code",
   "execution_count": 12,
   "metadata": {},
   "outputs": [
    {
     "name": "stderr",
     "output_type": "stream",
     "text": [
      "\u001b[32m[I 2022-03-05 10:09:03,056]\u001b[0m A new study created in memory with name: no-name-98108614-6651-42ad-9786-292c935b772f\u001b[0m\n"
     ]
    },
    {
     "name": "stdout",
     "output_type": "stream",
     "text": [
      "{'no_components': 384, 'learning_schedule': 'adadelta', 'loss': 'bpr', 'learning_rate': 0.04097390085924968, 'item_alpha': 3.457096305467413e-07, 'user_alpha': 3.7218283401567005e-09, 'max_sampled': 20}\n"
     ]
    },
    {
     "name": "stderr",
     "output_type": "stream",
     "text": [
      "Epoch: 100%|██████████| 20/20 [03:08<00:00,  9.41s/it]\n",
      "Epoch: 100%|██████████| 20/20 [00:30<00:00,  1.54s/it]\n",
      "\u001b[32m[I 2022-03-05 10:13:11,749]\u001b[0m Trial 0 finished with value: 0.01866700699740334 and parameters: {'train_days': 21, 'no_components': 384, 'learning_rate': 0.04097390085924968, 'item_alpha': 3.457096305467413e-07, 'user_alpha': 3.7218283401567005e-09, 'max_sampled': 20}. Best is trial 0 with value: 0.01866700699740334.\u001b[0m\n"
     ]
    },
    {
     "name": "stdout",
     "output_type": "stream",
     "text": [
      "{'no_components': 512, 'learning_schedule': 'adadelta', 'loss': 'bpr', 'learning_rate': 0.03349866242414398, 'item_alpha': 9.443054761010596e-11, 'user_alpha': 5.324836756187512e-09, 'max_sampled': 10}\n"
     ]
    },
    {
     "name": "stderr",
     "output_type": "stream",
     "text": [
      "Epoch: 100%|██████████| 20/20 [04:48<00:00, 14.40s/it]\n",
      "Epoch: 100%|██████████| 20/20 [00:47<00:00,  2.37s/it]\n",
      "\u001b[32m[I 2022-03-05 10:19:24,492]\u001b[0m Trial 1 finished with value: 0.019112590991056957 and parameters: {'train_days': 28, 'no_components': 512, 'learning_rate': 0.03349866242414398, 'item_alpha': 9.443054761010596e-11, 'user_alpha': 5.324836756187512e-09, 'max_sampled': 10}. Best is trial 1 with value: 0.019112590991056957.\u001b[0m\n"
     ]
    },
    {
     "name": "stdout",
     "output_type": "stream",
     "text": [
      "{'no_components': 768, 'learning_schedule': 'adadelta', 'loss': 'bpr', 'learning_rate': 0.02215588795793549, 'item_alpha': 4.393876149870726e-12, 'user_alpha': 2.0890890426492952e-07, 'max_sampled': 12}\n"
     ]
    },
    {
     "name": "stderr",
     "output_type": "stream",
     "text": [
      "Epoch: 100%|██████████| 20/20 [03:03<00:00,  9.15s/it]\n",
      "Epoch: 100%|██████████| 20/20 [00:44<00:00,  2.22s/it]\n",
      "\u001b[32m[I 2022-03-05 10:24:06,848]\u001b[0m Trial 2 finished with value: 0.01878062385702717 and parameters: {'train_days': 14, 'no_components': 768, 'learning_rate': 0.02215588795793549, 'item_alpha': 4.393876149870726e-12, 'user_alpha': 2.0890890426492952e-07, 'max_sampled': 12}. Best is trial 1 with value: 0.019112590991056957.\u001b[0m\n"
     ]
    },
    {
     "name": "stdout",
     "output_type": "stream",
     "text": [
      "{'no_components': 640, 'learning_schedule': 'adadelta', 'loss': 'bpr', 'learning_rate': 0.006786215206503564, 'item_alpha': 1.1405198151938895e-10, 'user_alpha': 5.9985559985592826e-09, 'max_sampled': 20}\n"
     ]
    },
    {
     "name": "stderr",
     "output_type": "stream",
     "text": [
      "Epoch: 100%|██████████| 20/20 [04:03<00:00, 12.20s/it]\n",
      "Epoch: 100%|██████████| 20/20 [00:45<00:00,  2.27s/it]\n",
      "\u001b[32m[I 2022-03-05 10:29:41,262]\u001b[0m Trial 3 finished with value: 0.01954261704970779 and parameters: {'train_days': 21, 'no_components': 640, 'learning_rate': 0.006786215206503564, 'item_alpha': 1.1405198151938895e-10, 'user_alpha': 5.9985559985592826e-09, 'max_sampled': 20}. Best is trial 3 with value: 0.01954261704970779.\u001b[0m\n"
     ]
    },
    {
     "name": "stdout",
     "output_type": "stream",
     "text": [
      "{'no_components': 896, 'learning_schedule': 'adadelta', 'loss': 'bpr', 'learning_rate': 0.012562750320194117, 'item_alpha': 2.4685180287738105e-12, 'user_alpha': 6.329080394794304e-12, 'max_sampled': 15}\n"
     ]
    },
    {
     "name": "stderr",
     "output_type": "stream",
     "text": [
      "Epoch: 100%|██████████| 20/20 [04:44<00:00, 14.22s/it]\n",
      "Epoch: 100%|██████████| 20/20 [01:02<00:00,  3.13s/it]\n",
      "\u001b[32m[I 2022-03-05 10:36:31,429]\u001b[0m Trial 4 finished with value: 0.019645245547232452 and parameters: {'train_days': 21, 'no_components': 896, 'learning_rate': 0.012562750320194117, 'item_alpha': 2.4685180287738105e-12, 'user_alpha': 6.329080394794304e-12, 'max_sampled': 15}. Best is trial 4 with value: 0.019645245547232452.\u001b[0m\n"
     ]
    },
    {
     "name": "stdout",
     "output_type": "stream",
     "text": [
      "{'no_components': 512, 'learning_schedule': 'adadelta', 'loss': 'bpr', 'learning_rate': 0.03372751708504411, 'item_alpha': 1.876812377286852e-12, 'user_alpha': 4.6777373146226224e-11, 'max_sampled': 19}\n"
     ]
    },
    {
     "name": "stderr",
     "output_type": "stream",
     "text": [
      "Epoch: 100%|██████████| 20/20 [02:27<00:00,  7.39s/it]\n",
      "Epoch: 100%|██████████| 20/20 [00:33<00:00,  1.67s/it]\n",
      "\u001b[32m[I 2022-03-05 10:40:11,230]\u001b[0m Trial 5 finished with value: 0.01855471358307219 and parameters: {'train_days': 14, 'no_components': 512, 'learning_rate': 0.03372751708504411, 'item_alpha': 1.876812377286852e-12, 'user_alpha': 4.6777373146226224e-11, 'max_sampled': 19}. Best is trial 4 with value: 0.019645245547232452.\u001b[0m\n"
     ]
    },
    {
     "name": "stdout",
     "output_type": "stream",
     "text": [
      "{'no_components': 640, 'learning_schedule': 'adadelta', 'loss': 'bpr', 'learning_rate': 0.010334890922121184, 'item_alpha': 5.600160636657007e-10, 'user_alpha': 5.531822941828911e-08, 'max_sampled': 17}\n"
     ]
    },
    {
     "name": "stderr",
     "output_type": "stream",
     "text": [
      "Epoch: 100%|██████████| 20/20 [04:05<00:00, 12.26s/it]\n",
      "Epoch: 100%|██████████| 20/20 [00:49<00:00,  2.49s/it]\n",
      "\u001b[32m[I 2022-03-05 10:45:53,521]\u001b[0m Trial 6 finished with value: 0.019242349613253936 and parameters: {'train_days': 21, 'no_components': 640, 'learning_rate': 0.010334890922121184, 'item_alpha': 5.600160636657007e-10, 'user_alpha': 5.531822941828911e-08, 'max_sampled': 17}. Best is trial 4 with value: 0.019645245547232452.\u001b[0m\n"
     ]
    },
    {
     "name": "stdout",
     "output_type": "stream",
     "text": [
      "{'no_components': 1024, 'learning_schedule': 'adadelta', 'loss': 'bpr', 'learning_rate': 0.008821138472805483, 'item_alpha': 4.61995309293024e-08, 'user_alpha': 1.2251974498761606e-11, 'max_sampled': 11}\n"
     ]
    },
    {
     "name": "stderr",
     "output_type": "stream",
     "text": [
      "Epoch: 100%|██████████| 20/20 [06:02<00:00, 18.10s/it]\n",
      "Epoch: 100%|██████████| 20/20 [01:11<00:00,  3.55s/it]\n",
      "\u001b[32m[I 2022-03-05 10:54:14,861]\u001b[0m Trial 7 finished with value: 0.01961699605254354 and parameters: {'train_days': 21, 'no_components': 1024, 'learning_rate': 0.008821138472805483, 'item_alpha': 4.61995309293024e-08, 'user_alpha': 1.2251974498761606e-11, 'max_sampled': 11}. Best is trial 4 with value: 0.019645245547232452.\u001b[0m\n"
     ]
    },
    {
     "name": "stdout",
     "output_type": "stream",
     "text": [
      "{'no_components': 128, 'learning_schedule': 'adadelta', 'loss': 'bpr', 'learning_rate': 0.028407333009453285, 'item_alpha': 8.377426252346118e-11, 'user_alpha': 1.3706583642795385e-09, 'max_sampled': 20}\n"
     ]
    },
    {
     "name": "stderr",
     "output_type": "stream",
     "text": [
      "Epoch: 100%|██████████| 20/20 [01:16<00:00,  3.80s/it]\n",
      "Epoch: 100%|██████████| 20/20 [00:09<00:00,  2.03it/s]\n",
      "\u001b[32m[I 2022-03-05 10:55:54,919]\u001b[0m Trial 8 finished with value: 0.016073686489254457 and parameters: {'train_days': 14, 'no_components': 128, 'learning_rate': 0.028407333009453285, 'item_alpha': 8.377426252346118e-11, 'user_alpha': 1.3706583642795385e-09, 'max_sampled': 20}. Best is trial 4 with value: 0.019645245547232452.\u001b[0m\n"
     ]
    },
    {
     "name": "stdout",
     "output_type": "stream",
     "text": [
      "{'no_components': 1024, 'learning_schedule': 'adadelta', 'loss': 'bpr', 'learning_rate': 0.0071700919314241045, 'item_alpha': 5.238870421303572e-10, 'user_alpha': 2.3860600037108236e-09, 'max_sampled': 11}\n"
     ]
    },
    {
     "name": "stderr",
     "output_type": "stream",
     "text": [
      "Epoch: 100%|██████████| 20/20 [07:17<00:00, 21.89s/it]\n",
      "Epoch: 100%|██████████| 20/20 [01:27<00:00,  4.39s/it]\n",
      "\u001b[32m[I 2022-03-05 11:05:49,844]\u001b[0m Trial 9 finished with value: 0.01972308477408533 and parameters: {'train_days': 28, 'no_components': 1024, 'learning_rate': 0.0071700919314241045, 'item_alpha': 5.238870421303572e-10, 'user_alpha': 2.3860600037108236e-09, 'max_sampled': 11}. Best is trial 9 with value: 0.01972308477408533.\u001b[0m\n"
     ]
    },
    {
     "name": "stdout",
     "output_type": "stream",
     "text": [
      "{'no_components': 1024, 'learning_schedule': 'adadelta', 'loss': 'bpr', 'learning_rate': 0.005081556750408691, 'item_alpha': 7.345892309950369e-09, 'user_alpha': 1.3001950792888574e-10, 'max_sampled': 13}\n"
     ]
    },
    {
     "name": "stderr",
     "output_type": "stream",
     "text": [
      "Epoch: 100%|██████████| 20/20 [02:13<00:00,  6.65s/it]\n",
      "Epoch: 100%|██████████| 20/20 [00:43<00:00,  2.16s/it]\n",
      "\u001b[32m[I 2022-03-05 11:09:54,025]\u001b[0m Trial 10 finished with value: 0.016587311755713586 and parameters: {'train_days': 7, 'no_components': 1024, 'learning_rate': 0.005081556750408691, 'item_alpha': 7.345892309950369e-09, 'user_alpha': 1.3001950792888574e-10, 'max_sampled': 13}. Best is trial 9 with value: 0.01972308477408533.\u001b[0m\n"
     ]
    },
    {
     "name": "stdout",
     "output_type": "stream",
     "text": [
      "{'no_components': 896, 'learning_schedule': 'adadelta', 'loss': 'bpr', 'learning_rate': 0.014820677845855388, 'item_alpha': 8.588392171155115e-12, 'user_alpha': 1.5579436479740479e-12, 'max_sampled': 15}\n"
     ]
    },
    {
     "name": "stderr",
     "output_type": "stream",
     "text": [
      "Epoch: 100%|██████████| 20/20 [06:04<00:00, 18.20s/it]\n",
      "Epoch: 100%|██████████| 20/20 [01:13<00:00,  3.66s/it]\n",
      "\u001b[32m[I 2022-03-05 11:18:15,542]\u001b[0m Trial 11 finished with value: 0.019526696655836572 and parameters: {'train_days': 28, 'no_components': 896, 'learning_rate': 0.014820677845855388, 'item_alpha': 8.588392171155115e-12, 'user_alpha': 1.5579436479740479e-12, 'max_sampled': 15}. Best is trial 9 with value: 0.01972308477408533.\u001b[0m\n"
     ]
    },
    {
     "name": "stdout",
     "output_type": "stream",
     "text": [
      "{'no_components': 896, 'learning_schedule': 'adadelta', 'loss': 'bpr', 'learning_rate': 0.013483828927392626, 'item_alpha': 3.204081779561042e-09, 'user_alpha': 1.651820227518676e-10, 'max_sampled': 14}\n"
     ]
    },
    {
     "name": "stderr",
     "output_type": "stream",
     "text": [
      "Epoch: 100%|██████████| 20/20 [05:52<00:00, 17.62s/it]\n",
      "Epoch: 100%|██████████| 20/20 [01:12<00:00,  3.63s/it]\n",
      "\u001b[32m[I 2022-03-05 11:26:24,381]\u001b[0m Trial 12 finished with value: 0.019504378364876923 and parameters: {'train_days': 28, 'no_components': 896, 'learning_rate': 0.013483828927392626, 'item_alpha': 3.204081779561042e-09, 'user_alpha': 1.651820227518676e-10, 'max_sampled': 14}. Best is trial 9 with value: 0.01972308477408533.\u001b[0m\n"
     ]
    },
    {
     "name": "stdout",
     "output_type": "stream",
     "text": [
      "{'no_components': 896, 'learning_schedule': 'adadelta', 'loss': 'bpr', 'learning_rate': 0.008767961167060141, 'item_alpha': 2.060122195301092e-11, 'user_alpha': 1.5689424814202964e-12, 'max_sampled': 17}\n"
     ]
    },
    {
     "name": "stderr",
     "output_type": "stream",
     "text": [
      "Epoch: 100%|██████████| 20/20 [05:57<00:00, 17.86s/it]\n",
      "Epoch: 100%|██████████| 20/20 [01:12<00:00,  3.62s/it]\n",
      "\u001b[32m[I 2022-03-05 11:34:37,594]\u001b[0m Trial 13 finished with value: 0.019941548788653816 and parameters: {'train_days': 28, 'no_components': 896, 'learning_rate': 0.008767961167060141, 'item_alpha': 2.060122195301092e-11, 'user_alpha': 1.5689424814202964e-12, 'max_sampled': 17}. Best is trial 13 with value: 0.019941548788653816.\u001b[0m\n"
     ]
    },
    {
     "name": "stdout",
     "output_type": "stream",
     "text": [
      "{'no_components': 1024, 'learning_schedule': 'adadelta', 'loss': 'bpr', 'learning_rate': 0.007362127303056436, 'item_alpha': 2.4458970601831836e-11, 'user_alpha': 4.5589850701362635e-08, 'max_sampled': 17}\n"
     ]
    },
    {
     "name": "stderr",
     "output_type": "stream",
     "text": [
      "Epoch: 100%|██████████| 20/20 [07:31<00:00, 22.57s/it]\n",
      "Epoch: 100%|██████████| 20/20 [01:25<00:00,  4.26s/it]\n",
      "\u001b[32m[I 2022-03-05 11:44:42,249]\u001b[0m Trial 14 finished with value: 0.01946436011544924 and parameters: {'train_days': 28, 'no_components': 1024, 'learning_rate': 0.007362127303056436, 'item_alpha': 2.4458970601831836e-11, 'user_alpha': 4.5589850701362635e-08, 'max_sampled': 17}. Best is trial 13 with value: 0.019941548788653816.\u001b[0m\n"
     ]
    },
    {
     "name": "stdout",
     "output_type": "stream",
     "text": [
      "{'no_components': 768, 'learning_schedule': 'adadelta', 'loss': 'bpr', 'learning_rate': 0.005503152110961714, 'item_alpha': 9.791159646704305e-10, 'user_alpha': 3.924055159264976e-10, 'max_sampled': 17}\n"
     ]
    },
    {
     "name": "stderr",
     "output_type": "stream",
     "text": [
      "Epoch: 100%|██████████| 20/20 [05:46<00:00, 17.33s/it]\n",
      "Epoch: 100%|██████████| 20/20 [01:00<00:00,  3.05s/it]\n",
      "\u001b[32m[I 2022-03-05 11:52:24,085]\u001b[0m Trial 15 finished with value: 0.01954365594057469 and parameters: {'train_days': 28, 'no_components': 768, 'learning_rate': 0.005503152110961714, 'item_alpha': 9.791159646704305e-10, 'user_alpha': 3.924055159264976e-10, 'max_sampled': 17}. Best is trial 13 with value: 0.019941548788653816.\u001b[0m\n"
     ]
    },
    {
     "name": "stdout",
     "output_type": "stream",
     "text": [
      "{'no_components': 768, 'learning_schedule': 'adadelta', 'loss': 'bpr', 'learning_rate': 0.019144642197203254, 'item_alpha': 4.5530352427294625e-10, 'user_alpha': 1.166175383441355e-12, 'max_sampled': 18}\n"
     ]
    },
    {
     "name": "stderr",
     "output_type": "stream",
     "text": [
      "Epoch: 100%|██████████| 20/20 [01:34<00:00,  4.73s/it]\n",
      "Epoch: 100%|██████████| 20/20 [00:29<00:00,  1.48s/it]\n",
      "\u001b[32m[I 2022-03-05 11:55:20,626]\u001b[0m Trial 16 finished with value: 0.01638452515568219 and parameters: {'train_days': 7, 'no_components': 768, 'learning_rate': 0.019144642197203254, 'item_alpha': 4.5530352427294625e-10, 'user_alpha': 1.166175383441355e-12, 'max_sampled': 18}. Best is trial 13 with value: 0.019941548788653816.\u001b[0m\n"
     ]
    },
    {
     "name": "stdout",
     "output_type": "stream",
     "text": [
      "{'no_components': 128, 'learning_schedule': 'adadelta', 'loss': 'bpr', 'learning_rate': 0.009645209238999959, 'item_alpha': 1.3087702307745533e-08, 'user_alpha': 2.5840362557649772e-11, 'max_sampled': 13}\n"
     ]
    },
    {
     "name": "stderr",
     "output_type": "stream",
     "text": [
      "Epoch: 100%|██████████| 20/20 [02:40<00:00,  8.04s/it]\n",
      "Epoch: 100%|██████████| 20/20 [00:14<00:00,  1.34it/s]\n",
      "\u001b[32m[I 2022-03-05 11:58:30,211]\u001b[0m Trial 17 finished with value: 0.016535167081349358 and parameters: {'train_days': 28, 'no_components': 128, 'learning_rate': 0.009645209238999959, 'item_alpha': 1.3087702307745533e-08, 'user_alpha': 2.5840362557649772e-11, 'max_sampled': 13}. Best is trial 13 with value: 0.019941548788653816.\u001b[0m\n"
     ]
    },
    {
     "name": "stdout",
     "output_type": "stream",
     "text": [
      "{'no_components': 896, 'learning_schedule': 'adadelta', 'loss': 'bpr', 'learning_rate': 0.006646892788497398, 'item_alpha': 1.9214964137113685e-11, 'user_alpha': 6.167919643815403e-07, 'max_sampled': 16}\n"
     ]
    },
    {
     "name": "stderr",
     "output_type": "stream",
     "text": [
      "Epoch: 100%|██████████| 20/20 [05:41<00:00, 17.07s/it]\n",
      "Epoch: 100%|██████████| 20/20 [01:08<00:00,  3.41s/it]\n",
      "\u001b[32m[I 2022-03-05 12:06:21,226]\u001b[0m Trial 18 finished with value: 0.018183367842720826 and parameters: {'train_days': 28, 'no_components': 896, 'learning_rate': 0.006646892788497398, 'item_alpha': 1.9214964137113685e-11, 'user_alpha': 6.167919643815403e-07, 'max_sampled': 16}. Best is trial 13 with value: 0.019941548788653816.\u001b[0m\n"
     ]
    },
    {
     "name": "stdout",
     "output_type": "stream",
     "text": [
      "{'no_components': 1024, 'learning_schedule': 'adadelta', 'loss': 'bpr', 'learning_rate': 0.008320283184731108, 'item_alpha': 2.1235303822142049e-10, 'user_alpha': 2.5716342100158757e-08, 'max_sampled': 10}\n"
     ]
    },
    {
     "name": "stderr",
     "output_type": "stream",
     "text": [
      "Epoch: 100%|██████████| 20/20 [05:44<00:00, 17.22s/it]\n",
      "Epoch: 100%|██████████| 20/20 [01:04<00:00,  3.22s/it]\n",
      "\u001b[32m[I 2022-03-05 12:14:14,694]\u001b[0m Trial 19 finished with value: 0.019661758952200868 and parameters: {'train_days': 21, 'no_components': 1024, 'learning_rate': 0.008320283184731108, 'item_alpha': 2.1235303822142049e-10, 'user_alpha': 2.5716342100158757e-08, 'max_sampled': 10}. Best is trial 13 with value: 0.019941548788653816.\u001b[0m\n"
     ]
    }
   ],
   "source": [
    "study = optuna.create_study(direction='maximize')\n",
    "study.optimize(objective, timeout=7200)"
   ]
  },
  {
   "cell_type": "code",
   "execution_count": 13,
   "metadata": {},
   "outputs": [
    {
     "data": {
      "text/html": [
       "<div>\n",
       "<style scoped>\n",
       "    .dataframe tbody tr th:only-of-type {\n",
       "        vertical-align: middle;\n",
       "    }\n",
       "\n",
       "    .dataframe tbody tr th {\n",
       "        vertical-align: top;\n",
       "    }\n",
       "\n",
       "    .dataframe thead th {\n",
       "        text-align: right;\n",
       "    }\n",
       "</style>\n",
       "<table border=\"1\" class=\"dataframe\">\n",
       "  <thead>\n",
       "    <tr style=\"text-align: right;\">\n",
       "      <th></th>\n",
       "      <th>number</th>\n",
       "      <th>value</th>\n",
       "      <th>datetime_start</th>\n",
       "      <th>datetime_complete</th>\n",
       "      <th>duration</th>\n",
       "      <th>params_item_alpha</th>\n",
       "      <th>params_learning_rate</th>\n",
       "      <th>params_max_sampled</th>\n",
       "      <th>params_no_components</th>\n",
       "      <th>params_train_days</th>\n",
       "      <th>params_user_alpha</th>\n",
       "      <th>state</th>\n",
       "    </tr>\n",
       "  </thead>\n",
       "  <tbody>\n",
       "    <tr>\n",
       "      <th>13</th>\n",
       "      <td>13</td>\n",
       "      <td>0.019942</td>\n",
       "      <td>2022-03-05 11:26:24.382729</td>\n",
       "      <td>2022-03-05 11:34:37.594407</td>\n",
       "      <td>0 days 00:08:13.211678</td>\n",
       "      <td>2.060122e-11</td>\n",
       "      <td>0.008768</td>\n",
       "      <td>17</td>\n",
       "      <td>896</td>\n",
       "      <td>28</td>\n",
       "      <td>1.568942e-12</td>\n",
       "      <td>COMPLETE</td>\n",
       "    </tr>\n",
       "    <tr>\n",
       "      <th>9</th>\n",
       "      <td>9</td>\n",
       "      <td>0.019723</td>\n",
       "      <td>2022-03-05 10:55:54.920487</td>\n",
       "      <td>2022-03-05 11:05:49.844129</td>\n",
       "      <td>0 days 00:09:54.923642</td>\n",
       "      <td>5.238870e-10</td>\n",
       "      <td>0.007170</td>\n",
       "      <td>11</td>\n",
       "      <td>1024</td>\n",
       "      <td>28</td>\n",
       "      <td>2.386060e-09</td>\n",
       "      <td>COMPLETE</td>\n",
       "    </tr>\n",
       "    <tr>\n",
       "      <th>19</th>\n",
       "      <td>19</td>\n",
       "      <td>0.019662</td>\n",
       "      <td>2022-03-05 12:06:21.227686</td>\n",
       "      <td>2022-03-05 12:14:14.694604</td>\n",
       "      <td>0 days 00:07:53.466918</td>\n",
       "      <td>2.123530e-10</td>\n",
       "      <td>0.008320</td>\n",
       "      <td>10</td>\n",
       "      <td>1024</td>\n",
       "      <td>21</td>\n",
       "      <td>2.571634e-08</td>\n",
       "      <td>COMPLETE</td>\n",
       "    </tr>\n",
       "    <tr>\n",
       "      <th>4</th>\n",
       "      <td>4</td>\n",
       "      <td>0.019645</td>\n",
       "      <td>2022-03-05 10:29:41.263655</td>\n",
       "      <td>2022-03-05 10:36:31.428736</td>\n",
       "      <td>0 days 00:06:50.165081</td>\n",
       "      <td>2.468518e-12</td>\n",
       "      <td>0.012563</td>\n",
       "      <td>15</td>\n",
       "      <td>896</td>\n",
       "      <td>21</td>\n",
       "      <td>6.329080e-12</td>\n",
       "      <td>COMPLETE</td>\n",
       "    </tr>\n",
       "    <tr>\n",
       "      <th>7</th>\n",
       "      <td>7</td>\n",
       "      <td>0.019617</td>\n",
       "      <td>2022-03-05 10:45:53.522395</td>\n",
       "      <td>2022-03-05 10:54:14.861605</td>\n",
       "      <td>0 days 00:08:21.339210</td>\n",
       "      <td>4.619953e-08</td>\n",
       "      <td>0.008821</td>\n",
       "      <td>11</td>\n",
       "      <td>1024</td>\n",
       "      <td>21</td>\n",
       "      <td>1.225197e-11</td>\n",
       "      <td>COMPLETE</td>\n",
       "    </tr>\n",
       "    <tr>\n",
       "      <th>15</th>\n",
       "      <td>15</td>\n",
       "      <td>0.019544</td>\n",
       "      <td>2022-03-05 11:44:42.250394</td>\n",
       "      <td>2022-03-05 11:52:24.084984</td>\n",
       "      <td>0 days 00:07:41.834590</td>\n",
       "      <td>9.791160e-10</td>\n",
       "      <td>0.005503</td>\n",
       "      <td>17</td>\n",
       "      <td>768</td>\n",
       "      <td>28</td>\n",
       "      <td>3.924055e-10</td>\n",
       "      <td>COMPLETE</td>\n",
       "    </tr>\n",
       "    <tr>\n",
       "      <th>3</th>\n",
       "      <td>3</td>\n",
       "      <td>0.019543</td>\n",
       "      <td>2022-03-05 10:24:06.849207</td>\n",
       "      <td>2022-03-05 10:29:41.262584</td>\n",
       "      <td>0 days 00:05:34.413377</td>\n",
       "      <td>1.140520e-10</td>\n",
       "      <td>0.006786</td>\n",
       "      <td>20</td>\n",
       "      <td>640</td>\n",
       "      <td>21</td>\n",
       "      <td>5.998556e-09</td>\n",
       "      <td>COMPLETE</td>\n",
       "    </tr>\n",
       "    <tr>\n",
       "      <th>11</th>\n",
       "      <td>11</td>\n",
       "      <td>0.019527</td>\n",
       "      <td>2022-03-05 11:09:54.026009</td>\n",
       "      <td>2022-03-05 11:18:15.541748</td>\n",
       "      <td>0 days 00:08:21.515739</td>\n",
       "      <td>8.588392e-12</td>\n",
       "      <td>0.014821</td>\n",
       "      <td>15</td>\n",
       "      <td>896</td>\n",
       "      <td>28</td>\n",
       "      <td>1.557944e-12</td>\n",
       "      <td>COMPLETE</td>\n",
       "    </tr>\n",
       "    <tr>\n",
       "      <th>12</th>\n",
       "      <td>12</td>\n",
       "      <td>0.019504</td>\n",
       "      <td>2022-03-05 11:18:15.543045</td>\n",
       "      <td>2022-03-05 11:26:24.381409</td>\n",
       "      <td>0 days 00:08:08.838364</td>\n",
       "      <td>3.204082e-09</td>\n",
       "      <td>0.013484</td>\n",
       "      <td>14</td>\n",
       "      <td>896</td>\n",
       "      <td>28</td>\n",
       "      <td>1.651820e-10</td>\n",
       "      <td>COMPLETE</td>\n",
       "    </tr>\n",
       "    <tr>\n",
       "      <th>14</th>\n",
       "      <td>14</td>\n",
       "      <td>0.019464</td>\n",
       "      <td>2022-03-05 11:34:37.595490</td>\n",
       "      <td>2022-03-05 11:44:42.249076</td>\n",
       "      <td>0 days 00:10:04.653586</td>\n",
       "      <td>2.445897e-11</td>\n",
       "      <td>0.007362</td>\n",
       "      <td>17</td>\n",
       "      <td>1024</td>\n",
       "      <td>28</td>\n",
       "      <td>4.558985e-08</td>\n",
       "      <td>COMPLETE</td>\n",
       "    </tr>\n",
       "    <tr>\n",
       "      <th>6</th>\n",
       "      <td>6</td>\n",
       "      <td>0.019242</td>\n",
       "      <td>2022-03-05 10:40:11.230906</td>\n",
       "      <td>2022-03-05 10:45:53.521113</td>\n",
       "      <td>0 days 00:05:42.290207</td>\n",
       "      <td>5.600161e-10</td>\n",
       "      <td>0.010335</td>\n",
       "      <td>17</td>\n",
       "      <td>640</td>\n",
       "      <td>21</td>\n",
       "      <td>5.531823e-08</td>\n",
       "      <td>COMPLETE</td>\n",
       "    </tr>\n",
       "    <tr>\n",
       "      <th>1</th>\n",
       "      <td>1</td>\n",
       "      <td>0.019113</td>\n",
       "      <td>2022-03-05 10:13:11.749991</td>\n",
       "      <td>2022-03-05 10:19:24.491717</td>\n",
       "      <td>0 days 00:06:12.741726</td>\n",
       "      <td>9.443055e-11</td>\n",
       "      <td>0.033499</td>\n",
       "      <td>10</td>\n",
       "      <td>512</td>\n",
       "      <td>28</td>\n",
       "      <td>5.324837e-09</td>\n",
       "      <td>COMPLETE</td>\n",
       "    </tr>\n",
       "    <tr>\n",
       "      <th>2</th>\n",
       "      <td>2</td>\n",
       "      <td>0.018781</td>\n",
       "      <td>2022-03-05 10:19:24.492846</td>\n",
       "      <td>2022-03-05 10:24:06.847963</td>\n",
       "      <td>0 days 00:04:42.355117</td>\n",
       "      <td>4.393876e-12</td>\n",
       "      <td>0.022156</td>\n",
       "      <td>12</td>\n",
       "      <td>768</td>\n",
       "      <td>14</td>\n",
       "      <td>2.089089e-07</td>\n",
       "      <td>COMPLETE</td>\n",
       "    </tr>\n",
       "    <tr>\n",
       "      <th>0</th>\n",
       "      <td>0</td>\n",
       "      <td>0.018667</td>\n",
       "      <td>2022-03-05 10:09:03.058035</td>\n",
       "      <td>2022-03-05 10:13:11.748836</td>\n",
       "      <td>0 days 00:04:08.690801</td>\n",
       "      <td>3.457096e-07</td>\n",
       "      <td>0.040974</td>\n",
       "      <td>20</td>\n",
       "      <td>384</td>\n",
       "      <td>21</td>\n",
       "      <td>3.721828e-09</td>\n",
       "      <td>COMPLETE</td>\n",
       "    </tr>\n",
       "    <tr>\n",
       "      <th>5</th>\n",
       "      <td>5</td>\n",
       "      <td>0.018555</td>\n",
       "      <td>2022-03-05 10:36:31.429780</td>\n",
       "      <td>2022-03-05 10:40:11.229847</td>\n",
       "      <td>0 days 00:03:39.800067</td>\n",
       "      <td>1.876812e-12</td>\n",
       "      <td>0.033728</td>\n",
       "      <td>19</td>\n",
       "      <td>512</td>\n",
       "      <td>14</td>\n",
       "      <td>4.677737e-11</td>\n",
       "      <td>COMPLETE</td>\n",
       "    </tr>\n",
       "    <tr>\n",
       "      <th>18</th>\n",
       "      <td>18</td>\n",
       "      <td>0.018183</td>\n",
       "      <td>2022-03-05 11:58:30.212412</td>\n",
       "      <td>2022-03-05 12:06:21.226692</td>\n",
       "      <td>0 days 00:07:51.014280</td>\n",
       "      <td>1.921496e-11</td>\n",
       "      <td>0.006647</td>\n",
       "      <td>16</td>\n",
       "      <td>896</td>\n",
       "      <td>28</td>\n",
       "      <td>6.167920e-07</td>\n",
       "      <td>COMPLETE</td>\n",
       "    </tr>\n",
       "    <tr>\n",
       "      <th>10</th>\n",
       "      <td>10</td>\n",
       "      <td>0.016587</td>\n",
       "      <td>2022-03-05 11:05:49.845535</td>\n",
       "      <td>2022-03-05 11:09:54.024682</td>\n",
       "      <td>0 days 00:04:04.179147</td>\n",
       "      <td>7.345892e-09</td>\n",
       "      <td>0.005082</td>\n",
       "      <td>13</td>\n",
       "      <td>1024</td>\n",
       "      <td>7</td>\n",
       "      <td>1.300195e-10</td>\n",
       "      <td>COMPLETE</td>\n",
       "    </tr>\n",
       "    <tr>\n",
       "      <th>17</th>\n",
       "      <td>17</td>\n",
       "      <td>0.016535</td>\n",
       "      <td>2022-03-05 11:55:20.627440</td>\n",
       "      <td>2022-03-05 11:58:30.211190</td>\n",
       "      <td>0 days 00:03:09.583750</td>\n",
       "      <td>1.308770e-08</td>\n",
       "      <td>0.009645</td>\n",
       "      <td>13</td>\n",
       "      <td>128</td>\n",
       "      <td>28</td>\n",
       "      <td>2.584036e-11</td>\n",
       "      <td>COMPLETE</td>\n",
       "    </tr>\n",
       "    <tr>\n",
       "      <th>16</th>\n",
       "      <td>16</td>\n",
       "      <td>0.016385</td>\n",
       "      <td>2022-03-05 11:52:24.086089</td>\n",
       "      <td>2022-03-05 11:55:20.626175</td>\n",
       "      <td>0 days 00:02:56.540086</td>\n",
       "      <td>4.553035e-10</td>\n",
       "      <td>0.019145</td>\n",
       "      <td>18</td>\n",
       "      <td>768</td>\n",
       "      <td>7</td>\n",
       "      <td>1.166175e-12</td>\n",
       "      <td>COMPLETE</td>\n",
       "    </tr>\n",
       "    <tr>\n",
       "      <th>8</th>\n",
       "      <td>8</td>\n",
       "      <td>0.016074</td>\n",
       "      <td>2022-03-05 10:54:14.862858</td>\n",
       "      <td>2022-03-05 10:55:54.919374</td>\n",
       "      <td>0 days 00:01:40.056516</td>\n",
       "      <td>8.377426e-11</td>\n",
       "      <td>0.028407</td>\n",
       "      <td>20</td>\n",
       "      <td>128</td>\n",
       "      <td>14</td>\n",
       "      <td>1.370658e-09</td>\n",
       "      <td>COMPLETE</td>\n",
       "    </tr>\n",
       "  </tbody>\n",
       "</table>\n",
       "</div>"
      ],
      "text/plain": [
       "    number     value             datetime_start          datetime_complete  \\\n",
       "13      13  0.019942 2022-03-05 11:26:24.382729 2022-03-05 11:34:37.594407   \n",
       "9        9  0.019723 2022-03-05 10:55:54.920487 2022-03-05 11:05:49.844129   \n",
       "19      19  0.019662 2022-03-05 12:06:21.227686 2022-03-05 12:14:14.694604   \n",
       "4        4  0.019645 2022-03-05 10:29:41.263655 2022-03-05 10:36:31.428736   \n",
       "7        7  0.019617 2022-03-05 10:45:53.522395 2022-03-05 10:54:14.861605   \n",
       "15      15  0.019544 2022-03-05 11:44:42.250394 2022-03-05 11:52:24.084984   \n",
       "3        3  0.019543 2022-03-05 10:24:06.849207 2022-03-05 10:29:41.262584   \n",
       "11      11  0.019527 2022-03-05 11:09:54.026009 2022-03-05 11:18:15.541748   \n",
       "12      12  0.019504 2022-03-05 11:18:15.543045 2022-03-05 11:26:24.381409   \n",
       "14      14  0.019464 2022-03-05 11:34:37.595490 2022-03-05 11:44:42.249076   \n",
       "6        6  0.019242 2022-03-05 10:40:11.230906 2022-03-05 10:45:53.521113   \n",
       "1        1  0.019113 2022-03-05 10:13:11.749991 2022-03-05 10:19:24.491717   \n",
       "2        2  0.018781 2022-03-05 10:19:24.492846 2022-03-05 10:24:06.847963   \n",
       "0        0  0.018667 2022-03-05 10:09:03.058035 2022-03-05 10:13:11.748836   \n",
       "5        5  0.018555 2022-03-05 10:36:31.429780 2022-03-05 10:40:11.229847   \n",
       "18      18  0.018183 2022-03-05 11:58:30.212412 2022-03-05 12:06:21.226692   \n",
       "10      10  0.016587 2022-03-05 11:05:49.845535 2022-03-05 11:09:54.024682   \n",
       "17      17  0.016535 2022-03-05 11:55:20.627440 2022-03-05 11:58:30.211190   \n",
       "16      16  0.016385 2022-03-05 11:52:24.086089 2022-03-05 11:55:20.626175   \n",
       "8        8  0.016074 2022-03-05 10:54:14.862858 2022-03-05 10:55:54.919374   \n",
       "\n",
       "                 duration  params_item_alpha  params_learning_rate  \\\n",
       "13 0 days 00:08:13.211678       2.060122e-11              0.008768   \n",
       "9  0 days 00:09:54.923642       5.238870e-10              0.007170   \n",
       "19 0 days 00:07:53.466918       2.123530e-10              0.008320   \n",
       "4  0 days 00:06:50.165081       2.468518e-12              0.012563   \n",
       "7  0 days 00:08:21.339210       4.619953e-08              0.008821   \n",
       "15 0 days 00:07:41.834590       9.791160e-10              0.005503   \n",
       "3  0 days 00:05:34.413377       1.140520e-10              0.006786   \n",
       "11 0 days 00:08:21.515739       8.588392e-12              0.014821   \n",
       "12 0 days 00:08:08.838364       3.204082e-09              0.013484   \n",
       "14 0 days 00:10:04.653586       2.445897e-11              0.007362   \n",
       "6  0 days 00:05:42.290207       5.600161e-10              0.010335   \n",
       "1  0 days 00:06:12.741726       9.443055e-11              0.033499   \n",
       "2  0 days 00:04:42.355117       4.393876e-12              0.022156   \n",
       "0  0 days 00:04:08.690801       3.457096e-07              0.040974   \n",
       "5  0 days 00:03:39.800067       1.876812e-12              0.033728   \n",
       "18 0 days 00:07:51.014280       1.921496e-11              0.006647   \n",
       "10 0 days 00:04:04.179147       7.345892e-09              0.005082   \n",
       "17 0 days 00:03:09.583750       1.308770e-08              0.009645   \n",
       "16 0 days 00:02:56.540086       4.553035e-10              0.019145   \n",
       "8  0 days 00:01:40.056516       8.377426e-11              0.028407   \n",
       "\n",
       "    params_max_sampled  params_no_components  params_train_days  \\\n",
       "13                  17                   896                 28   \n",
       "9                   11                  1024                 28   \n",
       "19                  10                  1024                 21   \n",
       "4                   15                   896                 21   \n",
       "7                   11                  1024                 21   \n",
       "15                  17                   768                 28   \n",
       "3                   20                   640                 21   \n",
       "11                  15                   896                 28   \n",
       "12                  14                   896                 28   \n",
       "14                  17                  1024                 28   \n",
       "6                   17                   640                 21   \n",
       "1                   10                   512                 28   \n",
       "2                   12                   768                 14   \n",
       "0                   20                   384                 21   \n",
       "5                   19                   512                 14   \n",
       "18                  16                   896                 28   \n",
       "10                  13                  1024                  7   \n",
       "17                  13                   128                 28   \n",
       "16                  18                   768                  7   \n",
       "8                   20                   128                 14   \n",
       "\n",
       "    params_user_alpha     state  \n",
       "13       1.568942e-12  COMPLETE  \n",
       "9        2.386060e-09  COMPLETE  \n",
       "19       2.571634e-08  COMPLETE  \n",
       "4        6.329080e-12  COMPLETE  \n",
       "7        1.225197e-11  COMPLETE  \n",
       "15       3.924055e-10  COMPLETE  \n",
       "3        5.998556e-09  COMPLETE  \n",
       "11       1.557944e-12  COMPLETE  \n",
       "12       1.651820e-10  COMPLETE  \n",
       "14       4.558985e-08  COMPLETE  \n",
       "6        5.531823e-08  COMPLETE  \n",
       "1        5.324837e-09  COMPLETE  \n",
       "2        2.089089e-07  COMPLETE  \n",
       "0        3.721828e-09  COMPLETE  \n",
       "5        4.677737e-11  COMPLETE  \n",
       "18       6.167920e-07  COMPLETE  \n",
       "10       1.300195e-10  COMPLETE  \n",
       "17       2.584036e-11  COMPLETE  \n",
       "16       1.166175e-12  COMPLETE  \n",
       "8        1.370658e-09  COMPLETE  "
      ]
     },
     "execution_count": 13,
     "metadata": {},
     "output_type": "execute_result"
    }
   ],
   "source": [
    "study.trials_dataframe().sort_values(by='value', ascending=False).head(20)"
   ]
  },
  {
   "cell_type": "markdown",
   "metadata": {},
   "source": [
    "この実験では特徴いれないほうがよい"
   ]
  },
  {
   "cell_type": "markdown",
   "metadata": {},
   "source": []
  }
 ],
 "metadata": {
  "interpreter": {
   "hash": "c89b5301ada1d96cd3523f144e4a3cd3ad36f6698a61e6b8277fb627756a86c6"
  },
  "kernelspec": {
   "display_name": "Python 3.9.10 64-bit ('3.9.10')",
   "language": "python",
   "name": "python3"
  },
  "language_info": {
   "codemirror_mode": {
    "name": "ipython",
    "version": 3
   },
   "file_extension": ".py",
   "mimetype": "text/x-python",
   "name": "python",
   "nbconvert_exporter": "python",
   "pygments_lexer": "ipython3",
   "version": "3.9.7"
  },
  "orig_nbformat": 4
 },
 "nbformat": 4,
 "nbformat_minor": 2
}
