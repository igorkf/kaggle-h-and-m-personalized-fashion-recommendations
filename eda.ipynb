{
 "cells": [
  {
   "cell_type": "code",
   "execution_count": 54,
   "metadata": {},
   "outputs": [],
   "source": [
    "import numpy as np\n",
    "import pandas as pd\n",
    "from tqdm.auto import tqdm\n",
    "from utils import plot_images, train_valid_split\n",
    "from metric import apk, mapk\n",
    "import lightgbm as lgb\n",
    "\n",
    "import faiss\n",
    "import psutil\n",
    "from lightfm import LightFM\n",
    "from scipy import sparse\n"
   ]
  },
  {
   "cell_type": "code",
   "execution_count": 55,
   "metadata": {},
   "outputs": [],
   "source": [
    "dataset = '10'\n",
    "\n",
    "transactions = pd.read_pickle(f\"input/{dataset}/transactions_train.pkl\")\n",
    "users = pd.read_pickle(f\"input/{dataset}/users.pkl\")\n",
    "items = pd.read_pickle(f\"input/{dataset}/items.pkl\")\n",
    "transactions['day'] = (transactions['t_dat'].max() - transactions['t_dat']).dt.days\n"
   ]
  },
  {
   "cell_type": "code",
   "execution_count": 56,
   "metadata": {},
   "outputs": [],
   "source": [
    "def lfm(week_start, week_end, target_users):\n",
    "    NUM_ITEMS = 30\n",
    "    a = transactions.query(\"@week_start <= week <= @week_end\")\n",
    "    n_user = len(users)\n",
    "    n_item = len(items)\n",
    "\n",
    "    a_train = sparse.lil_matrix((n_user, n_item))\n",
    "    a_train[a['user'], a['item']] = 1\n",
    "\n",
    "    no_components = 128\n",
    "    lightfm_params = {\n",
    "        'no_components': no_components,\n",
    "        'learning_schedule': 'adadelta',\n",
    "        'loss': 'warp',\n",
    "        'learning_rate': 0.005,\n",
    "    }\n",
    "\n",
    "    model = LightFM(**lightfm_params)\n",
    "    model.fit(a_train, epochs=100, num_threads=psutil.cpu_count(logical=False), verbose=True)\n",
    "    index = faiss.index_factory(no_components, \"Flat\", faiss.METRIC_INNER_PRODUCT)\n",
    "    index = faiss.index_cpu_to_gpu(faiss.StandardGpuResources(), 0, index)\n",
    "    index.add(model.item_embeddings)\n",
    "    _, idxs = index.search(model.user_embeddings, NUM_ITEMS)\n",
    "\n",
    "    return pd.DataFrame({\n",
    "        'user': np.repeat(target_users, NUM_ITEMS),\n",
    "        'item': idxs[target_users].flatten(),\n",
    "        'lfm_rank': list(range(NUM_ITEMS)) * len(target_users),\n",
    "    })\n"
   ]
  },
  {
   "cell_type": "code",
   "execution_count": 57,
   "metadata": {},
   "outputs": [],
   "source": [
    "def create_candidates(transactions: pd.DataFrame, target_users: np.ndarray, week: int) -> pd.DataFrame:\n",
    "    \"\"\"\n",
    "    transactions\n",
    "        original transactions (user, item, week)\n",
    "    target_users, week\n",
    "        候補生成対象のユーザー\n",
    "        weekで指定されている週の段階での情報のみから作られる\n",
    "    \"\"\"\n",
    "    assert len(target_users) == len(set(target_users))\n",
    "\n",
    "    def create_candidates_repurchase(\n",
    "            prefix: str,\n",
    "            transactions: pd.DataFrame,\n",
    "            target_users: np.ndarray,\n",
    "            week_start: int,\n",
    "            week_end: int) -> pd.DataFrame:\n",
    "        tr = transactions.query(\n",
    "            \"user in @target_users and @week_start <= week <= @week_end\")[['user', 'item', 'week']].drop_duplicates(ignore_index=True)\n",
    "\n",
    "        gr_week = tr.groupby(['user', 'item'])['week'].min().reset_index(name='week')\n",
    "        gr_volume = tr.groupby(['user', 'item']).size().reset_index(name='volume')\n",
    "\n",
    "        gr_week['week_rank'] = gr_week.groupby('user')['week'].rank()\n",
    "        gr_volume['volume_rank'] = gr_volume.groupby('user')['volume'].rank()\n",
    "\n",
    "        candidates = gr_week.merge(gr_volume, on=['user', 'item'])\n",
    "        candidates = candidates[['user', 'item', 'week_rank', 'volume_rank']].rename(\n",
    "            columns={'week_rank': f'{prefix}_week_rank', 'volume_rank': f'{prefix}_volume_rank'})\n",
    "        return candidates\n",
    "\n",
    "    def create_candidates_popular(\n",
    "            prefix: str,\n",
    "            transactions: pd.DataFrame,\n",
    "            target_users: np.ndarray,\n",
    "            week_start: int,\n",
    "            week_end: int) -> pd.DataFrame:\n",
    "        NUM_POPULAR_ITEMS = 24\n",
    "        tr = transactions.query(\"@week_start <= week <= @week_end\")[['user', 'item']].drop_duplicates(ignore_index=True)\n",
    "        popular_items = tr['item'].value_counts().index.values[:NUM_POPULAR_ITEMS]\n",
    "        popular_items = pd.DataFrame({\n",
    "            'item': popular_items,\n",
    "            'rank': range(NUM_POPULAR_ITEMS),\n",
    "            'crossjoinkey': 1,\n",
    "        })\n",
    "\n",
    "        candidates = pd.DataFrame({\n",
    "            'user': target_users,\n",
    "            'crossjoinkey': 1,\n",
    "        })\n",
    "\n",
    "        candidates = candidates.merge(popular_items, on='crossjoinkey').drop('crossjoinkey', axis=1)\n",
    "        candidates = candidates.rename(columns={'rank': f'{prefix}_rank'})\n",
    "        return candidates\n",
    "\n",
    "    def create_candidates_popular_index_group_name(\n",
    "            prefix: str,\n",
    "            transactions: pd.DataFrame,\n",
    "            items: pd.DataFrame,\n",
    "            target_users: np.ndarray,\n",
    "            week_start: int,\n",
    "            week_end: int,\n",
    "            index_group_name: str) -> pd.DataFrame:\n",
    "        NUM_POPULAR_ITEMS = 3\n",
    "        tr = transactions.query(\"@week_start <= week <= @week_end\")[['user', 'item']].drop_duplicates(ignore_index=True)\n",
    "        tr = tr.merge(items[['item', 'index_group_name']], on='item').query(\n",
    "            \"index_group_name == @index_group_name\").drop('index_group_name', axis=1).reset_index(drop=True)\n",
    "\n",
    "        popular_items = tr['item'].value_counts().index.values[:NUM_POPULAR_ITEMS]\n",
    "        popular_items = pd.DataFrame({\n",
    "            'item': popular_items,\n",
    "            'rank': range(NUM_POPULAR_ITEMS),\n",
    "            'crossjoinkey': 1,\n",
    "        })\n",
    "\n",
    "        candidates = pd.DataFrame({\n",
    "            'user': target_users,\n",
    "            'crossjoinkey': 1,\n",
    "        })\n",
    "\n",
    "        candidates = candidates.merge(popular_items, on='crossjoinkey').drop('crossjoinkey', axis=1)\n",
    "        candidates = candidates.rename(columns={'rank': f'{prefix}_rank'})\n",
    "        return candidates\n",
    "\n",
    "    def create_candidates_cooc(\n",
    "            prefix: str,\n",
    "            transactions: pd.DataFrame,\n",
    "            week_start: int,\n",
    "            week_end: int,\n",
    "            base_candidates: pd.DataFrame) -> pd.DataFrame:\n",
    "        tr = transactions.query(\"@week_start <= week == @week_end\")[['user', 'item', 'week']].drop_duplicates(ignore_index=True)\n",
    "        tr = tr.merge(tr.rename(columns={'item': 'item_with', 'week': 'week_with'}), on='user').query(\n",
    "            \"item != item_with and week <= week_with\")[['item', 'item_with']].reset_index(drop=True)\n",
    "        gr_sz = tr.groupby('item').size().reset_index(name='tot')\n",
    "        gr_cnt = tr.groupby(['item', 'item_with']).size().reset_index(name='cnt')\n",
    "        item2item = gr_cnt.merge(gr_sz, on='item')\n",
    "        item2item['ratio'] = item2item['cnt'] / item2item['tot']\n",
    "        item2item = item2item.query(\"ratio >= 0.02\").reset_index(drop=True)\n",
    "\n",
    "        base_candidates_columns = [c for c in base_candidates.columns if c not in ['user', 'item', 'week']]\n",
    "        replace = {c: f\"{prefix}_{c}\" for c in base_candidates_columns}\n",
    "        candidates = base_candidates.merge(item2item, on='item').drop(\n",
    "            ['item', 'cnt'], axis=1).rename(columns={'item_with': 'item'}).rename(columns=replace)\n",
    "        candidates = candidates.rename(columns={'ratio': f'{prefix}_ratio', 'tot': f'{prefix}_tot'})\n",
    "        return candidates\n",
    "\n",
    "    def create_candidates_same_product_code(\n",
    "            prefix: str,\n",
    "            items: pd.DataFrame,\n",
    "            base_candidates: pd.DataFrame) -> pd.DataFrame:\n",
    "        item2item = items[['item', 'product_code']].merge(items[['item', 'product_code']].rename(\n",
    "            {'item': 'item_with'}, axis=1), on='product_code')[['item', 'item_with']].query(\"item != item_with\").reset_index(drop=True)\n",
    "\n",
    "        base_candidates_columns = [c for c in base_candidates.columns if c not in ['user', 'item', 'week']]\n",
    "        replace = {c: f\"{prefix}_{c}\" for c in base_candidates_columns}\n",
    "        candidates = base_candidates.merge(\n",
    "            item2item,\n",
    "            on='item').drop(\n",
    "            'item',\n",
    "            axis=1).rename(\n",
    "            columns={\n",
    "                'item_with': 'item'}).rename(\n",
    "                    columns=replace)\n",
    "        return candidates\n",
    "\n",
    "    candidates = [\n",
    "        create_candidates_repurchase('repurchase', transactions, target_users, week, week + 3),\n",
    "        create_candidates_popular('pop', transactions, target_users, week, week),\n",
    "\n",
    "        # create_candidates_popular_index_group_name(\n",
    "        #     'pop_ladieswear', transactions, items, target_users, week, week, 'Ladieswear'),\n",
    "        # create_candidates_popular_index_group_name('pop_divided', transactions, items, target_users, week, week, 'Divided'),\n",
    "        # create_candidates_popular_index_group_name(\n",
    "        #     'pop_menswear', transactions, items, target_users, week, week, 'Menswear'),\n",
    "        # create_candidates_popular_index_group_name('pop_sport', transactions, items, target_users, week, week, 'Sport'),\n",
    "        # create_candidates_popular_index_group_name(\n",
    "        #     'pop_baby', transactions, items, target_users, week, week, 'Baby/Children'),\n",
    "    ]\n",
    "    candidates.append(create_candidates_cooc('cooc', transactions, week, week + 9, candidates[0]))\n",
    "    candidates.append(create_candidates_same_product_code('same_product_code', items, candidates[0]))\n",
    "    # candidates.append(lfm(week, week + 3, target_users))\n",
    "\n",
    "    volumes = np.array([len(c) for c in candidates])\n",
    "    print(volumes, volumes / np.sum(volumes))\n",
    "\n",
    "    return pd.concat(candidates).reset_index(drop=True)\n"
   ]
  },
  {
   "cell_type": "code",
   "execution_count": 58,
   "metadata": {},
   "outputs": [
    {
     "name": "stderr",
     "output_type": "stream",
     "text": [
      "Epoch: 100%|██████████| 100/100 [00:10<00:00,  9.17it/s]\n"
     ]
    },
    {
     "name": "stdout",
     "output_type": "stream",
     "text": [
      "[ 15655 164160  73970  88114 205200] [0.02861457 0.30005538 0.13520405 0.16105677 0.37506923]\n"
     ]
    },
    {
     "name": "stderr",
     "output_type": "stream",
     "text": [
      "Epoch: 100%|██████████| 100/100 [00:10<00:00,  9.15it/s]\n"
     ]
    },
    {
     "name": "stdout",
     "output_type": "stream",
     "text": [
      "[ 16932 171576  89037  96108 214470] [0.0287899  0.29173489 0.1513918  0.1634148  0.36466862]\n"
     ]
    }
   ],
   "source": [
    "# 評価用\n",
    "users_1 = transactions[transactions['week'] == 1]['user'].unique()\n",
    "candidates_1 = create_candidates(transactions, users_1, 2)\n",
    "\n",
    "# 学習用\n",
    "users_2 = transactions[transactions['week'] == 2]['user'].unique()\n",
    "candidates_2 = create_candidates(transactions, users_2, 3)\n"
   ]
  },
  {
   "cell_type": "code",
   "execution_count": 59,
   "metadata": {},
   "outputs": [],
   "source": [
    "def merge_labels(candidates: pd.DataFrame, week: int) -> pd.DataFrame:\n",
    "    \"\"\"\n",
    "    candidates\n",
    "        (user, item, strategy, score)\n",
    "\n",
    "    Return\n",
    "    ------\n",
    "    (user, item, y, ...)\n",
    "    \"\"\"\n",
    "    labels = transactions[transactions['week'] == week][['user', 'item']].drop_duplicates(ignore_index=True)\n",
    "    labels['y'] = 1\n",
    "    original_positives = len(labels)\n",
    "    labels = candidates.merge(labels, on=['user', 'item'], how='left')\n",
    "    labels['y'] = labels['y'].fillna(0)\n",
    "    remaining_positives = labels[['user', 'item', 'y']].drop_duplicates(ignore_index=True)['y'].sum()\n",
    "    recall = remaining_positives / original_positives\n",
    "    print(f\"Recall: {recall}\")\n",
    "    return labels\n"
   ]
  },
  {
   "cell_type": "code",
   "execution_count": 60,
   "metadata": {},
   "outputs": [
    {
     "name": "stdout",
     "output_type": "stream",
     "text": [
      "Recall: 0.09302545661020158\n",
      "Recall: 0.07715435292036964\n"
     ]
    }
   ],
   "source": [
    "labels_1 = merge_labels(candidates_1, 1)\n",
    "labels_2 = merge_labels(candidates_2, 2)\n"
   ]
  },
  {
   "cell_type": "code",
   "execution_count": 61,
   "metadata": {},
   "outputs": [],
   "source": [
    "def get_query_group(df):\n",
    "    def run_length_encoding(sequence):\n",
    "        comp_seq_index, = np.concatenate(([True], sequence[1:] != sequence[:-1], [True])).nonzero()\n",
    "        return sequence[comp_seq_index[:-1]], np.ediff1d(comp_seq_index)\n",
    "    users = df['user'].values\n",
    "    _, group = run_length_encoding(users)\n",
    "    return list(group)\n",
    "\n",
    "\n",
    "def postprocess_for_lgbm(labels):\n",
    "    \"\"\"\n",
    "    LightGBMのxendgcやlambdarank用の加工\n",
    "    * 正例のみや負例のみのuserは学習に無意味なのと、メトリックの計算がおかしくなるので省く\n",
    "    * userでソートして、データセットに与える必要があるグループを計算する\n",
    "    user, y\n",
    "    \"\"\"\n",
    "    bef = len(labels)\n",
    "    df = labels[labels['user'].isin(labels[['user', 'y']].drop_duplicates().groupby(\n",
    "        'user').size().reset_index(name='sz').query(\"sz==2\").user)].reset_index(drop=True)\n",
    "    aft = len(df)\n",
    "    print(f\"drop trivial queries: {bef} -> {aft}\")\n",
    "\n",
    "    df = df.sort_values(by='user').reset_index(drop=True)\n",
    "\n",
    "    group = get_query_group(df)\n",
    "\n",
    "    return df, group\n"
   ]
  },
  {
   "cell_type": "code",
   "execution_count": 62,
   "metadata": {},
   "outputs": [
    {
     "name": "stdout",
     "output_type": "stream",
     "text": [
      "drop trivial queries: 547099 -> 146166\n",
      "drop trivial queries: 588123 -> 141047\n"
     ]
    }
   ],
   "source": [
    "labels_1['week'] = 1\n",
    "labels_2['week'] = 2\n",
    "\n",
    "valid = labels_1.copy()\n",
    "pred = labels_1.copy()\n",
    "train = pd.concat([labels_2]).reset_index(drop=True)\n",
    "\n",
    "valid, group_valid = postprocess_for_lgbm(valid)\n",
    "train, group_train = postprocess_for_lgbm(train)\n"
   ]
  },
  {
   "cell_type": "code",
   "execution_count": 63,
   "metadata": {},
   "outputs": [
    {
     "data": {
      "text/plain": [
       "['product_type_no_idx',\n",
       " 'product_group_name_idx',\n",
       " 'graphical_appearance_no_idx',\n",
       " 'colour_group_code_idx',\n",
       " 'perceived_colour_value_id_idx',\n",
       " 'perceived_colour_master_id_idx',\n",
       " 'department_no_idx',\n",
       " 'index_code_idx',\n",
       " 'index_group_no_idx',\n",
       " 'section_no_idx',\n",
       " 'garment_group_no_idx']"
      ]
     },
     "execution_count": 63,
     "metadata": {},
     "output_type": "execute_result"
    }
   ],
   "source": [
    "item_features = [c for c in items.columns if c.endswith('idx')]\n",
    "item_features\n"
   ]
  },
  {
   "cell_type": "code",
   "execution_count": 64,
   "metadata": {},
   "outputs": [],
   "source": [
    "user_features = ['FN', 'Active', 'age', 'club_member_status_idx', 'fashion_news_frequency_idx']\n"
   ]
  },
  {
   "cell_type": "code",
   "execution_count": 65,
   "metadata": {},
   "outputs": [
    {
     "data": {
      "text/plain": [
       "(146166, 141047, 547099)"
      ]
     },
     "execution_count": 65,
     "metadata": {},
     "output_type": "execute_result"
    }
   ],
   "source": [
    "train = train.merge(items[['item'] + item_features], on='item').merge(users[['user'] + user_features], on='user')\n",
    "valid = valid.merge(items[['item'] + item_features], on='item').merge(users[['user'] + user_features], on='user')\n",
    "pred = pred.merge(items[['item'] + item_features], on='item').merge(users[['user'] + user_features], on='user')\n",
    "len(valid), len(train), len(pred)\n"
   ]
  },
  {
   "cell_type": "code",
   "execution_count": 66,
   "metadata": {},
   "outputs": [],
   "source": [
    "user_dynamic_features_0 = transactions.query(\"3 <= week <= 8\").groupby(\n",
    "    'user')[['price', 'sales_channel_id']].agg(['mean', 'std'])\n",
    "user_dynamic_features_1 = transactions.query(\"2 <= week <= 7\").groupby(\n",
    "    'user')[['price', 'sales_channel_id']].agg(['mean', 'std'])\n",
    "user_dynamic_features_0.columns = ['user_' + '_'.join(a) for a in user_dynamic_features_0.columns.to_flat_index()]\n",
    "user_dynamic_features_1.columns = ['user_' + '_'.join(a) for a in user_dynamic_features_1.columns.to_flat_index()]\n",
    "\n",
    "\n",
    "item_dynamic_features_0 = transactions.query(\"3 <= week <= 8\").groupby(\n",
    "    'item')[['price', 'sales_channel_id']].agg(['mean', 'std'])\n",
    "item_dynamic_features_1 = transactions.query(\"2 <= week <= 7\").groupby(\n",
    "    'item')[['price', 'sales_channel_id']].agg(['mean', 'std'])\n",
    "item_dynamic_features_0.columns = ['item_' + '_'.join(a) for a in item_dynamic_features_0.columns.to_flat_index()]\n",
    "item_dynamic_features_1.columns = ['item_' + '_'.join(a) for a in item_dynamic_features_1.columns.to_flat_index()]\n",
    "\n",
    "train = train.merge(user_dynamic_features_0, on='user', how='left')\n",
    "valid = valid.merge(user_dynamic_features_1, on='user', how='left')\n",
    "pred = pred.merge(user_dynamic_features_1, on='user', how='left')\n",
    "\n",
    "train = train.merge(item_dynamic_features_0, on='item', how='left')\n",
    "valid = valid.merge(item_dynamic_features_1, on='item', how='left')\n",
    "pred = pred.merge(item_dynamic_features_1, on='item', how='left')\n"
   ]
  },
  {
   "cell_type": "code",
   "execution_count": 67,
   "metadata": {},
   "outputs": [],
   "source": [
    "item_dynamic_features_0 = transactions.query(\"3 <= week <= 8\").merge(users[['user', 'age']], on='user')\n",
    "item_dynamic_features_0 = item_dynamic_features_0.groupby('item')['age'].agg(['mean', 'std'])\n",
    "item_dynamic_features_0.columns = [f'age_{a}' for a in item_dynamic_features_0.columns.to_flat_index()]\n",
    "\n",
    "item_dynamic_features_1 = transactions.query(\"2 <= week <= 7\").merge(users[['user', 'age']], on='user')\n",
    "item_dynamic_features_1 = item_dynamic_features_1.groupby('item')['age'].agg(['mean', 'std'])\n",
    "item_dynamic_features_1.columns = [f'age_{a}' for a in item_dynamic_features_1.columns.to_flat_index()]\n",
    "\n",
    "train = train.merge(item_dynamic_features_0, on='item', how='left')\n",
    "valid = valid.merge(item_dynamic_features_1, on='item', how='left')\n",
    "pred = pred.merge(item_dynamic_features_1, on='item', how='left')\n"
   ]
  },
  {
   "cell_type": "code",
   "execution_count": 68,
   "metadata": {},
   "outputs": [],
   "source": [
    "weeks_0 = transactions.query(\"week >= 3\").groupby('item')['week'].min().reset_index(name='item_week_min')\n",
    "weeks_0['item_week_min'] -= 3\n",
    "counts_0 = transactions.query(\"3 <= week <= 3\").groupby('item').size().reset_index(name='item_volume')\n",
    "\n",
    "train = train.merge(weeks_0, on='item', how='left').merge(counts_0, on='item', how='left')\n",
    "\n",
    "weeks_1 = transactions.query(\"week >= 2\").groupby('item')['week'].min().reset_index(name='item_week_min')\n",
    "weeks_1['item_week_min'] -= 2\n",
    "counts_1 = transactions.query(\"2 <= week <= 2\").groupby('item').size().reset_index(name='item_volume')\n",
    "\n",
    "valid = valid.merge(weeks_1, on='item', how='left').merge(counts_1, on='item', how='left')\n",
    "pred = pred.merge(weeks_1, on='item', how='left').merge(counts_1, on='item', how='left')\n"
   ]
  },
  {
   "cell_type": "code",
   "execution_count": 69,
   "metadata": {},
   "outputs": [],
   "source": [
    "hoge = transactions.query(\"week >= 3\").groupby(['user', 'item'])['week'].min().reset_index(name='user_item_week_min')\n",
    "hoge['user_item_week_min'] -= 3\n",
    "train = train.merge(hoge, on=['user', 'item'], how='left')\n",
    "\n",
    "hoge = transactions.query(\"week >= 2\").groupby(['user', 'item'])['week'].min().reset_index(name='user_item_week_min')\n",
    "hoge['user_item_week_min'] -= 2\n",
    "valid = valid.merge(hoge, on=['user', 'item'], how='left')\n",
    "pred = pred.merge(hoge, on=['user', 'item'], how='left')\n"
   ]
  },
  {
   "cell_type": "code",
   "execution_count": 70,
   "metadata": {},
   "outputs": [],
   "source": [
    "hoge = transactions.query(\"3 <= week <= 3\").groupby(['user', 'item']).size().reset_index(name='user_item_volume')\n",
    "train = train.merge(hoge, on=['user', 'item'], how='left')\n",
    "\n",
    "hoge = transactions.query(\"2 <= week <= 2\").groupby(['user', 'item']).size().reset_index(name='user_item_volume')\n",
    "valid = valid.merge(hoge, on=['user', 'item'], how='left')\n",
    "pred = pred.merge(hoge, on=['user', 'item'], how='left')\n"
   ]
  },
  {
   "cell_type": "code",
   "execution_count": 71,
   "metadata": {},
   "outputs": [
    {
     "name": "stdout",
     "output_type": "stream",
     "text": [
      "['user', 'item', 'repurchase_week_rank', 'repurchase_volume_rank', 'pop_rank', 'cooc_repurchase_week_rank', 'cooc_repurchase_volume_rank', 'cooc_tot', 'cooc_ratio', 'same_product_code_repurchase_week_rank', 'same_product_code_repurchase_volume_rank', 'lfm_rank', 'product_type_no_idx', 'product_group_name_idx', 'graphical_appearance_no_idx', 'colour_group_code_idx', 'perceived_colour_value_id_idx', 'perceived_colour_master_id_idx', 'department_no_idx', 'index_code_idx', 'index_group_no_idx', 'section_no_idx', 'garment_group_no_idx', 'FN', 'Active', 'age', 'club_member_status_idx', 'fashion_news_frequency_idx', 'user_price_mean', 'user_price_std', 'user_sales_channel_id_mean', 'user_sales_channel_id_std', 'item_price_mean', 'item_price_std', 'item_sales_channel_id_mean', 'item_sales_channel_id_std', 'age_mean', 'age_std', 'item_week_min', 'item_volume', 'user_item_week_min', 'user_item_volume']\n"
     ]
    }
   ],
   "source": [
    "feature_columns = [c for c in train.columns if c not in ['y', 'week']]\n",
    "print(feature_columns)\n"
   ]
  },
  {
   "cell_type": "code",
   "execution_count": 72,
   "metadata": {},
   "outputs": [],
   "source": [
    "train_dataset = lgb.Dataset(train[feature_columns], train['y'], group=group_train)\n",
    "valid_dataset = lgb.Dataset(valid[feature_columns], valid['y'], group=group_valid, reference=train_dataset)\n"
   ]
  },
  {
   "cell_type": "code",
   "execution_count": 73,
   "metadata": {},
   "outputs": [
    {
     "name": "stdout",
     "output_type": "stream",
     "text": [
      "[LightGBM] [Info] Total groups: 1354, total data: 141047\n",
      "[LightGBM] [Warning] Auto-choosing row-wise multi-threading, the overhead of testing was 0.005866 seconds.\n",
      "You can set `force_row_wise=true` to remove the overhead.\n",
      "And if memory is not enough, you can set `force_col_wise=true`.\n",
      "[LightGBM] [Info] Total Bins 4255\n",
      "[LightGBM] [Info] Number of data points in the train set: 141047, number of used features: 42\n",
      "[LightGBM] [Info] Total groups: 1442, total data: 146166\n",
      "Training until validation scores don't improve for 10 rounds\n",
      "Early stopping, best iteration is:\n",
      "[67]\ttraining's map@12: 0.575268\tvalid_1's map@12: 0.453445\n"
     ]
    }
   ],
   "source": [
    "params = {\n",
    "    'objective': 'xendcg',\n",
    "    'boosting_type': 'gbdt',\n",
    "    'learning_rate': 1e-3,\n",
    "    'num_leaves': 255,\n",
    "    'min_data_in_leaf': 100,\n",
    "    'metric': 'map',\n",
    "    'eval_at': 12,\n",
    "}\n",
    "\n",
    "model = lgb.train(\n",
    "    params, train_dataset, valid_sets=[\n",
    "        train_dataset, valid_dataset], num_boost_round=1000, callbacks=[\n",
    "            lgb.early_stopping(10)])\n"
   ]
  },
  {
   "cell_type": "code",
   "execution_count": 74,
   "metadata": {},
   "outputs": [
    {
     "data": {
      "text/plain": [
       "<AxesSubplot:title={'center':'Feature importance'}, xlabel='Feature importance', ylabel='Features'>"
      ]
     },
     "execution_count": 74,
     "metadata": {},
     "output_type": "execute_result"
    },
    {
     "data": {
      "image/png": "[encoded data removed]",
      "text/plain": [
       "<Figure size 576x1152 with 1 Axes>"
      ]
     },
     "metadata": {
      "needs_background": "light"
     },
     "output_type": "display_data"
    }
   ],
   "source": [
    "lgb.plot_importance(model, importance_type='gain', figsize=(8, 16))\n"
   ]
  },
  {
   "cell_type": "code",
   "execution_count": 75,
   "metadata": {},
   "outputs": [],
   "source": [
    "# recent_items = transactions.query(\"2 <= week <= 4\").item.unique()\n",
    "# pred = pred.query(\"item in @recent_items\")\n"
   ]
  },
  {
   "cell_type": "code",
   "execution_count": 76,
   "metadata": {},
   "outputs": [],
   "source": [
    "pred['pred'] = model.predict(pred[feature_columns], num_iteration=model.best_iteration)\n",
    "pred_user_item_pred = pred.groupby(['user', 'item'])['pred'].max().reset_index()\n"
   ]
  },
  {
   "cell_type": "code",
   "execution_count": 77,
   "metadata": {},
   "outputs": [
    {
     "data": {
      "text/html": [
       "<div>\n",
       "<style scoped>\n",
       "    .dataframe tbody tr th:only-of-type {\n",
       "        vertical-align: middle;\n",
       "    }\n",
       "\n",
       "    .dataframe tbody tr th {\n",
       "        vertical-align: top;\n",
       "    }\n",
       "\n",
       "    .dataframe thead th {\n",
       "        text-align: right;\n",
       "    }\n",
       "</style>\n",
       "<table border=\"1\" class=\"dataframe\">\n",
       "  <thead>\n",
       "    <tr style=\"text-align: right;\">\n",
       "      <th></th>\n",
       "      <th>user</th>\n",
       "      <th>item</th>\n",
       "    </tr>\n",
       "  </thead>\n",
       "  <tbody>\n",
       "    <tr>\n",
       "      <th>0</th>\n",
       "      <td>15</td>\n",
       "      <td>[82298, 75431, 85628, 80136, 38799, 79182, 754...</td>\n",
       "    </tr>\n",
       "    <tr>\n",
       "      <th>1</th>\n",
       "      <td>34</td>\n",
       "      <td>[57699, 85085, 84911, 54624, 85434, 2433, 4262...</td>\n",
       "    </tr>\n",
       "    <tr>\n",
       "      <th>2</th>\n",
       "      <td>64</td>\n",
       "      <td>[42628, 1772, 81424, 5631, 71832, 44138, 57699...</td>\n",
       "    </tr>\n",
       "    <tr>\n",
       "      <th>3</th>\n",
       "      <td>83</td>\n",
       "      <td>[85434, 57699, 85105, 85085, 84911, 83369, 546...</td>\n",
       "    </tr>\n",
       "    <tr>\n",
       "      <th>4</th>\n",
       "      <td>140</td>\n",
       "      <td>[81769, 81770, 81771, 85105, 57699, 45117, 850...</td>\n",
       "    </tr>\n",
       "    <tr>\n",
       "      <th>...</th>\n",
       "      <td>...</td>\n",
       "      <td>...</td>\n",
       "    </tr>\n",
       "    <tr>\n",
       "      <th>6835</th>\n",
       "      <td>137072</td>\n",
       "      <td>[58031, 64274, 66287, 79986, 84503, 81890, 104...</td>\n",
       "    </tr>\n",
       "    <tr>\n",
       "      <th>6836</th>\n",
       "      <td>137085</td>\n",
       "      <td>[32617, 85106, 67752, 45435, 85365, 45117, 243...</td>\n",
       "    </tr>\n",
       "    <tr>\n",
       "      <th>6837</th>\n",
       "      <td>137111</td>\n",
       "      <td>[85106, 84911, 83369, 85434, 85085, 54624, 849...</td>\n",
       "    </tr>\n",
       "    <tr>\n",
       "      <th>6838</th>\n",
       "      <td>137165</td>\n",
       "      <td>[35943, 63768, 85106, 45117, 35966, 84522, 849...</td>\n",
       "    </tr>\n",
       "    <tr>\n",
       "      <th>6839</th>\n",
       "      <td>137177</td>\n",
       "      <td>[67049, 67048, 67050, 67057, 39934, 49543, 670...</td>\n",
       "    </tr>\n",
       "  </tbody>\n",
       "</table>\n",
       "<p>6840 rows × 2 columns</p>\n",
       "</div>"
      ],
      "text/plain": [
       "        user                                               item\n",
       "0         15  [82298, 75431, 85628, 80136, 38799, 79182, 754...\n",
       "1         34  [57699, 85085, 84911, 54624, 85434, 2433, 4262...\n",
       "2         64  [42628, 1772, 81424, 5631, 71832, 44138, 57699...\n",
       "3         83  [85434, 57699, 85105, 85085, 84911, 83369, 546...\n",
       "4        140  [81769, 81770, 81771, 85105, 57699, 45117, 850...\n",
       "...      ...                                                ...\n",
       "6835  137072  [58031, 64274, 66287, 79986, 84503, 81890, 104...\n",
       "6836  137085  [32617, 85106, 67752, 45435, 85365, 45117, 243...\n",
       "6837  137111  [85106, 84911, 83369, 85434, 85085, 54624, 849...\n",
       "6838  137165  [35943, 63768, 85106, 45117, 35966, 84522, 849...\n",
       "6839  137177  [67049, 67048, 67050, 67057, 39934, 49543, 670...\n",
       "\n",
       "[6840 rows x 2 columns]"
      ]
     },
     "execution_count": 77,
     "metadata": {},
     "output_type": "execute_result"
    }
   ],
   "source": [
    "pred_user_item_pred = pred_user_item_pred.sort_values(by=['user', 'pred'], ascending=False).reset_index(\n",
    "    drop=True).groupby('user')['item'].apply(lambda x: list(x)[:12]).reset_index()\n",
    "pred_user_item_pred\n"
   ]
  },
  {
   "cell_type": "code",
   "execution_count": 78,
   "metadata": {},
   "outputs": [
    {
     "data": {
      "text/html": [
       "<div>\n",
       "<style scoped>\n",
       "    .dataframe tbody tr th:only-of-type {\n",
       "        vertical-align: middle;\n",
       "    }\n",
       "\n",
       "    .dataframe tbody tr th {\n",
       "        vertical-align: top;\n",
       "    }\n",
       "\n",
       "    .dataframe thead th {\n",
       "        text-align: right;\n",
       "    }\n",
       "</style>\n",
       "<table border=\"1\" class=\"dataframe\">\n",
       "  <thead>\n",
       "    <tr style=\"text-align: right;\">\n",
       "      <th></th>\n",
       "      <th>user</th>\n",
       "      <th>gt</th>\n",
       "      <th>item</th>\n",
       "    </tr>\n",
       "  </thead>\n",
       "  <tbody>\n",
       "    <tr>\n",
       "      <th>0</th>\n",
       "      <td>15</td>\n",
       "      <td>[69908, 84841]</td>\n",
       "      <td>[82298, 75431, 85628, 80136, 38799, 79182, 754...</td>\n",
       "    </tr>\n",
       "    <tr>\n",
       "      <th>1</th>\n",
       "      <td>34</td>\n",
       "      <td>[56357, 83990, 85848]</td>\n",
       "      <td>[57699, 85085, 84911, 54624, 85434, 2433, 4262...</td>\n",
       "    </tr>\n",
       "    <tr>\n",
       "      <th>2</th>\n",
       "      <td>64</td>\n",
       "      <td>[349, 10062, 17692, 2757, 84814, 83213, 83613,...</td>\n",
       "      <td>[42628, 1772, 81424, 5631, 71832, 44138, 57699...</td>\n",
       "    </tr>\n",
       "    <tr>\n",
       "      <th>3</th>\n",
       "      <td>83</td>\n",
       "      <td>[55271, 55270]</td>\n",
       "      <td>[85434, 57699, 85105, 85085, 84911, 83369, 546...</td>\n",
       "    </tr>\n",
       "    <tr>\n",
       "      <th>4</th>\n",
       "      <td>140</td>\n",
       "      <td>[71807]</td>\n",
       "      <td>[81769, 81770, 81771, 85105, 57699, 45117, 850...</td>\n",
       "    </tr>\n",
       "    <tr>\n",
       "      <th>...</th>\n",
       "      <td>...</td>\n",
       "      <td>...</td>\n",
       "      <td>...</td>\n",
       "    </tr>\n",
       "    <tr>\n",
       "      <th>6835</th>\n",
       "      <td>137072</td>\n",
       "      <td>[77848, 80462]</td>\n",
       "      <td>[58031, 64274, 66287, 79986, 84503, 81890, 104...</td>\n",
       "    </tr>\n",
       "    <tr>\n",
       "      <th>6836</th>\n",
       "      <td>137085</td>\n",
       "      <td>[79577, 79577]</td>\n",
       "      <td>[32617, 85106, 67752, 45435, 85365, 45117, 243...</td>\n",
       "    </tr>\n",
       "    <tr>\n",
       "      <th>6837</th>\n",
       "      <td>137111</td>\n",
       "      <td>[39001]</td>\n",
       "      <td>[85106, 84911, 83369, 85434, 85085, 54624, 849...</td>\n",
       "    </tr>\n",
       "    <tr>\n",
       "      <th>6838</th>\n",
       "      <td>137165</td>\n",
       "      <td>[85679, 85156]</td>\n",
       "      <td>[35943, 63768, 85106, 45117, 35966, 84522, 849...</td>\n",
       "    </tr>\n",
       "    <tr>\n",
       "      <th>6839</th>\n",
       "      <td>137177</td>\n",
       "      <td>[84622]</td>\n",
       "      <td>[67049, 67048, 67050, 67057, 39934, 49543, 670...</td>\n",
       "    </tr>\n",
       "  </tbody>\n",
       "</table>\n",
       "<p>6840 rows × 3 columns</p>\n",
       "</div>"
      ],
      "text/plain": [
       "        user                                                 gt  \\\n",
       "0         15                                     [69908, 84841]   \n",
       "1         34                              [56357, 83990, 85848]   \n",
       "2         64  [349, 10062, 17692, 2757, 84814, 83213, 83613,...   \n",
       "3         83                                     [55271, 55270]   \n",
       "4        140                                            [71807]   \n",
       "...      ...                                                ...   \n",
       "6835  137072                                     [77848, 80462]   \n",
       "6836  137085                                     [79577, 79577]   \n",
       "6837  137111                                            [39001]   \n",
       "6838  137165                                     [85679, 85156]   \n",
       "6839  137177                                            [84622]   \n",
       "\n",
       "                                                   item  \n",
       "0     [82298, 75431, 85628, 80136, 38799, 79182, 754...  \n",
       "1     [57699, 85085, 84911, 54624, 85434, 2433, 4262...  \n",
       "2     [42628, 1772, 81424, 5631, 71832, 44138, 57699...  \n",
       "3     [85434, 57699, 85105, 85085, 84911, 83369, 546...  \n",
       "4     [81769, 81770, 81771, 85105, 57699, 45117, 850...  \n",
       "...                                                 ...  \n",
       "6835  [58031, 64274, 66287, 79986, 84503, 81890, 104...  \n",
       "6836  [32617, 85106, 67752, 45435, 85365, 45117, 243...  \n",
       "6837  [85106, 84911, 83369, 85434, 85085, 54624, 849...  \n",
       "6838  [35943, 63768, 85106, 45117, 35966, 84522, 849...  \n",
       "6839  [67049, 67048, 67050, 67057, 39934, 49543, 670...  \n",
       "\n",
       "[6840 rows x 3 columns]"
      ]
     },
     "execution_count": 78,
     "metadata": {},
     "output_type": "execute_result"
    }
   ],
   "source": [
    "gt = transactions[transactions['week'] == 1].groupby('user')['item'].apply(list).reset_index().rename(columns={'item': 'gt'})\n",
    "merged = gt.merge(pred_user_item_pred, on='user', how='left')\n",
    "merged['item'] = merged['item'].fillna('').apply(list)\n",
    "merged\n"
   ]
  },
  {
   "cell_type": "code",
   "execution_count": 79,
   "metadata": {},
   "outputs": [
    {
     "data": {
      "text/plain": [
       "0.027015595293264295"
      ]
     },
     "execution_count": 79,
     "metadata": {},
     "output_type": "execute_result"
    }
   ],
   "source": [
    "mapk(merged['gt'], merged['item'])\n"
   ]
  },
  {
   "cell_type": "code",
   "execution_count": 80,
   "metadata": {},
   "outputs": [
    {
     "data": {
      "text/plain": [
       "0.027015595293264295"
      ]
     },
     "execution_count": 80,
     "metadata": {},
     "output_type": "execute_result"
    }
   ],
   "source": [
    "popular_items = transactions[transactions['week'] == 2]['item'].value_counts()[:12].index.tolist()\n",
    "merged['item'] = merged['item'].apply(lambda x: x + popular_items)\n",
    "mapk(merged['gt'], merged['item'])\n"
   ]
  },
  {
   "cell_type": "code",
   "execution_count": null,
   "metadata": {},
   "outputs": [],
   "source": []
  },
  {
   "cell_type": "code",
   "execution_count": null,
   "metadata": {},
   "outputs": [],
   "source": []
  }
 ],
 "metadata": {
  "interpreter": {
   "hash": "c89b5301ada1d96cd3523f144e4a3cd3ad36f6698a61e6b8277fb627756a86c6"
  },
  "kernelspec": {
   "display_name": "Python 3.9.10 64-bit ('3.9.10')",
   "language": "python",
   "name": "python3"
  },
  "language_info": {
   "codemirror_mode": {
    "name": "ipython",
    "version": 3
   },
   "file_extension": ".py",
   "mimetype": "text/x-python",
   "name": "python",
   "nbconvert_exporter": "python",
   "pygments_lexer": "ipython3",
   "version": "3.9.7"
  },
  "orig_nbformat": 4
 },
 "nbformat": 4,
 "nbformat_minor": 2
}
