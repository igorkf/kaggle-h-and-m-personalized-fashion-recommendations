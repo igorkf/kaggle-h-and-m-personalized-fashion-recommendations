{
 "cells": [
  {
   "cell_type": "code",
   "execution_count": 1,
   "metadata": {},
   "outputs": [
    {
     "data": {
      "text/html": [
       "<style type='text/css'>\n",
       ".datatable table.frame { margin-bottom: 0; }\n",
       ".datatable table.frame thead { border-bottom: none; }\n",
       ".datatable table.frame tr.coltypes td {  color: #FFFFFF;  line-height: 6px;  padding: 0 0.5em;}\n",
       ".datatable .bool    { background: #DDDD99; }\n",
       ".datatable .object  { background: #565656; }\n",
       ".datatable .int     { background: #5D9E5D; }\n",
       ".datatable .float   { background: #4040CC; }\n",
       ".datatable .str     { background: #CC4040; }\n",
       ".datatable .time    { background: #40CC40; }\n",
       ".datatable .row_index {  background: var(--jp-border-color3);  border-right: 1px solid var(--jp-border-color0);  color: var(--jp-ui-font-color3);  font-size: 9px;}\n",
       ".datatable .frame tbody td { text-align: left; }\n",
       ".datatable .frame tr.coltypes .row_index {  background: var(--jp-border-color0);}\n",
       ".datatable th:nth-child(2) { padding-left: 12px; }\n",
       ".datatable .hellipsis {  color: var(--jp-cell-editor-border-color);}\n",
       ".datatable .vellipsis {  background: var(--jp-layout-color0);  color: var(--jp-cell-editor-border-color);}\n",
       ".datatable .na {  color: var(--jp-cell-editor-border-color);  font-size: 80%;}\n",
       ".datatable .sp {  opacity: 0.25;}\n",
       ".datatable .footer { font-size: 9px; }\n",
       ".datatable .frame_dimensions {  background: var(--jp-border-color3);  border-top: 1px solid var(--jp-border-color0);  color: var(--jp-ui-font-color3);  display: inline-block;  opacity: 0.6;  padding: 1px 10px 1px 5px;}\n",
       "</style>\n"
      ],
      "text/plain": [
       "<IPython.core.display.HTML object>"
      ]
     },
     "metadata": {},
     "output_type": "display_data"
    }
   ],
   "source": [
    "import numpy as np\n",
    "import pandas as pd\n",
    "from tqdm.auto import tqdm\n",
    "from utils import plot_images, train_valid_split\n",
    "from metric import apk, mapk\n",
    "import lightgbm as lgb\n",
    "\n",
    "import faiss\n",
    "import psutil\n",
    "from lightfm import LightFM\n",
    "from scipy import sparse\n",
    "import catboost"
   ]
  },
  {
   "cell_type": "code",
   "execution_count": 2,
   "metadata": {},
   "outputs": [],
   "source": [
    "dataset = '100'\n",
    "\n",
    "transactions = pd.read_pickle(f\"input/{dataset}/transactions_train.pkl\")\n",
    "users = pd.read_pickle(f\"input/{dataset}/users.pkl\")\n",
    "items = pd.read_pickle(f\"input/{dataset}/items.pkl\")\n",
    "transactions['day'] = (transactions['t_dat'].max() - transactions['t_dat']).dt.days\n"
   ]
  },
  {
   "cell_type": "code",
   "execution_count": 3,
   "metadata": {},
   "outputs": [],
   "source": [
    "def create_candidates(transactions: pd.DataFrame, target_users: np.ndarray, week: int) -> pd.DataFrame:\n",
    "    \"\"\"\n",
    "    transactions\n",
    "        original transactions (user, item, week)\n",
    "    target_users, week\n",
    "        候補生成対象のユーザー\n",
    "        weekで指定されている週の段階での情報のみから作られる\n",
    "    \"\"\"\n",
    "    assert len(target_users) == len(set(target_users))\n",
    "\n",
    "    def create_candidates_repurchase(\n",
    "            prefix: str,\n",
    "            transactions: pd.DataFrame,\n",
    "            target_users: np.ndarray,\n",
    "            week_start: int,\n",
    "            week_end: int) -> pd.DataFrame:\n",
    "        tr = transactions.query(\n",
    "            \"user in @target_users and @week_start <= week <= @week_end\")[['user', 'item', 'week']].drop_duplicates(ignore_index=True)\n",
    "\n",
    "        gr_week = tr.groupby(['user', 'item'])['week'].min().reset_index(name='week')\n",
    "        gr_volume = tr.groupby(['user', 'item']).size().reset_index(name='volume')\n",
    "\n",
    "        gr_week['week_rank'] = gr_week.groupby('user')['week'].rank()\n",
    "        gr_volume['volume_rank'] = gr_volume.groupby('user')['volume'].rank()\n",
    "\n",
    "        candidates = gr_week.merge(gr_volume, on=['user', 'item'])\n",
    "        candidates = candidates[['user', 'item', 'week_rank', 'volume_rank']].rename(\n",
    "            columns={'week_rank': f'{prefix}_week_rank', 'volume_rank': f'{prefix}_volume_rank'})\n",
    "        return candidates\n",
    "\n",
    "    def create_candidates_popular(\n",
    "            prefix: str,\n",
    "            transactions: pd.DataFrame,\n",
    "            target_users: np.ndarray,\n",
    "            week_start: int,\n",
    "            week_end: int) -> pd.DataFrame:\n",
    "        NUM_POPULAR_ITEMS = 12\n",
    "        tr = transactions.query(\"@week_start <= week <= @week_end\")[['user', 'item']].drop_duplicates(ignore_index=True)\n",
    "        popular_items = tr['item'].value_counts().index.values[:NUM_POPULAR_ITEMS]\n",
    "        popular_items = pd.DataFrame({\n",
    "            'item': popular_items,\n",
    "            'rank': range(NUM_POPULAR_ITEMS),\n",
    "            'crossjoinkey': 1,\n",
    "        })\n",
    "\n",
    "        candidates = pd.DataFrame({\n",
    "            'user': target_users,\n",
    "            'crossjoinkey': 1,\n",
    "        })\n",
    "\n",
    "        candidates = candidates.merge(popular_items, on='crossjoinkey').drop('crossjoinkey', axis=1)\n",
    "        candidates = candidates.rename(columns={'rank': f'{prefix}_rank'})\n",
    "        return candidates\n",
    "\n",
    "    def create_candidates_cooc(\n",
    "            prefix: str,\n",
    "            transactions: pd.DataFrame,\n",
    "            week_start: int,\n",
    "            week_end: int,\n",
    "            base_candidates: pd.DataFrame) -> pd.DataFrame:\n",
    "        tr = transactions.query(\"@week_start <= week == @week_end\")[['user', 'item', 'week']].drop_duplicates(ignore_index=True)\n",
    "        tr = tr.merge(tr.rename(columns={'item': 'item_with', 'week': 'week_with'}), on='user').query(\n",
    "            \"item != item_with and week <= week_with\")[['item', 'item_with']].reset_index(drop=True)\n",
    "        gr_sz = tr.groupby('item').size().reset_index(name='tot')\n",
    "        gr_cnt = tr.groupby(['item', 'item_with']).size().reset_index(name='cnt')\n",
    "        item2item = gr_cnt.merge(gr_sz, on='item')\n",
    "        item2item['ratio'] = item2item['cnt'] / item2item['tot']\n",
    "        item2item = item2item.query(\"ratio >= 0.030730\").reset_index(drop=True)\n",
    "\n",
    "        base_candidates_columns = [c for c in base_candidates.columns if c not in ['user', 'item', 'week']]\n",
    "        replace = {c: f\"{prefix}_{c}\" for c in base_candidates_columns}\n",
    "        candidates = base_candidates.merge(item2item, on='item').drop(\n",
    "            ['item', 'cnt'], axis=1).rename(columns={'item_with': 'item'}).rename(columns=replace)\n",
    "        candidates = candidates.rename(columns={'ratio': f'{prefix}_ratio', 'tot': f'{prefix}_tot'})\n",
    "        return candidates\n",
    "\n",
    "    def create_candidates_same_product_code(\n",
    "            prefix: str,\n",
    "            items: pd.DataFrame,\n",
    "            base_candidates: pd.DataFrame) -> pd.DataFrame:\n",
    "        item2item = items[['item', 'product_code']].merge(items[['item', 'product_code']].rename(\n",
    "            {'item': 'item_with'}, axis=1), on='product_code')[['item', 'item_with']].query(\"item != item_with\").reset_index(drop=True)\n",
    "\n",
    "        base_candidates_columns = [c for c in base_candidates.columns if c not in ['user', 'item', 'week']]\n",
    "        replace = {c: f\"{prefix}_{c}\" for c in base_candidates_columns}\n",
    "        candidates = base_candidates.merge(\n",
    "            item2item,\n",
    "            on='item').drop(\n",
    "            'item',\n",
    "            axis=1).rename(\n",
    "            columns={\n",
    "                'item_with': 'item'}).rename(\n",
    "                    columns=replace)\n",
    "        return candidates\n",
    "\n",
    "    def create_candidates_same_category_top(\n",
    "            strategy: str,\n",
    "            transactions: pd.DataFrame,\n",
    "            users: pd.DataFrame,\n",
    "            items: pd.DataFrame,\n",
    "            base_candidates: pd.DataFrame,\n",
    "            week_start: int,\n",
    "            week_end: int,\n",
    "            category: str,\n",
    "            ) -> pd.DataFrame:\n",
    "        users = users.copy()\n",
    "        users['age_segment'] = users['age'] // 10\n",
    "        tr = transactions.query(\"@week_start <= week <= @week_end\")[['user', 'item']].drop_duplicates(ignore_index=True)\n",
    "        tr = tr.merge(items[['item', category]], on='item').merge(users[['user', 'age_segment']], on='user')\n",
    "        category_popular_items = tr.groupby(['item', 'age_segment', category]).size().reset_index(name='cnt')\n",
    "        category_popular_items['segment_rank'] = category_popular_items.groupby(category)['cnt'].rank(ascending=False, method='dense')\n",
    "        category_popular_items = category_popular_items.query('segment_rank <= 3')\n",
    "\n",
    "        base_candidates_columns = [c for c in base_candidates.columns if '_' in c]\n",
    "        replace = {c: f\"{strategy}_{c}\" for c in base_candidates_columns}\n",
    "        candidates = (base_candidates\n",
    "                      .merge(users[['user', 'age_segment']], on='user')\n",
    "                      .merge(items[['item', category]], on='item')\n",
    "                      .drop('item', axis=1)\n",
    "                      .merge(category_popular_items, on=['age_segment', category])\n",
    "                      .rename(columns=replace))[['user', 'item', 'segment_rank']]\n",
    "\n",
    "        # candidates['strategy'] = strategy\n",
    "        return candidates\n",
    "\n",
    "    candidates = [\n",
    "        create_candidates_repurchase('repurchase', transactions, target_users, week, week + 40),\n",
    "        create_candidates_popular('pop', transactions, target_users, week, week),\n",
    "    ]\n",
    "    cat = 'product_type_no'\n",
    "    candidates_same_category_top = create_candidates_same_category_top(f'same_{cat}', transactions, users, items, candidates[0], week, week, cat)\n",
    "    candidates.append(candidates_same_category_top)\n",
    "    candidates.append(create_candidates_cooc('cooc', transactions, week, week + 12, candidates[0]))\n",
    "    candidates.append(create_candidates_same_product_code('same_product_code', items, candidates[0]))\n",
    "    \n",
    "    volumes = np.array([len(c) for c in candidates])\n",
    "    print(volumes, volumes / np.sum(volumes))\n",
    "\n",
    "    return pd.concat(candidates).drop_duplicates(subset=['user', 'item'], keep='first').reset_index(drop=True)\n"
   ]
  },
  {
   "cell_type": "code",
   "execution_count": 4,
   "metadata": {},
   "outputs": [
    {
     "name": "stdout",
     "output_type": "stream",
     "text": [
      "[1443705  827808 1874926 3449125 8777527] [0.08817547 0.05055905 0.11451265 0.21065815 0.53609468]\n",
      "[1560164  864228 2190118 4908354 9468051] [0.08215318 0.04550744 0.11532451 0.258458   0.49855686]\n",
      "[1605657  909864 2106867 5007577 9934564] [0.0820698  0.0465058  0.1076881  0.25595183 0.50778447]\n",
      "[ 1684869   963036  2249793  4950146 10432776] [0.08307779 0.04748553 0.11093315 0.24408258 0.51442096]\n"
     ]
    }
   ],
   "source": [
    "# valid: week=1\n",
    "# train: week=2..1+num_train_weeks\n",
    "num_train_weeks = 3\n",
    "candidates = []\n",
    "for week in range(1, 2+num_train_weeks):\n",
    "    target_users = transactions[transactions['week'] == week]['user'].unique()\n",
    "    candidates.append(create_candidates(transactions, target_users, week+1))"
   ]
  },
  {
   "cell_type": "code",
   "execution_count": 5,
   "metadata": {},
   "outputs": [],
   "source": [
    "def merge_labels(candidates: pd.DataFrame, week: int) -> pd.DataFrame:\n",
    "    \"\"\"\n",
    "    candidates\n",
    "        (user, item, strategy, score)\n",
    "\n",
    "    Return\n",
    "    ------\n",
    "    (user, item, y, ...)\n",
    "    \"\"\"\n",
    "    labels = transactions[transactions['week'] == week][['user', 'item']].drop_duplicates(ignore_index=True)\n",
    "    labels['y'] = 1\n",
    "    original_positives = len(labels)\n",
    "    labels = candidates.merge(labels, on=['user', 'item'], how='left')\n",
    "    labels['y'] = labels['y'].fillna(0)\n",
    "    remaining_positives = labels[['user', 'item', 'y']].drop_duplicates(ignore_index=True)['y'].sum()\n",
    "    recall = remaining_positives / original_positives\n",
    "    print(f\"Recall: {recall}\")\n",
    "    return labels\n",
    "\n"
   ]
  },
  {
   "cell_type": "code",
   "execution_count": 6,
   "metadata": {},
   "outputs": [
    {
     "name": "stdout",
     "output_type": "stream",
     "text": [
      "Recall: 0.10469849528372512\n",
      "Recall: 0.10414637356851389\n",
      "Recall: 0.10465233498828096\n",
      "Recall: 0.09782029376263854\n"
     ]
    }
   ],
   "source": [
    "for idx in range(len(candidates)):\n",
    "    candidates[idx] = merge_labels(candidates[idx], 1+idx)\n"
   ]
  },
  {
   "cell_type": "code",
   "execution_count": 7,
   "metadata": {},
   "outputs": [],
   "source": [
    "def get_query_group(df):\n",
    "    def run_length_encoding(sequence):\n",
    "        comp_seq_index, = np.concatenate(([True], sequence[1:] != sequence[:-1], [True])).nonzero()\n",
    "        return sequence[comp_seq_index[:-1]], np.ediff1d(comp_seq_index)\n",
    "    users = df['user'].values\n",
    "    _, group = run_length_encoding(users)\n",
    "    return list(group)\n",
    "\n",
    "def drop_trivial_users(labels):\n",
    "    \"\"\"\n",
    "    LightGBMのxendgcやlambdarankでは正例のみや負例のみのuserは学習に無意味なのと、メトリックの計算がおかしくなるので省く\n",
    "    \"\"\"\n",
    "    bef = len(labels)\n",
    "    df = labels[labels['user'].isin(labels[['user', 'y']].drop_duplicates().groupby('user').size().reset_index(name='sz').query(\"sz==2\").user)].reset_index(drop=True)\n",
    "    aft = len(df)\n",
    "    print(f\"drop trivial queries: {bef} -> {aft}\")\n",
    "    return df\n",
    "\n",
    "\n",
    "def calc_query_groups(labels):\n",
    "    \"\"\"\n",
    "    userでソートして、データセットに与える必要があるグループを計算する\n",
    "    user, y\n",
    "    \"\"\"\n",
    "    df = labels.sort_values(by='user').reset_index(drop=True)\n",
    "    group = get_query_group(df)\n",
    "    return df, group\n"
   ]
  },
  {
   "cell_type": "code",
   "execution_count": 8,
   "metadata": {},
   "outputs": [
    {
     "name": "stdout",
     "output_type": "stream",
     "text": [
      "drop trivial queries: 12837007 -> 4300346\n",
      "drop trivial queries: 14840521 -> 5131610\n",
      "drop trivial queries: 15378184 -> 5303516\n",
      "drop trivial queries: 15910834 -> 5253712\n"
     ]
    }
   ],
   "source": [
    "for idx in range(len(candidates)):\n",
    "    candidates[idx]['week'] = 1+idx\n",
    "\n",
    "valid_all = candidates[0].copy()\n",
    "\n",
    "for idx in range(len(candidates)):\n",
    "    candidates[idx] = drop_trivial_users(candidates[idx])\n"
   ]
  },
  {
   "cell_type": "code",
   "execution_count": 9,
   "metadata": {},
   "outputs": [],
   "source": [
    "def attach_features(transactions: pd.DataFrame, users: pd.DataFrame, items: pd.DataFrame, candidates: pd.DataFrame, week: int) -> pd.DataFrame:\n",
    "    \"\"\"\n",
    "    week: これを含めた以前の情報は使って良い\n",
    "    \"\"\"\n",
    "    n_original = len(candidates)\n",
    "    df = candidates.copy()\n",
    "\n",
    "    # user static features\n",
    "    user_features = ['FN', 'Active', 'age', 'club_member_status_idx', 'fashion_news_frequency_idx']\n",
    "    df = df.merge(users[['user'] + user_features], on='user')\n",
    "\n",
    "    # item static features\n",
    "    item_features = [c for c in items.columns if c.endswith('idx')]\n",
    "    df = df.merge(items[['item'] + item_features], on='item')\n",
    "\n",
    "    # user dynamic features (transactions)\n",
    "    num_weeks = 8\n",
    "    week_end = week + num_weeks\n",
    "    tmp = transactions.query(\"@week <= week < @week_end\").groupby('user')[['price', 'sales_channel_id']].agg(['mean', 'std'])\n",
    "    tmp.columns = ['user_' + '_'.join(a) for a in tmp.columns.to_flat_index()]\n",
    "    df = df.merge(tmp, on='user', how='left')\n",
    "\n",
    "    # item dynamic features (transactions)\n",
    "    num_weeks = 8\n",
    "    week_end = week + num_weeks\n",
    "    tmp = transactions.query(\"@week <= week < @week_end\").groupby('item')[['price', 'sales_channel_id']].agg(['mean', 'std'])\n",
    "    tmp.columns = ['item_' + '_'.join(a) for a in tmp.columns.to_flat_index()]\n",
    "    df = df.merge(tmp, on='item', how='left')\n",
    "\n",
    "    # item price diff features (transactions)\n",
    "    week_end = week + 2\n",
    "    tmp = transactions.query(\"@week <= week < @week_end\").groupby(['item', 'week'])[['price']].agg(['mean', 'std'])\n",
    "    tmp.columns = ['item_' + '_'.join(a) for a in tmp.columns.to_flat_index()]\n",
    "    tmp_this_week = (tmp\n",
    "                     .query('week==@week')[['item_price_mean', 'item_price_std']]\n",
    "                     .rename(columns={'item_price_mean': 'item_price_mean_this_week', 'item_price_std': 'item_price_std_this_week'}))\n",
    "    tmp_last_week = (tmp\n",
    "                     .query('week==@week+1')[['item_price_mean', 'item_price_std']]\n",
    "                     .rename(columns={'item_price_mean': 'item_price_mean_last_week', 'item_price_std': 'item_price_std_last_week'}))\n",
    "    tmp2 = tmp_this_week.merge(tmp_last_week,  on='item')\n",
    "    tmp2['item_price_mean_diff'] = tmp2['item_price_mean_this_week'] - tmp2['item_price_mean_last_week']\n",
    "    tmp2['item_price_std_ratio'] = tmp2['item_price_std_this_week'] / tmp2['item_price_std_last_week']\n",
    "    \n",
    "    df = df.merge(tmp2, on='item', how='left')\n",
    "    \n",
    "    \n",
    "    # item dynamic features (user features)\n",
    "    num_weeks = 8\n",
    "    week_end = week + num_weeks\n",
    "    tmp = transactions.query(\"@week <= week < @week_end\").merge(users[['user', 'age']], on='user')\n",
    "    tmp = tmp.groupby('item')['age'].agg(['mean', 'std'])\n",
    "    tmp.columns = [f'age_{a}' for a in tmp.columns.to_flat_index()]\n",
    "    df = df.merge(tmp, on='item', how='left')\n",
    "\n",
    "    # item dynamic features (segment rank)\n",
    "    num_weeks = 2\n",
    "    week_end = week + num_weeks\n",
    "    users_tmp = users.copy()\n",
    "    users_tmp['age_segment'] = users_tmp['age'] // 3\n",
    "    tmp = (transactions\n",
    "           .query(\"@week <= week < @week_end\")\n",
    "           .merge(users_tmp[['user', 'age_segment']], on='user')\n",
    "           .merge(items[['item', 'product_type_no_idx']], on='item'))\n",
    "    tmp = tmp.groupby(['age_segment', 'product_type_no_idx', 'item']).size().reset_index(name='cnt')\n",
    "    tmp['rank'] = tmp.groupby(['age_segment', 'product_type_no_idx'])['cnt'].rank(ascending=False, method='dense')\n",
    "    tmp = tmp[['age_segment', 'item', 'rank', 'cnt']].set_index(['age_segment', 'item'])\n",
    "    tmp.columns = [f'product_type_no_idx_segment_{a}' for a in tmp.columns.to_flat_index()]\n",
    "    df = df.merge(users_tmp[['user', 'age_segment']], on='user').merge(tmp, on=['age_segment', 'item'], how='left')\n",
    "    \n",
    "    # item dynamic features (repurchase num)\n",
    "    num_weeks = 4\n",
    "    week_end = week + num_weeks\n",
    "    tmp = transactions.query(\"@week <= week < @week_end\")\n",
    "    tmp = tmp.groupby(['item', 'user']).size().reset_index(name='cnt')\n",
    "    tmp = tmp.groupby('item')['cnt'].mean().reset_index(name='item_repurchase_volume')\n",
    "    df = df.merge(tmp, on='item', how='left')\n",
    "    \n",
    "    # item freshness features\n",
    "    tmp = transactions.query(\"@week <= week\").groupby('item')['week'].min().reset_index(name='item_week_min')\n",
    "    tmp['item_week_min'] -= week\n",
    "    df = df.merge(tmp, on='item', how='left')\n",
    "\n",
    "    # item volume features\n",
    "    num_weeks = 1\n",
    "    week_end = week + num_weeks\n",
    "    tmp = transactions.query(\"@week <= week < @week_end\").groupby('item').size().reset_index(name='item_volume')\n",
    "    df = df.merge(tmp, on='item', how='left')\n",
    "\n",
    "    # # user freshness features\n",
    "    # tmp = transactions.query(\"@week <= week\").groupby('user')['week'].min().reset_index(name='user_week_min')\n",
    "    # tmp['user_week_min'] -= week\n",
    "    # df = df.merge(tmp, on='user', how='left')\n",
    "\n",
    "    # # user volume features\n",
    "    # num_weeks = 1\n",
    "    # week_end = week + num_weeks\n",
    "    # tmp = transactions.query(\"@week <= week < @week_end\").groupby('user').size().reset_index(name='user_volume')\n",
    "    # df = df.merge(tmp, on='user', how='left')\n",
    "\n",
    "    # user-item freshness features\n",
    "    tmp = transactions.query(\"@week <= week\").groupby(['user', 'item'])['week'].min().reset_index(name='user_item_week_min')\n",
    "    tmp['user_item_week_min'] -= week\n",
    "    df = df.merge(tmp, on=['item', 'user'], how='left')\n",
    "\n",
    "    # user-item volume features\n",
    "    num_weeks = 1\n",
    "    week_end = week + num_weeks\n",
    "    tmp = transactions.query(\"@week <= week < @week_end\").groupby(['user', 'item']).size().reset_index(name='user_item_volume')\n",
    "    df = df.merge(tmp, on=['user', 'item'], how='left')\n",
    "\n",
    "    assert len(df) == n_original\n",
    "    return df\n",
    "\n",
    "\n",
    "valid_all = attach_features(transactions, users, items, valid_all, 2)\n",
    "for idx in range(len(candidates)):\n",
    "    candidates[idx] = attach_features(transactions, users, items, candidates[idx], 2+idx)"
   ]
  },
  {
   "cell_type": "code",
   "execution_count": 10,
   "metadata": {},
   "outputs": [],
   "source": [
    "datasets = []\n",
    "for idx in range(len(candidates)):\n",
    "    datasets.append(calc_query_groups(candidates[idx]))\n",
    "\n",
    "valid, group_valid = datasets[0]\n",
    "\n",
    "def concat_train(datasets, begin, num):\n",
    "    train = pd.concat([datasets[idx][0] for idx in range(begin, begin+num)])\n",
    "    group_train = []\n",
    "    for idx in range(begin, begin+num):\n",
    "        group_train += datasets[idx][1]\n",
    "    return train, group_train\n",
    "\n",
    "train, group_train = concat_train(datasets, 1, num_train_weeks)"
   ]
  },
  {
   "cell_type": "code",
   "execution_count": 11,
   "metadata": {},
   "outputs": [
    {
     "name": "stdout",
     "output_type": "stream",
     "text": [
      "['user', 'item', 'repurchase_week_rank', 'repurchase_volume_rank', 'pop_rank', 'segment_rank', 'cooc_repurchase_week_rank', 'cooc_repurchase_volume_rank', 'cooc_tot', 'cooc_ratio', 'same_product_code_repurchase_week_rank', 'same_product_code_repurchase_volume_rank', 'FN', 'Active', 'age', 'club_member_status_idx', 'fashion_news_frequency_idx', 'product_type_no_idx', 'product_group_name_idx', 'graphical_appearance_no_idx', 'colour_group_code_idx', 'perceived_colour_value_id_idx', 'perceived_colour_master_id_idx', 'department_no_idx', 'index_code_idx', 'index_group_no_idx', 'section_no_idx', 'garment_group_no_idx', 'user_price_mean', 'user_price_std', 'user_sales_channel_id_mean', 'user_sales_channel_id_std', 'item_price_mean', 'item_price_std', 'item_sales_channel_id_mean', 'item_sales_channel_id_std', 'item_price_mean_this_week', 'item_price_std_this_week', 'item_price_mean_last_week', 'item_price_std_last_week', 'item_price_mean_diff', 'item_price_std_ratio', 'age_mean', 'age_std', 'age_segment', 'product_type_no_idx_segment_rank', 'product_type_no_idx_segment_cnt', 'item_repurchase_volume', 'item_week_min', 'item_volume', 'user_item_week_min', 'user_item_volume']\n"
     ]
    }
   ],
   "source": [
    "feature_columns = [c for c in valid.columns if c not in ['y', 'week', 'group']]\n",
    "print(feature_columns)\n"
   ]
  },
  {
   "cell_type": "code",
   "execution_count": 12,
   "metadata": {},
   "outputs": [],
   "source": [
    "train_dataset = lgb.Dataset(train[feature_columns], train['y'], group=group_train)\n",
    "valid_dataset = lgb.Dataset(valid[feature_columns], valid['y'], group=group_valid, reference=train_dataset)"
   ]
  },
  {
   "cell_type": "code",
   "execution_count": 13,
   "metadata": {},
   "outputs": [
    {
     "name": "stdout",
     "output_type": "stream",
     "text": [
      "[LightGBM] [Info] Total groups: 52418, total data: 15688838\n",
      "[LightGBM] [Warning] Auto-choosing row-wise multi-threading, the overhead of testing was 0.720173 seconds.\n",
      "You can set `force_row_wise=true` to remove the overhead.\n",
      "And if memory is not enough, you can set `force_col_wise=true`.\n",
      "[LightGBM] [Info] Total Bins 8171\n",
      "[LightGBM] [Info] Number of data points in the train set: 15688838, number of used features: 52\n",
      "[LightGBM] [Info] Total groups: 15914, total data: 4300346\n",
      "Training until validation scores don't improve for 100 rounds\n",
      "Early stopping, best iteration is:\n",
      "[134]\ttraining's map@12: 0.233191\tvalid_1's map@12: 0.221187\n"
     ]
    }
   ],
   "source": [
    "params = {\n",
    "    'objective': 'xendcg',\n",
    "    'boosting_type': 'gbdt',\n",
    "    'learning_rate': 1e-6,\n",
    "    'num_leaves': 511,\n",
    "    'min_data_in_leaf': 500,\n",
    "    'metric': 'map',\n",
    "    'eval_at': 12,\n",
    "}\n",
    "\n",
    "model = lgb.train(params, train_dataset, valid_sets=[train_dataset, valid_dataset], num_boost_round=10000, callbacks=[lgb.early_stopping(100)])\n"
   ]
  },
  {
   "cell_type": "code",
   "execution_count": 14,
   "metadata": {},
   "outputs": [
    {
     "data": {
      "text/plain": [
       "<AxesSubplot:title={'center':'Feature importance'}, xlabel='Feature importance', ylabel='Features'>"
      ]
     },
     "execution_count": 14,
     "metadata": {},
     "output_type": "execute_result"
    },
    {
     "data": {
      "image/png": "[encoded data removed]",
      "text/plain": [
       "<Figure size 576x1152 with 1 Axes>"
      ]
     },
     "metadata": {
      "needs_background": "light"
     },
     "output_type": "display_data"
    }
   ],
   "source": [
    "lgb.plot_importance(model, importance_type='gain', figsize=(8, 16))"
   ]
  },
  {
   "cell_type": "code",
   "execution_count": 15,
   "metadata": {},
   "outputs": [],
   "source": [
    "valid_all['pred'] = model.predict(valid_all[feature_columns])\n",
    "pred = valid_all.groupby(['user', 'item'])['pred'].max().reset_index()\n"
   ]
  },
  {
   "cell_type": "code",
   "execution_count": 16,
   "metadata": {},
   "outputs": [
    {
     "data": {
      "text/html": [
       "<div>\n",
       "<style scoped>\n",
       "    .dataframe tbody tr th:only-of-type {\n",
       "        vertical-align: middle;\n",
       "    }\n",
       "\n",
       "    .dataframe tbody tr th {\n",
       "        vertical-align: top;\n",
       "    }\n",
       "\n",
       "    .dataframe thead th {\n",
       "        text-align: right;\n",
       "    }\n",
       "</style>\n",
       "<table border=\"1\" class=\"dataframe\">\n",
       "  <thead>\n",
       "    <tr style=\"text-align: right;\">\n",
       "      <th></th>\n",
       "      <th>user</th>\n",
       "      <th>item</th>\n",
       "    </tr>\n",
       "  </thead>\n",
       "  <tbody>\n",
       "    <tr>\n",
       "      <th>0</th>\n",
       "      <td>80</td>\n",
       "      <td>[2865, 3091, 42129, 104045, 103108, 67522, 104...</td>\n",
       "    </tr>\n",
       "    <tr>\n",
       "      <th>1</th>\n",
       "      <td>86</td>\n",
       "      <td>[100228, 33868, 27905, 98606, 102472, 103583, ...</td>\n",
       "    </tr>\n",
       "    <tr>\n",
       "      <th>2</th>\n",
       "      <td>107</td>\n",
       "      <td>[61303, 2219, 61305, 61304, 13042, 84659, 9202...</td>\n",
       "    </tr>\n",
       "    <tr>\n",
       "      <th>3</th>\n",
       "      <td>117</td>\n",
       "      <td>[3091, 104045, 103108, 82628, 103796, 71107, 6...</td>\n",
       "    </tr>\n",
       "    <tr>\n",
       "      <th>4</th>\n",
       "      <td>179</td>\n",
       "      <td>[105180, 104986, 95216, 3510, 105179, 81824, 3...</td>\n",
       "    </tr>\n",
       "    <tr>\n",
       "      <th>...</th>\n",
       "      <td>...</td>\n",
       "      <td>...</td>\n",
       "    </tr>\n",
       "    <tr>\n",
       "      <th>68979</th>\n",
       "      <td>1371868</td>\n",
       "      <td>[104045, 93158, 3091, 17043, 93157, 82628, 103...</td>\n",
       "    </tr>\n",
       "    <tr>\n",
       "      <th>68980</th>\n",
       "      <td>1371871</td>\n",
       "      <td>[67522, 104045, 3091, 42626, 104072, 103108, 7...</td>\n",
       "    </tr>\n",
       "    <tr>\n",
       "      <th>68981</th>\n",
       "      <td>1371879</td>\n",
       "      <td>[103668, 103669, 98867, 6458, 103665, 103667, ...</td>\n",
       "    </tr>\n",
       "    <tr>\n",
       "      <th>68982</th>\n",
       "      <td>1371937</td>\n",
       "      <td>[59774, 67522, 3091, 104045, 42626, 103108, 59...</td>\n",
       "    </tr>\n",
       "    <tr>\n",
       "      <th>68983</th>\n",
       "      <td>1371960</td>\n",
       "      <td>[103304, 102628, 66500, 94700, 97246, 80932, 9...</td>\n",
       "    </tr>\n",
       "  </tbody>\n",
       "</table>\n",
       "<p>68984 rows × 2 columns</p>\n",
       "</div>"
      ],
      "text/plain": [
       "          user                                               item\n",
       "0           80  [2865, 3091, 42129, 104045, 103108, 67522, 104...\n",
       "1           86  [100228, 33868, 27905, 98606, 102472, 103583, ...\n",
       "2          107  [61303, 2219, 61305, 61304, 13042, 84659, 9202...\n",
       "3          117  [3091, 104045, 103108, 82628, 103796, 71107, 6...\n",
       "4          179  [105180, 104986, 95216, 3510, 105179, 81824, 3...\n",
       "...        ...                                                ...\n",
       "68979  1371868  [104045, 93158, 3091, 17043, 93157, 82628, 103...\n",
       "68980  1371871  [67522, 104045, 3091, 42626, 104072, 103108, 7...\n",
       "68981  1371879  [103668, 103669, 98867, 6458, 103665, 103667, ...\n",
       "68982  1371937  [59774, 67522, 3091, 104045, 42626, 103108, 59...\n",
       "68983  1371960  [103304, 102628, 66500, 94700, 97246, 80932, 9...\n",
       "\n",
       "[68984 rows x 2 columns]"
      ]
     },
     "execution_count": 16,
     "metadata": {},
     "output_type": "execute_result"
    }
   ],
   "source": [
    "pred = pred.sort_values(by=['user', 'pred'], ascending=False).reset_index(\n",
    "    drop=True).groupby('user')['item'].apply(lambda x: list(x)[:12]).reset_index()\n",
    "pred\n"
   ]
  },
  {
   "cell_type": "code",
   "execution_count": 17,
   "metadata": {},
   "outputs": [
    {
     "data": {
      "text/html": [
       "<div>\n",
       "<style scoped>\n",
       "    .dataframe tbody tr th:only-of-type {\n",
       "        vertical-align: middle;\n",
       "    }\n",
       "\n",
       "    .dataframe tbody tr th {\n",
       "        vertical-align: top;\n",
       "    }\n",
       "\n",
       "    .dataframe thead th {\n",
       "        text-align: right;\n",
       "    }\n",
       "</style>\n",
       "<table border=\"1\" class=\"dataframe\">\n",
       "  <thead>\n",
       "    <tr style=\"text-align: right;\">\n",
       "      <th></th>\n",
       "      <th>user</th>\n",
       "      <th>gt</th>\n",
       "      <th>item</th>\n",
       "    </tr>\n",
       "  </thead>\n",
       "  <tbody>\n",
       "    <tr>\n",
       "      <th>0</th>\n",
       "      <td>80</td>\n",
       "      <td>[28967]</td>\n",
       "      <td>[2865, 3091, 42129, 104045, 103108, 67522, 104...</td>\n",
       "    </tr>\n",
       "    <tr>\n",
       "      <th>1</th>\n",
       "      <td>86</td>\n",
       "      <td>[87371]</td>\n",
       "      <td>[100228, 33868, 27905, 98606, 102472, 103583, ...</td>\n",
       "    </tr>\n",
       "    <tr>\n",
       "      <th>2</th>\n",
       "      <td>107</td>\n",
       "      <td>[69711, 77256, 33872]</td>\n",
       "      <td>[61303, 2219, 61305, 61304, 13042, 84659, 9202...</td>\n",
       "    </tr>\n",
       "    <tr>\n",
       "      <th>3</th>\n",
       "      <td>117</td>\n",
       "      <td>[97391]</td>\n",
       "      <td>[3091, 104045, 103108, 82628, 103796, 71107, 6...</td>\n",
       "    </tr>\n",
       "    <tr>\n",
       "      <th>4</th>\n",
       "      <td>179</td>\n",
       "      <td>[102397, 98409, 73, 95784, 103796, 105103, 103...</td>\n",
       "      <td>[105180, 104986, 95216, 3510, 105179, 81824, 3...</td>\n",
       "    </tr>\n",
       "    <tr>\n",
       "      <th>...</th>\n",
       "      <td>...</td>\n",
       "      <td>...</td>\n",
       "      <td>...</td>\n",
       "    </tr>\n",
       "    <tr>\n",
       "      <th>68979</th>\n",
       "      <td>1371868</td>\n",
       "      <td>[97531, 103424]</td>\n",
       "      <td>[104045, 93158, 3091, 17043, 93157, 82628, 103...</td>\n",
       "    </tr>\n",
       "    <tr>\n",
       "      <th>68980</th>\n",
       "      <td>1371871</td>\n",
       "      <td>[94310, 91533]</td>\n",
       "      <td>[67522, 104045, 3091, 42626, 104072, 103108, 7...</td>\n",
       "    </tr>\n",
       "    <tr>\n",
       "      <th>68981</th>\n",
       "      <td>1371879</td>\n",
       "      <td>[2118, 84994, 57078, 84991, 101099, 104036, 87...</td>\n",
       "      <td>[103668, 103669, 98867, 6458, 103665, 103667, ...</td>\n",
       "    </tr>\n",
       "    <tr>\n",
       "      <th>68982</th>\n",
       "      <td>1371937</td>\n",
       "      <td>[67261, 70640]</td>\n",
       "      <td>[59774, 67522, 3091, 104045, 42626, 103108, 59...</td>\n",
       "    </tr>\n",
       "    <tr>\n",
       "      <th>68983</th>\n",
       "      <td>1371960</td>\n",
       "      <td>[101689]</td>\n",
       "      <td>[103304, 102628, 66500, 94700, 97246, 80932, 9...</td>\n",
       "    </tr>\n",
       "  </tbody>\n",
       "</table>\n",
       "<p>68984 rows × 3 columns</p>\n",
       "</div>"
      ],
      "text/plain": [
       "          user                                                 gt  \\\n",
       "0           80                                            [28967]   \n",
       "1           86                                            [87371]   \n",
       "2          107                              [69711, 77256, 33872]   \n",
       "3          117                                            [97391]   \n",
       "4          179  [102397, 98409, 73, 95784, 103796, 105103, 103...   \n",
       "...        ...                                                ...   \n",
       "68979  1371868                                    [97531, 103424]   \n",
       "68980  1371871                                     [94310, 91533]   \n",
       "68981  1371879  [2118, 84994, 57078, 84991, 101099, 104036, 87...   \n",
       "68982  1371937                                     [67261, 70640]   \n",
       "68983  1371960                                           [101689]   \n",
       "\n",
       "                                                    item  \n",
       "0      [2865, 3091, 42129, 104045, 103108, 67522, 104...  \n",
       "1      [100228, 33868, 27905, 98606, 102472, 103583, ...  \n",
       "2      [61303, 2219, 61305, 61304, 13042, 84659, 9202...  \n",
       "3      [3091, 104045, 103108, 82628, 103796, 71107, 6...  \n",
       "4      [105180, 104986, 95216, 3510, 105179, 81824, 3...  \n",
       "...                                                  ...  \n",
       "68979  [104045, 93158, 3091, 17043, 93157, 82628, 103...  \n",
       "68980  [67522, 104045, 3091, 42626, 104072, 103108, 7...  \n",
       "68981  [103668, 103669, 98867, 6458, 103665, 103667, ...  \n",
       "68982  [59774, 67522, 3091, 104045, 42626, 103108, 59...  \n",
       "68983  [103304, 102628, 66500, 94700, 97246, 80932, 9...  \n",
       "\n",
       "[68984 rows x 3 columns]"
      ]
     },
     "execution_count": 17,
     "metadata": {},
     "output_type": "execute_result"
    }
   ],
   "source": [
    "gt = transactions[transactions['week'] == 1].groupby('user')['item'].apply(list).reset_index().rename(columns={'item': 'gt'})\n",
    "merged = gt.merge(pred, on='user', how='left')\n",
    "merged['item'] = merged['item'].fillna('').apply(list)\n",
    "merged\n"
   ]
  },
  {
   "cell_type": "code",
   "execution_count": 18,
   "metadata": {},
   "outputs": [
    {
     "data": {
      "text/plain": [
       "0.029450441903480843"
      ]
     },
     "execution_count": 18,
     "metadata": {},
     "output_type": "execute_result"
    }
   ],
   "source": [
    "mapk(merged['gt'], merged['item'])"
   ]
  },
  {
   "cell_type": "code",
   "execution_count": 19,
   "metadata": {},
   "outputs": [],
   "source": [
    "# assert False"
   ]
  },
  {
   "cell_type": "markdown",
   "metadata": {},
   "source": [
    "submission"
   ]
  },
  {
   "cell_type": "code",
   "execution_count": 20,
   "metadata": {},
   "outputs": [],
   "source": [
    "train, group_train = concat_train(datasets, 0, num_train_weeks)"
   ]
  },
  {
   "cell_type": "code",
   "execution_count": null,
   "metadata": {},
   "outputs": [
    {
     "name": "stdout",
     "output_type": "stream",
     "text": [
      "[LightGBM] [Info] Total groups: 50543, total data: 14735472\n"
     ]
    }
   ],
   "source": [
    "train_dataset = lgb.Dataset(train[feature_columns], train['y'], group=group_train)\n",
    "best_iteration = model.best_iteration\n",
    "model = lgb.train(params, train_dataset, num_boost_round=best_iteration)\n",
    "lgb.plot_importance(model, importance_type='gain', figsize=(8, 16))"
   ]
  },
  {
   "cell_type": "code",
   "execution_count": null,
   "metadata": {},
   "outputs": [],
   "source": [
    "all_users = users['user'].values\n",
    "all_users"
   ]
  },
  {
   "cell_type": "code",
   "execution_count": null,
   "metadata": {},
   "outputs": [],
   "source": [
    "# to avoid OOM\n",
    "preds = []\n",
    "\n",
    "n_split_prediction = 10\n",
    "n_chunk = (len(all_users) + n_split_prediction - 1)// n_split_prediction\n",
    "for i in range(0, len(all_users), n_chunk):\n",
    "    target_users = all_users[i:i+n_chunk]\n",
    "\n",
    "    candidates = create_candidates(transactions, target_users, 1)\n",
    "    candidates = attach_features(transactions, users, items, candidates, 1)\n",
    "\n",
    "    candidates['pred'] = model.predict(candidates[feature_columns])\n",
    "    pred = candidates.groupby(['user', 'item'])['pred'].max().reset_index()\n",
    "    pred = pred.sort_values(by=['user', 'pred'], ascending=False).reset_index(drop=True).groupby('user')['item'].apply(lambda x: list(x)[:12]).reset_index()\n",
    "    preds.append(pred)\n",
    "\n",
    "pred = pd.concat(preds).reset_index(drop=True)\n",
    "assert len(pred) == len(all_users)\n",
    "assert np.array_equal(pred['user'].values, all_users)"
   ]
  },
  {
   "cell_type": "code",
   "execution_count": null,
   "metadata": {},
   "outputs": [],
   "source": [
    "for i in range(5):\n",
    "    plot_images(dataset, pred['item'][i])"
   ]
  },
  {
   "cell_type": "code",
   "execution_count": null,
   "metadata": {},
   "outputs": [],
   "source": [
    "mp_user = pd.read_pickle(f\"input/{dataset}/mp_customer_id.pkl\")\n",
    "mp_item = pd.read_pickle(f\"input/{dataset}/mp_article_id.pkl\")\n",
    "\n",
    "a_user = mp_user['val'].values\n",
    "a_item = mp_item['val'].values\n",
    "\n",
    "pred['customer_id'] = pred['user'].apply(lambda x: a_user[x])\n",
    "pred['prediction'] = pred['item'].apply(lambda x: list(map(lambda y: a_item[y], x)))\n",
    "\n",
    "pred['prediction'] = pred['prediction'].apply(lambda x: ' '.join(map(str, x)))\n",
    "\n",
    "submission = pred[['customer_id', 'prediction']]\n",
    "submission"
   ]
  },
  {
   "cell_type": "code",
   "execution_count": null,
   "metadata": {},
   "outputs": [],
   "source": [
    "submission.to_csv('submission.csv', index=False)"
   ]
  },
  {
   "cell_type": "code",
   "execution_count": null,
   "metadata": {},
   "outputs": [],
   "source": []
  }
 ],
 "metadata": {
  "interpreter": {
   "hash": "c89b5301ada1d96cd3523f144e4a3cd3ad36f6698a61e6b8277fb627756a86c6"
  },
  "kernelspec": {
   "display_name": "Python 3 (ipykernel)",
   "language": "python",
   "name": "python3"
  },
  "language_info": {
   "codemirror_mode": {
    "name": "ipython",
    "version": 3
   },
   "file_extension": ".py",
   "mimetype": "text/x-python",
   "name": "python",
   "nbconvert_exporter": "python",
   "pygments_lexer": "ipython3",
   "version": "3.7.12"
  }
 },
 "nbformat": 4,
 "nbformat_minor": 4
}
