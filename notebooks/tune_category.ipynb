{
 "cells": [
  {
   "cell_type": "code",
   "execution_count": 1,
   "metadata": {},
   "outputs": [],
   "source": [
    "\n",
    "import os\n",
    "import pickle\n",
    "from pathlib import Path\n",
    "\n",
    "import catboost\n",
    "import lightgbm as lgb\n",
    "import matplotlib.pyplot as plt\n",
    "import numpy as np\n",
    "import optuna\n",
    "import pandas as pd\n",
    "from tqdm.auto import tqdm\n",
    "\n",
    "from lfm import calc_embeddings, calc_scores\n",
    "from metric import apk, mapk\n",
    "from utils import plot_images\n",
    "\n",
    "ARTIFACTS_DIR = Path('artifacts')\n",
    "ARTIFACTS_DIR.mkdir(exist_ok=True)\n",
    "\n",
    "dataset = '10'\n",
    "\n",
    "\n",
    "def objective(trial):\n",
    "\n",
    "    transactions = pd.read_pickle(f\"input/{dataset}/transactions_train.pkl\")\n",
    "    users = pd.read_pickle(f\"input/{dataset}/users.pkl\")\n",
    "    items = pd.read_pickle(f\"input/{dataset}/items.pkl\")\n",
    "\n",
    "    class CFG:\n",
    "        model_type = 'CatBoost'\n",
    "        popular_num_items = trial.suggest_int('popular_num_items', 12, 48)\n",
    "        popular_days = trial.suggest_int('popular_days', 5, 9)\n",
    "        train_weeks = trial.suggest_int('train_weeks', 2, 2)\n",
    "        repurchase_weeks = 12345\n",
    "        repurchase_num_items = 12345\n",
    "        item2item_weeks = 12345\n",
    "        item2item_num_items = trial.suggest_int('item2item_num_items', 12, 36)\n",
    "        cooc_weeks = trial.suggest_int('cooc_weeks', 10, 14)\n",
    "        cooc_threshold = trial.suggest_int('cooc_threshold', 4, 6)\n",
    "        dynamic_feature_weeks = trial.suggest_int('dynamic_feature_weeks', 6, 10)\n",
    "        volume_feature_days = trial.suggest_int('volume_feature_days', 5, 9)\n",
    "\n",
    "    cooc_new_pattern = trial.suggest_categorical('cooc_new_pattern', [False, True])\n",
    "\n",
    "    lfm_emb_type = trial.suggest_categorical('lfm_emb_type', ['i_i', 'if_i', 'if_f', 'if_if'])\n",
    "    lfm_emb_dim = trial.suggest_categorical('lfm_emb_dim', [8, 16, 32])\n",
    "    lfm_score_type = trial.suggest_categorical('lfm_score_type', ['None', 'i_i', 'if_i', 'if_f', 'if_if'])\n",
    "    lfm_score_dim = trial.suggest_categorical('lfm_score_dim', [8, 16, 32])\n",
    "\n",
    "    garment_group_no = trial.suggest_categorical('garment_group_no', [False, True])\n",
    "    product_type_no = trial.suggest_categorical('product_type_no', [False, True])\n",
    "    product_group_name = trial.suggest_categorical('product_group_name', [False, True])\n",
    "    graphical_appearance_no = trial.suggest_categorical('graphical_appearance_no', [False, True])\n",
    "    colour_group_code = trial.suggest_categorical('colour_group_code', [False, True])\n",
    "    perceived_colour_value_id = trial.suggest_categorical('perceived_colour_value_id', [False, True])\n",
    "    perceived_colour_master_id = trial.suggest_categorical('perceived_colour_master_id', [False, True])\n",
    "    department_no = trial.suggest_categorical('department_no', [False, True])\n",
    "    index_code = trial.suggest_categorical('index_code', [False, True])\n",
    "    index_group_no = trial.suggest_categorical('index_group_no', [False, True])\n",
    "    section_no = trial.suggest_categorical('section_no', [False, True])\n",
    "\n",
    "    def create_candidates(transactions: pd.DataFrame, target_users: np.ndarray, week: int) -> pd.DataFrame:\n",
    "        \"\"\"\n",
    "        transactions\n",
    "            original transactions (user, item, week)\n",
    "        target_users, week\n",
    "            候補生成対象のユーザー\n",
    "            weekで指定されている週の段階での情報のみから作られる\n",
    "        \"\"\"\n",
    "        assert len(target_users) == len(set(target_users))\n",
    "\n",
    "        def create_candidates_repurchase(\n",
    "                strategy: str,\n",
    "                transactions: pd.DataFrame,\n",
    "                target_users: np.ndarray,\n",
    "                week_start: int,\n",
    "                num_weeks: int,\n",
    "                max_items_per_user: int) -> pd.DataFrame:\n",
    "            week_end = week_start + num_weeks\n",
    "            tr = transactions.query(\"user in @target_users and @week_start <= week < @week_end\")[\n",
    "                ['user', 'item', 'week', 'day']].drop_duplicates(ignore_index=True)\n",
    "\n",
    "            gr_day = tr.groupby(['user', 'item'])['day'].min().reset_index(name='day')\n",
    "            gr_week = tr.groupby(['user', 'item'])['week'].min().reset_index(name='week')\n",
    "            gr_volume = tr.groupby(['user', 'item']).size().reset_index(name='volume')\n",
    "\n",
    "            gr_day['day_rank'] = gr_day.groupby('user')['day'].rank()\n",
    "            gr_week['week_rank'] = gr_week.groupby('user')['week'].rank()\n",
    "            gr_volume['volume_rank'] = gr_volume.groupby('user')['volume'].rank(ascending=False)\n",
    "\n",
    "            candidates = gr_day.merge(gr_week, on=['user', 'item']).merge(gr_volume, on=['user', 'item'])\n",
    "\n",
    "            candidates['rank_meta'] = 10**9 * candidates['day_rank'] + candidates['volume_rank']\n",
    "            candidates['rank_meta'] = candidates.groupby('user')['rank_meta'].rank(method='min')\n",
    "            # item2itemに使う場合は全件使うと無駄に重くなってしまうので削る\n",
    "            # dayの小ささ, volumeの大きさの辞書順にソートして上位アイテムのみ残す\n",
    "            # 全部残したい場合はmax_items_per_userに十分大きな数を指定する\n",
    "            candidates = candidates.query(\"rank_meta <= @max_items_per_user\").reset_index(drop=True)\n",
    "\n",
    "            candidates = candidates[['user', 'item', 'week_rank', 'volume_rank', 'rank_meta']].rename(\n",
    "                columns={'week_rank': f'{strategy}_week_rank', 'volume_rank': f'{strategy}_volume_rank'})\n",
    "\n",
    "            candidates['strategy'] = strategy\n",
    "            return candidates.drop_duplicates(ignore_index=True)\n",
    "\n",
    "        def create_candidates_popular(\n",
    "            strategy: str,\n",
    "            transactions: pd.DataFrame,\n",
    "            target_users: np.ndarray,\n",
    "            week_start: int,\n",
    "        ) -> pd.DataFrame:\n",
    "            day_start = 7 * week_start\n",
    "            tr = transactions.query(\n",
    "                \"@day_start <= day < @day_start + @CFG.popular_days\")[['user', 'item']].drop_duplicates(ignore_index=True)\n",
    "            popular_items = tr['item'].value_counts().index.values[:CFG.popular_num_items]\n",
    "            popular_items = pd.DataFrame({\n",
    "                'item': popular_items,\n",
    "                'rank': range(CFG.popular_num_items),\n",
    "                'crossjoinkey': 1,\n",
    "            })\n",
    "\n",
    "            candidates = pd.DataFrame({\n",
    "                'user': target_users,\n",
    "                'crossjoinkey': 1,\n",
    "            })\n",
    "\n",
    "            candidates = candidates.merge(popular_items, on='crossjoinkey').drop('crossjoinkey', axis=1)\n",
    "            candidates = candidates.rename(columns={'rank': f'{strategy}_rank'})\n",
    "\n",
    "            candidates['strategy'] = strategy\n",
    "            return candidates.drop_duplicates(ignore_index=True)\n",
    "\n",
    "        def create_candidates_cooc(\n",
    "                strategy: str,\n",
    "                transactions: pd.DataFrame,\n",
    "                week_start: int,\n",
    "                week_num: int,\n",
    "                base_candidates: pd.DataFrame) -> pd.DataFrame:\n",
    "            week_end = week_start + week_num\n",
    "            if not cooc_new_pattern:\n",
    "                tr = transactions.query(\n",
    "                    \"@week_start <= week < @week_end\")[['user', 'item', 'week']].drop_duplicates(ignore_index=True)\n",
    "                tr = tr.merge(tr.rename(columns={'item': 'item_with', 'week': 'week_with'}), on='user').query(\n",
    "                    \"item != item_with and week <= week_with\")[['item', 'item_with']].reset_index(drop=True)\n",
    "                gr_sz = tr.groupby('item').size().reset_index(name='tot')\n",
    "                gr_cnt = tr.groupby(['item', 'item_with']).size().reset_index(name='cnt')\n",
    "                item2item = gr_cnt.merge(gr_sz, on='item')\n",
    "                item2item['ratio'] = item2item['cnt'] / item2item['tot']\n",
    "                aba = CFG.cooc_threshold\n",
    "                item2item = item2item.query(\"cnt > @aba\").reset_index(drop=True)\n",
    "\n",
    "                candidates = base_candidates.merge(item2item, on='item').drop(\n",
    "                    ['item', 'cnt'], axis=1).rename(columns={'item_with': 'item'})\n",
    "                base_candidates_columns = [c for c in base_candidates.columns if '_' in c]\n",
    "                base_candidates_replace = {c: f\"{strategy}_{c}\" for c in base_candidates_columns}\n",
    "                candidates = candidates.rename(columns=base_candidates_replace)\n",
    "                candidates = candidates.rename(columns={'ratio': f'{strategy}_ratio', 'tot': f'{strategy}_tot'})\n",
    "\n",
    "                candidates['strategy'] = strategy\n",
    "\n",
    "            else:\n",
    "                tr = transactions.query(\"@week_start <= week < @week_end\")[['user', 'item']].drop_duplicates(ignore_index=True)\n",
    "                tr = tr.merge(tr.rename(columns={'item': 'item_with'}), on='user').query(\"item != item_with\")[['item', 'item_with']].reset_index(drop=True)\n",
    "                gr_sz = tr.groupby('item').size().reset_index(name='tot')\n",
    "                gr_cnt = tr.groupby(['item', 'item_with']).size().reset_index(name='cnt')\n",
    "                item2item = gr_cnt.merge(gr_sz, on='item')\n",
    "                item2item['ratio'] = item2item['cnt'] / item2item['tot']\n",
    "                item2item = item2item.query(\"cnt > @CFG.cooc_threshold\").reset_index(drop=True)\n",
    "\n",
    "                candidates = base_candidates.merge(item2item, on='item').drop(\n",
    "                    ['item', 'cnt'], axis=1).rename(columns={'item_with': 'item'})\n",
    "                base_candidates_columns = [c for c in base_candidates.columns if '_' in c]\n",
    "                base_candidates_replace = {c: f\"{strategy}_{c}\" for c in base_candidates_columns}\n",
    "                candidates = candidates.rename(columns=base_candidates_replace)\n",
    "                candidates = candidates.rename(columns={'ratio': f'{strategy}_ratio', 'tot': f'{strategy}_tot'})\n",
    "\n",
    "                candidates['strategy'] = strategy\n",
    "            return candidates.drop_duplicates(ignore_index=True)\n",
    "\n",
    "        def create_candidates_same_product_code(\n",
    "                strategy: str,\n",
    "                items: pd.DataFrame,\n",
    "                base_candidates: pd.DataFrame) -> pd.DataFrame:\n",
    "            item2item = items[['item', 'product_code']].merge(items[['item', 'product_code']].rename(\n",
    "                {'item': 'item_with'}, axis=1), on='product_code')[['item', 'item_with']].query(\"item != item_with\").reset_index(drop=True)\n",
    "\n",
    "            candidates = base_candidates.merge(item2item, on='item').drop('item', axis=1).rename(columns={'item_with': 'item'})\n",
    "\n",
    "            candidates['min_rank_meta'] = candidates.groupby(['user', 'item'])['rank_meta'].transform('min')\n",
    "            candidates = candidates.query(\"rank_meta == min_rank_meta\").reset_index(drop=True)\n",
    "\n",
    "            base_candidates_columns = [c for c in base_candidates.columns if '_' in c]\n",
    "            base_candidates_replace = {c: f\"{strategy}_{c}\" for c in base_candidates_columns}\n",
    "            candidates = candidates.rename(columns=base_candidates_replace)\n",
    "\n",
    "            candidates['strategy'] = strategy\n",
    "            return candidates.drop_duplicates(ignore_index=True)\n",
    "\n",
    "        candidates_repurchase = create_candidates_repurchase(\n",
    "            'repurchase',\n",
    "            transactions,\n",
    "            target_users,\n",
    "            week,\n",
    "            CFG.repurchase_weeks,\n",
    "            CFG.repurchase_num_items)\n",
    "        candidates_popular = create_candidates_popular('pop', transactions, target_users, week)\n",
    "\n",
    "        candidates_item2item = create_candidates_repurchase(\n",
    "            'item2item',\n",
    "            transactions,\n",
    "            target_users,\n",
    "            week,\n",
    "            CFG.repurchase_weeks,\n",
    "            CFG.item2item_num_items)\n",
    "        candidates_cooc = create_candidates_cooc('cooc', transactions, week, CFG.cooc_weeks, candidates_item2item)\n",
    "        candidates_same_product_code = create_candidates_same_product_code('same_product_code', items, candidates_item2item)\n",
    "\n",
    "        def drop_common_user_item(candidates_target: pd.DataFrame, candidates_reference: pd.DataFrame) -> pd.DataFrame:\n",
    "            \"\"\"\n",
    "            candidates_targetのうちuser, itemの組がcandidates_referenceにあるものを落とす\n",
    "            \"\"\"\n",
    "            tmp = candidates_reference[['user', 'item']].reset_index(drop=True)\n",
    "            tmp['flag'] = 1\n",
    "            candidates = candidates_target.merge(tmp, on=['user', 'item'], how='left')\n",
    "            return candidates.query(\"flag != 1\").reset_index(drop=True).drop('flag', axis=1)\n",
    "\n",
    "        candidates_cooc = drop_common_user_item(candidates_cooc, candidates_repurchase)\n",
    "        candidates_same_product_code = drop_common_user_item(candidates_same_product_code, candidates_repurchase)\n",
    "\n",
    "        candidates = [\n",
    "            candidates_repurchase,\n",
    "            candidates_popular,\n",
    "            candidates_cooc,\n",
    "            candidates_same_product_code,\n",
    "        ]\n",
    "        candidates = pd.concat(candidates)\n",
    "\n",
    "        volumes = candidates.groupby('strategy').size().reset_index(\n",
    "            name='volume').sort_values(\n",
    "            by='volume',\n",
    "            ascending=False).reset_index(\n",
    "            drop=True)\n",
    "        volumes['ratio'] = volumes['volume'] / volumes['volume'].sum()\n",
    "\n",
    "        meta_columns = [c for c in candidates.columns if c.endswith('_meta')]\n",
    "        return candidates.drop(meta_columns, axis=1)\n",
    "\n",
    "    # %%\n",
    "    # valid: week=0\n",
    "    # train: week=1..CFG.train_weeks\n",
    "    candidates = []\n",
    "    for week in range(1 + CFG.train_weeks):\n",
    "        target_users = transactions.query(\"week == @week\")['user'].unique()\n",
    "        candidates.append(create_candidates(transactions, target_users, week + 1))\n",
    "\n",
    "    # %%\n",
    "    def merge_labels(candidates: pd.DataFrame, week: int) -> pd.DataFrame:\n",
    "        \"\"\"\n",
    "        candidatesに対してweekで指定される週のトランザクションからラベルを付与する\n",
    "        \"\"\"\n",
    "        labels = transactions[transactions['week'] == week][['user', 'item']].drop_duplicates(ignore_index=True)\n",
    "        labels['y'] = 1\n",
    "        original_positives = len(labels)\n",
    "        labels = candidates.merge(labels, on=['user', 'item'], how='left')\n",
    "        labels['y'] = labels['y'].fillna(0)\n",
    "\n",
    "        remaining_positives_total = labels[['user', 'item', 'y']].drop_duplicates(ignore_index=True)['y'].sum()\n",
    "        recall = remaining_positives_total / original_positives\n",
    "\n",
    "        volumes = candidates.groupby('strategy').size().reset_index(name='volume')\n",
    "        remaining_positives = labels.groupby('strategy')['y'].sum().reset_index()\n",
    "        remaining_positives = remaining_positives.merge(volumes, on='strategy')\n",
    "        remaining_positives['recall'] = remaining_positives['y'] / original_positives\n",
    "        remaining_positives['hit_ratio'] = remaining_positives['y'] / remaining_positives['volume']\n",
    "        remaining_positives = remaining_positives.sort_values(by='y', ascending=False).reset_index(drop=True)\n",
    "\n",
    "        return labels\n",
    "\n",
    "    # %%\n",
    "    for idx in range(len(candidates)):\n",
    "        candidates[idx] = merge_labels(candidates[idx], idx)\n",
    "\n",
    "    # %%\n",
    "\n",
    "    def drop_trivial_users(labels):\n",
    "        \"\"\"\n",
    "        LightGBMのxendgcやlambdarankでは正例のみや負例のみのuserは学習に無意味なのと、メトリックの計算がおかしくなるので省く\n",
    "        \"\"\"\n",
    "        bef = len(labels)\n",
    "        df = labels[labels['user'].isin(labels[['user', 'y']].drop_duplicates().groupby(\n",
    "            'user').size().reset_index(name='sz').query(\"sz==2\").user)].reset_index(drop=True)\n",
    "        aft = len(df)\n",
    "        return df\n",
    "\n",
    "    for idx in range(len(candidates)):\n",
    "        candidates[idx]['week'] = idx\n",
    "\n",
    "    candidates_valid_all = candidates[0].copy()\n",
    "\n",
    "    for idx in range(len(candidates)):\n",
    "        candidates[idx] = drop_trivial_users(candidates[idx])\n",
    "\n",
    "    # %%\n",
    "\n",
    "    def attach_features(\n",
    "            transactions: pd.DataFrame,\n",
    "            users: pd.DataFrame,\n",
    "            items: pd.DataFrame,\n",
    "            candidates: pd.DataFrame,\n",
    "            week: int,\n",
    "            pretrain_week: int) -> pd.DataFrame:\n",
    "        \"\"\"\n",
    "        user, itemに対して特徴を横付けする\n",
    "        week: これを含めた以前の情報は使って良い\n",
    "        \"\"\"\n",
    "        n_original = len(candidates)\n",
    "        df = candidates.copy()\n",
    "\n",
    "        # user static features\n",
    "        user_features = ['FN', 'Active', 'age', 'club_member_status_idx', 'fashion_news_frequency_idx']\n",
    "        df = df.merge(users[['user'] + user_features], on='user')\n",
    "\n",
    "        # item static features\n",
    "        item_features = [c for c in items.columns if c.endswith('idx')]\n",
    "        df = df.merge(items[['item'] + item_features], on='item')\n",
    "\n",
    "        # user dynamic features (transactions)\n",
    "        week_end = week + CFG.dynamic_feature_weeks\n",
    "        tmp = transactions.query(\n",
    "            \"@week <= week < @week_end\").groupby('user')[['price', 'sales_channel_id']].agg(['mean', 'std'])\n",
    "        tmp.columns = ['user_' + '_'.join(a) for a in tmp.columns.to_flat_index()]\n",
    "        df = df.merge(tmp, on='user', how='left')\n",
    "\n",
    "        # item dynamic features (transactions)\n",
    "        week_end = week + CFG.dynamic_feature_weeks\n",
    "        tmp = transactions.query(\n",
    "            \"@week <= week < @week_end\").groupby('item')[['price', 'sales_channel_id']].agg(['mean', 'std'])\n",
    "        tmp.columns = ['item_' + '_'.join(a) for a in tmp.columns.to_flat_index()]\n",
    "        df = df.merge(tmp, on='item', how='left')\n",
    "\n",
    "        # item dynamic features (user features)\n",
    "        week_end = week + CFG.dynamic_feature_weeks\n",
    "        tmp = transactions.query(\"@week <= week < @week_end\").merge(users[['user', 'age']], on='user')\n",
    "        tmp = tmp.groupby('item')['age'].agg(['mean', 'std'])\n",
    "        tmp.columns = [f'age_{a}' for a in tmp.columns.to_flat_index()]\n",
    "        df = df.merge(tmp, on='item', how='left')\n",
    "\n",
    "        # item freshness features\n",
    "        tmp = transactions.query(\"@week <= week\").groupby('item')['day'].min().reset_index(name='item_day_min')\n",
    "        tmp['item_day_min'] -= transactions.query(\"@week == week\")['day'].min()\n",
    "        df = df.merge(tmp, on='item', how='left')\n",
    "\n",
    "        # item volume features\n",
    "        day_start = 7 * week\n",
    "        day_end = day_start + CFG.volume_feature_days\n",
    "        tmp = transactions.query(\"@day_start <= day < @day_end\").groupby('item').size().reset_index(name='item_volume')\n",
    "        df = df.merge(tmp, on='item', how='left')\n",
    "\n",
    "        # user-item freshness features\n",
    "        tmp = transactions.query(\"@week <= week\").groupby(['user', 'item'])['day'].min().reset_index(name='user_item_day_min')\n",
    "        tmp['user_item_day_min'] -= transactions.query(\"@week == week\")['day'].min()\n",
    "        df = df.merge(tmp, on=['item', 'user'], how='left')\n",
    "\n",
    "        # user-item volume features\n",
    "        day_start = 7 * week\n",
    "        day_end = day_start + CFG.volume_feature_days\n",
    "        tmp = transactions.query(\n",
    "            \"@day_start <= day < @day_end\").groupby(['user', 'item']).size().reset_index(name='user_item_volume')\n",
    "        df = df.merge(tmp, on=['user', 'item'], how='left')\n",
    "\n",
    "        # lfm features\n",
    "        user_reps, _ = calc_embeddings(lfm_emb_type, dataset, pretrain_week, lfm_emb_dim)\n",
    "        df = df.merge(user_reps, on='user')\n",
    "\n",
    "        if lfm_score_type != 'None':\n",
    "            df['lfm'] = calc_scores(lfm_score_type, dataset, pretrain_week, lfm_score_dim, df['user'].values, df['item'].values)\n",
    "\n",
    "        prefix = f'artifacts/user_features/user_ohe_agg_dataset{dataset}_week{week}'\n",
    "        if garment_group_no:\n",
    "            df = df.merge(pd.read_pickle(f'{prefix}_garment_group_no_idx.pkl'), on='user')\n",
    "        if product_type_no:\n",
    "            df = df.merge(pd.read_pickle(f'{prefix}_product_type_no_idx.pkl'), on='user')\n",
    "        if product_group_name:\n",
    "            df = df.merge(pd.read_pickle(f'{prefix}_product_group_name_idx.pkl'), on='user')\n",
    "        if graphical_appearance_no:\n",
    "            df = df.merge(pd.read_pickle(f'{prefix}_graphical_appearance_no_idx.pkl'), on='user')\n",
    "        if colour_group_code:\n",
    "            df = df.merge(pd.read_pickle(f'{prefix}_colour_group_code_idx.pkl'), on='user')\n",
    "        if perceived_colour_value_id:\n",
    "            df = df.merge(pd.read_pickle(f'{prefix}_perceived_colour_value_id_idx.pkl'), on='user')\n",
    "        if perceived_colour_master_id:\n",
    "            df = df.merge(pd.read_pickle(f'{prefix}_perceived_colour_master_id_idx.pkl'), on='user')\n",
    "        if department_no:\n",
    "            df = df.merge(pd.read_pickle(f'{prefix}_department_no_idx.pkl'), on='user')\n",
    "        if index_code:\n",
    "            df = df.merge(pd.read_pickle(f'{prefix}_index_code_idx.pkl'), on='user')\n",
    "        if index_group_no:\n",
    "            df = df.merge(pd.read_pickle(f'{prefix}_index_group_no_idx.pkl'), on='user')\n",
    "        if section_no:\n",
    "            df = df.merge(pd.read_pickle(f'{prefix}_section_no_idx.pkl'), on='user')\n",
    "\n",
    "        assert len(df) == n_original\n",
    "        return df\n",
    "\n",
    "    dataset_valid_all = attach_features(transactions, users, items, candidates_valid_all, 1, CFG.train_weeks + 1)\n",
    "    # pretrained modelの学習期間が評価時と提出時で異なるので、candidatesは残しておく\n",
    "    datasets = [\n",
    "        attach_features(\n",
    "            transactions,\n",
    "            users,\n",
    "            items,\n",
    "            candidates[idx],\n",
    "            1 +\n",
    "            idx,\n",
    "            CFG.train_weeks +\n",
    "            1) for idx in range(\n",
    "            len(candidates))]\n",
    "\n",
    "    # %%\n",
    "    for idx in range(len(datasets)):\n",
    "        datasets[idx]['query_group'] = datasets[idx]['week'].astype(str) + '_' + datasets[idx]['user'].astype(str)\n",
    "        datasets[idx] = datasets[idx].sort_values(by='query_group').reset_index(drop=True)\n",
    "\n",
    "    # %%\n",
    "    def concat_train(datasets, begin, num):\n",
    "        train = pd.concat([datasets[idx] for idx in range(begin, begin + num)])\n",
    "        return train\n",
    "\n",
    "    valid = datasets[0]\n",
    "    train = concat_train(datasets, 1, CFG.train_weeks)\n",
    "\n",
    "    feature_columns = [c for c in valid.columns if c not in ['y', 'strategy', 'query_group', 'week']]\n",
    "\n",
    "    cat_feature_values = [c for c in feature_columns if c.endswith('idx')]\n",
    "    cat_features = [feature_columns.index(c) for c in cat_feature_values]\n",
    "\n",
    "    train_pool = catboost.Pool(\n",
    "        data=train[feature_columns],\n",
    "        label=train['y'],\n",
    "        group_id=train['query_group'],\n",
    "        cat_features=cat_features)\n",
    "    valid_pool = catboost.Pool(\n",
    "        data=valid[feature_columns],\n",
    "        label=valid['y'],\n",
    "        group_id=valid['query_group'],\n",
    "        cat_features=cat_features)\n",
    "\n",
    "    params = {\n",
    "        'loss_function': 'YetiRank',\n",
    "        'use_best_model': True,\n",
    "        'one_hot_max_size': 300,\n",
    "        'learning_rate': 0.1,\n",
    "        'verbose': False,\n",
    "    }\n",
    "    model = catboost.CatBoost(params)\n",
    "    model.fit(train_pool, eval_set=valid_pool)\n",
    "\n",
    "    feature_importance = model.get_feature_importance(train_pool)\n",
    "    sorted_idx = np.argsort(feature_importance)\n",
    "    plt.figure(figsize=(8, 16))\n",
    "    plt.yticks(range(len(feature_columns)), np.array(feature_columns)[sorted_idx])\n",
    "    plt.barh(range(len(feature_columns)), feature_importance[sorted_idx])\n",
    "\n",
    "    # %%\n",
    "    pred = dataset_valid_all[['user', 'item']].reset_index(drop=True)\n",
    "    pred['pred'] = model.predict(dataset_valid_all[feature_columns])\n",
    "\n",
    "    # %%\n",
    "    pred = pred.groupby(['user', 'item'])['pred'].max().reset_index()\n",
    "    pred = pred.sort_values(by=['user', 'pred'], ascending=False).reset_index(\n",
    "        drop=True).groupby('user')['item'].apply(lambda x: list(x)[:12]).reset_index()\n",
    "\n",
    "    # %%\n",
    "    gt = transactions.query(\"week == 0\").groupby('user')['item'].apply(list).reset_index().rename(columns={'item': 'gt'})\n",
    "    merged = gt.merge(pred, on='user', how='left')\n",
    "    merged['item'] = merged['item'].fillna('').apply(list)\n",
    "\n",
    "    return mapk(merged['gt'], merged['item'])"
   ]
  },
  {
   "cell_type": "code",
   "execution_count": null,
   "metadata": {},
   "outputs": [],
   "source": [
    "study = optuna.create_study(direction='maximize')\n",
    "study.optimize(objective, timeout=3600 * 12)"
   ]
  },
  {
   "cell_type": "code",
   "execution_count": 3,
   "metadata": {},
   "outputs": [],
   "source": [
    "study.trials_dataframe().sort_values(by='value', ascending=False).reset_index(drop=True).to_csv('tuna.csv', index=False)\n",
    "\n",
    "with open(\"study.pkl\", 'wb') as f:\n",
    "    pickle.dump(study, f)"
   ]
  },
  {
   "cell_type": "code",
   "execution_count": 15,
   "metadata": {},
   "outputs": [
    {
     "data": {
      "text/html": [
       "<div>\n",
       "<style scoped>\n",
       "    .dataframe tbody tr th:only-of-type {\n",
       "        vertical-align: middle;\n",
       "    }\n",
       "\n",
       "    .dataframe tbody tr th {\n",
       "        vertical-align: top;\n",
       "    }\n",
       "\n",
       "    .dataframe thead th {\n",
       "        text-align: right;\n",
       "    }\n",
       "</style>\n",
       "<table border=\"1\" class=\"dataframe\">\n",
       "  <thead>\n",
       "    <tr style=\"text-align: right;\">\n",
       "      <th></th>\n",
       "      <th>number</th>\n",
       "      <th>value</th>\n",
       "      <th>datetime_start</th>\n",
       "      <th>datetime_complete</th>\n",
       "      <th>duration</th>\n",
       "      <th>params_colour_group_code</th>\n",
       "      <th>params_cooc_new_pattern</th>\n",
       "      <th>params_cooc_threshold</th>\n",
       "      <th>params_cooc_weeks</th>\n",
       "      <th>params_department_no</th>\n",
       "      <th>params_dynamic_feature_weeks</th>\n",
       "      <th>params_garment_group_no</th>\n",
       "      <th>params_graphical_appearance_no</th>\n",
       "      <th>params_index_code</th>\n",
       "      <th>params_index_group_no</th>\n",
       "      <th>params_item2item_num_items</th>\n",
       "      <th>params_lfm_emb_dim</th>\n",
       "      <th>params_lfm_emb_type</th>\n",
       "      <th>params_lfm_score_dim</th>\n",
       "      <th>params_lfm_score_type</th>\n",
       "      <th>params_perceived_colour_master_id</th>\n",
       "      <th>params_perceived_colour_value_id</th>\n",
       "      <th>params_popular_days</th>\n",
       "      <th>params_popular_num_items</th>\n",
       "      <th>params_product_group_name</th>\n",
       "      <th>params_product_type_no</th>\n",
       "      <th>params_section_no</th>\n",
       "      <th>params_train_weeks</th>\n",
       "      <th>params_volume_feature_days</th>\n",
       "      <th>state</th>\n",
       "    </tr>\n",
       "  </thead>\n",
       "  <tbody>\n",
       "    <tr>\n",
       "      <th>0</th>\n",
       "      <td>60</td>\n",
       "      <td>0.031161</td>\n",
       "      <td>2022-04-17 03:46:50.426262</td>\n",
       "      <td>2022-04-17 03:51:55.924583</td>\n",
       "      <td>0 days 00:05:05.498321</td>\n",
       "      <td>True</td>\n",
       "      <td>False</td>\n",
       "      <td>5</td>\n",
       "      <td>12</td>\n",
       "      <td>True</td>\n",
       "      <td>6</td>\n",
       "      <td>True</td>\n",
       "      <td>False</td>\n",
       "      <td>True</td>\n",
       "      <td>False</td>\n",
       "      <td>17</td>\n",
       "      <td>8</td>\n",
       "      <td>if_if</td>\n",
       "      <td>8</td>\n",
       "      <td>if_if</td>\n",
       "      <td>False</td>\n",
       "      <td>True</td>\n",
       "      <td>5</td>\n",
       "      <td>38</td>\n",
       "      <td>False</td>\n",
       "      <td>False</td>\n",
       "      <td>False</td>\n",
       "      <td>2</td>\n",
       "      <td>9</td>\n",
       "      <td>COMPLETE</td>\n",
       "    </tr>\n",
       "    <tr>\n",
       "      <th>1</th>\n",
       "      <td>61</td>\n",
       "      <td>0.031161</td>\n",
       "      <td>2022-04-17 03:51:55.926259</td>\n",
       "      <td>2022-04-17 03:57:01.360024</td>\n",
       "      <td>0 days 00:05:05.433765</td>\n",
       "      <td>True</td>\n",
       "      <td>False</td>\n",
       "      <td>5</td>\n",
       "      <td>12</td>\n",
       "      <td>True</td>\n",
       "      <td>6</td>\n",
       "      <td>True</td>\n",
       "      <td>False</td>\n",
       "      <td>True</td>\n",
       "      <td>False</td>\n",
       "      <td>17</td>\n",
       "      <td>8</td>\n",
       "      <td>if_if</td>\n",
       "      <td>8</td>\n",
       "      <td>if_if</td>\n",
       "      <td>False</td>\n",
       "      <td>True</td>\n",
       "      <td>5</td>\n",
       "      <td>38</td>\n",
       "      <td>False</td>\n",
       "      <td>False</td>\n",
       "      <td>False</td>\n",
       "      <td>2</td>\n",
       "      <td>9</td>\n",
       "      <td>COMPLETE</td>\n",
       "    </tr>\n",
       "    <tr>\n",
       "      <th>2</th>\n",
       "      <td>65</td>\n",
       "      <td>0.031118</td>\n",
       "      <td>2022-04-17 04:13:00.783712</td>\n",
       "      <td>2022-04-17 04:18:15.686350</td>\n",
       "      <td>0 days 00:05:14.902638</td>\n",
       "      <td>True</td>\n",
       "      <td>False</td>\n",
       "      <td>5</td>\n",
       "      <td>12</td>\n",
       "      <td>True</td>\n",
       "      <td>6</td>\n",
       "      <td>True</td>\n",
       "      <td>False</td>\n",
       "      <td>True</td>\n",
       "      <td>False</td>\n",
       "      <td>19</td>\n",
       "      <td>8</td>\n",
       "      <td>if_if</td>\n",
       "      <td>8</td>\n",
       "      <td>if_if</td>\n",
       "      <td>False</td>\n",
       "      <td>True</td>\n",
       "      <td>5</td>\n",
       "      <td>36</td>\n",
       "      <td>False</td>\n",
       "      <td>False</td>\n",
       "      <td>False</td>\n",
       "      <td>2</td>\n",
       "      <td>9</td>\n",
       "      <td>COMPLETE</td>\n",
       "    </tr>\n",
       "    <tr>\n",
       "      <th>3</th>\n",
       "      <td>123</td>\n",
       "      <td>0.031118</td>\n",
       "      <td>2022-04-17 09:23:42.815450</td>\n",
       "      <td>2022-04-17 09:28:57.934885</td>\n",
       "      <td>0 days 00:05:15.119435</td>\n",
       "      <td>True</td>\n",
       "      <td>False</td>\n",
       "      <td>5</td>\n",
       "      <td>12</td>\n",
       "      <td>True</td>\n",
       "      <td>6</td>\n",
       "      <td>True</td>\n",
       "      <td>False</td>\n",
       "      <td>True</td>\n",
       "      <td>False</td>\n",
       "      <td>19</td>\n",
       "      <td>8</td>\n",
       "      <td>if_if</td>\n",
       "      <td>8</td>\n",
       "      <td>if_if</td>\n",
       "      <td>False</td>\n",
       "      <td>True</td>\n",
       "      <td>5</td>\n",
       "      <td>36</td>\n",
       "      <td>False</td>\n",
       "      <td>False</td>\n",
       "      <td>False</td>\n",
       "      <td>2</td>\n",
       "      <td>9</td>\n",
       "      <td>COMPLETE</td>\n",
       "    </tr>\n",
       "    <tr>\n",
       "      <th>4</th>\n",
       "      <td>74</td>\n",
       "      <td>0.031118</td>\n",
       "      <td>2022-04-17 05:00:14.169704</td>\n",
       "      <td>2022-04-17 05:05:32.786143</td>\n",
       "      <td>0 days 00:05:18.616439</td>\n",
       "      <td>True</td>\n",
       "      <td>False</td>\n",
       "      <td>5</td>\n",
       "      <td>12</td>\n",
       "      <td>True</td>\n",
       "      <td>6</td>\n",
       "      <td>True</td>\n",
       "      <td>False</td>\n",
       "      <td>True</td>\n",
       "      <td>False</td>\n",
       "      <td>19</td>\n",
       "      <td>8</td>\n",
       "      <td>if_if</td>\n",
       "      <td>8</td>\n",
       "      <td>if_if</td>\n",
       "      <td>False</td>\n",
       "      <td>True</td>\n",
       "      <td>5</td>\n",
       "      <td>36</td>\n",
       "      <td>False</td>\n",
       "      <td>False</td>\n",
       "      <td>False</td>\n",
       "      <td>2</td>\n",
       "      <td>9</td>\n",
       "      <td>COMPLETE</td>\n",
       "    </tr>\n",
       "    <tr>\n",
       "      <th>...</th>\n",
       "      <td>...</td>\n",
       "      <td>...</td>\n",
       "      <td>...</td>\n",
       "      <td>...</td>\n",
       "      <td>...</td>\n",
       "      <td>...</td>\n",
       "      <td>...</td>\n",
       "      <td>...</td>\n",
       "      <td>...</td>\n",
       "      <td>...</td>\n",
       "      <td>...</td>\n",
       "      <td>...</td>\n",
       "      <td>...</td>\n",
       "      <td>...</td>\n",
       "      <td>...</td>\n",
       "      <td>...</td>\n",
       "      <td>...</td>\n",
       "      <td>...</td>\n",
       "      <td>...</td>\n",
       "      <td>...</td>\n",
       "      <td>...</td>\n",
       "      <td>...</td>\n",
       "      <td>...</td>\n",
       "      <td>...</td>\n",
       "      <td>...</td>\n",
       "      <td>...</td>\n",
       "      <td>...</td>\n",
       "      <td>...</td>\n",
       "      <td>...</td>\n",
       "      <td>...</td>\n",
       "    </tr>\n",
       "    <tr>\n",
       "      <th>134</th>\n",
       "      <td>37</td>\n",
       "      <td>0.029072</td>\n",
       "      <td>2022-04-17 01:48:26.333012</td>\n",
       "      <td>2022-04-17 01:54:25.433705</td>\n",
       "      <td>0 days 00:05:59.100693</td>\n",
       "      <td>False</td>\n",
       "      <td>True</td>\n",
       "      <td>6</td>\n",
       "      <td>12</td>\n",
       "      <td>True</td>\n",
       "      <td>7</td>\n",
       "      <td>False</td>\n",
       "      <td>True</td>\n",
       "      <td>True</td>\n",
       "      <td>False</td>\n",
       "      <td>21</td>\n",
       "      <td>16</td>\n",
       "      <td>i_i</td>\n",
       "      <td>8</td>\n",
       "      <td>if_f</td>\n",
       "      <td>False</td>\n",
       "      <td>True</td>\n",
       "      <td>8</td>\n",
       "      <td>38</td>\n",
       "      <td>False</td>\n",
       "      <td>True</td>\n",
       "      <td>True</td>\n",
       "      <td>2</td>\n",
       "      <td>8</td>\n",
       "      <td>COMPLETE</td>\n",
       "    </tr>\n",
       "    <tr>\n",
       "      <th>135</th>\n",
       "      <td>47</td>\n",
       "      <td>0.029044</td>\n",
       "      <td>2022-04-17 02:41:10.029454</td>\n",
       "      <td>2022-04-17 02:44:38.441336</td>\n",
       "      <td>0 days 00:03:28.411882</td>\n",
       "      <td>True</td>\n",
       "      <td>False</td>\n",
       "      <td>4</td>\n",
       "      <td>11</td>\n",
       "      <td>False</td>\n",
       "      <td>9</td>\n",
       "      <td>False</td>\n",
       "      <td>False</td>\n",
       "      <td>False</td>\n",
       "      <td>True</td>\n",
       "      <td>17</td>\n",
       "      <td>32</td>\n",
       "      <td>i_i</td>\n",
       "      <td>16</td>\n",
       "      <td>if_if</td>\n",
       "      <td>True</td>\n",
       "      <td>False</td>\n",
       "      <td>6</td>\n",
       "      <td>28</td>\n",
       "      <td>False</td>\n",
       "      <td>False</td>\n",
       "      <td>False</td>\n",
       "      <td>2</td>\n",
       "      <td>8</td>\n",
       "      <td>COMPLETE</td>\n",
       "    </tr>\n",
       "    <tr>\n",
       "      <th>136</th>\n",
       "      <td>9</td>\n",
       "      <td>0.028985</td>\n",
       "      <td>2022-04-16 23:39:36.778589</td>\n",
       "      <td>2022-04-16 23:44:35.418068</td>\n",
       "      <td>0 days 00:04:58.639479</td>\n",
       "      <td>False</td>\n",
       "      <td>False</td>\n",
       "      <td>4</td>\n",
       "      <td>13</td>\n",
       "      <td>False</td>\n",
       "      <td>10</td>\n",
       "      <td>True</td>\n",
       "      <td>False</td>\n",
       "      <td>True</td>\n",
       "      <td>True</td>\n",
       "      <td>15</td>\n",
       "      <td>32</td>\n",
       "      <td>if_i</td>\n",
       "      <td>32</td>\n",
       "      <td>if_i</td>\n",
       "      <td>True</td>\n",
       "      <td>False</td>\n",
       "      <td>9</td>\n",
       "      <td>37</td>\n",
       "      <td>True</td>\n",
       "      <td>True</td>\n",
       "      <td>True</td>\n",
       "      <td>2</td>\n",
       "      <td>7</td>\n",
       "      <td>COMPLETE</td>\n",
       "    </tr>\n",
       "    <tr>\n",
       "      <th>137</th>\n",
       "      <td>7</td>\n",
       "      <td>0.028632</td>\n",
       "      <td>2022-04-16 23:28:31.897970</td>\n",
       "      <td>2022-04-16 23:34:51.188015</td>\n",
       "      <td>0 days 00:06:19.290045</td>\n",
       "      <td>True</td>\n",
       "      <td>False</td>\n",
       "      <td>5</td>\n",
       "      <td>11</td>\n",
       "      <td>True</td>\n",
       "      <td>10</td>\n",
       "      <td>False</td>\n",
       "      <td>False</td>\n",
       "      <td>True</td>\n",
       "      <td>False</td>\n",
       "      <td>35</td>\n",
       "      <td>32</td>\n",
       "      <td>if_if</td>\n",
       "      <td>8</td>\n",
       "      <td>i_i</td>\n",
       "      <td>True</td>\n",
       "      <td>True</td>\n",
       "      <td>8</td>\n",
       "      <td>27</td>\n",
       "      <td>True</td>\n",
       "      <td>False</td>\n",
       "      <td>False</td>\n",
       "      <td>2</td>\n",
       "      <td>6</td>\n",
       "      <td>COMPLETE</td>\n",
       "    </tr>\n",
       "    <tr>\n",
       "      <th>138</th>\n",
       "      <td>6</td>\n",
       "      <td>0.027826</td>\n",
       "      <td>2022-04-16 23:23:13.474346</td>\n",
       "      <td>2022-04-16 23:28:31.896333</td>\n",
       "      <td>0 days 00:05:18.421987</td>\n",
       "      <td>False</td>\n",
       "      <td>True</td>\n",
       "      <td>6</td>\n",
       "      <td>11</td>\n",
       "      <td>True</td>\n",
       "      <td>8</td>\n",
       "      <td>True</td>\n",
       "      <td>True</td>\n",
       "      <td>False</td>\n",
       "      <td>True</td>\n",
       "      <td>19</td>\n",
       "      <td>8</td>\n",
       "      <td>i_i</td>\n",
       "      <td>16</td>\n",
       "      <td>i_i</td>\n",
       "      <td>False</td>\n",
       "      <td>False</td>\n",
       "      <td>7</td>\n",
       "      <td>47</td>\n",
       "      <td>False</td>\n",
       "      <td>False</td>\n",
       "      <td>False</td>\n",
       "      <td>2</td>\n",
       "      <td>6</td>\n",
       "      <td>COMPLETE</td>\n",
       "    </tr>\n",
       "  </tbody>\n",
       "</table>\n",
       "<p>139 rows × 30 columns</p>\n",
       "</div>"
      ],
      "text/plain": [
       "     number     value             datetime_start          datetime_complete  \\\n",
       "0        60  0.031161 2022-04-17 03:46:50.426262 2022-04-17 03:51:55.924583   \n",
       "1        61  0.031161 2022-04-17 03:51:55.926259 2022-04-17 03:57:01.360024   \n",
       "2        65  0.031118 2022-04-17 04:13:00.783712 2022-04-17 04:18:15.686350   \n",
       "3       123  0.031118 2022-04-17 09:23:42.815450 2022-04-17 09:28:57.934885   \n",
       "4        74  0.031118 2022-04-17 05:00:14.169704 2022-04-17 05:05:32.786143   \n",
       "..      ...       ...                        ...                        ...   \n",
       "134      37  0.029072 2022-04-17 01:48:26.333012 2022-04-17 01:54:25.433705   \n",
       "135      47  0.029044 2022-04-17 02:41:10.029454 2022-04-17 02:44:38.441336   \n",
       "136       9  0.028985 2022-04-16 23:39:36.778589 2022-04-16 23:44:35.418068   \n",
       "137       7  0.028632 2022-04-16 23:28:31.897970 2022-04-16 23:34:51.188015   \n",
       "138       6  0.027826 2022-04-16 23:23:13.474346 2022-04-16 23:28:31.896333   \n",
       "\n",
       "                  duration  params_colour_group_code  params_cooc_new_pattern  \\\n",
       "0   0 days 00:05:05.498321                      True                    False   \n",
       "1   0 days 00:05:05.433765                      True                    False   \n",
       "2   0 days 00:05:14.902638                      True                    False   \n",
       "3   0 days 00:05:15.119435                      True                    False   \n",
       "4   0 days 00:05:18.616439                      True                    False   \n",
       "..                     ...                       ...                      ...   \n",
       "134 0 days 00:05:59.100693                     False                     True   \n",
       "135 0 days 00:03:28.411882                      True                    False   \n",
       "136 0 days 00:04:58.639479                     False                    False   \n",
       "137 0 days 00:06:19.290045                      True                    False   \n",
       "138 0 days 00:05:18.421987                     False                     True   \n",
       "\n",
       "     params_cooc_threshold  params_cooc_weeks  params_department_no  \\\n",
       "0                        5                 12                  True   \n",
       "1                        5                 12                  True   \n",
       "2                        5                 12                  True   \n",
       "3                        5                 12                  True   \n",
       "4                        5                 12                  True   \n",
       "..                     ...                ...                   ...   \n",
       "134                      6                 12                  True   \n",
       "135                      4                 11                 False   \n",
       "136                      4                 13                 False   \n",
       "137                      5                 11                  True   \n",
       "138                      6                 11                  True   \n",
       "\n",
       "     params_dynamic_feature_weeks  params_garment_group_no  \\\n",
       "0                               6                     True   \n",
       "1                               6                     True   \n",
       "2                               6                     True   \n",
       "3                               6                     True   \n",
       "4                               6                     True   \n",
       "..                            ...                      ...   \n",
       "134                             7                    False   \n",
       "135                             9                    False   \n",
       "136                            10                     True   \n",
       "137                            10                    False   \n",
       "138                             8                     True   \n",
       "\n",
       "     params_graphical_appearance_no  params_index_code  params_index_group_no  \\\n",
       "0                             False               True                  False   \n",
       "1                             False               True                  False   \n",
       "2                             False               True                  False   \n",
       "3                             False               True                  False   \n",
       "4                             False               True                  False   \n",
       "..                              ...                ...                    ...   \n",
       "134                            True               True                  False   \n",
       "135                           False              False                   True   \n",
       "136                           False               True                   True   \n",
       "137                           False               True                  False   \n",
       "138                            True              False                   True   \n",
       "\n",
       "     params_item2item_num_items  params_lfm_emb_dim params_lfm_emb_type  \\\n",
       "0                            17                   8               if_if   \n",
       "1                            17                   8               if_if   \n",
       "2                            19                   8               if_if   \n",
       "3                            19                   8               if_if   \n",
       "4                            19                   8               if_if   \n",
       "..                          ...                 ...                 ...   \n",
       "134                          21                  16                 i_i   \n",
       "135                          17                  32                 i_i   \n",
       "136                          15                  32                if_i   \n",
       "137                          35                  32               if_if   \n",
       "138                          19                   8                 i_i   \n",
       "\n",
       "     params_lfm_score_dim params_lfm_score_type  \\\n",
       "0                       8                 if_if   \n",
       "1                       8                 if_if   \n",
       "2                       8                 if_if   \n",
       "3                       8                 if_if   \n",
       "4                       8                 if_if   \n",
       "..                    ...                   ...   \n",
       "134                     8                  if_f   \n",
       "135                    16                 if_if   \n",
       "136                    32                  if_i   \n",
       "137                     8                   i_i   \n",
       "138                    16                   i_i   \n",
       "\n",
       "     params_perceived_colour_master_id  params_perceived_colour_value_id  \\\n",
       "0                                False                              True   \n",
       "1                                False                              True   \n",
       "2                                False                              True   \n",
       "3                                False                              True   \n",
       "4                                False                              True   \n",
       "..                                 ...                               ...   \n",
       "134                              False                              True   \n",
       "135                               True                             False   \n",
       "136                               True                             False   \n",
       "137                               True                              True   \n",
       "138                              False                             False   \n",
       "\n",
       "     params_popular_days  params_popular_num_items  params_product_group_name  \\\n",
       "0                      5                        38                      False   \n",
       "1                      5                        38                      False   \n",
       "2                      5                        36                      False   \n",
       "3                      5                        36                      False   \n",
       "4                      5                        36                      False   \n",
       "..                   ...                       ...                        ...   \n",
       "134                    8                        38                      False   \n",
       "135                    6                        28                      False   \n",
       "136                    9                        37                       True   \n",
       "137                    8                        27                       True   \n",
       "138                    7                        47                      False   \n",
       "\n",
       "     params_product_type_no  params_section_no  params_train_weeks  \\\n",
       "0                     False              False                   2   \n",
       "1                     False              False                   2   \n",
       "2                     False              False                   2   \n",
       "3                     False              False                   2   \n",
       "4                     False              False                   2   \n",
       "..                      ...                ...                 ...   \n",
       "134                    True               True                   2   \n",
       "135                   False              False                   2   \n",
       "136                    True               True                   2   \n",
       "137                   False              False                   2   \n",
       "138                   False              False                   2   \n",
       "\n",
       "     params_volume_feature_days     state  \n",
       "0                             9  COMPLETE  \n",
       "1                             9  COMPLETE  \n",
       "2                             9  COMPLETE  \n",
       "3                             9  COMPLETE  \n",
       "4                             9  COMPLETE  \n",
       "..                          ...       ...  \n",
       "134                           8  COMPLETE  \n",
       "135                           8  COMPLETE  \n",
       "136                           7  COMPLETE  \n",
       "137                           6  COMPLETE  \n",
       "138                           6  COMPLETE  \n",
       "\n",
       "[139 rows x 30 columns]"
      ]
     },
     "execution_count": 15,
     "metadata": {},
     "output_type": "execute_result"
    }
   ],
   "source": [
    "pd.options.display.max_columns = 100\n",
    "df = study.trials_dataframe().sort_values(by='value', ascending=False).reset_index(drop=True)\n",
    "df"
   ]
  },
  {
   "cell_type": "code",
   "execution_count": 24,
   "metadata": {},
   "outputs": [
    {
     "name": "stdout",
     "output_type": "stream",
     "text": [
      "['colour_group_code', 'cooc_new_pattern', 'cooc_threshold', 'cooc_weeks', 'department_no', 'dynamic_feature_weeks', 'garment_group_no', 'graphical_appearance_no', 'index_code', 'index_group_no', 'item2item_num_items', 'lfm_emb_dim', 'lfm_emb_type', 'lfm_score_dim', 'lfm_score_type', 'perceived_colour_master_id', 'perceived_colour_value_id', 'popular_days', 'popular_num_items', 'product_group_name', 'product_type_no', 'section_no', 'volume_feature_days']\n"
     ]
    }
   ],
   "source": [
    "a = [c for c in df.columns if c.startswith('params_')]\n",
    "a = [c[7:] for c in a]\n",
    "a.remove('train_weeks')\n",
    "print(a)"
   ]
  },
  {
   "cell_type": "code",
   "execution_count": 25,
   "metadata": {},
   "outputs": [
    {
     "data": {
      "application/vnd.plotly.v1+json": {
       "config": {
        "plotlyServerURL": "https://plot.ly"
       },
       "data": [
        {
         "cliponaxis": false,
         "hovertemplate": [
          "section_no (CategoricalDistribution): 0.0012111286991937844<extra></extra>",
          "graphical_appearance_no (CategoricalDistribution): 0.0012122513461029908<extra></extra>",
          "garment_group_no (CategoricalDistribution): 0.0019307179838418467<extra></extra>",
          "colour_group_code (CategoricalDistribution): 0.004368999961583138<extra></extra>",
          "cooc_new_pattern (CategoricalDistribution): 0.004563856274831036<extra></extra>",
          "perceived_colour_value_id (CategoricalDistribution): 0.005025563596618606<extra></extra>",
          "department_no (CategoricalDistribution): 0.005120151399640907<extra></extra>",
          "index_code (CategoricalDistribution): 0.005207411544002277<extra></extra>",
          "product_group_name (CategoricalDistribution): 0.005886392624543415<extra></extra>",
          "product_type_no (CategoricalDistribution): 0.006018313334872952<extra></extra>",
          "lfm_score_dim (CategoricalDistribution): 0.006934021397050829<extra></extra>",
          "index_group_no (CategoricalDistribution): 0.008286639592244764<extra></extra>",
          "perceived_colour_master_id (CategoricalDistribution): 0.01215914652279624<extra></extra>",
          "cooc_threshold (IntUniformDistribution): 0.014509020919606626<extra></extra>",
          "cooc_weeks (IntUniformDistribution): 0.018791835494445724<extra></extra>",
          "lfm_emb_dim (CategoricalDistribution): 0.026383462950370952<extra></extra>",
          "volume_feature_days (IntUniformDistribution): 0.03242052027566121<extra></extra>",
          "lfm_emb_type (CategoricalDistribution): 0.03339602307507181<extra></extra>",
          "lfm_score_type (CategoricalDistribution): 0.06886597579274292<extra></extra>",
          "item2item_num_items (IntUniformDistribution): 0.08988272698582392<extra></extra>",
          "popular_days (IntUniformDistribution): 0.18395687552236684<extra></extra>",
          "dynamic_feature_weeks (IntUniformDistribution): 0.19066571567669877<extra></extra>",
          "popular_num_items (IntUniformDistribution): 0.27320324902988846<extra></extra>"
         ],
         "marker": {
          "color": "rgb(66,146,198)"
         },
         "orientation": "h",
         "text": [
          "0.0012111286991937844",
          "0.0012122513461029908",
          "0.0019307179838418467",
          "0.004368999961583138",
          "0.004563856274831036",
          "0.005025563596618606",
          "0.005120151399640907",
          "0.005207411544002277",
          "0.005886392624543415",
          "0.006018313334872952",
          "0.006934021397050829",
          "0.008286639592244764",
          "0.01215914652279624",
          "0.014509020919606626",
          "0.018791835494445724",
          "0.026383462950370952",
          "0.03242052027566121",
          "0.03339602307507181",
          "0.06886597579274292",
          "0.08988272698582392",
          "0.18395687552236684",
          "0.19066571567669877",
          "0.27320324902988846"
         ],
         "textposition": "outside",
         "texttemplate": "%{text:.2f}",
         "type": "bar",
         "x": [
          0.0012111286991937844,
          0.0012122513461029908,
          0.0019307179838418467,
          0.004368999961583138,
          0.004563856274831036,
          0.005025563596618606,
          0.005120151399640907,
          0.005207411544002277,
          0.005886392624543415,
          0.006018313334872952,
          0.006934021397050829,
          0.008286639592244764,
          0.01215914652279624,
          0.014509020919606626,
          0.018791835494445724,
          0.026383462950370952,
          0.03242052027566121,
          0.03339602307507181,
          0.06886597579274292,
          0.08988272698582392,
          0.18395687552236684,
          0.19066571567669877,
          0.27320324902988846
         ],
         "y": [
          "section_no",
          "graphical_appearance_no",
          "garment_group_no",
          "colour_group_code",
          "cooc_new_pattern",
          "perceived_colour_value_id",
          "department_no",
          "index_code",
          "product_group_name",
          "product_type_no",
          "lfm_score_dim",
          "index_group_no",
          "perceived_colour_master_id",
          "cooc_threshold",
          "cooc_weeks",
          "lfm_emb_dim",
          "volume_feature_days",
          "lfm_emb_type",
          "lfm_score_type",
          "item2item_num_items",
          "popular_days",
          "dynamic_feature_weeks",
          "popular_num_items"
         ]
        }
       ],
       "layout": {
        "showlegend": false,
        "template": {
         "data": {
          "bar": [
           {
            "error_x": {
             "color": "#2a3f5f"
            },
            "error_y": {
             "color": "#2a3f5f"
            },
            "marker": {
             "line": {
              "color": "#E5ECF6",
              "width": 0.5
             },
             "pattern": {
              "fillmode": "overlay",
              "size": 10,
              "solidity": 0.2
             }
            },
            "type": "bar"
           }
          ],
          "barpolar": [
           {
            "marker": {
             "line": {
              "color": "#E5ECF6",
              "width": 0.5
             },
             "pattern": {
              "fillmode": "overlay",
              "size": 10,
              "solidity": 0.2
             }
            },
            "type": "barpolar"
           }
          ],
          "carpet": [
           {
            "aaxis": {
             "endlinecolor": "#2a3f5f",
             "gridcolor": "white",
             "linecolor": "white",
             "minorgridcolor": "white",
             "startlinecolor": "#2a3f5f"
            },
            "baxis": {
             "endlinecolor": "#2a3f5f",
             "gridcolor": "white",
             "linecolor": "white",
             "minorgridcolor": "white",
             "startlinecolor": "#2a3f5f"
            },
            "type": "carpet"
           }
          ],
          "choropleth": [
           {
            "colorbar": {
             "outlinewidth": 0,
             "ticks": ""
            },
            "type": "choropleth"
           }
          ],
          "contour": [
           {
            "colorbar": {
             "outlinewidth": 0,
             "ticks": ""
            },
            "colorscale": [
             [
              0,
              "#0d0887"
             ],
             [
              0.1111111111111111,
              "#46039f"
             ],
             [
              0.2222222222222222,
              "#7201a8"
             ],
             [
              0.3333333333333333,
              "#9c179e"
             ],
             [
              0.4444444444444444,
              "#bd3786"
             ],
             [
              0.5555555555555556,
              "#d8576b"
             ],
             [
              0.6666666666666666,
              "#ed7953"
             ],
             [
              0.7777777777777778,
              "#fb9f3a"
             ],
             [
              0.8888888888888888,
              "#fdca26"
             ],
             [
              1,
              "#f0f921"
             ]
            ],
            "type": "contour"
           }
          ],
          "contourcarpet": [
           {
            "colorbar": {
             "outlinewidth": 0,
             "ticks": ""
            },
            "type": "contourcarpet"
           }
          ],
          "heatmap": [
           {
            "colorbar": {
             "outlinewidth": 0,
             "ticks": ""
            },
            "colorscale": [
             [
              0,
              "#0d0887"
             ],
             [
              0.1111111111111111,
              "#46039f"
             ],
             [
              0.2222222222222222,
              "#7201a8"
             ],
             [
              0.3333333333333333,
              "#9c179e"
             ],
             [
              0.4444444444444444,
              "#bd3786"
             ],
             [
              0.5555555555555556,
              "#d8576b"
             ],
             [
              0.6666666666666666,
              "#ed7953"
             ],
             [
              0.7777777777777778,
              "#fb9f3a"
             ],
             [
              0.8888888888888888,
              "#fdca26"
             ],
             [
              1,
              "#f0f921"
             ]
            ],
            "type": "heatmap"
           }
          ],
          "heatmapgl": [
           {
            "colorbar": {
             "outlinewidth": 0,
             "ticks": ""
            },
            "colorscale": [
             [
              0,
              "#0d0887"
             ],
             [
              0.1111111111111111,
              "#46039f"
             ],
             [
              0.2222222222222222,
              "#7201a8"
             ],
             [
              0.3333333333333333,
              "#9c179e"
             ],
             [
              0.4444444444444444,
              "#bd3786"
             ],
             [
              0.5555555555555556,
              "#d8576b"
             ],
             [
              0.6666666666666666,
              "#ed7953"
             ],
             [
              0.7777777777777778,
              "#fb9f3a"
             ],
             [
              0.8888888888888888,
              "#fdca26"
             ],
             [
              1,
              "#f0f921"
             ]
            ],
            "type": "heatmapgl"
           }
          ],
          "histogram": [
           {
            "marker": {
             "pattern": {
              "fillmode": "overlay",
              "size": 10,
              "solidity": 0.2
             }
            },
            "type": "histogram"
           }
          ],
          "histogram2d": [
           {
            "colorbar": {
             "outlinewidth": 0,
             "ticks": ""
            },
            "colorscale": [
             [
              0,
              "#0d0887"
             ],
             [
              0.1111111111111111,
              "#46039f"
             ],
             [
              0.2222222222222222,
              "#7201a8"
             ],
             [
              0.3333333333333333,
              "#9c179e"
             ],
             [
              0.4444444444444444,
              "#bd3786"
             ],
             [
              0.5555555555555556,
              "#d8576b"
             ],
             [
              0.6666666666666666,
              "#ed7953"
             ],
             [
              0.7777777777777778,
              "#fb9f3a"
             ],
             [
              0.8888888888888888,
              "#fdca26"
             ],
             [
              1,
              "#f0f921"
             ]
            ],
            "type": "histogram2d"
           }
          ],
          "histogram2dcontour": [
           {
            "colorbar": {
             "outlinewidth": 0,
             "ticks": ""
            },
            "colorscale": [
             [
              0,
              "#0d0887"
             ],
             [
              0.1111111111111111,
              "#46039f"
             ],
             [
              0.2222222222222222,
              "#7201a8"
             ],
             [
              0.3333333333333333,
              "#9c179e"
             ],
             [
              0.4444444444444444,
              "#bd3786"
             ],
             [
              0.5555555555555556,
              "#d8576b"
             ],
             [
              0.6666666666666666,
              "#ed7953"
             ],
             [
              0.7777777777777778,
              "#fb9f3a"
             ],
             [
              0.8888888888888888,
              "#fdca26"
             ],
             [
              1,
              "#f0f921"
             ]
            ],
            "type": "histogram2dcontour"
           }
          ],
          "mesh3d": [
           {
            "colorbar": {
             "outlinewidth": 0,
             "ticks": ""
            },
            "type": "mesh3d"
           }
          ],
          "parcoords": [
           {
            "line": {
             "colorbar": {
              "outlinewidth": 0,
              "ticks": ""
             }
            },
            "type": "parcoords"
           }
          ],
          "pie": [
           {
            "automargin": true,
            "type": "pie"
           }
          ],
          "scatter": [
           {
            "fillpattern": {
             "fillmode": "overlay",
             "size": 10,
             "solidity": 0.2
            },
            "type": "scatter"
           }
          ],
          "scatter3d": [
           {
            "line": {
             "colorbar": {
              "outlinewidth": 0,
              "ticks": ""
             }
            },
            "marker": {
             "colorbar": {
              "outlinewidth": 0,
              "ticks": ""
             }
            },
            "type": "scatter3d"
           }
          ],
          "scattercarpet": [
           {
            "marker": {
             "colorbar": {
              "outlinewidth": 0,
              "ticks": ""
             }
            },
            "type": "scattercarpet"
           }
          ],
          "scattergeo": [
           {
            "marker": {
             "colorbar": {
              "outlinewidth": 0,
              "ticks": ""
             }
            },
            "type": "scattergeo"
           }
          ],
          "scattergl": [
           {
            "marker": {
             "colorbar": {
              "outlinewidth": 0,
              "ticks": ""
             }
            },
            "type": "scattergl"
           }
          ],
          "scattermapbox": [
           {
            "marker": {
             "colorbar": {
              "outlinewidth": 0,
              "ticks": ""
             }
            },
            "type": "scattermapbox"
           }
          ],
          "scatterpolar": [
           {
            "marker": {
             "colorbar": {
              "outlinewidth": 0,
              "ticks": ""
             }
            },
            "type": "scatterpolar"
           }
          ],
          "scatterpolargl": [
           {
            "marker": {
             "colorbar": {
              "outlinewidth": 0,
              "ticks": ""
             }
            },
            "type": "scatterpolargl"
           }
          ],
          "scatterternary": [
           {
            "marker": {
             "colorbar": {
              "outlinewidth": 0,
              "ticks": ""
             }
            },
            "type": "scatterternary"
           }
          ],
          "surface": [
           {
            "colorbar": {
             "outlinewidth": 0,
             "ticks": ""
            },
            "colorscale": [
             [
              0,
              "#0d0887"
             ],
             [
              0.1111111111111111,
              "#46039f"
             ],
             [
              0.2222222222222222,
              "#7201a8"
             ],
             [
              0.3333333333333333,
              "#9c179e"
             ],
             [
              0.4444444444444444,
              "#bd3786"
             ],
             [
              0.5555555555555556,
              "#d8576b"
             ],
             [
              0.6666666666666666,
              "#ed7953"
             ],
             [
              0.7777777777777778,
              "#fb9f3a"
             ],
             [
              0.8888888888888888,
              "#fdca26"
             ],
             [
              1,
              "#f0f921"
             ]
            ],
            "type": "surface"
           }
          ],
          "table": [
           {
            "cells": {
             "fill": {
              "color": "#EBF0F8"
             },
             "line": {
              "color": "white"
             }
            },
            "header": {
             "fill": {
              "color": "#C8D4E3"
             },
             "line": {
              "color": "white"
             }
            },
            "type": "table"
           }
          ]
         },
         "layout": {
          "annotationdefaults": {
           "arrowcolor": "#2a3f5f",
           "arrowhead": 0,
           "arrowwidth": 1
          },
          "autotypenumbers": "strict",
          "coloraxis": {
           "colorbar": {
            "outlinewidth": 0,
            "ticks": ""
           }
          },
          "colorscale": {
           "diverging": [
            [
             0,
             "#8e0152"
            ],
            [
             0.1,
             "#c51b7d"
            ],
            [
             0.2,
             "#de77ae"
            ],
            [
             0.3,
             "#f1b6da"
            ],
            [
             0.4,
             "#fde0ef"
            ],
            [
             0.5,
             "#f7f7f7"
            ],
            [
             0.6,
             "#e6f5d0"
            ],
            [
             0.7,
             "#b8e186"
            ],
            [
             0.8,
             "#7fbc41"
            ],
            [
             0.9,
             "#4d9221"
            ],
            [
             1,
             "#276419"
            ]
           ],
           "sequential": [
            [
             0,
             "#0d0887"
            ],
            [
             0.1111111111111111,
             "#46039f"
            ],
            [
             0.2222222222222222,
             "#7201a8"
            ],
            [
             0.3333333333333333,
             "#9c179e"
            ],
            [
             0.4444444444444444,
             "#bd3786"
            ],
            [
             0.5555555555555556,
             "#d8576b"
            ],
            [
             0.6666666666666666,
             "#ed7953"
            ],
            [
             0.7777777777777778,
             "#fb9f3a"
            ],
            [
             0.8888888888888888,
             "#fdca26"
            ],
            [
             1,
             "#f0f921"
            ]
           ],
           "sequentialminus": [
            [
             0,
             "#0d0887"
            ],
            [
             0.1111111111111111,
             "#46039f"
            ],
            [
             0.2222222222222222,
             "#7201a8"
            ],
            [
             0.3333333333333333,
             "#9c179e"
            ],
            [
             0.4444444444444444,
             "#bd3786"
            ],
            [
             0.5555555555555556,
             "#d8576b"
            ],
            [
             0.6666666666666666,
             "#ed7953"
            ],
            [
             0.7777777777777778,
             "#fb9f3a"
            ],
            [
             0.8888888888888888,
             "#fdca26"
            ],
            [
             1,
             "#f0f921"
            ]
           ]
          },
          "colorway": [
           "#636efa",
           "#EF553B",
           "#00cc96",
           "#ab63fa",
           "#FFA15A",
           "#19d3f3",
           "#FF6692",
           "#B6E880",
           "#FF97FF",
           "#FECB52"
          ],
          "font": {
           "color": "#2a3f5f"
          },
          "geo": {
           "bgcolor": "white",
           "lakecolor": "white",
           "landcolor": "#E5ECF6",
           "showlakes": true,
           "showland": true,
           "subunitcolor": "white"
          },
          "hoverlabel": {
           "align": "left"
          },
          "hovermode": "closest",
          "mapbox": {
           "style": "light"
          },
          "paper_bgcolor": "white",
          "plot_bgcolor": "#E5ECF6",
          "polar": {
           "angularaxis": {
            "gridcolor": "white",
            "linecolor": "white",
            "ticks": ""
           },
           "bgcolor": "#E5ECF6",
           "radialaxis": {
            "gridcolor": "white",
            "linecolor": "white",
            "ticks": ""
           }
          },
          "scene": {
           "xaxis": {
            "backgroundcolor": "#E5ECF6",
            "gridcolor": "white",
            "gridwidth": 2,
            "linecolor": "white",
            "showbackground": true,
            "ticks": "",
            "zerolinecolor": "white"
           },
           "yaxis": {
            "backgroundcolor": "#E5ECF6",
            "gridcolor": "white",
            "gridwidth": 2,
            "linecolor": "white",
            "showbackground": true,
            "ticks": "",
            "zerolinecolor": "white"
           },
           "zaxis": {
            "backgroundcolor": "#E5ECF6",
            "gridcolor": "white",
            "gridwidth": 2,
            "linecolor": "white",
            "showbackground": true,
            "ticks": "",
            "zerolinecolor": "white"
           }
          },
          "shapedefaults": {
           "line": {
            "color": "#2a3f5f"
           }
          },
          "ternary": {
           "aaxis": {
            "gridcolor": "white",
            "linecolor": "white",
            "ticks": ""
           },
           "baxis": {
            "gridcolor": "white",
            "linecolor": "white",
            "ticks": ""
           },
           "bgcolor": "#E5ECF6",
           "caxis": {
            "gridcolor": "white",
            "linecolor": "white",
            "ticks": ""
           }
          },
          "title": {
           "x": 0.05
          },
          "xaxis": {
           "automargin": true,
           "gridcolor": "white",
           "linecolor": "white",
           "ticks": "",
           "title": {
            "standoff": 15
           },
           "zerolinecolor": "white",
           "zerolinewidth": 2
          },
          "yaxis": {
           "automargin": true,
           "gridcolor": "white",
           "linecolor": "white",
           "ticks": "",
           "title": {
            "standoff": 15
           },
           "zerolinecolor": "white",
           "zerolinewidth": 2
          }
         }
        },
        "title": {
         "text": "Hyperparameter Importances"
        },
        "xaxis": {
         "title": {
          "text": "Importance for Objective Value"
         }
        },
        "yaxis": {
         "title": {
          "text": "Hyperparameter"
         }
        }
       }
      }
     },
     "metadata": {},
     "output_type": "display_data"
    }
   ],
   "source": [
    "optuna.visualization.plot_param_importances(study, params=a)"
   ]
  },
  {
   "cell_type": "code",
   "execution_count": 27,
   "metadata": {},
   "outputs": [
    {
     "data": {
      "application/vnd.plotly.v1+json": {
       "config": {
        "plotlyServerURL": "https://plot.ly"
       },
       "data": [
        {
         "type": "scatter",
         "xaxis": "x",
         "yaxis": "y"
        },
        {
         "colorbar": {
          "title": {
           "text": "Objective Value"
          }
         },
         "colorscale": [
          [
           0,
           "rgb(5,10,172)"
          ],
          [
           0.35,
           "rgb(40,60,190)"
          ],
          [
           0.5,
           "rgb(70,100,245)"
          ],
          [
           0.6,
           "rgb(90,120,245)"
          ],
          [
           0.7,
           "rgb(106,137,247)"
          ],
          [
           1,
           "rgb(220,220,220)"
          ]
         ],
         "connectgaps": true,
         "contours": {
          "coloring": "heatmap"
         },
         "hoverinfo": "none",
         "line": {
          "smoothing": 1.3
         },
         "reversescale": false,
         "showscale": true,
         "type": "contour",
         "x": [
          9.8,
          10,
          11,
          12,
          13,
          14,
          14.2
         ],
         "xaxis": "x5",
         "y": [
          4.8,
          5,
          6,
          7,
          8,
          9,
          9.2
         ],
         "yaxis": "y5",
         "z": [
          [
           null,
           null,
           null,
           null,
           null,
           null,
           null
          ],
          [
           null,
           0.030788780015630523,
           0.03068893775858172,
           0.03005413270795041,
           0.03060534589171416,
           0.02987889980571182,
           null
          ],
          [
           null,
           0.02976266702602789,
           0.029165672985837925,
           0.02997266552489069,
           0.02932320991839259,
           0.02956698013413915,
           null
          ],
          [
           null,
           null,
           0.03043274465856733,
           0.03002134685748054,
           0.02949804456510584,
           null,
           null
          ],
          [
           null,
           0.0297300272048956,
           0.02863197447129344,
           0.029832109246091445,
           null,
           0.029540663556938636,
           null
          ],
          [
           null,
           0.029428444245660705,
           0.029128539675948115,
           0.0300554787725074,
           0.028985187403317226,
           null,
           null
          ],
          [
           null,
           null,
           null,
           null,
           null,
           null,
           null
          ]
         ]
        },
        {
         "marker": {
          "color": "black",
          "line": {
           "color": "Grey",
           "width": 0.5
          }
         },
         "mode": "markers",
         "showlegend": false,
         "type": "scatter",
         "x": [
          12,
          14,
          13,
          10,
          10,
          13,
          11,
          11,
          10,
          13,
          14,
          14,
          13,
          14,
          13,
          12,
          12,
          11,
          12,
          12,
          11,
          12,
          12,
          12,
          11,
          11,
          11,
          11,
          12,
          12,
          10,
          12,
          12,
          12,
          13,
          11,
          13,
          12,
          10,
          11,
          11,
          11,
          10,
          11,
          12,
          13,
          12,
          11,
          10,
          13,
          14,
          13,
          12,
          12,
          13,
          11,
          13,
          12,
          14,
          11,
          12,
          12,
          12,
          12,
          12,
          12,
          12,
          12,
          12,
          12,
          12,
          12,
          12,
          12,
          12,
          12,
          12,
          12,
          12,
          12,
          12,
          12,
          12,
          12,
          12,
          12,
          12,
          11,
          12,
          13,
          12,
          12,
          12,
          12,
          12,
          12,
          13,
          12,
          11,
          12,
          12,
          12,
          12,
          12,
          12,
          12,
          12,
          12,
          12,
          11,
          12,
          12,
          12,
          12,
          12,
          12,
          12,
          12,
          10,
          13,
          12,
          12,
          12,
          12,
          12,
          12,
          12,
          12,
          12,
          12,
          12,
          12,
          12,
          12,
          12,
          12,
          12,
          12,
          12
         ],
         "xaxis": "x5",
         "y": [
          7,
          8,
          7,
          9,
          8,
          6,
          7,
          8,
          5,
          9,
          5,
          5,
          6,
          6,
          6,
          5,
          5,
          5,
          5,
          6,
          5,
          5,
          5,
          6,
          5,
          6,
          5,
          6,
          5,
          7,
          6,
          5,
          5,
          5,
          5,
          7,
          5,
          8,
          6,
          5,
          6,
          5,
          5,
          9,
          5,
          5,
          5,
          6,
          8,
          5,
          5,
          5,
          5,
          5,
          5,
          6,
          5,
          5,
          6,
          5,
          5,
          5,
          5,
          5,
          5,
          5,
          5,
          5,
          6,
          5,
          6,
          5,
          5,
          5,
          5,
          5,
          5,
          5,
          5,
          5,
          8,
          5,
          5,
          5,
          5,
          5,
          5,
          5,
          6,
          5,
          5,
          5,
          5,
          5,
          5,
          5,
          5,
          5,
          7,
          5,
          5,
          5,
          5,
          5,
          5,
          9,
          5,
          5,
          5,
          5,
          5,
          5,
          5,
          5,
          5,
          5,
          5,
          5,
          5,
          5,
          6,
          5,
          5,
          5,
          5,
          5,
          5,
          5,
          5,
          5,
          5,
          5,
          5,
          5,
          5,
          5,
          5,
          5,
          5
         ],
         "yaxis": "y5"
        },
        {
         "colorbar": {
          "title": {
           "text": "Objective Value"
          }
         },
         "colorscale": [
          [
           0,
           "rgb(5,10,172)"
          ],
          [
           0.35,
           "rgb(40,60,190)"
          ],
          [
           0.5,
           "rgb(70,100,245)"
          ],
          [
           0.6,
           "rgb(90,120,245)"
          ],
          [
           0.7,
           "rgb(106,137,247)"
          ],
          [
           1,
           "rgb(220,220,220)"
          ]
         ],
         "connectgaps": true,
         "contours": {
          "coloring": "heatmap"
         },
         "hoverinfo": "none",
         "line": {
          "smoothing": 1.3
         },
         "reversescale": false,
         "showscale": false,
         "type": "contour",
         "x": [
          9.8,
          10,
          11,
          12,
          13,
          14,
          14.2
         ],
         "xaxis": "x9",
         "y": [
          10.2,
          12,
          13,
          16,
          17,
          20,
          22,
          24,
          25,
          26,
          27,
          28,
          29,
          30,
          31,
          32,
          33,
          34,
          35,
          36,
          37,
          38,
          39,
          40,
          41,
          42,
          43,
          44,
          45,
          46,
          47,
          48,
          49.8
         ],
         "yaxis": "y9",
         "z": [
          [
           null,
           null,
           null,
           null,
           null,
           null,
           null
          ],
          [
           null,
           null,
           null,
           null,
           0.02976477331469794,
           0.03042014959357277,
           null
          ],
          [
           null,
           null,
           null,
           null,
           null,
           0.02931424661062419,
           null
          ],
          [
           null,
           null,
           null,
           0.029900374491084063,
           null,
           null,
           null
          ],
          [
           null,
           0.029355384175225648,
           null,
           null,
           null,
           null,
           null
          ],
          [
           null,
           null,
           null,
           null,
           0.02932320991839259,
           0.029688670594330346,
           null
          ],
          [
           null,
           0.0297300272048956,
           null,
           null,
           null,
           null,
           null
          ],
          [
           null,
           0.02953646099304096,
           0.030050969980971308,
           null,
           null,
           null,
           null
          ],
          [
           null,
           null,
           null,
           0.029527772861992957,
           null,
           null,
           null
          ],
          [
           null,
           null,
           null,
           0.030000855474294978,
           null,
           null,
           null
          ],
          [
           null,
           null,
           0.0300822874572542,
           0.030849553943804512,
           null,
           null,
           null
          ],
          [
           null,
           0.02993174896349197,
           0.029043821128096642,
           null,
           null,
           null,
           null
          ],
          [
           null,
           null,
           0.03002281791725511,
           0.02970563522534751,
           0.030604167485299233,
           null,
           null
          ],
          [
           null,
           null,
           null,
           0.03027769454618754,
           0.030210445166923353,
           null,
           null
          ],
          [
           null,
           null,
           null,
           0.030606150469594365,
           null,
           0.02987889980571182,
           null
          ],
          [
           null,
           0.03048135581540762,
           0.029165672985837925,
           0.030205774344563473,
           null,
           null,
           null
          ],
          [
           null,
           null,
           null,
           0.029496209631329786,
           0.03080938205785038,
           null,
           null
          ],
          [
           null,
           0.02976266702602789,
           0.029858542780202512,
           0.03005413270795041,
           0.029927462539390878,
           null,
           null
          ],
          [
           null,
           null,
           0.029991497419080308,
           0.030960425052271288,
           0.030267723328599446,
           null,
           null
          ],
          [
           null,
           0.030788780015630523,
           0.029749216515260836,
           0.03015999382891569,
           null,
           0.02956698013413915,
           null
          ],
          [
           null,
           null,
           0.029376438782016907,
           0.029907638477741947,
           0.03060534589171416,
           null,
           null
          ],
          [
           null,
           null,
           0.03043274465856733,
           0.03022969392355089,
           0.03010586237558172,
           null,
           null
          ],
          [
           null,
           null,
           0.03068893775858172,
           0.03042530851467182,
           null,
           null,
           null
          ],
          [
           null,
           null,
           null,
           0.030407058970370656,
           0.02999423116902278,
           null,
           null
          ],
          [
           null,
           null,
           0.0303439168123572,
           0.029191889072549222,
           null,
           0.029540663556938636,
           null
          ],
          [
           null,
           0.029428444245660705,
           null,
           0.030457475489882563,
           null,
           null,
           null
          ],
          [
           null,
           null,
           null,
           null,
           0.029141602939377172,
           null,
           null
          ],
          [
           null,
           null,
           0.029398971686023168,
           null,
           0.02949804456510584,
           null,
           null
          ],
          [
           null,
           null,
           null,
           0.029908827583630282,
           null,
           null,
           null
          ],
          [
           null,
           null,
           0.03011309842866128,
           null,
           null,
           null,
           null
          ],
          [
           null,
           null,
           0.027825975657624142,
           null,
           null,
           null,
           null
          ],
          [
           null,
           null,
           null,
           0.030398083691920905,
           null,
           null,
           null
          ],
          [
           null,
           null,
           null,
           null,
           null,
           null,
           null
          ]
         ]
        },
        {
         "marker": {
          "color": "black",
          "line": {
           "color": "Grey",
           "width": 0.5
          }
         },
         "mode": "markers",
         "showlegend": false,
         "type": "scatter",
         "x": [
          12,
          14,
          13,
          10,
          10,
          13,
          11,
          11,
          10,
          13,
          14,
          14,
          13,
          14,
          13,
          12,
          12,
          11,
          12,
          12,
          11,
          12,
          12,
          12,
          11,
          11,
          11,
          11,
          12,
          12,
          10,
          12,
          12,
          12,
          13,
          11,
          13,
          12,
          10,
          11,
          11,
          11,
          10,
          11,
          12,
          13,
          12,
          11,
          10,
          13,
          14,
          13,
          12,
          12,
          13,
          11,
          13,
          12,
          14,
          11,
          12,
          12,
          12,
          12,
          12,
          12,
          12,
          12,
          12,
          12,
          12,
          12,
          12,
          12,
          12,
          12,
          12,
          12,
          12,
          12,
          12,
          12,
          12,
          12,
          12,
          12,
          12,
          11,
          12,
          13,
          12,
          12,
          12,
          12,
          12,
          12,
          13,
          12,
          11,
          12,
          12,
          12,
          12,
          12,
          12,
          12,
          12,
          12,
          12,
          11,
          12,
          12,
          12,
          12,
          12,
          12,
          12,
          12,
          10,
          13,
          12,
          12,
          12,
          12,
          12,
          12,
          12,
          12,
          12,
          12,
          12,
          12,
          12,
          12,
          12,
          12,
          12,
          12,
          12
         ],
         "xaxis": "x9",
         "y": [
          29,
          41,
          44,
          42,
          24,
          12,
          47,
          27,
          17,
          37,
          12,
          13,
          20,
          20,
          20,
          33,
          32,
          34,
          37,
          37,
          37,
          26,
          33,
          30,
          39,
          41,
          36,
          46,
          40,
          31,
          28,
          39,
          40,
          34,
          35,
          44,
          43,
          38,
          34,
          29,
          24,
          29,
          32,
          35,
          25,
          30,
          42,
          28,
          22,
          33,
          31,
          34,
          38,
          37,
          38,
          32,
          40,
          45,
          36,
          27,
          38,
          38,
          42,
          48,
          39,
          36,
          36,
          36,
          36,
          33,
          35,
          38,
          36,
          36,
          36,
          36,
          41,
          39,
          37,
          34,
          41,
          35,
          16,
          31,
          36,
          37,
          39,
          35,
          40,
          29,
          32,
          34,
          38,
          33,
          36,
          34,
          35,
          37,
          38,
          31,
          30,
          34,
          37,
          34,
          36,
          35,
          33,
          32,
          40,
          39,
          37,
          34,
          36,
          35,
          36,
          38,
          36,
          38,
          36,
          37,
          39,
          35,
          33,
          36,
          37,
          36,
          36,
          38,
          27,
          41,
          36,
          37,
          35,
          40,
          36,
          37,
          35,
          39,
          34
         ],
         "yaxis": "y9"
        },
        {
         "colorbar": {
          "title": {
           "text": "Objective Value"
          }
         },
         "colorscale": [
          [
           0,
           "rgb(5,10,172)"
          ],
          [
           0.35,
           "rgb(40,60,190)"
          ],
          [
           0.5,
           "rgb(70,100,245)"
          ],
          [
           0.6,
           "rgb(90,120,245)"
          ],
          [
           0.7,
           "rgb(106,137,247)"
          ],
          [
           1,
           "rgb(220,220,220)"
          ]
         ],
         "connectgaps": true,
         "contours": {
          "coloring": "heatmap"
         },
         "hoverinfo": "none",
         "line": {
          "smoothing": 1.3
         },
         "reversescale": false,
         "showscale": false,
         "type": "contour",
         "x": [
          9.8,
          10,
          11,
          12,
          13,
          14,
          14.2
         ],
         "xaxis": "x13",
         "y": [
          4.8,
          5,
          6,
          7,
          8,
          9,
          9.2
         ],
         "yaxis": "y13",
         "z": [
          [
           null,
           null,
           null,
           null,
           null,
           null,
           null
          ],
          [
           null,
           null,
           null,
           0.03001002658960933,
           0.02999423116902278,
           0.02956698013413915,
           null
          ],
          [
           null,
           0.0297300272048956,
           0.029165672985837925,
           0.029908827583630282,
           0.02949804456510584,
           null,
           null
          ],
          [
           null,
           0.03048135581540762,
           0.03002281791725511,
           0.03005413270795041,
           0.030210445166923353,
           null,
           null
          ],
          [
           null,
           0.029355384175225648,
           0.029043821128096642,
           0.030330388546503204,
           0.02976477331469794,
           null,
           null
          ],
          [
           null,
           0.030788780015630523,
           0.03068893775858172,
           0.03042530851467182,
           0.03060534589171416,
           0.029688670594330346,
           null
          ],
          [
           null,
           null,
           null,
           null,
           null,
           null,
           null
          ]
         ]
        },
        {
         "marker": {
          "color": "black",
          "line": {
           "color": "Grey",
           "width": 0.5
          }
         },
         "mode": "markers",
         "showlegend": false,
         "type": "scatter",
         "x": [
          12,
          14,
          13,
          10,
          10,
          13,
          11,
          11,
          10,
          13,
          14,
          14,
          13,
          14,
          13,
          12,
          12,
          11,
          12,
          12,
          11,
          12,
          12,
          12,
          11,
          11,
          11,
          11,
          12,
          12,
          10,
          12,
          12,
          12,
          13,
          11,
          13,
          12,
          10,
          11,
          11,
          11,
          10,
          11,
          12,
          13,
          12,
          11,
          10,
          13,
          14,
          13,
          12,
          12,
          13,
          11,
          13,
          12,
          14,
          11,
          12,
          12,
          12,
          12,
          12,
          12,
          12,
          12,
          12,
          12,
          12,
          12,
          12,
          12,
          12,
          12,
          12,
          12,
          12,
          12,
          12,
          12,
          12,
          12,
          12,
          12,
          12,
          11,
          12,
          13,
          12,
          12,
          12,
          12,
          12,
          12,
          13,
          12,
          11,
          12,
          12,
          12,
          12,
          12,
          12,
          12,
          12,
          12,
          12,
          11,
          12,
          12,
          12,
          12,
          12,
          12,
          12,
          12,
          10,
          13,
          12,
          12,
          12,
          12,
          12,
          12,
          12,
          12,
          12,
          12,
          12,
          12,
          12,
          12,
          12,
          12,
          12,
          12,
          12
         ],
         "xaxis": "x13",
         "y": [
          8,
          5,
          6,
          6,
          7,
          8,
          6,
          6,
          8,
          7,
          9,
          9,
          9,
          9,
          9,
          9,
          8,
          9,
          8,
          8,
          7,
          9,
          8,
          9,
          8,
          8,
          7,
          8,
          8,
          8,
          7,
          8,
          8,
          8,
          5,
          7,
          9,
          8,
          7,
          7,
          6,
          7,
          7,
          6,
          8,
          7,
          9,
          8,
          6,
          5,
          5,
          5,
          5,
          5,
          5,
          6,
          5,
          6,
          5,
          9,
          9,
          9,
          9,
          9,
          9,
          9,
          9,
          9,
          9,
          9,
          9,
          9,
          9,
          9,
          9,
          9,
          9,
          9,
          9,
          9,
          9,
          9,
          9,
          9,
          9,
          9,
          9,
          9,
          9,
          9,
          9,
          9,
          9,
          9,
          9,
          9,
          9,
          7,
          9,
          9,
          8,
          9,
          9,
          9,
          9,
          9,
          9,
          7,
          9,
          9,
          9,
          9,
          9,
          9,
          9,
          9,
          9,
          7,
          9,
          9,
          9,
          9,
          9,
          9,
          9,
          9,
          9,
          9,
          9,
          9,
          8,
          9,
          9,
          9,
          9,
          9,
          9,
          9,
          7
         ],
         "yaxis": "y13"
        },
        {
         "colorbar": {
          "title": {
           "text": "Objective Value"
          }
         },
         "colorscale": [
          [
           0,
           "rgb(5,10,172)"
          ],
          [
           0.35,
           "rgb(40,60,190)"
          ],
          [
           0.5,
           "rgb(70,100,245)"
          ],
          [
           0.6,
           "rgb(90,120,245)"
          ],
          [
           0.7,
           "rgb(106,137,247)"
          ],
          [
           1,
           "rgb(220,220,220)"
          ]
         ],
         "connectgaps": true,
         "contours": {
          "coloring": "heatmap"
         },
         "hoverinfo": "none",
         "line": {
          "smoothing": 1.3
         },
         "reversescale": false,
         "showscale": false,
         "type": "contour",
         "x": [
          4.8,
          5,
          6,
          7,
          8,
          9,
          9.2
         ],
         "xaxis": "x2",
         "y": [
          9.8,
          10,
          11,
          12,
          13,
          14,
          14.2
         ],
         "yaxis": "y2",
         "z": [
          [
           null,
           null,
           null,
           null,
           null,
           null,
           null
          ],
          [
           null,
           0.030788780015630523,
           0.02976266702602789,
           null,
           0.0297300272048956,
           0.029428444245660705,
           null
          ],
          [
           null,
           0.03068893775858172,
           0.029165672985837925,
           0.03043274465856733,
           0.02863197447129344,
           0.029128539675948115,
           null
          ],
          [
           null,
           0.03005413270795041,
           0.02997266552489069,
           0.03002134685748054,
           0.029832109246091445,
           0.0300554787725074,
           null
          ],
          [
           null,
           0.03060534589171416,
           0.02932320991839259,
           0.02949804456510584,
           null,
           0.028985187403317226,
           null
          ],
          [
           null,
           0.02987889980571182,
           0.02956698013413915,
           null,
           0.029540663556938636,
           null,
           null
          ],
          [
           null,
           null,
           null,
           null,
           null,
           null,
           null
          ]
         ]
        },
        {
         "marker": {
          "color": "black",
          "line": {
           "color": "Grey",
           "width": 0.5
          }
         },
         "mode": "markers",
         "showlegend": false,
         "type": "scatter",
         "x": [
          7,
          8,
          7,
          9,
          8,
          6,
          7,
          8,
          5,
          9,
          5,
          5,
          6,
          6,
          6,
          5,
          5,
          5,
          5,
          6,
          5,
          5,
          5,
          6,
          5,
          6,
          5,
          6,
          5,
          7,
          6,
          5,
          5,
          5,
          5,
          7,
          5,
          8,
          6,
          5,
          6,
          5,
          5,
          9,
          5,
          5,
          5,
          6,
          8,
          5,
          5,
          5,
          5,
          5,
          5,
          6,
          5,
          5,
          6,
          5,
          5,
          5,
          5,
          5,
          5,
          5,
          5,
          5,
          6,
          5,
          6,
          5,
          5,
          5,
          5,
          5,
          5,
          5,
          5,
          5,
          8,
          5,
          5,
          5,
          5,
          5,
          5,
          5,
          6,
          5,
          5,
          5,
          5,
          5,
          5,
          5,
          5,
          5,
          7,
          5,
          5,
          5,
          5,
          5,
          5,
          9,
          5,
          5,
          5,
          5,
          5,
          5,
          5,
          5,
          5,
          5,
          5,
          5,
          5,
          5,
          6,
          5,
          5,
          5,
          5,
          5,
          5,
          5,
          5,
          5,
          5,
          5,
          5,
          5,
          5,
          5,
          5,
          5,
          5
         ],
         "xaxis": "x2",
         "y": [
          12,
          14,
          13,
          10,
          10,
          13,
          11,
          11,
          10,
          13,
          14,
          14,
          13,
          14,
          13,
          12,
          12,
          11,
          12,
          12,
          11,
          12,
          12,
          12,
          11,
          11,
          11,
          11,
          12,
          12,
          10,
          12,
          12,
          12,
          13,
          11,
          13,
          12,
          10,
          11,
          11,
          11,
          10,
          11,
          12,
          13,
          12,
          11,
          10,
          13,
          14,
          13,
          12,
          12,
          13,
          11,
          13,
          12,
          14,
          11,
          12,
          12,
          12,
          12,
          12,
          12,
          12,
          12,
          12,
          12,
          12,
          12,
          12,
          12,
          12,
          12,
          12,
          12,
          12,
          12,
          12,
          12,
          12,
          12,
          12,
          12,
          12,
          11,
          12,
          13,
          12,
          12,
          12,
          12,
          12,
          12,
          13,
          12,
          11,
          12,
          12,
          12,
          12,
          12,
          12,
          12,
          12,
          12,
          12,
          11,
          12,
          12,
          12,
          12,
          12,
          12,
          12,
          12,
          10,
          13,
          12,
          12,
          12,
          12,
          12,
          12,
          12,
          12,
          12,
          12,
          12,
          12,
          12,
          12,
          12,
          12,
          12,
          12,
          12
         ],
         "yaxis": "y2"
        },
        {
         "type": "scatter",
         "xaxis": "x6",
         "yaxis": "y6"
        },
        {
         "colorbar": {
          "title": {
           "text": "Objective Value"
          }
         },
         "colorscale": [
          [
           0,
           "rgb(5,10,172)"
          ],
          [
           0.35,
           "rgb(40,60,190)"
          ],
          [
           0.5,
           "rgb(70,100,245)"
          ],
          [
           0.6,
           "rgb(90,120,245)"
          ],
          [
           0.7,
           "rgb(106,137,247)"
          ],
          [
           1,
           "rgb(220,220,220)"
          ]
         ],
         "connectgaps": true,
         "contours": {
          "coloring": "heatmap"
         },
         "hoverinfo": "none",
         "line": {
          "smoothing": 1.3
         },
         "reversescale": false,
         "showscale": false,
         "type": "contour",
         "x": [
          4.8,
          5,
          6,
          7,
          8,
          9,
          9.2
         ],
         "xaxis": "x10",
         "y": [
          10.2,
          12,
          13,
          16,
          17,
          20,
          22,
          24,
          25,
          26,
          27,
          28,
          29,
          30,
          31,
          32,
          33,
          34,
          35,
          36,
          37,
          38,
          39,
          40,
          41,
          42,
          43,
          44,
          45,
          46,
          47,
          48,
          49.8
         ],
         "yaxis": "y10",
         "z": [
          [
           null,
           null,
           null,
           null,
           null,
           null,
           null
          ],
          [
           null,
           0.03042014959357277,
           0.02976477331469794,
           null,
           null,
           null,
           null
          ],
          [
           null,
           0.02931424661062419,
           null,
           null,
           null,
           null,
           null
          ],
          [
           null,
           0.029900374491084063,
           null,
           null,
           null,
           null,
           null
          ],
          [
           null,
           0.029355384175225648,
           null,
           null,
           null,
           null,
           null
          ],
          [
           null,
           null,
           0.02932320991839259,
           null,
           null,
           null,
           null
          ],
          [
           null,
           null,
           null,
           null,
           0.0297300272048956,
           null,
           null
          ],
          [
           null,
           null,
           0.030050969980971308,
           null,
           0.02953646099304096,
           null,
           null
          ],
          [
           null,
           0.029527772861992957,
           null,
           null,
           null,
           null,
           null
          ],
          [
           null,
           0.030000855474294978,
           null,
           null,
           null,
           null,
           null
          ],
          [
           null,
           0.030849553943804512,
           null,
           null,
           0.02863197447129344,
           null,
           null
          ],
          [
           null,
           null,
           0.029043821128096642,
           null,
           null,
           null,
           null
          ],
          [
           null,
           0.030604167485299233,
           null,
           0.02970563522534751,
           null,
           null,
           null
          ],
          [
           null,
           0.03027769454618754,
           0.02969271562985538,
           null,
           null,
           null,
           null
          ],
          [
           null,
           0.030606150469594365,
           null,
           0.03002134685748054,
           null,
           null,
           null
          ],
          [
           null,
           0.030205774344563473,
           0.029165672985837925,
           null,
           null,
           null,
           null
          ],
          [
           null,
           0.029496209631329786,
           null,
           null,
           null,
           null,
           null
          ],
          [
           null,
           0.03005413270795041,
           0.02976266702602789,
           null,
           null,
           null,
           null
          ],
          [
           null,
           0.030960425052271288,
           0.029717932861796678,
           null,
           null,
           0.0300554787725074,
           null
          ],
          [
           null,
           0.03015999382891569,
           0.0294869216426217,
           null,
           null,
           null,
           null
          ],
          [
           null,
           0.029907638477741947,
           0.029528837472459647,
           null,
           null,
           0.028985187403317226,
           null
          ],
          [
           null,
           0.03022969392355089,
           null,
           0.03043274465856733,
           0.029071861769941938,
           null,
           null
          ],
          [
           null,
           0.03042530851467182,
           0.02997266552489069,
           null,
           null,
           null,
           null
          ],
          [
           null,
           0.030407058970370656,
           0.03018133812235544,
           null,
           null,
           null,
           null
          ],
          [
           null,
           0.029191889072549222,
           0.0303439168123572,
           null,
           0.029832109246091445,
           null,
           null
          ],
          [
           null,
           0.030457475489882563,
           null,
           null,
           null,
           0.029428444245660705,
           null
          ],
          [
           null,
           0.029141602939377172,
           null,
           null,
           null,
           null,
           null
          ],
          [
           null,
           null,
           null,
           0.029398971686023168,
           null,
           null,
           null
          ],
          [
           null,
           0.029908827583630282,
           null,
           null,
           null,
           null,
           null
          ],
          [
           null,
           null,
           0.03011309842866128,
           null,
           null,
           null,
           null
          ],
          [
           null,
           null,
           null,
           0.027825975657624142,
           null,
           null,
           null
          ],
          [
           null,
           0.030398083691920905,
           null,
           null,
           null,
           null,
           null
          ],
          [
           null,
           null,
           null,
           null,
           null,
           null,
           null
          ]
         ]
        },
        {
         "marker": {
          "color": "black",
          "line": {
           "color": "Grey",
           "width": 0.5
          }
         },
         "mode": "markers",
         "showlegend": false,
         "type": "scatter",
         "x": [
          7,
          8,
          7,
          9,
          8,
          6,
          7,
          8,
          5,
          9,
          5,
          5,
          6,
          6,
          6,
          5,
          5,
          5,
          5,
          6,
          5,
          5,
          5,
          6,
          5,
          6,
          5,
          6,
          5,
          7,
          6,
          5,
          5,
          5,
          5,
          7,
          5,
          8,
          6,
          5,
          6,
          5,
          5,
          9,
          5,
          5,
          5,
          6,
          8,
          5,
          5,
          5,
          5,
          5,
          5,
          6,
          5,
          5,
          6,
          5,
          5,
          5,
          5,
          5,
          5,
          5,
          5,
          5,
          6,
          5,
          6,
          5,
          5,
          5,
          5,
          5,
          5,
          5,
          5,
          5,
          8,
          5,
          5,
          5,
          5,
          5,
          5,
          5,
          6,
          5,
          5,
          5,
          5,
          5,
          5,
          5,
          5,
          5,
          7,
          5,
          5,
          5,
          5,
          5,
          5,
          9,
          5,
          5,
          5,
          5,
          5,
          5,
          5,
          5,
          5,
          5,
          5,
          5,
          5,
          5,
          6,
          5,
          5,
          5,
          5,
          5,
          5,
          5,
          5,
          5,
          5,
          5,
          5,
          5,
          5,
          5,
          5,
          5,
          5
         ],
         "xaxis": "x10",
         "y": [
          29,
          41,
          44,
          42,
          24,
          12,
          47,
          27,
          17,
          37,
          12,
          13,
          20,
          20,
          20,
          33,
          32,
          34,
          37,
          37,
          37,
          26,
          33,
          30,
          39,
          41,
          36,
          46,
          40,
          31,
          28,
          39,
          40,
          34,
          35,
          44,
          43,
          38,
          34,
          29,
          24,
          29,
          32,
          35,
          25,
          30,
          42,
          28,
          22,
          33,
          31,
          34,
          38,
          37,
          38,
          32,
          40,
          45,
          36,
          27,
          38,
          38,
          42,
          48,
          39,
          36,
          36,
          36,
          36,
          33,
          35,
          38,
          36,
          36,
          36,
          36,
          41,
          39,
          37,
          34,
          41,
          35,
          16,
          31,
          36,
          37,
          39,
          35,
          40,
          29,
          32,
          34,
          38,
          33,
          36,
          34,
          35,
          37,
          38,
          31,
          30,
          34,
          37,
          34,
          36,
          35,
          33,
          32,
          40,
          39,
          37,
          34,
          36,
          35,
          36,
          38,
          36,
          38,
          36,
          37,
          39,
          35,
          33,
          36,
          37,
          36,
          36,
          38,
          27,
          41,
          36,
          37,
          35,
          40,
          36,
          37,
          35,
          39,
          34
         ],
         "yaxis": "y10"
        },
        {
         "colorbar": {
          "title": {
           "text": "Objective Value"
          }
         },
         "colorscale": [
          [
           0,
           "rgb(5,10,172)"
          ],
          [
           0.35,
           "rgb(40,60,190)"
          ],
          [
           0.5,
           "rgb(70,100,245)"
          ],
          [
           0.6,
           "rgb(90,120,245)"
          ],
          [
           0.7,
           "rgb(106,137,247)"
          ],
          [
           1,
           "rgb(220,220,220)"
          ]
         ],
         "connectgaps": true,
         "contours": {
          "coloring": "heatmap"
         },
         "hoverinfo": "none",
         "line": {
          "smoothing": 1.3
         },
         "reversescale": false,
         "showscale": false,
         "type": "contour",
         "x": [
          4.8,
          5,
          6,
          7,
          8,
          9,
          9.2
         ],
         "xaxis": "x14",
         "y": [
          4.8,
          5,
          6,
          7,
          8,
          9,
          9.2
         ],
         "yaxis": "y14",
         "z": [
          [
           null,
           null,
           null,
           null,
           null,
           null,
           null
          ],
          [
           null,
           0.02999423116902278,
           0.02956698013413915,
           null,
           0.029540663556938636,
           null,
           null
          ],
          [
           null,
           0.029908827583630282,
           0.029165672985837925,
           0.027825975657624142,
           0.0297300272048956,
           0.029128539675948115,
           null
          ],
          [
           null,
           0.03005413270795041,
           0.02976266702602789,
           0.029398971686023168,
           0.02953646099304096,
           0.028985187403317226,
           null
          ],
          [
           null,
           0.030330388546503204,
           0.029043821128096642,
           0.03002134685748054,
           0.029071861769941938,
           null,
           null
          ],
          [
           null,
           0.03042530851467182,
           0.02997266552489069,
           0.03043274465856733,
           0.029832109246091445,
           0.0300554787725074,
           null
          ],
          [
           null,
           null,
           null,
           null,
           null,
           null,
           null
          ]
         ]
        },
        {
         "marker": {
          "color": "black",
          "line": {
           "color": "Grey",
           "width": 0.5
          }
         },
         "mode": "markers",
         "showlegend": false,
         "type": "scatter",
         "x": [
          7,
          8,
          7,
          9,
          8,
          6,
          7,
          8,
          5,
          9,
          5,
          5,
          6,
          6,
          6,
          5,
          5,
          5,
          5,
          6,
          5,
          5,
          5,
          6,
          5,
          6,
          5,
          6,
          5,
          7,
          6,
          5,
          5,
          5,
          5,
          7,
          5,
          8,
          6,
          5,
          6,
          5,
          5,
          9,
          5,
          5,
          5,
          6,
          8,
          5,
          5,
          5,
          5,
          5,
          5,
          6,
          5,
          5,
          6,
          5,
          5,
          5,
          5,
          5,
          5,
          5,
          5,
          5,
          6,
          5,
          6,
          5,
          5,
          5,
          5,
          5,
          5,
          5,
          5,
          5,
          8,
          5,
          5,
          5,
          5,
          5,
          5,
          5,
          6,
          5,
          5,
          5,
          5,
          5,
          5,
          5,
          5,
          5,
          7,
          5,
          5,
          5,
          5,
          5,
          5,
          9,
          5,
          5,
          5,
          5,
          5,
          5,
          5,
          5,
          5,
          5,
          5,
          5,
          5,
          5,
          6,
          5,
          5,
          5,
          5,
          5,
          5,
          5,
          5,
          5,
          5,
          5,
          5,
          5,
          5,
          5,
          5,
          5,
          5
         ],
         "xaxis": "x14",
         "y": [
          8,
          5,
          6,
          6,
          7,
          8,
          6,
          6,
          8,
          7,
          9,
          9,
          9,
          9,
          9,
          9,
          8,
          9,
          8,
          8,
          7,
          9,
          8,
          9,
          8,
          8,
          7,
          8,
          8,
          8,
          7,
          8,
          8,
          8,
          5,
          7,
          9,
          8,
          7,
          7,
          6,
          7,
          7,
          6,
          8,
          7,
          9,
          8,
          6,
          5,
          5,
          5,
          5,
          5,
          5,
          6,
          5,
          6,
          5,
          9,
          9,
          9,
          9,
          9,
          9,
          9,
          9,
          9,
          9,
          9,
          9,
          9,
          9,
          9,
          9,
          9,
          9,
          9,
          9,
          9,
          9,
          9,
          9,
          9,
          9,
          9,
          9,
          9,
          9,
          9,
          9,
          9,
          9,
          9,
          9,
          9,
          9,
          7,
          9,
          9,
          8,
          9,
          9,
          9,
          9,
          9,
          9,
          7,
          9,
          9,
          9,
          9,
          9,
          9,
          9,
          9,
          9,
          7,
          9,
          9,
          9,
          9,
          9,
          9,
          9,
          9,
          9,
          9,
          9,
          9,
          8,
          9,
          9,
          9,
          9,
          9,
          9,
          9,
          7
         ],
         "yaxis": "y14"
        },
        {
         "colorbar": {
          "title": {
           "text": "Objective Value"
          }
         },
         "colorscale": [
          [
           0,
           "rgb(5,10,172)"
          ],
          [
           0.35,
           "rgb(40,60,190)"
          ],
          [
           0.5,
           "rgb(70,100,245)"
          ],
          [
           0.6,
           "rgb(90,120,245)"
          ],
          [
           0.7,
           "rgb(106,137,247)"
          ],
          [
           1,
           "rgb(220,220,220)"
          ]
         ],
         "connectgaps": true,
         "contours": {
          "coloring": "heatmap"
         },
         "hoverinfo": "none",
         "line": {
          "smoothing": 1.3
         },
         "reversescale": false,
         "showscale": false,
         "type": "contour",
         "x": [
          10.2,
          12,
          13,
          16,
          17,
          20,
          22,
          24,
          25,
          26,
          27,
          28,
          29,
          30,
          31,
          32,
          33,
          34,
          35,
          36,
          37,
          38,
          39,
          40,
          41,
          42,
          43,
          44,
          45,
          46,
          47,
          48,
          49.8
         ],
         "xaxis": "x3",
         "y": [
          9.8,
          10,
          11,
          12,
          13,
          14,
          14.2
         ],
         "yaxis": "y3",
         "z": [
          [
           null,
           null,
           null,
           null,
           null,
           null,
           null,
           null,
           null,
           null,
           null,
           null,
           null,
           null,
           null,
           null,
           null,
           null,
           null,
           null,
           null,
           null,
           null,
           null,
           null,
           null,
           null,
           null,
           null,
           null,
           null,
           null,
           null
          ],
          [
           null,
           null,
           null,
           null,
           0.029355384175225648,
           null,
           0.0297300272048956,
           0.02953646099304096,
           null,
           null,
           null,
           0.02993174896349197,
           null,
           null,
           null,
           0.03048135581540762,
           null,
           0.02976266702602789,
           null,
           0.030788780015630523,
           null,
           null,
           null,
           null,
           null,
           0.029428444245660705,
           null,
           null,
           null,
           null,
           null,
           null,
           null
          ],
          [
           null,
           null,
           null,
           null,
           null,
           null,
           null,
           0.030050969980971308,
           null,
           null,
           0.0300822874572542,
           0.029043821128096642,
           0.03002281791725511,
           null,
           null,
           0.029165672985837925,
           null,
           0.029858542780202512,
           0.029991497419080308,
           0.029749216515260836,
           0.029376438782016907,
           0.03043274465856733,
           0.03068893775858172,
           null,
           0.0303439168123572,
           null,
           null,
           0.029398971686023168,
           null,
           0.03011309842866128,
           0.027825975657624142,
           null,
           null
          ],
          [
           null,
           null,
           null,
           0.029900374491084063,
           null,
           null,
           null,
           null,
           0.029527772861992957,
           0.030000855474294978,
           0.030849553943804512,
           null,
           0.02970563522534751,
           0.03027769454618754,
           0.030606150469594365,
           0.030205774344563473,
           0.029496209631329786,
           0.03005413270795041,
           0.030960425052271288,
           0.03015999382891569,
           0.029907638477741947,
           0.03022969392355089,
           0.03042530851467182,
           0.030407058970370656,
           0.029191889072549222,
           0.030457475489882563,
           null,
           null,
           0.029908827583630282,
           null,
           null,
           0.030398083691920905,
           null
          ],
          [
           null,
           0.02976477331469794,
           null,
           null,
           null,
           0.02932320991839259,
           null,
           null,
           null,
           null,
           null,
           null,
           0.030604167485299233,
           0.030210445166923353,
           null,
           null,
           0.03080938205785038,
           0.029927462539390878,
           0.030267723328599446,
           null,
           0.03060534589171416,
           0.03010586237558172,
           null,
           0.02999423116902278,
           null,
           null,
           0.029141602939377172,
           0.02949804456510584,
           null,
           null,
           null,
           null,
           null
          ],
          [
           null,
           0.03042014959357277,
           0.02931424661062419,
           null,
           null,
           0.029688670594330346,
           null,
           null,
           null,
           null,
           null,
           null,
           null,
           null,
           0.02987889980571182,
           null,
           null,
           null,
           null,
           0.02956698013413915,
           null,
           null,
           null,
           null,
           0.029540663556938636,
           null,
           null,
           null,
           null,
           null,
           null,
           null,
           null
          ],
          [
           null,
           null,
           null,
           null,
           null,
           null,
           null,
           null,
           null,
           null,
           null,
           null,
           null,
           null,
           null,
           null,
           null,
           null,
           null,
           null,
           null,
           null,
           null,
           null,
           null,
           null,
           null,
           null,
           null,
           null,
           null,
           null,
           null
          ]
         ]
        },
        {
         "marker": {
          "color": "black",
          "line": {
           "color": "Grey",
           "width": 0.5
          }
         },
         "mode": "markers",
         "showlegend": false,
         "type": "scatter",
         "x": [
          29,
          41,
          44,
          42,
          24,
          12,
          47,
          27,
          17,
          37,
          12,
          13,
          20,
          20,
          20,
          33,
          32,
          34,
          37,
          37,
          37,
          26,
          33,
          30,
          39,
          41,
          36,
          46,
          40,
          31,
          28,
          39,
          40,
          34,
          35,
          44,
          43,
          38,
          34,
          29,
          24,
          29,
          32,
          35,
          25,
          30,
          42,
          28,
          22,
          33,
          31,
          34,
          38,
          37,
          38,
          32,
          40,
          45,
          36,
          27,
          38,
          38,
          42,
          48,
          39,
          36,
          36,
          36,
          36,
          33,
          35,
          38,
          36,
          36,
          36,
          36,
          41,
          39,
          37,
          34,
          41,
          35,
          16,
          31,
          36,
          37,
          39,
          35,
          40,
          29,
          32,
          34,
          38,
          33,
          36,
          34,
          35,
          37,
          38,
          31,
          30,
          34,
          37,
          34,
          36,
          35,
          33,
          32,
          40,
          39,
          37,
          34,
          36,
          35,
          36,
          38,
          36,
          38,
          36,
          37,
          39,
          35,
          33,
          36,
          37,
          36,
          36,
          38,
          27,
          41,
          36,
          37,
          35,
          40,
          36,
          37,
          35,
          39,
          34
         ],
         "xaxis": "x3",
         "y": [
          12,
          14,
          13,
          10,
          10,
          13,
          11,
          11,
          10,
          13,
          14,
          14,
          13,
          14,
          13,
          12,
          12,
          11,
          12,
          12,
          11,
          12,
          12,
          12,
          11,
          11,
          11,
          11,
          12,
          12,
          10,
          12,
          12,
          12,
          13,
          11,
          13,
          12,
          10,
          11,
          11,
          11,
          10,
          11,
          12,
          13,
          12,
          11,
          10,
          13,
          14,
          13,
          12,
          12,
          13,
          11,
          13,
          12,
          14,
          11,
          12,
          12,
          12,
          12,
          12,
          12,
          12,
          12,
          12,
          12,
          12,
          12,
          12,
          12,
          12,
          12,
          12,
          12,
          12,
          12,
          12,
          12,
          12,
          12,
          12,
          12,
          12,
          11,
          12,
          13,
          12,
          12,
          12,
          12,
          12,
          12,
          13,
          12,
          11,
          12,
          12,
          12,
          12,
          12,
          12,
          12,
          12,
          12,
          12,
          11,
          12,
          12,
          12,
          12,
          12,
          12,
          12,
          12,
          10,
          13,
          12,
          12,
          12,
          12,
          12,
          12,
          12,
          12,
          12,
          12,
          12,
          12,
          12,
          12,
          12,
          12,
          12,
          12,
          12
         ],
         "yaxis": "y3"
        },
        {
         "colorbar": {
          "title": {
           "text": "Objective Value"
          }
         },
         "colorscale": [
          [
           0,
           "rgb(5,10,172)"
          ],
          [
           0.35,
           "rgb(40,60,190)"
          ],
          [
           0.5,
           "rgb(70,100,245)"
          ],
          [
           0.6,
           "rgb(90,120,245)"
          ],
          [
           0.7,
           "rgb(106,137,247)"
          ],
          [
           1,
           "rgb(220,220,220)"
          ]
         ],
         "connectgaps": true,
         "contours": {
          "coloring": "heatmap"
         },
         "hoverinfo": "none",
         "line": {
          "smoothing": 1.3
         },
         "reversescale": false,
         "showscale": false,
         "type": "contour",
         "x": [
          10.2,
          12,
          13,
          16,
          17,
          20,
          22,
          24,
          25,
          26,
          27,
          28,
          29,
          30,
          31,
          32,
          33,
          34,
          35,
          36,
          37,
          38,
          39,
          40,
          41,
          42,
          43,
          44,
          45,
          46,
          47,
          48,
          49.8
         ],
         "xaxis": "x7",
         "y": [
          4.8,
          5,
          6,
          7,
          8,
          9,
          9.2
         ],
         "yaxis": "y7",
         "z": [
          [
           null,
           null,
           null,
           null,
           null,
           null,
           null,
           null,
           null,
           null,
           null,
           null,
           null,
           null,
           null,
           null,
           null,
           null,
           null,
           null,
           null,
           null,
           null,
           null,
           null,
           null,
           null,
           null,
           null,
           null,
           null,
           null,
           null
          ],
          [
           null,
           0.03042014959357277,
           0.02931424661062419,
           0.029900374491084063,
           0.029355384175225648,
           null,
           null,
           null,
           0.029527772861992957,
           0.030000855474294978,
           0.030849553943804512,
           null,
           0.030604167485299233,
           0.03027769454618754,
           0.030606150469594365,
           0.030205774344563473,
           0.029496209631329786,
           0.03005413270795041,
           0.030960425052271288,
           0.03015999382891569,
           0.029907638477741947,
           0.03022969392355089,
           0.03042530851467182,
           0.030407058970370656,
           0.029191889072549222,
           0.030457475489882563,
           0.029141602939377172,
           null,
           0.029908827583630282,
           null,
           null,
           0.030398083691920905,
           null
          ],
          [
           null,
           0.02976477331469794,
           null,
           null,
           null,
           0.02932320991839259,
           null,
           0.030050969980971308,
           null,
           null,
           null,
           0.029043821128096642,
           null,
           0.02969271562985538,
           null,
           0.029165672985837925,
           null,
           0.02976266702602789,
           0.029717932861796678,
           0.0294869216426217,
           0.029528837472459647,
           null,
           0.02997266552489069,
           0.03018133812235544,
           0.0303439168123572,
           null,
           null,
           null,
           null,
           0.03011309842866128,
           null,
           null,
           null
          ],
          [
           null,
           null,
           null,
           null,
           null,
           null,
           null,
           null,
           null,
           null,
           null,
           null,
           0.02970563522534751,
           null,
           0.03002134685748054,
           null,
           null,
           null,
           null,
           null,
           null,
           0.03043274465856733,
           null,
           null,
           null,
           null,
           null,
           0.029398971686023168,
           null,
           null,
           0.027825975657624142,
           null,
           null
          ],
          [
           null,
           null,
           null,
           null,
           null,
           null,
           0.0297300272048956,
           0.02953646099304096,
           null,
           null,
           0.02863197447129344,
           null,
           null,
           null,
           null,
           null,
           null,
           null,
           null,
           null,
           null,
           0.029071861769941938,
           null,
           null,
           0.029832109246091445,
           null,
           null,
           null,
           null,
           null,
           null,
           null,
           null
          ],
          [
           null,
           null,
           null,
           null,
           null,
           null,
           null,
           null,
           null,
           null,
           null,
           null,
           null,
           null,
           null,
           null,
           null,
           null,
           0.0300554787725074,
           null,
           0.028985187403317226,
           null,
           null,
           null,
           null,
           0.029428444245660705,
           null,
           null,
           null,
           null,
           null,
           null,
           null
          ],
          [
           null,
           null,
           null,
           null,
           null,
           null,
           null,
           null,
           null,
           null,
           null,
           null,
           null,
           null,
           null,
           null,
           null,
           null,
           null,
           null,
           null,
           null,
           null,
           null,
           null,
           null,
           null,
           null,
           null,
           null,
           null,
           null,
           null
          ]
         ]
        },
        {
         "marker": {
          "color": "black",
          "line": {
           "color": "Grey",
           "width": 0.5
          }
         },
         "mode": "markers",
         "showlegend": false,
         "type": "scatter",
         "x": [
          29,
          41,
          44,
          42,
          24,
          12,
          47,
          27,
          17,
          37,
          12,
          13,
          20,
          20,
          20,
          33,
          32,
          34,
          37,
          37,
          37,
          26,
          33,
          30,
          39,
          41,
          36,
          46,
          40,
          31,
          28,
          39,
          40,
          34,
          35,
          44,
          43,
          38,
          34,
          29,
          24,
          29,
          32,
          35,
          25,
          30,
          42,
          28,
          22,
          33,
          31,
          34,
          38,
          37,
          38,
          32,
          40,
          45,
          36,
          27,
          38,
          38,
          42,
          48,
          39,
          36,
          36,
          36,
          36,
          33,
          35,
          38,
          36,
          36,
          36,
          36,
          41,
          39,
          37,
          34,
          41,
          35,
          16,
          31,
          36,
          37,
          39,
          35,
          40,
          29,
          32,
          34,
          38,
          33,
          36,
          34,
          35,
          37,
          38,
          31,
          30,
          34,
          37,
          34,
          36,
          35,
          33,
          32,
          40,
          39,
          37,
          34,
          36,
          35,
          36,
          38,
          36,
          38,
          36,
          37,
          39,
          35,
          33,
          36,
          37,
          36,
          36,
          38,
          27,
          41,
          36,
          37,
          35,
          40,
          36,
          37,
          35,
          39,
          34
         ],
         "xaxis": "x7",
         "y": [
          7,
          8,
          7,
          9,
          8,
          6,
          7,
          8,
          5,
          9,
          5,
          5,
          6,
          6,
          6,
          5,
          5,
          5,
          5,
          6,
          5,
          5,
          5,
          6,
          5,
          6,
          5,
          6,
          5,
          7,
          6,
          5,
          5,
          5,
          5,
          7,
          5,
          8,
          6,
          5,
          6,
          5,
          5,
          9,
          5,
          5,
          5,
          6,
          8,
          5,
          5,
          5,
          5,
          5,
          5,
          6,
          5,
          5,
          6,
          5,
          5,
          5,
          5,
          5,
          5,
          5,
          5,
          5,
          6,
          5,
          6,
          5,
          5,
          5,
          5,
          5,
          5,
          5,
          5,
          5,
          8,
          5,
          5,
          5,
          5,
          5,
          5,
          5,
          6,
          5,
          5,
          5,
          5,
          5,
          5,
          5,
          5,
          5,
          7,
          5,
          5,
          5,
          5,
          5,
          5,
          9,
          5,
          5,
          5,
          5,
          5,
          5,
          5,
          5,
          5,
          5,
          5,
          5,
          5,
          5,
          6,
          5,
          5,
          5,
          5,
          5,
          5,
          5,
          5,
          5,
          5,
          5,
          5,
          5,
          5,
          5,
          5,
          5,
          5
         ],
         "yaxis": "y7"
        },
        {
         "type": "scatter",
         "xaxis": "x11",
         "yaxis": "y11"
        },
        {
         "colorbar": {
          "title": {
           "text": "Objective Value"
          }
         },
         "colorscale": [
          [
           0,
           "rgb(5,10,172)"
          ],
          [
           0.35,
           "rgb(40,60,190)"
          ],
          [
           0.5,
           "rgb(70,100,245)"
          ],
          [
           0.6,
           "rgb(90,120,245)"
          ],
          [
           0.7,
           "rgb(106,137,247)"
          ],
          [
           1,
           "rgb(220,220,220)"
          ]
         ],
         "connectgaps": true,
         "contours": {
          "coloring": "heatmap"
         },
         "hoverinfo": "none",
         "line": {
          "smoothing": 1.3
         },
         "reversescale": false,
         "showscale": false,
         "type": "contour",
         "x": [
          10.2,
          12,
          13,
          16,
          17,
          20,
          22,
          24,
          25,
          26,
          27,
          28,
          29,
          30,
          31,
          32,
          33,
          34,
          35,
          36,
          37,
          38,
          39,
          40,
          41,
          42,
          43,
          44,
          45,
          46,
          47,
          48,
          49.8
         ],
         "xaxis": "x15",
         "y": [
          4.8,
          5,
          6,
          7,
          8,
          9,
          9.2
         ],
         "yaxis": "y15",
         "z": [
          [
           null,
           null,
           null,
           null,
           null,
           null,
           null,
           null,
           null,
           null,
           null,
           null,
           null,
           null,
           null,
           null,
           null,
           null,
           null,
           null,
           null,
           null,
           null,
           null,
           null,
           null,
           null,
           null,
           null,
           null,
           null,
           null,
           null
          ],
          [
           null,
           null,
           null,
           null,
           null,
           null,
           null,
           null,
           null,
           null,
           null,
           null,
           null,
           null,
           0.02987889980571182,
           null,
           0.03080938205785038,
           0.029927462539390878,
           0.029220159823539996,
           0.02956698013413915,
           0.03001002658960933,
           0.03010586237558172,
           null,
           0.02999423116902278,
           0.029540663556938636,
           null,
           null,
           null,
           null,
           null,
           null,
           null,
           null
          ],
          [
           null,
           null,
           null,
           null,
           null,
           null,
           0.0297300272048956,
           0.030050969980971308,
           null,
           null,
           0.02863197447129344,
           null,
           null,
           null,
           null,
           0.029165672985837925,
           null,
           null,
           0.029128539675948115,
           null,
           null,
           null,
           null,
           null,
           null,
           0.029428444245660705,
           null,
           0.02949804456510584,
           0.029908827583630282,
           null,
           0.027825975657624142,
           null,
           null
          ],
          [
           null,
           null,
           null,
           null,
           null,
           null,
           null,
           0.02953646099304096,
           null,
           null,
           null,
           0.02993174896349197,
           0.03002281791725511,
           0.030210445166923353,
           null,
           0.030205774344563473,
           null,
           0.03005413270795041,
           null,
           0.029749216515260836,
           0.029659968160954682,
           0.030814906872641035,
           null,
           null,
           null,
           null,
           null,
           0.029398971686023168,
           null,
           null,
           null,
           null,
           null
          ],
          [
           null,
           0.02976477331469794,
           null,
           null,
           0.029355384175225648,
           null,
           null,
           null,
           0.029527772861992957,
           null,
           null,
           0.029043821128096642,
           0.02970563522534751,
           0.03027769454618754,
           0.03002134685748054,
           0.030165201535579295,
           0.030003673267506734,
           0.030681782131262974,
           null,
           0.030330388546503204,
           0.029528837472459647,
           0.029071861769941938,
           0.029919474656383855,
           0.030559551672783954,
           0.0303439168123572,
           null,
           null,
           null,
           null,
           0.03011309842866128,
           null,
           null,
           null
          ],
          [
           null,
           0.03042014959357277,
           0.02931424661062419,
           0.029900374491084063,
           null,
           0.02932320991839259,
           null,
           null,
           null,
           0.030000855474294978,
           0.030849553943804512,
           null,
           0.030604167485299233,
           0.02969271562985538,
           0.030606150469594365,
           0.030157550594078684,
           0.029496209631329786,
           0.03103264991559348,
           0.030960425052271288,
           0.03015999382891569,
           0.029907638477741947,
           0.03022969392355089,
           0.03042530851467182,
           0.030407058970370656,
           0.029191889072549222,
           0.030457475489882563,
           0.029141602939377172,
           null,
           null,
           null,
           null,
           0.030398083691920905,
           null
          ],
          [
           null,
           null,
           null,
           null,
           null,
           null,
           null,
           null,
           null,
           null,
           null,
           null,
           null,
           null,
           null,
           null,
           null,
           null,
           null,
           null,
           null,
           null,
           null,
           null,
           null,
           null,
           null,
           null,
           null,
           null,
           null,
           null,
           null
          ]
         ]
        },
        {
         "marker": {
          "color": "black",
          "line": {
           "color": "Grey",
           "width": 0.5
          }
         },
         "mode": "markers",
         "showlegend": false,
         "type": "scatter",
         "x": [
          29,
          41,
          44,
          42,
          24,
          12,
          47,
          27,
          17,
          37,
          12,
          13,
          20,
          20,
          20,
          33,
          32,
          34,
          37,
          37,
          37,
          26,
          33,
          30,
          39,
          41,
          36,
          46,
          40,
          31,
          28,
          39,
          40,
          34,
          35,
          44,
          43,
          38,
          34,
          29,
          24,
          29,
          32,
          35,
          25,
          30,
          42,
          28,
          22,
          33,
          31,
          34,
          38,
          37,
          38,
          32,
          40,
          45,
          36,
          27,
          38,
          38,
          42,
          48,
          39,
          36,
          36,
          36,
          36,
          33,
          35,
          38,
          36,
          36,
          36,
          36,
          41,
          39,
          37,
          34,
          41,
          35,
          16,
          31,
          36,
          37,
          39,
          35,
          40,
          29,
          32,
          34,
          38,
          33,
          36,
          34,
          35,
          37,
          38,
          31,
          30,
          34,
          37,
          34,
          36,
          35,
          33,
          32,
          40,
          39,
          37,
          34,
          36,
          35,
          36,
          38,
          36,
          38,
          36,
          37,
          39,
          35,
          33,
          36,
          37,
          36,
          36,
          38,
          27,
          41,
          36,
          37,
          35,
          40,
          36,
          37,
          35,
          39,
          34
         ],
         "xaxis": "x15",
         "y": [
          8,
          5,
          6,
          6,
          7,
          8,
          6,
          6,
          8,
          7,
          9,
          9,
          9,
          9,
          9,
          9,
          8,
          9,
          8,
          8,
          7,
          9,
          8,
          9,
          8,
          8,
          7,
          8,
          8,
          8,
          7,
          8,
          8,
          8,
          5,
          7,
          9,
          8,
          7,
          7,
          6,
          7,
          7,
          6,
          8,
          7,
          9,
          8,
          6,
          5,
          5,
          5,
          5,
          5,
          5,
          6,
          5,
          6,
          5,
          9,
          9,
          9,
          9,
          9,
          9,
          9,
          9,
          9,
          9,
          9,
          9,
          9,
          9,
          9,
          9,
          9,
          9,
          9,
          9,
          9,
          9,
          9,
          9,
          9,
          9,
          9,
          9,
          9,
          9,
          9,
          9,
          9,
          9,
          9,
          9,
          9,
          9,
          7,
          9,
          9,
          8,
          9,
          9,
          9,
          9,
          9,
          9,
          7,
          9,
          9,
          9,
          9,
          9,
          9,
          9,
          9,
          9,
          7,
          9,
          9,
          9,
          9,
          9,
          9,
          9,
          9,
          9,
          9,
          9,
          9,
          8,
          9,
          9,
          9,
          9,
          9,
          9,
          9,
          7
         ],
         "yaxis": "y15"
        },
        {
         "colorbar": {
          "title": {
           "text": "Objective Value"
          }
         },
         "colorscale": [
          [
           0,
           "rgb(5,10,172)"
          ],
          [
           0.35,
           "rgb(40,60,190)"
          ],
          [
           0.5,
           "rgb(70,100,245)"
          ],
          [
           0.6,
           "rgb(90,120,245)"
          ],
          [
           0.7,
           "rgb(106,137,247)"
          ],
          [
           1,
           "rgb(220,220,220)"
          ]
         ],
         "connectgaps": true,
         "contours": {
          "coloring": "heatmap"
         },
         "hoverinfo": "none",
         "line": {
          "smoothing": 1.3
         },
         "reversescale": false,
         "showscale": false,
         "type": "contour",
         "x": [
          4.8,
          5,
          6,
          7,
          8,
          9,
          9.2
         ],
         "xaxis": "x4",
         "y": [
          9.8,
          10,
          11,
          12,
          13,
          14,
          14.2
         ],
         "yaxis": "y4",
         "z": [
          [
           null,
           null,
           null,
           null,
           null,
           null,
           null
          ],
          [
           null,
           null,
           0.0297300272048956,
           0.03048135581540762,
           0.029355384175225648,
           0.030788780015630523,
           null
          ],
          [
           null,
           null,
           0.029165672985837925,
           0.03002281791725511,
           0.029043821128096642,
           0.03068893775858172,
           null
          ],
          [
           null,
           0.03001002658960933,
           0.029908827583630282,
           0.03005413270795041,
           0.030330388546503204,
           0.03042530851467182,
           null
          ],
          [
           null,
           0.02999423116902278,
           0.02949804456510584,
           0.030210445166923353,
           0.02976477331469794,
           0.03060534589171416,
           null
          ],
          [
           null,
           0.02956698013413915,
           null,
           null,
           null,
           0.029688670594330346,
           null
          ],
          [
           null,
           null,
           null,
           null,
           null,
           null,
           null
          ]
         ]
        },
        {
         "marker": {
          "color": "black",
          "line": {
           "color": "Grey",
           "width": 0.5
          }
         },
         "mode": "markers",
         "showlegend": false,
         "type": "scatter",
         "x": [
          8,
          5,
          6,
          6,
          7,
          8,
          6,
          6,
          8,
          7,
          9,
          9,
          9,
          9,
          9,
          9,
          8,
          9,
          8,
          8,
          7,
          9,
          8,
          9,
          8,
          8,
          7,
          8,
          8,
          8,
          7,
          8,
          8,
          8,
          5,
          7,
          9,
          8,
          7,
          7,
          6,
          7,
          7,
          6,
          8,
          7,
          9,
          8,
          6,
          5,
          5,
          5,
          5,
          5,
          5,
          6,
          5,
          6,
          5,
          9,
          9,
          9,
          9,
          9,
          9,
          9,
          9,
          9,
          9,
          9,
          9,
          9,
          9,
          9,
          9,
          9,
          9,
          9,
          9,
          9,
          9,
          9,
          9,
          9,
          9,
          9,
          9,
          9,
          9,
          9,
          9,
          9,
          9,
          9,
          9,
          9,
          9,
          7,
          9,
          9,
          8,
          9,
          9,
          9,
          9,
          9,
          9,
          7,
          9,
          9,
          9,
          9,
          9,
          9,
          9,
          9,
          9,
          7,
          9,
          9,
          9,
          9,
          9,
          9,
          9,
          9,
          9,
          9,
          9,
          9,
          8,
          9,
          9,
          9,
          9,
          9,
          9,
          9,
          7
         ],
         "xaxis": "x4",
         "y": [
          12,
          14,
          13,
          10,
          10,
          13,
          11,
          11,
          10,
          13,
          14,
          14,
          13,
          14,
          13,
          12,
          12,
          11,
          12,
          12,
          11,
          12,
          12,
          12,
          11,
          11,
          11,
          11,
          12,
          12,
          10,
          12,
          12,
          12,
          13,
          11,
          13,
          12,
          10,
          11,
          11,
          11,
          10,
          11,
          12,
          13,
          12,
          11,
          10,
          13,
          14,
          13,
          12,
          12,
          13,
          11,
          13,
          12,
          14,
          11,
          12,
          12,
          12,
          12,
          12,
          12,
          12,
          12,
          12,
          12,
          12,
          12,
          12,
          12,
          12,
          12,
          12,
          12,
          12,
          12,
          12,
          12,
          12,
          12,
          12,
          12,
          12,
          11,
          12,
          13,
          12,
          12,
          12,
          12,
          12,
          12,
          13,
          12,
          11,
          12,
          12,
          12,
          12,
          12,
          12,
          12,
          12,
          12,
          12,
          11,
          12,
          12,
          12,
          12,
          12,
          12,
          12,
          12,
          10,
          13,
          12,
          12,
          12,
          12,
          12,
          12,
          12,
          12,
          12,
          12,
          12,
          12,
          12,
          12,
          12,
          12,
          12,
          12,
          12
         ],
         "yaxis": "y4"
        },
        {
         "colorbar": {
          "title": {
           "text": "Objective Value"
          }
         },
         "colorscale": [
          [
           0,
           "rgb(5,10,172)"
          ],
          [
           0.35,
           "rgb(40,60,190)"
          ],
          [
           0.5,
           "rgb(70,100,245)"
          ],
          [
           0.6,
           "rgb(90,120,245)"
          ],
          [
           0.7,
           "rgb(106,137,247)"
          ],
          [
           1,
           "rgb(220,220,220)"
          ]
         ],
         "connectgaps": true,
         "contours": {
          "coloring": "heatmap"
         },
         "hoverinfo": "none",
         "line": {
          "smoothing": 1.3
         },
         "reversescale": false,
         "showscale": false,
         "type": "contour",
         "x": [
          4.8,
          5,
          6,
          7,
          8,
          9,
          9.2
         ],
         "xaxis": "x8",
         "y": [
          4.8,
          5,
          6,
          7,
          8,
          9,
          9.2
         ],
         "yaxis": "y8",
         "z": [
          [
           null,
           null,
           null,
           null,
           null,
           null,
           null
          ],
          [
           null,
           0.02999423116902278,
           0.029908827583630282,
           0.03005413270795041,
           0.030330388546503204,
           0.03042530851467182,
           null
          ],
          [
           null,
           0.02956698013413915,
           0.029165672985837925,
           0.02976266702602789,
           0.029043821128096642,
           0.02997266552489069,
           null
          ],
          [
           null,
           null,
           0.027825975657624142,
           0.029398971686023168,
           0.03002134685748054,
           0.03043274465856733,
           null
          ],
          [
           null,
           0.029540663556938636,
           0.0297300272048956,
           0.02953646099304096,
           0.029071861769941938,
           0.029832109246091445,
           null
          ],
          [
           null,
           null,
           0.029128539675948115,
           0.028985187403317226,
           null,
           0.0300554787725074,
           null
          ],
          [
           null,
           null,
           null,
           null,
           null,
           null,
           null
          ]
         ]
        },
        {
         "marker": {
          "color": "black",
          "line": {
           "color": "Grey",
           "width": 0.5
          }
         },
         "mode": "markers",
         "showlegend": false,
         "type": "scatter",
         "x": [
          8,
          5,
          6,
          6,
          7,
          8,
          6,
          6,
          8,
          7,
          9,
          9,
          9,
          9,
          9,
          9,
          8,
          9,
          8,
          8,
          7,
          9,
          8,
          9,
          8,
          8,
          7,
          8,
          8,
          8,
          7,
          8,
          8,
          8,
          5,
          7,
          9,
          8,
          7,
          7,
          6,
          7,
          7,
          6,
          8,
          7,
          9,
          8,
          6,
          5,
          5,
          5,
          5,
          5,
          5,
          6,
          5,
          6,
          5,
          9,
          9,
          9,
          9,
          9,
          9,
          9,
          9,
          9,
          9,
          9,
          9,
          9,
          9,
          9,
          9,
          9,
          9,
          9,
          9,
          9,
          9,
          9,
          9,
          9,
          9,
          9,
          9,
          9,
          9,
          9,
          9,
          9,
          9,
          9,
          9,
          9,
          9,
          7,
          9,
          9,
          8,
          9,
          9,
          9,
          9,
          9,
          9,
          7,
          9,
          9,
          9,
          9,
          9,
          9,
          9,
          9,
          9,
          7,
          9,
          9,
          9,
          9,
          9,
          9,
          9,
          9,
          9,
          9,
          9,
          9,
          8,
          9,
          9,
          9,
          9,
          9,
          9,
          9,
          7
         ],
         "xaxis": "x8",
         "y": [
          7,
          8,
          7,
          9,
          8,
          6,
          7,
          8,
          5,
          9,
          5,
          5,
          6,
          6,
          6,
          5,
          5,
          5,
          5,
          6,
          5,
          5,
          5,
          6,
          5,
          6,
          5,
          6,
          5,
          7,
          6,
          5,
          5,
          5,
          5,
          7,
          5,
          8,
          6,
          5,
          6,
          5,
          5,
          9,
          5,
          5,
          5,
          6,
          8,
          5,
          5,
          5,
          5,
          5,
          5,
          6,
          5,
          5,
          6,
          5,
          5,
          5,
          5,
          5,
          5,
          5,
          5,
          5,
          6,
          5,
          6,
          5,
          5,
          5,
          5,
          5,
          5,
          5,
          5,
          5,
          8,
          5,
          5,
          5,
          5,
          5,
          5,
          5,
          6,
          5,
          5,
          5,
          5,
          5,
          5,
          5,
          5,
          5,
          7,
          5,
          5,
          5,
          5,
          5,
          5,
          9,
          5,
          5,
          5,
          5,
          5,
          5,
          5,
          5,
          5,
          5,
          5,
          5,
          5,
          5,
          6,
          5,
          5,
          5,
          5,
          5,
          5,
          5,
          5,
          5,
          5,
          5,
          5,
          5,
          5,
          5,
          5,
          5,
          5
         ],
         "yaxis": "y8"
        },
        {
         "colorbar": {
          "title": {
           "text": "Objective Value"
          }
         },
         "colorscale": [
          [
           0,
           "rgb(5,10,172)"
          ],
          [
           0.35,
           "rgb(40,60,190)"
          ],
          [
           0.5,
           "rgb(70,100,245)"
          ],
          [
           0.6,
           "rgb(90,120,245)"
          ],
          [
           0.7,
           "rgb(106,137,247)"
          ],
          [
           1,
           "rgb(220,220,220)"
          ]
         ],
         "connectgaps": true,
         "contours": {
          "coloring": "heatmap"
         },
         "hoverinfo": "none",
         "line": {
          "smoothing": 1.3
         },
         "reversescale": false,
         "showscale": false,
         "type": "contour",
         "x": [
          4.8,
          5,
          6,
          7,
          8,
          9,
          9.2
         ],
         "xaxis": "x12",
         "y": [
          10.2,
          12,
          13,
          16,
          17,
          20,
          22,
          24,
          25,
          26,
          27,
          28,
          29,
          30,
          31,
          32,
          33,
          34,
          35,
          36,
          37,
          38,
          39,
          40,
          41,
          42,
          43,
          44,
          45,
          46,
          47,
          48,
          49.8
         ],
         "yaxis": "y12",
         "z": [
          [
           null,
           null,
           null,
           null,
           null,
           null,
           null
          ],
          [
           null,
           null,
           null,
           null,
           0.02976477331469794,
           0.03042014959357277,
           null
          ],
          [
           null,
           null,
           null,
           null,
           null,
           0.02931424661062419,
           null
          ],
          [
           null,
           null,
           null,
           null,
           null,
           0.029900374491084063,
           null
          ],
          [
           null,
           null,
           null,
           null,
           0.029355384175225648,
           null,
           null
          ],
          [
           null,
           null,
           null,
           null,
           null,
           0.02932320991839259,
           null
          ],
          [
           null,
           null,
           0.0297300272048956,
           null,
           null,
           null,
           null
          ],
          [
           null,
           null,
           0.030050969980971308,
           0.02953646099304096,
           null,
           null,
           null
          ],
          [
           null,
           null,
           null,
           null,
           0.029527772861992957,
           null,
           null
          ],
          [
           null,
           null,
           null,
           null,
           null,
           0.030000855474294978,
           null
          ],
          [
           null,
           null,
           0.02863197447129344,
           null,
           null,
           0.030849553943804512,
           null
          ],
          [
           null,
           null,
           null,
           0.02993174896349197,
           0.029043821128096642,
           null,
           null
          ],
          [
           null,
           null,
           null,
           0.03002281791725511,
           0.02970563522534751,
           0.030604167485299233,
           null
          ],
          [
           null,
           null,
           null,
           0.030210445166923353,
           0.03027769454618754,
           0.02969271562985538,
           null
          ],
          [
           null,
           0.02987889980571182,
           null,
           null,
           0.03002134685748054,
           0.030606150469594365,
           null
          ],
          [
           null,
           null,
           0.029165672985837925,
           0.030205774344563473,
           0.030165201535579295,
           0.030157550594078684,
           null
          ],
          [
           null,
           0.03080938205785038,
           null,
           null,
           0.030003673267506734,
           0.029496209631329786,
           null
          ],
          [
           null,
           0.029927462539390878,
           null,
           0.03005413270795041,
           0.030681782131262974,
           0.03103264991559348,
           null
          ],
          [
           null,
           0.029220159823539996,
           0.029128539675948115,
           null,
           null,
           0.030960425052271288,
           null
          ],
          [
           null,
           0.02956698013413915,
           null,
           0.029749216515260836,
           0.030330388546503204,
           0.03015999382891569,
           null
          ],
          [
           null,
           0.03001002658960933,
           null,
           0.029659968160954682,
           0.029528837472459647,
           0.029907638477741947,
           null
          ],
          [
           null,
           0.03010586237558172,
           null,
           0.030814906872641035,
           0.029071861769941938,
           0.03022969392355089,
           null
          ],
          [
           null,
           null,
           null,
           null,
           0.029919474656383855,
           0.03042530851467182,
           null
          ],
          [
           null,
           0.02999423116902278,
           null,
           null,
           0.030559551672783954,
           0.030407058970370656,
           null
          ],
          [
           null,
           0.029540663556938636,
           null,
           null,
           0.0303439168123572,
           0.029191889072549222,
           null
          ],
          [
           null,
           null,
           0.029428444245660705,
           null,
           null,
           0.030457475489882563,
           null
          ],
          [
           null,
           null,
           null,
           null,
           null,
           0.029141602939377172,
           null
          ],
          [
           null,
           null,
           0.02949804456510584,
           0.029398971686023168,
           null,
           null,
           null
          ],
          [
           null,
           null,
           0.029908827583630282,
           null,
           null,
           null,
           null
          ],
          [
           null,
           null,
           null,
           null,
           0.03011309842866128,
           null,
           null
          ],
          [
           null,
           null,
           0.027825975657624142,
           null,
           null,
           null,
           null
          ],
          [
           null,
           null,
           null,
           null,
           null,
           0.030398083691920905,
           null
          ],
          [
           null,
           null,
           null,
           null,
           null,
           null,
           null
          ]
         ]
        },
        {
         "marker": {
          "color": "black",
          "line": {
           "color": "Grey",
           "width": 0.5
          }
         },
         "mode": "markers",
         "showlegend": false,
         "type": "scatter",
         "x": [
          8,
          5,
          6,
          6,
          7,
          8,
          6,
          6,
          8,
          7,
          9,
          9,
          9,
          9,
          9,
          9,
          8,
          9,
          8,
          8,
          7,
          9,
          8,
          9,
          8,
          8,
          7,
          8,
          8,
          8,
          7,
          8,
          8,
          8,
          5,
          7,
          9,
          8,
          7,
          7,
          6,
          7,
          7,
          6,
          8,
          7,
          9,
          8,
          6,
          5,
          5,
          5,
          5,
          5,
          5,
          6,
          5,
          6,
          5,
          9,
          9,
          9,
          9,
          9,
          9,
          9,
          9,
          9,
          9,
          9,
          9,
          9,
          9,
          9,
          9,
          9,
          9,
          9,
          9,
          9,
          9,
          9,
          9,
          9,
          9,
          9,
          9,
          9,
          9,
          9,
          9,
          9,
          9,
          9,
          9,
          9,
          9,
          7,
          9,
          9,
          8,
          9,
          9,
          9,
          9,
          9,
          9,
          7,
          9,
          9,
          9,
          9,
          9,
          9,
          9,
          9,
          9,
          7,
          9,
          9,
          9,
          9,
          9,
          9,
          9,
          9,
          9,
          9,
          9,
          9,
          8,
          9,
          9,
          9,
          9,
          9,
          9,
          9,
          7
         ],
         "xaxis": "x12",
         "y": [
          29,
          41,
          44,
          42,
          24,
          12,
          47,
          27,
          17,
          37,
          12,
          13,
          20,
          20,
          20,
          33,
          32,
          34,
          37,
          37,
          37,
          26,
          33,
          30,
          39,
          41,
          36,
          46,
          40,
          31,
          28,
          39,
          40,
          34,
          35,
          44,
          43,
          38,
          34,
          29,
          24,
          29,
          32,
          35,
          25,
          30,
          42,
          28,
          22,
          33,
          31,
          34,
          38,
          37,
          38,
          32,
          40,
          45,
          36,
          27,
          38,
          38,
          42,
          48,
          39,
          36,
          36,
          36,
          36,
          33,
          35,
          38,
          36,
          36,
          36,
          36,
          41,
          39,
          37,
          34,
          41,
          35,
          16,
          31,
          36,
          37,
          39,
          35,
          40,
          29,
          32,
          34,
          38,
          33,
          36,
          34,
          35,
          37,
          38,
          31,
          30,
          34,
          37,
          34,
          36,
          35,
          33,
          32,
          40,
          39,
          37,
          34,
          36,
          35,
          36,
          38,
          36,
          38,
          36,
          37,
          39,
          35,
          33,
          36,
          37,
          36,
          36,
          38,
          27,
          41,
          36,
          37,
          35,
          40,
          36,
          37,
          35,
          39,
          34
         ],
         "yaxis": "y12"
        },
        {
         "type": "scatter",
         "xaxis": "x16",
         "yaxis": "y16"
        }
       ],
       "layout": {
        "template": {
         "data": {
          "bar": [
           {
            "error_x": {
             "color": "#2a3f5f"
            },
            "error_y": {
             "color": "#2a3f5f"
            },
            "marker": {
             "line": {
              "color": "#E5ECF6",
              "width": 0.5
             },
             "pattern": {
              "fillmode": "overlay",
              "size": 10,
              "solidity": 0.2
             }
            },
            "type": "bar"
           }
          ],
          "barpolar": [
           {
            "marker": {
             "line": {
              "color": "#E5ECF6",
              "width": 0.5
             },
             "pattern": {
              "fillmode": "overlay",
              "size": 10,
              "solidity": 0.2
             }
            },
            "type": "barpolar"
           }
          ],
          "carpet": [
           {
            "aaxis": {
             "endlinecolor": "#2a3f5f",
             "gridcolor": "white",
             "linecolor": "white",
             "minorgridcolor": "white",
             "startlinecolor": "#2a3f5f"
            },
            "baxis": {
             "endlinecolor": "#2a3f5f",
             "gridcolor": "white",
             "linecolor": "white",
             "minorgridcolor": "white",
             "startlinecolor": "#2a3f5f"
            },
            "type": "carpet"
           }
          ],
          "choropleth": [
           {
            "colorbar": {
             "outlinewidth": 0,
             "ticks": ""
            },
            "type": "choropleth"
           }
          ],
          "contour": [
           {
            "colorbar": {
             "outlinewidth": 0,
             "ticks": ""
            },
            "colorscale": [
             [
              0,
              "#0d0887"
             ],
             [
              0.1111111111111111,
              "#46039f"
             ],
             [
              0.2222222222222222,
              "#7201a8"
             ],
             [
              0.3333333333333333,
              "#9c179e"
             ],
             [
              0.4444444444444444,
              "#bd3786"
             ],
             [
              0.5555555555555556,
              "#d8576b"
             ],
             [
              0.6666666666666666,
              "#ed7953"
             ],
             [
              0.7777777777777778,
              "#fb9f3a"
             ],
             [
              0.8888888888888888,
              "#fdca26"
             ],
             [
              1,
              "#f0f921"
             ]
            ],
            "type": "contour"
           }
          ],
          "contourcarpet": [
           {
            "colorbar": {
             "outlinewidth": 0,
             "ticks": ""
            },
            "type": "contourcarpet"
           }
          ],
          "heatmap": [
           {
            "colorbar": {
             "outlinewidth": 0,
             "ticks": ""
            },
            "colorscale": [
             [
              0,
              "#0d0887"
             ],
             [
              0.1111111111111111,
              "#46039f"
             ],
             [
              0.2222222222222222,
              "#7201a8"
             ],
             [
              0.3333333333333333,
              "#9c179e"
             ],
             [
              0.4444444444444444,
              "#bd3786"
             ],
             [
              0.5555555555555556,
              "#d8576b"
             ],
             [
              0.6666666666666666,
              "#ed7953"
             ],
             [
              0.7777777777777778,
              "#fb9f3a"
             ],
             [
              0.8888888888888888,
              "#fdca26"
             ],
             [
              1,
              "#f0f921"
             ]
            ],
            "type": "heatmap"
           }
          ],
          "heatmapgl": [
           {
            "colorbar": {
             "outlinewidth": 0,
             "ticks": ""
            },
            "colorscale": [
             [
              0,
              "#0d0887"
             ],
             [
              0.1111111111111111,
              "#46039f"
             ],
             [
              0.2222222222222222,
              "#7201a8"
             ],
             [
              0.3333333333333333,
              "#9c179e"
             ],
             [
              0.4444444444444444,
              "#bd3786"
             ],
             [
              0.5555555555555556,
              "#d8576b"
             ],
             [
              0.6666666666666666,
              "#ed7953"
             ],
             [
              0.7777777777777778,
              "#fb9f3a"
             ],
             [
              0.8888888888888888,
              "#fdca26"
             ],
             [
              1,
              "#f0f921"
             ]
            ],
            "type": "heatmapgl"
           }
          ],
          "histogram": [
           {
            "marker": {
             "pattern": {
              "fillmode": "overlay",
              "size": 10,
              "solidity": 0.2
             }
            },
            "type": "histogram"
           }
          ],
          "histogram2d": [
           {
            "colorbar": {
             "outlinewidth": 0,
             "ticks": ""
            },
            "colorscale": [
             [
              0,
              "#0d0887"
             ],
             [
              0.1111111111111111,
              "#46039f"
             ],
             [
              0.2222222222222222,
              "#7201a8"
             ],
             [
              0.3333333333333333,
              "#9c179e"
             ],
             [
              0.4444444444444444,
              "#bd3786"
             ],
             [
              0.5555555555555556,
              "#d8576b"
             ],
             [
              0.6666666666666666,
              "#ed7953"
             ],
             [
              0.7777777777777778,
              "#fb9f3a"
             ],
             [
              0.8888888888888888,
              "#fdca26"
             ],
             [
              1,
              "#f0f921"
             ]
            ],
            "type": "histogram2d"
           }
          ],
          "histogram2dcontour": [
           {
            "colorbar": {
             "outlinewidth": 0,
             "ticks": ""
            },
            "colorscale": [
             [
              0,
              "#0d0887"
             ],
             [
              0.1111111111111111,
              "#46039f"
             ],
             [
              0.2222222222222222,
              "#7201a8"
             ],
             [
              0.3333333333333333,
              "#9c179e"
             ],
             [
              0.4444444444444444,
              "#bd3786"
             ],
             [
              0.5555555555555556,
              "#d8576b"
             ],
             [
              0.6666666666666666,
              "#ed7953"
             ],
             [
              0.7777777777777778,
              "#fb9f3a"
             ],
             [
              0.8888888888888888,
              "#fdca26"
             ],
             [
              1,
              "#f0f921"
             ]
            ],
            "type": "histogram2dcontour"
           }
          ],
          "mesh3d": [
           {
            "colorbar": {
             "outlinewidth": 0,
             "ticks": ""
            },
            "type": "mesh3d"
           }
          ],
          "parcoords": [
           {
            "line": {
             "colorbar": {
              "outlinewidth": 0,
              "ticks": ""
             }
            },
            "type": "parcoords"
           }
          ],
          "pie": [
           {
            "automargin": true,
            "type": "pie"
           }
          ],
          "scatter": [
           {
            "fillpattern": {
             "fillmode": "overlay",
             "size": 10,
             "solidity": 0.2
            },
            "type": "scatter"
           }
          ],
          "scatter3d": [
           {
            "line": {
             "colorbar": {
              "outlinewidth": 0,
              "ticks": ""
             }
            },
            "marker": {
             "colorbar": {
              "outlinewidth": 0,
              "ticks": ""
             }
            },
            "type": "scatter3d"
           }
          ],
          "scattercarpet": [
           {
            "marker": {
             "colorbar": {
              "outlinewidth": 0,
              "ticks": ""
             }
            },
            "type": "scattercarpet"
           }
          ],
          "scattergeo": [
           {
            "marker": {
             "colorbar": {
              "outlinewidth": 0,
              "ticks": ""
             }
            },
            "type": "scattergeo"
           }
          ],
          "scattergl": [
           {
            "marker": {
             "colorbar": {
              "outlinewidth": 0,
              "ticks": ""
             }
            },
            "type": "scattergl"
           }
          ],
          "scattermapbox": [
           {
            "marker": {
             "colorbar": {
              "outlinewidth": 0,
              "ticks": ""
             }
            },
            "type": "scattermapbox"
           }
          ],
          "scatterpolar": [
           {
            "marker": {
             "colorbar": {
              "outlinewidth": 0,
              "ticks": ""
             }
            },
            "type": "scatterpolar"
           }
          ],
          "scatterpolargl": [
           {
            "marker": {
             "colorbar": {
              "outlinewidth": 0,
              "ticks": ""
             }
            },
            "type": "scatterpolargl"
           }
          ],
          "scatterternary": [
           {
            "marker": {
             "colorbar": {
              "outlinewidth": 0,
              "ticks": ""
             }
            },
            "type": "scatterternary"
           }
          ],
          "surface": [
           {
            "colorbar": {
             "outlinewidth": 0,
             "ticks": ""
            },
            "colorscale": [
             [
              0,
              "#0d0887"
             ],
             [
              0.1111111111111111,
              "#46039f"
             ],
             [
              0.2222222222222222,
              "#7201a8"
             ],
             [
              0.3333333333333333,
              "#9c179e"
             ],
             [
              0.4444444444444444,
              "#bd3786"
             ],
             [
              0.5555555555555556,
              "#d8576b"
             ],
             [
              0.6666666666666666,
              "#ed7953"
             ],
             [
              0.7777777777777778,
              "#fb9f3a"
             ],
             [
              0.8888888888888888,
              "#fdca26"
             ],
             [
              1,
              "#f0f921"
             ]
            ],
            "type": "surface"
           }
          ],
          "table": [
           {
            "cells": {
             "fill": {
              "color": "#EBF0F8"
             },
             "line": {
              "color": "white"
             }
            },
            "header": {
             "fill": {
              "color": "#C8D4E3"
             },
             "line": {
              "color": "white"
             }
            },
            "type": "table"
           }
          ]
         },
         "layout": {
          "annotationdefaults": {
           "arrowcolor": "#2a3f5f",
           "arrowhead": 0,
           "arrowwidth": 1
          },
          "autotypenumbers": "strict",
          "coloraxis": {
           "colorbar": {
            "outlinewidth": 0,
            "ticks": ""
           }
          },
          "colorscale": {
           "diverging": [
            [
             0,
             "#8e0152"
            ],
            [
             0.1,
             "#c51b7d"
            ],
            [
             0.2,
             "#de77ae"
            ],
            [
             0.3,
             "#f1b6da"
            ],
            [
             0.4,
             "#fde0ef"
            ],
            [
             0.5,
             "#f7f7f7"
            ],
            [
             0.6,
             "#e6f5d0"
            ],
            [
             0.7,
             "#b8e186"
            ],
            [
             0.8,
             "#7fbc41"
            ],
            [
             0.9,
             "#4d9221"
            ],
            [
             1,
             "#276419"
            ]
           ],
           "sequential": [
            [
             0,
             "#0d0887"
            ],
            [
             0.1111111111111111,
             "#46039f"
            ],
            [
             0.2222222222222222,
             "#7201a8"
            ],
            [
             0.3333333333333333,
             "#9c179e"
            ],
            [
             0.4444444444444444,
             "#bd3786"
            ],
            [
             0.5555555555555556,
             "#d8576b"
            ],
            [
             0.6666666666666666,
             "#ed7953"
            ],
            [
             0.7777777777777778,
             "#fb9f3a"
            ],
            [
             0.8888888888888888,
             "#fdca26"
            ],
            [
             1,
             "#f0f921"
            ]
           ],
           "sequentialminus": [
            [
             0,
             "#0d0887"
            ],
            [
             0.1111111111111111,
             "#46039f"
            ],
            [
             0.2222222222222222,
             "#7201a8"
            ],
            [
             0.3333333333333333,
             "#9c179e"
            ],
            [
             0.4444444444444444,
             "#bd3786"
            ],
            [
             0.5555555555555556,
             "#d8576b"
            ],
            [
             0.6666666666666666,
             "#ed7953"
            ],
            [
             0.7777777777777778,
             "#fb9f3a"
            ],
            [
             0.8888888888888888,
             "#fdca26"
            ],
            [
             1,
             "#f0f921"
            ]
           ]
          },
          "colorway": [
           "#636efa",
           "#EF553B",
           "#00cc96",
           "#ab63fa",
           "#FFA15A",
           "#19d3f3",
           "#FF6692",
           "#B6E880",
           "#FF97FF",
           "#FECB52"
          ],
          "font": {
           "color": "#2a3f5f"
          },
          "geo": {
           "bgcolor": "white",
           "lakecolor": "white",
           "landcolor": "#E5ECF6",
           "showlakes": true,
           "showland": true,
           "subunitcolor": "white"
          },
          "hoverlabel": {
           "align": "left"
          },
          "hovermode": "closest",
          "mapbox": {
           "style": "light"
          },
          "paper_bgcolor": "white",
          "plot_bgcolor": "#E5ECF6",
          "polar": {
           "angularaxis": {
            "gridcolor": "white",
            "linecolor": "white",
            "ticks": ""
           },
           "bgcolor": "#E5ECF6",
           "radialaxis": {
            "gridcolor": "white",
            "linecolor": "white",
            "ticks": ""
           }
          },
          "scene": {
           "xaxis": {
            "backgroundcolor": "#E5ECF6",
            "gridcolor": "white",
            "gridwidth": 2,
            "linecolor": "white",
            "showbackground": true,
            "ticks": "",
            "zerolinecolor": "white"
           },
           "yaxis": {
            "backgroundcolor": "#E5ECF6",
            "gridcolor": "white",
            "gridwidth": 2,
            "linecolor": "white",
            "showbackground": true,
            "ticks": "",
            "zerolinecolor": "white"
           },
           "zaxis": {
            "backgroundcolor": "#E5ECF6",
            "gridcolor": "white",
            "gridwidth": 2,
            "linecolor": "white",
            "showbackground": true,
            "ticks": "",
            "zerolinecolor": "white"
           }
          },
          "shapedefaults": {
           "line": {
            "color": "#2a3f5f"
           }
          },
          "ternary": {
           "aaxis": {
            "gridcolor": "white",
            "linecolor": "white",
            "ticks": ""
           },
           "baxis": {
            "gridcolor": "white",
            "linecolor": "white",
            "ticks": ""
           },
           "bgcolor": "#E5ECF6",
           "caxis": {
            "gridcolor": "white",
            "linecolor": "white",
            "ticks": ""
           }
          },
          "title": {
           "x": 0.05
          },
          "xaxis": {
           "automargin": true,
           "gridcolor": "white",
           "linecolor": "white",
           "ticks": "",
           "title": {
            "standoff": 15
           },
           "zerolinecolor": "white",
           "zerolinewidth": 2
          },
          "yaxis": {
           "automargin": true,
           "gridcolor": "white",
           "linecolor": "white",
           "ticks": "",
           "title": {
            "standoff": 15
           },
           "zerolinecolor": "white",
           "zerolinewidth": 2
          }
         }
        },
        "title": {
         "text": "Contour Plot"
        },
        "xaxis": {
         "anchor": "y",
         "domain": [
          0,
          0.2125
         ],
         "matches": "x13",
         "range": [
          9.8,
          14.2
         ],
         "showticklabels": false
        },
        "xaxis10": {
         "anchor": "y10",
         "domain": [
          0.2625,
          0.475
         ],
         "matches": "x14",
         "range": [
          4.8,
          9.2
         ],
         "showticklabels": false
        },
        "xaxis11": {
         "anchor": "y11",
         "domain": [
          0.525,
          0.7375
         ],
         "matches": "x15",
         "range": [
          10.2,
          49.8
         ],
         "showticklabels": false
        },
        "xaxis12": {
         "anchor": "y12",
         "domain": [
          0.7875,
          1
         ],
         "matches": "x16",
         "range": [
          4.8,
          9.2
         ],
         "showticklabels": false
        },
        "xaxis13": {
         "anchor": "y13",
         "domain": [
          0,
          0.2125
         ],
         "range": [
          9.8,
          14.2
         ],
         "title": {
          "text": "cooc_weeks"
         }
        },
        "xaxis14": {
         "anchor": "y14",
         "domain": [
          0.2625,
          0.475
         ],
         "range": [
          4.8,
          9.2
         ],
         "title": {
          "text": "popular_days"
         }
        },
        "xaxis15": {
         "anchor": "y15",
         "domain": [
          0.525,
          0.7375
         ],
         "range": [
          10.2,
          49.8
         ],
         "title": {
          "text": "popular_num_items"
         }
        },
        "xaxis16": {
         "anchor": "y16",
         "domain": [
          0.7875,
          1
         ],
         "range": [
          4.8,
          9.2
         ],
         "title": {
          "text": "volume_feature_days"
         }
        },
        "xaxis2": {
         "anchor": "y2",
         "domain": [
          0.2625,
          0.475
         ],
         "matches": "x14",
         "range": [
          4.8,
          9.2
         ],
         "showticklabels": false
        },
        "xaxis3": {
         "anchor": "y3",
         "domain": [
          0.525,
          0.7375
         ],
         "matches": "x15",
         "range": [
          10.2,
          49.8
         ],
         "showticklabels": false
        },
        "xaxis4": {
         "anchor": "y4",
         "domain": [
          0.7875,
          1
         ],
         "matches": "x16",
         "range": [
          4.8,
          9.2
         ],
         "showticklabels": false
        },
        "xaxis5": {
         "anchor": "y5",
         "domain": [
          0,
          0.2125
         ],
         "matches": "x13",
         "range": [
          9.8,
          14.2
         ],
         "showticklabels": false
        },
        "xaxis6": {
         "anchor": "y6",
         "domain": [
          0.2625,
          0.475
         ],
         "matches": "x14",
         "range": [
          4.8,
          9.2
         ],
         "showticklabels": false
        },
        "xaxis7": {
         "anchor": "y7",
         "domain": [
          0.525,
          0.7375
         ],
         "matches": "x15",
         "range": [
          10.2,
          49.8
         ],
         "showticklabels": false
        },
        "xaxis8": {
         "anchor": "y8",
         "domain": [
          0.7875,
          1
         ],
         "matches": "x16",
         "range": [
          4.8,
          9.2
         ],
         "showticklabels": false
        },
        "xaxis9": {
         "anchor": "y9",
         "domain": [
          0,
          0.2125
         ],
         "matches": "x13",
         "range": [
          9.8,
          14.2
         ],
         "showticklabels": false
        },
        "yaxis": {
         "anchor": "x",
         "domain": [
          0.80625,
          1
         ],
         "range": [
          9.8,
          14.2
         ],
         "title": {
          "text": "cooc_weeks"
         }
        },
        "yaxis10": {
         "anchor": "x10",
         "domain": [
          0.26875,
          0.4625
         ],
         "matches": "y9",
         "range": [
          10.2,
          49.8
         ],
         "showticklabels": false
        },
        "yaxis11": {
         "anchor": "x11",
         "domain": [
          0.26875,
          0.4625
         ],
         "matches": "y9",
         "range": [
          10.2,
          49.8
         ],
         "showticklabels": false
        },
        "yaxis12": {
         "anchor": "x12",
         "domain": [
          0.26875,
          0.4625
         ],
         "matches": "y9",
         "range": [
          10.2,
          49.8
         ],
         "showticklabels": false
        },
        "yaxis13": {
         "anchor": "x13",
         "domain": [
          0,
          0.19375
         ],
         "range": [
          4.8,
          9.2
         ],
         "title": {
          "text": "volume_feature_days"
         }
        },
        "yaxis14": {
         "anchor": "x14",
         "domain": [
          0,
          0.19375
         ],
         "matches": "y13",
         "range": [
          4.8,
          9.2
         ],
         "showticklabels": false
        },
        "yaxis15": {
         "anchor": "x15",
         "domain": [
          0,
          0.19375
         ],
         "matches": "y13",
         "range": [
          4.8,
          9.2
         ],
         "showticklabels": false
        },
        "yaxis16": {
         "anchor": "x16",
         "domain": [
          0,
          0.19375
         ],
         "matches": "y13",
         "range": [
          4.8,
          9.2
         ],
         "showticklabels": false
        },
        "yaxis2": {
         "anchor": "x2",
         "domain": [
          0.80625,
          1
         ],
         "matches": "y",
         "range": [
          9.8,
          14.2
         ],
         "showticklabels": false
        },
        "yaxis3": {
         "anchor": "x3",
         "domain": [
          0.80625,
          1
         ],
         "matches": "y",
         "range": [
          9.8,
          14.2
         ],
         "showticklabels": false
        },
        "yaxis4": {
         "anchor": "x4",
         "domain": [
          0.80625,
          1
         ],
         "matches": "y",
         "range": [
          9.8,
          14.2
         ],
         "showticklabels": false
        },
        "yaxis5": {
         "anchor": "x5",
         "domain": [
          0.5375,
          0.73125
         ],
         "range": [
          4.8,
          9.2
         ],
         "title": {
          "text": "popular_days"
         }
        },
        "yaxis6": {
         "anchor": "x6",
         "domain": [
          0.5375,
          0.73125
         ],
         "matches": "y5",
         "range": [
          4.8,
          9.2
         ],
         "showticklabels": false
        },
        "yaxis7": {
         "anchor": "x7",
         "domain": [
          0.5375,
          0.73125
         ],
         "matches": "y5",
         "range": [
          4.8,
          9.2
         ],
         "showticklabels": false
        },
        "yaxis8": {
         "anchor": "x8",
         "domain": [
          0.5375,
          0.73125
         ],
         "matches": "y5",
         "range": [
          4.8,
          9.2
         ],
         "showticklabels": false
        },
        "yaxis9": {
         "anchor": "x9",
         "domain": [
          0.26875,
          0.4625
         ],
         "range": [
          10.2,
          49.8
         ],
         "title": {
          "text": "popular_num_items"
         }
        }
       }
      }
     },
     "metadata": {},
     "output_type": "display_data"
    }
   ],
   "source": [
    "optuna.visualization.plot_contour(study, params=['popular_num_items', 'popular_days', 'volume_feature_days', 'cooc_weeks'])"
   ]
  },
  {
   "cell_type": "markdown",
   "metadata": {},
   "source": [
    "- cooc_weeks: 12のまま\n",
    "- popular_days: 7 -> 5\n",
    "- popular_num_items: 12 -> 36\n",
    "- volume_feature_days: 7 -> 9 (もっとデカいかも)"
   ]
  },
  {
   "cell_type": "code",
   "execution_count": 29,
   "metadata": {},
   "outputs": [],
   "source": [
    "cols = [\n",
    " 'cooc_new_pattern',\n",
    " 'colour_group_code',\n",
    " 'department_no',\n",
    " 'garment_group_no',\n",
    " 'graphical_appearance_no',\n",
    " 'index_code',\n",
    " 'index_group_no',\n",
    " 'perceived_colour_master_id',\n",
    " 'perceived_colour_value_id',\n",
    " 'product_group_name',\n",
    " 'product_type_no',\n",
    " 'section_no',\n",
    " 'lfm_emb_dim',\n",
    " 'lfm_emb_type',\n",
    " 'lfm_score_dim',\n",
    " 'lfm_score_type',\n",
    "]"
   ]
  },
  {
   "cell_type": "code",
   "execution_count": 41,
   "metadata": {},
   "outputs": [
    {
     "data": {
      "image/png": "[encoded data removed]",
      "text/plain": [
       "<Figure size 432x288 with 1 Axes>"
      ]
     },
     "metadata": {
      "needs_background": "light"
     },
     "output_type": "display_data"
    },
    {
     "data": {
      "image/png": "[encoded data removed]",
      "text/plain": [
       "<Figure size 432x288 with 1 Axes>"
      ]
     },
     "metadata": {
      "needs_background": "light"
     },
     "output_type": "display_data"
    },
    {
     "data": {
      "image/png": "[encoded data removed]",
      "text/plain": [
       "<Figure size 432x288 with 1 Axes>"
      ]
     },
     "metadata": {
      "needs_background": "light"
     },
     "output_type": "display_data"
    },
    {
     "data": {
      "image/png": "[encoded data removed]",
      "text/plain": [
       "<Figure size 432x288 with 1 Axes>"
      ]
     },
     "metadata": {
      "needs_background": "light"
     },
     "output_type": "display_data"
    },
    {
     "data": {
      "image/png": "[encoded data removed]",
      "text/plain": [
       "<Figure size 432x288 with 1 Axes>"
      ]
     },
     "metadata": {
      "needs_background": "light"
     },
     "output_type": "display_data"
    },
    {
     "data": {
      "image/png": "[encoded data removed]",
      "text/plain": [
       "<Figure size 432x288 with 1 Axes>"
      ]
     },
     "metadata": {
      "needs_background": "light"
     },
     "output_type": "display_data"
    },
    {
     "data": {
      "image/png": "[encoded data removed]",
      "text/plain": [
       "<Figure size 432x288 with 1 Axes>"
      ]
     },
     "metadata": {
      "needs_background": "light"
     },
     "output_type": "display_data"
    },
    {
     "data": {
      "image/png": "[encoded data removed]",
      "text/plain": [
       "<Figure size 432x288 with 1 Axes>"
      ]
     },
     "metadata": {
      "needs_background": "light"
     },
     "output_type": "display_data"
    },
    {
     "data": {
      "image/png": "[encoded data removed]",
      "text/plain": [
       "<Figure size 432x288 with 1 Axes>"
      ]
     },
     "metadata": {
      "needs_background": "light"
     },
     "output_type": "display_data"
    },
    {
     "data": {
      "image/png": "[encoded data removed]",
      "text/plain": [
       "<Figure size 432x288 with 1 Axes>"
      ]
     },
     "metadata": {
      "needs_background": "light"
     },
     "output_type": "display_data"
    },
    {
     "data": {
      "image/png": "[encoded data removed]",
      "text/plain": [
       "<Figure size 432x288 with 1 Axes>"
      ]
     },
     "metadata": {
      "needs_background": "light"
     },
     "output_type": "display_data"
    },
    {
     "data": {
      "image/png": "[encoded data removed]",
      "text/plain": [
       "<Figure size 432x288 with 1 Axes>"
      ]
     },
     "metadata": {
      "needs_background": "light"
     },
     "output_type": "display_data"
    },
    {
     "data": {
      "image/png": "[encoded data removed]",
      "text/plain": [
       "<Figure size 432x288 with 1 Axes>"
      ]
     },
     "metadata": {
      "needs_background": "light"
     },
     "output_type": "display_data"
    },
    {
     "data": {
      "image/png": "[encoded data removed]",
      "text/plain": [
       "<Figure size 432x288 with 1 Axes>"
      ]
     },
     "metadata": {
      "needs_background": "light"
     },
     "output_type": "display_data"
    },
    {
     "data": {
      "image/png": "[encoded data removed]",
      "text/plain": [
       "<Figure size 432x288 with 1 Axes>"
      ]
     },
     "metadata": {
      "needs_background": "light"
     },
     "output_type": "display_data"
    },
    {
     "data": {
      "image/png": "[encoded data removed]",
      "text/plain": [
       "<Figure size 432x288 with 1 Axes>"
      ]
     },
     "metadata": {
      "needs_background": "light"
     },
     "output_type": "display_data"
    }
   ],
   "source": [
    "for col in cols:\n",
    "    plt.title(col)\n",
    "    df.groupby(f\"params_{col}\")['value'].hist(alpha=0.5, bins=50)\n",
    "    plt.show()"
   ]
  },
  {
   "cell_type": "code",
   "execution_count": null,
   "metadata": {},
   "outputs": [],
   "source": []
  }
 ],
 "metadata": {
  "interpreter": {
   "hash": "0b86de9f6486b79e06c3e92d8ebfe2d8784bd7dc978270674d2b8cd48bba0e42"
  },
  "kernelspec": {
   "display_name": "Python 3.9.12 64-bit ('base')",
   "language": "python",
   "name": "python3"
  },
  "language_info": {
   "codemirror_mode": {
    "name": "ipython",
    "version": 3
   },
   "file_extension": ".py",
   "mimetype": "text/x-python",
   "name": "python",
   "nbconvert_exporter": "python",
   "pygments_lexer": "ipython3",
   "version": "3.9.12"
  },
  "orig_nbformat": 4
 },
 "nbformat": 4,
 "nbformat_minor": 2
}
