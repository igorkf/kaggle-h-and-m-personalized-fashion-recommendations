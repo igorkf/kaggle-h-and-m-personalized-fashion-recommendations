{
 "cells": [
  {
   "cell_type": "code",
   "execution_count": 1,
   "metadata": {},
   "outputs": [],
   "source": [
    "import lightgbm as lgb\n",
    "import numpy as np\n",
    "import pandas as pd\n",
    "from tqdm.auto import tqdm\n",
    "\n",
    "from metric import apk, mapk\n",
    "from utils import plot_images\n",
    "import catboost"
   ]
  },
  {
   "cell_type": "code",
   "execution_count": 2,
   "metadata": {},
   "outputs": [],
   "source": [
    "def objective(trial):\n",
    "    num_popular_items = trial.suggest_int('num_popular_items', 12, 36)\n",
    "    num_repurchase_week = trial.suggest_int('num_repurchase_week', 4, 16)\n",
    "    num_cooc_week = trial.suggest_int('num_cooc_week', 4, 16)\n",
    "    num_train_weeks = trial.suggest_int('num_train_weeks', 1, 4)\n",
    "    volume_week = trial.suggest_int('volume_week', 1, 4)\n",
    "    cooc_prob = trial.suggest_uniform('cooc_prob', 0.02, 0.05)\n",
    "    transaction_dynamic_week = trial.suggest_int('transaction_dynamic_week', 1, 8)\n",
    "\n",
    "    dataset = '100'\n",
    "\n",
    "    transactions = pd.read_pickle(f\"input/{dataset}/transactions_train.pkl\")\n",
    "    users = pd.read_pickle(f\"input/{dataset}/users.pkl\")\n",
    "    items = pd.read_pickle(f\"input/{dataset}/items.pkl\")\n",
    "\n",
    "    def create_candidates(transactions: pd.DataFrame, target_users: np.ndarray, week: int) -> pd.DataFrame:\n",
    "        \"\"\"\n",
    "        transactions\n",
    "            original transactions (user, item, week)\n",
    "        target_users, week\n",
    "            候補生成対象のユーザー\n",
    "            weekで指定されている週の段階での情報のみから作られる\n",
    "        \"\"\"\n",
    "        assert len(target_users) == len(set(target_users))\n",
    "\n",
    "        def create_candidates_repurchase(\n",
    "                strategy: str,\n",
    "                transactions: pd.DataFrame,\n",
    "                target_users: np.ndarray,\n",
    "                week_start: int,\n",
    "                week_end: int) -> pd.DataFrame:\n",
    "            tr = transactions.query(\"user in @target_users and @week_start <= week <= @week_end\")[['user', 'item', 'week']].drop_duplicates(ignore_index=True)\n",
    "\n",
    "            gr_week = tr.groupby(['user', 'item'])['week'].min().reset_index(name='week')\n",
    "            gr_volume = tr.groupby(['user', 'item']).size().reset_index(name='volume')\n",
    "\n",
    "            gr_week['week_rank'] = gr_week.groupby('user')['week'].rank()\n",
    "            gr_volume['volume_rank'] = gr_volume.groupby('user')['volume'].rank()\n",
    "\n",
    "            candidates = gr_week.merge(gr_volume, on=['user', 'item'])\n",
    "            candidates = candidates[['user', 'item', 'week_rank', 'volume_rank']].rename(columns={'week_rank': f'{strategy}_week_rank', 'volume_rank': f'{strategy}_volume_rank'})\n",
    "\n",
    "            candidates['strategy'] = strategy\n",
    "            return candidates\n",
    "\n",
    "        def create_candidates_popular(\n",
    "                strategy: str,\n",
    "                transactions: pd.DataFrame,\n",
    "                target_users: np.ndarray,\n",
    "                week_start: int,\n",
    "                week_end: int) -> pd.DataFrame:\n",
    "            tr = transactions.query(\"@week_start <= week <= @week_end\")[['user', 'item']].drop_duplicates(ignore_index=True)\n",
    "            popular_items = tr['item'].value_counts().index.values[:num_popular_items]\n",
    "            popular_items = pd.DataFrame({\n",
    "                'item': popular_items,\n",
    "                'rank': range(num_popular_items),\n",
    "                'crossjoinkey': 1,\n",
    "            })\n",
    "\n",
    "            candidates = pd.DataFrame({\n",
    "                'user': target_users,\n",
    "                'crossjoinkey': 1,\n",
    "            })\n",
    "\n",
    "            candidates = candidates.merge(popular_items, on='crossjoinkey').drop('crossjoinkey', axis=1)\n",
    "            candidates = candidates.rename(columns={'rank': f'{strategy}_rank'})\n",
    "\n",
    "            candidates['strategy'] = strategy\n",
    "            return candidates\n",
    "\n",
    "        def create_candidates_cooc(\n",
    "                strategy: str,\n",
    "                transactions: pd.DataFrame,\n",
    "                week_start: int,\n",
    "                week_end: int,\n",
    "                base_candidates: pd.DataFrame) -> pd.DataFrame:\n",
    "            hoge = cooc_prob\n",
    "            tr = transactions.query(\"@week_start <= week == @week_end\")[['user', 'item', 'week']].drop_duplicates(ignore_index=True)\n",
    "            tr = tr.merge(tr.rename(columns={'item': 'item_with', 'week': 'week_with'}), on='user').query(\"item != item_with and week <= week_with\")[['item', 'item_with']].reset_index(drop=True)\n",
    "            gr_sz = tr.groupby('item').size().reset_index(name='tot')\n",
    "            gr_cnt = tr.groupby(['item', 'item_with']).size().reset_index(name='cnt')\n",
    "            item2item = gr_cnt.merge(gr_sz, on='item')\n",
    "            item2item['ratio'] = item2item['cnt'] / item2item['tot']\n",
    "            item2item = item2item.query(\"ratio >= @hoge\").reset_index(drop=True)\n",
    "\n",
    "            base_candidates_columns = [c for c in base_candidates.columns if '_' in c]\n",
    "            replace = {c: f\"{strategy}_{c}\" for c in base_candidates_columns}\n",
    "            candidates = base_candidates.merge(item2item, on='item').drop(['item', 'cnt'], axis=1).rename(columns={'item_with': 'item'}).rename(columns=replace)\n",
    "            candidates = candidates.rename(columns={'ratio': f'{strategy}_ratio', 'tot': f'{strategy}_tot'})\n",
    "\n",
    "            candidates['strategy'] = strategy\n",
    "            return candidates\n",
    "\n",
    "        def create_candidates_same_product_code(\n",
    "                strategy: str,\n",
    "                items: pd.DataFrame,\n",
    "                base_candidates: pd.DataFrame) -> pd.DataFrame:\n",
    "            item2item = items[['item', 'product_code']].merge(items[['item', 'product_code']].rename({'item': 'item_with'}, axis=1), on='product_code')[['item', 'item_with']].query(\"item != item_with\").reset_index(drop=True)\n",
    "\n",
    "            base_candidates_columns = [c for c in base_candidates.columns if '_' in c]\n",
    "            replace = {c: f\"{strategy}_{c}\" for c in base_candidates_columns}\n",
    "            candidates = base_candidates.merge(item2item, on='item').drop('item', axis=1).rename(columns={'item_with': 'item'}).rename(columns=replace)\n",
    "\n",
    "            candidates['strategy'] = strategy\n",
    "            return candidates\n",
    "\n",
    "        candidates_repurchase = create_candidates_repurchase('repurchase', transactions, target_users, week, week + num_repurchase_week)\n",
    "        candidates_popular = create_candidates_popular('pop', transactions, target_users, week, week)\n",
    "        candidates_cooc = create_candidates_cooc('cooc', transactions, week, week + num_cooc_week, candidates_repurchase)\n",
    "        candidates_same_product_code = create_candidates_same_product_code('same_product_code', items, candidates_repurchase)\n",
    "\n",
    "        candidates = [\n",
    "            candidates_repurchase,\n",
    "            candidates_popular,\n",
    "            candidates_cooc,\n",
    "            candidates_same_product_code,\n",
    "        ]\n",
    "\n",
    "        candidates = pd.concat(candidates).reset_index(drop=True)\n",
    "\n",
    "        volumes = candidates.groupby('strategy').size().reset_index(name='volume').sort_values(by='volume', ascending=False).reset_index(drop=True)\n",
    "        volumes['ratio'] = volumes['volume'] / volumes['volume'].sum()\n",
    "\n",
    "        return candidates\n",
    "\n",
    "    # valid: week=1\n",
    "    # train: week=2..1+num_train_weeks\n",
    "    candidates = []\n",
    "    for week in range(1, 2+num_train_weeks):\n",
    "        target_users = transactions.query(\"week == @week\")['user'].unique()\n",
    "        candidates.append(create_candidates(transactions, target_users, week+1))\n",
    "    def merge_labels(candidates: pd.DataFrame, week: int) -> pd.DataFrame:\n",
    "        \"\"\"\n",
    "        candidatesに対してweekで指定される週のトランザクションからラベルを付与する\n",
    "        \"\"\"\n",
    "        labels = transactions[transactions['week'] == week][['user', 'item']].drop_duplicates(ignore_index=True)\n",
    "        labels['y'] = 1\n",
    "        original_positives = len(labels)\n",
    "        labels = candidates.merge(labels, on=['user', 'item'], how='left')\n",
    "        labels['y'] = labels['y'].fillna(0)\n",
    "\n",
    "        remaining_positives_total = labels[['user', 'item', 'y']].drop_duplicates(ignore_index=True)['y'].sum()\n",
    "        recall = remaining_positives_total / original_positives\n",
    "\n",
    "        volumes = candidates.groupby('strategy').size().reset_index(name='volume')\n",
    "        remaining_positives = labels.groupby('strategy')['y'].sum().reset_index()\n",
    "        remaining_positives = remaining_positives.merge(volumes, on='strategy')\n",
    "        remaining_positives['recall'] = remaining_positives['y'] / original_positives\n",
    "        remaining_positives['hit_ratio'] = remaining_positives['y'] / remaining_positives['volume']\n",
    "        remaining_positives = remaining_positives.sort_values(by='y', ascending=False).reset_index(drop=True)\n",
    "\n",
    "        return labels\n",
    "\n",
    "    for idx in range(len(candidates)):\n",
    "        candidates[idx] = merge_labels(candidates[idx], 1+idx)\n",
    "\n",
    "    def get_query_group(df):\n",
    "        def run_length_encoding(sequence):\n",
    "            comp_seq_index, = np.concatenate(([True], sequence[1:] != sequence[:-1], [True])).nonzero()\n",
    "            return sequence[comp_seq_index[:-1]], np.ediff1d(comp_seq_index)\n",
    "        users = df['user'].values\n",
    "        _, group = run_length_encoding(users)\n",
    "        return list(group)\n",
    "\n",
    "    def drop_trivial_users(labels):\n",
    "        \"\"\"\n",
    "        LightGBMのxendgcやlambdarankでは正例のみや負例のみのuserは学習に無意味なのと、メトリックの計算がおかしくなるので省く\n",
    "        \"\"\"\n",
    "        bef = len(labels)\n",
    "        df = labels[labels['user'].isin(labels[['user', 'y']].drop_duplicates().groupby('user').size().reset_index(name='sz').query(\"sz==2\").user)].reset_index(drop=True)\n",
    "        aft = len(df)\n",
    "        return df\n",
    "\n",
    "    for idx in range(len(candidates)):\n",
    "        candidates[idx]['week'] = 1+idx\n",
    "\n",
    "    valid_all = candidates[0].copy()\n",
    "\n",
    "    for idx in range(len(candidates)):\n",
    "        candidates[idx] = drop_trivial_users(candidates[idx])\n",
    "\n",
    "    def attach_features(transactions: pd.DataFrame, users: pd.DataFrame, items: pd.DataFrame, candidates: pd.DataFrame, week: int) -> pd.DataFrame:\n",
    "        \"\"\"\n",
    "        user, itemに対して特徴を横付けする\n",
    "        week: これを含めた以前の情報は使って良い\n",
    "        \"\"\"\n",
    "        n_original = len(candidates)\n",
    "        df = candidates.copy()\n",
    "\n",
    "        # user static features\n",
    "        user_features = ['FN', 'Active', 'age', 'club_member_status_idx', 'fashion_news_frequency_idx']\n",
    "        df = df.merge(users[['user'] + user_features], on='user')\n",
    "\n",
    "        # item static features\n",
    "        item_features = [c for c in items.columns if c.endswith('idx')]\n",
    "        df = df.merge(items[['item'] + item_features], on='item')\n",
    "\n",
    "        # user dynamic features (transactions)\n",
    "        num_weeks = transaction_dynamic_week\n",
    "        week_end = week + num_weeks\n",
    "        tmp = transactions.query(\"@week <= week < @week_end\").groupby('user')[['price', 'sales_channel_id']].agg(['mean', 'std'])\n",
    "        tmp.columns = ['user_' + '_'.join(a) for a in tmp.columns.to_flat_index()]\n",
    "        df = df.merge(tmp, on='user', how='left')\n",
    "\n",
    "        # item dynamic features (transactions)\n",
    "        num_weeks = transaction_dynamic_week\n",
    "        week_end = week + num_weeks\n",
    "        tmp = transactions.query(\"@week <= week < @week_end\").groupby('item')[['price', 'sales_channel_id']].agg(['mean', 'std'])\n",
    "        tmp.columns = ['item_' + '_'.join(a) for a in tmp.columns.to_flat_index()]\n",
    "        df = df.merge(tmp, on='item', how='left')\n",
    "\n",
    "        # item dynamic features (user features)\n",
    "        num_weeks = transaction_dynamic_week\n",
    "        week_end = week + num_weeks\n",
    "        tmp = transactions.query(\"@week <= week < @week_end\").merge(users[['user', 'age']], on='user')\n",
    "        tmp = tmp.groupby('item')['age'].agg(['mean', 'std'])\n",
    "        tmp.columns = [f'age_{a}' for a in tmp.columns.to_flat_index()]\n",
    "        df = df.merge(tmp, on='item', how='left')\n",
    "\n",
    "        # item freshness features\n",
    "        tmp = transactions.query(\"@week <= week\").groupby('item')['week'].min().reset_index(name='item_week_min')\n",
    "        tmp['item_week_min'] -= week\n",
    "        df = df.merge(tmp, on='item', how='left')\n",
    "\n",
    "        # item volume features\n",
    "        num_weeks = volume_week\n",
    "        week_end = week + num_weeks\n",
    "        tmp = transactions.query(\"@week <= week < @week_end\").groupby('item').size().reset_index(name='item_volume')\n",
    "        df = df.merge(tmp, on='item', how='left')\n",
    "\n",
    "        # # user freshness features\n",
    "        # tmp = transactions.query(\"@week <= week\").groupby('user')['week'].min().reset_index(name='user_week_min')\n",
    "        # tmp['user_week_min'] -= week\n",
    "        # df = df.merge(tmp, on='user', how='left')\n",
    "\n",
    "        # # user volume features\n",
    "        # num_weeks = 1\n",
    "        # week_end = week + num_weeks\n",
    "        # tmp = transactions.query(\"@week <= week < @week_end\").groupby('user').size().reset_index(name='user_volume')\n",
    "        # df = df.merge(tmp, on='user', how='left')\n",
    "\n",
    "        # user-item freshness features\n",
    "        tmp = transactions.query(\"@week <= week\").groupby(['user', 'item'])['week'].min().reset_index(name='user_item_week_min')\n",
    "        tmp['user_item_week_min'] -= week\n",
    "        df = df.merge(tmp, on=['item', 'user'], how='left')\n",
    "\n",
    "        # user-item volume features\n",
    "        num_weeks = volume_week\n",
    "        week_end = week + num_weeks\n",
    "        tmp = transactions.query(\"@week <= week < @week_end\").groupby(['user', 'item']).size().reset_index(name='user_item_volume')\n",
    "        df = df.merge(tmp, on=['user', 'item'], how='left')\n",
    "\n",
    "        assert len(df) == n_original\n",
    "        return df\n",
    "\n",
    "\n",
    "    valid_all = attach_features(transactions, users, items, valid_all, 2)\n",
    "    for idx in range(len(candidates)):\n",
    "        candidates[idx] = attach_features(transactions, users, items, candidates[idx], 2+idx)\n",
    "\n",
    "    for idx in range(len(candidates)):\n",
    "        candidates[idx]['group'] = candidates[idx]['week'].astype(str) + '_' + candidates[idx]['user'].astype(str)\n",
    "        candidates[idx] = candidates[idx].sort_values(by='group').reset_index(drop=True)\n",
    "\n",
    "    valid = candidates[0]\n",
    "\n",
    "    def concat_train(datasets, begin, num):\n",
    "        train = pd.concat([datasets[idx] for idx in range(begin, begin+num)])\n",
    "        return train\n",
    "\n",
    "    train = concat_train(candidates, 1, num_train_weeks)\n",
    "    feature_columns = [c for c in valid.columns if c not in ['y', 'strategy', 'week', 'group']]\n",
    "\n",
    "\n",
    "    cat_feature_values = [c for c in feature_columns if c.endswith('idx')]\n",
    "    cat_features = [feature_columns.index(c) for c in cat_feature_values]\n",
    "\n",
    "    train_pool = catboost.Pool(data=train[feature_columns], label=train['y'], group_id=train['group'], cat_features=cat_features)\n",
    "    valid_pool = catboost.Pool(data=valid[feature_columns], label=valid['y'], group_id=valid['group'], cat_features=cat_features)\n",
    "\n",
    "    params = {\n",
    "        'loss_function': 'YetiRank',\n",
    "        'use_best_model': True,\n",
    "        'one_hot_max_size': 300,\n",
    "        'metric_period': 100,\n",
    "    }\n",
    "    model = catboost.CatBoost(params)\n",
    "    model.fit(train_pool, eval_set=valid_pool)\n",
    "\n",
    "    valid_all['pred'] = model.predict(valid_all[feature_columns])\n",
    "    pred = valid_all.groupby(['user', 'item'])['pred'].max().reset_index()\n",
    "\n",
    "    pred = pred.sort_values(by=['user', 'pred'], ascending=False).reset_index(drop=True).groupby('user')['item'].apply(lambda x: list(x)[:12]).reset_index()\n",
    "    pred\n",
    "\n",
    "    gt = transactions.query(\"week == 1\").groupby('user')['item'].apply(list).reset_index().rename(columns={'item': 'gt'})\n",
    "    merged = gt.merge(pred, on='user', how='left')\n",
    "    merged['item'] = merged['item'].fillna('').apply(list)\n",
    "    merged\n",
    "\n",
    "    return mapk(merged['gt'], merged['item'])\n"
   ]
  },
  {
   "cell_type": "code",
   "execution_count": 3,
   "metadata": {},
   "outputs": [
    {
     "name": "stderr",
     "output_type": "stream",
     "text": [
      "\u001b[32m[I 2022-04-07 00:30:07,182]\u001b[0m A new study created in memory with name: cat\u001b[0m\n"
     ]
    },
    {
     "name": "stdout",
     "output_type": "stream",
     "text": [
      "0:\ttest: 0.2507958\tbest: 0.2507958 (0)\ttotal: 917ms\tremaining: 15m 15s\n",
      "100:\ttest: 0.3641860\tbest: 0.3641860 (100)\ttotal: 1m 22s\tremaining: 12m 17s\n",
      "200:\ttest: 0.3743213\tbest: 0.3743213 (200)\ttotal: 2m 43s\tremaining: 10m 51s\n",
      "300:\ttest: 0.3783455\tbest: 0.3783455 (300)\ttotal: 4m 3s\tremaining: 9m 26s\n",
      "400:\ttest: 0.3767817\tbest: 0.3783455 (300)\ttotal: 5m 23s\tremaining: 8m 3s\n",
      "500:\ttest: 0.3782076\tbest: 0.3783455 (300)\ttotal: 6m 43s\tremaining: 6m 42s\n",
      "600:\ttest: 0.3790387\tbest: 0.3790387 (600)\ttotal: 8m 2s\tremaining: 5m 20s\n",
      "700:\ttest: 0.3799666\tbest: 0.3799666 (700)\ttotal: 9m 22s\tremaining: 3m 59s\n",
      "800:\ttest: 0.3800420\tbest: 0.3800420 (800)\ttotal: 10m 41s\tremaining: 2m 39s\n",
      "900:\ttest: 0.3806844\tbest: 0.3806844 (900)\ttotal: 12m 1s\tremaining: 1m 19s\n",
      "999:\ttest: 0.3808476\tbest: 0.3808476 (999)\ttotal: 13m 19s\tremaining: 0us\n",
      "\n",
      "bestTest = 0.3808475695\n",
      "bestIteration = 999\n",
      "\n"
     ]
    },
    {
     "name": "stderr",
     "output_type": "stream",
     "text": [
      "\u001b[32m[I 2022-04-07 00:46:24,969]\u001b[0m Trial 0 finished with value: 0.029444172949849443 and parameters: {'num_popular_items': 29, 'num_repurchase_week': 11, 'num_cooc_week': 13, 'num_train_weeks': 2, 'volume_week': 3, 'cooc_prob': 0.03675601065850931, 'transaction_dynamic_week': 5}. Best is trial 0 with value: 0.029444172949849443.\u001b[0m\n"
     ]
    },
    {
     "name": "stdout",
     "output_type": "stream",
     "text": [
      "0:\ttest: 0.2397908\tbest: 0.2397908 (0)\ttotal: 291ms\tremaining: 4m 50s\n",
      "100:\ttest: 0.4401510\tbest: 0.4401510 (100)\ttotal: 28.2s\tremaining: 4m 10s\n",
      "200:\ttest: 0.4511399\tbest: 0.4511399 (200)\ttotal: 55.8s\tremaining: 3m 41s\n",
      "300:\ttest: 0.4552388\tbest: 0.4552388 (300)\ttotal: 1m 23s\tremaining: 3m 13s\n",
      "400:\ttest: 0.4528181\tbest: 0.4552388 (300)\ttotal: 1m 50s\tremaining: 2m 45s\n",
      "500:\ttest: 0.4542032\tbest: 0.4552388 (300)\ttotal: 2m 17s\tremaining: 2m 17s\n",
      "600:\ttest: 0.4553187\tbest: 0.4553187 (600)\ttotal: 2m 44s\tremaining: 1m 49s\n",
      "700:\ttest: 0.4562548\tbest: 0.4562548 (700)\ttotal: 3m 12s\tremaining: 1m 21s\n",
      "800:\ttest: 0.4566884\tbest: 0.4566884 (800)\ttotal: 3m 38s\tremaining: 54.4s\n",
      "900:\ttest: 0.4574690\tbest: 0.4574690 (900)\ttotal: 4m 5s\tremaining: 27s\n",
      "999:\ttest: 0.4579576\tbest: 0.4579576 (999)\ttotal: 4m 32s\tremaining: 0us\n",
      "\n",
      "bestTest = 0.4579576394\n",
      "bestIteration = 999\n",
      "\n"
     ]
    },
    {
     "name": "stderr",
     "output_type": "stream",
     "text": [
      "\u001b[32m[I 2022-04-07 00:52:59,275]\u001b[0m Trial 1 finished with value: 0.028885310530626526 and parameters: {'num_popular_items': 14, 'num_repurchase_week': 11, 'num_cooc_week': 10, 'num_train_weeks': 1, 'volume_week': 3, 'cooc_prob': 0.04710093671387566, 'transaction_dynamic_week': 5}. Best is trial 0 with value: 0.029444172949849443.\u001b[0m\n"
     ]
    },
    {
     "name": "stdout",
     "output_type": "stream",
     "text": [
      "0:\ttest: 0.2816851\tbest: 0.2816851 (0)\ttotal: 1.2s\tremaining: 20m 2s\n",
      "100:\ttest: 0.4187167\tbest: 0.4187167 (100)\ttotal: 2m 1s\tremaining: 18m 5s\n",
      "200:\ttest: 0.4275958\tbest: 0.4275958 (200)\ttotal: 4m 2s\tremaining: 16m 3s\n",
      "300:\ttest: 0.4323503\tbest: 0.4323503 (300)\ttotal: 6m\tremaining: 13m 57s\n",
      "400:\ttest: 0.4345318\tbest: 0.4345318 (400)\ttotal: 7m 58s\tremaining: 11m 55s\n",
      "500:\ttest: 0.4368013\tbest: 0.4368013 (500)\ttotal: 9m 56s\tremaining: 9m 54s\n",
      "600:\ttest: 0.4378116\tbest: 0.4378116 (600)\ttotal: 11m 53s\tremaining: 7m 53s\n",
      "700:\ttest: 0.4384139\tbest: 0.4384139 (700)\ttotal: 13m 50s\tremaining: 5m 54s\n",
      "800:\ttest: 0.4380672\tbest: 0.4384139 (700)\ttotal: 15m 47s\tremaining: 3m 55s\n",
      "900:\ttest: 0.4382584\tbest: 0.4384139 (700)\ttotal: 17m 45s\tremaining: 1m 57s\n",
      "999:\ttest: 0.4384400\tbest: 0.4384400 (999)\ttotal: 19m 40s\tremaining: 0us\n",
      "\n",
      "bestTest = 0.4384399882\n",
      "bestIteration = 999\n",
      "\n"
     ]
    },
    {
     "name": "stderr",
     "output_type": "stream",
     "text": [
      "\u001b[32m[I 2022-04-07 01:16:27,954]\u001b[0m Trial 2 finished with value: 0.02872545740578306 and parameters: {'num_popular_items': 17, 'num_repurchase_week': 10, 'num_cooc_week': 12, 'num_train_weeks': 4, 'volume_week': 3, 'cooc_prob': 0.03943895026941813, 'transaction_dynamic_week': 5}. Best is trial 0 with value: 0.029444172949849443.\u001b[0m\n"
     ]
    },
    {
     "name": "stdout",
     "output_type": "stream",
     "text": [
      "0:\ttest: 0.2457263\tbest: 0.2457263 (0)\ttotal: 605ms\tremaining: 10m 3s\n",
      "100:\ttest: 0.4035967\tbest: 0.4035967 (100)\ttotal: 58.1s\tremaining: 8m 37s\n",
      "200:\ttest: 0.4158477\tbest: 0.4158477 (200)\ttotal: 1m 55s\tremaining: 7m 38s\n",
      "300:\ttest: 0.4228923\tbest: 0.4228923 (300)\ttotal: 2m 52s\tremaining: 6m 40s\n",
      "400:\ttest: 0.4249433\tbest: 0.4249433 (400)\ttotal: 3m 49s\tremaining: 5m 42s\n",
      "500:\ttest: 0.4269385\tbest: 0.4269385 (500)\ttotal: 4m 45s\tremaining: 4m 44s\n",
      "600:\ttest: 0.4284925\tbest: 0.4284925 (600)\ttotal: 5m 42s\tremaining: 3m 47s\n",
      "700:\ttest: 0.4292666\tbest: 0.4292666 (700)\ttotal: 6m 38s\tremaining: 2m 50s\n",
      "800:\ttest: 0.4310291\tbest: 0.4310291 (800)\ttotal: 7m 35s\tremaining: 1m 53s\n",
      "900:\ttest: 0.4314078\tbest: 0.4314078 (900)\ttotal: 8m 31s\tremaining: 56.2s\n",
      "999:\ttest: 0.4313424\tbest: 0.4314078 (900)\ttotal: 9m 27s\tremaining: 0us\n",
      "\n",
      "bestTest = 0.4314078227\n",
      "bestIteration = 900\n",
      "\n",
      "Shrink model to first 901 iterations.\n"
     ]
    },
    {
     "name": "stderr",
     "output_type": "stream",
     "text": [
      "\u001b[32m[I 2022-04-07 01:28:26,802]\u001b[0m Trial 3 finished with value: 0.02986944115002603 and parameters: {'num_popular_items': 15, 'num_repurchase_week': 16, 'num_cooc_week': 10, 'num_train_weeks': 1, 'volume_week': 1, 'cooc_prob': 0.03100612579190866, 'transaction_dynamic_week': 8}. Best is trial 3 with value: 0.02986944115002603.\u001b[0m\n"
     ]
    },
    {
     "name": "stdout",
     "output_type": "stream",
     "text": [
      "0:\ttest: 0.2525796\tbest: 0.2525796 (0)\ttotal: 182ms\tremaining: 3m 1s\n",
      "100:\ttest: 0.3807970\tbest: 0.3807970 (100)\ttotal: 17.8s\tremaining: 2m 38s\n",
      "200:\ttest: 0.3886469\tbest: 0.3886469 (200)\ttotal: 35.1s\tremaining: 2m 19s\n",
      "300:\ttest: 0.3922556\tbest: 0.3922556 (300)\ttotal: 52.1s\tremaining: 2m 1s\n",
      "400:\ttest: 0.3938692\tbest: 0.3938692 (400)\ttotal: 1m 8s\tremaining: 1m 42s\n",
      "500:\ttest: 0.3933559\tbest: 0.3938692 (400)\ttotal: 1m 25s\tremaining: 1m 25s\n",
      "600:\ttest: 0.3940745\tbest: 0.3940745 (600)\ttotal: 1m 42s\tremaining: 1m 7s\n",
      "700:\ttest: 0.3942244\tbest: 0.3942244 (700)\ttotal: 1m 58s\tremaining: 50.7s\n",
      "800:\ttest: 0.3936404\tbest: 0.3942244 (700)\ttotal: 2m 15s\tremaining: 33.7s\n",
      "900:\ttest: 0.3940112\tbest: 0.3942244 (700)\ttotal: 2m 31s\tremaining: 16.7s\n",
      "999:\ttest: 0.3944845\tbest: 0.3944845 (999)\ttotal: 2m 48s\tremaining: 0us\n",
      "\n",
      "bestTest = 0.3944845428\n",
      "bestIteration = 999\n",
      "\n"
     ]
    },
    {
     "name": "stderr",
     "output_type": "stream",
     "text": [
      "\u001b[32m[I 2022-04-07 01:33:05,401]\u001b[0m Trial 4 finished with value: 0.028816267818454644 and parameters: {'num_popular_items': 33, 'num_repurchase_week': 4, 'num_cooc_week': 6, 'num_train_weeks': 1, 'volume_week': 1, 'cooc_prob': 0.04000080683905029, 'transaction_dynamic_week': 6}. Best is trial 3 with value: 0.02986944115002603.\u001b[0m\n"
     ]
    },
    {
     "name": "stdout",
     "output_type": "stream",
     "text": [
      "0:\ttest: 0.1900122\tbest: 0.1900122 (0)\ttotal: 199ms\tremaining: 3m 18s\n",
      "100:\ttest: 0.3680095\tbest: 0.3680095 (100)\ttotal: 19.8s\tremaining: 2m 56s\n",
      "200:\ttest: 0.3746971\tbest: 0.3746971 (200)\ttotal: 39.3s\tremaining: 2m 36s\n",
      "300:\ttest: 0.3769795\tbest: 0.3769795 (300)\ttotal: 58.3s\tremaining: 2m 15s\n",
      "400:\ttest: 0.3786773\tbest: 0.3786773 (400)\ttotal: 1m 17s\tremaining: 1m 55s\n",
      "500:\ttest: 0.3793326\tbest: 0.3793326 (500)\ttotal: 1m 36s\tremaining: 1m 35s\n",
      "600:\ttest: 0.3803071\tbest: 0.3803071 (600)\ttotal: 1m 55s\tremaining: 1m 16s\n",
      "700:\ttest: 0.3804476\tbest: 0.3804476 (700)\ttotal: 2m 13s\tremaining: 57s\n",
      "800:\ttest: 0.3802907\tbest: 0.3804476 (700)\ttotal: 2m 32s\tremaining: 37.8s\n",
      "900:\ttest: 0.3801773\tbest: 0.3804476 (700)\ttotal: 2m 50s\tremaining: 18.8s\n",
      "999:\ttest: 0.3805422\tbest: 0.3805422 (999)\ttotal: 3m 9s\tremaining: 0us\n",
      "\n",
      "bestTest = 0.3805422156\n",
      "bestIteration = 999\n",
      "\n"
     ]
    },
    {
     "name": "stderr",
     "output_type": "stream",
     "text": [
      "\u001b[32m[I 2022-04-07 01:38:07,945]\u001b[0m Trial 5 finished with value: 0.028683470665972967 and parameters: {'num_popular_items': 36, 'num_repurchase_week': 4, 'num_cooc_week': 13, 'num_train_weeks': 1, 'volume_week': 3, 'cooc_prob': 0.02528003903243234, 'transaction_dynamic_week': 8}. Best is trial 3 with value: 0.02986944115002603.\u001b[0m\n"
     ]
    },
    {
     "name": "stdout",
     "output_type": "stream",
     "text": [
      "0:\ttest: 0.1924171\tbest: 0.1924171 (0)\ttotal: 1.24s\tremaining: 20m 42s\n",
      "100:\ttest: 0.3476412\tbest: 0.3476412 (100)\ttotal: 2m 7s\tremaining: 18m 54s\n",
      "200:\ttest: 0.3546984\tbest: 0.3546984 (200)\ttotal: 4m 12s\tremaining: 16m 42s\n",
      "300:\ttest: 0.3568606\tbest: 0.3568606 (300)\ttotal: 6m 15s\tremaining: 14m 31s\n",
      "400:\ttest: 0.3579293\tbest: 0.3579293 (400)\ttotal: 8m 18s\tremaining: 12m 24s\n",
      "500:\ttest: 0.3598714\tbest: 0.3598714 (500)\ttotal: 10m 20s\tremaining: 10m 18s\n",
      "600:\ttest: 0.3606759\tbest: 0.3606759 (600)\ttotal: 12m 23s\tremaining: 8m 13s\n",
      "700:\ttest: 0.3609397\tbest: 0.3609397 (700)\ttotal: 14m 24s\tremaining: 6m 8s\n",
      "800:\ttest: 0.3605842\tbest: 0.3609397 (700)\ttotal: 16m 27s\tremaining: 4m 5s\n",
      "900:\ttest: 0.3607279\tbest: 0.3609397 (700)\ttotal: 18m 29s\tremaining: 2m 1s\n",
      "999:\ttest: 0.3603541\tbest: 0.3609397 (700)\ttotal: 20m 29s\tremaining: 0us\n",
      "\n",
      "bestTest = 0.360939702\n",
      "bestIteration = 700\n",
      "\n",
      "Shrink model to first 701 iterations.\n"
     ]
    },
    {
     "name": "stderr",
     "output_type": "stream",
     "text": [
      "\u001b[32m[I 2022-04-07 02:01:55,116]\u001b[0m Trial 6 finished with value: 0.02967770782613019 and parameters: {'num_popular_items': 32, 'num_repurchase_week': 15, 'num_cooc_week': 13, 'num_train_weeks': 2, 'volume_week': 3, 'cooc_prob': 0.03588519536883169, 'transaction_dynamic_week': 1}. Best is trial 3 with value: 0.02986944115002603.\u001b[0m\n"
     ]
    },
    {
     "name": "stdout",
     "output_type": "stream",
     "text": [
      "0:\ttest: 0.2265963\tbest: 0.2265963 (0)\ttotal: 1.03s\tremaining: 17m 6s\n",
      "100:\ttest: 0.3629371\tbest: 0.3629371 (100)\ttotal: 1m 40s\tremaining: 14m 57s\n",
      "200:\ttest: 0.3727155\tbest: 0.3727155 (200)\ttotal: 3m 19s\tremaining: 13m 14s\n",
      "300:\ttest: 0.3773442\tbest: 0.3773442 (300)\ttotal: 4m 57s\tremaining: 11m 30s\n",
      "400:\ttest: 0.3797321\tbest: 0.3797321 (400)\ttotal: 6m 34s\tremaining: 9m 49s\n",
      "500:\ttest: 0.3822482\tbest: 0.3822482 (500)\ttotal: 8m 11s\tremaining: 8m 9s\n",
      "600:\ttest: 0.3842750\tbest: 0.3842750 (600)\ttotal: 9m 48s\tremaining: 6m 30s\n",
      "700:\ttest: 0.3864155\tbest: 0.3864155 (700)\ttotal: 11m 25s\tremaining: 4m 52s\n",
      "800:\ttest: 0.3879945\tbest: 0.3879945 (800)\ttotal: 13m 2s\tremaining: 3m 14s\n",
      "900:\ttest: 0.3887559\tbest: 0.3887559 (900)\ttotal: 14m 38s\tremaining: 1m 36s\n",
      "999:\ttest: 0.3889275\tbest: 0.3889275 (999)\ttotal: 16m 14s\tremaining: 0us\n",
      "\n",
      "bestTest = 0.3889274903\n",
      "bestIteration = 999\n",
      "\n"
     ]
    },
    {
     "name": "stderr",
     "output_type": "stream",
     "text": [
      "\u001b[32m[I 2022-04-07 02:21:28,275]\u001b[0m Trial 7 finished with value: 0.02914594387551869 and parameters: {'num_popular_items': 26, 'num_repurchase_week': 9, 'num_cooc_week': 4, 'num_train_weeks': 3, 'volume_week': 1, 'cooc_prob': 0.03536648054161582, 'transaction_dynamic_week': 1}. Best is trial 3 with value: 0.02986944115002603.\u001b[0m\n"
     ]
    },
    {
     "name": "stdout",
     "output_type": "stream",
     "text": [
      "0:\ttest: 0.2731744\tbest: 0.2731744 (0)\ttotal: 1.86s\tremaining: 31m 4s\n",
      "100:\ttest: 0.4077090\tbest: 0.4077090 (100)\ttotal: 3m 5s\tremaining: 27m 27s\n",
      "200:\ttest: 0.4162890\tbest: 0.4162890 (200)\ttotal: 6m 7s\tremaining: 24m 22s\n",
      "300:\ttest: 0.4237864\tbest: 0.4237864 (300)\ttotal: 9m 10s\tremaining: 21m 18s\n",
      "400:\ttest: 0.4275986\tbest: 0.4275986 (400)\ttotal: 12m 11s\tremaining: 18m 13s\n",
      "500:\ttest: 0.4302895\tbest: 0.4302895 (500)\ttotal: 15m 12s\tremaining: 15m 9s\n",
      "600:\ttest: 0.4314310\tbest: 0.4314310 (600)\ttotal: 18m 13s\tremaining: 12m 5s\n",
      "700:\ttest: 0.4328114\tbest: 0.4328114 (700)\ttotal: 21m 13s\tremaining: 9m 3s\n",
      "800:\ttest: 0.4331188\tbest: 0.4331188 (800)\ttotal: 24m 14s\tremaining: 6m 1s\n",
      "900:\ttest: 0.4342085\tbest: 0.4342085 (900)\ttotal: 27m 14s\tremaining: 2m 59s\n",
      "999:\ttest: 0.4346414\tbest: 0.4346414 (999)\ttotal: 30m 13s\tremaining: 0us\n",
      "\n",
      "bestTest = 0.4346414373\n",
      "bestIteration = 999\n",
      "\n"
     ]
    },
    {
     "name": "stderr",
     "output_type": "stream",
     "text": [
      "\u001b[32m[I 2022-04-07 02:55:30,484]\u001b[0m Trial 8 finished with value: 0.029381212039641006 and parameters: {'num_popular_items': 13, 'num_repurchase_week': 13, 'num_cooc_week': 7, 'num_train_weeks': 3, 'volume_week': 1, 'cooc_prob': 0.027334140092839188, 'transaction_dynamic_week': 7}. Best is trial 3 with value: 0.02986944115002603.\u001b[0m\n"
     ]
    },
    {
     "name": "stdout",
     "output_type": "stream",
     "text": [
      "0:\ttest: 0.2310387\tbest: 0.2310387 (0)\ttotal: 368ms\tremaining: 6m 7s\n",
      "100:\ttest: 0.3784456\tbest: 0.3784456 (100)\ttotal: 36s\tremaining: 5m 20s\n",
      "200:\ttest: 0.3868000\tbest: 0.3868000 (200)\ttotal: 1m 10s\tremaining: 4m 41s\n",
      "300:\ttest: 0.3894026\tbest: 0.3894026 (300)\ttotal: 1m 44s\tremaining: 4m 3s\n",
      "400:\ttest: 0.3893398\tbest: 0.3894026 (300)\ttotal: 2m 18s\tremaining: 3m 26s\n",
      "500:\ttest: 0.3908509\tbest: 0.3908509 (500)\ttotal: 2m 52s\tremaining: 2m 51s\n",
      "600:\ttest: 0.3925738\tbest: 0.3925738 (600)\ttotal: 3m 26s\tremaining: 2m 16s\n",
      "700:\ttest: 0.3922087\tbest: 0.3925738 (600)\ttotal: 3m 59s\tremaining: 1m 42s\n",
      "800:\ttest: 0.3925814\tbest: 0.3925814 (800)\ttotal: 4m 32s\tremaining: 1m 7s\n",
      "900:\ttest: 0.3929374\tbest: 0.3929374 (900)\ttotal: 5m 6s\tremaining: 33.7s\n",
      "999:\ttest: 0.3926030\tbest: 0.3929374 (900)\ttotal: 5m 39s\tremaining: 0us\n",
      "\n",
      "bestTest = 0.3929373688\n",
      "bestIteration = 900\n",
      "\n",
      "Shrink model to first 901 iterations.\n"
     ]
    },
    {
     "name": "stderr",
     "output_type": "stream",
     "text": [
      "\u001b[32m[I 2022-04-07 03:03:32,225]\u001b[0m Trial 9 finished with value: 0.028298802448229722 and parameters: {'num_popular_items': 32, 'num_repurchase_week': 5, 'num_cooc_week': 8, 'num_train_weeks': 2, 'volume_week': 4, 'cooc_prob': 0.041655343184466634, 'transaction_dynamic_week': 2}. Best is trial 3 with value: 0.02986944115002603.\u001b[0m\n"
     ]
    },
    {
     "name": "stdout",
     "output_type": "stream",
     "text": [
      "0:\ttest: 0.2325083\tbest: 0.2325083 (0)\ttotal: 4.24s\tremaining: 1h 10m 40s\n",
      "100:\ttest: 0.3770442\tbest: 0.3770442 (100)\ttotal: 6m 59s\tremaining: 1h 2m 13s\n",
      "200:\ttest: 0.3876302\tbest: 0.3876302 (200)\ttotal: 13m 54s\tremaining: 55m 17s\n",
      "300:\ttest: 0.3912278\tbest: 0.3912278 (300)\ttotal: 20m 45s\tremaining: 48m 13s\n",
      "400:\ttest: 0.3941816\tbest: 0.3941816 (400)\ttotal: 27m 34s\tremaining: 41m 11s\n",
      "500:\ttest: 0.3954273\tbest: 0.3954273 (500)\ttotal: 34m 22s\tremaining: 34m 14s\n",
      "600:\ttest: 0.3971563\tbest: 0.3971563 (600)\ttotal: 41m 10s\tremaining: 27m 19s\n",
      "700:\ttest: 0.3971898\tbest: 0.3971898 (700)\ttotal: 47m 57s\tremaining: 20m 27s\n",
      "800:\ttest: 0.3983673\tbest: 0.3983673 (800)\ttotal: 54m 47s\tremaining: 13m 36s\n",
      "900:\ttest: 0.3982721\tbest: 0.3983673 (800)\ttotal: 1h 1m 35s\tremaining: 6m 46s\n",
      "999:\ttest: 0.3987666\tbest: 0.3987666 (999)\ttotal: 1h 8m 21s\tremaining: 0us\n",
      "\n",
      "bestTest = 0.3987665618\n",
      "bestIteration = 999\n",
      "\n"
     ]
    },
    {
     "name": "stderr",
     "output_type": "stream",
     "text": [
      "\u001b[32m[I 2022-04-07 04:17:06,903]\u001b[0m Trial 10 finished with value: 0.029794228446014204 and parameters: {'num_popular_items': 20, 'num_repurchase_week': 16, 'num_cooc_week': 16, 'num_train_weeks': 4, 'volume_week': 2, 'cooc_prob': 0.021658593092099398, 'transaction_dynamic_week': 3}. Best is trial 3 with value: 0.02986944115002603.\u001b[0m\n"
     ]
    },
    {
     "name": "stdout",
     "output_type": "stream",
     "text": [
      "0:\ttest: 0.2225407\tbest: 0.2225407 (0)\ttotal: 4.68s\tremaining: 1h 17m 54s\n",
      "100:\ttest: 0.3736138\tbest: 0.3736138 (100)\ttotal: 7m 40s\tremaining: 1h 8m 16s\n",
      "200:\ttest: 0.3850575\tbest: 0.3850575 (200)\ttotal: 15m 15s\tremaining: 1h 37s\n",
      "300:\ttest: 0.3901616\tbest: 0.3901616 (300)\ttotal: 22m 47s\tremaining: 52m 55s\n",
      "400:\ttest: 0.3914496\tbest: 0.3914496 (400)\ttotal: 30m 19s\tremaining: 45m 17s\n",
      "500:\ttest: 0.3942445\tbest: 0.3942445 (500)\ttotal: 37m 52s\tremaining: 37m 43s\n",
      "600:\ttest: 0.3957959\tbest: 0.3957959 (600)\ttotal: 45m 25s\tremaining: 30m 9s\n",
      "700:\ttest: 0.3972932\tbest: 0.3972932 (700)\ttotal: 52m 57s\tremaining: 22m 35s\n",
      "800:\ttest: 0.3977174\tbest: 0.3977174 (800)\ttotal: 1h 27s\tremaining: 15m 1s\n",
      "900:\ttest: 0.3985300\tbest: 0.3985300 (900)\ttotal: 1h 7m 59s\tremaining: 7m 28s\n",
      "999:\ttest: 0.3995199\tbest: 0.3995199 (999)\ttotal: 1h 15m 24s\tremaining: 0us\n",
      "\n",
      "bestTest = 0.3995199202\n",
      "bestIteration = 999\n",
      "\n"
     ]
    },
    {
     "name": "stderr",
     "output_type": "stream",
     "text": [
      "\u001b[32m[I 2022-04-07 05:37:49,794]\u001b[0m Trial 11 finished with value: 0.029808838857595197 and parameters: {'num_popular_items': 20, 'num_repurchase_week': 16, 'num_cooc_week': 16, 'num_train_weeks': 4, 'volume_week': 2, 'cooc_prob': 0.020388558377802547, 'transaction_dynamic_week': 3}. Best is trial 3 with value: 0.02986944115002603.\u001b[0m\n"
     ]
    },
    {
     "name": "stdout",
     "output_type": "stream",
     "text": [
      "0:\ttest: 0.2325867\tbest: 0.2325867 (0)\ttotal: 1.88s\tremaining: 31m 16s\n",
      "100:\ttest: 0.3742095\tbest: 0.3742095 (100)\ttotal: 3m 6s\tremaining: 27m 44s\n",
      "200:\ttest: 0.3881294\tbest: 0.3881294 (200)\ttotal: 6m 11s\tremaining: 24m 37s\n",
      "300:\ttest: 0.3915781\tbest: 0.3915781 (300)\ttotal: 9m 14s\tremaining: 21m 28s\n",
      "400:\ttest: 0.3941195\tbest: 0.3941195 (400)\ttotal: 12m 17s\tremaining: 18m 21s\n",
      "500:\ttest: 0.3962135\tbest: 0.3962135 (500)\ttotal: 15m 18s\tremaining: 15m 15s\n",
      "600:\ttest: 0.3980493\tbest: 0.3980493 (600)\ttotal: 18m 20s\tremaining: 12m 10s\n",
      "700:\ttest: 0.3985686\tbest: 0.3985686 (700)\ttotal: 21m 21s\tremaining: 9m 6s\n",
      "800:\ttest: 0.3994786\tbest: 0.3994786 (800)\ttotal: 24m 23s\tremaining: 6m 3s\n",
      "900:\ttest: 0.3995298\tbest: 0.3995298 (900)\ttotal: 27m 24s\tremaining: 3m\n",
      "999:\ttest: 0.3999689\tbest: 0.3999689 (999)\ttotal: 30m 22s\tremaining: 0us\n",
      "\n",
      "bestTest = 0.399968907\n",
      "bestIteration = 999\n",
      "\n"
     ]
    },
    {
     "name": "stderr",
     "output_type": "stream",
     "text": [
      "\u001b[32m[I 2022-04-07 06:12:06,720]\u001b[0m Trial 12 finished with value: 0.029393769192592924 and parameters: {'num_popular_items': 22, 'num_repurchase_week': 14, 'num_cooc_week': 16, 'num_train_weeks': 3, 'volume_week': 2, 'cooc_prob': 0.02940228711200176, 'transaction_dynamic_week': 3}. Best is trial 3 with value: 0.02986944115002603.\u001b[0m\n"
     ]
    },
    {
     "name": "stdout",
     "output_type": "stream",
     "text": [
      "0:\ttest: 0.2574587\tbest: 0.2574587 (0)\ttotal: 4.63s\tremaining: 1h 17m 9s\n",
      "100:\ttest: 0.3757591\tbest: 0.3757591 (100)\ttotal: 7m 50s\tremaining: 1h 9m 47s\n",
      "200:\ttest: 0.3859885\tbest: 0.3859885 (200)\ttotal: 15m 36s\tremaining: 1h 2m 3s\n",
      "300:\ttest: 0.3904365\tbest: 0.3904365 (300)\ttotal: 23m 18s\tremaining: 54m 7s\n",
      "400:\ttest: 0.3939077\tbest: 0.3939077 (400)\ttotal: 30m 57s\tremaining: 46m 15s\n",
      "500:\ttest: 0.3960828\tbest: 0.3960828 (500)\ttotal: 38m 36s\tremaining: 38m 27s\n",
      "600:\ttest: 0.3973268\tbest: 0.3973268 (600)\ttotal: 46m 15s\tremaining: 30m 42s\n",
      "700:\ttest: 0.3978068\tbest: 0.3978068 (700)\ttotal: 53m 52s\tremaining: 22m 58s\n",
      "800:\ttest: 0.3988830\tbest: 0.3988830 (800)\ttotal: 1h 1m 30s\tremaining: 15m 16s\n",
      "900:\ttest: 0.3997733\tbest: 0.3997733 (900)\ttotal: 1h 9m 7s\tremaining: 7m 35s\n",
      "999:\ttest: 0.3994782\tbest: 0.3997733 (900)\ttotal: 1h 16m 36s\tremaining: 0us\n",
      "\n",
      "bestTest = 0.3997732956\n",
      "bestIteration = 900\n",
      "\n",
      "Shrink model to first 901 iterations.\n"
     ]
    },
    {
     "name": "stderr",
     "output_type": "stream",
     "text": [
      "\u001b[32m[I 2022-04-07 07:34:00,608]\u001b[0m Trial 13 finished with value: 0.02963632140236898 and parameters: {'num_popular_items': 17, 'num_repurchase_week': 16, 'num_cooc_week': 10, 'num_train_weeks': 4, 'volume_week': 2, 'cooc_prob': 0.020354224184474058, 'transaction_dynamic_week': 3}. Best is trial 3 with value: 0.02986944115002603.\u001b[0m\n"
     ]
    },
    {
     "name": "stdout",
     "output_type": "stream",
     "text": [
      "0:\ttest: 0.2431767\tbest: 0.2431767 (0)\ttotal: 968ms\tremaining: 16m 7s\n",
      "100:\ttest: 0.4052330\tbest: 0.4052330 (100)\ttotal: 1m 36s\tremaining: 14m 22s\n",
      "200:\ttest: 0.4184214\tbest: 0.4184214 (200)\ttotal: 3m 12s\tremaining: 12m 46s\n",
      "300:\ttest: 0.4226863\tbest: 0.4226863 (300)\ttotal: 4m 47s\tremaining: 11m 8s\n",
      "400:\ttest: 0.4259465\tbest: 0.4259465 (400)\ttotal: 6m 22s\tremaining: 9m 30s\n",
      "500:\ttest: 0.4273889\tbest: 0.4273889 (500)\ttotal: 7m 56s\tremaining: 7m 54s\n",
      "600:\ttest: 0.4293567\tbest: 0.4293567 (600)\ttotal: 9m 30s\tremaining: 6m 18s\n",
      "700:\ttest: 0.4303189\tbest: 0.4303189 (700)\ttotal: 11m 4s\tremaining: 4m 43s\n",
      "800:\ttest: 0.4304783\tbest: 0.4304783 (800)\ttotal: 12m 37s\tremaining: 3m 8s\n",
      "900:\ttest: 0.4315052\tbest: 0.4315052 (900)\ttotal: 14m 11s\tremaining: 1m 33s\n",
      "999:\ttest: 0.4317869\tbest: 0.4317869 (999)\ttotal: 15m 44s\tremaining: 0us\n",
      "\n",
      "bestTest = 0.4317868521\n",
      "bestIteration = 999\n",
      "\n"
     ]
    },
    {
     "name": "stderr",
     "output_type": "stream",
     "text": [
      "\u001b[32m[I 2022-04-07 07:52:42,598]\u001b[0m Trial 14 finished with value: 0.030083009807994422 and parameters: {'num_popular_items': 18, 'num_repurchase_week': 13, 'num_cooc_week': 11, 'num_train_weeks': 2, 'volume_week': 1, 'cooc_prob': 0.031042764276297968, 'transaction_dynamic_week': 8}. Best is trial 14 with value: 0.030083009807994422.\u001b[0m\n"
     ]
    },
    {
     "name": "stdout",
     "output_type": "stream",
     "text": [
      "0:\ttest: 0.2453091\tbest: 0.2453091 (0)\ttotal: 392ms\tremaining: 6m 31s\n",
      "100:\ttest: 0.4126971\tbest: 0.4126971 (100)\ttotal: 39.4s\tremaining: 5m 50s\n",
      "200:\ttest: 0.4213402\tbest: 0.4213402 (200)\ttotal: 1m 18s\tremaining: 5m 10s\n",
      "300:\ttest: 0.4285117\tbest: 0.4285117 (300)\ttotal: 1m 56s\tremaining: 4m 31s\n",
      "400:\ttest: 0.4314553\tbest: 0.4314553 (400)\ttotal: 2m 35s\tremaining: 3m 52s\n",
      "500:\ttest: 0.4337128\tbest: 0.4337128 (500)\ttotal: 3m 13s\tremaining: 3m 12s\n",
      "600:\ttest: 0.4347853\tbest: 0.4347853 (600)\ttotal: 3m 51s\tremaining: 2m 34s\n",
      "700:\ttest: 0.4362314\tbest: 0.4362314 (700)\ttotal: 4m 30s\tremaining: 1m 55s\n",
      "800:\ttest: 0.4367094\tbest: 0.4367094 (800)\ttotal: 5m 8s\tremaining: 1m 16s\n",
      "900:\ttest: 0.4377459\tbest: 0.4377459 (900)\ttotal: 5m 46s\tremaining: 38.1s\n",
      "999:\ttest: 0.4383576\tbest: 0.4383576 (999)\ttotal: 6m 24s\tremaining: 0us\n",
      "\n",
      "bestTest = 0.4383575994\n",
      "bestIteration = 999\n",
      "\n"
     ]
    },
    {
     "name": "stderr",
     "output_type": "stream",
     "text": [
      "\u001b[32m[I 2022-04-07 08:01:20,852]\u001b[0m Trial 15 finished with value: 0.029334459885212674 and parameters: {'num_popular_items': 16, 'num_repurchase_week': 13, 'num_cooc_week': 11, 'num_train_weeks': 1, 'volume_week': 1, 'cooc_prob': 0.0311266943052536, 'transaction_dynamic_week': 8}. Best is trial 14 with value: 0.030083009807994422.\u001b[0m\n"
     ]
    },
    {
     "name": "stdout",
     "output_type": "stream",
     "text": [
      "0:\ttest: 0.3025473\tbest: 0.3025473 (0)\ttotal: 330ms\tremaining: 5m 30s\n",
      "100:\ttest: 0.4707326\tbest: 0.4707326 (100)\ttotal: 33.2s\tremaining: 4m 55s\n",
      "200:\ttest: 0.4803266\tbest: 0.4803266 (200)\ttotal: 1m 6s\tremaining: 4m 22s\n",
      "300:\ttest: 0.4843394\tbest: 0.4843394 (300)\ttotal: 1m 38s\tremaining: 3m 48s\n",
      "400:\ttest: 0.4860470\tbest: 0.4860470 (400)\ttotal: 2m 10s\tremaining: 3m 14s\n",
      "500:\ttest: 0.4886258\tbest: 0.4886258 (500)\ttotal: 2m 42s\tremaining: 2m 41s\n",
      "600:\ttest: 0.4903293\tbest: 0.4903293 (600)\ttotal: 3m 13s\tremaining: 2m 8s\n",
      "700:\ttest: 0.4918043\tbest: 0.4918043 (700)\ttotal: 3m 45s\tremaining: 1m 36s\n",
      "800:\ttest: 0.4928767\tbest: 0.4928767 (800)\ttotal: 4m 17s\tremaining: 1m 3s\n",
      "900:\ttest: 0.4914641\tbest: 0.4928767 (800)\ttotal: 4m 48s\tremaining: 31.8s\n",
      "999:\ttest: 0.4916948\tbest: 0.4928767 (800)\ttotal: 5m 20s\tremaining: 0us\n",
      "\n",
      "bestTest = 0.4928767334\n",
      "bestIteration = 800\n",
      "\n",
      "Shrink model to first 801 iterations.\n"
     ]
    },
    {
     "name": "stderr",
     "output_type": "stream",
     "text": [
      "\u001b[32m[I 2022-04-07 08:09:00,922]\u001b[0m Trial 16 finished with value: 0.028282209247603718 and parameters: {'num_popular_items': 12, 'num_repurchase_week': 7, 'num_cooc_week': 9, 'num_train_weeks': 2, 'volume_week': 1, 'cooc_prob': 0.031899177921659354, 'transaction_dynamic_week': 7}. Best is trial 14 with value: 0.030083009807994422.\u001b[0m\n"
     ]
    },
    {
     "name": "stdout",
     "output_type": "stream",
     "text": [
      "0:\ttest: 0.1723184\tbest: 0.1723184 (0)\ttotal: 614ms\tremaining: 10m 13s\n",
      "100:\ttest: 0.3701563\tbest: 0.3701563 (100)\ttotal: 58.9s\tremaining: 8m 44s\n",
      "200:\ttest: 0.3792692\tbest: 0.3792692 (200)\ttotal: 1m 57s\tremaining: 7m 45s\n",
      "300:\ttest: 0.3864579\tbest: 0.3864579 (300)\ttotal: 2m 54s\tremaining: 6m 45s\n",
      "400:\ttest: 0.3883170\tbest: 0.3883170 (400)\ttotal: 3m 52s\tremaining: 5m 46s\n",
      "500:\ttest: 0.3893513\tbest: 0.3893513 (500)\ttotal: 4m 49s\tremaining: 4m 48s\n",
      "600:\ttest: 0.3901299\tbest: 0.3901299 (600)\ttotal: 5m 46s\tremaining: 3m 50s\n",
      "700:\ttest: 0.3899104\tbest: 0.3901299 (600)\ttotal: 6m 43s\tremaining: 2m 52s\n",
      "800:\ttest: 0.3909710\tbest: 0.3909710 (800)\ttotal: 7m 40s\tremaining: 1m 54s\n",
      "900:\ttest: 0.3914891\tbest: 0.3914891 (900)\ttotal: 8m 37s\tremaining: 56.9s\n",
      "999:\ttest: 0.3920714\tbest: 0.3920714 (999)\ttotal: 9m 33s\tremaining: 0us\n",
      "\n",
      "bestTest = 0.392071374\n",
      "bestIteration = 999\n",
      "\n"
     ]
    },
    {
     "name": "stderr",
     "output_type": "stream",
     "text": [
      "\u001b[32m[I 2022-04-07 08:21:02,339]\u001b[0m Trial 17 finished with value: 0.029634138868290208 and parameters: {'num_popular_items': 24, 'num_repurchase_week': 13, 'num_cooc_week': 14, 'num_train_weeks': 1, 'volume_week': 4, 'cooc_prob': 0.02554311877947319, 'transaction_dynamic_week': 7}. Best is trial 14 with value: 0.030083009807994422.\u001b[0m\n"
     ]
    },
    {
     "name": "stdout",
     "output_type": "stream",
     "text": [
      "0:\ttest: 0.2414399\tbest: 0.2414399 (0)\ttotal: 1.04s\tremaining: 17m 19s\n",
      "100:\ttest: 0.3955848\tbest: 0.3955848 (100)\ttotal: 1m 44s\tremaining: 15m 31s\n",
      "200:\ttest: 0.4077146\tbest: 0.4077146 (200)\ttotal: 3m 28s\tremaining: 13m 48s\n",
      "300:\ttest: 0.4139685\tbest: 0.4139685 (300)\ttotal: 5m 10s\tremaining: 12m 1s\n",
      "400:\ttest: 0.4171348\tbest: 0.4171348 (400)\ttotal: 6m 52s\tremaining: 10m 16s\n",
      "500:\ttest: 0.4174154\tbest: 0.4174154 (500)\ttotal: 8m 34s\tremaining: 8m 32s\n",
      "600:\ttest: 0.4197899\tbest: 0.4197899 (600)\ttotal: 10m 16s\tremaining: 6m 49s\n",
      "700:\ttest: 0.4204863\tbest: 0.4204863 (700)\ttotal: 11m 58s\tremaining: 5m 6s\n",
      "800:\ttest: 0.4198710\tbest: 0.4204863 (700)\ttotal: 13m 39s\tremaining: 3m 23s\n",
      "900:\ttest: 0.4201591\tbest: 0.4204863 (700)\ttotal: 15m 20s\tremaining: 1m 41s\n",
      "999:\ttest: 0.4200467\tbest: 0.4204863 (700)\ttotal: 17m\tremaining: 0us\n",
      "\n",
      "bestTest = 0.4204862894\n",
      "bestIteration = 700\n",
      "\n",
      "Shrink model to first 701 iterations.\n"
     ]
    },
    {
     "name": "stderr",
     "output_type": "stream",
     "text": [
      "\u001b[32m[I 2022-04-07 08:41:02,497]\u001b[0m Trial 18 finished with value: 0.03002484272518845 and parameters: {'num_popular_items': 19, 'num_repurchase_week': 14, 'num_cooc_week': 11, 'num_train_weeks': 2, 'volume_week': 1, 'cooc_prob': 0.03215222950232132, 'transaction_dynamic_week': 8}. Best is trial 14 with value: 0.030083009807994422.\u001b[0m\n"
     ]
    },
    {
     "name": "stdout",
     "output_type": "stream",
     "text": [
      "0:\ttest: 0.2585008\tbest: 0.2585008 (0)\ttotal: 639ms\tremaining: 10m 38s\n",
      "100:\ttest: 0.4076676\tbest: 0.4076676 (100)\ttotal: 1m 4s\tremaining: 9m 35s\n",
      "200:\ttest: 0.4153827\tbest: 0.4153827 (200)\ttotal: 2m 8s\tremaining: 8m 31s\n",
      "300:\ttest: 0.4208976\tbest: 0.4208976 (300)\ttotal: 3m 11s\tremaining: 7m 25s\n",
      "400:\ttest: 0.4226175\tbest: 0.4226175 (400)\ttotal: 4m 14s\tremaining: 6m 20s\n",
      "500:\ttest: 0.4248183\tbest: 0.4248183 (500)\ttotal: 5m 17s\tremaining: 5m 16s\n",
      "600:\ttest: 0.4255636\tbest: 0.4255636 (600)\ttotal: 6m 20s\tremaining: 4m 12s\n",
      "700:\ttest: 0.4264324\tbest: 0.4264324 (700)\ttotal: 7m 22s\tremaining: 3m 8s\n",
      "800:\ttest: 0.4267083\tbest: 0.4267083 (800)\ttotal: 8m 25s\tremaining: 2m 5s\n",
      "900:\ttest: 0.4272182\tbest: 0.4272182 (900)\ttotal: 9m 27s\tremaining: 1m 2s\n",
      "999:\ttest: 0.4275634\tbest: 0.4275634 (999)\ttotal: 10m 29s\tremaining: 0us\n",
      "\n",
      "bestTest = 0.4275633682\n",
      "bestIteration = 999\n",
      "\n"
     ]
    },
    {
     "name": "stderr",
     "output_type": "stream",
     "text": [
      "\u001b[32m[I 2022-04-07 08:54:11,552]\u001b[0m Trial 19 finished with value: 0.029511126821920867 and parameters: {'num_popular_items': 19, 'num_repurchase_week': 11, 'num_cooc_week': 8, 'num_train_weeks': 2, 'volume_week': 2, 'cooc_prob': 0.044480034801794285, 'transaction_dynamic_week': 6}. Best is trial 14 with value: 0.030083009807994422.\u001b[0m\n"
     ]
    },
    {
     "name": "stdout",
     "output_type": "stream",
     "text": [
      "0:\ttest: 0.2222003\tbest: 0.2222003 (0)\ttotal: 1.7s\tremaining: 28m 22s\n",
      "100:\ttest: 0.3593307\tbest: 0.3593307 (100)\ttotal: 2m 45s\tremaining: 24m 31s\n",
      "200:\ttest: 0.3698759\tbest: 0.3698759 (200)\ttotal: 5m 27s\tremaining: 21m 43s\n",
      "300:\ttest: 0.3747689\tbest: 0.3747689 (300)\ttotal: 8m 9s\tremaining: 18m 56s\n",
      "400:\ttest: 0.3789667\tbest: 0.3789667 (400)\ttotal: 10m 50s\tremaining: 16m 11s\n",
      "500:\ttest: 0.3811683\tbest: 0.3811683 (500)\ttotal: 13m 30s\tremaining: 13m 27s\n",
      "600:\ttest: 0.3829321\tbest: 0.3829321 (600)\ttotal: 16m 10s\tremaining: 10m 44s\n",
      "700:\ttest: 0.3840524\tbest: 0.3840524 (700)\ttotal: 18m 50s\tremaining: 8m 2s\n",
      "800:\ttest: 0.3849071\tbest: 0.3849071 (800)\ttotal: 21m 29s\tremaining: 5m 20s\n",
      "900:\ttest: 0.3853877\tbest: 0.3853877 (900)\ttotal: 24m 8s\tremaining: 2m 39s\n",
      "999:\ttest: 0.3860034\tbest: 0.3860034 (999)\ttotal: 26m 46s\tremaining: 0us\n",
      "\n",
      "bestTest = 0.3860034423\n",
      "bestIteration = 999\n",
      "\n"
     ]
    },
    {
     "name": "stderr",
     "output_type": "stream",
     "text": [
      "\u001b[32m[I 2022-04-07 09:24:56,352]\u001b[0m Trial 20 finished with value: 0.029842340873697765 and parameters: {'num_popular_items': 26, 'num_repurchase_week': 14, 'num_cooc_week': 11, 'num_train_weeks': 3, 'volume_week': 1, 'cooc_prob': 0.03293602845877722, 'transaction_dynamic_week': 6}. Best is trial 14 with value: 0.030083009807994422.\u001b[0m\n"
     ]
    },
    {
     "name": "stdout",
     "output_type": "stream",
     "text": [
      "0:\ttest: 0.2531066\tbest: 0.2531066 (0)\ttotal: 1.09s\tremaining: 18m 7s\n",
      "100:\ttest: 0.4143108\tbest: 0.4143108 (100)\ttotal: 1m 49s\tremaining: 16m 10s\n",
      "200:\ttest: 0.4267859\tbest: 0.4267859 (200)\ttotal: 3m 37s\tremaining: 14m 23s\n",
      "300:\ttest: 0.4318200\tbest: 0.4318200 (300)\ttotal: 5m 24s\tremaining: 12m 34s\n",
      "400:\ttest: 0.4353607\tbest: 0.4353607 (400)\ttotal: 7m 11s\tremaining: 10m 44s\n",
      "500:\ttest: 0.4375931\tbest: 0.4375931 (500)\ttotal: 8m 58s\tremaining: 8m 55s\n",
      "600:\ttest: 0.4390168\tbest: 0.4390168 (600)\ttotal: 10m 44s\tremaining: 7m 7s\n",
      "700:\ttest: 0.4399711\tbest: 0.4399711 (700)\ttotal: 12m 30s\tremaining: 5m 20s\n",
      "800:\ttest: 0.4395422\tbest: 0.4399711 (700)\ttotal: 14m 17s\tremaining: 3m 32s\n",
      "900:\ttest: 0.4397809\tbest: 0.4399711 (700)\ttotal: 16m 3s\tremaining: 1m 45s\n",
      "999:\ttest: 0.4404853\tbest: 0.4404853 (999)\ttotal: 17m 48s\tremaining: 0us\n",
      "\n",
      "bestTest = 0.440485257\n",
      "bestIteration = 999\n",
      "\n"
     ]
    },
    {
     "name": "stderr",
     "output_type": "stream",
     "text": [
      "\u001b[32m[I 2022-04-07 09:45:48,194]\u001b[0m Trial 21 finished with value: 0.02963325239678761 and parameters: {'num_popular_items': 15, 'num_repurchase_week': 14, 'num_cooc_week': 11, 'num_train_weeks': 2, 'volume_week': 1, 'cooc_prob': 0.029193754233797237, 'transaction_dynamic_week': 8}. Best is trial 14 with value: 0.030083009807994422.\u001b[0m\n"
     ]
    },
    {
     "name": "stdout",
     "output_type": "stream",
     "text": [
      "0:\ttest: 0.2223265\tbest: 0.2223265 (0)\ttotal: 451ms\tremaining: 7m 30s\n",
      "100:\ttest: 0.4019348\tbest: 0.4019348 (100)\ttotal: 45s\tremaining: 6m 40s\n",
      "200:\ttest: 0.4135156\tbest: 0.4135156 (200)\ttotal: 1m 29s\tremaining: 5m 54s\n",
      "300:\ttest: 0.4180169\tbest: 0.4180169 (300)\ttotal: 2m 13s\tremaining: 5m 9s\n",
      "400:\ttest: 0.4188452\tbest: 0.4188452 (400)\ttotal: 2m 57s\tremaining: 4m 24s\n",
      "500:\ttest: 0.4211575\tbest: 0.4211575 (500)\ttotal: 3m 40s\tremaining: 3m 40s\n",
      "600:\ttest: 0.4225087\tbest: 0.4225087 (600)\ttotal: 4m 24s\tremaining: 2m 55s\n",
      "700:\ttest: 0.4232096\tbest: 0.4232096 (700)\ttotal: 5m 8s\tremaining: 2m 11s\n",
      "800:\ttest: 0.4230417\tbest: 0.4232096 (700)\ttotal: 5m 51s\tremaining: 1m 27s\n",
      "900:\ttest: 0.4237229\tbest: 0.4237229 (900)\ttotal: 6m 33s\tremaining: 43.3s\n",
      "999:\ttest: 0.4241269\tbest: 0.4241269 (999)\ttotal: 7m 16s\tremaining: 0us\n",
      "\n",
      "bestTest = 0.4241269096\n",
      "bestIteration = 999\n",
      "\n"
     ]
    },
    {
     "name": "stderr",
     "output_type": "stream",
     "text": [
      "\u001b[32m[I 2022-04-07 09:55:16,170]\u001b[0m Trial 22 finished with value: 0.029238994132413213 and parameters: {'num_popular_items': 18, 'num_repurchase_week': 12, 'num_cooc_week': 9, 'num_train_weeks': 1, 'volume_week': 1, 'cooc_prob': 0.03170991297440269, 'transaction_dynamic_week': 8}. Best is trial 14 with value: 0.030083009807994422.\u001b[0m\n"
     ]
    },
    {
     "name": "stdout",
     "output_type": "stream",
     "text": [
      "0:\ttest: 0.2304956\tbest: 0.2304956 (0)\ttotal: 1.7s\tremaining: 28m 20s\n",
      "100:\ttest: 0.3785571\tbest: 0.3785571 (100)\ttotal: 2m 49s\tremaining: 25m 10s\n",
      "200:\ttest: 0.3876625\tbest: 0.3876625 (200)\ttotal: 5m 36s\tremaining: 22m 19s\n",
      "300:\ttest: 0.3911733\tbest: 0.3911733 (300)\ttotal: 8m 23s\tremaining: 19m 28s\n",
      "400:\ttest: 0.3933347\tbest: 0.3933347 (400)\ttotal: 11m 8s\tremaining: 16m 38s\n",
      "500:\ttest: 0.3958426\tbest: 0.3958426 (500)\ttotal: 13m 53s\tremaining: 13m 50s\n",
      "600:\ttest: 0.3971557\tbest: 0.3971557 (600)\ttotal: 16m 38s\tremaining: 11m 2s\n",
      "700:\ttest: 0.3985540\tbest: 0.3985540 (700)\ttotal: 19m 22s\tremaining: 8m 15s\n",
      "800:\ttest: 0.3988818\tbest: 0.3988818 (800)\ttotal: 22m 7s\tremaining: 5m 29s\n",
      "900:\ttest: 0.3992180\tbest: 0.3992180 (900)\ttotal: 24m 52s\tremaining: 2m 43s\n",
      "999:\ttest: 0.3995602\tbest: 0.3995602 (999)\ttotal: 27m 35s\tremaining: 0us\n",
      "\n",
      "bestTest = 0.3995602282\n",
      "bestIteration = 999\n",
      "\n"
     ]
    },
    {
     "name": "stderr",
     "output_type": "stream",
     "text": [
      "\u001b[32m[I 2022-04-07 10:26:16,682]\u001b[0m Trial 23 finished with value: 0.029692746772929907 and parameters: {'num_popular_items': 22, 'num_repurchase_week': 15, 'num_cooc_week': 12, 'num_train_weeks': 2, 'volume_week': 2, 'cooc_prob': 0.02477528927992667, 'transaction_dynamic_week': 7}. Best is trial 14 with value: 0.030083009807994422.\u001b[0m\n"
     ]
    },
    {
     "name": "stdout",
     "output_type": "stream",
     "text": [
      "0:\ttest: 0.2275887\tbest: 0.2275887 (0)\ttotal: 1.16s\tremaining: 19m 15s\n",
      "100:\ttest: 0.3757181\tbest: 0.3757181 (100)\ttotal: 1m 55s\tremaining: 17m 11s\n",
      "200:\ttest: 0.3860110\tbest: 0.3860110 (200)\ttotal: 3m 50s\tremaining: 15m 17s\n",
      "300:\ttest: 0.3906616\tbest: 0.3906616 (300)\ttotal: 5m 44s\tremaining: 13m 20s\n",
      "400:\ttest: 0.3958219\tbest: 0.3958219 (400)\ttotal: 7m 38s\tremaining: 11m 24s\n",
      "500:\ttest: 0.3958778\tbest: 0.3958778 (500)\ttotal: 9m 30s\tremaining: 9m 28s\n",
      "600:\ttest: 0.3972140\tbest: 0.3972140 (600)\ttotal: 11m 23s\tremaining: 7m 33s\n",
      "700:\ttest: 0.3987105\tbest: 0.3987105 (700)\ttotal: 13m 16s\tremaining: 5m 39s\n",
      "800:\ttest: 0.4009996\tbest: 0.4009996 (800)\ttotal: 15m 8s\tremaining: 3m 45s\n",
      "900:\ttest: 0.4016518\tbest: 0.4016518 (900)\ttotal: 17m\tremaining: 1m 52s\n",
      "999:\ttest: 0.4024488\tbest: 0.4024488 (999)\ttotal: 18m 52s\tremaining: 0us\n",
      "\n",
      "bestTest = 0.4024487721\n",
      "bestIteration = 999\n",
      "\n"
     ]
    },
    {
     "name": "stderr",
     "output_type": "stream",
     "text": [
      "\u001b[32m[I 2022-04-07 10:48:23,207]\u001b[0m Trial 24 finished with value: 0.029868588032976397 and parameters: {'num_popular_items': 22, 'num_repurchase_week': 15, 'num_cooc_week': 9, 'num_train_weeks': 2, 'volume_week': 1, 'cooc_prob': 0.03403575717600679, 'transaction_dynamic_week': 8}. Best is trial 14 with value: 0.030083009807994422.\u001b[0m\n"
     ]
    },
    {
     "name": "stdout",
     "output_type": "stream",
     "text": [
      "0:\ttest: 0.2856419\tbest: 0.2856419 (0)\ttotal: 338ms\tremaining: 5m 38s\n",
      "100:\ttest: 0.4242757\tbest: 0.4242757 (100)\ttotal: 34.2s\tremaining: 5m 4s\n",
      "200:\ttest: 0.4362115\tbest: 0.4362115 (200)\ttotal: 1m 8s\tremaining: 4m 30s\n",
      "300:\ttest: 0.4397444\tbest: 0.4397444 (300)\ttotal: 1m 41s\tremaining: 3m 56s\n",
      "400:\ttest: 0.4419786\tbest: 0.4419786 (400)\ttotal: 2m 15s\tremaining: 3m 22s\n",
      "500:\ttest: 0.4442468\tbest: 0.4442468 (500)\ttotal: 2m 48s\tremaining: 2m 48s\n",
      "600:\ttest: 0.4461185\tbest: 0.4461185 (600)\ttotal: 3m 22s\tremaining: 2m 14s\n",
      "700:\ttest: 0.4468654\tbest: 0.4468654 (700)\ttotal: 3m 55s\tremaining: 1m 40s\n",
      "800:\ttest: 0.4470227\tbest: 0.4470227 (800)\ttotal: 4m 28s\tremaining: 1m 6s\n",
      "900:\ttest: 0.4473509\tbest: 0.4473509 (900)\ttotal: 5m 1s\tremaining: 33.2s\n",
      "999:\ttest: 0.4477171\tbest: 0.4477171 (999)\ttotal: 5m 34s\tremaining: 0us\n",
      "\n",
      "bestTest = 0.4477171327\n",
      "bestIteration = 999\n",
      "\n"
     ]
    },
    {
     "name": "stderr",
     "output_type": "stream",
     "text": [
      "\u001b[32m[I 2022-04-07 10:56:04,682]\u001b[0m Trial 25 finished with value: 0.0289256543280657 and parameters: {'num_popular_items': 15, 'num_repurchase_week': 12, 'num_cooc_week': 14, 'num_train_weeks': 1, 'volume_week': 1, 'cooc_prob': 0.037872529234511725, 'transaction_dynamic_week': 7}. Best is trial 14 with value: 0.030083009807994422.\u001b[0m\n"
     ]
    },
    {
     "name": "stdout",
     "output_type": "stream",
     "text": [
      "0:\ttest: 0.3065140\tbest: 0.3065140 (0)\ttotal: 700ms\tremaining: 11m 39s\n",
      "100:\ttest: 0.4609626\tbest: 0.4609626 (100)\ttotal: 1m 9s\tremaining: 10m 21s\n",
      "200:\ttest: 0.4684003\tbest: 0.4684003 (200)\ttotal: 2m 18s\tremaining: 9m 10s\n",
      "300:\ttest: 0.4718746\tbest: 0.4718746 (300)\ttotal: 3m 26s\tremaining: 7m 59s\n",
      "400:\ttest: 0.4740043\tbest: 0.4740043 (400)\ttotal: 4m 34s\tremaining: 6m 49s\n",
      "500:\ttest: 0.4761656\tbest: 0.4761656 (500)\ttotal: 5m 41s\tremaining: 5m 40s\n",
      "600:\ttest: 0.4788236\tbest: 0.4788236 (600)\ttotal: 6m 48s\tremaining: 4m 31s\n",
      "700:\ttest: 0.4798547\tbest: 0.4798547 (700)\ttotal: 7m 55s\tremaining: 3m 22s\n",
      "800:\ttest: 0.4806098\tbest: 0.4806098 (800)\ttotal: 9m 2s\tremaining: 2m 14s\n",
      "900:\ttest: 0.4815793\tbest: 0.4815793 (900)\ttotal: 10m 9s\tremaining: 1m 6s\n",
      "999:\ttest: 0.4817054\tbest: 0.4817054 (999)\ttotal: 11m 15s\tremaining: 0us\n",
      "\n",
      "bestTest = 0.4817054317\n",
      "bestIteration = 999\n",
      "\n"
     ]
    },
    {
     "name": "stderr",
     "output_type": "stream",
     "text": [
      "\u001b[32m[I 2022-04-07 11:10:15,076]\u001b[0m Trial 26 finished with value: 0.028392164684845664 and parameters: {'num_popular_items': 12, 'num_repurchase_week': 8, 'num_cooc_week': 11, 'num_train_weeks': 3, 'volume_week': 2, 'cooc_prob': 0.028694358495534252, 'transaction_dynamic_week': 6}. Best is trial 14 with value: 0.030083009807994422.\u001b[0m\n"
     ]
    },
    {
     "name": "stdout",
     "output_type": "stream",
     "text": [
      "0:\ttest: 0.2272936\tbest: 0.2272936 (0)\ttotal: 1.02s\tremaining: 17m 1s\n",
      "100:\ttest: 0.3877639\tbest: 0.3877639 (100)\ttotal: 1m 43s\tremaining: 15m 18s\n",
      "200:\ttest: 0.4010323\tbest: 0.4010323 (200)\ttotal: 3m 25s\tremaining: 13m 35s\n",
      "300:\ttest: 0.4057709\tbest: 0.4057709 (300)\ttotal: 5m 6s\tremaining: 11m 51s\n",
      "400:\ttest: 0.4088872\tbest: 0.4088872 (400)\ttotal: 6m 46s\tremaining: 10m 7s\n",
      "500:\ttest: 0.4111239\tbest: 0.4111239 (500)\ttotal: 8m 26s\tremaining: 8m 24s\n",
      "600:\ttest: 0.4143494\tbest: 0.4143494 (600)\ttotal: 10m 6s\tremaining: 6m 42s\n",
      "700:\ttest: 0.4152856\tbest: 0.4152856 (700)\ttotal: 11m 46s\tremaining: 5m 1s\n",
      "800:\ttest: 0.4136629\tbest: 0.4152856 (700)\ttotal: 13m 25s\tremaining: 3m 20s\n",
      "900:\ttest: 0.4138866\tbest: 0.4152856 (700)\ttotal: 15m 4s\tremaining: 1m 39s\n",
      "999:\ttest: 0.4142933\tbest: 0.4152856 (700)\ttotal: 16m 42s\tremaining: 0us\n",
      "\n",
      "bestTest = 0.4152855545\n",
      "bestIteration = 700\n",
      "\n",
      "Shrink model to first 701 iterations.\n"
     ]
    },
    {
     "name": "stderr",
     "output_type": "stream",
     "text": [
      "\u001b[32m[I 2022-04-07 11:30:05,141]\u001b[0m Trial 27 finished with value: 0.029979177199051892 and parameters: {'num_popular_items': 19, 'num_repurchase_week': 15, 'num_cooc_week': 10, 'num_train_weeks': 2, 'volume_week': 1, 'cooc_prob': 0.03436292242344645, 'transaction_dynamic_week': 8}. Best is trial 14 with value: 0.030083009807994422.\u001b[0m\n"
     ]
    },
    {
     "name": "stdout",
     "output_type": "stream",
     "text": [
      "0:\ttest: 0.2329257\tbest: 0.2329257 (0)\ttotal: 933ms\tremaining: 15m 32s\n",
      "100:\ttest: 0.3693734\tbest: 0.3693734 (100)\ttotal: 1m 36s\tremaining: 14m 20s\n",
      "200:\ttest: 0.3769158\tbest: 0.3769158 (200)\ttotal: 3m 12s\tremaining: 12m 44s\n",
      "300:\ttest: 0.3816287\tbest: 0.3816287 (300)\ttotal: 4m 47s\tremaining: 11m 7s\n",
      "400:\ttest: 0.3839330\tbest: 0.3839330 (400)\ttotal: 6m 21s\tremaining: 9m 30s\n",
      "500:\ttest: 0.3847485\tbest: 0.3847485 (500)\ttotal: 7m 55s\tremaining: 7m 53s\n",
      "600:\ttest: 0.3866684\tbest: 0.3866684 (600)\ttotal: 9m 28s\tremaining: 6m 17s\n",
      "700:\ttest: 0.3881967\tbest: 0.3881967 (700)\ttotal: 11m 1s\tremaining: 4m 42s\n",
      "800:\ttest: 0.3896307\tbest: 0.3896307 (800)\ttotal: 12m 34s\tremaining: 3m 7s\n",
      "900:\ttest: 0.3901563\tbest: 0.3901563 (900)\ttotal: 14m 7s\tremaining: 1m 33s\n",
      "999:\ttest: 0.3908716\tbest: 0.3908716 (999)\ttotal: 15m 39s\tremaining: 0us\n",
      "\n",
      "bestTest = 0.3908716011\n",
      "bestIteration = 999\n",
      "\n"
     ]
    },
    {
     "name": "stderr",
     "output_type": "stream",
     "text": [
      "\u001b[32m[I 2022-04-07 11:48:43,235]\u001b[0m Trial 28 finished with value: 0.02959901742685048 and parameters: {'num_popular_items': 24, 'num_repurchase_week': 12, 'num_cooc_week': 6, 'num_train_weeks': 2, 'volume_week': 2, 'cooc_prob': 0.034029712681263494, 'transaction_dynamic_week': 4}. Best is trial 14 with value: 0.030083009807994422.\u001b[0m\n"
     ]
    },
    {
     "name": "stdout",
     "output_type": "stream",
     "text": [
      "0:\ttest: 0.2386555\tbest: 0.2386555 (0)\ttotal: 1.05s\tremaining: 17m 28s\n",
      "100:\ttest: 0.3986674\tbest: 0.3986674 (100)\ttotal: 1m 42s\tremaining: 15m 16s\n",
      "200:\ttest: 0.4093826\tbest: 0.4093826 (200)\ttotal: 3m 25s\tremaining: 13m 35s\n",
      "300:\ttest: 0.4133809\tbest: 0.4133809 (300)\ttotal: 5m 6s\tremaining: 11m 51s\n",
      "400:\ttest: 0.4163575\tbest: 0.4163575 (400)\ttotal: 6m 46s\tremaining: 10m 7s\n",
      "500:\ttest: 0.4188442\tbest: 0.4188442 (500)\ttotal: 8m 26s\tremaining: 8m 24s\n",
      "600:\ttest: 0.4212859\tbest: 0.4212859 (600)\ttotal: 10m 6s\tremaining: 6m 42s\n",
      "700:\ttest: 0.4219960\tbest: 0.4219960 (700)\ttotal: 11m 46s\tremaining: 5m 1s\n",
      "800:\ttest: 0.4218504\tbest: 0.4219960 (700)\ttotal: 13m 25s\tremaining: 3m 20s\n",
      "900:\ttest: 0.4212004\tbest: 0.4219960 (700)\ttotal: 15m 5s\tremaining: 1m 39s\n",
      "999:\ttest: 0.4218121\tbest: 0.4219960 (700)\ttotal: 16m 43s\tremaining: 0us\n",
      "\n",
      "bestTest = 0.4219960185\n",
      "bestIteration = 700\n",
      "\n",
      "Shrink model to first 701 iterations.\n"
     ]
    },
    {
     "name": "stderr",
     "output_type": "stream",
     "text": [
      "\u001b[32m[I 2022-04-07 12:08:25,012]\u001b[0m Trial 29 finished with value: 0.0299532290870617 and parameters: {'num_popular_items': 20, 'num_repurchase_week': 14, 'num_cooc_week': 12, 'num_train_weeks': 2, 'volume_week': 1, 'cooc_prob': 0.037014624407833055, 'transaction_dynamic_week': 7}. Best is trial 14 with value: 0.030083009807994422.\u001b[0m\n"
     ]
    },
    {
     "name": "stdout",
     "output_type": "stream",
     "text": [
      "0:\ttest: 0.2316993\tbest: 0.2316993 (0)\ttotal: 1.05s\tremaining: 17m 32s\n",
      "100:\ttest: 0.3588199\tbest: 0.3588199 (100)\ttotal: 1m 43s\tremaining: 15m 21s\n",
      "200:\ttest: 0.3721389\tbest: 0.3721389 (200)\ttotal: 3m 25s\tremaining: 13m 36s\n",
      "300:\ttest: 0.3759958\tbest: 0.3759958 (300)\ttotal: 5m 6s\tremaining: 11m 51s\n",
      "400:\ttest: 0.3795038\tbest: 0.3795038 (400)\ttotal: 6m 46s\tremaining: 10m 7s\n",
      "500:\ttest: 0.3815588\tbest: 0.3815588 (500)\ttotal: 8m 26s\tremaining: 8m 24s\n",
      "600:\ttest: 0.3826871\tbest: 0.3826871 (600)\ttotal: 10m 6s\tremaining: 6m 42s\n",
      "700:\ttest: 0.3835722\tbest: 0.3835722 (700)\ttotal: 11m 45s\tremaining: 5m 1s\n",
      "800:\ttest: 0.3844007\tbest: 0.3844007 (800)\ttotal: 13m 25s\tremaining: 3m 20s\n",
      "900:\ttest: 0.3850671\tbest: 0.3850671 (900)\ttotal: 15m 4s\tremaining: 1m 39s\n",
      "999:\ttest: 0.3857228\tbest: 0.3857228 (999)\ttotal: 16m 42s\tremaining: 0us\n",
      "\n",
      "bestTest = 0.3857227676\n",
      "bestIteration = 999\n",
      "\n"
     ]
    },
    {
     "name": "stderr",
     "output_type": "stream",
     "text": [
      "\u001b[32m[I 2022-04-07 12:28:35,620]\u001b[0m Trial 30 finished with value: 0.029677413780709868 and parameters: {'num_popular_items': 28, 'num_repurchase_week': 11, 'num_cooc_week': 8, 'num_train_weeks': 3, 'volume_week': 1, 'cooc_prob': 0.04242487488121538, 'transaction_dynamic_week': 4}. Best is trial 14 with value: 0.030083009807994422.\u001b[0m\n"
     ]
    },
    {
     "name": "stdout",
     "output_type": "stream",
     "text": [
      "0:\ttest: 0.2403486\tbest: 0.2403486 (0)\ttotal: 996ms\tremaining: 16m 35s\n",
      "100:\ttest: 0.3942409\tbest: 0.3942409 (100)\ttotal: 1m 39s\tremaining: 14m 43s\n",
      "200:\ttest: 0.4074185\tbest: 0.4074185 (200)\ttotal: 3m 17s\tremaining: 13m 4s\n",
      "300:\ttest: 0.4129960\tbest: 0.4129960 (300)\ttotal: 4m 54s\tremaining: 11m 24s\n",
      "400:\ttest: 0.4159684\tbest: 0.4159684 (400)\ttotal: 6m 31s\tremaining: 9m 44s\n",
      "500:\ttest: 0.4171273\tbest: 0.4171273 (500)\ttotal: 8m 7s\tremaining: 8m 5s\n",
      "600:\ttest: 0.4172772\tbest: 0.4172772 (600)\ttotal: 9m 44s\tremaining: 6m 28s\n",
      "700:\ttest: 0.4175934\tbest: 0.4175934 (700)\ttotal: 11m 21s\tremaining: 4m 50s\n",
      "800:\ttest: 0.4179654\tbest: 0.4179654 (800)\ttotal: 12m 58s\tremaining: 3m 13s\n",
      "900:\ttest: 0.4187493\tbest: 0.4187493 (900)\ttotal: 14m 35s\tremaining: 1m 36s\n",
      "999:\ttest: 0.4194287\tbest: 0.4194287 (999)\ttotal: 16m 11s\tremaining: 0us\n",
      "\n",
      "bestTest = 0.41942873\n",
      "bestIteration = 999\n",
      "\n"
     ]
    },
    {
     "name": "stderr",
     "output_type": "stream",
     "text": [
      "\u001b[32m[I 2022-04-07 12:47:47,628]\u001b[0m Trial 31 finished with value: 0.02975309477829758 and parameters: {'num_popular_items': 20, 'num_repurchase_week': 14, 'num_cooc_week': 12, 'num_train_weeks': 2, 'volume_week': 1, 'cooc_prob': 0.03761711650453397, 'transaction_dynamic_week': 7}. Best is trial 14 with value: 0.030083009807994422.\u001b[0m\n"
     ]
    }
   ],
   "source": [
    "import optuna\n",
    "\n",
    "study = optuna.create_study(\n",
    "    direction='maximize',\n",
    "    study_name='cat',\n",
    ")\n",
    "study.optimize(objective, timeout=43200)\n",
    "study.trials_dataframe().sort_values(by='value',ascending=False).reset_index(drop=True).to_csv('cat.csv', index=False)"
   ]
  },
  {
   "cell_type": "code",
   "execution_count": 5,
   "metadata": {},
   "outputs": [],
   "source": [
    "import pickle\n",
    "with open(\"study.pkl\", 'wb') as f:\n",
    "    pickle.dump(study, f)"
   ]
  },
  {
   "cell_type": "code",
   "execution_count": 18,
   "metadata": {},
   "outputs": [
    {
     "data": {
      "application/vnd.plotly.v1+json": {
       "config": {
        "plotlyServerURL": "https://plot.ly"
       },
       "data": [
        {
         "type": "scatter",
         "xaxis": "x",
         "yaxis": "y"
        },
        {
         "colorbar": {
          "title": {
           "text": "Objective Value"
          }
         },
         "colorscale": [
          [
           0,
           "rgb(5,10,172)"
          ],
          [
           0.35,
           "rgb(40,60,190)"
          ],
          [
           0.5,
           "rgb(70,100,245)"
          ],
          [
           0.6,
           "rgb(90,120,245)"
          ],
          [
           0.7,
           "rgb(106,137,247)"
          ],
          [
           1,
           "rgb(220,220,220)"
          ]
         ],
         "connectgaps": true,
         "contours": {
          "coloring": "heatmap"
         },
         "hoverinfo": "none",
         "line": {
          "smoothing": 1.3
         },
         "reversescale": false,
         "showscale": true,
         "type": "contour",
         "x": [
          0.01901688855800398,
          0.020354224184474058,
          0.020388558377802547,
          0.021658593092099398,
          0.02477528927992667,
          0.02528003903243234,
          0.02554311877947319,
          0.027334140092839188,
          0.028694358495534252,
          0.029193754233797237,
          0.02940228711200176,
          0.03100612579190866,
          0.031042764276297968,
          0.0311266943052536,
          0.03170991297440269,
          0.031899177921659354,
          0.03215222950232132,
          0.03293602845877722,
          0.034029712681263494,
          0.03403575717600679,
          0.03436292242344645,
          0.03536648054161582,
          0.03588519536883169,
          0.03675601065850931,
          0.037014624407833055,
          0.03761711650453397,
          0.037872529234511725,
          0.03943895026941813,
          0.04000080683905029,
          0.041655343184466634,
          0.04242487488121538,
          0.044480034801794285,
          0.04710093671387566,
          0.04843827234034574
         ],
         "xaxis": "x8",
         "y": [
          3.4,
          4,
          6,
          7,
          8,
          9,
          10,
          11,
          12,
          13,
          14,
          16,
          16.6
         ],
         "yaxis": "y8",
         "z": [
          [
           null,
           null,
           null,
           null,
           null,
           null,
           null,
           null,
           null,
           null,
           null,
           null,
           null,
           null,
           null,
           null,
           null,
           null,
           null,
           null,
           null,
           null,
           null,
           null,
           null,
           null,
           null,
           null,
           null,
           null,
           null,
           null,
           null,
           null
          ],
          [
           null,
           null,
           null,
           null,
           null,
           null,
           null,
           null,
           null,
           null,
           null,
           null,
           null,
           null,
           null,
           null,
           null,
           null,
           null,
           null,
           null,
           0.02914594387551869,
           null,
           null,
           null,
           null,
           null,
           null,
           null,
           null,
           null,
           null,
           null,
           null
          ],
          [
           null,
           null,
           null,
           null,
           null,
           null,
           null,
           null,
           null,
           null,
           null,
           null,
           null,
           null,
           null,
           null,
           null,
           null,
           0.02959901742685048,
           null,
           null,
           null,
           null,
           null,
           null,
           null,
           null,
           null,
           0.028816267818454644,
           null,
           null,
           null,
           null,
           null
          ],
          [
           null,
           null,
           null,
           null,
           null,
           null,
           null,
           0.029381212039641006,
           null,
           null,
           null,
           null,
           null,
           null,
           null,
           null,
           null,
           null,
           null,
           null,
           null,
           null,
           null,
           null,
           null,
           null,
           null,
           null,
           null,
           null,
           null,
           null,
           null,
           null
          ],
          [
           null,
           null,
           null,
           null,
           null,
           null,
           null,
           null,
           null,
           null,
           null,
           null,
           null,
           null,
           null,
           null,
           null,
           null,
           null,
           null,
           null,
           null,
           null,
           null,
           null,
           null,
           null,
           null,
           null,
           0.028298802448229722,
           0.029677413780709868,
           0.029511126821920867,
           null,
           null
          ],
          [
           null,
           null,
           null,
           null,
           null,
           null,
           null,
           null,
           null,
           null,
           null,
           null,
           null,
           null,
           0.029238994132413213,
           0.028282209247603718,
           null,
           null,
           null,
           0.029868588032976397,
           null,
           null,
           null,
           null,
           null,
           null,
           null,
           null,
           null,
           null,
           null,
           null,
           null,
           null
          ],
          [
           null,
           0.02963632140236898,
           null,
           null,
           null,
           null,
           null,
           null,
           null,
           null,
           null,
           0.02986944115002603,
           null,
           null,
           null,
           null,
           null,
           null,
           null,
           null,
           0.029979177199051892,
           null,
           null,
           null,
           null,
           null,
           null,
           null,
           null,
           null,
           null,
           null,
           0.028885310530626526,
           null
          ],
          [
           null,
           null,
           null,
           null,
           null,
           null,
           null,
           null,
           0.028392164684845664,
           0.02963325239678761,
           null,
           null,
           0.030083009807994422,
           0.029334459885212674,
           null,
           null,
           0.03002484272518845,
           0.029842340873697765,
           null,
           null,
           null,
           null,
           null,
           null,
           null,
           null,
           null,
           null,
           null,
           null,
           null,
           null,
           null,
           null
          ],
          [
           null,
           null,
           null,
           null,
           0.029692746772929907,
           null,
           null,
           null,
           null,
           null,
           null,
           null,
           null,
           null,
           null,
           null,
           null,
           null,
           null,
           null,
           null,
           null,
           null,
           null,
           0.0299532290870617,
           0.02975309477829758,
           null,
           0.02872545740578306,
           null,
           null,
           null,
           null,
           null,
           null
          ],
          [
           null,
           null,
           null,
           null,
           null,
           0.028683470665972967,
           null,
           null,
           null,
           null,
           null,
           null,
           null,
           null,
           null,
           null,
           null,
           null,
           null,
           null,
           null,
           null,
           0.02967770782613019,
           0.029444172949849443,
           null,
           null,
           null,
           null,
           null,
           null,
           null,
           null,
           null,
           null
          ],
          [
           null,
           null,
           null,
           null,
           null,
           null,
           0.029634138868290208,
           null,
           null,
           null,
           null,
           null,
           null,
           null,
           null,
           null,
           null,
           null,
           null,
           null,
           null,
           null,
           null,
           null,
           null,
           null,
           0.0289256543280657,
           null,
           null,
           null,
           null,
           null,
           null,
           null
          ],
          [
           null,
           null,
           0.029808838857595197,
           0.029794228446014204,
           null,
           null,
           null,
           null,
           null,
           null,
           0.029393769192592924,
           null,
           null,
           null,
           null,
           null,
           null,
           null,
           null,
           null,
           null,
           null,
           null,
           null,
           null,
           null,
           null,
           null,
           null,
           null,
           null,
           null,
           null,
           null
          ],
          [
           null,
           null,
           null,
           null,
           null,
           null,
           null,
           null,
           null,
           null,
           null,
           null,
           null,
           null,
           null,
           null,
           null,
           null,
           null,
           null,
           null,
           null,
           null,
           null,
           null,
           null,
           null,
           null,
           null,
           null,
           null,
           null,
           null,
           null
          ]
         ]
        },
        {
         "marker": {
          "color": "black",
          "line": {
           "color": "Grey",
           "width": 0.5
          }
         },
         "mode": "markers",
         "showlegend": false,
         "type": "scatter",
         "x": [
          0.03675601065850931,
          0.04710093671387566,
          0.03943895026941813,
          0.03100612579190866,
          0.04000080683905029,
          0.02528003903243234,
          0.03588519536883169,
          0.03536648054161582,
          0.027334140092839188,
          0.041655343184466634,
          0.021658593092099398,
          0.020388558377802547,
          0.02940228711200176,
          0.020354224184474058,
          0.031042764276297968,
          0.0311266943052536,
          0.031899177921659354,
          0.02554311877947319,
          0.03215222950232132,
          0.044480034801794285,
          0.03293602845877722,
          0.029193754233797237,
          0.03170991297440269,
          0.02477528927992667,
          0.03403575717600679,
          0.037872529234511725,
          0.028694358495534252,
          0.03436292242344645,
          0.034029712681263494,
          0.037014624407833055,
          0.04242487488121538,
          0.03761711650453397
         ],
         "xaxis": "x8",
         "y": [
          13,
          10,
          12,
          10,
          6,
          13,
          13,
          4,
          7,
          8,
          16,
          16,
          16,
          10,
          11,
          11,
          9,
          14,
          11,
          8,
          11,
          11,
          9,
          12,
          9,
          14,
          11,
          10,
          6,
          12,
          8,
          12
         ],
         "yaxis": "y8"
        },
        {
         "colorbar": {
          "title": {
           "text": "Objective Value"
          }
         },
         "colorscale": [
          [
           0,
           "rgb(5,10,172)"
          ],
          [
           0.35,
           "rgb(40,60,190)"
          ],
          [
           0.5,
           "rgb(70,100,245)"
          ],
          [
           0.6,
           "rgb(90,120,245)"
          ],
          [
           0.7,
           "rgb(106,137,247)"
          ],
          [
           1,
           "rgb(220,220,220)"
          ]
         ],
         "connectgaps": true,
         "contours": {
          "coloring": "heatmap"
         },
         "hoverinfo": "none",
         "line": {
          "smoothing": 1.3
         },
         "reversescale": false,
         "showscale": false,
         "type": "contour",
         "x": [
          0.01901688855800398,
          0.020354224184474058,
          0.020388558377802547,
          0.021658593092099398,
          0.02477528927992667,
          0.02528003903243234,
          0.02554311877947319,
          0.027334140092839188,
          0.028694358495534252,
          0.029193754233797237,
          0.02940228711200176,
          0.03100612579190866,
          0.031042764276297968,
          0.0311266943052536,
          0.03170991297440269,
          0.031899177921659354,
          0.03215222950232132,
          0.03293602845877722,
          0.034029712681263494,
          0.03403575717600679,
          0.03436292242344645,
          0.03536648054161582,
          0.03588519536883169,
          0.03675601065850931,
          0.037014624407833055,
          0.03761711650453397,
          0.037872529234511725,
          0.03943895026941813,
          0.04000080683905029,
          0.041655343184466634,
          0.04242487488121538,
          0.044480034801794285,
          0.04710093671387566,
          0.04843827234034574
         ],
         "xaxis": "x15",
         "y": [
          10.8,
          12,
          13,
          14,
          15,
          16,
          17,
          18,
          19,
          20,
          22,
          24,
          26,
          28,
          29,
          32,
          33,
          36,
          37.2
         ],
         "yaxis": "y15",
         "z": [
          [
           null,
           null,
           null,
           null,
           null,
           null,
           null,
           null,
           null,
           null,
           null,
           null,
           null,
           null,
           null,
           null,
           null,
           null,
           null,
           null,
           null,
           null,
           null,
           null,
           null,
           null,
           null,
           null,
           null,
           null,
           null,
           null,
           null,
           null
          ],
          [
           null,
           null,
           null,
           null,
           null,
           null,
           null,
           null,
           0.028392164684845664,
           null,
           null,
           null,
           null,
           null,
           null,
           0.028282209247603718,
           null,
           null,
           null,
           null,
           null,
           null,
           null,
           null,
           null,
           null,
           null,
           null,
           null,
           null,
           null,
           null,
           null,
           null
          ],
          [
           null,
           null,
           null,
           null,
           null,
           null,
           null,
           0.029381212039641006,
           null,
           null,
           null,
           null,
           null,
           null,
           null,
           null,
           null,
           null,
           null,
           null,
           null,
           null,
           null,
           null,
           null,
           null,
           null,
           null,
           null,
           null,
           null,
           null,
           null,
           null
          ],
          [
           null,
           null,
           null,
           null,
           null,
           null,
           null,
           null,
           null,
           null,
           null,
           null,
           null,
           null,
           null,
           null,
           null,
           null,
           null,
           null,
           null,
           null,
           null,
           null,
           null,
           null,
           null,
           null,
           null,
           null,
           null,
           null,
           0.028885310530626526,
           null
          ],
          [
           null,
           null,
           null,
           null,
           null,
           null,
           null,
           null,
           null,
           0.02963325239678761,
           null,
           0.02986944115002603,
           null,
           null,
           null,
           null,
           null,
           null,
           null,
           null,
           null,
           null,
           null,
           null,
           null,
           null,
           0.0289256543280657,
           null,
           null,
           null,
           null,
           null,
           null,
           null
          ],
          [
           null,
           null,
           null,
           null,
           null,
           null,
           null,
           null,
           null,
           null,
           null,
           null,
           null,
           0.029334459885212674,
           null,
           null,
           null,
           null,
           null,
           null,
           null,
           null,
           null,
           null,
           null,
           null,
           null,
           null,
           null,
           null,
           null,
           null,
           null,
           null
          ],
          [
           null,
           0.02963632140236898,
           null,
           null,
           null,
           null,
           null,
           null,
           null,
           null,
           null,
           null,
           null,
           null,
           null,
           null,
           null,
           null,
           null,
           null,
           null,
           null,
           null,
           null,
           null,
           null,
           null,
           0.02872545740578306,
           null,
           null,
           null,
           null,
           null,
           null
          ],
          [
           null,
           null,
           null,
           null,
           null,
           null,
           null,
           null,
           null,
           null,
           null,
           null,
           0.030083009807994422,
           null,
           0.029238994132413213,
           null,
           null,
           null,
           null,
           null,
           null,
           null,
           null,
           null,
           null,
           null,
           null,
           null,
           null,
           null,
           null,
           null,
           null,
           null
          ],
          [
           null,
           null,
           null,
           null,
           null,
           null,
           null,
           null,
           null,
           null,
           null,
           null,
           null,
           null,
           null,
           null,
           0.03002484272518845,
           null,
           null,
           null,
           0.029979177199051892,
           null,
           null,
           null,
           null,
           null,
           null,
           null,
           null,
           null,
           null,
           0.029511126821920867,
           null,
           null
          ],
          [
           null,
           null,
           0.029808838857595197,
           0.029794228446014204,
           null,
           null,
           null,
           null,
           null,
           null,
           null,
           null,
           null,
           null,
           null,
           null,
           null,
           null,
           null,
           null,
           null,
           null,
           null,
           null,
           0.0299532290870617,
           0.02975309477829758,
           null,
           null,
           null,
           null,
           null,
           null,
           null,
           null
          ],
          [
           null,
           null,
           null,
           null,
           0.029692746772929907,
           null,
           null,
           null,
           null,
           null,
           0.029393769192592924,
           null,
           null,
           null,
           null,
           null,
           null,
           null,
           null,
           0.029868588032976397,
           null,
           null,
           null,
           null,
           null,
           null,
           null,
           null,
           null,
           null,
           null,
           null,
           null,
           null
          ],
          [
           null,
           null,
           null,
           null,
           null,
           null,
           0.029634138868290208,
           null,
           null,
           null,
           null,
           null,
           null,
           null,
           null,
           null,
           null,
           null,
           0.02959901742685048,
           null,
           null,
           null,
           null,
           null,
           null,
           null,
           null,
           null,
           null,
           null,
           null,
           null,
           null,
           null
          ],
          [
           null,
           null,
           null,
           null,
           null,
           null,
           null,
           null,
           null,
           null,
           null,
           null,
           null,
           null,
           null,
           null,
           null,
           0.029842340873697765,
           null,
           null,
           null,
           0.02914594387551869,
           null,
           null,
           null,
           null,
           null,
           null,
           null,
           null,
           null,
           null,
           null,
           null
          ],
          [
           null,
           null,
           null,
           null,
           null,
           null,
           null,
           null,
           null,
           null,
           null,
           null,
           null,
           null,
           null,
           null,
           null,
           null,
           null,
           null,
           null,
           null,
           null,
           null,
           null,
           null,
           null,
           null,
           null,
           null,
           0.029677413780709868,
           null,
           null,
           null
          ],
          [
           null,
           null,
           null,
           null,
           null,
           null,
           null,
           null,
           null,
           null,
           null,
           null,
           null,
           null,
           null,
           null,
           null,
           null,
           null,
           null,
           null,
           null,
           null,
           0.029444172949849443,
           null,
           null,
           null,
           null,
           null,
           null,
           null,
           null,
           null,
           null
          ],
          [
           null,
           null,
           null,
           null,
           null,
           null,
           null,
           null,
           null,
           null,
           null,
           null,
           null,
           null,
           null,
           null,
           null,
           null,
           null,
           null,
           null,
           null,
           0.02967770782613019,
           null,
           null,
           null,
           null,
           null,
           null,
           0.028298802448229722,
           null,
           null,
           null,
           null
          ],
          [
           null,
           null,
           null,
           null,
           null,
           null,
           null,
           null,
           null,
           null,
           null,
           null,
           null,
           null,
           null,
           null,
           null,
           null,
           null,
           null,
           null,
           null,
           null,
           null,
           null,
           null,
           null,
           null,
           0.028816267818454644,
           null,
           null,
           null,
           null,
           null
          ],
          [
           null,
           null,
           null,
           null,
           null,
           0.028683470665972967,
           null,
           null,
           null,
           null,
           null,
           null,
           null,
           null,
           null,
           null,
           null,
           null,
           null,
           null,
           null,
           null,
           null,
           null,
           null,
           null,
           null,
           null,
           null,
           null,
           null,
           null,
           null,
           null
          ],
          [
           null,
           null,
           null,
           null,
           null,
           null,
           null,
           null,
           null,
           null,
           null,
           null,
           null,
           null,
           null,
           null,
           null,
           null,
           null,
           null,
           null,
           null,
           null,
           null,
           null,
           null,
           null,
           null,
           null,
           null,
           null,
           null,
           null,
           null
          ]
         ]
        },
        {
         "marker": {
          "color": "black",
          "line": {
           "color": "Grey",
           "width": 0.5
          }
         },
         "mode": "markers",
         "showlegend": false,
         "type": "scatter",
         "x": [
          0.03675601065850931,
          0.04710093671387566,
          0.03943895026941813,
          0.03100612579190866,
          0.04000080683905029,
          0.02528003903243234,
          0.03588519536883169,
          0.03536648054161582,
          0.027334140092839188,
          0.041655343184466634,
          0.021658593092099398,
          0.020388558377802547,
          0.02940228711200176,
          0.020354224184474058,
          0.031042764276297968,
          0.0311266943052536,
          0.031899177921659354,
          0.02554311877947319,
          0.03215222950232132,
          0.044480034801794285,
          0.03293602845877722,
          0.029193754233797237,
          0.03170991297440269,
          0.02477528927992667,
          0.03403575717600679,
          0.037872529234511725,
          0.028694358495534252,
          0.03436292242344645,
          0.034029712681263494,
          0.037014624407833055,
          0.04242487488121538,
          0.03761711650453397
         ],
         "xaxis": "x15",
         "y": [
          29,
          14,
          17,
          15,
          33,
          36,
          32,
          26,
          13,
          32,
          20,
          20,
          22,
          17,
          18,
          16,
          12,
          24,
          19,
          19,
          26,
          15,
          18,
          22,
          22,
          15,
          12,
          19,
          24,
          20,
          28,
          20
         ],
         "yaxis": "y15"
        },
        {
         "colorbar": {
          "title": {
           "text": "Objective Value"
          }
         },
         "colorscale": [
          [
           0,
           "rgb(5,10,172)"
          ],
          [
           0.35,
           "rgb(40,60,190)"
          ],
          [
           0.5,
           "rgb(70,100,245)"
          ],
          [
           0.6,
           "rgb(90,120,245)"
          ],
          [
           0.7,
           "rgb(106,137,247)"
          ],
          [
           1,
           "rgb(220,220,220)"
          ]
         ],
         "connectgaps": true,
         "contours": {
          "coloring": "heatmap"
         },
         "hoverinfo": "none",
         "line": {
          "smoothing": 1.3
         },
         "reversescale": false,
         "showscale": false,
         "type": "contour",
         "x": [
          0.01901688855800398,
          0.020354224184474058,
          0.020388558377802547,
          0.021658593092099398,
          0.02477528927992667,
          0.02528003903243234,
          0.02554311877947319,
          0.027334140092839188,
          0.028694358495534252,
          0.029193754233797237,
          0.02940228711200176,
          0.03100612579190866,
          0.031042764276297968,
          0.0311266943052536,
          0.03170991297440269,
          0.031899177921659354,
          0.03215222950232132,
          0.03293602845877722,
          0.034029712681263494,
          0.03403575717600679,
          0.03436292242344645,
          0.03536648054161582,
          0.03588519536883169,
          0.03675601065850931,
          0.037014624407833055,
          0.03761711650453397,
          0.037872529234511725,
          0.03943895026941813,
          0.04000080683905029,
          0.041655343184466634,
          0.04242487488121538,
          0.044480034801794285,
          0.04710093671387566,
          0.04843827234034574
         ],
         "xaxis": "x22",
         "y": [
          3.4,
          4,
          5,
          7,
          8,
          9,
          10,
          11,
          12,
          13,
          14,
          15,
          16,
          16.6
         ],
         "yaxis": "y22",
         "z": [
          [
           null,
           null,
           null,
           null,
           null,
           null,
           null,
           null,
           null,
           null,
           null,
           null,
           null,
           null,
           null,
           null,
           null,
           null,
           null,
           null,
           null,
           null,
           null,
           null,
           null,
           null,
           null,
           null,
           null,
           null,
           null,
           null,
           null,
           null
          ],
          [
           null,
           null,
           null,
           null,
           null,
           0.028683470665972967,
           null,
           null,
           null,
           null,
           null,
           null,
           null,
           null,
           null,
           null,
           null,
           null,
           null,
           null,
           null,
           null,
           null,
           null,
           null,
           null,
           null,
           null,
           0.028816267818454644,
           null,
           null,
           null,
           null,
           null
          ],
          [
           null,
           null,
           null,
           null,
           null,
           null,
           null,
           null,
           null,
           null,
           null,
           null,
           null,
           null,
           null,
           null,
           null,
           null,
           null,
           null,
           null,
           null,
           null,
           null,
           null,
           null,
           null,
           null,
           null,
           0.028298802448229722,
           null,
           null,
           null,
           null
          ],
          [
           null,
           null,
           null,
           null,
           null,
           null,
           null,
           null,
           null,
           null,
           null,
           null,
           null,
           null,
           null,
           0.028282209247603718,
           null,
           null,
           null,
           null,
           null,
           null,
           null,
           null,
           null,
           null,
           null,
           null,
           null,
           null,
           null,
           null,
           null,
           null
          ],
          [
           null,
           null,
           null,
           null,
           null,
           null,
           null,
           null,
           0.028392164684845664,
           null,
           null,
           null,
           null,
           null,
           null,
           null,
           null,
           null,
           null,
           null,
           null,
           null,
           null,
           null,
           null,
           null,
           null,
           null,
           null,
           null,
           null,
           null,
           null,
           null
          ],
          [
           null,
           null,
           null,
           null,
           null,
           null,
           null,
           null,
           null,
           null,
           null,
           null,
           null,
           null,
           null,
           null,
           null,
           null,
           null,
           null,
           null,
           0.02914594387551869,
           null,
           null,
           null,
           null,
           null,
           null,
           null,
           null,
           null,
           null,
           null,
           null
          ],
          [
           null,
           null,
           null,
           null,
           null,
           null,
           null,
           null,
           null,
           null,
           null,
           null,
           null,
           null,
           null,
           null,
           null,
           null,
           null,
           null,
           null,
           null,
           null,
           null,
           null,
           null,
           null,
           0.02872545740578306,
           null,
           null,
           null,
           null,
           null,
           null
          ],
          [
           null,
           null,
           null,
           null,
           null,
           null,
           null,
           null,
           null,
           null,
           null,
           null,
           null,
           null,
           null,
           null,
           null,
           null,
           null,
           null,
           null,
           null,
           null,
           0.029444172949849443,
           null,
           null,
           null,
           null,
           null,
           null,
           0.029677413780709868,
           0.029511126821920867,
           0.028885310530626526,
           null
          ],
          [
           null,
           null,
           null,
           null,
           null,
           null,
           null,
           null,
           null,
           null,
           null,
           null,
           null,
           null,
           0.029238994132413213,
           null,
           null,
           null,
           0.02959901742685048,
           null,
           null,
           null,
           null,
           null,
           null,
           null,
           0.0289256543280657,
           null,
           null,
           null,
           null,
           null,
           null,
           null
          ],
          [
           null,
           null,
           null,
           null,
           null,
           null,
           0.029634138868290208,
           0.029381212039641006,
           null,
           null,
           null,
           null,
           0.030083009807994422,
           0.029334459885212674,
           null,
           null,
           null,
           null,
           null,
           null,
           null,
           null,
           null,
           null,
           null,
           null,
           null,
           null,
           null,
           null,
           null,
           null,
           null,
           null
          ],
          [
           null,
           null,
           null,
           null,
           null,
           null,
           null,
           null,
           null,
           0.02963325239678761,
           0.029393769192592924,
           null,
           null,
           null,
           null,
           null,
           0.03002484272518845,
           0.029842340873697765,
           null,
           null,
           null,
           null,
           null,
           null,
           0.0299532290870617,
           0.02975309477829758,
           null,
           null,
           null,
           null,
           null,
           null,
           null,
           null
          ],
          [
           null,
           null,
           null,
           null,
           0.029692746772929907,
           null,
           null,
           null,
           null,
           null,
           null,
           null,
           null,
           null,
           null,
           null,
           null,
           null,
           null,
           0.029868588032976397,
           0.029979177199051892,
           null,
           0.02967770782613019,
           null,
           null,
           null,
           null,
           null,
           null,
           null,
           null,
           null,
           null,
           null
          ],
          [
           null,
           0.02963632140236898,
           0.029808838857595197,
           0.029794228446014204,
           null,
           null,
           null,
           null,
           null,
           null,
           null,
           0.02986944115002603,
           null,
           null,
           null,
           null,
           null,
           null,
           null,
           null,
           null,
           null,
           null,
           null,
           null,
           null,
           null,
           null,
           null,
           null,
           null,
           null,
           null,
           null
          ],
          [
           null,
           null,
           null,
           null,
           null,
           null,
           null,
           null,
           null,
           null,
           null,
           null,
           null,
           null,
           null,
           null,
           null,
           null,
           null,
           null,
           null,
           null,
           null,
           null,
           null,
           null,
           null,
           null,
           null,
           null,
           null,
           null,
           null,
           null
          ]
         ]
        },
        {
         "marker": {
          "color": "black",
          "line": {
           "color": "Grey",
           "width": 0.5
          }
         },
         "mode": "markers",
         "showlegend": false,
         "type": "scatter",
         "x": [
          0.03675601065850931,
          0.04710093671387566,
          0.03943895026941813,
          0.03100612579190866,
          0.04000080683905029,
          0.02528003903243234,
          0.03588519536883169,
          0.03536648054161582,
          0.027334140092839188,
          0.041655343184466634,
          0.021658593092099398,
          0.020388558377802547,
          0.02940228711200176,
          0.020354224184474058,
          0.031042764276297968,
          0.0311266943052536,
          0.031899177921659354,
          0.02554311877947319,
          0.03215222950232132,
          0.044480034801794285,
          0.03293602845877722,
          0.029193754233797237,
          0.03170991297440269,
          0.02477528927992667,
          0.03403575717600679,
          0.037872529234511725,
          0.028694358495534252,
          0.03436292242344645,
          0.034029712681263494,
          0.037014624407833055,
          0.04242487488121538,
          0.03761711650453397
         ],
         "xaxis": "x22",
         "y": [
          11,
          11,
          10,
          16,
          4,
          4,
          15,
          9,
          13,
          5,
          16,
          16,
          14,
          16,
          13,
          13,
          7,
          13,
          14,
          11,
          14,
          14,
          12,
          15,
          15,
          12,
          8,
          15,
          12,
          14,
          11,
          14
         ],
         "yaxis": "y22"
        },
        {
         "colorbar": {
          "title": {
           "text": "Objective Value"
          }
         },
         "colorscale": [
          [
           0,
           "rgb(5,10,172)"
          ],
          [
           0.35,
           "rgb(40,60,190)"
          ],
          [
           0.5,
           "rgb(70,100,245)"
          ],
          [
           0.6,
           "rgb(90,120,245)"
          ],
          [
           0.7,
           "rgb(106,137,247)"
          ],
          [
           1,
           "rgb(220,220,220)"
          ]
         ],
         "connectgaps": true,
         "contours": {
          "coloring": "heatmap"
         },
         "hoverinfo": "none",
         "line": {
          "smoothing": 1.3
         },
         "reversescale": false,
         "showscale": false,
         "type": "contour",
         "x": [
          0.01901688855800398,
          0.020354224184474058,
          0.020388558377802547,
          0.021658593092099398,
          0.02477528927992667,
          0.02528003903243234,
          0.02554311877947319,
          0.027334140092839188,
          0.028694358495534252,
          0.029193754233797237,
          0.02940228711200176,
          0.03100612579190866,
          0.031042764276297968,
          0.0311266943052536,
          0.03170991297440269,
          0.031899177921659354,
          0.03215222950232132,
          0.03293602845877722,
          0.034029712681263494,
          0.03403575717600679,
          0.03436292242344645,
          0.03536648054161582,
          0.03588519536883169,
          0.03675601065850931,
          0.037014624407833055,
          0.03761711650453397,
          0.037872529234511725,
          0.03943895026941813,
          0.04000080683905029,
          0.041655343184466634,
          0.04242487488121538,
          0.044480034801794285,
          0.04710093671387566,
          0.04843827234034574
         ],
         "xaxis": "x29",
         "y": [
          0.85,
          1,
          2,
          3,
          4,
          4.15
         ],
         "yaxis": "y29",
         "z": [
          [
           null,
           null,
           null,
           null,
           null,
           null,
           null,
           null,
           null,
           null,
           null,
           null,
           null,
           null,
           null,
           null,
           null,
           null,
           null,
           null,
           null,
           null,
           null,
           null,
           null,
           null,
           null,
           null,
           null,
           null,
           null,
           null,
           null,
           null
          ],
          [
           null,
           null,
           null,
           null,
           null,
           0.028683470665972967,
           0.029634138868290208,
           null,
           null,
           null,
           null,
           0.02986944115002603,
           null,
           0.029334459885212674,
           0.029238994132413213,
           null,
           null,
           null,
           null,
           null,
           null,
           null,
           null,
           null,
           null,
           null,
           0.0289256543280657,
           null,
           0.028816267818454644,
           null,
           null,
           null,
           0.028885310530626526,
           null
          ],
          [
           null,
           null,
           null,
           null,
           0.029692746772929907,
           null,
           null,
           null,
           null,
           0.02963325239678761,
           null,
           null,
           0.030083009807994422,
           null,
           null,
           0.028282209247603718,
           0.03002484272518845,
           null,
           0.02959901742685048,
           0.029868588032976397,
           0.029979177199051892,
           null,
           0.02967770782613019,
           0.029444172949849443,
           0.0299532290870617,
           0.02975309477829758,
           null,
           null,
           null,
           0.028298802448229722,
           null,
           0.029511126821920867,
           null,
           null
          ],
          [
           null,
           null,
           null,
           null,
           null,
           null,
           null,
           0.029381212039641006,
           0.028392164684845664,
           null,
           0.029393769192592924,
           null,
           null,
           null,
           null,
           null,
           null,
           0.029842340873697765,
           null,
           null,
           null,
           0.02914594387551869,
           null,
           null,
           null,
           null,
           null,
           null,
           null,
           null,
           0.029677413780709868,
           null,
           null,
           null
          ],
          [
           null,
           0.02963632140236898,
           0.029808838857595197,
           0.029794228446014204,
           null,
           null,
           null,
           null,
           null,
           null,
           null,
           null,
           null,
           null,
           null,
           null,
           null,
           null,
           null,
           null,
           null,
           null,
           null,
           null,
           null,
           null,
           null,
           0.02872545740578306,
           null,
           null,
           null,
           null,
           null,
           null
          ],
          [
           null,
           null,
           null,
           null,
           null,
           null,
           null,
           null,
           null,
           null,
           null,
           null,
           null,
           null,
           null,
           null,
           null,
           null,
           null,
           null,
           null,
           null,
           null,
           null,
           null,
           null,
           null,
           null,
           null,
           null,
           null,
           null,
           null,
           null
          ]
         ]
        },
        {
         "marker": {
          "color": "black",
          "line": {
           "color": "Grey",
           "width": 0.5
          }
         },
         "mode": "markers",
         "showlegend": false,
         "type": "scatter",
         "x": [
          0.03675601065850931,
          0.04710093671387566,
          0.03943895026941813,
          0.03100612579190866,
          0.04000080683905029,
          0.02528003903243234,
          0.03588519536883169,
          0.03536648054161582,
          0.027334140092839188,
          0.041655343184466634,
          0.021658593092099398,
          0.020388558377802547,
          0.02940228711200176,
          0.020354224184474058,
          0.031042764276297968,
          0.0311266943052536,
          0.031899177921659354,
          0.02554311877947319,
          0.03215222950232132,
          0.044480034801794285,
          0.03293602845877722,
          0.029193754233797237,
          0.03170991297440269,
          0.02477528927992667,
          0.03403575717600679,
          0.037872529234511725,
          0.028694358495534252,
          0.03436292242344645,
          0.034029712681263494,
          0.037014624407833055,
          0.04242487488121538,
          0.03761711650453397
         ],
         "xaxis": "x29",
         "y": [
          2,
          1,
          4,
          1,
          1,
          1,
          2,
          3,
          3,
          2,
          4,
          4,
          3,
          4,
          2,
          1,
          2,
          1,
          2,
          2,
          3,
          2,
          1,
          2,
          2,
          1,
          3,
          2,
          2,
          2,
          3,
          2
         ],
         "yaxis": "y29"
        },
        {
         "colorbar": {
          "title": {
           "text": "Objective Value"
          }
         },
         "colorscale": [
          [
           0,
           "rgb(5,10,172)"
          ],
          [
           0.35,
           "rgb(40,60,190)"
          ],
          [
           0.5,
           "rgb(70,100,245)"
          ],
          [
           0.6,
           "rgb(90,120,245)"
          ],
          [
           0.7,
           "rgb(106,137,247)"
          ],
          [
           1,
           "rgb(220,220,220)"
          ]
         ],
         "connectgaps": true,
         "contours": {
          "coloring": "heatmap"
         },
         "hoverinfo": "none",
         "line": {
          "smoothing": 1.3
         },
         "reversescale": false,
         "showscale": false,
         "type": "contour",
         "x": [
          0.01901688855800398,
          0.020354224184474058,
          0.020388558377802547,
          0.021658593092099398,
          0.02477528927992667,
          0.02528003903243234,
          0.02554311877947319,
          0.027334140092839188,
          0.028694358495534252,
          0.029193754233797237,
          0.02940228711200176,
          0.03100612579190866,
          0.031042764276297968,
          0.0311266943052536,
          0.03170991297440269,
          0.031899177921659354,
          0.03215222950232132,
          0.03293602845877722,
          0.034029712681263494,
          0.03403575717600679,
          0.03436292242344645,
          0.03536648054161582,
          0.03588519536883169,
          0.03675601065850931,
          0.037014624407833055,
          0.03761711650453397,
          0.037872529234511725,
          0.03943895026941813,
          0.04000080683905029,
          0.041655343184466634,
          0.04242487488121538,
          0.044480034801794285,
          0.04710093671387566,
          0.04843827234034574
         ],
         "xaxis": "x36",
         "y": [
          0.6499999999999999,
          1,
          2,
          3,
          4,
          5,
          6,
          7,
          8,
          8.35
         ],
         "yaxis": "y36",
         "z": [
          [
           null,
           null,
           null,
           null,
           null,
           null,
           null,
           null,
           null,
           null,
           null,
           null,
           null,
           null,
           null,
           null,
           null,
           null,
           null,
           null,
           null,
           null,
           null,
           null,
           null,
           null,
           null,
           null,
           null,
           null,
           null,
           null,
           null,
           null
          ],
          [
           null,
           null,
           null,
           null,
           null,
           null,
           null,
           null,
           null,
           null,
           null,
           null,
           null,
           null,
           null,
           null,
           null,
           null,
           null,
           null,
           null,
           0.02914594387551869,
           0.02967770782613019,
           null,
           null,
           null,
           null,
           null,
           null,
           null,
           null,
           null,
           null,
           null
          ],
          [
           null,
           null,
           null,
           null,
           null,
           null,
           null,
           null,
           null,
           null,
           null,
           null,
           null,
           null,
           null,
           null,
           null,
           null,
           null,
           null,
           null,
           null,
           null,
           null,
           null,
           null,
           null,
           null,
           null,
           0.028298802448229722,
           null,
           null,
           null,
           null
          ],
          [
           null,
           0.02963632140236898,
           0.029808838857595197,
           0.029794228446014204,
           null,
           null,
           null,
           null,
           null,
           null,
           0.029393769192592924,
           null,
           null,
           null,
           null,
           null,
           null,
           null,
           null,
           null,
           null,
           null,
           null,
           null,
           null,
           null,
           null,
           null,
           null,
           null,
           null,
           null,
           null,
           null
          ],
          [
           null,
           null,
           null,
           null,
           null,
           null,
           null,
           null,
           null,
           null,
           null,
           null,
           null,
           null,
           null,
           null,
           null,
           null,
           0.02959901742685048,
           null,
           null,
           null,
           null,
           null,
           null,
           null,
           null,
           null,
           null,
           null,
           0.029677413780709868,
           null,
           null,
           null
          ],
          [
           null,
           null,
           null,
           null,
           null,
           null,
           null,
           null,
           null,
           null,
           null,
           null,
           null,
           null,
           null,
           null,
           null,
           null,
           null,
           null,
           null,
           null,
           null,
           0.029444172949849443,
           null,
           null,
           null,
           0.02872545740578306,
           null,
           null,
           null,
           null,
           0.028885310530626526,
           null
          ],
          [
           null,
           null,
           null,
           null,
           null,
           null,
           null,
           null,
           0.028392164684845664,
           null,
           null,
           null,
           null,
           null,
           null,
           null,
           null,
           0.029842340873697765,
           null,
           null,
           null,
           null,
           null,
           null,
           null,
           null,
           null,
           null,
           0.028816267818454644,
           null,
           null,
           0.029511126821920867,
           null,
           null
          ],
          [
           null,
           null,
           null,
           null,
           0.029692746772929907,
           null,
           0.029634138868290208,
           0.029381212039641006,
           null,
           null,
           null,
           null,
           null,
           null,
           null,
           0.028282209247603718,
           null,
           null,
           null,
           null,
           null,
           null,
           null,
           null,
           0.0299532290870617,
           0.02975309477829758,
           0.0289256543280657,
           null,
           null,
           null,
           null,
           null,
           null,
           null
          ],
          [
           null,
           null,
           null,
           null,
           null,
           0.028683470665972967,
           null,
           null,
           null,
           0.02963325239678761,
           null,
           0.02986944115002603,
           0.030083009807994422,
           0.029334459885212674,
           0.029238994132413213,
           null,
           0.03002484272518845,
           null,
           null,
           0.029868588032976397,
           0.029979177199051892,
           null,
           null,
           null,
           null,
           null,
           null,
           null,
           null,
           null,
           null,
           null,
           null,
           null
          ],
          [
           null,
           null,
           null,
           null,
           null,
           null,
           null,
           null,
           null,
           null,
           null,
           null,
           null,
           null,
           null,
           null,
           null,
           null,
           null,
           null,
           null,
           null,
           null,
           null,
           null,
           null,
           null,
           null,
           null,
           null,
           null,
           null,
           null,
           null
          ]
         ]
        },
        {
         "marker": {
          "color": "black",
          "line": {
           "color": "Grey",
           "width": 0.5
          }
         },
         "mode": "markers",
         "showlegend": false,
         "type": "scatter",
         "x": [
          0.03675601065850931,
          0.04710093671387566,
          0.03943895026941813,
          0.03100612579190866,
          0.04000080683905029,
          0.02528003903243234,
          0.03588519536883169,
          0.03536648054161582,
          0.027334140092839188,
          0.041655343184466634,
          0.021658593092099398,
          0.020388558377802547,
          0.02940228711200176,
          0.020354224184474058,
          0.031042764276297968,
          0.0311266943052536,
          0.031899177921659354,
          0.02554311877947319,
          0.03215222950232132,
          0.044480034801794285,
          0.03293602845877722,
          0.029193754233797237,
          0.03170991297440269,
          0.02477528927992667,
          0.03403575717600679,
          0.037872529234511725,
          0.028694358495534252,
          0.03436292242344645,
          0.034029712681263494,
          0.037014624407833055,
          0.04242487488121538,
          0.03761711650453397
         ],
         "xaxis": "x36",
         "y": [
          5,
          5,
          5,
          8,
          6,
          8,
          1,
          1,
          7,
          2,
          3,
          3,
          3,
          3,
          8,
          8,
          7,
          7,
          8,
          6,
          6,
          8,
          8,
          7,
          8,
          7,
          6,
          8,
          4,
          7,
          4,
          7
         ],
         "yaxis": "y36"
        },
        {
         "colorbar": {
          "title": {
           "text": "Objective Value"
          }
         },
         "colorscale": [
          [
           0,
           "rgb(5,10,172)"
          ],
          [
           0.35,
           "rgb(40,60,190)"
          ],
          [
           0.5,
           "rgb(70,100,245)"
          ],
          [
           0.6,
           "rgb(90,120,245)"
          ],
          [
           0.7,
           "rgb(106,137,247)"
          ],
          [
           1,
           "rgb(220,220,220)"
          ]
         ],
         "connectgaps": true,
         "contours": {
          "coloring": "heatmap"
         },
         "hoverinfo": "none",
         "line": {
          "smoothing": 1.3
         },
         "reversescale": false,
         "showscale": false,
         "type": "contour",
         "x": [
          0.01901688855800398,
          0.020354224184474058,
          0.020388558377802547,
          0.021658593092099398,
          0.02477528927992667,
          0.02528003903243234,
          0.02554311877947319,
          0.027334140092839188,
          0.028694358495534252,
          0.029193754233797237,
          0.02940228711200176,
          0.03100612579190866,
          0.031042764276297968,
          0.0311266943052536,
          0.03170991297440269,
          0.031899177921659354,
          0.03215222950232132,
          0.03293602845877722,
          0.034029712681263494,
          0.03403575717600679,
          0.03436292242344645,
          0.03536648054161582,
          0.03588519536883169,
          0.03675601065850931,
          0.037014624407833055,
          0.03761711650453397,
          0.037872529234511725,
          0.03943895026941813,
          0.04000080683905029,
          0.041655343184466634,
          0.04242487488121538,
          0.044480034801794285,
          0.04710093671387566,
          0.04843827234034574
         ],
         "xaxis": "x43",
         "y": [
          0.85,
          1,
          2,
          3,
          4,
          4.15
         ],
         "yaxis": "y43",
         "z": [
          [
           null,
           null,
           null,
           null,
           null,
           null,
           null,
           null,
           null,
           null,
           null,
           null,
           null,
           null,
           null,
           null,
           null,
           null,
           null,
           null,
           null,
           null,
           null,
           null,
           null,
           null,
           null,
           null,
           null,
           null,
           null,
           null,
           null,
           null
          ],
          [
           null,
           null,
           null,
           null,
           null,
           null,
           null,
           0.029381212039641006,
           null,
           0.02963325239678761,
           null,
           0.02986944115002603,
           0.030083009807994422,
           0.029334459885212674,
           0.029238994132413213,
           0.028282209247603718,
           0.03002484272518845,
           0.029842340873697765,
           null,
           0.029868588032976397,
           0.029979177199051892,
           0.02914594387551869,
           null,
           null,
           0.0299532290870617,
           0.02975309477829758,
           0.0289256543280657,
           null,
           0.028816267818454644,
           null,
           0.029677413780709868,
           null,
           null,
           null
          ],
          [
           null,
           0.02963632140236898,
           0.029808838857595197,
           0.029794228446014204,
           0.029692746772929907,
           null,
           null,
           null,
           0.028392164684845664,
           null,
           0.029393769192592924,
           null,
           null,
           null,
           null,
           null,
           null,
           null,
           0.02959901742685048,
           null,
           null,
           null,
           null,
           null,
           null,
           null,
           null,
           null,
           null,
           null,
           null,
           0.029511126821920867,
           null,
           null
          ],
          [
           null,
           null,
           null,
           null,
           null,
           0.028683470665972967,
           null,
           null,
           null,
           null,
           null,
           null,
           null,
           null,
           null,
           null,
           null,
           null,
           null,
           null,
           null,
           null,
           0.02967770782613019,
           0.029444172949849443,
           null,
           null,
           null,
           0.02872545740578306,
           null,
           null,
           null,
           null,
           0.028885310530626526,
           null
          ],
          [
           null,
           null,
           null,
           null,
           null,
           null,
           0.029634138868290208,
           null,
           null,
           null,
           null,
           null,
           null,
           null,
           null,
           null,
           null,
           null,
           null,
           null,
           null,
           null,
           null,
           null,
           null,
           null,
           null,
           null,
           null,
           0.028298802448229722,
           null,
           null,
           null,
           null
          ],
          [
           null,
           null,
           null,
           null,
           null,
           null,
           null,
           null,
           null,
           null,
           null,
           null,
           null,
           null,
           null,
           null,
           null,
           null,
           null,
           null,
           null,
           null,
           null,
           null,
           null,
           null,
           null,
           null,
           null,
           null,
           null,
           null,
           null,
           null
          ]
         ]
        },
        {
         "marker": {
          "color": "black",
          "line": {
           "color": "Grey",
           "width": 0.5
          }
         },
         "mode": "markers",
         "showlegend": false,
         "type": "scatter",
         "x": [
          0.03675601065850931,
          0.04710093671387566,
          0.03943895026941813,
          0.03100612579190866,
          0.04000080683905029,
          0.02528003903243234,
          0.03588519536883169,
          0.03536648054161582,
          0.027334140092839188,
          0.041655343184466634,
          0.021658593092099398,
          0.020388558377802547,
          0.02940228711200176,
          0.020354224184474058,
          0.031042764276297968,
          0.0311266943052536,
          0.031899177921659354,
          0.02554311877947319,
          0.03215222950232132,
          0.044480034801794285,
          0.03293602845877722,
          0.029193754233797237,
          0.03170991297440269,
          0.02477528927992667,
          0.03403575717600679,
          0.037872529234511725,
          0.028694358495534252,
          0.03436292242344645,
          0.034029712681263494,
          0.037014624407833055,
          0.04242487488121538,
          0.03761711650453397
         ],
         "xaxis": "x43",
         "y": [
          3,
          3,
          3,
          1,
          1,
          3,
          3,
          1,
          1,
          4,
          2,
          2,
          2,
          2,
          1,
          1,
          1,
          4,
          1,
          2,
          1,
          1,
          1,
          2,
          1,
          1,
          2,
          1,
          2,
          1,
          1,
          1
         ],
         "yaxis": "y43"
        },
        {
         "colorbar": {
          "title": {
           "text": "Objective Value"
          }
         },
         "colorscale": [
          [
           0,
           "rgb(5,10,172)"
          ],
          [
           0.35,
           "rgb(40,60,190)"
          ],
          [
           0.5,
           "rgb(70,100,245)"
          ],
          [
           0.6,
           "rgb(90,120,245)"
          ],
          [
           0.7,
           "rgb(106,137,247)"
          ],
          [
           1,
           "rgb(220,220,220)"
          ]
         ],
         "connectgaps": true,
         "contours": {
          "coloring": "heatmap"
         },
         "hoverinfo": "none",
         "line": {
          "smoothing": 1.3
         },
         "reversescale": false,
         "showscale": false,
         "type": "contour",
         "x": [
          3.4,
          4,
          6,
          7,
          8,
          9,
          10,
          11,
          12,
          13,
          14,
          16,
          16.6
         ],
         "xaxis": "x2",
         "y": [
          0.01901688855800398,
          0.020354224184474058,
          0.020388558377802547,
          0.021658593092099398,
          0.02477528927992667,
          0.02528003903243234,
          0.02554311877947319,
          0.027334140092839188,
          0.028694358495534252,
          0.029193754233797237,
          0.02940228711200176,
          0.03100612579190866,
          0.031042764276297968,
          0.0311266943052536,
          0.03170991297440269,
          0.031899177921659354,
          0.03215222950232132,
          0.03293602845877722,
          0.034029712681263494,
          0.03403575717600679,
          0.03436292242344645,
          0.03536648054161582,
          0.03588519536883169,
          0.03675601065850931,
          0.037014624407833055,
          0.03761711650453397,
          0.037872529234511725,
          0.03943895026941813,
          0.04000080683905029,
          0.041655343184466634,
          0.04242487488121538,
          0.044480034801794285,
          0.04710093671387566,
          0.04843827234034574
         ],
         "yaxis": "y2",
         "z": [
          [
           null,
           null,
           null,
           null,
           null,
           null,
           null,
           null,
           null,
           null,
           null,
           null,
           null
          ],
          [
           null,
           null,
           null,
           null,
           null,
           null,
           0.02963632140236898,
           null,
           null,
           null,
           null,
           null,
           null
          ],
          [
           null,
           null,
           null,
           null,
           null,
           null,
           null,
           null,
           null,
           null,
           null,
           0.029808838857595197,
           null
          ],
          [
           null,
           null,
           null,
           null,
           null,
           null,
           null,
           null,
           null,
           null,
           null,
           0.029794228446014204,
           null
          ],
          [
           null,
           null,
           null,
           null,
           null,
           null,
           null,
           null,
           0.029692746772929907,
           null,
           null,
           null,
           null
          ],
          [
           null,
           null,
           null,
           null,
           null,
           null,
           null,
           null,
           null,
           0.028683470665972967,
           null,
           null,
           null
          ],
          [
           null,
           null,
           null,
           null,
           null,
           null,
           null,
           null,
           null,
           null,
           0.029634138868290208,
           null,
           null
          ],
          [
           null,
           null,
           null,
           0.029381212039641006,
           null,
           null,
           null,
           null,
           null,
           null,
           null,
           null,
           null
          ],
          [
           null,
           null,
           null,
           null,
           null,
           null,
           null,
           0.028392164684845664,
           null,
           null,
           null,
           null,
           null
          ],
          [
           null,
           null,
           null,
           null,
           null,
           null,
           null,
           0.02963325239678761,
           null,
           null,
           null,
           null,
           null
          ],
          [
           null,
           null,
           null,
           null,
           null,
           null,
           null,
           null,
           null,
           null,
           null,
           0.029393769192592924,
           null
          ],
          [
           null,
           null,
           null,
           null,
           null,
           null,
           0.02986944115002603,
           null,
           null,
           null,
           null,
           null,
           null
          ],
          [
           null,
           null,
           null,
           null,
           null,
           null,
           null,
           0.030083009807994422,
           null,
           null,
           null,
           null,
           null
          ],
          [
           null,
           null,
           null,
           null,
           null,
           null,
           null,
           0.029334459885212674,
           null,
           null,
           null,
           null,
           null
          ],
          [
           null,
           null,
           null,
           null,
           null,
           0.029238994132413213,
           null,
           null,
           null,
           null,
           null,
           null,
           null
          ],
          [
           null,
           null,
           null,
           null,
           null,
           0.028282209247603718,
           null,
           null,
           null,
           null,
           null,
           null,
           null
          ],
          [
           null,
           null,
           null,
           null,
           null,
           null,
           null,
           0.03002484272518845,
           null,
           null,
           null,
           null,
           null
          ],
          [
           null,
           null,
           null,
           null,
           null,
           null,
           null,
           0.029842340873697765,
           null,
           null,
           null,
           null,
           null
          ],
          [
           null,
           null,
           0.02959901742685048,
           null,
           null,
           null,
           null,
           null,
           null,
           null,
           null,
           null,
           null
          ],
          [
           null,
           null,
           null,
           null,
           null,
           0.029868588032976397,
           null,
           null,
           null,
           null,
           null,
           null,
           null
          ],
          [
           null,
           null,
           null,
           null,
           null,
           null,
           0.029979177199051892,
           null,
           null,
           null,
           null,
           null,
           null
          ],
          [
           null,
           0.02914594387551869,
           null,
           null,
           null,
           null,
           null,
           null,
           null,
           null,
           null,
           null,
           null
          ],
          [
           null,
           null,
           null,
           null,
           null,
           null,
           null,
           null,
           null,
           0.02967770782613019,
           null,
           null,
           null
          ],
          [
           null,
           null,
           null,
           null,
           null,
           null,
           null,
           null,
           null,
           0.029444172949849443,
           null,
           null,
           null
          ],
          [
           null,
           null,
           null,
           null,
           null,
           null,
           null,
           null,
           0.0299532290870617,
           null,
           null,
           null,
           null
          ],
          [
           null,
           null,
           null,
           null,
           null,
           null,
           null,
           null,
           0.02975309477829758,
           null,
           null,
           null,
           null
          ],
          [
           null,
           null,
           null,
           null,
           null,
           null,
           null,
           null,
           null,
           null,
           0.0289256543280657,
           null,
           null
          ],
          [
           null,
           null,
           null,
           null,
           null,
           null,
           null,
           null,
           0.02872545740578306,
           null,
           null,
           null,
           null
          ],
          [
           null,
           null,
           0.028816267818454644,
           null,
           null,
           null,
           null,
           null,
           null,
           null,
           null,
           null,
           null
          ],
          [
           null,
           null,
           null,
           null,
           0.028298802448229722,
           null,
           null,
           null,
           null,
           null,
           null,
           null,
           null
          ],
          [
           null,
           null,
           null,
           null,
           0.029677413780709868,
           null,
           null,
           null,
           null,
           null,
           null,
           null,
           null
          ],
          [
           null,
           null,
           null,
           null,
           0.029511126821920867,
           null,
           null,
           null,
           null,
           null,
           null,
           null,
           null
          ],
          [
           null,
           null,
           null,
           null,
           null,
           null,
           0.028885310530626526,
           null,
           null,
           null,
           null,
           null,
           null
          ],
          [
           null,
           null,
           null,
           null,
           null,
           null,
           null,
           null,
           null,
           null,
           null,
           null,
           null
          ]
         ]
        },
        {
         "marker": {
          "color": "black",
          "line": {
           "color": "Grey",
           "width": 0.5
          }
         },
         "mode": "markers",
         "showlegend": false,
         "type": "scatter",
         "x": [
          13,
          10,
          12,
          10,
          6,
          13,
          13,
          4,
          7,
          8,
          16,
          16,
          16,
          10,
          11,
          11,
          9,
          14,
          11,
          8,
          11,
          11,
          9,
          12,
          9,
          14,
          11,
          10,
          6,
          12,
          8,
          12
         ],
         "xaxis": "x2",
         "y": [
          0.03675601065850931,
          0.04710093671387566,
          0.03943895026941813,
          0.03100612579190866,
          0.04000080683905029,
          0.02528003903243234,
          0.03588519536883169,
          0.03536648054161582,
          0.027334140092839188,
          0.041655343184466634,
          0.021658593092099398,
          0.020388558377802547,
          0.02940228711200176,
          0.020354224184474058,
          0.031042764276297968,
          0.0311266943052536,
          0.031899177921659354,
          0.02554311877947319,
          0.03215222950232132,
          0.044480034801794285,
          0.03293602845877722,
          0.029193754233797237,
          0.03170991297440269,
          0.02477528927992667,
          0.03403575717600679,
          0.037872529234511725,
          0.028694358495534252,
          0.03436292242344645,
          0.034029712681263494,
          0.037014624407833055,
          0.04242487488121538,
          0.03761711650453397
         ],
         "yaxis": "y2"
        },
        {
         "type": "scatter",
         "xaxis": "x9",
         "yaxis": "y9"
        },
        {
         "colorbar": {
          "title": {
           "text": "Objective Value"
          }
         },
         "colorscale": [
          [
           0,
           "rgb(5,10,172)"
          ],
          [
           0.35,
           "rgb(40,60,190)"
          ],
          [
           0.5,
           "rgb(70,100,245)"
          ],
          [
           0.6,
           "rgb(90,120,245)"
          ],
          [
           0.7,
           "rgb(106,137,247)"
          ],
          [
           1,
           "rgb(220,220,220)"
          ]
         ],
         "connectgaps": true,
         "contours": {
          "coloring": "heatmap"
         },
         "hoverinfo": "none",
         "line": {
          "smoothing": 1.3
         },
         "reversescale": false,
         "showscale": false,
         "type": "contour",
         "x": [
          3.4,
          4,
          6,
          7,
          8,
          9,
          10,
          11,
          12,
          13,
          14,
          16,
          16.6
         ],
         "xaxis": "x16",
         "y": [
          10.8,
          12,
          13,
          14,
          15,
          16,
          17,
          18,
          19,
          20,
          22,
          24,
          26,
          28,
          29,
          32,
          33,
          36,
          37.2
         ],
         "yaxis": "y16",
         "z": [
          [
           null,
           null,
           null,
           null,
           null,
           null,
           null,
           null,
           null,
           null,
           null,
           null,
           null
          ],
          [
           null,
           null,
           null,
           null,
           null,
           0.028282209247603718,
           null,
           0.028392164684845664,
           null,
           null,
           null,
           null,
           null
          ],
          [
           null,
           null,
           null,
           0.029381212039641006,
           null,
           null,
           null,
           null,
           null,
           null,
           null,
           null,
           null
          ],
          [
           null,
           null,
           null,
           null,
           null,
           null,
           0.028885310530626526,
           null,
           null,
           null,
           null,
           null,
           null
          ],
          [
           null,
           null,
           null,
           null,
           null,
           null,
           0.02986944115002603,
           0.02963325239678761,
           null,
           null,
           0.0289256543280657,
           null,
           null
          ],
          [
           null,
           null,
           null,
           null,
           null,
           null,
           null,
           0.029334459885212674,
           null,
           null,
           null,
           null,
           null
          ],
          [
           null,
           null,
           null,
           null,
           null,
           null,
           0.02963632140236898,
           null,
           0.02872545740578306,
           null,
           null,
           null,
           null
          ],
          [
           null,
           null,
           null,
           null,
           null,
           0.029238994132413213,
           null,
           0.030083009807994422,
           null,
           null,
           null,
           null,
           null
          ],
          [
           null,
           null,
           null,
           null,
           0.029511126821920867,
           null,
           0.029979177199051892,
           0.03002484272518845,
           null,
           null,
           null,
           null,
           null
          ],
          [
           null,
           null,
           null,
           null,
           null,
           null,
           null,
           null,
           0.02975309477829758,
           null,
           null,
           0.029808838857595197,
           null
          ],
          [
           null,
           null,
           null,
           null,
           null,
           0.029868588032976397,
           null,
           null,
           0.029692746772929907,
           null,
           null,
           0.029393769192592924,
           null
          ],
          [
           null,
           null,
           0.02959901742685048,
           null,
           null,
           null,
           null,
           null,
           null,
           null,
           0.029634138868290208,
           null,
           null
          ],
          [
           null,
           0.02914594387551869,
           null,
           null,
           null,
           null,
           null,
           0.029842340873697765,
           null,
           null,
           null,
           null,
           null
          ],
          [
           null,
           null,
           null,
           null,
           0.029677413780709868,
           null,
           null,
           null,
           null,
           null,
           null,
           null,
           null
          ],
          [
           null,
           null,
           null,
           null,
           null,
           null,
           null,
           null,
           null,
           0.029444172949849443,
           null,
           null,
           null
          ],
          [
           null,
           null,
           null,
           null,
           0.028298802448229722,
           null,
           null,
           null,
           null,
           0.02967770782613019,
           null,
           null,
           null
          ],
          [
           null,
           null,
           0.028816267818454644,
           null,
           null,
           null,
           null,
           null,
           null,
           null,
           null,
           null,
           null
          ],
          [
           null,
           null,
           null,
           null,
           null,
           null,
           null,
           null,
           null,
           0.028683470665972967,
           null,
           null,
           null
          ],
          [
           null,
           null,
           null,
           null,
           null,
           null,
           null,
           null,
           null,
           null,
           null,
           null,
           null
          ]
         ]
        },
        {
         "marker": {
          "color": "black",
          "line": {
           "color": "Grey",
           "width": 0.5
          }
         },
         "mode": "markers",
         "showlegend": false,
         "type": "scatter",
         "x": [
          13,
          10,
          12,
          10,
          6,
          13,
          13,
          4,
          7,
          8,
          16,
          16,
          16,
          10,
          11,
          11,
          9,
          14,
          11,
          8,
          11,
          11,
          9,
          12,
          9,
          14,
          11,
          10,
          6,
          12,
          8,
          12
         ],
         "xaxis": "x16",
         "y": [
          29,
          14,
          17,
          15,
          33,
          36,
          32,
          26,
          13,
          32,
          20,
          20,
          22,
          17,
          18,
          16,
          12,
          24,
          19,
          19,
          26,
          15,
          18,
          22,
          22,
          15,
          12,
          19,
          24,
          20,
          28,
          20
         ],
         "yaxis": "y16"
        },
        {
         "colorbar": {
          "title": {
           "text": "Objective Value"
          }
         },
         "colorscale": [
          [
           0,
           "rgb(5,10,172)"
          ],
          [
           0.35,
           "rgb(40,60,190)"
          ],
          [
           0.5,
           "rgb(70,100,245)"
          ],
          [
           0.6,
           "rgb(90,120,245)"
          ],
          [
           0.7,
           "rgb(106,137,247)"
          ],
          [
           1,
           "rgb(220,220,220)"
          ]
         ],
         "connectgaps": true,
         "contours": {
          "coloring": "heatmap"
         },
         "hoverinfo": "none",
         "line": {
          "smoothing": 1.3
         },
         "reversescale": false,
         "showscale": false,
         "type": "contour",
         "x": [
          3.4,
          4,
          6,
          7,
          8,
          9,
          10,
          11,
          12,
          13,
          14,
          16,
          16.6
         ],
         "xaxis": "x23",
         "y": [
          3.4,
          4,
          5,
          7,
          8,
          9,
          10,
          11,
          12,
          13,
          14,
          15,
          16,
          16.6
         ],
         "yaxis": "y23",
         "z": [
          [
           null,
           null,
           null,
           null,
           null,
           null,
           null,
           null,
           null,
           null,
           null,
           null,
           null
          ],
          [
           null,
           null,
           0.028816267818454644,
           null,
           null,
           null,
           null,
           null,
           null,
           0.028683470665972967,
           null,
           null,
           null
          ],
          [
           null,
           null,
           null,
           null,
           0.028298802448229722,
           null,
           null,
           null,
           null,
           null,
           null,
           null,
           null
          ],
          [
           null,
           null,
           null,
           null,
           null,
           0.028282209247603718,
           null,
           null,
           null,
           null,
           null,
           null,
           null
          ],
          [
           null,
           null,
           null,
           null,
           null,
           null,
           null,
           0.028392164684845664,
           null,
           null,
           null,
           null,
           null
          ],
          [
           null,
           0.02914594387551869,
           null,
           null,
           null,
           null,
           null,
           null,
           null,
           null,
           null,
           null,
           null
          ],
          [
           null,
           null,
           null,
           null,
           null,
           null,
           null,
           null,
           0.02872545740578306,
           null,
           null,
           null,
           null
          ],
          [
           null,
           null,
           null,
           null,
           0.029677413780709868,
           null,
           0.028885310530626526,
           null,
           null,
           0.029444172949849443,
           null,
           null,
           null
          ],
          [
           null,
           null,
           0.02959901742685048,
           null,
           null,
           0.029238994132413213,
           null,
           null,
           null,
           null,
           0.0289256543280657,
           null,
           null
          ],
          [
           null,
           null,
           null,
           0.029381212039641006,
           null,
           null,
           null,
           0.029334459885212674,
           null,
           null,
           0.029634138868290208,
           null,
           null
          ],
          [
           null,
           null,
           null,
           null,
           null,
           null,
           null,
           0.02963325239678761,
           0.02975309477829758,
           null,
           null,
           0.029393769192592924,
           null
          ],
          [
           null,
           null,
           null,
           null,
           null,
           0.029868588032976397,
           0.029979177199051892,
           null,
           0.029692746772929907,
           0.02967770782613019,
           null,
           null,
           null
          ],
          [
           null,
           null,
           null,
           null,
           null,
           null,
           0.02963632140236898,
           null,
           null,
           null,
           null,
           0.029808838857595197,
           null
          ],
          [
           null,
           null,
           null,
           null,
           null,
           null,
           null,
           null,
           null,
           null,
           null,
           null,
           null
          ]
         ]
        },
        {
         "marker": {
          "color": "black",
          "line": {
           "color": "Grey",
           "width": 0.5
          }
         },
         "mode": "markers",
         "showlegend": false,
         "type": "scatter",
         "x": [
          13,
          10,
          12,
          10,
          6,
          13,
          13,
          4,
          7,
          8,
          16,
          16,
          16,
          10,
          11,
          11,
          9,
          14,
          11,
          8,
          11,
          11,
          9,
          12,
          9,
          14,
          11,
          10,
          6,
          12,
          8,
          12
         ],
         "xaxis": "x23",
         "y": [
          11,
          11,
          10,
          16,
          4,
          4,
          15,
          9,
          13,
          5,
          16,
          16,
          14,
          16,
          13,
          13,
          7,
          13,
          14,
          11,
          14,
          14,
          12,
          15,
          15,
          12,
          8,
          15,
          12,
          14,
          11,
          14
         ],
         "yaxis": "y23"
        },
        {
         "colorbar": {
          "title": {
           "text": "Objective Value"
          }
         },
         "colorscale": [
          [
           0,
           "rgb(5,10,172)"
          ],
          [
           0.35,
           "rgb(40,60,190)"
          ],
          [
           0.5,
           "rgb(70,100,245)"
          ],
          [
           0.6,
           "rgb(90,120,245)"
          ],
          [
           0.7,
           "rgb(106,137,247)"
          ],
          [
           1,
           "rgb(220,220,220)"
          ]
         ],
         "connectgaps": true,
         "contours": {
          "coloring": "heatmap"
         },
         "hoverinfo": "none",
         "line": {
          "smoothing": 1.3
         },
         "reversescale": false,
         "showscale": false,
         "type": "contour",
         "x": [
          3.4,
          4,
          6,
          7,
          8,
          9,
          10,
          11,
          12,
          13,
          14,
          16,
          16.6
         ],
         "xaxis": "x30",
         "y": [
          0.85,
          1,
          2,
          3,
          4,
          4.15
         ],
         "yaxis": "y30",
         "z": [
          [
           null,
           null,
           null,
           null,
           null,
           null,
           null,
           null,
           null,
           null,
           null,
           null,
           null
          ],
          [
           null,
           null,
           0.028816267818454644,
           null,
           null,
           0.029238994132413213,
           0.02986944115002603,
           0.029334459885212674,
           null,
           0.028683470665972967,
           0.0289256543280657,
           null,
           null
          ],
          [
           null,
           null,
           0.02959901742685048,
           null,
           0.029511126821920867,
           0.029868588032976397,
           0.029979177199051892,
           0.02963325239678761,
           0.02975309477829758,
           0.02967770782613019,
           null,
           null,
           null
          ],
          [
           null,
           0.02914594387551869,
           null,
           0.029381212039641006,
           0.029677413780709868,
           null,
           null,
           0.028392164684845664,
           null,
           null,
           null,
           0.029393769192592924,
           null
          ],
          [
           null,
           null,
           null,
           null,
           null,
           null,
           0.02963632140236898,
           null,
           0.02872545740578306,
           null,
           null,
           0.029808838857595197,
           null
          ],
          [
           null,
           null,
           null,
           null,
           null,
           null,
           null,
           null,
           null,
           null,
           null,
           null,
           null
          ]
         ]
        },
        {
         "marker": {
          "color": "black",
          "line": {
           "color": "Grey",
           "width": 0.5
          }
         },
         "mode": "markers",
         "showlegend": false,
         "type": "scatter",
         "x": [
          13,
          10,
          12,
          10,
          6,
          13,
          13,
          4,
          7,
          8,
          16,
          16,
          16,
          10,
          11,
          11,
          9,
          14,
          11,
          8,
          11,
          11,
          9,
          12,
          9,
          14,
          11,
          10,
          6,
          12,
          8,
          12
         ],
         "xaxis": "x30",
         "y": [
          2,
          1,
          4,
          1,
          1,
          1,
          2,
          3,
          3,
          2,
          4,
          4,
          3,
          4,
          2,
          1,
          2,
          1,
          2,
          2,
          3,
          2,
          1,
          2,
          2,
          1,
          3,
          2,
          2,
          2,
          3,
          2
         ],
         "yaxis": "y30"
        },
        {
         "colorbar": {
          "title": {
           "text": "Objective Value"
          }
         },
         "colorscale": [
          [
           0,
           "rgb(5,10,172)"
          ],
          [
           0.35,
           "rgb(40,60,190)"
          ],
          [
           0.5,
           "rgb(70,100,245)"
          ],
          [
           0.6,
           "rgb(90,120,245)"
          ],
          [
           0.7,
           "rgb(106,137,247)"
          ],
          [
           1,
           "rgb(220,220,220)"
          ]
         ],
         "connectgaps": true,
         "contours": {
          "coloring": "heatmap"
         },
         "hoverinfo": "none",
         "line": {
          "smoothing": 1.3
         },
         "reversescale": false,
         "showscale": false,
         "type": "contour",
         "x": [
          3.4,
          4,
          6,
          7,
          8,
          9,
          10,
          11,
          12,
          13,
          14,
          16,
          16.6
         ],
         "xaxis": "x37",
         "y": [
          0.6499999999999999,
          1,
          2,
          3,
          4,
          5,
          6,
          7,
          8,
          8.35
         ],
         "yaxis": "y37",
         "z": [
          [
           null,
           null,
           null,
           null,
           null,
           null,
           null,
           null,
           null,
           null,
           null,
           null,
           null
          ],
          [
           null,
           0.02914594387551869,
           null,
           null,
           null,
           null,
           null,
           null,
           null,
           0.02967770782613019,
           null,
           null,
           null
          ],
          [
           null,
           null,
           null,
           null,
           0.028298802448229722,
           null,
           null,
           null,
           null,
           null,
           null,
           null,
           null
          ],
          [
           null,
           null,
           null,
           null,
           null,
           null,
           0.02963632140236898,
           null,
           null,
           null,
           null,
           0.029393769192592924,
           null
          ],
          [
           null,
           null,
           0.02959901742685048,
           null,
           0.029677413780709868,
           null,
           null,
           null,
           null,
           null,
           null,
           null,
           null
          ],
          [
           null,
           null,
           null,
           null,
           null,
           null,
           0.028885310530626526,
           null,
           0.02872545740578306,
           0.029444172949849443,
           null,
           null,
           null
          ],
          [
           null,
           null,
           0.028816267818454644,
           null,
           0.029511126821920867,
           null,
           null,
           0.028392164684845664,
           null,
           null,
           null,
           null,
           null
          ],
          [
           null,
           null,
           null,
           0.029381212039641006,
           null,
           0.028282209247603718,
           null,
           null,
           0.02975309477829758,
           null,
           0.0289256543280657,
           null,
           null
          ],
          [
           null,
           null,
           null,
           null,
           null,
           0.029868588032976397,
           0.029979177199051892,
           0.02963325239678761,
           null,
           0.028683470665972967,
           null,
           null,
           null
          ],
          [
           null,
           null,
           null,
           null,
           null,
           null,
           null,
           null,
           null,
           null,
           null,
           null,
           null
          ]
         ]
        },
        {
         "marker": {
          "color": "black",
          "line": {
           "color": "Grey",
           "width": 0.5
          }
         },
         "mode": "markers",
         "showlegend": false,
         "type": "scatter",
         "x": [
          13,
          10,
          12,
          10,
          6,
          13,
          13,
          4,
          7,
          8,
          16,
          16,
          16,
          10,
          11,
          11,
          9,
          14,
          11,
          8,
          11,
          11,
          9,
          12,
          9,
          14,
          11,
          10,
          6,
          12,
          8,
          12
         ],
         "xaxis": "x37",
         "y": [
          5,
          5,
          5,
          8,
          6,
          8,
          1,
          1,
          7,
          2,
          3,
          3,
          3,
          3,
          8,
          8,
          7,
          7,
          8,
          6,
          6,
          8,
          8,
          7,
          8,
          7,
          6,
          8,
          4,
          7,
          4,
          7
         ],
         "yaxis": "y37"
        },
        {
         "colorbar": {
          "title": {
           "text": "Objective Value"
          }
         },
         "colorscale": [
          [
           0,
           "rgb(5,10,172)"
          ],
          [
           0.35,
           "rgb(40,60,190)"
          ],
          [
           0.5,
           "rgb(70,100,245)"
          ],
          [
           0.6,
           "rgb(90,120,245)"
          ],
          [
           0.7,
           "rgb(106,137,247)"
          ],
          [
           1,
           "rgb(220,220,220)"
          ]
         ],
         "connectgaps": true,
         "contours": {
          "coloring": "heatmap"
         },
         "hoverinfo": "none",
         "line": {
          "smoothing": 1.3
         },
         "reversescale": false,
         "showscale": false,
         "type": "contour",
         "x": [
          3.4,
          4,
          6,
          7,
          8,
          9,
          10,
          11,
          12,
          13,
          14,
          16,
          16.6
         ],
         "xaxis": "x44",
         "y": [
          0.85,
          1,
          2,
          3,
          4,
          4.15
         ],
         "yaxis": "y44",
         "z": [
          [
           null,
           null,
           null,
           null,
           null,
           null,
           null,
           null,
           null,
           null,
           null,
           null,
           null
          ],
          [
           null,
           0.02914594387551869,
           0.028816267818454644,
           0.029381212039641006,
           0.029677413780709868,
           0.029868588032976397,
           0.029979177199051892,
           0.02963325239678761,
           0.02975309477829758,
           null,
           0.0289256543280657,
           null,
           null
          ],
          [
           null,
           null,
           0.02959901742685048,
           null,
           0.029511126821920867,
           null,
           0.02963632140236898,
           0.028392164684845664,
           0.029692746772929907,
           null,
           null,
           0.029393769192592924,
           null
          ],
          [
           null,
           null,
           null,
           null,
           null,
           null,
           0.028885310530626526,
           null,
           0.02872545740578306,
           0.02967770782613019,
           null,
           null,
           null
          ],
          [
           null,
           null,
           null,
           null,
           0.028298802448229722,
           null,
           null,
           null,
           null,
           null,
           0.029634138868290208,
           null,
           null
          ],
          [
           null,
           null,
           null,
           null,
           null,
           null,
           null,
           null,
           null,
           null,
           null,
           null,
           null
          ]
         ]
        },
        {
         "marker": {
          "color": "black",
          "line": {
           "color": "Grey",
           "width": 0.5
          }
         },
         "mode": "markers",
         "showlegend": false,
         "type": "scatter",
         "x": [
          13,
          10,
          12,
          10,
          6,
          13,
          13,
          4,
          7,
          8,
          16,
          16,
          16,
          10,
          11,
          11,
          9,
          14,
          11,
          8,
          11,
          11,
          9,
          12,
          9,
          14,
          11,
          10,
          6,
          12,
          8,
          12
         ],
         "xaxis": "x44",
         "y": [
          3,
          3,
          3,
          1,
          1,
          3,
          3,
          1,
          1,
          4,
          2,
          2,
          2,
          2,
          1,
          1,
          1,
          4,
          1,
          2,
          1,
          1,
          1,
          2,
          1,
          1,
          2,
          1,
          2,
          1,
          1,
          1
         ],
         "yaxis": "y44"
        },
        {
         "colorbar": {
          "title": {
           "text": "Objective Value"
          }
         },
         "colorscale": [
          [
           0,
           "rgb(5,10,172)"
          ],
          [
           0.35,
           "rgb(40,60,190)"
          ],
          [
           0.5,
           "rgb(70,100,245)"
          ],
          [
           0.6,
           "rgb(90,120,245)"
          ],
          [
           0.7,
           "rgb(106,137,247)"
          ],
          [
           1,
           "rgb(220,220,220)"
          ]
         ],
         "connectgaps": true,
         "contours": {
          "coloring": "heatmap"
         },
         "hoverinfo": "none",
         "line": {
          "smoothing": 1.3
         },
         "reversescale": false,
         "showscale": false,
         "type": "contour",
         "x": [
          10.8,
          12,
          13,
          14,
          15,
          16,
          17,
          18,
          19,
          20,
          22,
          24,
          26,
          28,
          29,
          32,
          33,
          36,
          37.2
         ],
         "xaxis": "x3",
         "y": [
          0.01901688855800398,
          0.020354224184474058,
          0.020388558377802547,
          0.021658593092099398,
          0.02477528927992667,
          0.02528003903243234,
          0.02554311877947319,
          0.027334140092839188,
          0.028694358495534252,
          0.029193754233797237,
          0.02940228711200176,
          0.03100612579190866,
          0.031042764276297968,
          0.0311266943052536,
          0.03170991297440269,
          0.031899177921659354,
          0.03215222950232132,
          0.03293602845877722,
          0.034029712681263494,
          0.03403575717600679,
          0.03436292242344645,
          0.03536648054161582,
          0.03588519536883169,
          0.03675601065850931,
          0.037014624407833055,
          0.03761711650453397,
          0.037872529234511725,
          0.03943895026941813,
          0.04000080683905029,
          0.041655343184466634,
          0.04242487488121538,
          0.044480034801794285,
          0.04710093671387566,
          0.04843827234034574
         ],
         "yaxis": "y3",
         "z": [
          [
           null,
           null,
           null,
           null,
           null,
           null,
           null,
           null,
           null,
           null,
           null,
           null,
           null,
           null,
           null,
           null,
           null,
           null,
           null
          ],
          [
           null,
           null,
           null,
           null,
           null,
           null,
           0.02963632140236898,
           null,
           null,
           null,
           null,
           null,
           null,
           null,
           null,
           null,
           null,
           null,
           null
          ],
          [
           null,
           null,
           null,
           null,
           null,
           null,
           null,
           null,
           null,
           0.029808838857595197,
           null,
           null,
           null,
           null,
           null,
           null,
           null,
           null,
           null
          ],
          [
           null,
           null,
           null,
           null,
           null,
           null,
           null,
           null,
           null,
           0.029794228446014204,
           null,
           null,
           null,
           null,
           null,
           null,
           null,
           null,
           null
          ],
          [
           null,
           null,
           null,
           null,
           null,
           null,
           null,
           null,
           null,
           null,
           0.029692746772929907,
           null,
           null,
           null,
           null,
           null,
           null,
           null,
           null
          ],
          [
           null,
           null,
           null,
           null,
           null,
           null,
           null,
           null,
           null,
           null,
           null,
           null,
           null,
           null,
           null,
           null,
           null,
           0.028683470665972967,
           null
          ],
          [
           null,
           null,
           null,
           null,
           null,
           null,
           null,
           null,
           null,
           null,
           null,
           0.029634138868290208,
           null,
           null,
           null,
           null,
           null,
           null,
           null
          ],
          [
           null,
           null,
           0.029381212039641006,
           null,
           null,
           null,
           null,
           null,
           null,
           null,
           null,
           null,
           null,
           null,
           null,
           null,
           null,
           null,
           null
          ],
          [
           null,
           0.028392164684845664,
           null,
           null,
           null,
           null,
           null,
           null,
           null,
           null,
           null,
           null,
           null,
           null,
           null,
           null,
           null,
           null,
           null
          ],
          [
           null,
           null,
           null,
           null,
           0.02963325239678761,
           null,
           null,
           null,
           null,
           null,
           null,
           null,
           null,
           null,
           null,
           null,
           null,
           null,
           null
          ],
          [
           null,
           null,
           null,
           null,
           null,
           null,
           null,
           null,
           null,
           null,
           0.029393769192592924,
           null,
           null,
           null,
           null,
           null,
           null,
           null,
           null
          ],
          [
           null,
           null,
           null,
           null,
           0.02986944115002603,
           null,
           null,
           null,
           null,
           null,
           null,
           null,
           null,
           null,
           null,
           null,
           null,
           null,
           null
          ],
          [
           null,
           null,
           null,
           null,
           null,
           null,
           null,
           0.030083009807994422,
           null,
           null,
           null,
           null,
           null,
           null,
           null,
           null,
           null,
           null,
           null
          ],
          [
           null,
           null,
           null,
           null,
           null,
           0.029334459885212674,
           null,
           null,
           null,
           null,
           null,
           null,
           null,
           null,
           null,
           null,
           null,
           null,
           null
          ],
          [
           null,
           null,
           null,
           null,
           null,
           null,
           null,
           0.029238994132413213,
           null,
           null,
           null,
           null,
           null,
           null,
           null,
           null,
           null,
           null,
           null
          ],
          [
           null,
           0.028282209247603718,
           null,
           null,
           null,
           null,
           null,
           null,
           null,
           null,
           null,
           null,
           null,
           null,
           null,
           null,
           null,
           null,
           null
          ],
          [
           null,
           null,
           null,
           null,
           null,
           null,
           null,
           null,
           0.03002484272518845,
           null,
           null,
           null,
           null,
           null,
           null,
           null,
           null,
           null,
           null
          ],
          [
           null,
           null,
           null,
           null,
           null,
           null,
           null,
           null,
           null,
           null,
           null,
           null,
           0.029842340873697765,
           null,
           null,
           null,
           null,
           null,
           null
          ],
          [
           null,
           null,
           null,
           null,
           null,
           null,
           null,
           null,
           null,
           null,
           null,
           0.02959901742685048,
           null,
           null,
           null,
           null,
           null,
           null,
           null
          ],
          [
           null,
           null,
           null,
           null,
           null,
           null,
           null,
           null,
           null,
           null,
           0.029868588032976397,
           null,
           null,
           null,
           null,
           null,
           null,
           null,
           null
          ],
          [
           null,
           null,
           null,
           null,
           null,
           null,
           null,
           null,
           0.029979177199051892,
           null,
           null,
           null,
           null,
           null,
           null,
           null,
           null,
           null,
           null
          ],
          [
           null,
           null,
           null,
           null,
           null,
           null,
           null,
           null,
           null,
           null,
           null,
           null,
           0.02914594387551869,
           null,
           null,
           null,
           null,
           null,
           null
          ],
          [
           null,
           null,
           null,
           null,
           null,
           null,
           null,
           null,
           null,
           null,
           null,
           null,
           null,
           null,
           null,
           0.02967770782613019,
           null,
           null,
           null
          ],
          [
           null,
           null,
           null,
           null,
           null,
           null,
           null,
           null,
           null,
           null,
           null,
           null,
           null,
           null,
           0.029444172949849443,
           null,
           null,
           null,
           null
          ],
          [
           null,
           null,
           null,
           null,
           null,
           null,
           null,
           null,
           null,
           0.0299532290870617,
           null,
           null,
           null,
           null,
           null,
           null,
           null,
           null,
           null
          ],
          [
           null,
           null,
           null,
           null,
           null,
           null,
           null,
           null,
           null,
           0.02975309477829758,
           null,
           null,
           null,
           null,
           null,
           null,
           null,
           null,
           null
          ],
          [
           null,
           null,
           null,
           null,
           0.0289256543280657,
           null,
           null,
           null,
           null,
           null,
           null,
           null,
           null,
           null,
           null,
           null,
           null,
           null,
           null
          ],
          [
           null,
           null,
           null,
           null,
           null,
           null,
           0.02872545740578306,
           null,
           null,
           null,
           null,
           null,
           null,
           null,
           null,
           null,
           null,
           null,
           null
          ],
          [
           null,
           null,
           null,
           null,
           null,
           null,
           null,
           null,
           null,
           null,
           null,
           null,
           null,
           null,
           null,
           null,
           0.028816267818454644,
           null,
           null
          ],
          [
           null,
           null,
           null,
           null,
           null,
           null,
           null,
           null,
           null,
           null,
           null,
           null,
           null,
           null,
           null,
           0.028298802448229722,
           null,
           null,
           null
          ],
          [
           null,
           null,
           null,
           null,
           null,
           null,
           null,
           null,
           null,
           null,
           null,
           null,
           null,
           0.029677413780709868,
           null,
           null,
           null,
           null,
           null
          ],
          [
           null,
           null,
           null,
           null,
           null,
           null,
           null,
           null,
           0.029511126821920867,
           null,
           null,
           null,
           null,
           null,
           null,
           null,
           null,
           null,
           null
          ],
          [
           null,
           null,
           null,
           0.028885310530626526,
           null,
           null,
           null,
           null,
           null,
           null,
           null,
           null,
           null,
           null,
           null,
           null,
           null,
           null,
           null
          ],
          [
           null,
           null,
           null,
           null,
           null,
           null,
           null,
           null,
           null,
           null,
           null,
           null,
           null,
           null,
           null,
           null,
           null,
           null,
           null
          ]
         ]
        },
        {
         "marker": {
          "color": "black",
          "line": {
           "color": "Grey",
           "width": 0.5
          }
         },
         "mode": "markers",
         "showlegend": false,
         "type": "scatter",
         "x": [
          29,
          14,
          17,
          15,
          33,
          36,
          32,
          26,
          13,
          32,
          20,
          20,
          22,
          17,
          18,
          16,
          12,
          24,
          19,
          19,
          26,
          15,
          18,
          22,
          22,
          15,
          12,
          19,
          24,
          20,
          28,
          20
         ],
         "xaxis": "x3",
         "y": [
          0.03675601065850931,
          0.04710093671387566,
          0.03943895026941813,
          0.03100612579190866,
          0.04000080683905029,
          0.02528003903243234,
          0.03588519536883169,
          0.03536648054161582,
          0.027334140092839188,
          0.041655343184466634,
          0.021658593092099398,
          0.020388558377802547,
          0.02940228711200176,
          0.020354224184474058,
          0.031042764276297968,
          0.0311266943052536,
          0.031899177921659354,
          0.02554311877947319,
          0.03215222950232132,
          0.044480034801794285,
          0.03293602845877722,
          0.029193754233797237,
          0.03170991297440269,
          0.02477528927992667,
          0.03403575717600679,
          0.037872529234511725,
          0.028694358495534252,
          0.03436292242344645,
          0.034029712681263494,
          0.037014624407833055,
          0.04242487488121538,
          0.03761711650453397
         ],
         "yaxis": "y3"
        },
        {
         "colorbar": {
          "title": {
           "text": "Objective Value"
          }
         },
         "colorscale": [
          [
           0,
           "rgb(5,10,172)"
          ],
          [
           0.35,
           "rgb(40,60,190)"
          ],
          [
           0.5,
           "rgb(70,100,245)"
          ],
          [
           0.6,
           "rgb(90,120,245)"
          ],
          [
           0.7,
           "rgb(106,137,247)"
          ],
          [
           1,
           "rgb(220,220,220)"
          ]
         ],
         "connectgaps": true,
         "contours": {
          "coloring": "heatmap"
         },
         "hoverinfo": "none",
         "line": {
          "smoothing": 1.3
         },
         "reversescale": false,
         "showscale": false,
         "type": "contour",
         "x": [
          10.8,
          12,
          13,
          14,
          15,
          16,
          17,
          18,
          19,
          20,
          22,
          24,
          26,
          28,
          29,
          32,
          33,
          36,
          37.2
         ],
         "xaxis": "x10",
         "y": [
          3.4,
          4,
          6,
          7,
          8,
          9,
          10,
          11,
          12,
          13,
          14,
          16,
          16.6
         ],
         "yaxis": "y10",
         "z": [
          [
           null,
           null,
           null,
           null,
           null,
           null,
           null,
           null,
           null,
           null,
           null,
           null,
           null,
           null,
           null,
           null,
           null,
           null,
           null
          ],
          [
           null,
           null,
           null,
           null,
           null,
           null,
           null,
           null,
           null,
           null,
           null,
           null,
           0.02914594387551869,
           null,
           null,
           null,
           null,
           null,
           null
          ],
          [
           null,
           null,
           null,
           null,
           null,
           null,
           null,
           null,
           null,
           null,
           null,
           0.02959901742685048,
           null,
           null,
           null,
           null,
           0.028816267818454644,
           null,
           null
          ],
          [
           null,
           null,
           0.029381212039641006,
           null,
           null,
           null,
           null,
           null,
           null,
           null,
           null,
           null,
           null,
           null,
           null,
           null,
           null,
           null,
           null
          ],
          [
           null,
           null,
           null,
           null,
           null,
           null,
           null,
           null,
           0.029511126821920867,
           null,
           null,
           null,
           null,
           0.029677413780709868,
           null,
           0.028298802448229722,
           null,
           null,
           null
          ],
          [
           null,
           0.028282209247603718,
           null,
           null,
           null,
           null,
           null,
           0.029238994132413213,
           null,
           null,
           0.029868588032976397,
           null,
           null,
           null,
           null,
           null,
           null,
           null,
           null
          ],
          [
           null,
           null,
           null,
           0.028885310530626526,
           0.02986944115002603,
           null,
           0.02963632140236898,
           null,
           0.029979177199051892,
           null,
           null,
           null,
           null,
           null,
           null,
           null,
           null,
           null,
           null
          ],
          [
           null,
           0.028392164684845664,
           null,
           null,
           0.02963325239678761,
           0.029334459885212674,
           null,
           0.030083009807994422,
           0.03002484272518845,
           null,
           null,
           null,
           0.029842340873697765,
           null,
           null,
           null,
           null,
           null,
           null
          ],
          [
           null,
           null,
           null,
           null,
           null,
           null,
           0.02872545740578306,
           null,
           null,
           0.02975309477829758,
           0.029692746772929907,
           null,
           null,
           null,
           null,
           null,
           null,
           null,
           null
          ],
          [
           null,
           null,
           null,
           null,
           null,
           null,
           null,
           null,
           null,
           null,
           null,
           null,
           null,
           null,
           0.029444172949849443,
           0.02967770782613019,
           null,
           0.028683470665972967,
           null
          ],
          [
           null,
           null,
           null,
           null,
           0.0289256543280657,
           null,
           null,
           null,
           null,
           null,
           null,
           0.029634138868290208,
           null,
           null,
           null,
           null,
           null,
           null,
           null
          ],
          [
           null,
           null,
           null,
           null,
           null,
           null,
           null,
           null,
           null,
           0.029808838857595197,
           0.029393769192592924,
           null,
           null,
           null,
           null,
           null,
           null,
           null,
           null
          ],
          [
           null,
           null,
           null,
           null,
           null,
           null,
           null,
           null,
           null,
           null,
           null,
           null,
           null,
           null,
           null,
           null,
           null,
           null,
           null
          ]
         ]
        },
        {
         "marker": {
          "color": "black",
          "line": {
           "color": "Grey",
           "width": 0.5
          }
         },
         "mode": "markers",
         "showlegend": false,
         "type": "scatter",
         "x": [
          29,
          14,
          17,
          15,
          33,
          36,
          32,
          26,
          13,
          32,
          20,
          20,
          22,
          17,
          18,
          16,
          12,
          24,
          19,
          19,
          26,
          15,
          18,
          22,
          22,
          15,
          12,
          19,
          24,
          20,
          28,
          20
         ],
         "xaxis": "x10",
         "y": [
          13,
          10,
          12,
          10,
          6,
          13,
          13,
          4,
          7,
          8,
          16,
          16,
          16,
          10,
          11,
          11,
          9,
          14,
          11,
          8,
          11,
          11,
          9,
          12,
          9,
          14,
          11,
          10,
          6,
          12,
          8,
          12
         ],
         "yaxis": "y10"
        },
        {
         "type": "scatter",
         "xaxis": "x17",
         "yaxis": "y17"
        },
        {
         "colorbar": {
          "title": {
           "text": "Objective Value"
          }
         },
         "colorscale": [
          [
           0,
           "rgb(5,10,172)"
          ],
          [
           0.35,
           "rgb(40,60,190)"
          ],
          [
           0.5,
           "rgb(70,100,245)"
          ],
          [
           0.6,
           "rgb(90,120,245)"
          ],
          [
           0.7,
           "rgb(106,137,247)"
          ],
          [
           1,
           "rgb(220,220,220)"
          ]
         ],
         "connectgaps": true,
         "contours": {
          "coloring": "heatmap"
         },
         "hoverinfo": "none",
         "line": {
          "smoothing": 1.3
         },
         "reversescale": false,
         "showscale": false,
         "type": "contour",
         "x": [
          10.8,
          12,
          13,
          14,
          15,
          16,
          17,
          18,
          19,
          20,
          22,
          24,
          26,
          28,
          29,
          32,
          33,
          36,
          37.2
         ],
         "xaxis": "x24",
         "y": [
          3.4,
          4,
          5,
          7,
          8,
          9,
          10,
          11,
          12,
          13,
          14,
          15,
          16,
          16.6
         ],
         "yaxis": "y24",
         "z": [
          [
           null,
           null,
           null,
           null,
           null,
           null,
           null,
           null,
           null,
           null,
           null,
           null,
           null,
           null,
           null,
           null,
           null,
           null,
           null
          ],
          [
           null,
           null,
           null,
           null,
           null,
           null,
           null,
           null,
           null,
           null,
           null,
           null,
           null,
           null,
           null,
           null,
           0.028816267818454644,
           0.028683470665972967,
           null
          ],
          [
           null,
           null,
           null,
           null,
           null,
           null,
           null,
           null,
           null,
           null,
           null,
           null,
           null,
           null,
           null,
           0.028298802448229722,
           null,
           null,
           null
          ],
          [
           null,
           0.028282209247603718,
           null,
           null,
           null,
           null,
           null,
           null,
           null,
           null,
           null,
           null,
           null,
           null,
           null,
           null,
           null,
           null,
           null
          ],
          [
           null,
           0.028392164684845664,
           null,
           null,
           null,
           null,
           null,
           null,
           null,
           null,
           null,
           null,
           null,
           null,
           null,
           null,
           null,
           null,
           null
          ],
          [
           null,
           null,
           null,
           null,
           null,
           null,
           null,
           null,
           null,
           null,
           null,
           null,
           0.02914594387551869,
           null,
           null,
           null,
           null,
           null,
           null
          ],
          [
           null,
           null,
           null,
           null,
           null,
           null,
           0.02872545740578306,
           null,
           null,
           null,
           null,
           null,
           null,
           null,
           null,
           null,
           null,
           null,
           null
          ],
          [
           null,
           null,
           null,
           0.028885310530626526,
           null,
           null,
           null,
           null,
           0.029511126821920867,
           null,
           null,
           null,
           null,
           0.029677413780709868,
           0.029444172949849443,
           null,
           null,
           null,
           null
          ],
          [
           null,
           null,
           null,
           null,
           0.0289256543280657,
           null,
           null,
           0.029238994132413213,
           null,
           null,
           null,
           0.02959901742685048,
           null,
           null,
           null,
           null,
           null,
           null,
           null
          ],
          [
           null,
           null,
           0.029381212039641006,
           null,
           null,
           0.029334459885212674,
           null,
           0.030083009807994422,
           null,
           null,
           null,
           0.029634138868290208,
           null,
           null,
           null,
           null,
           null,
           null,
           null
          ],
          [
           null,
           null,
           null,
           null,
           0.02963325239678761,
           null,
           null,
           null,
           0.03002484272518845,
           0.02975309477829758,
           0.029393769192592924,
           null,
           0.029842340873697765,
           null,
           null,
           null,
           null,
           null,
           null
          ],
          [
           null,
           null,
           null,
           null,
           null,
           null,
           null,
           null,
           0.029979177199051892,
           null,
           0.029868588032976397,
           null,
           null,
           null,
           null,
           0.02967770782613019,
           null,
           null,
           null
          ],
          [
           null,
           null,
           null,
           null,
           0.02986944115002603,
           null,
           0.02963632140236898,
           null,
           null,
           0.029808838857595197,
           null,
           null,
           null,
           null,
           null,
           null,
           null,
           null,
           null
          ],
          [
           null,
           null,
           null,
           null,
           null,
           null,
           null,
           null,
           null,
           null,
           null,
           null,
           null,
           null,
           null,
           null,
           null,
           null,
           null
          ]
         ]
        },
        {
         "marker": {
          "color": "black",
          "line": {
           "color": "Grey",
           "width": 0.5
          }
         },
         "mode": "markers",
         "showlegend": false,
         "type": "scatter",
         "x": [
          29,
          14,
          17,
          15,
          33,
          36,
          32,
          26,
          13,
          32,
          20,
          20,
          22,
          17,
          18,
          16,
          12,
          24,
          19,
          19,
          26,
          15,
          18,
          22,
          22,
          15,
          12,
          19,
          24,
          20,
          28,
          20
         ],
         "xaxis": "x24",
         "y": [
          11,
          11,
          10,
          16,
          4,
          4,
          15,
          9,
          13,
          5,
          16,
          16,
          14,
          16,
          13,
          13,
          7,
          13,
          14,
          11,
          14,
          14,
          12,
          15,
          15,
          12,
          8,
          15,
          12,
          14,
          11,
          14
         ],
         "yaxis": "y24"
        },
        {
         "colorbar": {
          "title": {
           "text": "Objective Value"
          }
         },
         "colorscale": [
          [
           0,
           "rgb(5,10,172)"
          ],
          [
           0.35,
           "rgb(40,60,190)"
          ],
          [
           0.5,
           "rgb(70,100,245)"
          ],
          [
           0.6,
           "rgb(90,120,245)"
          ],
          [
           0.7,
           "rgb(106,137,247)"
          ],
          [
           1,
           "rgb(220,220,220)"
          ]
         ],
         "connectgaps": true,
         "contours": {
          "coloring": "heatmap"
         },
         "hoverinfo": "none",
         "line": {
          "smoothing": 1.3
         },
         "reversescale": false,
         "showscale": false,
         "type": "contour",
         "x": [
          10.8,
          12,
          13,
          14,
          15,
          16,
          17,
          18,
          19,
          20,
          22,
          24,
          26,
          28,
          29,
          32,
          33,
          36,
          37.2
         ],
         "xaxis": "x31",
         "y": [
          0.85,
          1,
          2,
          3,
          4,
          4.15
         ],
         "yaxis": "y31",
         "z": [
          [
           null,
           null,
           null,
           null,
           null,
           null,
           null,
           null,
           null,
           null,
           null,
           null,
           null,
           null,
           null,
           null,
           null,
           null,
           null
          ],
          [
           null,
           null,
           null,
           0.028885310530626526,
           0.0289256543280657,
           0.029334459885212674,
           null,
           0.029238994132413213,
           null,
           null,
           null,
           0.029634138868290208,
           null,
           null,
           null,
           null,
           0.028816267818454644,
           0.028683470665972967,
           null
          ],
          [
           null,
           0.028282209247603718,
           null,
           null,
           0.02963325239678761,
           null,
           null,
           0.030083009807994422,
           0.029979177199051892,
           0.02975309477829758,
           0.029868588032976397,
           0.02959901742685048,
           null,
           null,
           0.029444172949849443,
           0.028298802448229722,
           null,
           null,
           null
          ],
          [
           null,
           0.028392164684845664,
           0.029381212039641006,
           null,
           null,
           null,
           null,
           null,
           null,
           null,
           0.029393769192592924,
           null,
           0.029842340873697765,
           0.029677413780709868,
           null,
           null,
           null,
           null,
           null
          ],
          [
           null,
           null,
           null,
           null,
           null,
           null,
           0.02963632140236898,
           null,
           null,
           0.029808838857595197,
           null,
           null,
           null,
           null,
           null,
           null,
           null,
           null,
           null
          ],
          [
           null,
           null,
           null,
           null,
           null,
           null,
           null,
           null,
           null,
           null,
           null,
           null,
           null,
           null,
           null,
           null,
           null,
           null,
           null
          ]
         ]
        },
        {
         "marker": {
          "color": "black",
          "line": {
           "color": "Grey",
           "width": 0.5
          }
         },
         "mode": "markers",
         "showlegend": false,
         "type": "scatter",
         "x": [
          29,
          14,
          17,
          15,
          33,
          36,
          32,
          26,
          13,
          32,
          20,
          20,
          22,
          17,
          18,
          16,
          12,
          24,
          19,
          19,
          26,
          15,
          18,
          22,
          22,
          15,
          12,
          19,
          24,
          20,
          28,
          20
         ],
         "xaxis": "x31",
         "y": [
          2,
          1,
          4,
          1,
          1,
          1,
          2,
          3,
          3,
          2,
          4,
          4,
          3,
          4,
          2,
          1,
          2,
          1,
          2,
          2,
          3,
          2,
          1,
          2,
          2,
          1,
          3,
          2,
          2,
          2,
          3,
          2
         ],
         "yaxis": "y31"
        },
        {
         "colorbar": {
          "title": {
           "text": "Objective Value"
          }
         },
         "colorscale": [
          [
           0,
           "rgb(5,10,172)"
          ],
          [
           0.35,
           "rgb(40,60,190)"
          ],
          [
           0.5,
           "rgb(70,100,245)"
          ],
          [
           0.6,
           "rgb(90,120,245)"
          ],
          [
           0.7,
           "rgb(106,137,247)"
          ],
          [
           1,
           "rgb(220,220,220)"
          ]
         ],
         "connectgaps": true,
         "contours": {
          "coloring": "heatmap"
         },
         "hoverinfo": "none",
         "line": {
          "smoothing": 1.3
         },
         "reversescale": false,
         "showscale": false,
         "type": "contour",
         "x": [
          10.8,
          12,
          13,
          14,
          15,
          16,
          17,
          18,
          19,
          20,
          22,
          24,
          26,
          28,
          29,
          32,
          33,
          36,
          37.2
         ],
         "xaxis": "x38",
         "y": [
          0.6499999999999999,
          1,
          2,
          3,
          4,
          5,
          6,
          7,
          8,
          8.35
         ],
         "yaxis": "y38",
         "z": [
          [
           null,
           null,
           null,
           null,
           null,
           null,
           null,
           null,
           null,
           null,
           null,
           null,
           null,
           null,
           null,
           null,
           null,
           null,
           null
          ],
          [
           null,
           null,
           null,
           null,
           null,
           null,
           null,
           null,
           null,
           null,
           null,
           null,
           0.02914594387551869,
           null,
           null,
           0.02967770782613019,
           null,
           null,
           null
          ],
          [
           null,
           null,
           null,
           null,
           null,
           null,
           null,
           null,
           null,
           null,
           null,
           null,
           null,
           null,
           null,
           0.028298802448229722,
           null,
           null,
           null
          ],
          [
           null,
           null,
           null,
           null,
           null,
           null,
           0.02963632140236898,
           null,
           null,
           0.029808838857595197,
           0.029393769192592924,
           null,
           null,
           null,
           null,
           null,
           null,
           null,
           null
          ],
          [
           null,
           null,
           null,
           null,
           null,
           null,
           null,
           null,
           null,
           null,
           null,
           0.02959901742685048,
           null,
           0.029677413780709868,
           null,
           null,
           null,
           null,
           null
          ],
          [
           null,
           null,
           null,
           0.028885310530626526,
           null,
           null,
           0.02872545740578306,
           null,
           null,
           null,
           null,
           null,
           null,
           null,
           0.029444172949849443,
           null,
           null,
           null,
           null
          ],
          [
           null,
           0.028392164684845664,
           null,
           null,
           null,
           null,
           null,
           null,
           0.029511126821920867,
           null,
           null,
           null,
           0.029842340873697765,
           null,
           null,
           null,
           0.028816267818454644,
           null,
           null
          ],
          [
           null,
           0.028282209247603718,
           0.029381212039641006,
           null,
           0.0289256543280657,
           null,
           null,
           null,
           null,
           0.02975309477829758,
           0.029692746772929907,
           0.029634138868290208,
           null,
           null,
           null,
           null,
           null,
           null,
           null
          ],
          [
           null,
           null,
           null,
           null,
           0.02963325239678761,
           0.029334459885212674,
           null,
           0.029238994132413213,
           0.029979177199051892,
           null,
           0.029868588032976397,
           null,
           null,
           null,
           null,
           null,
           null,
           0.028683470665972967,
           null
          ],
          [
           null,
           null,
           null,
           null,
           null,
           null,
           null,
           null,
           null,
           null,
           null,
           null,
           null,
           null,
           null,
           null,
           null,
           null,
           null
          ]
         ]
        },
        {
         "marker": {
          "color": "black",
          "line": {
           "color": "Grey",
           "width": 0.5
          }
         },
         "mode": "markers",
         "showlegend": false,
         "type": "scatter",
         "x": [
          29,
          14,
          17,
          15,
          33,
          36,
          32,
          26,
          13,
          32,
          20,
          20,
          22,
          17,
          18,
          16,
          12,
          24,
          19,
          19,
          26,
          15,
          18,
          22,
          22,
          15,
          12,
          19,
          24,
          20,
          28,
          20
         ],
         "xaxis": "x38",
         "y": [
          5,
          5,
          5,
          8,
          6,
          8,
          1,
          1,
          7,
          2,
          3,
          3,
          3,
          3,
          8,
          8,
          7,
          7,
          8,
          6,
          6,
          8,
          8,
          7,
          8,
          7,
          6,
          8,
          4,
          7,
          4,
          7
         ],
         "yaxis": "y38"
        },
        {
         "colorbar": {
          "title": {
           "text": "Objective Value"
          }
         },
         "colorscale": [
          [
           0,
           "rgb(5,10,172)"
          ],
          [
           0.35,
           "rgb(40,60,190)"
          ],
          [
           0.5,
           "rgb(70,100,245)"
          ],
          [
           0.6,
           "rgb(90,120,245)"
          ],
          [
           0.7,
           "rgb(106,137,247)"
          ],
          [
           1,
           "rgb(220,220,220)"
          ]
         ],
         "connectgaps": true,
         "contours": {
          "coloring": "heatmap"
         },
         "hoverinfo": "none",
         "line": {
          "smoothing": 1.3
         },
         "reversescale": false,
         "showscale": false,
         "type": "contour",
         "x": [
          10.8,
          12,
          13,
          14,
          15,
          16,
          17,
          18,
          19,
          20,
          22,
          24,
          26,
          28,
          29,
          32,
          33,
          36,
          37.2
         ],
         "xaxis": "x45",
         "y": [
          0.85,
          1,
          2,
          3,
          4,
          4.15
         ],
         "yaxis": "y45",
         "z": [
          [
           null,
           null,
           null,
           null,
           null,
           null,
           null,
           null,
           null,
           null,
           null,
           null,
           null,
           null,
           null,
           null,
           null,
           null,
           null
          ],
          [
           null,
           0.028282209247603718,
           0.029381212039641006,
           null,
           0.0289256543280657,
           0.029334459885212674,
           null,
           0.029238994132413213,
           0.029979177199051892,
           0.02975309477829758,
           0.029868588032976397,
           null,
           0.029842340873697765,
           0.029677413780709868,
           null,
           null,
           0.028816267818454644,
           null,
           null
          ],
          [
           null,
           0.028392164684845664,
           null,
           null,
           null,
           null,
           0.02963632140236898,
           null,
           0.029511126821920867,
           0.029808838857595197,
           0.029692746772929907,
           0.02959901742685048,
           null,
           null,
           null,
           null,
           null,
           null,
           null
          ],
          [
           null,
           null,
           null,
           0.028885310530626526,
           null,
           null,
           0.02872545740578306,
           null,
           null,
           null,
           null,
           null,
           null,
           null,
           0.029444172949849443,
           0.02967770782613019,
           null,
           0.028683470665972967,
           null
          ],
          [
           null,
           null,
           null,
           null,
           null,
           null,
           null,
           null,
           null,
           null,
           null,
           0.029634138868290208,
           null,
           null,
           null,
           0.028298802448229722,
           null,
           null,
           null
          ],
          [
           null,
           null,
           null,
           null,
           null,
           null,
           null,
           null,
           null,
           null,
           null,
           null,
           null,
           null,
           null,
           null,
           null,
           null,
           null
          ]
         ]
        },
        {
         "marker": {
          "color": "black",
          "line": {
           "color": "Grey",
           "width": 0.5
          }
         },
         "mode": "markers",
         "showlegend": false,
         "type": "scatter",
         "x": [
          29,
          14,
          17,
          15,
          33,
          36,
          32,
          26,
          13,
          32,
          20,
          20,
          22,
          17,
          18,
          16,
          12,
          24,
          19,
          19,
          26,
          15,
          18,
          22,
          22,
          15,
          12,
          19,
          24,
          20,
          28,
          20
         ],
         "xaxis": "x45",
         "y": [
          3,
          3,
          3,
          1,
          1,
          3,
          3,
          1,
          1,
          4,
          2,
          2,
          2,
          2,
          1,
          1,
          1,
          4,
          1,
          2,
          1,
          1,
          1,
          2,
          1,
          1,
          2,
          1,
          2,
          1,
          1,
          1
         ],
         "yaxis": "y45"
        },
        {
         "colorbar": {
          "title": {
           "text": "Objective Value"
          }
         },
         "colorscale": [
          [
           0,
           "rgb(5,10,172)"
          ],
          [
           0.35,
           "rgb(40,60,190)"
          ],
          [
           0.5,
           "rgb(70,100,245)"
          ],
          [
           0.6,
           "rgb(90,120,245)"
          ],
          [
           0.7,
           "rgb(106,137,247)"
          ],
          [
           1,
           "rgb(220,220,220)"
          ]
         ],
         "connectgaps": true,
         "contours": {
          "coloring": "heatmap"
         },
         "hoverinfo": "none",
         "line": {
          "smoothing": 1.3
         },
         "reversescale": false,
         "showscale": false,
         "type": "contour",
         "x": [
          3.4,
          4,
          5,
          7,
          8,
          9,
          10,
          11,
          12,
          13,
          14,
          15,
          16,
          16.6
         ],
         "xaxis": "x4",
         "y": [
          0.01901688855800398,
          0.020354224184474058,
          0.020388558377802547,
          0.021658593092099398,
          0.02477528927992667,
          0.02528003903243234,
          0.02554311877947319,
          0.027334140092839188,
          0.028694358495534252,
          0.029193754233797237,
          0.02940228711200176,
          0.03100612579190866,
          0.031042764276297968,
          0.0311266943052536,
          0.03170991297440269,
          0.031899177921659354,
          0.03215222950232132,
          0.03293602845877722,
          0.034029712681263494,
          0.03403575717600679,
          0.03436292242344645,
          0.03536648054161582,
          0.03588519536883169,
          0.03675601065850931,
          0.037014624407833055,
          0.03761711650453397,
          0.037872529234511725,
          0.03943895026941813,
          0.04000080683905029,
          0.041655343184466634,
          0.04242487488121538,
          0.044480034801794285,
          0.04710093671387566,
          0.04843827234034574
         ],
         "yaxis": "y4",
         "z": [
          [
           null,
           null,
           null,
           null,
           null,
           null,
           null,
           null,
           null,
           null,
           null,
           null,
           null,
           null
          ],
          [
           null,
           null,
           null,
           null,
           null,
           null,
           null,
           null,
           null,
           null,
           null,
           null,
           0.02963632140236898,
           null
          ],
          [
           null,
           null,
           null,
           null,
           null,
           null,
           null,
           null,
           null,
           null,
           null,
           null,
           0.029808838857595197,
           null
          ],
          [
           null,
           null,
           null,
           null,
           null,
           null,
           null,
           null,
           null,
           null,
           null,
           null,
           0.029794228446014204,
           null
          ],
          [
           null,
           null,
           null,
           null,
           null,
           null,
           null,
           null,
           null,
           null,
           null,
           0.029692746772929907,
           null,
           null
          ],
          [
           null,
           0.028683470665972967,
           null,
           null,
           null,
           null,
           null,
           null,
           null,
           null,
           null,
           null,
           null,
           null
          ],
          [
           null,
           null,
           null,
           null,
           null,
           null,
           null,
           null,
           null,
           0.029634138868290208,
           null,
           null,
           null,
           null
          ],
          [
           null,
           null,
           null,
           null,
           null,
           null,
           null,
           null,
           null,
           0.029381212039641006,
           null,
           null,
           null,
           null
          ],
          [
           null,
           null,
           null,
           null,
           0.028392164684845664,
           null,
           null,
           null,
           null,
           null,
           null,
           null,
           null,
           null
          ],
          [
           null,
           null,
           null,
           null,
           null,
           null,
           null,
           null,
           null,
           null,
           0.02963325239678761,
           null,
           null,
           null
          ],
          [
           null,
           null,
           null,
           null,
           null,
           null,
           null,
           null,
           null,
           null,
           0.029393769192592924,
           null,
           null,
           null
          ],
          [
           null,
           null,
           null,
           null,
           null,
           null,
           null,
           null,
           null,
           null,
           null,
           null,
           0.02986944115002603,
           null
          ],
          [
           null,
           null,
           null,
           null,
           null,
           null,
           null,
           null,
           null,
           0.030083009807994422,
           null,
           null,
           null,
           null
          ],
          [
           null,
           null,
           null,
           null,
           null,
           null,
           null,
           null,
           null,
           0.029334459885212674,
           null,
           null,
           null,
           null
          ],
          [
           null,
           null,
           null,
           null,
           null,
           null,
           null,
           null,
           0.029238994132413213,
           null,
           null,
           null,
           null,
           null
          ],
          [
           null,
           null,
           null,
           0.028282209247603718,
           null,
           null,
           null,
           null,
           null,
           null,
           null,
           null,
           null,
           null
          ],
          [
           null,
           null,
           null,
           null,
           null,
           null,
           null,
           null,
           null,
           null,
           0.03002484272518845,
           null,
           null,
           null
          ],
          [
           null,
           null,
           null,
           null,
           null,
           null,
           null,
           null,
           null,
           null,
           0.029842340873697765,
           null,
           null,
           null
          ],
          [
           null,
           null,
           null,
           null,
           null,
           null,
           null,
           null,
           0.02959901742685048,
           null,
           null,
           null,
           null,
           null
          ],
          [
           null,
           null,
           null,
           null,
           null,
           null,
           null,
           null,
           null,
           null,
           null,
           0.029868588032976397,
           null,
           null
          ],
          [
           null,
           null,
           null,
           null,
           null,
           null,
           null,
           null,
           null,
           null,
           null,
           0.029979177199051892,
           null,
           null
          ],
          [
           null,
           null,
           null,
           null,
           null,
           0.02914594387551869,
           null,
           null,
           null,
           null,
           null,
           null,
           null,
           null
          ],
          [
           null,
           null,
           null,
           null,
           null,
           null,
           null,
           null,
           null,
           null,
           null,
           0.02967770782613019,
           null,
           null
          ],
          [
           null,
           null,
           null,
           null,
           null,
           null,
           null,
           0.029444172949849443,
           null,
           null,
           null,
           null,
           null,
           null
          ],
          [
           null,
           null,
           null,
           null,
           null,
           null,
           null,
           null,
           null,
           null,
           0.0299532290870617,
           null,
           null,
           null
          ],
          [
           null,
           null,
           null,
           null,
           null,
           null,
           null,
           null,
           null,
           null,
           0.02975309477829758,
           null,
           null,
           null
          ],
          [
           null,
           null,
           null,
           null,
           null,
           null,
           null,
           null,
           0.0289256543280657,
           null,
           null,
           null,
           null,
           null
          ],
          [
           null,
           null,
           null,
           null,
           null,
           null,
           0.02872545740578306,
           null,
           null,
           null,
           null,
           null,
           null,
           null
          ],
          [
           null,
           0.028816267818454644,
           null,
           null,
           null,
           null,
           null,
           null,
           null,
           null,
           null,
           null,
           null,
           null
          ],
          [
           null,
           null,
           0.028298802448229722,
           null,
           null,
           null,
           null,
           null,
           null,
           null,
           null,
           null,
           null,
           null
          ],
          [
           null,
           null,
           null,
           null,
           null,
           null,
           null,
           0.029677413780709868,
           null,
           null,
           null,
           null,
           null,
           null
          ],
          [
           null,
           null,
           null,
           null,
           null,
           null,
           null,
           0.029511126821920867,
           null,
           null,
           null,
           null,
           null,
           null
          ],
          [
           null,
           null,
           null,
           null,
           null,
           null,
           null,
           0.028885310530626526,
           null,
           null,
           null,
           null,
           null,
           null
          ],
          [
           null,
           null,
           null,
           null,
           null,
           null,
           null,
           null,
           null,
           null,
           null,
           null,
           null,
           null
          ]
         ]
        },
        {
         "marker": {
          "color": "black",
          "line": {
           "color": "Grey",
           "width": 0.5
          }
         },
         "mode": "markers",
         "showlegend": false,
         "type": "scatter",
         "x": [
          11,
          11,
          10,
          16,
          4,
          4,
          15,
          9,
          13,
          5,
          16,
          16,
          14,
          16,
          13,
          13,
          7,
          13,
          14,
          11,
          14,
          14,
          12,
          15,
          15,
          12,
          8,
          15,
          12,
          14,
          11,
          14
         ],
         "xaxis": "x4",
         "y": [
          0.03675601065850931,
          0.04710093671387566,
          0.03943895026941813,
          0.03100612579190866,
          0.04000080683905029,
          0.02528003903243234,
          0.03588519536883169,
          0.03536648054161582,
          0.027334140092839188,
          0.041655343184466634,
          0.021658593092099398,
          0.020388558377802547,
          0.02940228711200176,
          0.020354224184474058,
          0.031042764276297968,
          0.0311266943052536,
          0.031899177921659354,
          0.02554311877947319,
          0.03215222950232132,
          0.044480034801794285,
          0.03293602845877722,
          0.029193754233797237,
          0.03170991297440269,
          0.02477528927992667,
          0.03403575717600679,
          0.037872529234511725,
          0.028694358495534252,
          0.03436292242344645,
          0.034029712681263494,
          0.037014624407833055,
          0.04242487488121538,
          0.03761711650453397
         ],
         "yaxis": "y4"
        },
        {
         "colorbar": {
          "title": {
           "text": "Objective Value"
          }
         },
         "colorscale": [
          [
           0,
           "rgb(5,10,172)"
          ],
          [
           0.35,
           "rgb(40,60,190)"
          ],
          [
           0.5,
           "rgb(70,100,245)"
          ],
          [
           0.6,
           "rgb(90,120,245)"
          ],
          [
           0.7,
           "rgb(106,137,247)"
          ],
          [
           1,
           "rgb(220,220,220)"
          ]
         ],
         "connectgaps": true,
         "contours": {
          "coloring": "heatmap"
         },
         "hoverinfo": "none",
         "line": {
          "smoothing": 1.3
         },
         "reversescale": false,
         "showscale": false,
         "type": "contour",
         "x": [
          3.4,
          4,
          5,
          7,
          8,
          9,
          10,
          11,
          12,
          13,
          14,
          15,
          16,
          16.6
         ],
         "xaxis": "x11",
         "y": [
          3.4,
          4,
          6,
          7,
          8,
          9,
          10,
          11,
          12,
          13,
          14,
          16,
          16.6
         ],
         "yaxis": "y11",
         "z": [
          [
           null,
           null,
           null,
           null,
           null,
           null,
           null,
           null,
           null,
           null,
           null,
           null,
           null,
           null
          ],
          [
           null,
           null,
           null,
           null,
           null,
           0.02914594387551869,
           null,
           null,
           null,
           null,
           null,
           null,
           null,
           null
          ],
          [
           null,
           0.028816267818454644,
           null,
           null,
           null,
           null,
           null,
           null,
           0.02959901742685048,
           null,
           null,
           null,
           null,
           null
          ],
          [
           null,
           null,
           null,
           null,
           null,
           null,
           null,
           null,
           null,
           0.029381212039641006,
           null,
           null,
           null,
           null
          ],
          [
           null,
           null,
           0.028298802448229722,
           null,
           null,
           null,
           null,
           0.029677413780709868,
           null,
           null,
           null,
           null,
           null,
           null
          ],
          [
           null,
           null,
           null,
           0.028282209247603718,
           null,
           null,
           null,
           null,
           0.029238994132413213,
           null,
           null,
           0.029868588032976397,
           null,
           null
          ],
          [
           null,
           null,
           null,
           null,
           null,
           null,
           null,
           0.028885310530626526,
           null,
           null,
           null,
           0.029979177199051892,
           0.02963632140236898,
           null
          ],
          [
           null,
           null,
           null,
           null,
           0.028392164684845664,
           null,
           null,
           null,
           null,
           0.029334459885212674,
           0.02963325239678761,
           null,
           null,
           null
          ],
          [
           null,
           null,
           null,
           null,
           null,
           null,
           0.02872545740578306,
           null,
           null,
           null,
           0.02975309477829758,
           0.029692746772929907,
           null,
           null
          ],
          [
           null,
           0.028683470665972967,
           null,
           null,
           null,
           null,
           null,
           0.029444172949849443,
           null,
           null,
           null,
           0.02967770782613019,
           null,
           null
          ],
          [
           null,
           null,
           null,
           null,
           null,
           null,
           null,
           null,
           0.0289256543280657,
           0.029634138868290208,
           null,
           null,
           null,
           null
          ],
          [
           null,
           null,
           null,
           null,
           null,
           null,
           null,
           null,
           null,
           null,
           0.029393769192592924,
           null,
           0.029808838857595197,
           null
          ],
          [
           null,
           null,
           null,
           null,
           null,
           null,
           null,
           null,
           null,
           null,
           null,
           null,
           null,
           null
          ]
         ]
        },
        {
         "marker": {
          "color": "black",
          "line": {
           "color": "Grey",
           "width": 0.5
          }
         },
         "mode": "markers",
         "showlegend": false,
         "type": "scatter",
         "x": [
          11,
          11,
          10,
          16,
          4,
          4,
          15,
          9,
          13,
          5,
          16,
          16,
          14,
          16,
          13,
          13,
          7,
          13,
          14,
          11,
          14,
          14,
          12,
          15,
          15,
          12,
          8,
          15,
          12,
          14,
          11,
          14
         ],
         "xaxis": "x11",
         "y": [
          13,
          10,
          12,
          10,
          6,
          13,
          13,
          4,
          7,
          8,
          16,
          16,
          16,
          10,
          11,
          11,
          9,
          14,
          11,
          8,
          11,
          11,
          9,
          12,
          9,
          14,
          11,
          10,
          6,
          12,
          8,
          12
         ],
         "yaxis": "y11"
        },
        {
         "colorbar": {
          "title": {
           "text": "Objective Value"
          }
         },
         "colorscale": [
          [
           0,
           "rgb(5,10,172)"
          ],
          [
           0.35,
           "rgb(40,60,190)"
          ],
          [
           0.5,
           "rgb(70,100,245)"
          ],
          [
           0.6,
           "rgb(90,120,245)"
          ],
          [
           0.7,
           "rgb(106,137,247)"
          ],
          [
           1,
           "rgb(220,220,220)"
          ]
         ],
         "connectgaps": true,
         "contours": {
          "coloring": "heatmap"
         },
         "hoverinfo": "none",
         "line": {
          "smoothing": 1.3
         },
         "reversescale": false,
         "showscale": false,
         "type": "contour",
         "x": [
          3.4,
          4,
          5,
          7,
          8,
          9,
          10,
          11,
          12,
          13,
          14,
          15,
          16,
          16.6
         ],
         "xaxis": "x18",
         "y": [
          10.8,
          12,
          13,
          14,
          15,
          16,
          17,
          18,
          19,
          20,
          22,
          24,
          26,
          28,
          29,
          32,
          33,
          36,
          37.2
         ],
         "yaxis": "y18",
         "z": [
          [
           null,
           null,
           null,
           null,
           null,
           null,
           null,
           null,
           null,
           null,
           null,
           null,
           null,
           null
          ],
          [
           null,
           null,
           null,
           0.028282209247603718,
           0.028392164684845664,
           null,
           null,
           null,
           null,
           null,
           null,
           null,
           null,
           null
          ],
          [
           null,
           null,
           null,
           null,
           null,
           null,
           null,
           null,
           null,
           0.029381212039641006,
           null,
           null,
           null,
           null
          ],
          [
           null,
           null,
           null,
           null,
           null,
           null,
           null,
           0.028885310530626526,
           null,
           null,
           null,
           null,
           null,
           null
          ],
          [
           null,
           null,
           null,
           null,
           null,
           null,
           null,
           null,
           0.0289256543280657,
           null,
           0.02963325239678761,
           null,
           0.02986944115002603,
           null
          ],
          [
           null,
           null,
           null,
           null,
           null,
           null,
           null,
           null,
           null,
           0.029334459885212674,
           null,
           null,
           null,
           null
          ],
          [
           null,
           null,
           null,
           null,
           null,
           null,
           0.02872545740578306,
           null,
           null,
           null,
           null,
           null,
           0.02963632140236898,
           null
          ],
          [
           null,
           null,
           null,
           null,
           null,
           null,
           null,
           null,
           0.029238994132413213,
           0.030083009807994422,
           null,
           null,
           null,
           null
          ],
          [
           null,
           null,
           null,
           null,
           null,
           null,
           null,
           0.029511126821920867,
           null,
           null,
           0.03002484272518845,
           0.029979177199051892,
           null,
           null
          ],
          [
           null,
           null,
           null,
           null,
           null,
           null,
           null,
           null,
           null,
           null,
           0.02975309477829758,
           null,
           0.029808838857595197,
           null
          ],
          [
           null,
           null,
           null,
           null,
           null,
           null,
           null,
           null,
           null,
           null,
           0.029393769192592924,
           0.029868588032976397,
           null,
           null
          ],
          [
           null,
           null,
           null,
           null,
           null,
           null,
           null,
           null,
           0.02959901742685048,
           0.029634138868290208,
           null,
           null,
           null,
           null
          ],
          [
           null,
           null,
           null,
           null,
           null,
           0.02914594387551869,
           null,
           null,
           null,
           null,
           0.029842340873697765,
           null,
           null,
           null
          ],
          [
           null,
           null,
           null,
           null,
           null,
           null,
           null,
           0.029677413780709868,
           null,
           null,
           null,
           null,
           null,
           null
          ],
          [
           null,
           null,
           null,
           null,
           null,
           null,
           null,
           0.029444172949849443,
           null,
           null,
           null,
           null,
           null,
           null
          ],
          [
           null,
           null,
           0.028298802448229722,
           null,
           null,
           null,
           null,
           null,
           null,
           null,
           null,
           0.02967770782613019,
           null,
           null
          ],
          [
           null,
           0.028816267818454644,
           null,
           null,
           null,
           null,
           null,
           null,
           null,
           null,
           null,
           null,
           null,
           null
          ],
          [
           null,
           0.028683470665972967,
           null,
           null,
           null,
           null,
           null,
           null,
           null,
           null,
           null,
           null,
           null,
           null
          ],
          [
           null,
           null,
           null,
           null,
           null,
           null,
           null,
           null,
           null,
           null,
           null,
           null,
           null,
           null
          ]
         ]
        },
        {
         "marker": {
          "color": "black",
          "line": {
           "color": "Grey",
           "width": 0.5
          }
         },
         "mode": "markers",
         "showlegend": false,
         "type": "scatter",
         "x": [
          11,
          11,
          10,
          16,
          4,
          4,
          15,
          9,
          13,
          5,
          16,
          16,
          14,
          16,
          13,
          13,
          7,
          13,
          14,
          11,
          14,
          14,
          12,
          15,
          15,
          12,
          8,
          15,
          12,
          14,
          11,
          14
         ],
         "xaxis": "x18",
         "y": [
          29,
          14,
          17,
          15,
          33,
          36,
          32,
          26,
          13,
          32,
          20,
          20,
          22,
          17,
          18,
          16,
          12,
          24,
          19,
          19,
          26,
          15,
          18,
          22,
          22,
          15,
          12,
          19,
          24,
          20,
          28,
          20
         ],
         "yaxis": "y18"
        },
        {
         "type": "scatter",
         "xaxis": "x25",
         "yaxis": "y25"
        },
        {
         "colorbar": {
          "title": {
           "text": "Objective Value"
          }
         },
         "colorscale": [
          [
           0,
           "rgb(5,10,172)"
          ],
          [
           0.35,
           "rgb(40,60,190)"
          ],
          [
           0.5,
           "rgb(70,100,245)"
          ],
          [
           0.6,
           "rgb(90,120,245)"
          ],
          [
           0.7,
           "rgb(106,137,247)"
          ],
          [
           1,
           "rgb(220,220,220)"
          ]
         ],
         "connectgaps": true,
         "contours": {
          "coloring": "heatmap"
         },
         "hoverinfo": "none",
         "line": {
          "smoothing": 1.3
         },
         "reversescale": false,
         "showscale": false,
         "type": "contour",
         "x": [
          3.4,
          4,
          5,
          7,
          8,
          9,
          10,
          11,
          12,
          13,
          14,
          15,
          16,
          16.6
         ],
         "xaxis": "x32",
         "y": [
          0.85,
          1,
          2,
          3,
          4,
          4.15
         ],
         "yaxis": "y32",
         "z": [
          [
           null,
           null,
           null,
           null,
           null,
           null,
           null,
           null,
           null,
           null,
           null,
           null,
           null,
           null
          ],
          [
           null,
           0.028683470665972967,
           null,
           null,
           null,
           null,
           null,
           0.028885310530626526,
           0.0289256543280657,
           0.029634138868290208,
           null,
           null,
           0.02986944115002603,
           null
          ],
          [
           null,
           null,
           0.028298802448229722,
           0.028282209247603718,
           null,
           null,
           null,
           0.029511126821920867,
           0.02959901742685048,
           0.030083009807994422,
           0.02975309477829758,
           0.029979177199051892,
           null,
           null
          ],
          [
           null,
           null,
           null,
           null,
           0.028392164684845664,
           0.02914594387551869,
           null,
           0.029677413780709868,
           null,
           0.029381212039641006,
           0.029842340873697765,
           null,
           null,
           null
          ],
          [
           null,
           null,
           null,
           null,
           null,
           null,
           0.02872545740578306,
           null,
           null,
           null,
           null,
           null,
           0.02963632140236898,
           null
          ],
          [
           null,
           null,
           null,
           null,
           null,
           null,
           null,
           null,
           null,
           null,
           null,
           null,
           null,
           null
          ]
         ]
        },
        {
         "marker": {
          "color": "black",
          "line": {
           "color": "Grey",
           "width": 0.5
          }
         },
         "mode": "markers",
         "showlegend": false,
         "type": "scatter",
         "x": [
          11,
          11,
          10,
          16,
          4,
          4,
          15,
          9,
          13,
          5,
          16,
          16,
          14,
          16,
          13,
          13,
          7,
          13,
          14,
          11,
          14,
          14,
          12,
          15,
          15,
          12,
          8,
          15,
          12,
          14,
          11,
          14
         ],
         "xaxis": "x32",
         "y": [
          2,
          1,
          4,
          1,
          1,
          1,
          2,
          3,
          3,
          2,
          4,
          4,
          3,
          4,
          2,
          1,
          2,
          1,
          2,
          2,
          3,
          2,
          1,
          2,
          2,
          1,
          3,
          2,
          2,
          2,
          3,
          2
         ],
         "yaxis": "y32"
        },
        {
         "colorbar": {
          "title": {
           "text": "Objective Value"
          }
         },
         "colorscale": [
          [
           0,
           "rgb(5,10,172)"
          ],
          [
           0.35,
           "rgb(40,60,190)"
          ],
          [
           0.5,
           "rgb(70,100,245)"
          ],
          [
           0.6,
           "rgb(90,120,245)"
          ],
          [
           0.7,
           "rgb(106,137,247)"
          ],
          [
           1,
           "rgb(220,220,220)"
          ]
         ],
         "connectgaps": true,
         "contours": {
          "coloring": "heatmap"
         },
         "hoverinfo": "none",
         "line": {
          "smoothing": 1.3
         },
         "reversescale": false,
         "showscale": false,
         "type": "contour",
         "x": [
          3.4,
          4,
          5,
          7,
          8,
          9,
          10,
          11,
          12,
          13,
          14,
          15,
          16,
          16.6
         ],
         "xaxis": "x39",
         "y": [
          0.6499999999999999,
          1,
          2,
          3,
          4,
          5,
          6,
          7,
          8,
          8.35
         ],
         "yaxis": "y39",
         "z": [
          [
           null,
           null,
           null,
           null,
           null,
           null,
           null,
           null,
           null,
           null,
           null,
           null,
           null,
           null
          ],
          [
           null,
           null,
           null,
           null,
           null,
           0.02914594387551869,
           null,
           null,
           null,
           null,
           null,
           0.02967770782613019,
           null,
           null
          ],
          [
           null,
           null,
           0.028298802448229722,
           null,
           null,
           null,
           null,
           null,
           null,
           null,
           null,
           null,
           null,
           null
          ],
          [
           null,
           null,
           null,
           null,
           null,
           null,
           null,
           null,
           null,
           null,
           0.029393769192592924,
           null,
           0.02963632140236898,
           null
          ],
          [
           null,
           null,
           null,
           null,
           null,
           null,
           null,
           0.029677413780709868,
           0.02959901742685048,
           null,
           null,
           null,
           null,
           null
          ],
          [
           null,
           null,
           null,
           null,
           null,
           null,
           0.02872545740578306,
           0.028885310530626526,
           null,
           null,
           null,
           null,
           null,
           null
          ],
          [
           null,
           0.028816267818454644,
           null,
           null,
           0.028392164684845664,
           null,
           null,
           0.029511126821920867,
           null,
           null,
           0.029842340873697765,
           null,
           null,
           null
          ],
          [
           null,
           null,
           null,
           0.028282209247603718,
           null,
           null,
           null,
           null,
           0.0289256543280657,
           0.029634138868290208,
           0.02975309477829758,
           0.029692746772929907,
           null,
           null
          ],
          [
           null,
           0.028683470665972967,
           null,
           null,
           null,
           null,
           null,
           null,
           0.029238994132413213,
           0.029334459885212674,
           0.02963325239678761,
           0.029979177199051892,
           0.02986944115002603,
           null
          ],
          [
           null,
           null,
           null,
           null,
           null,
           null,
           null,
           null,
           null,
           null,
           null,
           null,
           null,
           null
          ]
         ]
        },
        {
         "marker": {
          "color": "black",
          "line": {
           "color": "Grey",
           "width": 0.5
          }
         },
         "mode": "markers",
         "showlegend": false,
         "type": "scatter",
         "x": [
          11,
          11,
          10,
          16,
          4,
          4,
          15,
          9,
          13,
          5,
          16,
          16,
          14,
          16,
          13,
          13,
          7,
          13,
          14,
          11,
          14,
          14,
          12,
          15,
          15,
          12,
          8,
          15,
          12,
          14,
          11,
          14
         ],
         "xaxis": "x39",
         "y": [
          5,
          5,
          5,
          8,
          6,
          8,
          1,
          1,
          7,
          2,
          3,
          3,
          3,
          3,
          8,
          8,
          7,
          7,
          8,
          6,
          6,
          8,
          8,
          7,
          8,
          7,
          6,
          8,
          4,
          7,
          4,
          7
         ],
         "yaxis": "y39"
        },
        {
         "colorbar": {
          "title": {
           "text": "Objective Value"
          }
         },
         "colorscale": [
          [
           0,
           "rgb(5,10,172)"
          ],
          [
           0.35,
           "rgb(40,60,190)"
          ],
          [
           0.5,
           "rgb(70,100,245)"
          ],
          [
           0.6,
           "rgb(90,120,245)"
          ],
          [
           0.7,
           "rgb(106,137,247)"
          ],
          [
           1,
           "rgb(220,220,220)"
          ]
         ],
         "connectgaps": true,
         "contours": {
          "coloring": "heatmap"
         },
         "hoverinfo": "none",
         "line": {
          "smoothing": 1.3
         },
         "reversescale": false,
         "showscale": false,
         "type": "contour",
         "x": [
          3.4,
          4,
          5,
          7,
          8,
          9,
          10,
          11,
          12,
          13,
          14,
          15,
          16,
          16.6
         ],
         "xaxis": "x46",
         "y": [
          0.85,
          1,
          2,
          3,
          4,
          4.15
         ],
         "yaxis": "y46",
         "z": [
          [
           null,
           null,
           null,
           null,
           null,
           null,
           null,
           null,
           null,
           null,
           null,
           null,
           null,
           null
          ],
          [
           null,
           0.028816267818454644,
           null,
           0.028282209247603718,
           null,
           0.02914594387551869,
           null,
           0.029677413780709868,
           0.0289256543280657,
           0.029334459885212674,
           0.02975309477829758,
           0.029979177199051892,
           0.02986944115002603,
           null
          ],
          [
           null,
           null,
           null,
           null,
           0.028392164684845664,
           null,
           null,
           0.029511126821920867,
           0.02959901742685048,
           null,
           0.029393769192592924,
           0.029692746772929907,
           0.02963632140236898,
           null
          ],
          [
           null,
           0.028683470665972967,
           null,
           null,
           null,
           null,
           0.02872545740578306,
           0.028885310530626526,
           null,
           null,
           null,
           0.02967770782613019,
           null,
           null
          ],
          [
           null,
           null,
           0.028298802448229722,
           null,
           null,
           null,
           null,
           null,
           null,
           0.029634138868290208,
           null,
           null,
           null,
           null
          ],
          [
           null,
           null,
           null,
           null,
           null,
           null,
           null,
           null,
           null,
           null,
           null,
           null,
           null,
           null
          ]
         ]
        },
        {
         "marker": {
          "color": "black",
          "line": {
           "color": "Grey",
           "width": 0.5
          }
         },
         "mode": "markers",
         "showlegend": false,
         "type": "scatter",
         "x": [
          11,
          11,
          10,
          16,
          4,
          4,
          15,
          9,
          13,
          5,
          16,
          16,
          14,
          16,
          13,
          13,
          7,
          13,
          14,
          11,
          14,
          14,
          12,
          15,
          15,
          12,
          8,
          15,
          12,
          14,
          11,
          14
         ],
         "xaxis": "x46",
         "y": [
          3,
          3,
          3,
          1,
          1,
          3,
          3,
          1,
          1,
          4,
          2,
          2,
          2,
          2,
          1,
          1,
          1,
          4,
          1,
          2,
          1,
          1,
          1,
          2,
          1,
          1,
          2,
          1,
          2,
          1,
          1,
          1
         ],
         "yaxis": "y46"
        },
        {
         "colorbar": {
          "title": {
           "text": "Objective Value"
          }
         },
         "colorscale": [
          [
           0,
           "rgb(5,10,172)"
          ],
          [
           0.35,
           "rgb(40,60,190)"
          ],
          [
           0.5,
           "rgb(70,100,245)"
          ],
          [
           0.6,
           "rgb(90,120,245)"
          ],
          [
           0.7,
           "rgb(106,137,247)"
          ],
          [
           1,
           "rgb(220,220,220)"
          ]
         ],
         "connectgaps": true,
         "contours": {
          "coloring": "heatmap"
         },
         "hoverinfo": "none",
         "line": {
          "smoothing": 1.3
         },
         "reversescale": false,
         "showscale": false,
         "type": "contour",
         "x": [
          0.85,
          1,
          2,
          3,
          4,
          4.15
         ],
         "xaxis": "x5",
         "y": [
          0.01901688855800398,
          0.020354224184474058,
          0.020388558377802547,
          0.021658593092099398,
          0.02477528927992667,
          0.02528003903243234,
          0.02554311877947319,
          0.027334140092839188,
          0.028694358495534252,
          0.029193754233797237,
          0.02940228711200176,
          0.03100612579190866,
          0.031042764276297968,
          0.0311266943052536,
          0.03170991297440269,
          0.031899177921659354,
          0.03215222950232132,
          0.03293602845877722,
          0.034029712681263494,
          0.03403575717600679,
          0.03436292242344645,
          0.03536648054161582,
          0.03588519536883169,
          0.03675601065850931,
          0.037014624407833055,
          0.03761711650453397,
          0.037872529234511725,
          0.03943895026941813,
          0.04000080683905029,
          0.041655343184466634,
          0.04242487488121538,
          0.044480034801794285,
          0.04710093671387566,
          0.04843827234034574
         ],
         "yaxis": "y5",
         "z": [
          [
           null,
           null,
           null,
           null,
           null,
           null
          ],
          [
           null,
           null,
           null,
           null,
           0.02963632140236898,
           null
          ],
          [
           null,
           null,
           null,
           null,
           0.029808838857595197,
           null
          ],
          [
           null,
           null,
           null,
           null,
           0.029794228446014204,
           null
          ],
          [
           null,
           null,
           0.029692746772929907,
           null,
           null,
           null
          ],
          [
           null,
           0.028683470665972967,
           null,
           null,
           null,
           null
          ],
          [
           null,
           0.029634138868290208,
           null,
           null,
           null,
           null
          ],
          [
           null,
           null,
           null,
           0.029381212039641006,
           null,
           null
          ],
          [
           null,
           null,
           null,
           0.028392164684845664,
           null,
           null
          ],
          [
           null,
           null,
           0.02963325239678761,
           null,
           null,
           null
          ],
          [
           null,
           null,
           null,
           0.029393769192592924,
           null,
           null
          ],
          [
           null,
           0.02986944115002603,
           null,
           null,
           null,
           null
          ],
          [
           null,
           null,
           0.030083009807994422,
           null,
           null,
           null
          ],
          [
           null,
           0.029334459885212674,
           null,
           null,
           null,
           null
          ],
          [
           null,
           0.029238994132413213,
           null,
           null,
           null,
           null
          ],
          [
           null,
           null,
           0.028282209247603718,
           null,
           null,
           null
          ],
          [
           null,
           null,
           0.03002484272518845,
           null,
           null,
           null
          ],
          [
           null,
           null,
           null,
           0.029842340873697765,
           null,
           null
          ],
          [
           null,
           null,
           0.02959901742685048,
           null,
           null,
           null
          ],
          [
           null,
           null,
           0.029868588032976397,
           null,
           null,
           null
          ],
          [
           null,
           null,
           0.029979177199051892,
           null,
           null,
           null
          ],
          [
           null,
           null,
           null,
           0.02914594387551869,
           null,
           null
          ],
          [
           null,
           null,
           0.02967770782613019,
           null,
           null,
           null
          ],
          [
           null,
           null,
           0.029444172949849443,
           null,
           null,
           null
          ],
          [
           null,
           null,
           0.0299532290870617,
           null,
           null,
           null
          ],
          [
           null,
           null,
           0.02975309477829758,
           null,
           null,
           null
          ],
          [
           null,
           0.0289256543280657,
           null,
           null,
           null,
           null
          ],
          [
           null,
           null,
           null,
           null,
           0.02872545740578306,
           null
          ],
          [
           null,
           0.028816267818454644,
           null,
           null,
           null,
           null
          ],
          [
           null,
           null,
           0.028298802448229722,
           null,
           null,
           null
          ],
          [
           null,
           null,
           null,
           0.029677413780709868,
           null,
           null
          ],
          [
           null,
           null,
           0.029511126821920867,
           null,
           null,
           null
          ],
          [
           null,
           0.028885310530626526,
           null,
           null,
           null,
           null
          ],
          [
           null,
           null,
           null,
           null,
           null,
           null
          ]
         ]
        },
        {
         "marker": {
          "color": "black",
          "line": {
           "color": "Grey",
           "width": 0.5
          }
         },
         "mode": "markers",
         "showlegend": false,
         "type": "scatter",
         "x": [
          2,
          1,
          4,
          1,
          1,
          1,
          2,
          3,
          3,
          2,
          4,
          4,
          3,
          4,
          2,
          1,
          2,
          1,
          2,
          2,
          3,
          2,
          1,
          2,
          2,
          1,
          3,
          2,
          2,
          2,
          3,
          2
         ],
         "xaxis": "x5",
         "y": [
          0.03675601065850931,
          0.04710093671387566,
          0.03943895026941813,
          0.03100612579190866,
          0.04000080683905029,
          0.02528003903243234,
          0.03588519536883169,
          0.03536648054161582,
          0.027334140092839188,
          0.041655343184466634,
          0.021658593092099398,
          0.020388558377802547,
          0.02940228711200176,
          0.020354224184474058,
          0.031042764276297968,
          0.0311266943052536,
          0.031899177921659354,
          0.02554311877947319,
          0.03215222950232132,
          0.044480034801794285,
          0.03293602845877722,
          0.029193754233797237,
          0.03170991297440269,
          0.02477528927992667,
          0.03403575717600679,
          0.037872529234511725,
          0.028694358495534252,
          0.03436292242344645,
          0.034029712681263494,
          0.037014624407833055,
          0.04242487488121538,
          0.03761711650453397
         ],
         "yaxis": "y5"
        },
        {
         "colorbar": {
          "title": {
           "text": "Objective Value"
          }
         },
         "colorscale": [
          [
           0,
           "rgb(5,10,172)"
          ],
          [
           0.35,
           "rgb(40,60,190)"
          ],
          [
           0.5,
           "rgb(70,100,245)"
          ],
          [
           0.6,
           "rgb(90,120,245)"
          ],
          [
           0.7,
           "rgb(106,137,247)"
          ],
          [
           1,
           "rgb(220,220,220)"
          ]
         ],
         "connectgaps": true,
         "contours": {
          "coloring": "heatmap"
         },
         "hoverinfo": "none",
         "line": {
          "smoothing": 1.3
         },
         "reversescale": false,
         "showscale": false,
         "type": "contour",
         "x": [
          0.85,
          1,
          2,
          3,
          4,
          4.15
         ],
         "xaxis": "x12",
         "y": [
          3.4,
          4,
          6,
          7,
          8,
          9,
          10,
          11,
          12,
          13,
          14,
          16,
          16.6
         ],
         "yaxis": "y12",
         "z": [
          [
           null,
           null,
           null,
           null,
           null,
           null
          ],
          [
           null,
           null,
           null,
           0.02914594387551869,
           null,
           null
          ],
          [
           null,
           0.028816267818454644,
           0.02959901742685048,
           null,
           null,
           null
          ],
          [
           null,
           null,
           null,
           0.029381212039641006,
           null,
           null
          ],
          [
           null,
           null,
           0.029511126821920867,
           0.029677413780709868,
           null,
           null
          ],
          [
           null,
           0.029238994132413213,
           0.029868588032976397,
           null,
           null,
           null
          ],
          [
           null,
           0.02986944115002603,
           0.029979177199051892,
           null,
           0.02963632140236898,
           null
          ],
          [
           null,
           0.029334459885212674,
           0.02963325239678761,
           0.028392164684845664,
           null,
           null
          ],
          [
           null,
           null,
           0.02975309477829758,
           null,
           0.02872545740578306,
           null
          ],
          [
           null,
           0.028683470665972967,
           0.02967770782613019,
           null,
           null,
           null
          ],
          [
           null,
           0.0289256543280657,
           null,
           null,
           null,
           null
          ],
          [
           null,
           null,
           null,
           0.029393769192592924,
           0.029808838857595197,
           null
          ],
          [
           null,
           null,
           null,
           null,
           null,
           null
          ]
         ]
        },
        {
         "marker": {
          "color": "black",
          "line": {
           "color": "Grey",
           "width": 0.5
          }
         },
         "mode": "markers",
         "showlegend": false,
         "type": "scatter",
         "x": [
          2,
          1,
          4,
          1,
          1,
          1,
          2,
          3,
          3,
          2,
          4,
          4,
          3,
          4,
          2,
          1,
          2,
          1,
          2,
          2,
          3,
          2,
          1,
          2,
          2,
          1,
          3,
          2,
          2,
          2,
          3,
          2
         ],
         "xaxis": "x12",
         "y": [
          13,
          10,
          12,
          10,
          6,
          13,
          13,
          4,
          7,
          8,
          16,
          16,
          16,
          10,
          11,
          11,
          9,
          14,
          11,
          8,
          11,
          11,
          9,
          12,
          9,
          14,
          11,
          10,
          6,
          12,
          8,
          12
         ],
         "yaxis": "y12"
        },
        {
         "colorbar": {
          "title": {
           "text": "Objective Value"
          }
         },
         "colorscale": [
          [
           0,
           "rgb(5,10,172)"
          ],
          [
           0.35,
           "rgb(40,60,190)"
          ],
          [
           0.5,
           "rgb(70,100,245)"
          ],
          [
           0.6,
           "rgb(90,120,245)"
          ],
          [
           0.7,
           "rgb(106,137,247)"
          ],
          [
           1,
           "rgb(220,220,220)"
          ]
         ],
         "connectgaps": true,
         "contours": {
          "coloring": "heatmap"
         },
         "hoverinfo": "none",
         "line": {
          "smoothing": 1.3
         },
         "reversescale": false,
         "showscale": false,
         "type": "contour",
         "x": [
          0.85,
          1,
          2,
          3,
          4,
          4.15
         ],
         "xaxis": "x19",
         "y": [
          10.8,
          12,
          13,
          14,
          15,
          16,
          17,
          18,
          19,
          20,
          22,
          24,
          26,
          28,
          29,
          32,
          33,
          36,
          37.2
         ],
         "yaxis": "y19",
         "z": [
          [
           null,
           null,
           null,
           null,
           null,
           null
          ],
          [
           null,
           null,
           0.028282209247603718,
           0.028392164684845664,
           null,
           null
          ],
          [
           null,
           null,
           null,
           0.029381212039641006,
           null,
           null
          ],
          [
           null,
           0.028885310530626526,
           null,
           null,
           null,
           null
          ],
          [
           null,
           0.0289256543280657,
           0.02963325239678761,
           null,
           null,
           null
          ],
          [
           null,
           0.029334459885212674,
           null,
           null,
           null,
           null
          ],
          [
           null,
           null,
           null,
           null,
           0.02963632140236898,
           null
          ],
          [
           null,
           0.029238994132413213,
           0.030083009807994422,
           null,
           null,
           null
          ],
          [
           null,
           null,
           0.029979177199051892,
           null,
           null,
           null
          ],
          [
           null,
           null,
           0.02975309477829758,
           null,
           0.029808838857595197,
           null
          ],
          [
           null,
           null,
           0.029868588032976397,
           0.029393769192592924,
           null,
           null
          ],
          [
           null,
           0.029634138868290208,
           0.02959901742685048,
           null,
           null,
           null
          ],
          [
           null,
           null,
           null,
           0.029842340873697765,
           null,
           null
          ],
          [
           null,
           null,
           null,
           0.029677413780709868,
           null,
           null
          ],
          [
           null,
           null,
           0.029444172949849443,
           null,
           null,
           null
          ],
          [
           null,
           null,
           0.028298802448229722,
           null,
           null,
           null
          ],
          [
           null,
           0.028816267818454644,
           null,
           null,
           null,
           null
          ],
          [
           null,
           0.028683470665972967,
           null,
           null,
           null,
           null
          ],
          [
           null,
           null,
           null,
           null,
           null,
           null
          ]
         ]
        },
        {
         "marker": {
          "color": "black",
          "line": {
           "color": "Grey",
           "width": 0.5
          }
         },
         "mode": "markers",
         "showlegend": false,
         "type": "scatter",
         "x": [
          2,
          1,
          4,
          1,
          1,
          1,
          2,
          3,
          3,
          2,
          4,
          4,
          3,
          4,
          2,
          1,
          2,
          1,
          2,
          2,
          3,
          2,
          1,
          2,
          2,
          1,
          3,
          2,
          2,
          2,
          3,
          2
         ],
         "xaxis": "x19",
         "y": [
          29,
          14,
          17,
          15,
          33,
          36,
          32,
          26,
          13,
          32,
          20,
          20,
          22,
          17,
          18,
          16,
          12,
          24,
          19,
          19,
          26,
          15,
          18,
          22,
          22,
          15,
          12,
          19,
          24,
          20,
          28,
          20
         ],
         "yaxis": "y19"
        },
        {
         "colorbar": {
          "title": {
           "text": "Objective Value"
          }
         },
         "colorscale": [
          [
           0,
           "rgb(5,10,172)"
          ],
          [
           0.35,
           "rgb(40,60,190)"
          ],
          [
           0.5,
           "rgb(70,100,245)"
          ],
          [
           0.6,
           "rgb(90,120,245)"
          ],
          [
           0.7,
           "rgb(106,137,247)"
          ],
          [
           1,
           "rgb(220,220,220)"
          ]
         ],
         "connectgaps": true,
         "contours": {
          "coloring": "heatmap"
         },
         "hoverinfo": "none",
         "line": {
          "smoothing": 1.3
         },
         "reversescale": false,
         "showscale": false,
         "type": "contour",
         "x": [
          0.85,
          1,
          2,
          3,
          4,
          4.15
         ],
         "xaxis": "x26",
         "y": [
          3.4,
          4,
          5,
          7,
          8,
          9,
          10,
          11,
          12,
          13,
          14,
          15,
          16,
          16.6
         ],
         "yaxis": "y26",
         "z": [
          [
           null,
           null,
           null,
           null,
           null,
           null
          ],
          [
           null,
           0.028683470665972967,
           null,
           null,
           null,
           null
          ],
          [
           null,
           null,
           0.028298802448229722,
           null,
           null,
           null
          ],
          [
           null,
           null,
           0.028282209247603718,
           null,
           null,
           null
          ],
          [
           null,
           null,
           null,
           0.028392164684845664,
           null,
           null
          ],
          [
           null,
           null,
           null,
           0.02914594387551869,
           null,
           null
          ],
          [
           null,
           null,
           null,
           null,
           0.02872545740578306,
           null
          ],
          [
           null,
           0.028885310530626526,
           0.029511126821920867,
           0.029677413780709868,
           null,
           null
          ],
          [
           null,
           0.0289256543280657,
           0.02959901742685048,
           null,
           null,
           null
          ],
          [
           null,
           0.029634138868290208,
           0.030083009807994422,
           0.029381212039641006,
           null,
           null
          ],
          [
           null,
           null,
           0.02975309477829758,
           0.029842340873697765,
           null,
           null
          ],
          [
           null,
           null,
           0.029979177199051892,
           null,
           null,
           null
          ],
          [
           null,
           0.02986944115002603,
           null,
           null,
           0.02963632140236898,
           null
          ],
          [
           null,
           null,
           null,
           null,
           null,
           null
          ]
         ]
        },
        {
         "marker": {
          "color": "black",
          "line": {
           "color": "Grey",
           "width": 0.5
          }
         },
         "mode": "markers",
         "showlegend": false,
         "type": "scatter",
         "x": [
          2,
          1,
          4,
          1,
          1,
          1,
          2,
          3,
          3,
          2,
          4,
          4,
          3,
          4,
          2,
          1,
          2,
          1,
          2,
          2,
          3,
          2,
          1,
          2,
          2,
          1,
          3,
          2,
          2,
          2,
          3,
          2
         ],
         "xaxis": "x26",
         "y": [
          11,
          11,
          10,
          16,
          4,
          4,
          15,
          9,
          13,
          5,
          16,
          16,
          14,
          16,
          13,
          13,
          7,
          13,
          14,
          11,
          14,
          14,
          12,
          15,
          15,
          12,
          8,
          15,
          12,
          14,
          11,
          14
         ],
         "yaxis": "y26"
        },
        {
         "type": "scatter",
         "xaxis": "x33",
         "yaxis": "y33"
        },
        {
         "colorbar": {
          "title": {
           "text": "Objective Value"
          }
         },
         "colorscale": [
          [
           0,
           "rgb(5,10,172)"
          ],
          [
           0.35,
           "rgb(40,60,190)"
          ],
          [
           0.5,
           "rgb(70,100,245)"
          ],
          [
           0.6,
           "rgb(90,120,245)"
          ],
          [
           0.7,
           "rgb(106,137,247)"
          ],
          [
           1,
           "rgb(220,220,220)"
          ]
         ],
         "connectgaps": true,
         "contours": {
          "coloring": "heatmap"
         },
         "hoverinfo": "none",
         "line": {
          "smoothing": 1.3
         },
         "reversescale": false,
         "showscale": false,
         "type": "contour",
         "x": [
          0.85,
          1,
          2,
          3,
          4,
          4.15
         ],
         "xaxis": "x40",
         "y": [
          0.6499999999999999,
          1,
          2,
          3,
          4,
          5,
          6,
          7,
          8,
          8.35
         ],
         "yaxis": "y40",
         "z": [
          [
           null,
           null,
           null,
           null,
           null,
           null
          ],
          [
           null,
           null,
           0.02967770782613019,
           0.02914594387551869,
           null,
           null
          ],
          [
           null,
           null,
           0.028298802448229722,
           null,
           null,
           null
          ],
          [
           null,
           null,
           null,
           0.029393769192592924,
           0.02963632140236898,
           null
          ],
          [
           null,
           null,
           0.02959901742685048,
           0.029677413780709868,
           null,
           null
          ],
          [
           null,
           0.028885310530626526,
           0.029444172949849443,
           null,
           0.02872545740578306,
           null
          ],
          [
           null,
           0.028816267818454644,
           0.029511126821920867,
           0.028392164684845664,
           null,
           null
          ],
          [
           null,
           0.0289256543280657,
           0.02975309477829758,
           0.029381212039641006,
           null,
           null
          ],
          [
           null,
           0.029238994132413213,
           0.029979177199051892,
           null,
           null,
           null
          ],
          [
           null,
           null,
           null,
           null,
           null,
           null
          ]
         ]
        },
        {
         "marker": {
          "color": "black",
          "line": {
           "color": "Grey",
           "width": 0.5
          }
         },
         "mode": "markers",
         "showlegend": false,
         "type": "scatter",
         "x": [
          2,
          1,
          4,
          1,
          1,
          1,
          2,
          3,
          3,
          2,
          4,
          4,
          3,
          4,
          2,
          1,
          2,
          1,
          2,
          2,
          3,
          2,
          1,
          2,
          2,
          1,
          3,
          2,
          2,
          2,
          3,
          2
         ],
         "xaxis": "x40",
         "y": [
          5,
          5,
          5,
          8,
          6,
          8,
          1,
          1,
          7,
          2,
          3,
          3,
          3,
          3,
          8,
          8,
          7,
          7,
          8,
          6,
          6,
          8,
          8,
          7,
          8,
          7,
          6,
          8,
          4,
          7,
          4,
          7
         ],
         "yaxis": "y40"
        },
        {
         "colorbar": {
          "title": {
           "text": "Objective Value"
          }
         },
         "colorscale": [
          [
           0,
           "rgb(5,10,172)"
          ],
          [
           0.35,
           "rgb(40,60,190)"
          ],
          [
           0.5,
           "rgb(70,100,245)"
          ],
          [
           0.6,
           "rgb(90,120,245)"
          ],
          [
           0.7,
           "rgb(106,137,247)"
          ],
          [
           1,
           "rgb(220,220,220)"
          ]
         ],
         "connectgaps": true,
         "contours": {
          "coloring": "heatmap"
         },
         "hoverinfo": "none",
         "line": {
          "smoothing": 1.3
         },
         "reversescale": false,
         "showscale": false,
         "type": "contour",
         "x": [
          0.85,
          1,
          2,
          3,
          4,
          4.15
         ],
         "xaxis": "x47",
         "y": [
          0.85,
          1,
          2,
          3,
          4,
          4.15
         ],
         "yaxis": "y47",
         "z": [
          [
           null,
           null,
           null,
           null,
           null,
           null
          ],
          [
           null,
           0.0289256543280657,
           0.02975309477829758,
           0.029677413780709868,
           null,
           null
          ],
          [
           null,
           null,
           0.02959901742685048,
           0.028392164684845664,
           0.02963632140236898,
           null
          ],
          [
           null,
           0.028683470665972967,
           0.02967770782613019,
           null,
           0.02872545740578306,
           null
          ],
          [
           null,
           0.029634138868290208,
           0.028298802448229722,
           null,
           null,
           null
          ],
          [
           null,
           null,
           null,
           null,
           null,
           null
          ]
         ]
        },
        {
         "marker": {
          "color": "black",
          "line": {
           "color": "Grey",
           "width": 0.5
          }
         },
         "mode": "markers",
         "showlegend": false,
         "type": "scatter",
         "x": [
          2,
          1,
          4,
          1,
          1,
          1,
          2,
          3,
          3,
          2,
          4,
          4,
          3,
          4,
          2,
          1,
          2,
          1,
          2,
          2,
          3,
          2,
          1,
          2,
          2,
          1,
          3,
          2,
          2,
          2,
          3,
          2
         ],
         "xaxis": "x47",
         "y": [
          3,
          3,
          3,
          1,
          1,
          3,
          3,
          1,
          1,
          4,
          2,
          2,
          2,
          2,
          1,
          1,
          1,
          4,
          1,
          2,
          1,
          1,
          1,
          2,
          1,
          1,
          2,
          1,
          2,
          1,
          1,
          1
         ],
         "yaxis": "y47"
        },
        {
         "colorbar": {
          "title": {
           "text": "Objective Value"
          }
         },
         "colorscale": [
          [
           0,
           "rgb(5,10,172)"
          ],
          [
           0.35,
           "rgb(40,60,190)"
          ],
          [
           0.5,
           "rgb(70,100,245)"
          ],
          [
           0.6,
           "rgb(90,120,245)"
          ],
          [
           0.7,
           "rgb(106,137,247)"
          ],
          [
           1,
           "rgb(220,220,220)"
          ]
         ],
         "connectgaps": true,
         "contours": {
          "coloring": "heatmap"
         },
         "hoverinfo": "none",
         "line": {
          "smoothing": 1.3
         },
         "reversescale": false,
         "showscale": false,
         "type": "contour",
         "x": [
          0.6499999999999999,
          1,
          2,
          3,
          4,
          5,
          6,
          7,
          8,
          8.35
         ],
         "xaxis": "x6",
         "y": [
          0.01901688855800398,
          0.020354224184474058,
          0.020388558377802547,
          0.021658593092099398,
          0.02477528927992667,
          0.02528003903243234,
          0.02554311877947319,
          0.027334140092839188,
          0.028694358495534252,
          0.029193754233797237,
          0.02940228711200176,
          0.03100612579190866,
          0.031042764276297968,
          0.0311266943052536,
          0.03170991297440269,
          0.031899177921659354,
          0.03215222950232132,
          0.03293602845877722,
          0.034029712681263494,
          0.03403575717600679,
          0.03436292242344645,
          0.03536648054161582,
          0.03588519536883169,
          0.03675601065850931,
          0.037014624407833055,
          0.03761711650453397,
          0.037872529234511725,
          0.03943895026941813,
          0.04000080683905029,
          0.041655343184466634,
          0.04242487488121538,
          0.044480034801794285,
          0.04710093671387566,
          0.04843827234034574
         ],
         "yaxis": "y6",
         "z": [
          [
           null,
           null,
           null,
           null,
           null,
           null,
           null,
           null,
           null,
           null
          ],
          [
           null,
           null,
           null,
           0.02963632140236898,
           null,
           null,
           null,
           null,
           null,
           null
          ],
          [
           null,
           null,
           null,
           0.029808838857595197,
           null,
           null,
           null,
           null,
           null,
           null
          ],
          [
           null,
           null,
           null,
           0.029794228446014204,
           null,
           null,
           null,
           null,
           null,
           null
          ],
          [
           null,
           null,
           null,
           null,
           null,
           null,
           null,
           0.029692746772929907,
           null,
           null
          ],
          [
           null,
           null,
           null,
           null,
           null,
           null,
           null,
           null,
           0.028683470665972967,
           null
          ],
          [
           null,
           null,
           null,
           null,
           null,
           null,
           null,
           0.029634138868290208,
           null,
           null
          ],
          [
           null,
           null,
           null,
           null,
           null,
           null,
           null,
           0.029381212039641006,
           null,
           null
          ],
          [
           null,
           null,
           null,
           null,
           null,
           null,
           0.028392164684845664,
           null,
           null,
           null
          ],
          [
           null,
           null,
           null,
           null,
           null,
           null,
           null,
           null,
           0.02963325239678761,
           null
          ],
          [
           null,
           null,
           null,
           0.029393769192592924,
           null,
           null,
           null,
           null,
           null,
           null
          ],
          [
           null,
           null,
           null,
           null,
           null,
           null,
           null,
           null,
           0.02986944115002603,
           null
          ],
          [
           null,
           null,
           null,
           null,
           null,
           null,
           null,
           null,
           0.030083009807994422,
           null
          ],
          [
           null,
           null,
           null,
           null,
           null,
           null,
           null,
           null,
           0.029334459885212674,
           null
          ],
          [
           null,
           null,
           null,
           null,
           null,
           null,
           null,
           null,
           0.029238994132413213,
           null
          ],
          [
           null,
           null,
           null,
           null,
           null,
           null,
           null,
           0.028282209247603718,
           null,
           null
          ],
          [
           null,
           null,
           null,
           null,
           null,
           null,
           null,
           null,
           0.03002484272518845,
           null
          ],
          [
           null,
           null,
           null,
           null,
           null,
           null,
           0.029842340873697765,
           null,
           null,
           null
          ],
          [
           null,
           null,
           null,
           null,
           0.02959901742685048,
           null,
           null,
           null,
           null,
           null
          ],
          [
           null,
           null,
           null,
           null,
           null,
           null,
           null,
           null,
           0.029868588032976397,
           null
          ],
          [
           null,
           null,
           null,
           null,
           null,
           null,
           null,
           null,
           0.029979177199051892,
           null
          ],
          [
           null,
           0.02914594387551869,
           null,
           null,
           null,
           null,
           null,
           null,
           null,
           null
          ],
          [
           null,
           0.02967770782613019,
           null,
           null,
           null,
           null,
           null,
           null,
           null,
           null
          ],
          [
           null,
           null,
           null,
           null,
           null,
           0.029444172949849443,
           null,
           null,
           null,
           null
          ],
          [
           null,
           null,
           null,
           null,
           null,
           null,
           null,
           0.0299532290870617,
           null,
           null
          ],
          [
           null,
           null,
           null,
           null,
           null,
           null,
           null,
           0.02975309477829758,
           null,
           null
          ],
          [
           null,
           null,
           null,
           null,
           null,
           null,
           null,
           0.0289256543280657,
           null,
           null
          ],
          [
           null,
           null,
           null,
           null,
           null,
           0.02872545740578306,
           null,
           null,
           null,
           null
          ],
          [
           null,
           null,
           null,
           null,
           null,
           null,
           0.028816267818454644,
           null,
           null,
           null
          ],
          [
           null,
           null,
           0.028298802448229722,
           null,
           null,
           null,
           null,
           null,
           null,
           null
          ],
          [
           null,
           null,
           null,
           null,
           0.029677413780709868,
           null,
           null,
           null,
           null,
           null
          ],
          [
           null,
           null,
           null,
           null,
           null,
           null,
           0.029511126821920867,
           null,
           null,
           null
          ],
          [
           null,
           null,
           null,
           null,
           null,
           0.028885310530626526,
           null,
           null,
           null,
           null
          ],
          [
           null,
           null,
           null,
           null,
           null,
           null,
           null,
           null,
           null,
           null
          ]
         ]
        },
        {
         "marker": {
          "color": "black",
          "line": {
           "color": "Grey",
           "width": 0.5
          }
         },
         "mode": "markers",
         "showlegend": false,
         "type": "scatter",
         "x": [
          5,
          5,
          5,
          8,
          6,
          8,
          1,
          1,
          7,
          2,
          3,
          3,
          3,
          3,
          8,
          8,
          7,
          7,
          8,
          6,
          6,
          8,
          8,
          7,
          8,
          7,
          6,
          8,
          4,
          7,
          4,
          7
         ],
         "xaxis": "x6",
         "y": [
          0.03675601065850931,
          0.04710093671387566,
          0.03943895026941813,
          0.03100612579190866,
          0.04000080683905029,
          0.02528003903243234,
          0.03588519536883169,
          0.03536648054161582,
          0.027334140092839188,
          0.041655343184466634,
          0.021658593092099398,
          0.020388558377802547,
          0.02940228711200176,
          0.020354224184474058,
          0.031042764276297968,
          0.0311266943052536,
          0.031899177921659354,
          0.02554311877947319,
          0.03215222950232132,
          0.044480034801794285,
          0.03293602845877722,
          0.029193754233797237,
          0.03170991297440269,
          0.02477528927992667,
          0.03403575717600679,
          0.037872529234511725,
          0.028694358495534252,
          0.03436292242344645,
          0.034029712681263494,
          0.037014624407833055,
          0.04242487488121538,
          0.03761711650453397
         ],
         "yaxis": "y6"
        },
        {
         "colorbar": {
          "title": {
           "text": "Objective Value"
          }
         },
         "colorscale": [
          [
           0,
           "rgb(5,10,172)"
          ],
          [
           0.35,
           "rgb(40,60,190)"
          ],
          [
           0.5,
           "rgb(70,100,245)"
          ],
          [
           0.6,
           "rgb(90,120,245)"
          ],
          [
           0.7,
           "rgb(106,137,247)"
          ],
          [
           1,
           "rgb(220,220,220)"
          ]
         ],
         "connectgaps": true,
         "contours": {
          "coloring": "heatmap"
         },
         "hoverinfo": "none",
         "line": {
          "smoothing": 1.3
         },
         "reversescale": false,
         "showscale": false,
         "type": "contour",
         "x": [
          0.6499999999999999,
          1,
          2,
          3,
          4,
          5,
          6,
          7,
          8,
          8.35
         ],
         "xaxis": "x13",
         "y": [
          3.4,
          4,
          6,
          7,
          8,
          9,
          10,
          11,
          12,
          13,
          14,
          16,
          16.6
         ],
         "yaxis": "y13",
         "z": [
          [
           null,
           null,
           null,
           null,
           null,
           null,
           null,
           null,
           null,
           null
          ],
          [
           null,
           0.02914594387551869,
           null,
           null,
           null,
           null,
           null,
           null,
           null,
           null
          ],
          [
           null,
           null,
           null,
           null,
           0.02959901742685048,
           null,
           0.028816267818454644,
           null,
           null,
           null
          ],
          [
           null,
           null,
           null,
           null,
           null,
           null,
           null,
           0.029381212039641006,
           null,
           null
          ],
          [
           null,
           null,
           0.028298802448229722,
           null,
           0.029677413780709868,
           null,
           0.029511126821920867,
           null,
           null,
           null
          ],
          [
           null,
           null,
           null,
           null,
           null,
           null,
           null,
           0.028282209247603718,
           0.029868588032976397,
           null
          ],
          [
           null,
           null,
           null,
           0.02963632140236898,
           null,
           0.028885310530626526,
           null,
           null,
           0.029979177199051892,
           null
          ],
          [
           null,
           null,
           null,
           null,
           null,
           null,
           0.028392164684845664,
           null,
           0.02963325239678761,
           null
          ],
          [
           null,
           null,
           null,
           null,
           null,
           0.02872545740578306,
           null,
           0.02975309477829758,
           null,
           null
          ],
          [
           null,
           0.02967770782613019,
           null,
           null,
           null,
           0.029444172949849443,
           null,
           null,
           0.028683470665972967,
           null
          ],
          [
           null,
           null,
           null,
           null,
           null,
           null,
           null,
           0.0289256543280657,
           null,
           null
          ],
          [
           null,
           null,
           null,
           0.029393769192592924,
           null,
           null,
           null,
           null,
           null,
           null
          ],
          [
           null,
           null,
           null,
           null,
           null,
           null,
           null,
           null,
           null,
           null
          ]
         ]
        },
        {
         "marker": {
          "color": "black",
          "line": {
           "color": "Grey",
           "width": 0.5
          }
         },
         "mode": "markers",
         "showlegend": false,
         "type": "scatter",
         "x": [
          5,
          5,
          5,
          8,
          6,
          8,
          1,
          1,
          7,
          2,
          3,
          3,
          3,
          3,
          8,
          8,
          7,
          7,
          8,
          6,
          6,
          8,
          8,
          7,
          8,
          7,
          6,
          8,
          4,
          7,
          4,
          7
         ],
         "xaxis": "x13",
         "y": [
          13,
          10,
          12,
          10,
          6,
          13,
          13,
          4,
          7,
          8,
          16,
          16,
          16,
          10,
          11,
          11,
          9,
          14,
          11,
          8,
          11,
          11,
          9,
          12,
          9,
          14,
          11,
          10,
          6,
          12,
          8,
          12
         ],
         "yaxis": "y13"
        },
        {
         "colorbar": {
          "title": {
           "text": "Objective Value"
          }
         },
         "colorscale": [
          [
           0,
           "rgb(5,10,172)"
          ],
          [
           0.35,
           "rgb(40,60,190)"
          ],
          [
           0.5,
           "rgb(70,100,245)"
          ],
          [
           0.6,
           "rgb(90,120,245)"
          ],
          [
           0.7,
           "rgb(106,137,247)"
          ],
          [
           1,
           "rgb(220,220,220)"
          ]
         ],
         "connectgaps": true,
         "contours": {
          "coloring": "heatmap"
         },
         "hoverinfo": "none",
         "line": {
          "smoothing": 1.3
         },
         "reversescale": false,
         "showscale": false,
         "type": "contour",
         "x": [
          0.6499999999999999,
          1,
          2,
          3,
          4,
          5,
          6,
          7,
          8,
          8.35
         ],
         "xaxis": "x20",
         "y": [
          10.8,
          12,
          13,
          14,
          15,
          16,
          17,
          18,
          19,
          20,
          22,
          24,
          26,
          28,
          29,
          32,
          33,
          36,
          37.2
         ],
         "yaxis": "y20",
         "z": [
          [
           null,
           null,
           null,
           null,
           null,
           null,
           null,
           null,
           null,
           null
          ],
          [
           null,
           null,
           null,
           null,
           null,
           null,
           0.028392164684845664,
           0.028282209247603718,
           null,
           null
          ],
          [
           null,
           null,
           null,
           null,
           null,
           null,
           null,
           0.029381212039641006,
           null,
           null
          ],
          [
           null,
           null,
           null,
           null,
           null,
           0.028885310530626526,
           null,
           null,
           null,
           null
          ],
          [
           null,
           null,
           null,
           null,
           null,
           null,
           null,
           0.0289256543280657,
           0.02963325239678761,
           null
          ],
          [
           null,
           null,
           null,
           null,
           null,
           null,
           null,
           null,
           0.029334459885212674,
           null
          ],
          [
           null,
           null,
           null,
           0.02963632140236898,
           null,
           0.02872545740578306,
           null,
           null,
           null,
           null
          ],
          [
           null,
           null,
           null,
           null,
           null,
           null,
           null,
           null,
           0.029238994132413213,
           null
          ],
          [
           null,
           null,
           null,
           null,
           null,
           null,
           0.029511126821920867,
           null,
           0.029979177199051892,
           null
          ],
          [
           null,
           null,
           null,
           0.029808838857595197,
           null,
           null,
           null,
           0.02975309477829758,
           null,
           null
          ],
          [
           null,
           null,
           null,
           0.029393769192592924,
           null,
           null,
           null,
           0.029692746772929907,
           0.029868588032976397,
           null
          ],
          [
           null,
           null,
           null,
           null,
           0.02959901742685048,
           null,
           null,
           0.029634138868290208,
           null,
           null
          ],
          [
           null,
           0.02914594387551869,
           null,
           null,
           null,
           null,
           0.029842340873697765,
           null,
           null,
           null
          ],
          [
           null,
           null,
           null,
           null,
           0.029677413780709868,
           null,
           null,
           null,
           null,
           null
          ],
          [
           null,
           null,
           null,
           null,
           null,
           0.029444172949849443,
           null,
           null,
           null,
           null
          ],
          [
           null,
           0.02967770782613019,
           0.028298802448229722,
           null,
           null,
           null,
           null,
           null,
           null,
           null
          ],
          [
           null,
           null,
           null,
           null,
           null,
           null,
           0.028816267818454644,
           null,
           null,
           null
          ],
          [
           null,
           null,
           null,
           null,
           null,
           null,
           null,
           null,
           0.028683470665972967,
           null
          ],
          [
           null,
           null,
           null,
           null,
           null,
           null,
           null,
           null,
           null,
           null
          ]
         ]
        },
        {
         "marker": {
          "color": "black",
          "line": {
           "color": "Grey",
           "width": 0.5
          }
         },
         "mode": "markers",
         "showlegend": false,
         "type": "scatter",
         "x": [
          5,
          5,
          5,
          8,
          6,
          8,
          1,
          1,
          7,
          2,
          3,
          3,
          3,
          3,
          8,
          8,
          7,
          7,
          8,
          6,
          6,
          8,
          8,
          7,
          8,
          7,
          6,
          8,
          4,
          7,
          4,
          7
         ],
         "xaxis": "x20",
         "y": [
          29,
          14,
          17,
          15,
          33,
          36,
          32,
          26,
          13,
          32,
          20,
          20,
          22,
          17,
          18,
          16,
          12,
          24,
          19,
          19,
          26,
          15,
          18,
          22,
          22,
          15,
          12,
          19,
          24,
          20,
          28,
          20
         ],
         "yaxis": "y20"
        },
        {
         "colorbar": {
          "title": {
           "text": "Objective Value"
          }
         },
         "colorscale": [
          [
           0,
           "rgb(5,10,172)"
          ],
          [
           0.35,
           "rgb(40,60,190)"
          ],
          [
           0.5,
           "rgb(70,100,245)"
          ],
          [
           0.6,
           "rgb(90,120,245)"
          ],
          [
           0.7,
           "rgb(106,137,247)"
          ],
          [
           1,
           "rgb(220,220,220)"
          ]
         ],
         "connectgaps": true,
         "contours": {
          "coloring": "heatmap"
         },
         "hoverinfo": "none",
         "line": {
          "smoothing": 1.3
         },
         "reversescale": false,
         "showscale": false,
         "type": "contour",
         "x": [
          0.6499999999999999,
          1,
          2,
          3,
          4,
          5,
          6,
          7,
          8,
          8.35
         ],
         "xaxis": "x27",
         "y": [
          3.4,
          4,
          5,
          7,
          8,
          9,
          10,
          11,
          12,
          13,
          14,
          15,
          16,
          16.6
         ],
         "yaxis": "y27",
         "z": [
          [
           null,
           null,
           null,
           null,
           null,
           null,
           null,
           null,
           null,
           null
          ],
          [
           null,
           null,
           null,
           null,
           null,
           null,
           0.028816267818454644,
           null,
           0.028683470665972967,
           null
          ],
          [
           null,
           null,
           0.028298802448229722,
           null,
           null,
           null,
           null,
           null,
           null,
           null
          ],
          [
           null,
           null,
           null,
           null,
           null,
           null,
           null,
           0.028282209247603718,
           null,
           null
          ],
          [
           null,
           null,
           null,
           null,
           null,
           null,
           0.028392164684845664,
           null,
           null,
           null
          ],
          [
           null,
           0.02914594387551869,
           null,
           null,
           null,
           null,
           null,
           null,
           null,
           null
          ],
          [
           null,
           null,
           null,
           null,
           null,
           0.02872545740578306,
           null,
           null,
           null,
           null
          ],
          [
           null,
           null,
           null,
           null,
           0.029677413780709868,
           0.028885310530626526,
           0.029511126821920867,
           null,
           null,
           null
          ],
          [
           null,
           null,
           null,
           null,
           0.02959901742685048,
           null,
           null,
           0.0289256543280657,
           0.029238994132413213,
           null
          ],
          [
           null,
           null,
           null,
           null,
           null,
           null,
           null,
           0.029634138868290208,
           0.029334459885212674,
           null
          ],
          [
           null,
           null,
           null,
           0.029393769192592924,
           null,
           null,
           0.029842340873697765,
           0.02975309477829758,
           0.02963325239678761,
           null
          ],
          [
           null,
           0.02967770782613019,
           null,
           null,
           null,
           null,
           null,
           0.029692746772929907,
           0.029979177199051892,
           null
          ],
          [
           null,
           null,
           null,
           0.02963632140236898,
           null,
           null,
           null,
           null,
           0.02986944115002603,
           null
          ],
          [
           null,
           null,
           null,
           null,
           null,
           null,
           null,
           null,
           null,
           null
          ]
         ]
        },
        {
         "marker": {
          "color": "black",
          "line": {
           "color": "Grey",
           "width": 0.5
          }
         },
         "mode": "markers",
         "showlegend": false,
         "type": "scatter",
         "x": [
          5,
          5,
          5,
          8,
          6,
          8,
          1,
          1,
          7,
          2,
          3,
          3,
          3,
          3,
          8,
          8,
          7,
          7,
          8,
          6,
          6,
          8,
          8,
          7,
          8,
          7,
          6,
          8,
          4,
          7,
          4,
          7
         ],
         "xaxis": "x27",
         "y": [
          11,
          11,
          10,
          16,
          4,
          4,
          15,
          9,
          13,
          5,
          16,
          16,
          14,
          16,
          13,
          13,
          7,
          13,
          14,
          11,
          14,
          14,
          12,
          15,
          15,
          12,
          8,
          15,
          12,
          14,
          11,
          14
         ],
         "yaxis": "y27"
        },
        {
         "colorbar": {
          "title": {
           "text": "Objective Value"
          }
         },
         "colorscale": [
          [
           0,
           "rgb(5,10,172)"
          ],
          [
           0.35,
           "rgb(40,60,190)"
          ],
          [
           0.5,
           "rgb(70,100,245)"
          ],
          [
           0.6,
           "rgb(90,120,245)"
          ],
          [
           0.7,
           "rgb(106,137,247)"
          ],
          [
           1,
           "rgb(220,220,220)"
          ]
         ],
         "connectgaps": true,
         "contours": {
          "coloring": "heatmap"
         },
         "hoverinfo": "none",
         "line": {
          "smoothing": 1.3
         },
         "reversescale": false,
         "showscale": false,
         "type": "contour",
         "x": [
          0.6499999999999999,
          1,
          2,
          3,
          4,
          5,
          6,
          7,
          8,
          8.35
         ],
         "xaxis": "x34",
         "y": [
          0.85,
          1,
          2,
          3,
          4,
          4.15
         ],
         "yaxis": "y34",
         "z": [
          [
           null,
           null,
           null,
           null,
           null,
           null,
           null,
           null,
           null,
           null
          ],
          [
           null,
           null,
           null,
           null,
           null,
           0.028885310530626526,
           0.028816267818454644,
           0.0289256543280657,
           0.029238994132413213,
           null
          ],
          [
           null,
           0.02967770782613019,
           0.028298802448229722,
           null,
           0.02959901742685048,
           0.029444172949849443,
           0.029511126821920867,
           0.02975309477829758,
           0.029979177199051892,
           null
          ],
          [
           null,
           0.02914594387551869,
           null,
           0.029393769192592924,
           0.029677413780709868,
           null,
           0.028392164684845664,
           0.029381212039641006,
           null,
           null
          ],
          [
           null,
           null,
           null,
           0.02963632140236898,
           null,
           0.02872545740578306,
           null,
           null,
           null,
           null
          ],
          [
           null,
           null,
           null,
           null,
           null,
           null,
           null,
           null,
           null,
           null
          ]
         ]
        },
        {
         "marker": {
          "color": "black",
          "line": {
           "color": "Grey",
           "width": 0.5
          }
         },
         "mode": "markers",
         "showlegend": false,
         "type": "scatter",
         "x": [
          5,
          5,
          5,
          8,
          6,
          8,
          1,
          1,
          7,
          2,
          3,
          3,
          3,
          3,
          8,
          8,
          7,
          7,
          8,
          6,
          6,
          8,
          8,
          7,
          8,
          7,
          6,
          8,
          4,
          7,
          4,
          7
         ],
         "xaxis": "x34",
         "y": [
          2,
          1,
          4,
          1,
          1,
          1,
          2,
          3,
          3,
          2,
          4,
          4,
          3,
          4,
          2,
          1,
          2,
          1,
          2,
          2,
          3,
          2,
          1,
          2,
          2,
          1,
          3,
          2,
          2,
          2,
          3,
          2
         ],
         "yaxis": "y34"
        },
        {
         "type": "scatter",
         "xaxis": "x41",
         "yaxis": "y41"
        },
        {
         "colorbar": {
          "title": {
           "text": "Objective Value"
          }
         },
         "colorscale": [
          [
           0,
           "rgb(5,10,172)"
          ],
          [
           0.35,
           "rgb(40,60,190)"
          ],
          [
           0.5,
           "rgb(70,100,245)"
          ],
          [
           0.6,
           "rgb(90,120,245)"
          ],
          [
           0.7,
           "rgb(106,137,247)"
          ],
          [
           1,
           "rgb(220,220,220)"
          ]
         ],
         "connectgaps": true,
         "contours": {
          "coloring": "heatmap"
         },
         "hoverinfo": "none",
         "line": {
          "smoothing": 1.3
         },
         "reversescale": false,
         "showscale": false,
         "type": "contour",
         "x": [
          0.6499999999999999,
          1,
          2,
          3,
          4,
          5,
          6,
          7,
          8,
          8.35
         ],
         "xaxis": "x48",
         "y": [
          0.85,
          1,
          2,
          3,
          4,
          4.15
         ],
         "yaxis": "y48",
         "z": [
          [
           null,
           null,
           null,
           null,
           null,
           null,
           null,
           null,
           null,
           null
          ],
          [
           null,
           0.02914594387551869,
           null,
           null,
           0.029677413780709868,
           null,
           0.029842340873697765,
           0.02975309477829758,
           0.029979177199051892,
           null
          ],
          [
           null,
           null,
           null,
           0.02963632140236898,
           0.02959901742685048,
           null,
           0.028392164684845664,
           0.029692746772929907,
           null,
           null
          ],
          [
           null,
           0.02967770782613019,
           null,
           null,
           null,
           0.02872545740578306,
           null,
           null,
           0.028683470665972967,
           null
          ],
          [
           null,
           null,
           0.028298802448229722,
           null,
           null,
           null,
           null,
           0.029634138868290208,
           null,
           null
          ],
          [
           null,
           null,
           null,
           null,
           null,
           null,
           null,
           null,
           null,
           null
          ]
         ]
        },
        {
         "marker": {
          "color": "black",
          "line": {
           "color": "Grey",
           "width": 0.5
          }
         },
         "mode": "markers",
         "showlegend": false,
         "type": "scatter",
         "x": [
          5,
          5,
          5,
          8,
          6,
          8,
          1,
          1,
          7,
          2,
          3,
          3,
          3,
          3,
          8,
          8,
          7,
          7,
          8,
          6,
          6,
          8,
          8,
          7,
          8,
          7,
          6,
          8,
          4,
          7,
          4,
          7
         ],
         "xaxis": "x48",
         "y": [
          3,
          3,
          3,
          1,
          1,
          3,
          3,
          1,
          1,
          4,
          2,
          2,
          2,
          2,
          1,
          1,
          1,
          4,
          1,
          2,
          1,
          1,
          1,
          2,
          1,
          1,
          2,
          1,
          2,
          1,
          1,
          1
         ],
         "yaxis": "y48"
        },
        {
         "colorbar": {
          "title": {
           "text": "Objective Value"
          }
         },
         "colorscale": [
          [
           0,
           "rgb(5,10,172)"
          ],
          [
           0.35,
           "rgb(40,60,190)"
          ],
          [
           0.5,
           "rgb(70,100,245)"
          ],
          [
           0.6,
           "rgb(90,120,245)"
          ],
          [
           0.7,
           "rgb(106,137,247)"
          ],
          [
           1,
           "rgb(220,220,220)"
          ]
         ],
         "connectgaps": true,
         "contours": {
          "coloring": "heatmap"
         },
         "hoverinfo": "none",
         "line": {
          "smoothing": 1.3
         },
         "reversescale": false,
         "showscale": false,
         "type": "contour",
         "x": [
          0.85,
          1,
          2,
          3,
          4,
          4.15
         ],
         "xaxis": "x7",
         "y": [
          0.01901688855800398,
          0.020354224184474058,
          0.020388558377802547,
          0.021658593092099398,
          0.02477528927992667,
          0.02528003903243234,
          0.02554311877947319,
          0.027334140092839188,
          0.028694358495534252,
          0.029193754233797237,
          0.02940228711200176,
          0.03100612579190866,
          0.031042764276297968,
          0.0311266943052536,
          0.03170991297440269,
          0.031899177921659354,
          0.03215222950232132,
          0.03293602845877722,
          0.034029712681263494,
          0.03403575717600679,
          0.03436292242344645,
          0.03536648054161582,
          0.03588519536883169,
          0.03675601065850931,
          0.037014624407833055,
          0.03761711650453397,
          0.037872529234511725,
          0.03943895026941813,
          0.04000080683905029,
          0.041655343184466634,
          0.04242487488121538,
          0.044480034801794285,
          0.04710093671387566,
          0.04843827234034574
         ],
         "yaxis": "y7",
         "z": [
          [
           null,
           null,
           null,
           null,
           null,
           null
          ],
          [
           null,
           null,
           0.02963632140236898,
           null,
           null,
           null
          ],
          [
           null,
           null,
           0.029808838857595197,
           null,
           null,
           null
          ],
          [
           null,
           null,
           0.029794228446014204,
           null,
           null,
           null
          ],
          [
           null,
           null,
           0.029692746772929907,
           null,
           null,
           null
          ],
          [
           null,
           null,
           null,
           0.028683470665972967,
           null,
           null
          ],
          [
           null,
           null,
           null,
           null,
           0.029634138868290208,
           null
          ],
          [
           null,
           0.029381212039641006,
           null,
           null,
           null,
           null
          ],
          [
           null,
           null,
           0.028392164684845664,
           null,
           null,
           null
          ],
          [
           null,
           0.02963325239678761,
           null,
           null,
           null,
           null
          ],
          [
           null,
           null,
           0.029393769192592924,
           null,
           null,
           null
          ],
          [
           null,
           0.02986944115002603,
           null,
           null,
           null,
           null
          ],
          [
           null,
           0.030083009807994422,
           null,
           null,
           null,
           null
          ],
          [
           null,
           0.029334459885212674,
           null,
           null,
           null,
           null
          ],
          [
           null,
           0.029238994132413213,
           null,
           null,
           null,
           null
          ],
          [
           null,
           0.028282209247603718,
           null,
           null,
           null,
           null
          ],
          [
           null,
           0.03002484272518845,
           null,
           null,
           null,
           null
          ],
          [
           null,
           0.029842340873697765,
           null,
           null,
           null,
           null
          ],
          [
           null,
           null,
           0.02959901742685048,
           null,
           null,
           null
          ],
          [
           null,
           0.029868588032976397,
           null,
           null,
           null,
           null
          ],
          [
           null,
           0.029979177199051892,
           null,
           null,
           null,
           null
          ],
          [
           null,
           0.02914594387551869,
           null,
           null,
           null,
           null
          ],
          [
           null,
           null,
           null,
           0.02967770782613019,
           null,
           null
          ],
          [
           null,
           null,
           null,
           0.029444172949849443,
           null,
           null
          ],
          [
           null,
           0.0299532290870617,
           null,
           null,
           null,
           null
          ],
          [
           null,
           0.02975309477829758,
           null,
           null,
           null,
           null
          ],
          [
           null,
           0.0289256543280657,
           null,
           null,
           null,
           null
          ],
          [
           null,
           null,
           null,
           0.02872545740578306,
           null,
           null
          ],
          [
           null,
           0.028816267818454644,
           null,
           null,
           null,
           null
          ],
          [
           null,
           null,
           null,
           null,
           0.028298802448229722,
           null
          ],
          [
           null,
           0.029677413780709868,
           null,
           null,
           null,
           null
          ],
          [
           null,
           null,
           0.029511126821920867,
           null,
           null,
           null
          ],
          [
           null,
           null,
           null,
           0.028885310530626526,
           null,
           null
          ],
          [
           null,
           null,
           null,
           null,
           null,
           null
          ]
         ]
        },
        {
         "marker": {
          "color": "black",
          "line": {
           "color": "Grey",
           "width": 0.5
          }
         },
         "mode": "markers",
         "showlegend": false,
         "type": "scatter",
         "x": [
          3,
          3,
          3,
          1,
          1,
          3,
          3,
          1,
          1,
          4,
          2,
          2,
          2,
          2,
          1,
          1,
          1,
          4,
          1,
          2,
          1,
          1,
          1,
          2,
          1,
          1,
          2,
          1,
          2,
          1,
          1,
          1
         ],
         "xaxis": "x7",
         "y": [
          0.03675601065850931,
          0.04710093671387566,
          0.03943895026941813,
          0.03100612579190866,
          0.04000080683905029,
          0.02528003903243234,
          0.03588519536883169,
          0.03536648054161582,
          0.027334140092839188,
          0.041655343184466634,
          0.021658593092099398,
          0.020388558377802547,
          0.02940228711200176,
          0.020354224184474058,
          0.031042764276297968,
          0.0311266943052536,
          0.031899177921659354,
          0.02554311877947319,
          0.03215222950232132,
          0.044480034801794285,
          0.03293602845877722,
          0.029193754233797237,
          0.03170991297440269,
          0.02477528927992667,
          0.03403575717600679,
          0.037872529234511725,
          0.028694358495534252,
          0.03436292242344645,
          0.034029712681263494,
          0.037014624407833055,
          0.04242487488121538,
          0.03761711650453397
         ],
         "yaxis": "y7"
        },
        {
         "colorbar": {
          "title": {
           "text": "Objective Value"
          }
         },
         "colorscale": [
          [
           0,
           "rgb(5,10,172)"
          ],
          [
           0.35,
           "rgb(40,60,190)"
          ],
          [
           0.5,
           "rgb(70,100,245)"
          ],
          [
           0.6,
           "rgb(90,120,245)"
          ],
          [
           0.7,
           "rgb(106,137,247)"
          ],
          [
           1,
           "rgb(220,220,220)"
          ]
         ],
         "connectgaps": true,
         "contours": {
          "coloring": "heatmap"
         },
         "hoverinfo": "none",
         "line": {
          "smoothing": 1.3
         },
         "reversescale": false,
         "showscale": false,
         "type": "contour",
         "x": [
          0.85,
          1,
          2,
          3,
          4,
          4.15
         ],
         "xaxis": "x14",
         "y": [
          3.4,
          4,
          6,
          7,
          8,
          9,
          10,
          11,
          12,
          13,
          14,
          16,
          16.6
         ],
         "yaxis": "y14",
         "z": [
          [
           null,
           null,
           null,
           null,
           null,
           null
          ],
          [
           null,
           0.02914594387551869,
           null,
           null,
           null,
           null
          ],
          [
           null,
           0.028816267818454644,
           0.02959901742685048,
           null,
           null,
           null
          ],
          [
           null,
           0.029381212039641006,
           null,
           null,
           null,
           null
          ],
          [
           null,
           0.029677413780709868,
           0.029511126821920867,
           null,
           0.028298802448229722,
           null
          ],
          [
           null,
           0.029868588032976397,
           null,
           null,
           null,
           null
          ],
          [
           null,
           0.029979177199051892,
           0.02963632140236898,
           0.028885310530626526,
           null,
           null
          ],
          [
           null,
           0.02963325239678761,
           0.028392164684845664,
           null,
           null,
           null
          ],
          [
           null,
           0.02975309477829758,
           0.029692746772929907,
           0.02872545740578306,
           null,
           null
          ],
          [
           null,
           null,
           null,
           0.02967770782613019,
           null,
           null
          ],
          [
           null,
           0.0289256543280657,
           null,
           null,
           0.029634138868290208,
           null
          ],
          [
           null,
           null,
           0.029393769192592924,
           null,
           null,
           null
          ],
          [
           null,
           null,
           null,
           null,
           null,
           null
          ]
         ]
        },
        {
         "marker": {
          "color": "black",
          "line": {
           "color": "Grey",
           "width": 0.5
          }
         },
         "mode": "markers",
         "showlegend": false,
         "type": "scatter",
         "x": [
          3,
          3,
          3,
          1,
          1,
          3,
          3,
          1,
          1,
          4,
          2,
          2,
          2,
          2,
          1,
          1,
          1,
          4,
          1,
          2,
          1,
          1,
          1,
          2,
          1,
          1,
          2,
          1,
          2,
          1,
          1,
          1
         ],
         "xaxis": "x14",
         "y": [
          13,
          10,
          12,
          10,
          6,
          13,
          13,
          4,
          7,
          8,
          16,
          16,
          16,
          10,
          11,
          11,
          9,
          14,
          11,
          8,
          11,
          11,
          9,
          12,
          9,
          14,
          11,
          10,
          6,
          12,
          8,
          12
         ],
         "yaxis": "y14"
        },
        {
         "colorbar": {
          "title": {
           "text": "Objective Value"
          }
         },
         "colorscale": [
          [
           0,
           "rgb(5,10,172)"
          ],
          [
           0.35,
           "rgb(40,60,190)"
          ],
          [
           0.5,
           "rgb(70,100,245)"
          ],
          [
           0.6,
           "rgb(90,120,245)"
          ],
          [
           0.7,
           "rgb(106,137,247)"
          ],
          [
           1,
           "rgb(220,220,220)"
          ]
         ],
         "connectgaps": true,
         "contours": {
          "coloring": "heatmap"
         },
         "hoverinfo": "none",
         "line": {
          "smoothing": 1.3
         },
         "reversescale": false,
         "showscale": false,
         "type": "contour",
         "x": [
          0.85,
          1,
          2,
          3,
          4,
          4.15
         ],
         "xaxis": "x21",
         "y": [
          10.8,
          12,
          13,
          14,
          15,
          16,
          17,
          18,
          19,
          20,
          22,
          24,
          26,
          28,
          29,
          32,
          33,
          36,
          37.2
         ],
         "yaxis": "y21",
         "z": [
          [
           null,
           null,
           null,
           null,
           null,
           null
          ],
          [
           null,
           0.028282209247603718,
           0.028392164684845664,
           null,
           null,
           null
          ],
          [
           null,
           0.029381212039641006,
           null,
           null,
           null,
           null
          ],
          [
           null,
           null,
           null,
           0.028885310530626526,
           null,
           null
          ],
          [
           null,
           0.0289256543280657,
           null,
           null,
           null,
           null
          ],
          [
           null,
           0.029334459885212674,
           null,
           null,
           null,
           null
          ],
          [
           null,
           null,
           0.02963632140236898,
           0.02872545740578306,
           null,
           null
          ],
          [
           null,
           0.029238994132413213,
           null,
           null,
           null,
           null
          ],
          [
           null,
           0.029979177199051892,
           0.029511126821920867,
           null,
           null,
           null
          ],
          [
           null,
           0.02975309477829758,
           0.029808838857595197,
           null,
           null,
           null
          ],
          [
           null,
           0.029868588032976397,
           0.029692746772929907,
           null,
           null,
           null
          ],
          [
           null,
           null,
           0.02959901742685048,
           null,
           0.029634138868290208,
           null
          ],
          [
           null,
           0.029842340873697765,
           null,
           null,
           null,
           null
          ],
          [
           null,
           0.029677413780709868,
           null,
           null,
           null,
           null
          ],
          [
           null,
           null,
           null,
           0.029444172949849443,
           null,
           null
          ],
          [
           null,
           null,
           null,
           0.02967770782613019,
           0.028298802448229722,
           null
          ],
          [
           null,
           0.028816267818454644,
           null,
           null,
           null,
           null
          ],
          [
           null,
           null,
           null,
           0.028683470665972967,
           null,
           null
          ],
          [
           null,
           null,
           null,
           null,
           null,
           null
          ]
         ]
        },
        {
         "marker": {
          "color": "black",
          "line": {
           "color": "Grey",
           "width": 0.5
          }
         },
         "mode": "markers",
         "showlegend": false,
         "type": "scatter",
         "x": [
          3,
          3,
          3,
          1,
          1,
          3,
          3,
          1,
          1,
          4,
          2,
          2,
          2,
          2,
          1,
          1,
          1,
          4,
          1,
          2,
          1,
          1,
          1,
          2,
          1,
          1,
          2,
          1,
          2,
          1,
          1,
          1
         ],
         "xaxis": "x21",
         "y": [
          29,
          14,
          17,
          15,
          33,
          36,
          32,
          26,
          13,
          32,
          20,
          20,
          22,
          17,
          18,
          16,
          12,
          24,
          19,
          19,
          26,
          15,
          18,
          22,
          22,
          15,
          12,
          19,
          24,
          20,
          28,
          20
         ],
         "yaxis": "y21"
        },
        {
         "colorbar": {
          "title": {
           "text": "Objective Value"
          }
         },
         "colorscale": [
          [
           0,
           "rgb(5,10,172)"
          ],
          [
           0.35,
           "rgb(40,60,190)"
          ],
          [
           0.5,
           "rgb(70,100,245)"
          ],
          [
           0.6,
           "rgb(90,120,245)"
          ],
          [
           0.7,
           "rgb(106,137,247)"
          ],
          [
           1,
           "rgb(220,220,220)"
          ]
         ],
         "connectgaps": true,
         "contours": {
          "coloring": "heatmap"
         },
         "hoverinfo": "none",
         "line": {
          "smoothing": 1.3
         },
         "reversescale": false,
         "showscale": false,
         "type": "contour",
         "x": [
          0.85,
          1,
          2,
          3,
          4,
          4.15
         ],
         "xaxis": "x28",
         "y": [
          3.4,
          4,
          5,
          7,
          8,
          9,
          10,
          11,
          12,
          13,
          14,
          15,
          16,
          16.6
         ],
         "yaxis": "y28",
         "z": [
          [
           null,
           null,
           null,
           null,
           null,
           null
          ],
          [
           null,
           0.028816267818454644,
           null,
           0.028683470665972967,
           null,
           null
          ],
          [
           null,
           null,
           null,
           null,
           0.028298802448229722,
           null
          ],
          [
           null,
           0.028282209247603718,
           null,
           null,
           null,
           null
          ],
          [
           null,
           null,
           0.028392164684845664,
           null,
           null,
           null
          ],
          [
           null,
           0.02914594387551869,
           null,
           null,
           null,
           null
          ],
          [
           null,
           null,
           null,
           0.02872545740578306,
           null,
           null
          ],
          [
           null,
           0.029677413780709868,
           0.029511126821920867,
           0.028885310530626526,
           null,
           null
          ],
          [
           null,
           0.0289256543280657,
           0.02959901742685048,
           null,
           null,
           null
          ],
          [
           null,
           0.029334459885212674,
           null,
           null,
           0.029634138868290208,
           null
          ],
          [
           null,
           0.02975309477829758,
           0.029393769192592924,
           null,
           null,
           null
          ],
          [
           null,
           0.029979177199051892,
           0.029692746772929907,
           0.02967770782613019,
           null,
           null
          ],
          [
           null,
           0.02986944115002603,
           0.02963632140236898,
           null,
           null,
           null
          ],
          [
           null,
           null,
           null,
           null,
           null,
           null
          ]
         ]
        },
        {
         "marker": {
          "color": "black",
          "line": {
           "color": "Grey",
           "width": 0.5
          }
         },
         "mode": "markers",
         "showlegend": false,
         "type": "scatter",
         "x": [
          3,
          3,
          3,
          1,
          1,
          3,
          3,
          1,
          1,
          4,
          2,
          2,
          2,
          2,
          1,
          1,
          1,
          4,
          1,
          2,
          1,
          1,
          1,
          2,
          1,
          1,
          2,
          1,
          2,
          1,
          1,
          1
         ],
         "xaxis": "x28",
         "y": [
          11,
          11,
          10,
          16,
          4,
          4,
          15,
          9,
          13,
          5,
          16,
          16,
          14,
          16,
          13,
          13,
          7,
          13,
          14,
          11,
          14,
          14,
          12,
          15,
          15,
          12,
          8,
          15,
          12,
          14,
          11,
          14
         ],
         "yaxis": "y28"
        },
        {
         "colorbar": {
          "title": {
           "text": "Objective Value"
          }
         },
         "colorscale": [
          [
           0,
           "rgb(5,10,172)"
          ],
          [
           0.35,
           "rgb(40,60,190)"
          ],
          [
           0.5,
           "rgb(70,100,245)"
          ],
          [
           0.6,
           "rgb(90,120,245)"
          ],
          [
           0.7,
           "rgb(106,137,247)"
          ],
          [
           1,
           "rgb(220,220,220)"
          ]
         ],
         "connectgaps": true,
         "contours": {
          "coloring": "heatmap"
         },
         "hoverinfo": "none",
         "line": {
          "smoothing": 1.3
         },
         "reversescale": false,
         "showscale": false,
         "type": "contour",
         "x": [
          0.85,
          1,
          2,
          3,
          4,
          4.15
         ],
         "xaxis": "x35",
         "y": [
          0.85,
          1,
          2,
          3,
          4,
          4.15
         ],
         "yaxis": "y35",
         "z": [
          [
           null,
           null,
           null,
           null,
           null,
           null
          ],
          [
           null,
           0.0289256543280657,
           null,
           0.028683470665972967,
           0.029634138868290208,
           null
          ],
          [
           null,
           0.02975309477829758,
           0.02959901742685048,
           0.02967770782613019,
           0.028298802448229722,
           null
          ],
          [
           null,
           0.029677413780709868,
           0.028392164684845664,
           null,
           null,
           null
          ],
          [
           null,
           null,
           0.02963632140236898,
           0.02872545740578306,
           null,
           null
          ],
          [
           null,
           null,
           null,
           null,
           null,
           null
          ]
         ]
        },
        {
         "marker": {
          "color": "black",
          "line": {
           "color": "Grey",
           "width": 0.5
          }
         },
         "mode": "markers",
         "showlegend": false,
         "type": "scatter",
         "x": [
          3,
          3,
          3,
          1,
          1,
          3,
          3,
          1,
          1,
          4,
          2,
          2,
          2,
          2,
          1,
          1,
          1,
          4,
          1,
          2,
          1,
          1,
          1,
          2,
          1,
          1,
          2,
          1,
          2,
          1,
          1,
          1
         ],
         "xaxis": "x35",
         "y": [
          2,
          1,
          4,
          1,
          1,
          1,
          2,
          3,
          3,
          2,
          4,
          4,
          3,
          4,
          2,
          1,
          2,
          1,
          2,
          2,
          3,
          2,
          1,
          2,
          2,
          1,
          3,
          2,
          2,
          2,
          3,
          2
         ],
         "yaxis": "y35"
        },
        {
         "colorbar": {
          "title": {
           "text": "Objective Value"
          }
         },
         "colorscale": [
          [
           0,
           "rgb(5,10,172)"
          ],
          [
           0.35,
           "rgb(40,60,190)"
          ],
          [
           0.5,
           "rgb(70,100,245)"
          ],
          [
           0.6,
           "rgb(90,120,245)"
          ],
          [
           0.7,
           "rgb(106,137,247)"
          ],
          [
           1,
           "rgb(220,220,220)"
          ]
         ],
         "connectgaps": true,
         "contours": {
          "coloring": "heatmap"
         },
         "hoverinfo": "none",
         "line": {
          "smoothing": 1.3
         },
         "reversescale": false,
         "showscale": false,
         "type": "contour",
         "x": [
          0.85,
          1,
          2,
          3,
          4,
          4.15
         ],
         "xaxis": "x42",
         "y": [
          0.6499999999999999,
          1,
          2,
          3,
          4,
          5,
          6,
          7,
          8,
          8.35
         ],
         "yaxis": "y42",
         "z": [
          [
           null,
           null,
           null,
           null,
           null,
           null
          ],
          [
           null,
           0.02914594387551869,
           null,
           0.02967770782613019,
           null,
           null
          ],
          [
           null,
           null,
           null,
           null,
           0.028298802448229722,
           null
          ],
          [
           null,
           null,
           0.02963632140236898,
           null,
           null,
           null
          ],
          [
           null,
           0.029677413780709868,
           0.02959901742685048,
           null,
           null,
           null
          ],
          [
           null,
           null,
           null,
           0.02872545740578306,
           null,
           null
          ],
          [
           null,
           0.029842340873697765,
           0.028392164684845664,
           null,
           null,
           null
          ],
          [
           null,
           0.02975309477829758,
           0.029692746772929907,
           null,
           0.029634138868290208,
           null
          ],
          [
           null,
           0.029979177199051892,
           null,
           0.028683470665972967,
           null,
           null
          ],
          [
           null,
           null,
           null,
           null,
           null,
           null
          ]
         ]
        },
        {
         "marker": {
          "color": "black",
          "line": {
           "color": "Grey",
           "width": 0.5
          }
         },
         "mode": "markers",
         "showlegend": false,
         "type": "scatter",
         "x": [
          3,
          3,
          3,
          1,
          1,
          3,
          3,
          1,
          1,
          4,
          2,
          2,
          2,
          2,
          1,
          1,
          1,
          4,
          1,
          2,
          1,
          1,
          1,
          2,
          1,
          1,
          2,
          1,
          2,
          1,
          1,
          1
         ],
         "xaxis": "x42",
         "y": [
          5,
          5,
          5,
          8,
          6,
          8,
          1,
          1,
          7,
          2,
          3,
          3,
          3,
          3,
          8,
          8,
          7,
          7,
          8,
          6,
          6,
          8,
          8,
          7,
          8,
          7,
          6,
          8,
          4,
          7,
          4,
          7
         ],
         "yaxis": "y42"
        },
        {
         "type": "scatter",
         "xaxis": "x49",
         "yaxis": "y49"
        }
       ],
       "layout": {
        "template": {
         "data": {
          "bar": [
           {
            "error_x": {
             "color": "#2a3f5f"
            },
            "error_y": {
             "color": "#2a3f5f"
            },
            "marker": {
             "line": {
              "color": "#E5ECF6",
              "width": 0.5
             },
             "pattern": {
              "fillmode": "overlay",
              "size": 10,
              "solidity": 0.2
             }
            },
            "type": "bar"
           }
          ],
          "barpolar": [
           {
            "marker": {
             "line": {
              "color": "#E5ECF6",
              "width": 0.5
             },
             "pattern": {
              "fillmode": "overlay",
              "size": 10,
              "solidity": 0.2
             }
            },
            "type": "barpolar"
           }
          ],
          "carpet": [
           {
            "aaxis": {
             "endlinecolor": "#2a3f5f",
             "gridcolor": "white",
             "linecolor": "white",
             "minorgridcolor": "white",
             "startlinecolor": "#2a3f5f"
            },
            "baxis": {
             "endlinecolor": "#2a3f5f",
             "gridcolor": "white",
             "linecolor": "white",
             "minorgridcolor": "white",
             "startlinecolor": "#2a3f5f"
            },
            "type": "carpet"
           }
          ],
          "choropleth": [
           {
            "colorbar": {
             "outlinewidth": 0,
             "ticks": ""
            },
            "type": "choropleth"
           }
          ],
          "contour": [
           {
            "colorbar": {
             "outlinewidth": 0,
             "ticks": ""
            },
            "colorscale": [
             [
              0,
              "#0d0887"
             ],
             [
              0.1111111111111111,
              "#46039f"
             ],
             [
              0.2222222222222222,
              "#7201a8"
             ],
             [
              0.3333333333333333,
              "#9c179e"
             ],
             [
              0.4444444444444444,
              "#bd3786"
             ],
             [
              0.5555555555555556,
              "#d8576b"
             ],
             [
              0.6666666666666666,
              "#ed7953"
             ],
             [
              0.7777777777777778,
              "#fb9f3a"
             ],
             [
              0.8888888888888888,
              "#fdca26"
             ],
             [
              1,
              "#f0f921"
             ]
            ],
            "type": "contour"
           }
          ],
          "contourcarpet": [
           {
            "colorbar": {
             "outlinewidth": 0,
             "ticks": ""
            },
            "type": "contourcarpet"
           }
          ],
          "heatmap": [
           {
            "colorbar": {
             "outlinewidth": 0,
             "ticks": ""
            },
            "colorscale": [
             [
              0,
              "#0d0887"
             ],
             [
              0.1111111111111111,
              "#46039f"
             ],
             [
              0.2222222222222222,
              "#7201a8"
             ],
             [
              0.3333333333333333,
              "#9c179e"
             ],
             [
              0.4444444444444444,
              "#bd3786"
             ],
             [
              0.5555555555555556,
              "#d8576b"
             ],
             [
              0.6666666666666666,
              "#ed7953"
             ],
             [
              0.7777777777777778,
              "#fb9f3a"
             ],
             [
              0.8888888888888888,
              "#fdca26"
             ],
             [
              1,
              "#f0f921"
             ]
            ],
            "type": "heatmap"
           }
          ],
          "heatmapgl": [
           {
            "colorbar": {
             "outlinewidth": 0,
             "ticks": ""
            },
            "colorscale": [
             [
              0,
              "#0d0887"
             ],
             [
              0.1111111111111111,
              "#46039f"
             ],
             [
              0.2222222222222222,
              "#7201a8"
             ],
             [
              0.3333333333333333,
              "#9c179e"
             ],
             [
              0.4444444444444444,
              "#bd3786"
             ],
             [
              0.5555555555555556,
              "#d8576b"
             ],
             [
              0.6666666666666666,
              "#ed7953"
             ],
             [
              0.7777777777777778,
              "#fb9f3a"
             ],
             [
              0.8888888888888888,
              "#fdca26"
             ],
             [
              1,
              "#f0f921"
             ]
            ],
            "type": "heatmapgl"
           }
          ],
          "histogram": [
           {
            "marker": {
             "pattern": {
              "fillmode": "overlay",
              "size": 10,
              "solidity": 0.2
             }
            },
            "type": "histogram"
           }
          ],
          "histogram2d": [
           {
            "colorbar": {
             "outlinewidth": 0,
             "ticks": ""
            },
            "colorscale": [
             [
              0,
              "#0d0887"
             ],
             [
              0.1111111111111111,
              "#46039f"
             ],
             [
              0.2222222222222222,
              "#7201a8"
             ],
             [
              0.3333333333333333,
              "#9c179e"
             ],
             [
              0.4444444444444444,
              "#bd3786"
             ],
             [
              0.5555555555555556,
              "#d8576b"
             ],
             [
              0.6666666666666666,
              "#ed7953"
             ],
             [
              0.7777777777777778,
              "#fb9f3a"
             ],
             [
              0.8888888888888888,
              "#fdca26"
             ],
             [
              1,
              "#f0f921"
             ]
            ],
            "type": "histogram2d"
           }
          ],
          "histogram2dcontour": [
           {
            "colorbar": {
             "outlinewidth": 0,
             "ticks": ""
            },
            "colorscale": [
             [
              0,
              "#0d0887"
             ],
             [
              0.1111111111111111,
              "#46039f"
             ],
             [
              0.2222222222222222,
              "#7201a8"
             ],
             [
              0.3333333333333333,
              "#9c179e"
             ],
             [
              0.4444444444444444,
              "#bd3786"
             ],
             [
              0.5555555555555556,
              "#d8576b"
             ],
             [
              0.6666666666666666,
              "#ed7953"
             ],
             [
              0.7777777777777778,
              "#fb9f3a"
             ],
             [
              0.8888888888888888,
              "#fdca26"
             ],
             [
              1,
              "#f0f921"
             ]
            ],
            "type": "histogram2dcontour"
           }
          ],
          "mesh3d": [
           {
            "colorbar": {
             "outlinewidth": 0,
             "ticks": ""
            },
            "type": "mesh3d"
           }
          ],
          "parcoords": [
           {
            "line": {
             "colorbar": {
              "outlinewidth": 0,
              "ticks": ""
             }
            },
            "type": "parcoords"
           }
          ],
          "pie": [
           {
            "automargin": true,
            "type": "pie"
           }
          ],
          "scatter": [
           {
            "fillpattern": {
             "fillmode": "overlay",
             "size": 10,
             "solidity": 0.2
            },
            "type": "scatter"
           }
          ],
          "scatter3d": [
           {
            "line": {
             "colorbar": {
              "outlinewidth": 0,
              "ticks": ""
             }
            },
            "marker": {
             "colorbar": {
              "outlinewidth": 0,
              "ticks": ""
             }
            },
            "type": "scatter3d"
           }
          ],
          "scattercarpet": [
           {
            "marker": {
             "colorbar": {
              "outlinewidth": 0,
              "ticks": ""
             }
            },
            "type": "scattercarpet"
           }
          ],
          "scattergeo": [
           {
            "marker": {
             "colorbar": {
              "outlinewidth": 0,
              "ticks": ""
             }
            },
            "type": "scattergeo"
           }
          ],
          "scattergl": [
           {
            "marker": {
             "colorbar": {
              "outlinewidth": 0,
              "ticks": ""
             }
            },
            "type": "scattergl"
           }
          ],
          "scattermapbox": [
           {
            "marker": {
             "colorbar": {
              "outlinewidth": 0,
              "ticks": ""
             }
            },
            "type": "scattermapbox"
           }
          ],
          "scatterpolar": [
           {
            "marker": {
             "colorbar": {
              "outlinewidth": 0,
              "ticks": ""
             }
            },
            "type": "scatterpolar"
           }
          ],
          "scatterpolargl": [
           {
            "marker": {
             "colorbar": {
              "outlinewidth": 0,
              "ticks": ""
             }
            },
            "type": "scatterpolargl"
           }
          ],
          "scatterternary": [
           {
            "marker": {
             "colorbar": {
              "outlinewidth": 0,
              "ticks": ""
             }
            },
            "type": "scatterternary"
           }
          ],
          "surface": [
           {
            "colorbar": {
             "outlinewidth": 0,
             "ticks": ""
            },
            "colorscale": [
             [
              0,
              "#0d0887"
             ],
             [
              0.1111111111111111,
              "#46039f"
             ],
             [
              0.2222222222222222,
              "#7201a8"
             ],
             [
              0.3333333333333333,
              "#9c179e"
             ],
             [
              0.4444444444444444,
              "#bd3786"
             ],
             [
              0.5555555555555556,
              "#d8576b"
             ],
             [
              0.6666666666666666,
              "#ed7953"
             ],
             [
              0.7777777777777778,
              "#fb9f3a"
             ],
             [
              0.8888888888888888,
              "#fdca26"
             ],
             [
              1,
              "#f0f921"
             ]
            ],
            "type": "surface"
           }
          ],
          "table": [
           {
            "cells": {
             "fill": {
              "color": "#EBF0F8"
             },
             "line": {
              "color": "white"
             }
            },
            "header": {
             "fill": {
              "color": "#C8D4E3"
             },
             "line": {
              "color": "white"
             }
            },
            "type": "table"
           }
          ]
         },
         "layout": {
          "annotationdefaults": {
           "arrowcolor": "#2a3f5f",
           "arrowhead": 0,
           "arrowwidth": 1
          },
          "autotypenumbers": "strict",
          "coloraxis": {
           "colorbar": {
            "outlinewidth": 0,
            "ticks": ""
           }
          },
          "colorscale": {
           "diverging": [
            [
             0,
             "#8e0152"
            ],
            [
             0.1,
             "#c51b7d"
            ],
            [
             0.2,
             "#de77ae"
            ],
            [
             0.3,
             "#f1b6da"
            ],
            [
             0.4,
             "#fde0ef"
            ],
            [
             0.5,
             "#f7f7f7"
            ],
            [
             0.6,
             "#e6f5d0"
            ],
            [
             0.7,
             "#b8e186"
            ],
            [
             0.8,
             "#7fbc41"
            ],
            [
             0.9,
             "#4d9221"
            ],
            [
             1,
             "#276419"
            ]
           ],
           "sequential": [
            [
             0,
             "#0d0887"
            ],
            [
             0.1111111111111111,
             "#46039f"
            ],
            [
             0.2222222222222222,
             "#7201a8"
            ],
            [
             0.3333333333333333,
             "#9c179e"
            ],
            [
             0.4444444444444444,
             "#bd3786"
            ],
            [
             0.5555555555555556,
             "#d8576b"
            ],
            [
             0.6666666666666666,
             "#ed7953"
            ],
            [
             0.7777777777777778,
             "#fb9f3a"
            ],
            [
             0.8888888888888888,
             "#fdca26"
            ],
            [
             1,
             "#f0f921"
            ]
           ],
           "sequentialminus": [
            [
             0,
             "#0d0887"
            ],
            [
             0.1111111111111111,
             "#46039f"
            ],
            [
             0.2222222222222222,
             "#7201a8"
            ],
            [
             0.3333333333333333,
             "#9c179e"
            ],
            [
             0.4444444444444444,
             "#bd3786"
            ],
            [
             0.5555555555555556,
             "#d8576b"
            ],
            [
             0.6666666666666666,
             "#ed7953"
            ],
            [
             0.7777777777777778,
             "#fb9f3a"
            ],
            [
             0.8888888888888888,
             "#fdca26"
            ],
            [
             1,
             "#f0f921"
            ]
           ]
          },
          "colorway": [
           "#636efa",
           "#EF553B",
           "#00cc96",
           "#ab63fa",
           "#FFA15A",
           "#19d3f3",
           "#FF6692",
           "#B6E880",
           "#FF97FF",
           "#FECB52"
          ],
          "font": {
           "color": "#2a3f5f"
          },
          "geo": {
           "bgcolor": "white",
           "lakecolor": "white",
           "landcolor": "#E5ECF6",
           "showlakes": true,
           "showland": true,
           "subunitcolor": "white"
          },
          "hoverlabel": {
           "align": "left"
          },
          "hovermode": "closest",
          "mapbox": {
           "style": "light"
          },
          "paper_bgcolor": "white",
          "plot_bgcolor": "#E5ECF6",
          "polar": {
           "angularaxis": {
            "gridcolor": "white",
            "linecolor": "white",
            "ticks": ""
           },
           "bgcolor": "#E5ECF6",
           "radialaxis": {
            "gridcolor": "white",
            "linecolor": "white",
            "ticks": ""
           }
          },
          "scene": {
           "xaxis": {
            "backgroundcolor": "#E5ECF6",
            "gridcolor": "white",
            "gridwidth": 2,
            "linecolor": "white",
            "showbackground": true,
            "ticks": "",
            "zerolinecolor": "white"
           },
           "yaxis": {
            "backgroundcolor": "#E5ECF6",
            "gridcolor": "white",
            "gridwidth": 2,
            "linecolor": "white",
            "showbackground": true,
            "ticks": "",
            "zerolinecolor": "white"
           },
           "zaxis": {
            "backgroundcolor": "#E5ECF6",
            "gridcolor": "white",
            "gridwidth": 2,
            "linecolor": "white",
            "showbackground": true,
            "ticks": "",
            "zerolinecolor": "white"
           }
          },
          "shapedefaults": {
           "line": {
            "color": "#2a3f5f"
           }
          },
          "ternary": {
           "aaxis": {
            "gridcolor": "white",
            "linecolor": "white",
            "ticks": ""
           },
           "baxis": {
            "gridcolor": "white",
            "linecolor": "white",
            "ticks": ""
           },
           "bgcolor": "#E5ECF6",
           "caxis": {
            "gridcolor": "white",
            "linecolor": "white",
            "ticks": ""
           }
          },
          "title": {
           "x": 0.05
          },
          "xaxis": {
           "automargin": true,
           "gridcolor": "white",
           "linecolor": "white",
           "ticks": "",
           "title": {
            "standoff": 15
           },
           "zerolinecolor": "white",
           "zerolinewidth": 2
          },
          "yaxis": {
           "automargin": true,
           "gridcolor": "white",
           "linecolor": "white",
           "ticks": "",
           "title": {
            "standoff": 15
           },
           "zerolinecolor": "white",
           "zerolinewidth": 2
          }
         }
        },
        "title": {
         "text": "Contour Plot"
        },
        "xaxis": {
         "anchor": "y",
         "domain": [
          0,
          0.1183673469387755
         ],
         "matches": "x43",
         "range": [
          0.01901688855800398,
          0.04843827234034574
         ],
         "showticklabels": false
        },
        "xaxis10": {
         "anchor": "y10",
         "domain": [
          0.29387755102040813,
          0.4122448979591836
         ],
         "matches": "x45",
         "range": [
          10.8,
          37.2
         ],
         "showticklabels": false
        },
        "xaxis11": {
         "anchor": "y11",
         "domain": [
          0.4408163265306122,
          0.5591836734693877
         ],
         "matches": "x46",
         "range": [
          3.4,
          16.6
         ],
         "showticklabels": false
        },
        "xaxis12": {
         "anchor": "y12",
         "domain": [
          0.5877551020408163,
          0.7061224489795918
         ],
         "matches": "x47",
         "range": [
          0.85,
          4.15
         ],
         "showticklabels": false
        },
        "xaxis13": {
         "anchor": "y13",
         "domain": [
          0.7346938775510204,
          0.8530612244897959
         ],
         "matches": "x48",
         "range": [
          0.6499999999999999,
          8.35
         ],
         "showticklabels": false
        },
        "xaxis14": {
         "anchor": "y14",
         "domain": [
          0.8816326530612244,
          0.9999999999999999
         ],
         "matches": "x49",
         "range": [
          0.85,
          4.15
         ],
         "showticklabels": false
        },
        "xaxis15": {
         "anchor": "y15",
         "domain": [
          0,
          0.1183673469387755
         ],
         "matches": "x43",
         "range": [
          0.01901688855800398,
          0.04843827234034574
         ],
         "showticklabels": false
        },
        "xaxis16": {
         "anchor": "y16",
         "domain": [
          0.14693877551020407,
          0.26530612244897955
         ],
         "matches": "x44",
         "range": [
          3.4,
          16.6
         ],
         "showticklabels": false
        },
        "xaxis17": {
         "anchor": "y17",
         "domain": [
          0.29387755102040813,
          0.4122448979591836
         ],
         "matches": "x45",
         "range": [
          10.8,
          37.2
         ],
         "showticklabels": false
        },
        "xaxis18": {
         "anchor": "y18",
         "domain": [
          0.4408163265306122,
          0.5591836734693877
         ],
         "matches": "x46",
         "range": [
          3.4,
          16.6
         ],
         "showticklabels": false
        },
        "xaxis19": {
         "anchor": "y19",
         "domain": [
          0.5877551020408163,
          0.7061224489795918
         ],
         "matches": "x47",
         "range": [
          0.85,
          4.15
         ],
         "showticklabels": false
        },
        "xaxis2": {
         "anchor": "y2",
         "domain": [
          0.14693877551020407,
          0.26530612244897955
         ],
         "matches": "x44",
         "range": [
          3.4,
          16.6
         ],
         "showticklabels": false
        },
        "xaxis20": {
         "anchor": "y20",
         "domain": [
          0.7346938775510204,
          0.8530612244897959
         ],
         "matches": "x48",
         "range": [
          0.6499999999999999,
          8.35
         ],
         "showticklabels": false
        },
        "xaxis21": {
         "anchor": "y21",
         "domain": [
          0.8816326530612244,
          0.9999999999999999
         ],
         "matches": "x49",
         "range": [
          0.85,
          4.15
         ],
         "showticklabels": false
        },
        "xaxis22": {
         "anchor": "y22",
         "domain": [
          0,
          0.1183673469387755
         ],
         "matches": "x43",
         "range": [
          0.01901688855800398,
          0.04843827234034574
         ],
         "showticklabels": false
        },
        "xaxis23": {
         "anchor": "y23",
         "domain": [
          0.14693877551020407,
          0.26530612244897955
         ],
         "matches": "x44",
         "range": [
          3.4,
          16.6
         ],
         "showticklabels": false
        },
        "xaxis24": {
         "anchor": "y24",
         "domain": [
          0.29387755102040813,
          0.4122448979591836
         ],
         "matches": "x45",
         "range": [
          10.8,
          37.2
         ],
         "showticklabels": false
        },
        "xaxis25": {
         "anchor": "y25",
         "domain": [
          0.4408163265306122,
          0.5591836734693877
         ],
         "matches": "x46",
         "range": [
          3.4,
          16.6
         ],
         "showticklabels": false
        },
        "xaxis26": {
         "anchor": "y26",
         "domain": [
          0.5877551020408163,
          0.7061224489795918
         ],
         "matches": "x47",
         "range": [
          0.85,
          4.15
         ],
         "showticklabels": false
        },
        "xaxis27": {
         "anchor": "y27",
         "domain": [
          0.7346938775510204,
          0.8530612244897959
         ],
         "matches": "x48",
         "range": [
          0.6499999999999999,
          8.35
         ],
         "showticklabels": false
        },
        "xaxis28": {
         "anchor": "y28",
         "domain": [
          0.8816326530612244,
          0.9999999999999999
         ],
         "matches": "x49",
         "range": [
          0.85,
          4.15
         ],
         "showticklabels": false
        },
        "xaxis29": {
         "anchor": "y29",
         "domain": [
          0,
          0.1183673469387755
         ],
         "matches": "x43",
         "range": [
          0.01901688855800398,
          0.04843827234034574
         ],
         "showticklabels": false
        },
        "xaxis3": {
         "anchor": "y3",
         "domain": [
          0.29387755102040813,
          0.4122448979591836
         ],
         "matches": "x45",
         "range": [
          10.8,
          37.2
         ],
         "showticklabels": false
        },
        "xaxis30": {
         "anchor": "y30",
         "domain": [
          0.14693877551020407,
          0.26530612244897955
         ],
         "matches": "x44",
         "range": [
          3.4,
          16.6
         ],
         "showticklabels": false
        },
        "xaxis31": {
         "anchor": "y31",
         "domain": [
          0.29387755102040813,
          0.4122448979591836
         ],
         "matches": "x45",
         "range": [
          10.8,
          37.2
         ],
         "showticklabels": false
        },
        "xaxis32": {
         "anchor": "y32",
         "domain": [
          0.4408163265306122,
          0.5591836734693877
         ],
         "matches": "x46",
         "range": [
          3.4,
          16.6
         ],
         "showticklabels": false
        },
        "xaxis33": {
         "anchor": "y33",
         "domain": [
          0.5877551020408163,
          0.7061224489795918
         ],
         "matches": "x47",
         "range": [
          0.85,
          4.15
         ],
         "showticklabels": false
        },
        "xaxis34": {
         "anchor": "y34",
         "domain": [
          0.7346938775510204,
          0.8530612244897959
         ],
         "matches": "x48",
         "range": [
          0.6499999999999999,
          8.35
         ],
         "showticklabels": false
        },
        "xaxis35": {
         "anchor": "y35",
         "domain": [
          0.8816326530612244,
          0.9999999999999999
         ],
         "matches": "x49",
         "range": [
          0.85,
          4.15
         ],
         "showticklabels": false
        },
        "xaxis36": {
         "anchor": "y36",
         "domain": [
          0,
          0.1183673469387755
         ],
         "matches": "x43",
         "range": [
          0.01901688855800398,
          0.04843827234034574
         ],
         "showticklabels": false
        },
        "xaxis37": {
         "anchor": "y37",
         "domain": [
          0.14693877551020407,
          0.26530612244897955
         ],
         "matches": "x44",
         "range": [
          3.4,
          16.6
         ],
         "showticklabels": false
        },
        "xaxis38": {
         "anchor": "y38",
         "domain": [
          0.29387755102040813,
          0.4122448979591836
         ],
         "matches": "x45",
         "range": [
          10.8,
          37.2
         ],
         "showticklabels": false
        },
        "xaxis39": {
         "anchor": "y39",
         "domain": [
          0.4408163265306122,
          0.5591836734693877
         ],
         "matches": "x46",
         "range": [
          3.4,
          16.6
         ],
         "showticklabels": false
        },
        "xaxis4": {
         "anchor": "y4",
         "domain": [
          0.4408163265306122,
          0.5591836734693877
         ],
         "matches": "x46",
         "range": [
          3.4,
          16.6
         ],
         "showticklabels": false
        },
        "xaxis40": {
         "anchor": "y40",
         "domain": [
          0.5877551020408163,
          0.7061224489795918
         ],
         "matches": "x47",
         "range": [
          0.85,
          4.15
         ],
         "showticklabels": false
        },
        "xaxis41": {
         "anchor": "y41",
         "domain": [
          0.7346938775510204,
          0.8530612244897959
         ],
         "matches": "x48",
         "range": [
          0.6499999999999999,
          8.35
         ],
         "showticklabels": false
        },
        "xaxis42": {
         "anchor": "y42",
         "domain": [
          0.8816326530612244,
          0.9999999999999999
         ],
         "matches": "x49",
         "range": [
          0.85,
          4.15
         ],
         "showticklabels": false
        },
        "xaxis43": {
         "anchor": "y43",
         "domain": [
          0,
          0.1183673469387755
         ],
         "range": [
          0.01901688855800398,
          0.04843827234034574
         ],
         "title": {
          "text": "cooc_prob"
         }
        },
        "xaxis44": {
         "anchor": "y44",
         "domain": [
          0.14693877551020407,
          0.26530612244897955
         ],
         "range": [
          3.4,
          16.6
         ],
         "title": {
          "text": "num_cooc_week"
         }
        },
        "xaxis45": {
         "anchor": "y45",
         "domain": [
          0.29387755102040813,
          0.4122448979591836
         ],
         "range": [
          10.8,
          37.2
         ],
         "title": {
          "text": "num_popular_items"
         }
        },
        "xaxis46": {
         "anchor": "y46",
         "domain": [
          0.4408163265306122,
          0.5591836734693877
         ],
         "range": [
          3.4,
          16.6
         ],
         "title": {
          "text": "num_repurchase_week"
         }
        },
        "xaxis47": {
         "anchor": "y47",
         "domain": [
          0.5877551020408163,
          0.7061224489795918
         ],
         "range": [
          0.85,
          4.15
         ],
         "title": {
          "text": "num_train_weeks"
         }
        },
        "xaxis48": {
         "anchor": "y48",
         "domain": [
          0.7346938775510204,
          0.8530612244897959
         ],
         "range": [
          0.6499999999999999,
          8.35
         ],
         "title": {
          "text": "transaction_dynamic_week"
         }
        },
        "xaxis49": {
         "anchor": "y49",
         "domain": [
          0.8816326530612244,
          0.9999999999999999
         ],
         "range": [
          0.85,
          4.15
         ],
         "title": {
          "text": "volume_week"
         }
        },
        "xaxis5": {
         "anchor": "y5",
         "domain": [
          0.5877551020408163,
          0.7061224489795918
         ],
         "matches": "x47",
         "range": [
          0.85,
          4.15
         ],
         "showticklabels": false
        },
        "xaxis6": {
         "anchor": "y6",
         "domain": [
          0.7346938775510204,
          0.8530612244897959
         ],
         "matches": "x48",
         "range": [
          0.6499999999999999,
          8.35
         ],
         "showticklabels": false
        },
        "xaxis7": {
         "anchor": "y7",
         "domain": [
          0.8816326530612244,
          0.9999999999999999
         ],
         "matches": "x49",
         "range": [
          0.85,
          4.15
         ],
         "showticklabels": false
        },
        "xaxis8": {
         "anchor": "y8",
         "domain": [
          0,
          0.1183673469387755
         ],
         "matches": "x43",
         "range": [
          0.01901688855800398,
          0.04843827234034574
         ],
         "showticklabels": false
        },
        "xaxis9": {
         "anchor": "y9",
         "domain": [
          0.14693877551020407,
          0.26530612244897955
         ],
         "matches": "x44",
         "range": [
          3.4,
          16.6
         ],
         "showticklabels": false
        },
        "yaxis": {
         "anchor": "x",
         "domain": [
          0.8938775510204082,
          1
         ],
         "range": [
          0.01901688855800398,
          0.04843827234034574
         ],
         "title": {
          "text": "cooc_prob"
         }
        },
        "yaxis10": {
         "anchor": "x10",
         "domain": [
          0.7448979591836735,
          0.8510204081632654
         ],
         "matches": "y8",
         "range": [
          3.4,
          16.6
         ],
         "showticklabels": false
        },
        "yaxis11": {
         "anchor": "x11",
         "domain": [
          0.7448979591836735,
          0.8510204081632654
         ],
         "matches": "y8",
         "range": [
          3.4,
          16.6
         ],
         "showticklabels": false
        },
        "yaxis12": {
         "anchor": "x12",
         "domain": [
          0.7448979591836735,
          0.8510204081632654
         ],
         "matches": "y8",
         "range": [
          3.4,
          16.6
         ],
         "showticklabels": false
        },
        "yaxis13": {
         "anchor": "x13",
         "domain": [
          0.7448979591836735,
          0.8510204081632654
         ],
         "matches": "y8",
         "range": [
          3.4,
          16.6
         ],
         "showticklabels": false
        },
        "yaxis14": {
         "anchor": "x14",
         "domain": [
          0.7448979591836735,
          0.8510204081632654
         ],
         "matches": "y8",
         "range": [
          3.4,
          16.6
         ],
         "showticklabels": false
        },
        "yaxis15": {
         "anchor": "x15",
         "domain": [
          0.5959183673469388,
          0.7020408163265307
         ],
         "range": [
          10.8,
          37.2
         ],
         "title": {
          "text": "num_popular_items"
         }
        },
        "yaxis16": {
         "anchor": "x16",
         "domain": [
          0.5959183673469388,
          0.7020408163265307
         ],
         "matches": "y15",
         "range": [
          10.8,
          37.2
         ],
         "showticklabels": false
        },
        "yaxis17": {
         "anchor": "x17",
         "domain": [
          0.5959183673469388,
          0.7020408163265307
         ],
         "matches": "y15",
         "range": [
          10.8,
          37.2
         ],
         "showticklabels": false
        },
        "yaxis18": {
         "anchor": "x18",
         "domain": [
          0.5959183673469388,
          0.7020408163265307
         ],
         "matches": "y15",
         "range": [
          10.8,
          37.2
         ],
         "showticklabels": false
        },
        "yaxis19": {
         "anchor": "x19",
         "domain": [
          0.5959183673469388,
          0.7020408163265307
         ],
         "matches": "y15",
         "range": [
          10.8,
          37.2
         ],
         "showticklabels": false
        },
        "yaxis2": {
         "anchor": "x2",
         "domain": [
          0.8938775510204082,
          1
         ],
         "matches": "y",
         "range": [
          0.01901688855800398,
          0.04843827234034574
         ],
         "showticklabels": false
        },
        "yaxis20": {
         "anchor": "x20",
         "domain": [
          0.5959183673469388,
          0.7020408163265307
         ],
         "matches": "y15",
         "range": [
          10.8,
          37.2
         ],
         "showticklabels": false
        },
        "yaxis21": {
         "anchor": "x21",
         "domain": [
          0.5959183673469388,
          0.7020408163265307
         ],
         "matches": "y15",
         "range": [
          10.8,
          37.2
         ],
         "showticklabels": false
        },
        "yaxis22": {
         "anchor": "x22",
         "domain": [
          0.4469387755102041,
          0.553061224489796
         ],
         "range": [
          3.4,
          16.6
         ],
         "title": {
          "text": "num_repurchase_week"
         }
        },
        "yaxis23": {
         "anchor": "x23",
         "domain": [
          0.4469387755102041,
          0.553061224489796
         ],
         "matches": "y22",
         "range": [
          3.4,
          16.6
         ],
         "showticklabels": false
        },
        "yaxis24": {
         "anchor": "x24",
         "domain": [
          0.4469387755102041,
          0.553061224489796
         ],
         "matches": "y22",
         "range": [
          3.4,
          16.6
         ],
         "showticklabels": false
        },
        "yaxis25": {
         "anchor": "x25",
         "domain": [
          0.4469387755102041,
          0.553061224489796
         ],
         "matches": "y22",
         "range": [
          3.4,
          16.6
         ],
         "showticklabels": false
        },
        "yaxis26": {
         "anchor": "x26",
         "domain": [
          0.4469387755102041,
          0.553061224489796
         ],
         "matches": "y22",
         "range": [
          3.4,
          16.6
         ],
         "showticklabels": false
        },
        "yaxis27": {
         "anchor": "x27",
         "domain": [
          0.4469387755102041,
          0.553061224489796
         ],
         "matches": "y22",
         "range": [
          3.4,
          16.6
         ],
         "showticklabels": false
        },
        "yaxis28": {
         "anchor": "x28",
         "domain": [
          0.4469387755102041,
          0.553061224489796
         ],
         "matches": "y22",
         "range": [
          3.4,
          16.6
         ],
         "showticklabels": false
        },
        "yaxis29": {
         "anchor": "x29",
         "domain": [
          0.2979591836734694,
          0.40408163265306124
         ],
         "range": [
          0.85,
          4.15
         ],
         "title": {
          "text": "num_train_weeks"
         }
        },
        "yaxis3": {
         "anchor": "x3",
         "domain": [
          0.8938775510204082,
          1
         ],
         "matches": "y",
         "range": [
          0.01901688855800398,
          0.04843827234034574
         ],
         "showticklabels": false
        },
        "yaxis30": {
         "anchor": "x30",
         "domain": [
          0.2979591836734694,
          0.40408163265306124
         ],
         "matches": "y29",
         "range": [
          0.85,
          4.15
         ],
         "showticklabels": false
        },
        "yaxis31": {
         "anchor": "x31",
         "domain": [
          0.2979591836734694,
          0.40408163265306124
         ],
         "matches": "y29",
         "range": [
          0.85,
          4.15
         ],
         "showticklabels": false
        },
        "yaxis32": {
         "anchor": "x32",
         "domain": [
          0.2979591836734694,
          0.40408163265306124
         ],
         "matches": "y29",
         "range": [
          0.85,
          4.15
         ],
         "showticklabels": false
        },
        "yaxis33": {
         "anchor": "x33",
         "domain": [
          0.2979591836734694,
          0.40408163265306124
         ],
         "matches": "y29",
         "range": [
          0.85,
          4.15
         ],
         "showticklabels": false
        },
        "yaxis34": {
         "anchor": "x34",
         "domain": [
          0.2979591836734694,
          0.40408163265306124
         ],
         "matches": "y29",
         "range": [
          0.85,
          4.15
         ],
         "showticklabels": false
        },
        "yaxis35": {
         "anchor": "x35",
         "domain": [
          0.2979591836734694,
          0.40408163265306124
         ],
         "matches": "y29",
         "range": [
          0.85,
          4.15
         ],
         "showticklabels": false
        },
        "yaxis36": {
         "anchor": "x36",
         "domain": [
          0.1489795918367347,
          0.25510204081632654
         ],
         "range": [
          0.6499999999999999,
          8.35
         ],
         "title": {
          "text": "transaction_dynamic_week"
         }
        },
        "yaxis37": {
         "anchor": "x37",
         "domain": [
          0.1489795918367347,
          0.25510204081632654
         ],
         "matches": "y36",
         "range": [
          0.6499999999999999,
          8.35
         ],
         "showticklabels": false
        },
        "yaxis38": {
         "anchor": "x38",
         "domain": [
          0.1489795918367347,
          0.25510204081632654
         ],
         "matches": "y36",
         "range": [
          0.6499999999999999,
          8.35
         ],
         "showticklabels": false
        },
        "yaxis39": {
         "anchor": "x39",
         "domain": [
          0.1489795918367347,
          0.25510204081632654
         ],
         "matches": "y36",
         "range": [
          0.6499999999999999,
          8.35
         ],
         "showticklabels": false
        },
        "yaxis4": {
         "anchor": "x4",
         "domain": [
          0.8938775510204082,
          1
         ],
         "matches": "y",
         "range": [
          0.01901688855800398,
          0.04843827234034574
         ],
         "showticklabels": false
        },
        "yaxis40": {
         "anchor": "x40",
         "domain": [
          0.1489795918367347,
          0.25510204081632654
         ],
         "matches": "y36",
         "range": [
          0.6499999999999999,
          8.35
         ],
         "showticklabels": false
        },
        "yaxis41": {
         "anchor": "x41",
         "domain": [
          0.1489795918367347,
          0.25510204081632654
         ],
         "matches": "y36",
         "range": [
          0.6499999999999999,
          8.35
         ],
         "showticklabels": false
        },
        "yaxis42": {
         "anchor": "x42",
         "domain": [
          0.1489795918367347,
          0.25510204081632654
         ],
         "matches": "y36",
         "range": [
          0.6499999999999999,
          8.35
         ],
         "showticklabels": false
        },
        "yaxis43": {
         "anchor": "x43",
         "domain": [
          0,
          0.10612244897959185
         ],
         "range": [
          0.85,
          4.15
         ],
         "title": {
          "text": "volume_week"
         }
        },
        "yaxis44": {
         "anchor": "x44",
         "domain": [
          0,
          0.10612244897959185
         ],
         "matches": "y43",
         "range": [
          0.85,
          4.15
         ],
         "showticklabels": false
        },
        "yaxis45": {
         "anchor": "x45",
         "domain": [
          0,
          0.10612244897959185
         ],
         "matches": "y43",
         "range": [
          0.85,
          4.15
         ],
         "showticklabels": false
        },
        "yaxis46": {
         "anchor": "x46",
         "domain": [
          0,
          0.10612244897959185
         ],
         "matches": "y43",
         "range": [
          0.85,
          4.15
         ],
         "showticklabels": false
        },
        "yaxis47": {
         "anchor": "x47",
         "domain": [
          0,
          0.10612244897959185
         ],
         "matches": "y43",
         "range": [
          0.85,
          4.15
         ],
         "showticklabels": false
        },
        "yaxis48": {
         "anchor": "x48",
         "domain": [
          0,
          0.10612244897959185
         ],
         "matches": "y43",
         "range": [
          0.85,
          4.15
         ],
         "showticklabels": false
        },
        "yaxis49": {
         "anchor": "x49",
         "domain": [
          0,
          0.10612244897959185
         ],
         "matches": "y43",
         "range": [
          0.85,
          4.15
         ],
         "showticklabels": false
        },
        "yaxis5": {
         "anchor": "x5",
         "domain": [
          0.8938775510204082,
          1
         ],
         "matches": "y",
         "range": [
          0.01901688855800398,
          0.04843827234034574
         ],
         "showticklabels": false
        },
        "yaxis6": {
         "anchor": "x6",
         "domain": [
          0.8938775510204082,
          1
         ],
         "matches": "y",
         "range": [
          0.01901688855800398,
          0.04843827234034574
         ],
         "showticklabels": false
        },
        "yaxis7": {
         "anchor": "x7",
         "domain": [
          0.8938775510204082,
          1
         ],
         "matches": "y",
         "range": [
          0.01901688855800398,
          0.04843827234034574
         ],
         "showticklabels": false
        },
        "yaxis8": {
         "anchor": "x8",
         "domain": [
          0.7448979591836735,
          0.8510204081632654
         ],
         "range": [
          3.4,
          16.6
         ],
         "title": {
          "text": "num_cooc_week"
         }
        },
        "yaxis9": {
         "anchor": "x9",
         "domain": [
          0.7448979591836735,
          0.8510204081632654
         ],
         "matches": "y8",
         "range": [
          3.4,
          16.6
         ],
         "showticklabels": false
        }
       }
      }
     },
     "metadata": {},
     "output_type": "display_data"
    }
   ],
   "source": [
    "optuna.visualization.plot_contour(study)"
   ]
  },
  {
   "cell_type": "code",
   "execution_count": 7,
   "metadata": {},
   "outputs": [
    {
     "data": {
      "application/vnd.plotly.v1+json": {
       "config": {
        "plotlyServerURL": "https://plot.ly"
       },
       "data": [
        {
         "cliponaxis": false,
         "hovertemplate": [
          "volume_week (IntUniformDistribution): 0.0037769938774081815<extra></extra>",
          "num_train_weeks (IntUniformDistribution): 0.006816050300755352<extra></extra>",
          "num_cooc_week (IntUniformDistribution): 0.015399423971767842<extra></extra>",
          "transaction_dynamic_week (IntUniformDistribution): 0.019662951355069326<extra></extra>",
          "cooc_prob (UniformDistribution): 0.019671238847189434<extra></extra>",
          "num_popular_items (IntUniformDistribution): 0.03407508807317269<extra></extra>",
          "num_repurchase_week (IntUniformDistribution): 0.9005982535746373<extra></extra>"
         ],
         "marker": {
          "color": "rgb(66,146,198)"
         },
         "orientation": "h",
         "text": [
          "0.0037769938774081815",
          "0.006816050300755352",
          "0.015399423971767842",
          "0.019662951355069326",
          "0.019671238847189434",
          "0.03407508807317269",
          "0.9005982535746373"
         ],
         "textposition": "outside",
         "texttemplate": "%{text:.2f}",
         "type": "bar",
         "x": [
          0.0037769938774081815,
          0.006816050300755352,
          0.015399423971767842,
          0.019662951355069326,
          0.019671238847189434,
          0.03407508807317269,
          0.9005982535746373
         ],
         "y": [
          "volume_week",
          "num_train_weeks",
          "num_cooc_week",
          "transaction_dynamic_week",
          "cooc_prob",
          "num_popular_items",
          "num_repurchase_week"
         ]
        }
       ],
       "layout": {
        "showlegend": false,
        "template": {
         "data": {
          "bar": [
           {
            "error_x": {
             "color": "#2a3f5f"
            },
            "error_y": {
             "color": "#2a3f5f"
            },
            "marker": {
             "line": {
              "color": "#E5ECF6",
              "width": 0.5
             },
             "pattern": {
              "fillmode": "overlay",
              "size": 10,
              "solidity": 0.2
             }
            },
            "type": "bar"
           }
          ],
          "barpolar": [
           {
            "marker": {
             "line": {
              "color": "#E5ECF6",
              "width": 0.5
             },
             "pattern": {
              "fillmode": "overlay",
              "size": 10,
              "solidity": 0.2
             }
            },
            "type": "barpolar"
           }
          ],
          "carpet": [
           {
            "aaxis": {
             "endlinecolor": "#2a3f5f",
             "gridcolor": "white",
             "linecolor": "white",
             "minorgridcolor": "white",
             "startlinecolor": "#2a3f5f"
            },
            "baxis": {
             "endlinecolor": "#2a3f5f",
             "gridcolor": "white",
             "linecolor": "white",
             "minorgridcolor": "white",
             "startlinecolor": "#2a3f5f"
            },
            "type": "carpet"
           }
          ],
          "choropleth": [
           {
            "colorbar": {
             "outlinewidth": 0,
             "ticks": ""
            },
            "type": "choropleth"
           }
          ],
          "contour": [
           {
            "colorbar": {
             "outlinewidth": 0,
             "ticks": ""
            },
            "colorscale": [
             [
              0,
              "#0d0887"
             ],
             [
              0.1111111111111111,
              "#46039f"
             ],
             [
              0.2222222222222222,
              "#7201a8"
             ],
             [
              0.3333333333333333,
              "#9c179e"
             ],
             [
              0.4444444444444444,
              "#bd3786"
             ],
             [
              0.5555555555555556,
              "#d8576b"
             ],
             [
              0.6666666666666666,
              "#ed7953"
             ],
             [
              0.7777777777777778,
              "#fb9f3a"
             ],
             [
              0.8888888888888888,
              "#fdca26"
             ],
             [
              1,
              "#f0f921"
             ]
            ],
            "type": "contour"
           }
          ],
          "contourcarpet": [
           {
            "colorbar": {
             "outlinewidth": 0,
             "ticks": ""
            },
            "type": "contourcarpet"
           }
          ],
          "heatmap": [
           {
            "colorbar": {
             "outlinewidth": 0,
             "ticks": ""
            },
            "colorscale": [
             [
              0,
              "#0d0887"
             ],
             [
              0.1111111111111111,
              "#46039f"
             ],
             [
              0.2222222222222222,
              "#7201a8"
             ],
             [
              0.3333333333333333,
              "#9c179e"
             ],
             [
              0.4444444444444444,
              "#bd3786"
             ],
             [
              0.5555555555555556,
              "#d8576b"
             ],
             [
              0.6666666666666666,
              "#ed7953"
             ],
             [
              0.7777777777777778,
              "#fb9f3a"
             ],
             [
              0.8888888888888888,
              "#fdca26"
             ],
             [
              1,
              "#f0f921"
             ]
            ],
            "type": "heatmap"
           }
          ],
          "heatmapgl": [
           {
            "colorbar": {
             "outlinewidth": 0,
             "ticks": ""
            },
            "colorscale": [
             [
              0,
              "#0d0887"
             ],
             [
              0.1111111111111111,
              "#46039f"
             ],
             [
              0.2222222222222222,
              "#7201a8"
             ],
             [
              0.3333333333333333,
              "#9c179e"
             ],
             [
              0.4444444444444444,
              "#bd3786"
             ],
             [
              0.5555555555555556,
              "#d8576b"
             ],
             [
              0.6666666666666666,
              "#ed7953"
             ],
             [
              0.7777777777777778,
              "#fb9f3a"
             ],
             [
              0.8888888888888888,
              "#fdca26"
             ],
             [
              1,
              "#f0f921"
             ]
            ],
            "type": "heatmapgl"
           }
          ],
          "histogram": [
           {
            "marker": {
             "pattern": {
              "fillmode": "overlay",
              "size": 10,
              "solidity": 0.2
             }
            },
            "type": "histogram"
           }
          ],
          "histogram2d": [
           {
            "colorbar": {
             "outlinewidth": 0,
             "ticks": ""
            },
            "colorscale": [
             [
              0,
              "#0d0887"
             ],
             [
              0.1111111111111111,
              "#46039f"
             ],
             [
              0.2222222222222222,
              "#7201a8"
             ],
             [
              0.3333333333333333,
              "#9c179e"
             ],
             [
              0.4444444444444444,
              "#bd3786"
             ],
             [
              0.5555555555555556,
              "#d8576b"
             ],
             [
              0.6666666666666666,
              "#ed7953"
             ],
             [
              0.7777777777777778,
              "#fb9f3a"
             ],
             [
              0.8888888888888888,
              "#fdca26"
             ],
             [
              1,
              "#f0f921"
             ]
            ],
            "type": "histogram2d"
           }
          ],
          "histogram2dcontour": [
           {
            "colorbar": {
             "outlinewidth": 0,
             "ticks": ""
            },
            "colorscale": [
             [
              0,
              "#0d0887"
             ],
             [
              0.1111111111111111,
              "#46039f"
             ],
             [
              0.2222222222222222,
              "#7201a8"
             ],
             [
              0.3333333333333333,
              "#9c179e"
             ],
             [
              0.4444444444444444,
              "#bd3786"
             ],
             [
              0.5555555555555556,
              "#d8576b"
             ],
             [
              0.6666666666666666,
              "#ed7953"
             ],
             [
              0.7777777777777778,
              "#fb9f3a"
             ],
             [
              0.8888888888888888,
              "#fdca26"
             ],
             [
              1,
              "#f0f921"
             ]
            ],
            "type": "histogram2dcontour"
           }
          ],
          "mesh3d": [
           {
            "colorbar": {
             "outlinewidth": 0,
             "ticks": ""
            },
            "type": "mesh3d"
           }
          ],
          "parcoords": [
           {
            "line": {
             "colorbar": {
              "outlinewidth": 0,
              "ticks": ""
             }
            },
            "type": "parcoords"
           }
          ],
          "pie": [
           {
            "automargin": true,
            "type": "pie"
           }
          ],
          "scatter": [
           {
            "fillpattern": {
             "fillmode": "overlay",
             "size": 10,
             "solidity": 0.2
            },
            "type": "scatter"
           }
          ],
          "scatter3d": [
           {
            "line": {
             "colorbar": {
              "outlinewidth": 0,
              "ticks": ""
             }
            },
            "marker": {
             "colorbar": {
              "outlinewidth": 0,
              "ticks": ""
             }
            },
            "type": "scatter3d"
           }
          ],
          "scattercarpet": [
           {
            "marker": {
             "colorbar": {
              "outlinewidth": 0,
              "ticks": ""
             }
            },
            "type": "scattercarpet"
           }
          ],
          "scattergeo": [
           {
            "marker": {
             "colorbar": {
              "outlinewidth": 0,
              "ticks": ""
             }
            },
            "type": "scattergeo"
           }
          ],
          "scattergl": [
           {
            "marker": {
             "colorbar": {
              "outlinewidth": 0,
              "ticks": ""
             }
            },
            "type": "scattergl"
           }
          ],
          "scattermapbox": [
           {
            "marker": {
             "colorbar": {
              "outlinewidth": 0,
              "ticks": ""
             }
            },
            "type": "scattermapbox"
           }
          ],
          "scatterpolar": [
           {
            "marker": {
             "colorbar": {
              "outlinewidth": 0,
              "ticks": ""
             }
            },
            "type": "scatterpolar"
           }
          ],
          "scatterpolargl": [
           {
            "marker": {
             "colorbar": {
              "outlinewidth": 0,
              "ticks": ""
             }
            },
            "type": "scatterpolargl"
           }
          ],
          "scatterternary": [
           {
            "marker": {
             "colorbar": {
              "outlinewidth": 0,
              "ticks": ""
             }
            },
            "type": "scatterternary"
           }
          ],
          "surface": [
           {
            "colorbar": {
             "outlinewidth": 0,
             "ticks": ""
            },
            "colorscale": [
             [
              0,
              "#0d0887"
             ],
             [
              0.1111111111111111,
              "#46039f"
             ],
             [
              0.2222222222222222,
              "#7201a8"
             ],
             [
              0.3333333333333333,
              "#9c179e"
             ],
             [
              0.4444444444444444,
              "#bd3786"
             ],
             [
              0.5555555555555556,
              "#d8576b"
             ],
             [
              0.6666666666666666,
              "#ed7953"
             ],
             [
              0.7777777777777778,
              "#fb9f3a"
             ],
             [
              0.8888888888888888,
              "#fdca26"
             ],
             [
              1,
              "#f0f921"
             ]
            ],
            "type": "surface"
           }
          ],
          "table": [
           {
            "cells": {
             "fill": {
              "color": "#EBF0F8"
             },
             "line": {
              "color": "white"
             }
            },
            "header": {
             "fill": {
              "color": "#C8D4E3"
             },
             "line": {
              "color": "white"
             }
            },
            "type": "table"
           }
          ]
         },
         "layout": {
          "annotationdefaults": {
           "arrowcolor": "#2a3f5f",
           "arrowhead": 0,
           "arrowwidth": 1
          },
          "autotypenumbers": "strict",
          "coloraxis": {
           "colorbar": {
            "outlinewidth": 0,
            "ticks": ""
           }
          },
          "colorscale": {
           "diverging": [
            [
             0,
             "#8e0152"
            ],
            [
             0.1,
             "#c51b7d"
            ],
            [
             0.2,
             "#de77ae"
            ],
            [
             0.3,
             "#f1b6da"
            ],
            [
             0.4,
             "#fde0ef"
            ],
            [
             0.5,
             "#f7f7f7"
            ],
            [
             0.6,
             "#e6f5d0"
            ],
            [
             0.7,
             "#b8e186"
            ],
            [
             0.8,
             "#7fbc41"
            ],
            [
             0.9,
             "#4d9221"
            ],
            [
             1,
             "#276419"
            ]
           ],
           "sequential": [
            [
             0,
             "#0d0887"
            ],
            [
             0.1111111111111111,
             "#46039f"
            ],
            [
             0.2222222222222222,
             "#7201a8"
            ],
            [
             0.3333333333333333,
             "#9c179e"
            ],
            [
             0.4444444444444444,
             "#bd3786"
            ],
            [
             0.5555555555555556,
             "#d8576b"
            ],
            [
             0.6666666666666666,
             "#ed7953"
            ],
            [
             0.7777777777777778,
             "#fb9f3a"
            ],
            [
             0.8888888888888888,
             "#fdca26"
            ],
            [
             1,
             "#f0f921"
            ]
           ],
           "sequentialminus": [
            [
             0,
             "#0d0887"
            ],
            [
             0.1111111111111111,
             "#46039f"
            ],
            [
             0.2222222222222222,
             "#7201a8"
            ],
            [
             0.3333333333333333,
             "#9c179e"
            ],
            [
             0.4444444444444444,
             "#bd3786"
            ],
            [
             0.5555555555555556,
             "#d8576b"
            ],
            [
             0.6666666666666666,
             "#ed7953"
            ],
            [
             0.7777777777777778,
             "#fb9f3a"
            ],
            [
             0.8888888888888888,
             "#fdca26"
            ],
            [
             1,
             "#f0f921"
            ]
           ]
          },
          "colorway": [
           "#636efa",
           "#EF553B",
           "#00cc96",
           "#ab63fa",
           "#FFA15A",
           "#19d3f3",
           "#FF6692",
           "#B6E880",
           "#FF97FF",
           "#FECB52"
          ],
          "font": {
           "color": "#2a3f5f"
          },
          "geo": {
           "bgcolor": "white",
           "lakecolor": "white",
           "landcolor": "#E5ECF6",
           "showlakes": true,
           "showland": true,
           "subunitcolor": "white"
          },
          "hoverlabel": {
           "align": "left"
          },
          "hovermode": "closest",
          "mapbox": {
           "style": "light"
          },
          "paper_bgcolor": "white",
          "plot_bgcolor": "#E5ECF6",
          "polar": {
           "angularaxis": {
            "gridcolor": "white",
            "linecolor": "white",
            "ticks": ""
           },
           "bgcolor": "#E5ECF6",
           "radialaxis": {
            "gridcolor": "white",
            "linecolor": "white",
            "ticks": ""
           }
          },
          "scene": {
           "xaxis": {
            "backgroundcolor": "#E5ECF6",
            "gridcolor": "white",
            "gridwidth": 2,
            "linecolor": "white",
            "showbackground": true,
            "ticks": "",
            "zerolinecolor": "white"
           },
           "yaxis": {
            "backgroundcolor": "#E5ECF6",
            "gridcolor": "white",
            "gridwidth": 2,
            "linecolor": "white",
            "showbackground": true,
            "ticks": "",
            "zerolinecolor": "white"
           },
           "zaxis": {
            "backgroundcolor": "#E5ECF6",
            "gridcolor": "white",
            "gridwidth": 2,
            "linecolor": "white",
            "showbackground": true,
            "ticks": "",
            "zerolinecolor": "white"
           }
          },
          "shapedefaults": {
           "line": {
            "color": "#2a3f5f"
           }
          },
          "ternary": {
           "aaxis": {
            "gridcolor": "white",
            "linecolor": "white",
            "ticks": ""
           },
           "baxis": {
            "gridcolor": "white",
            "linecolor": "white",
            "ticks": ""
           },
           "bgcolor": "#E5ECF6",
           "caxis": {
            "gridcolor": "white",
            "linecolor": "white",
            "ticks": ""
           }
          },
          "title": {
           "x": 0.05
          },
          "xaxis": {
           "automargin": true,
           "gridcolor": "white",
           "linecolor": "white",
           "ticks": "",
           "title": {
            "standoff": 15
           },
           "zerolinecolor": "white",
           "zerolinewidth": 2
          },
          "yaxis": {
           "automargin": true,
           "gridcolor": "white",
           "linecolor": "white",
           "ticks": "",
           "title": {
            "standoff": 15
           },
           "zerolinecolor": "white",
           "zerolinewidth": 2
          }
         }
        },
        "title": {
         "text": "Hyperparameter Importances"
        },
        "xaxis": {
         "title": {
          "text": "Importance for Objective Value"
         }
        },
        "yaxis": {
         "title": {
          "text": "Hyperparameter"
         }
        }
       }
      }
     },
     "metadata": {},
     "output_type": "display_data"
    }
   ],
   "source": [
    "optuna.visualization.plot_param_importances(study)"
   ]
  },
  {
   "cell_type": "code",
   "execution_count": 8,
   "metadata": {},
   "outputs": [
    {
     "data": {
      "application/vnd.plotly.v1+json": {
       "config": {
        "plotlyServerURL": "https://plot.ly"
       },
       "data": [
        {
         "mode": "markers",
         "name": "Objective Value",
         "type": "scatter",
         "x": [
          0,
          1,
          2,
          3,
          4,
          5,
          6,
          7,
          8,
          9,
          10,
          11,
          12,
          13,
          14,
          15,
          16,
          17,
          18,
          19,
          20,
          21,
          22,
          23,
          24,
          25,
          26,
          27,
          28,
          29,
          30,
          31
         ],
         "y": [
          0.029444172949849443,
          0.028885310530626526,
          0.02872545740578306,
          0.02986944115002603,
          0.028816267818454644,
          0.028683470665972967,
          0.02967770782613019,
          0.02914594387551869,
          0.029381212039641006,
          0.028298802448229722,
          0.029794228446014204,
          0.029808838857595197,
          0.029393769192592924,
          0.02963632140236898,
          0.030083009807994422,
          0.029334459885212674,
          0.028282209247603718,
          0.029634138868290208,
          0.03002484272518845,
          0.029511126821920867,
          0.029842340873697765,
          0.02963325239678761,
          0.029238994132413213,
          0.029692746772929907,
          0.029868588032976397,
          0.0289256543280657,
          0.028392164684845664,
          0.029979177199051892,
          0.02959901742685048,
          0.0299532290870617,
          0.029677413780709868,
          0.02975309477829758
         ]
        },
        {
         "name": "Best Value",
         "type": "scatter",
         "x": [
          0,
          1,
          2,
          3,
          4,
          5,
          6,
          7,
          8,
          9,
          10,
          11,
          12,
          13,
          14,
          15,
          16,
          17,
          18,
          19,
          20,
          21,
          22,
          23,
          24,
          25,
          26,
          27,
          28,
          29,
          30,
          31
         ],
         "y": [
          0.029444172949849443,
          0.029444172949849443,
          0.029444172949849443,
          0.02986944115002603,
          0.02986944115002603,
          0.02986944115002603,
          0.02986944115002603,
          0.02986944115002603,
          0.02986944115002603,
          0.02986944115002603,
          0.02986944115002603,
          0.02986944115002603,
          0.02986944115002603,
          0.02986944115002603,
          0.030083009807994422,
          0.030083009807994422,
          0.030083009807994422,
          0.030083009807994422,
          0.030083009807994422,
          0.030083009807994422,
          0.030083009807994422,
          0.030083009807994422,
          0.030083009807994422,
          0.030083009807994422,
          0.030083009807994422,
          0.030083009807994422,
          0.030083009807994422,
          0.030083009807994422,
          0.030083009807994422,
          0.030083009807994422,
          0.030083009807994422,
          0.030083009807994422
         ]
        }
       ],
       "layout": {
        "template": {
         "data": {
          "bar": [
           {
            "error_x": {
             "color": "#2a3f5f"
            },
            "error_y": {
             "color": "#2a3f5f"
            },
            "marker": {
             "line": {
              "color": "#E5ECF6",
              "width": 0.5
             },
             "pattern": {
              "fillmode": "overlay",
              "size": 10,
              "solidity": 0.2
             }
            },
            "type": "bar"
           }
          ],
          "barpolar": [
           {
            "marker": {
             "line": {
              "color": "#E5ECF6",
              "width": 0.5
             },
             "pattern": {
              "fillmode": "overlay",
              "size": 10,
              "solidity": 0.2
             }
            },
            "type": "barpolar"
           }
          ],
          "carpet": [
           {
            "aaxis": {
             "endlinecolor": "#2a3f5f",
             "gridcolor": "white",
             "linecolor": "white",
             "minorgridcolor": "white",
             "startlinecolor": "#2a3f5f"
            },
            "baxis": {
             "endlinecolor": "#2a3f5f",
             "gridcolor": "white",
             "linecolor": "white",
             "minorgridcolor": "white",
             "startlinecolor": "#2a3f5f"
            },
            "type": "carpet"
           }
          ],
          "choropleth": [
           {
            "colorbar": {
             "outlinewidth": 0,
             "ticks": ""
            },
            "type": "choropleth"
           }
          ],
          "contour": [
           {
            "colorbar": {
             "outlinewidth": 0,
             "ticks": ""
            },
            "colorscale": [
             [
              0,
              "#0d0887"
             ],
             [
              0.1111111111111111,
              "#46039f"
             ],
             [
              0.2222222222222222,
              "#7201a8"
             ],
             [
              0.3333333333333333,
              "#9c179e"
             ],
             [
              0.4444444444444444,
              "#bd3786"
             ],
             [
              0.5555555555555556,
              "#d8576b"
             ],
             [
              0.6666666666666666,
              "#ed7953"
             ],
             [
              0.7777777777777778,
              "#fb9f3a"
             ],
             [
              0.8888888888888888,
              "#fdca26"
             ],
             [
              1,
              "#f0f921"
             ]
            ],
            "type": "contour"
           }
          ],
          "contourcarpet": [
           {
            "colorbar": {
             "outlinewidth": 0,
             "ticks": ""
            },
            "type": "contourcarpet"
           }
          ],
          "heatmap": [
           {
            "colorbar": {
             "outlinewidth": 0,
             "ticks": ""
            },
            "colorscale": [
             [
              0,
              "#0d0887"
             ],
             [
              0.1111111111111111,
              "#46039f"
             ],
             [
              0.2222222222222222,
              "#7201a8"
             ],
             [
              0.3333333333333333,
              "#9c179e"
             ],
             [
              0.4444444444444444,
              "#bd3786"
             ],
             [
              0.5555555555555556,
              "#d8576b"
             ],
             [
              0.6666666666666666,
              "#ed7953"
             ],
             [
              0.7777777777777778,
              "#fb9f3a"
             ],
             [
              0.8888888888888888,
              "#fdca26"
             ],
             [
              1,
              "#f0f921"
             ]
            ],
            "type": "heatmap"
           }
          ],
          "heatmapgl": [
           {
            "colorbar": {
             "outlinewidth": 0,
             "ticks": ""
            },
            "colorscale": [
             [
              0,
              "#0d0887"
             ],
             [
              0.1111111111111111,
              "#46039f"
             ],
             [
              0.2222222222222222,
              "#7201a8"
             ],
             [
              0.3333333333333333,
              "#9c179e"
             ],
             [
              0.4444444444444444,
              "#bd3786"
             ],
             [
              0.5555555555555556,
              "#d8576b"
             ],
             [
              0.6666666666666666,
              "#ed7953"
             ],
             [
              0.7777777777777778,
              "#fb9f3a"
             ],
             [
              0.8888888888888888,
              "#fdca26"
             ],
             [
              1,
              "#f0f921"
             ]
            ],
            "type": "heatmapgl"
           }
          ],
          "histogram": [
           {
            "marker": {
             "pattern": {
              "fillmode": "overlay",
              "size": 10,
              "solidity": 0.2
             }
            },
            "type": "histogram"
           }
          ],
          "histogram2d": [
           {
            "colorbar": {
             "outlinewidth": 0,
             "ticks": ""
            },
            "colorscale": [
             [
              0,
              "#0d0887"
             ],
             [
              0.1111111111111111,
              "#46039f"
             ],
             [
              0.2222222222222222,
              "#7201a8"
             ],
             [
              0.3333333333333333,
              "#9c179e"
             ],
             [
              0.4444444444444444,
              "#bd3786"
             ],
             [
              0.5555555555555556,
              "#d8576b"
             ],
             [
              0.6666666666666666,
              "#ed7953"
             ],
             [
              0.7777777777777778,
              "#fb9f3a"
             ],
             [
              0.8888888888888888,
              "#fdca26"
             ],
             [
              1,
              "#f0f921"
             ]
            ],
            "type": "histogram2d"
           }
          ],
          "histogram2dcontour": [
           {
            "colorbar": {
             "outlinewidth": 0,
             "ticks": ""
            },
            "colorscale": [
             [
              0,
              "#0d0887"
             ],
             [
              0.1111111111111111,
              "#46039f"
             ],
             [
              0.2222222222222222,
              "#7201a8"
             ],
             [
              0.3333333333333333,
              "#9c179e"
             ],
             [
              0.4444444444444444,
              "#bd3786"
             ],
             [
              0.5555555555555556,
              "#d8576b"
             ],
             [
              0.6666666666666666,
              "#ed7953"
             ],
             [
              0.7777777777777778,
              "#fb9f3a"
             ],
             [
              0.8888888888888888,
              "#fdca26"
             ],
             [
              1,
              "#f0f921"
             ]
            ],
            "type": "histogram2dcontour"
           }
          ],
          "mesh3d": [
           {
            "colorbar": {
             "outlinewidth": 0,
             "ticks": ""
            },
            "type": "mesh3d"
           }
          ],
          "parcoords": [
           {
            "line": {
             "colorbar": {
              "outlinewidth": 0,
              "ticks": ""
             }
            },
            "type": "parcoords"
           }
          ],
          "pie": [
           {
            "automargin": true,
            "type": "pie"
           }
          ],
          "scatter": [
           {
            "fillpattern": {
             "fillmode": "overlay",
             "size": 10,
             "solidity": 0.2
            },
            "type": "scatter"
           }
          ],
          "scatter3d": [
           {
            "line": {
             "colorbar": {
              "outlinewidth": 0,
              "ticks": ""
             }
            },
            "marker": {
             "colorbar": {
              "outlinewidth": 0,
              "ticks": ""
             }
            },
            "type": "scatter3d"
           }
          ],
          "scattercarpet": [
           {
            "marker": {
             "colorbar": {
              "outlinewidth": 0,
              "ticks": ""
             }
            },
            "type": "scattercarpet"
           }
          ],
          "scattergeo": [
           {
            "marker": {
             "colorbar": {
              "outlinewidth": 0,
              "ticks": ""
             }
            },
            "type": "scattergeo"
           }
          ],
          "scattergl": [
           {
            "marker": {
             "colorbar": {
              "outlinewidth": 0,
              "ticks": ""
             }
            },
            "type": "scattergl"
           }
          ],
          "scattermapbox": [
           {
            "marker": {
             "colorbar": {
              "outlinewidth": 0,
              "ticks": ""
             }
            },
            "type": "scattermapbox"
           }
          ],
          "scatterpolar": [
           {
            "marker": {
             "colorbar": {
              "outlinewidth": 0,
              "ticks": ""
             }
            },
            "type": "scatterpolar"
           }
          ],
          "scatterpolargl": [
           {
            "marker": {
             "colorbar": {
              "outlinewidth": 0,
              "ticks": ""
             }
            },
            "type": "scatterpolargl"
           }
          ],
          "scatterternary": [
           {
            "marker": {
             "colorbar": {
              "outlinewidth": 0,
              "ticks": ""
             }
            },
            "type": "scatterternary"
           }
          ],
          "surface": [
           {
            "colorbar": {
             "outlinewidth": 0,
             "ticks": ""
            },
            "colorscale": [
             [
              0,
              "#0d0887"
             ],
             [
              0.1111111111111111,
              "#46039f"
             ],
             [
              0.2222222222222222,
              "#7201a8"
             ],
             [
              0.3333333333333333,
              "#9c179e"
             ],
             [
              0.4444444444444444,
              "#bd3786"
             ],
             [
              0.5555555555555556,
              "#d8576b"
             ],
             [
              0.6666666666666666,
              "#ed7953"
             ],
             [
              0.7777777777777778,
              "#fb9f3a"
             ],
             [
              0.8888888888888888,
              "#fdca26"
             ],
             [
              1,
              "#f0f921"
             ]
            ],
            "type": "surface"
           }
          ],
          "table": [
           {
            "cells": {
             "fill": {
              "color": "#EBF0F8"
             },
             "line": {
              "color": "white"
             }
            },
            "header": {
             "fill": {
              "color": "#C8D4E3"
             },
             "line": {
              "color": "white"
             }
            },
            "type": "table"
           }
          ]
         },
         "layout": {
          "annotationdefaults": {
           "arrowcolor": "#2a3f5f",
           "arrowhead": 0,
           "arrowwidth": 1
          },
          "autotypenumbers": "strict",
          "coloraxis": {
           "colorbar": {
            "outlinewidth": 0,
            "ticks": ""
           }
          },
          "colorscale": {
           "diverging": [
            [
             0,
             "#8e0152"
            ],
            [
             0.1,
             "#c51b7d"
            ],
            [
             0.2,
             "#de77ae"
            ],
            [
             0.3,
             "#f1b6da"
            ],
            [
             0.4,
             "#fde0ef"
            ],
            [
             0.5,
             "#f7f7f7"
            ],
            [
             0.6,
             "#e6f5d0"
            ],
            [
             0.7,
             "#b8e186"
            ],
            [
             0.8,
             "#7fbc41"
            ],
            [
             0.9,
             "#4d9221"
            ],
            [
             1,
             "#276419"
            ]
           ],
           "sequential": [
            [
             0,
             "#0d0887"
            ],
            [
             0.1111111111111111,
             "#46039f"
            ],
            [
             0.2222222222222222,
             "#7201a8"
            ],
            [
             0.3333333333333333,
             "#9c179e"
            ],
            [
             0.4444444444444444,
             "#bd3786"
            ],
            [
             0.5555555555555556,
             "#d8576b"
            ],
            [
             0.6666666666666666,
             "#ed7953"
            ],
            [
             0.7777777777777778,
             "#fb9f3a"
            ],
            [
             0.8888888888888888,
             "#fdca26"
            ],
            [
             1,
             "#f0f921"
            ]
           ],
           "sequentialminus": [
            [
             0,
             "#0d0887"
            ],
            [
             0.1111111111111111,
             "#46039f"
            ],
            [
             0.2222222222222222,
             "#7201a8"
            ],
            [
             0.3333333333333333,
             "#9c179e"
            ],
            [
             0.4444444444444444,
             "#bd3786"
            ],
            [
             0.5555555555555556,
             "#d8576b"
            ],
            [
             0.6666666666666666,
             "#ed7953"
            ],
            [
             0.7777777777777778,
             "#fb9f3a"
            ],
            [
             0.8888888888888888,
             "#fdca26"
            ],
            [
             1,
             "#f0f921"
            ]
           ]
          },
          "colorway": [
           "#636efa",
           "#EF553B",
           "#00cc96",
           "#ab63fa",
           "#FFA15A",
           "#19d3f3",
           "#FF6692",
           "#B6E880",
           "#FF97FF",
           "#FECB52"
          ],
          "font": {
           "color": "#2a3f5f"
          },
          "geo": {
           "bgcolor": "white",
           "lakecolor": "white",
           "landcolor": "#E5ECF6",
           "showlakes": true,
           "showland": true,
           "subunitcolor": "white"
          },
          "hoverlabel": {
           "align": "left"
          },
          "hovermode": "closest",
          "mapbox": {
           "style": "light"
          },
          "paper_bgcolor": "white",
          "plot_bgcolor": "#E5ECF6",
          "polar": {
           "angularaxis": {
            "gridcolor": "white",
            "linecolor": "white",
            "ticks": ""
           },
           "bgcolor": "#E5ECF6",
           "radialaxis": {
            "gridcolor": "white",
            "linecolor": "white",
            "ticks": ""
           }
          },
          "scene": {
           "xaxis": {
            "backgroundcolor": "#E5ECF6",
            "gridcolor": "white",
            "gridwidth": 2,
            "linecolor": "white",
            "showbackground": true,
            "ticks": "",
            "zerolinecolor": "white"
           },
           "yaxis": {
            "backgroundcolor": "#E5ECF6",
            "gridcolor": "white",
            "gridwidth": 2,
            "linecolor": "white",
            "showbackground": true,
            "ticks": "",
            "zerolinecolor": "white"
           },
           "zaxis": {
            "backgroundcolor": "#E5ECF6",
            "gridcolor": "white",
            "gridwidth": 2,
            "linecolor": "white",
            "showbackground": true,
            "ticks": "",
            "zerolinecolor": "white"
           }
          },
          "shapedefaults": {
           "line": {
            "color": "#2a3f5f"
           }
          },
          "ternary": {
           "aaxis": {
            "gridcolor": "white",
            "linecolor": "white",
            "ticks": ""
           },
           "baxis": {
            "gridcolor": "white",
            "linecolor": "white",
            "ticks": ""
           },
           "bgcolor": "#E5ECF6",
           "caxis": {
            "gridcolor": "white",
            "linecolor": "white",
            "ticks": ""
           }
          },
          "title": {
           "x": 0.05
          },
          "xaxis": {
           "automargin": true,
           "gridcolor": "white",
           "linecolor": "white",
           "ticks": "",
           "title": {
            "standoff": 15
           },
           "zerolinecolor": "white",
           "zerolinewidth": 2
          },
          "yaxis": {
           "automargin": true,
           "gridcolor": "white",
           "linecolor": "white",
           "ticks": "",
           "title": {
            "standoff": 15
           },
           "zerolinecolor": "white",
           "zerolinewidth": 2
          }
         }
        },
        "title": {
         "text": "Optimization History Plot"
        },
        "xaxis": {
         "title": {
          "text": "#Trials"
         }
        },
        "yaxis": {
         "title": {
          "text": "Objective Value"
         }
        }
       }
      }
     },
     "metadata": {},
     "output_type": "display_data"
    }
   ],
   "source": [
    "optuna.visualization.plot_optimization_history(study)"
   ]
  },
  {
   "cell_type": "code",
   "execution_count": 20,
   "metadata": {},
   "outputs": [
    {
     "data": {
      "text/html": [
       "<div>\n",
       "<style scoped>\n",
       "    .dataframe tbody tr th:only-of-type {\n",
       "        vertical-align: middle;\n",
       "    }\n",
       "\n",
       "    .dataframe tbody tr th {\n",
       "        vertical-align: top;\n",
       "    }\n",
       "\n",
       "    .dataframe thead th {\n",
       "        text-align: right;\n",
       "    }\n",
       "</style>\n",
       "<table border=\"1\" class=\"dataframe\">\n",
       "  <thead>\n",
       "    <tr style=\"text-align: right;\">\n",
       "      <th></th>\n",
       "      <th>number</th>\n",
       "      <th>value</th>\n",
       "      <th>datetime_start</th>\n",
       "      <th>datetime_complete</th>\n",
       "      <th>duration</th>\n",
       "      <th>params_cooc_prob</th>\n",
       "      <th>params_num_cooc_week</th>\n",
       "      <th>params_num_popular_items</th>\n",
       "      <th>params_num_repurchase_week</th>\n",
       "      <th>params_num_train_weeks</th>\n",
       "      <th>params_transaction_dynamic_week</th>\n",
       "      <th>params_volume_week</th>\n",
       "      <th>state</th>\n",
       "    </tr>\n",
       "  </thead>\n",
       "  <tbody>\n",
       "    <tr>\n",
       "      <th>0</th>\n",
       "      <td>14</td>\n",
       "      <td>0.030083</td>\n",
       "      <td>2022-04-07 07:34:00.609792</td>\n",
       "      <td>2022-04-07 07:52:42.598176</td>\n",
       "      <td>0 days 00:18:41.988384</td>\n",
       "      <td>0.031043</td>\n",
       "      <td>11</td>\n",
       "      <td>18</td>\n",
       "      <td>13</td>\n",
       "      <td>2</td>\n",
       "      <td>8</td>\n",
       "      <td>1</td>\n",
       "      <td>COMPLETE</td>\n",
       "    </tr>\n",
       "    <tr>\n",
       "      <th>1</th>\n",
       "      <td>18</td>\n",
       "      <td>0.030025</td>\n",
       "      <td>2022-04-07 08:21:02.339974</td>\n",
       "      <td>2022-04-07 08:41:02.496876</td>\n",
       "      <td>0 days 00:20:00.156902</td>\n",
       "      <td>0.032152</td>\n",
       "      <td>11</td>\n",
       "      <td>19</td>\n",
       "      <td>14</td>\n",
       "      <td>2</td>\n",
       "      <td>8</td>\n",
       "      <td>1</td>\n",
       "      <td>COMPLETE</td>\n",
       "    </tr>\n",
       "    <tr>\n",
       "      <th>2</th>\n",
       "      <td>27</td>\n",
       "      <td>0.029979</td>\n",
       "      <td>2022-04-07 11:10:15.077520</td>\n",
       "      <td>2022-04-07 11:30:05.140806</td>\n",
       "      <td>0 days 00:19:50.063286</td>\n",
       "      <td>0.034363</td>\n",
       "      <td>10</td>\n",
       "      <td>19</td>\n",
       "      <td>15</td>\n",
       "      <td>2</td>\n",
       "      <td>8</td>\n",
       "      <td>1</td>\n",
       "      <td>COMPLETE</td>\n",
       "    </tr>\n",
       "    <tr>\n",
       "      <th>3</th>\n",
       "      <td>29</td>\n",
       "      <td>0.029953</td>\n",
       "      <td>2022-04-07 11:48:43.236487</td>\n",
       "      <td>2022-04-07 12:08:25.012343</td>\n",
       "      <td>0 days 00:19:41.775856</td>\n",
       "      <td>0.037015</td>\n",
       "      <td>12</td>\n",
       "      <td>20</td>\n",
       "      <td>14</td>\n",
       "      <td>2</td>\n",
       "      <td>7</td>\n",
       "      <td>1</td>\n",
       "      <td>COMPLETE</td>\n",
       "    </tr>\n",
       "    <tr>\n",
       "      <th>4</th>\n",
       "      <td>3</td>\n",
       "      <td>0.029869</td>\n",
       "      <td>2022-04-07 01:16:27.955465</td>\n",
       "      <td>2022-04-07 01:28:26.802021</td>\n",
       "      <td>0 days 00:11:58.846556</td>\n",
       "      <td>0.031006</td>\n",
       "      <td>10</td>\n",
       "      <td>15</td>\n",
       "      <td>16</td>\n",
       "      <td>1</td>\n",
       "      <td>8</td>\n",
       "      <td>1</td>\n",
       "      <td>COMPLETE</td>\n",
       "    </tr>\n",
       "    <tr>\n",
       "      <th>5</th>\n",
       "      <td>24</td>\n",
       "      <td>0.029869</td>\n",
       "      <td>2022-04-07 10:26:16.683892</td>\n",
       "      <td>2022-04-07 10:48:23.206783</td>\n",
       "      <td>0 days 00:22:06.522891</td>\n",
       "      <td>0.034036</td>\n",
       "      <td>9</td>\n",
       "      <td>22</td>\n",
       "      <td>15</td>\n",
       "      <td>2</td>\n",
       "      <td>8</td>\n",
       "      <td>1</td>\n",
       "      <td>COMPLETE</td>\n",
       "    </tr>\n",
       "    <tr>\n",
       "      <th>6</th>\n",
       "      <td>20</td>\n",
       "      <td>0.029842</td>\n",
       "      <td>2022-04-07 08:54:11.553717</td>\n",
       "      <td>2022-04-07 09:24:56.352621</td>\n",
       "      <td>0 days 00:30:44.798904</td>\n",
       "      <td>0.032936</td>\n",
       "      <td>11</td>\n",
       "      <td>26</td>\n",
       "      <td>14</td>\n",
       "      <td>3</td>\n",
       "      <td>6</td>\n",
       "      <td>1</td>\n",
       "      <td>COMPLETE</td>\n",
       "    </tr>\n",
       "    <tr>\n",
       "      <th>7</th>\n",
       "      <td>11</td>\n",
       "      <td>0.029809</td>\n",
       "      <td>2022-04-07 04:17:06.904653</td>\n",
       "      <td>2022-04-07 05:37:49.794505</td>\n",
       "      <td>0 days 01:20:42.889852</td>\n",
       "      <td>0.020389</td>\n",
       "      <td>16</td>\n",
       "      <td>20</td>\n",
       "      <td>16</td>\n",
       "      <td>4</td>\n",
       "      <td>3</td>\n",
       "      <td>2</td>\n",
       "      <td>COMPLETE</td>\n",
       "    </tr>\n",
       "    <tr>\n",
       "      <th>8</th>\n",
       "      <td>10</td>\n",
       "      <td>0.029794</td>\n",
       "      <td>2022-04-07 03:03:32.226862</td>\n",
       "      <td>2022-04-07 04:17:06.903409</td>\n",
       "      <td>0 days 01:13:34.676547</td>\n",
       "      <td>0.021659</td>\n",
       "      <td>16</td>\n",
       "      <td>20</td>\n",
       "      <td>16</td>\n",
       "      <td>4</td>\n",
       "      <td>3</td>\n",
       "      <td>2</td>\n",
       "      <td>COMPLETE</td>\n",
       "    </tr>\n",
       "    <tr>\n",
       "      <th>9</th>\n",
       "      <td>31</td>\n",
       "      <td>0.029753</td>\n",
       "      <td>2022-04-07 12:28:35.621183</td>\n",
       "      <td>2022-04-07 12:47:47.628187</td>\n",
       "      <td>0 days 00:19:12.007004</td>\n",
       "      <td>0.037617</td>\n",
       "      <td>12</td>\n",
       "      <td>20</td>\n",
       "      <td>14</td>\n",
       "      <td>2</td>\n",
       "      <td>7</td>\n",
       "      <td>1</td>\n",
       "      <td>COMPLETE</td>\n",
       "    </tr>\n",
       "  </tbody>\n",
       "</table>\n",
       "</div>"
      ],
      "text/plain": [
       "   number     value             datetime_start          datetime_complete  \\\n",
       "0      14  0.030083 2022-04-07 07:34:00.609792 2022-04-07 07:52:42.598176   \n",
       "1      18  0.030025 2022-04-07 08:21:02.339974 2022-04-07 08:41:02.496876   \n",
       "2      27  0.029979 2022-04-07 11:10:15.077520 2022-04-07 11:30:05.140806   \n",
       "3      29  0.029953 2022-04-07 11:48:43.236487 2022-04-07 12:08:25.012343   \n",
       "4       3  0.029869 2022-04-07 01:16:27.955465 2022-04-07 01:28:26.802021   \n",
       "5      24  0.029869 2022-04-07 10:26:16.683892 2022-04-07 10:48:23.206783   \n",
       "6      20  0.029842 2022-04-07 08:54:11.553717 2022-04-07 09:24:56.352621   \n",
       "7      11  0.029809 2022-04-07 04:17:06.904653 2022-04-07 05:37:49.794505   \n",
       "8      10  0.029794 2022-04-07 03:03:32.226862 2022-04-07 04:17:06.903409   \n",
       "9      31  0.029753 2022-04-07 12:28:35.621183 2022-04-07 12:47:47.628187   \n",
       "\n",
       "                duration  params_cooc_prob  params_num_cooc_week  \\\n",
       "0 0 days 00:18:41.988384          0.031043                    11   \n",
       "1 0 days 00:20:00.156902          0.032152                    11   \n",
       "2 0 days 00:19:50.063286          0.034363                    10   \n",
       "3 0 days 00:19:41.775856          0.037015                    12   \n",
       "4 0 days 00:11:58.846556          0.031006                    10   \n",
       "5 0 days 00:22:06.522891          0.034036                     9   \n",
       "6 0 days 00:30:44.798904          0.032936                    11   \n",
       "7 0 days 01:20:42.889852          0.020389                    16   \n",
       "8 0 days 01:13:34.676547          0.021659                    16   \n",
       "9 0 days 00:19:12.007004          0.037617                    12   \n",
       "\n",
       "   params_num_popular_items  params_num_repurchase_week  \\\n",
       "0                        18                          13   \n",
       "1                        19                          14   \n",
       "2                        19                          15   \n",
       "3                        20                          14   \n",
       "4                        15                          16   \n",
       "5                        22                          15   \n",
       "6                        26                          14   \n",
       "7                        20                          16   \n",
       "8                        20                          16   \n",
       "9                        20                          14   \n",
       "\n",
       "   params_num_train_weeks  params_transaction_dynamic_week  \\\n",
       "0                       2                                8   \n",
       "1                       2                                8   \n",
       "2                       2                                8   \n",
       "3                       2                                7   \n",
       "4                       1                                8   \n",
       "5                       2                                8   \n",
       "6                       3                                6   \n",
       "7                       4                                3   \n",
       "8                       4                                3   \n",
       "9                       2                                7   \n",
       "\n",
       "   params_volume_week     state  \n",
       "0                   1  COMPLETE  \n",
       "1                   1  COMPLETE  \n",
       "2                   1  COMPLETE  \n",
       "3                   1  COMPLETE  \n",
       "4                   1  COMPLETE  \n",
       "5                   1  COMPLETE  \n",
       "6                   1  COMPLETE  \n",
       "7                   2  COMPLETE  \n",
       "8                   2  COMPLETE  \n",
       "9                   1  COMPLETE  "
      ]
     },
     "execution_count": 20,
     "metadata": {},
     "output_type": "execute_result"
    }
   ],
   "source": [
    "df_params = study.trials_dataframe().sort_values(by='value',ascending=False).reset_index(drop=True)\n",
    "df_params.head(10)"
   ]
  },
  {
   "cell_type": "code",
   "execution_count": null,
   "metadata": {},
   "outputs": [],
   "source": []
  }
 ],
 "metadata": {
  "interpreter": {
   "hash": "c89b5301ada1d96cd3523f144e4a3cd3ad36f6698a61e6b8277fb627756a86c6"
  },
  "kernelspec": {
   "display_name": "Python 3.9.10 64-bit ('3.9.10')",
   "language": "python",
   "name": "python3"
  },
  "language_info": {
   "codemirror_mode": {
    "name": "ipython",
    "version": 3
   },
   "file_extension": ".py",
   "mimetype": "text/x-python",
   "name": "python",
   "nbconvert_exporter": "python",
   "pygments_lexer": "ipython3",
   "version": "3.9.12"
  },
  "orig_nbformat": 4
 },
 "nbformat": 4,
 "nbformat_minor": 2
}
