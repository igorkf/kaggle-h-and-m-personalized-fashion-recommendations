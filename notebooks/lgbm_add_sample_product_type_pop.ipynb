{
 "cells": [
  {
   "cell_type": "code",
   "execution_count": 1,
   "metadata": {},
   "outputs": [
    {
     "data": {
      "text/html": [
       "<style type='text/css'>\n",
       ".datatable table.frame { margin-bottom: 0; }\n",
       ".datatable table.frame thead { border-bottom: none; }\n",
       ".datatable table.frame tr.coltypes td {  color: #FFFFFF;  line-height: 6px;  padding: 0 0.5em;}\n",
       ".datatable .bool    { background: #DDDD99; }\n",
       ".datatable .object  { background: #565656; }\n",
       ".datatable .int     { background: #5D9E5D; }\n",
       ".datatable .float   { background: #4040CC; }\n",
       ".datatable .str     { background: #CC4040; }\n",
       ".datatable .time    { background: #40CC40; }\n",
       ".datatable .row_index {  background: var(--jp-border-color3);  border-right: 1px solid var(--jp-border-color0);  color: var(--jp-ui-font-color3);  font-size: 9px;}\n",
       ".datatable .frame tbody td { text-align: left; }\n",
       ".datatable .frame tr.coltypes .row_index {  background: var(--jp-border-color0);}\n",
       ".datatable th:nth-child(2) { padding-left: 12px; }\n",
       ".datatable .hellipsis {  color: var(--jp-cell-editor-border-color);}\n",
       ".datatable .vellipsis {  background: var(--jp-layout-color0);  color: var(--jp-cell-editor-border-color);}\n",
       ".datatable .na {  color: var(--jp-cell-editor-border-color);  font-size: 80%;}\n",
       ".datatable .sp {  opacity: 0.25;}\n",
       ".datatable .footer { font-size: 9px; }\n",
       ".datatable .frame_dimensions {  background: var(--jp-border-color3);  border-top: 1px solid var(--jp-border-color0);  color: var(--jp-ui-font-color3);  display: inline-block;  opacity: 0.6;  padding: 1px 10px 1px 5px;}\n",
       "</style>\n"
      ],
      "text/plain": [
       "<IPython.core.display.HTML object>"
      ]
     },
     "metadata": {},
     "output_type": "display_data"
    }
   ],
   "source": [
    "import lightgbm as lgb\n",
    "import numpy as np\n",
    "import pandas as pd\n",
    "from tqdm.auto import tqdm\n",
    "\n",
    "from metric import apk, mapk\n",
    "from utils import plot_images"
   ]
  },
  {
   "cell_type": "code",
   "execution_count": 2,
   "metadata": {},
   "outputs": [],
   "source": [
    "dataset = '100'\n",
    "\n",
    "transactions = pd.read_pickle(f\"input/{dataset}/transactions_train.pkl\")\n",
    "users = pd.read_pickle(f\"input/{dataset}/users.pkl\")\n",
    "items = pd.read_pickle(f\"input/{dataset}/items.pkl\")\n"
   ]
  },
  {
   "cell_type": "code",
   "execution_count": 3,
   "metadata": {},
   "outputs": [],
   "source": [
    "def create_candidates(transactions: pd.DataFrame, target_users: np.ndarray, week: int) -> pd.DataFrame:\n",
    "    \"\"\"\n",
    "    transactions\n",
    "        original transactions (user, item, week)\n",
    "    target_users, week\n",
    "        候補生成対象のユーザー\n",
    "        weekで指定されている週の段階での情報のみから作られる\n",
    "    \"\"\"\n",
    "    print(f\"week: {week}\")\n",
    "    assert len(target_users) == len(set(target_users))\n",
    "\n",
    "    def create_candidates_repurchase(\n",
    "            strategy: str,\n",
    "            transactions: pd.DataFrame,\n",
    "            target_users: np.ndarray,\n",
    "            week_start: int,\n",
    "            week_end: int) -> pd.DataFrame:\n",
    "        tr = transactions.query(\"user in @target_users and @week_start <= week <= @week_end\")[['user', 'item', 'week']].drop_duplicates(ignore_index=True)\n",
    "\n",
    "        gr_week = tr.groupby(['user', 'item'])['week'].min().reset_index(name='week')\n",
    "        gr_volume = tr.groupby(['user', 'item']).size().reset_index(name='volume')\n",
    "\n",
    "        gr_week['week_rank'] = gr_week.groupby('user')['week'].rank()\n",
    "        gr_volume['volume_rank'] = gr_volume.groupby('user')['volume'].rank()\n",
    "\n",
    "        candidates = gr_week.merge(gr_volume, on=['user', 'item'])\n",
    "        candidates = candidates[['user', 'item', 'week_rank', 'volume_rank']].rename(columns={'week_rank': f'{strategy}_week_rank', 'volume_rank': f'{strategy}_volume_rank'})\n",
    "\n",
    "        candidates['strategy'] = strategy\n",
    "        return candidates\n",
    "\n",
    "    def create_candidates_popular(\n",
    "            strategy: str,\n",
    "            transactions: pd.DataFrame,\n",
    "            target_users: np.ndarray,\n",
    "            week_start: int,\n",
    "            week_end: int) -> pd.DataFrame:\n",
    "        NUM_POPULAR_ITEMS = 24\n",
    "        tr = transactions.query(\"@week_start <= week <= @week_end\")[['user', 'item']].drop_duplicates(ignore_index=True)\n",
    "        popular_items = tr['item'].value_counts().index.values[:NUM_POPULAR_ITEMS]\n",
    "        popular_items = pd.DataFrame({\n",
    "            'item': popular_items,\n",
    "            'rank': range(NUM_POPULAR_ITEMS),\n",
    "            'crossjoinkey': 1,\n",
    "        })\n",
    "\n",
    "        candidates = pd.DataFrame({\n",
    "            'user': target_users,\n",
    "            'crossjoinkey': 1,\n",
    "        })\n",
    "\n",
    "        candidates = candidates.merge(popular_items, on='crossjoinkey').drop('crossjoinkey', axis=1)\n",
    "        candidates = candidates.rename(columns={'rank': f'{strategy}_rank'})\n",
    "\n",
    "        candidates['strategy'] = strategy\n",
    "        return candidates\n",
    "\n",
    "    def create_candidates_popular_index_group_name(\n",
    "            strategy: str,\n",
    "            transactions: pd.DataFrame,\n",
    "            items: pd.DataFrame,\n",
    "            target_users: np.ndarray,\n",
    "            week_start: int,\n",
    "            week_end: int,\n",
    "            index_group_name: str) -> pd.DataFrame:\n",
    "        NUM_POPULAR_ITEMS = 3\n",
    "        tr = transactions.query(\"@week_start <= week <= @week_end\")[['user', 'item']].drop_duplicates(ignore_index=True)\n",
    "        tr = tr.merge(items[['item', 'index_group_name']], on='item').query(\"index_group_name == @index_group_name\").drop('index_group_name', axis=1).reset_index(drop=True)\n",
    "\n",
    "        popular_items = tr['item'].value_counts().index.values[:NUM_POPULAR_ITEMS]\n",
    "        popular_items = pd.DataFrame({\n",
    "            'item': popular_items,\n",
    "            'rank': range(NUM_POPULAR_ITEMS),\n",
    "            'crossjoinkey': 1,\n",
    "        })\n",
    "\n",
    "        candidates = pd.DataFrame({\n",
    "            'user': target_users,\n",
    "            'crossjoinkey': 1,\n",
    "        })\n",
    "\n",
    "        candidates = candidates.merge(popular_items, on='crossjoinkey').drop('crossjoinkey', axis=1)\n",
    "        candidates = candidates.rename(columns={'rank': f'{strategy}_rank'})\n",
    "\n",
    "        candidates['strategy'] = strategy\n",
    "        return candidates\n",
    "\n",
    "    def create_candidates_popular_in_category(\n",
    "            strategy: str,\n",
    "            transactions: pd.DataFrame,\n",
    "            items: pd.DataFrame,\n",
    "            week_start: int,\n",
    "            week_end: int,\n",
    "            week_item_end: int,\n",
    "            category: str) -> pd.DataFrame:\n",
    "        USER_RANK_OFFSET = 0\n",
    "        NUM_USER_TOP_CATEGORY = 3\n",
    "        NUM_POPULAR_ITEMS = 1\n",
    "        tr = transactions.query(\"@week_start <= week <= @week_end\")[['user', 'item']].drop_duplicates(ignore_index=True)\n",
    "        tr = tr.merge(items[['item', category]], on='item')\n",
    "\n",
    "        user_top_category = tr.groupby(['user', category]).size().reset_index(name='cnt')\n",
    "        user_top_category['rank'] = user_top_category.groupby('user')['cnt'].rank(ascending=False, method='dense')\n",
    "        user_top_category = user_top_category.query('cnt > 0 & @USER_RANK_OFFSET <= rank <= @USER_RANK_OFFSET + @NUM_USER_TOP_CATEGORY')\n",
    "        \n",
    "        tr = transactions.query(\"@week_start <= week <= @week_item_end\")[['user', 'item']].drop_duplicates(ignore_index=True)\n",
    "        tr = tr.merge(items[['item', category]], on='item')\n",
    "        category_popular_items = tr.groupby(['item', category]).size().reset_index(name='cnt')\n",
    "        category_popular_items['rank'] = category_popular_items.groupby(category)['cnt'].rank(ascending=False, method='dense')\n",
    "        category_popular_items = category_popular_items.query('cnt >= 10 & rank <= @NUM_POPULAR_ITEMS')\n",
    "\n",
    "        candidates = user_top_category[['user', category]].merge(category_popular_items, on=category).drop(category, axis=1)\n",
    "        candidates = candidates.rename(columns={'rank': f'{strategy}_rank'})\n",
    "\n",
    "        candidates['strategy'] = strategy\n",
    "        return candidates\n",
    "\n",
    "    def create_candidates_cooc(\n",
    "            strategy: str,\n",
    "            transactions: pd.DataFrame,\n",
    "            week_start: int,\n",
    "            week_end: int,\n",
    "            base_candidates: pd.DataFrame) -> pd.DataFrame:\n",
    "        tr = transactions.query(\"@week_start <= week == @week_end\")[['user', 'item', 'week']].drop_duplicates(ignore_index=True)\n",
    "        tr = tr.merge(tr.rename(columns={'item': 'item_with', 'week': 'week_with'}), on='user').query(\"item != item_with and week <= week_with\")[['item', 'item_with']].reset_index(drop=True)\n",
    "        gr_sz = tr.groupby('item').size().reset_index(name='tot')\n",
    "        gr_cnt = tr.groupby(['item', 'item_with']).size().reset_index(name='cnt')\n",
    "        item2item = gr_cnt.merge(gr_sz, on='item')\n",
    "        item2item['ratio'] = item2item['cnt'] / item2item['tot']\n",
    "        item2item = item2item.query(\"ratio >= 0.02\").reset_index(drop=True)\n",
    "\n",
    "        base_candidates_columns = [c for c in base_candidates.columns if '_' in c]\n",
    "        replace = {c: f\"{strategy}_{c}\" for c in base_candidates_columns}\n",
    "        candidates = base_candidates.merge(item2item, on='item').drop(['item', 'cnt'], axis=1).rename(columns={'item_with': 'item'}).rename(columns=replace)\n",
    "        candidates = candidates.rename(columns={'ratio': f'{strategy}_ratio', 'tot': f'{strategy}_tot'})\n",
    "\n",
    "        candidates['strategy'] = strategy\n",
    "        return candidates\n",
    "\n",
    "    def create_candidates_same_product_code(\n",
    "            strategy: str,\n",
    "            items: pd.DataFrame,\n",
    "            base_candidates: pd.DataFrame) -> pd.DataFrame:\n",
    "        item2item = items[['item', 'product_code']].merge(items[['item', 'product_code']].rename({'item': 'item_with'}, axis=1), on='product_code')[['item', 'item_with']].query(\"item != item_with\").reset_index(drop=True)\n",
    "\n",
    "        base_candidates_columns = [c for c in base_candidates.columns if '_' in c]\n",
    "        replace = {c: f\"{strategy}_{c}\" for c in base_candidates_columns}\n",
    "        candidates = base_candidates.merge(item2item, on='item').drop('item', axis=1).rename(columns={'item_with': 'item'}).rename(columns=replace)\n",
    "\n",
    "        candidates['strategy'] = strategy\n",
    "        return candidates\n",
    "\n",
    "    def create_candidates_same_category_top(\n",
    "            strategy: str,\n",
    "            transactions: pd.DataFrame,\n",
    "            users: pd.DataFrame,\n",
    "            items: pd.DataFrame,\n",
    "            base_candidates: pd.DataFrame,\n",
    "            week_start: int,\n",
    "            week_end: int,\n",
    "            category: str,\n",
    "            ) -> pd.DataFrame:\n",
    "        users = users.copy()\n",
    "        users['age_segment'] = users['age'] // 10\n",
    "        tr = transactions.query(\"@week_start <= week <= @week_end\")[['user', 'item']].drop_duplicates(ignore_index=True)\n",
    "        tr = tr.merge(items[['item', category]], on='item').merge(users[['user', 'age_segment']], on='user')\n",
    "        category_popular_items = tr.groupby(['item', 'age_segment', category]).size().reset_index(name='cnt')\n",
    "        category_popular_items['segment_rank'] = category_popular_items.groupby(category)['cnt'].rank(ascending=False, method='dense')\n",
    "        category_popular_items = category_popular_items.query('segment_rank <= 10')\n",
    "\n",
    "        base_candidates_columns = [c for c in base_candidates.columns if '_' in c]\n",
    "        replace = {c: f\"{strategy}_{c}\" for c in base_candidates_columns}\n",
    "        candidates = (base_candidates\n",
    "                      .merge(users[['user', 'age_segment']], on='user')\n",
    "                      .merge(items[['item', category]], on='item')\n",
    "                      .drop('item', axis=1)\n",
    "                      .merge(category_popular_items, on=['age_segment', category])\n",
    "                      .rename(columns=replace))[['user', 'item', 'segment_rank']]\n",
    "\n",
    "        candidates['strategy'] = strategy\n",
    "        return candidates\n",
    "\n",
    "    candidates_repurchase = create_candidates_repurchase('repurchase', transactions, target_users, week, week + 16)\n",
    "    candidates_popular = create_candidates_popular('pop', transactions, target_users, week, week)\n",
    "    # cat = 'product_type_no_idx'\n",
    "    # candidates_popular_in_category = create_candidates_popular_in_category(f'pop_in_{cat}', transactions, items, week, week + 6, week + 2, cat)\n",
    "    candidates_cooc = create_candidates_cooc('cooc', transactions, week, week + 9, candidates_repurchase)\n",
    "    candidates_same_product_code = create_candidates_same_product_code('same_product_code', items, candidates_repurchase)\n",
    "    cat = 'product_type_no'\n",
    "    candidates_same_category_top = create_candidates_same_category_top(f'same_{cat}', transactions, users, items, candidates_repurchase, week, week, cat)\n",
    "\n",
    "    candidates = [\n",
    "        candidates_repurchase,\n",
    "        candidates_popular,\n",
    "        # candidates_popular_in_category,\n",
    "        candidates_cooc,\n",
    "        candidates_same_product_code,\n",
    "        candidates_same_category_top,\n",
    "    ]\n",
    "\n",
    "    candidates = pd.concat(candidates).reset_index(drop=True)\n",
    "    print(f\"duplicates: {len(candidates) / len(candidates[['user', 'item']].drop_duplicates())}\")\n",
    "\n",
    "    volumes = candidates.groupby('strategy').size().reset_index(name='volume').sort_values(by='volume', ascending=False).reset_index(drop=True)\n",
    "    volumes['ratio'] = volumes['volume'] / volumes['volume'].sum()\n",
    "    print(volumes)\n",
    "\n",
    "    return candidates\n"
   ]
  },
  {
   "cell_type": "code",
   "execution_count": 4,
   "metadata": {},
   "outputs": [
    {
     "name": "stdout",
     "output_type": "stream",
     "text": [
      "week: 2\n",
      "duplicates: 1.3262240950187605\n",
      "               strategy   volume     ratio\n",
      "0  same_product_type_no  4458099  0.293653\n",
      "1     same_product_code  4319672  0.284535\n",
      "2                  cooc  4013198  0.264348\n",
      "3                   pop  1655616  0.109055\n",
      "4            repurchase   734929  0.048409\n",
      "week: 3\n",
      "duplicates: 1.3534089872434607\n",
      "               strategy   volume     ratio\n",
      "0  same_product_type_no  5271472  0.322432\n",
      "1     same_product_code  4625563  0.282925\n",
      "2                  cooc  3937569  0.240844\n",
      "3                   pop  1728456  0.105722\n",
      "4            repurchase   786015  0.048077\n",
      "week: 4\n",
      "duplicates: 1.3470839396865109\n",
      "               strategy   volume     ratio\n",
      "0     same_product_code  4866329  0.327156\n",
      "1  same_product_type_no  4287437  0.288238\n",
      "2                  cooc  3094733  0.208054\n",
      "3                   pop  1819728  0.122338\n",
      "4            repurchase   806418  0.054214\n",
      "week: 5\n",
      "duplicates: 1.3478097392497397\n",
      "               strategy   volume     ratio\n",
      "0     same_product_code  5048556  0.319363\n",
      "1  same_product_type_no  4910708  0.310643\n",
      "2                  cooc  3084311  0.195108\n",
      "3                   pop  1926072  0.121840\n",
      "4            repurchase   838556  0.053046\n"
     ]
    }
   ],
   "source": [
    "# valid: week=1\n",
    "# train: week=2..1+num_train_weeks\n",
    "num_train_weeks = 3\n",
    "candidates = []\n",
    "for week in range(1, 2+num_train_weeks):\n",
    "    target_users = transactions.query(\"week == @week\")['user'].unique()\n",
    "    candidates.append(create_candidates(transactions, target_users, week+1))"
   ]
  },
  {
   "cell_type": "code",
   "execution_count": 5,
   "metadata": {},
   "outputs": [],
   "source": [
    "def merge_labels(candidates: pd.DataFrame, week: int) -> pd.DataFrame:\n",
    "    \"\"\"\n",
    "    candidatesに対してweekで指定される週のトランザクションからラベルを付与する\n",
    "    \"\"\"\n",
    "    print(f\"week: {week}\")\n",
    "    labels = transactions[transactions['week'] == week][['user', 'item']].drop_duplicates(ignore_index=True)\n",
    "    labels['y'] = 1\n",
    "    original_positives = len(labels)\n",
    "    labels = candidates.merge(labels, on=['user', 'item'], how='left')\n",
    "    labels['y'] = labels['y'].fillna(0)\n",
    "\n",
    "    remaining_positives_total = labels[['user', 'item', 'y']].drop_duplicates(ignore_index=True)['y'].sum()\n",
    "    recall = remaining_positives_total / original_positives\n",
    "    print(f\"Recall: {recall}\")\n",
    "\n",
    "    volumes = candidates.groupby('strategy').size().reset_index(name='volume')\n",
    "    remaining_positives = labels.groupby('strategy')['y'].sum().reset_index()\n",
    "    remaining_positives = remaining_positives.merge(volumes, on='strategy')\n",
    "    remaining_positives['recall'] = remaining_positives['y'] / original_positives\n",
    "    remaining_positives['hit_ratio'] = remaining_positives['y'] / remaining_positives['volume']\n",
    "    remaining_positives = remaining_positives.sort_values(by='y', ascending=False).reset_index(drop=True)\n",
    "    print(remaining_positives)\n",
    "\n",
    "    return labels\n"
   ]
  },
  {
   "cell_type": "code",
   "execution_count": 6,
   "metadata": {},
   "outputs": [
    {
     "name": "stdout",
     "output_type": "stream",
     "text": [
      "week: 1\n",
      "Recall: 0.11390646054798623\n",
      "               strategy        y   volume    recall  hit_ratio\n",
      "0  same_product_type_no  13654.0  4458099  0.063885   0.003063\n",
      "1     same_product_code   9550.0  4319672  0.044683   0.002211\n",
      "2                   pop   8434.0  1655616  0.039461   0.005094\n",
      "3            repurchase   6364.0   734929  0.029776   0.008659\n",
      "4                  cooc   3300.0  4013198  0.015440   0.000822\n",
      "week: 2\n",
      "Recall: 0.10475187574042386\n",
      "               strategy        y   volume    recall  hit_ratio\n",
      "0  same_product_type_no  12836.0  5271472  0.056320   0.002435\n",
      "1     same_product_code  10290.0  4625563  0.045149   0.002225\n",
      "2                   pop   7196.0  1728456  0.031574   0.004163\n",
      "3            repurchase   6696.0   786015  0.029380   0.008519\n",
      "4                  cooc   3962.0  3937569  0.017384   0.001006\n",
      "week: 3\n",
      "Recall: 0.10497996421280778\n",
      "               strategy        y   volume    recall  hit_ratio\n",
      "0  same_product_type_no  13056.0  4287437  0.054840   0.003045\n",
      "1     same_product_code  10141.0  4866329  0.042596   0.002084\n",
      "2                   pop   8558.0  1819728  0.035947   0.004703\n",
      "3            repurchase   6483.0   806418  0.027231   0.008039\n",
      "4                  cooc   3143.0  3094733  0.013202   0.001016\n",
      "week: 4\n",
      "Recall: 0.10332638377251423\n",
      "               strategy        y   volume    recall  hit_ratio\n",
      "0  same_product_type_no  14132.0  4910708  0.055382   0.002878\n",
      "1     same_product_code  10598.0  5048556  0.041533   0.002099\n",
      "2                   pop   9952.0  1926072  0.039001   0.005167\n",
      "3            repurchase   6248.0   838556  0.024485   0.007451\n",
      "4                  cooc   3319.0  3084311  0.013007   0.001076\n"
     ]
    }
   ],
   "source": [
    "for idx in range(len(candidates)):\n",
    "    candidates[idx] = merge_labels(candidates[idx], 1+idx)\n"
   ]
  },
  {
   "cell_type": "code",
   "execution_count": 7,
   "metadata": {},
   "outputs": [],
   "source": [
    "def get_query_group(df):\n",
    "    def run_length_encoding(sequence):\n",
    "        comp_seq_index, = np.concatenate(([True], sequence[1:] != sequence[:-1], [True])).nonzero()\n",
    "        return sequence[comp_seq_index[:-1]], np.ediff1d(comp_seq_index)\n",
    "    users = df['user'].values\n",
    "    _, group = run_length_encoding(users)\n",
    "    return list(group)\n",
    "\n",
    "def drop_trivial_users(labels):\n",
    "    \"\"\"\n",
    "    LightGBMのxendgcやlambdarankでは正例のみや負例のみのuserは学習に無意味なのと、メトリックの計算がおかしくなるので省く\n",
    "    \"\"\"\n",
    "    bef = len(labels)\n",
    "    df = labels[labels['user'].isin(labels[['user', 'y']].drop_duplicates().groupby('user').size().reset_index(name='sz').query(\"sz==2\").user)].reset_index(drop=True)\n",
    "    aft = len(df)\n",
    "    print(f\"drop trivial queries: {bef} -> {aft}\")\n",
    "    return df\n",
    "\n",
    "\n",
    "def calc_query_groups(labels):\n",
    "    \"\"\"\n",
    "    userでソートして、データセットに与える必要があるグループを計算する\n",
    "    user, y\n",
    "    \"\"\"\n",
    "    df = labels.sort_values(by='user').reset_index(drop=True)\n",
    "    group = get_query_group(df)\n",
    "    return df, group\n"
   ]
  },
  {
   "cell_type": "code",
   "execution_count": 8,
   "metadata": {},
   "outputs": [
    {
     "name": "stdout",
     "output_type": "stream",
     "text": [
      "drop trivial queries: 15181514 -> 5718713\n",
      "drop trivial queries: 16349075 -> 6034133\n",
      "drop trivial queries: 14874645 -> 5412112\n",
      "drop trivial queries: 15808203 -> 5708104\n"
     ]
    }
   ],
   "source": [
    "for idx in range(len(candidates)):\n",
    "    candidates[idx]['week'] = 1+idx\n",
    "\n",
    "valid_all = candidates[0].copy()\n",
    "\n",
    "for idx in range(len(candidates)):\n",
    "    candidates[idx] = drop_trivial_users(candidates[idx])\n"
   ]
  },
  {
   "cell_type": "code",
   "execution_count": 9,
   "metadata": {},
   "outputs": [
    {
     "name": "stdout",
     "output_type": "stream",
     "text": [
      "week: 2\n",
      "week: 2\n",
      "week: 3\n",
      "week: 4\n",
      "week: 5\n"
     ]
    }
   ],
   "source": [
    "def attach_features(transactions: pd.DataFrame, users: pd.DataFrame, items: pd.DataFrame, candidates: pd.DataFrame, week: int) -> pd.DataFrame:\n",
    "    \"\"\"\n",
    "    user, itemに対して特徴を横付けする\n",
    "    week: これを含めた以前の情報は使って良い\n",
    "    \"\"\"\n",
    "    print(f\"week: {week}\")\n",
    "    n_original = len(candidates)\n",
    "    df = candidates.copy()\n",
    "\n",
    "    # user static features\n",
    "    user_features = ['FN', 'Active', 'age', 'club_member_status_idx', 'fashion_news_frequency_idx']\n",
    "    df = df.merge(users[['user'] + user_features], on='user')\n",
    "\n",
    "    # item static features\n",
    "    item_features = [c for c in items.columns if c.endswith('idx')]\n",
    "    df = df.merge(items[['item'] + item_features], on='item')\n",
    "\n",
    "    # user dynamic features (transactions)\n",
    "    num_weeks = 6\n",
    "    week_end = week + num_weeks\n",
    "    tmp = transactions.query(\"@week <= week < @week_end\").groupby('user')[['price', 'sales_channel_id']].agg(['mean', 'std'])\n",
    "    tmp.columns = ['user_' + '_'.join(a) for a in tmp.columns.to_flat_index()]\n",
    "    df = df.merge(tmp, on='user', how='left')\n",
    "\n",
    "    # item dynamic features (transactions)\n",
    "    num_weeks = 6\n",
    "    week_end = week + num_weeks\n",
    "    tmp = transactions.query(\"@week <= week < @week_end\").groupby('item')[['price', 'sales_channel_id']].agg(['mean', 'std'])\n",
    "    tmp.columns = ['item_' + '_'.join(a) for a in tmp.columns.to_flat_index()]\n",
    "    df = df.merge(tmp, on='item', how='left')\n",
    "\n",
    "    # item dynamic features (user features)\n",
    "    num_weeks = 6\n",
    "    week_end = week + num_weeks\n",
    "    tmp = transactions.query(\"@week <= week < @week_end\").merge(users[['user', 'age']], on='user')\n",
    "    tmp = tmp.groupby('item')['age'].agg(['mean', 'std'])\n",
    "    tmp.columns = [f'age_{a}' for a in tmp.columns.to_flat_index()]\n",
    "    df = df.merge(tmp, on='item', how='left')\n",
    "\n",
    "    # item freshness features\n",
    "    tmp = transactions.query(\"@week <= week\").groupby('item')['week'].min().reset_index(name='item_week_min')\n",
    "    tmp['item_week_min'] -= week\n",
    "    df = df.merge(tmp, on='item', how='left')\n",
    "\n",
    "    # item volume features\n",
    "    num_weeks = 1\n",
    "    week_end = week + num_weeks\n",
    "    tmp = transactions.query(\"@week <= week < @week_end\").groupby('item').size().reset_index(name='item_volume')\n",
    "    df = df.merge(tmp, on='item', how='left')\n",
    "\n",
    "    # # user freshness features\n",
    "    # tmp = transactions.query(\"@week <= week\").groupby('user')['week'].min().reset_index(name='user_week_min')\n",
    "    # tmp['user_week_min'] -= week\n",
    "    # df = df.merge(tmp, on='user', how='left')\n",
    "\n",
    "    # # user volume features\n",
    "    # num_weeks = 1\n",
    "    # week_end = week + num_weeks\n",
    "    # tmp = transactions.query(\"@week <= week < @week_end\").groupby('user').size().reset_index(name='user_volume')\n",
    "    # df = df.merge(tmp, on='user', how='left')\n",
    "\n",
    "    # user-item freshness features\n",
    "    tmp = transactions.query(\"@week <= week\").groupby(['user', 'item'])['week'].min().reset_index(name='user_item_week_min')\n",
    "    tmp['user_item_week_min'] -= week\n",
    "    df = df.merge(tmp, on=['item', 'user'], how='left')\n",
    "\n",
    "    # user-item volume features\n",
    "    num_weeks = 1\n",
    "    week_end = week + num_weeks\n",
    "    tmp = transactions.query(\"@week <= week < @week_end\").groupby(['user', 'item']).size().reset_index(name='user_item_volume')\n",
    "    df = df.merge(tmp, on=['user', 'item'], how='left')\n",
    "\n",
    "    assert len(df) == n_original\n",
    "    return df\n",
    "\n",
    "\n",
    "valid_all = attach_features(transactions, users, items, valid_all, 2)\n",
    "for idx in range(len(candidates)):\n",
    "    candidates[idx] = attach_features(transactions, users, items, candidates[idx], 2+idx)"
   ]
  },
  {
   "cell_type": "code",
   "execution_count": 10,
   "metadata": {},
   "outputs": [],
   "source": [
    "datasets = []\n",
    "for idx in range(len(candidates)):\n",
    "    datasets.append(calc_query_groups(candidates[idx]))\n",
    "\n",
    "valid, group_valid = datasets[0]\n",
    "\n",
    "def concat_train(datasets, begin, num):\n",
    "    train = pd.concat([datasets[idx][0] for idx in range(begin, begin+num)])\n",
    "    group_train = []\n",
    "    for idx in range(begin, begin+num):\n",
    "        group_train += datasets[idx][1]\n",
    "    return train, group_train\n",
    "\n",
    "train, group_train = concat_train(datasets, 1, num_train_weeks)"
   ]
  },
  {
   "cell_type": "code",
   "execution_count": 11,
   "metadata": {},
   "outputs": [
    {
     "name": "stdout",
     "output_type": "stream",
     "text": [
      "['user', 'item', 'repurchase_week_rank', 'repurchase_volume_rank', 'pop_rank', 'cooc_repurchase_week_rank', 'cooc_repurchase_volume_rank', 'cooc_tot', 'cooc_ratio', 'same_product_code_repurchase_week_rank', 'same_product_code_repurchase_volume_rank', 'segment_rank', 'FN', 'Active', 'age', 'club_member_status_idx', 'fashion_news_frequency_idx', 'product_type_no_idx', 'product_group_name_idx', 'graphical_appearance_no_idx', 'colour_group_code_idx', 'perceived_colour_value_id_idx', 'perceived_colour_master_id_idx', 'department_no_idx', 'index_code_idx', 'index_group_no_idx', 'section_no_idx', 'garment_group_no_idx', 'user_price_mean', 'user_price_std', 'user_sales_channel_id_mean', 'user_sales_channel_id_std', 'item_price_mean', 'item_price_std', 'item_sales_channel_id_mean', 'item_sales_channel_id_std', 'age_mean', 'age_std', 'item_week_min', 'item_volume', 'user_item_week_min', 'user_item_volume']\n"
     ]
    }
   ],
   "source": [
    "feature_columns = [c for c in valid.columns if c not in ['y', 'strategy', 'week']]\n",
    "print(feature_columns)\n"
   ]
  },
  {
   "cell_type": "code",
   "execution_count": 12,
   "metadata": {},
   "outputs": [],
   "source": [
    "train_dataset = lgb.Dataset(train[feature_columns], train['y'], group=group_train)\n",
    "valid_dataset = lgb.Dataset(valid[feature_columns], valid['y'], group=group_valid, reference=train_dataset)\n"
   ]
  },
  {
   "cell_type": "code",
   "execution_count": 13,
   "metadata": {},
   "outputs": [
    {
     "name": "stdout",
     "output_type": "stream",
     "text": [
      "[LightGBM] [Info] Total groups: 54494, total data: 17154349\n",
      "[LightGBM] [Warning] Auto-choosing row-wise multi-threading, the overhead of testing was 0.842293 seconds.\n",
      "You can set `force_row_wise=true` to remove the overhead.\n",
      "And if memory is not enough, you can set `force_col_wise=true`.\n",
      "[LightGBM] [Info] Total Bins 6002\n",
      "[LightGBM] [Info] Number of data points in the train set: 17154349, number of used features: 42\n",
      "[LightGBM] [Info] Total groups: 17182, total data: 5718713\n",
      "Training until validation scores don't improve for 20 rounds\n",
      "Early stopping, best iteration is:\n",
      "[37]\ttraining's map@12: 0.194631\tvalid_1's map@12: 0.177711\n"
     ]
    }
   ],
   "source": [
    "params = {\n",
    "    'objective': 'xendcg',\n",
    "    'boosting_type': 'gbdt',\n",
    "    'learning_rate': 1e-6,\n",
    "    'num_leaves': 255,\n",
    "    'min_data_in_leaf': 100,\n",
    "    'metric': 'map',\n",
    "    'eval_at': 12,\n",
    "}\n",
    "\n",
    "model = lgb.train(params, train_dataset, valid_sets=[train_dataset, valid_dataset], num_boost_round=1000, callbacks=[lgb.early_stopping(20)])\n"
   ]
  },
  {
   "cell_type": "code",
   "execution_count": 14,
   "metadata": {},
   "outputs": [
    {
     "data": {
      "text/plain": [
       "<AxesSubplot:title={'center':'Feature importance'}, xlabel='Feature importance', ylabel='Features'>"
      ]
     },
     "execution_count": 14,
     "metadata": {},
     "output_type": "execute_result"
    },
    {
     "data": {
      "image/png": "[encoded data removed]",
      "text/plain": [
       "<Figure size 576x1152 with 1 Axes>"
      ]
     },
     "metadata": {
      "needs_background": "light"
     },
     "output_type": "display_data"
    }
   ],
   "source": [
    "lgb.plot_importance(model, importance_type='gain', figsize=(8, 16))\n"
   ]
  },
  {
   "cell_type": "code",
   "execution_count": 15,
   "metadata": {},
   "outputs": [],
   "source": [
    "valid_all['pred'] = model.predict(valid_all[feature_columns], num_iteration=model.best_iteration)\n",
    "pred = valid_all.groupby(['user', 'item'])['pred'].max().reset_index()\n"
   ]
  },
  {
   "cell_type": "code",
   "execution_count": 16,
   "metadata": {},
   "outputs": [
    {
     "data": {
      "text/html": [
       "<div>\n",
       "<style scoped>\n",
       "    .dataframe tbody tr th:only-of-type {\n",
       "        vertical-align: middle;\n",
       "    }\n",
       "\n",
       "    .dataframe tbody tr th {\n",
       "        vertical-align: top;\n",
       "    }\n",
       "\n",
       "    .dataframe thead th {\n",
       "        text-align: right;\n",
       "    }\n",
       "</style>\n",
       "<table border=\"1\" class=\"dataframe\">\n",
       "  <thead>\n",
       "    <tr style=\"text-align: right;\">\n",
       "      <th></th>\n",
       "      <th>user</th>\n",
       "      <th>item</th>\n",
       "    </tr>\n",
       "  </thead>\n",
       "  <tbody>\n",
       "    <tr>\n",
       "      <th>0</th>\n",
       "      <td>80</td>\n",
       "      <td>[104045, 67522, 104553, 103108, 95217, 3091, 5...</td>\n",
       "    </tr>\n",
       "    <tr>\n",
       "      <th>1</th>\n",
       "      <td>86</td>\n",
       "      <td>[27905, 33868, 100228, 98606, 102710, 102472, ...</td>\n",
       "    </tr>\n",
       "    <tr>\n",
       "      <th>2</th>\n",
       "      <td>107</td>\n",
       "      <td>[61305, 61303, 61304, 2219, 13042, 84659, 9202...</td>\n",
       "    </tr>\n",
       "    <tr>\n",
       "      <th>3</th>\n",
       "      <td>117</td>\n",
       "      <td>[104045, 67522, 104553, 3091, 95217, 103108, 5...</td>\n",
       "    </tr>\n",
       "    <tr>\n",
       "      <th>4</th>\n",
       "      <td>179</td>\n",
       "      <td>[95216, 105180, 104986, 3510, 105179, 81825, 9...</td>\n",
       "    </tr>\n",
       "    <tr>\n",
       "      <th>...</th>\n",
       "      <td>...</td>\n",
       "      <td>...</td>\n",
       "    </tr>\n",
       "    <tr>\n",
       "      <th>68979</th>\n",
       "      <td>1371868</td>\n",
       "      <td>[93158, 104045, 104553, 103108, 67522, 104072,...</td>\n",
       "    </tr>\n",
       "    <tr>\n",
       "      <th>68980</th>\n",
       "      <td>1371871</td>\n",
       "      <td>[67522, 104045, 95217, 67543, 103108, 104553, ...</td>\n",
       "    </tr>\n",
       "    <tr>\n",
       "      <th>68981</th>\n",
       "      <td>1371879</td>\n",
       "      <td>[103668, 103665, 103666, 103669, 103667, 53892...</td>\n",
       "    </tr>\n",
       "    <tr>\n",
       "      <th>68982</th>\n",
       "      <td>1371937</td>\n",
       "      <td>[59774, 67522, 104045, 95217, 103108, 104553, ...</td>\n",
       "    </tr>\n",
       "    <tr>\n",
       "      <th>68983</th>\n",
       "      <td>1371960</td>\n",
       "      <td>[102628, 103304, 94700, 97246, 99010, 66500, 8...</td>\n",
       "    </tr>\n",
       "  </tbody>\n",
       "</table>\n",
       "<p>68984 rows × 2 columns</p>\n",
       "</div>"
      ],
      "text/plain": [
       "          user                                               item\n",
       "0           80  [104045, 67522, 104553, 103108, 95217, 3091, 5...\n",
       "1           86  [27905, 33868, 100228, 98606, 102710, 102472, ...\n",
       "2          107  [61305, 61303, 61304, 2219, 13042, 84659, 9202...\n",
       "3          117  [104045, 67522, 104553, 3091, 95217, 103108, 5...\n",
       "4          179  [95216, 105180, 104986, 3510, 105179, 81825, 9...\n",
       "...        ...                                                ...\n",
       "68979  1371868  [93158, 104045, 104553, 103108, 67522, 104072,...\n",
       "68980  1371871  [67522, 104045, 95217, 67543, 103108, 104553, ...\n",
       "68981  1371879  [103668, 103665, 103666, 103669, 103667, 53892...\n",
       "68982  1371937  [59774, 67522, 104045, 95217, 103108, 104553, ...\n",
       "68983  1371960  [102628, 103304, 94700, 97246, 99010, 66500, 8...\n",
       "\n",
       "[68984 rows x 2 columns]"
      ]
     },
     "execution_count": 16,
     "metadata": {},
     "output_type": "execute_result"
    }
   ],
   "source": [
    "pred = pred.sort_values(by=['user', 'pred'], ascending=False).reset_index(drop=True).groupby('user')['item'].apply(lambda x: list(x)[:12]).reset_index()\n",
    "pred\n"
   ]
  },
  {
   "cell_type": "code",
   "execution_count": 17,
   "metadata": {},
   "outputs": [
    {
     "data": {
      "text/html": [
       "<div>\n",
       "<style scoped>\n",
       "    .dataframe tbody tr th:only-of-type {\n",
       "        vertical-align: middle;\n",
       "    }\n",
       "\n",
       "    .dataframe tbody tr th {\n",
       "        vertical-align: top;\n",
       "    }\n",
       "\n",
       "    .dataframe thead th {\n",
       "        text-align: right;\n",
       "    }\n",
       "</style>\n",
       "<table border=\"1\" class=\"dataframe\">\n",
       "  <thead>\n",
       "    <tr style=\"text-align: right;\">\n",
       "      <th></th>\n",
       "      <th>user</th>\n",
       "      <th>gt</th>\n",
       "      <th>item</th>\n",
       "    </tr>\n",
       "  </thead>\n",
       "  <tbody>\n",
       "    <tr>\n",
       "      <th>0</th>\n",
       "      <td>80</td>\n",
       "      <td>[28967]</td>\n",
       "      <td>[104045, 67522, 104553, 103108, 95217, 3091, 5...</td>\n",
       "    </tr>\n",
       "    <tr>\n",
       "      <th>1</th>\n",
       "      <td>86</td>\n",
       "      <td>[87371]</td>\n",
       "      <td>[27905, 33868, 100228, 98606, 102710, 102472, ...</td>\n",
       "    </tr>\n",
       "    <tr>\n",
       "      <th>2</th>\n",
       "      <td>107</td>\n",
       "      <td>[69711, 77256, 33872]</td>\n",
       "      <td>[61305, 61303, 61304, 2219, 13042, 84659, 9202...</td>\n",
       "    </tr>\n",
       "    <tr>\n",
       "      <th>3</th>\n",
       "      <td>117</td>\n",
       "      <td>[97391]</td>\n",
       "      <td>[104045, 67522, 104553, 3091, 95217, 103108, 5...</td>\n",
       "    </tr>\n",
       "    <tr>\n",
       "      <th>4</th>\n",
       "      <td>179</td>\n",
       "      <td>[102397, 98409, 73, 95784, 103796, 105103, 103...</td>\n",
       "      <td>[95216, 105180, 104986, 3510, 105179, 81825, 9...</td>\n",
       "    </tr>\n",
       "    <tr>\n",
       "      <th>...</th>\n",
       "      <td>...</td>\n",
       "      <td>...</td>\n",
       "      <td>...</td>\n",
       "    </tr>\n",
       "    <tr>\n",
       "      <th>68979</th>\n",
       "      <td>1371868</td>\n",
       "      <td>[97531, 103424]</td>\n",
       "      <td>[93158, 104045, 104553, 103108, 67522, 104072,...</td>\n",
       "    </tr>\n",
       "    <tr>\n",
       "      <th>68980</th>\n",
       "      <td>1371871</td>\n",
       "      <td>[94310, 91533]</td>\n",
       "      <td>[67522, 104045, 95217, 67543, 103108, 104553, ...</td>\n",
       "    </tr>\n",
       "    <tr>\n",
       "      <th>68981</th>\n",
       "      <td>1371879</td>\n",
       "      <td>[2118, 84994, 57078, 84991, 101099, 104036, 87...</td>\n",
       "      <td>[103668, 103665, 103666, 103669, 103667, 53892...</td>\n",
       "    </tr>\n",
       "    <tr>\n",
       "      <th>68982</th>\n",
       "      <td>1371937</td>\n",
       "      <td>[67261, 70640]</td>\n",
       "      <td>[59774, 67522, 104045, 95217, 103108, 104553, ...</td>\n",
       "    </tr>\n",
       "    <tr>\n",
       "      <th>68983</th>\n",
       "      <td>1371960</td>\n",
       "      <td>[101689]</td>\n",
       "      <td>[102628, 103304, 94700, 97246, 99010, 66500, 8...</td>\n",
       "    </tr>\n",
       "  </tbody>\n",
       "</table>\n",
       "<p>68984 rows × 3 columns</p>\n",
       "</div>"
      ],
      "text/plain": [
       "          user                                                 gt  \\\n",
       "0           80                                            [28967]   \n",
       "1           86                                            [87371]   \n",
       "2          107                              [69711, 77256, 33872]   \n",
       "3          117                                            [97391]   \n",
       "4          179  [102397, 98409, 73, 95784, 103796, 105103, 103...   \n",
       "...        ...                                                ...   \n",
       "68979  1371868                                    [97531, 103424]   \n",
       "68980  1371871                                     [94310, 91533]   \n",
       "68981  1371879  [2118, 84994, 57078, 84991, 101099, 104036, 87...   \n",
       "68982  1371937                                     [67261, 70640]   \n",
       "68983  1371960                                           [101689]   \n",
       "\n",
       "                                                    item  \n",
       "0      [104045, 67522, 104553, 103108, 95217, 3091, 5...  \n",
       "1      [27905, 33868, 100228, 98606, 102710, 102472, ...  \n",
       "2      [61305, 61303, 61304, 2219, 13042, 84659, 9202...  \n",
       "3      [104045, 67522, 104553, 3091, 95217, 103108, 5...  \n",
       "4      [95216, 105180, 104986, 3510, 105179, 81825, 9...  \n",
       "...                                                  ...  \n",
       "68979  [93158, 104045, 104553, 103108, 67522, 104072,...  \n",
       "68980  [67522, 104045, 95217, 67543, 103108, 104553, ...  \n",
       "68981  [103668, 103665, 103666, 103669, 103667, 53892...  \n",
       "68982  [59774, 67522, 104045, 95217, 103108, 104553, ...  \n",
       "68983  [102628, 103304, 94700, 97246, 99010, 66500, 8...  \n",
       "\n",
       "[68984 rows x 3 columns]"
      ]
     },
     "execution_count": 17,
     "metadata": {},
     "output_type": "execute_result"
    }
   ],
   "source": [
    "gt = transactions.query(\"week == 1\").groupby('user')['item'].apply(list).reset_index().rename(columns={'item': 'gt'})\n",
    "merged = gt.merge(pred, on='user', how='left')\n",
    "merged['item'] = merged['item'].fillna('').apply(list)\n",
    "merged\n"
   ]
  },
  {
   "cell_type": "code",
   "execution_count": 18,
   "metadata": {},
   "outputs": [
    {
     "data": {
      "text/plain": [
       "0.02864514080976472"
      ]
     },
     "execution_count": 18,
     "metadata": {},
     "output_type": "execute_result"
    }
   ],
   "source": [
    "mapk(merged['gt'], merged['item'])\n"
   ]
  },
  {
   "cell_type": "code",
   "execution_count": 19,
   "metadata": {},
   "outputs": [
    {
     "ename": "AssertionError",
     "evalue": "",
     "output_type": "error",
     "traceback": [
      "\u001b[0;31m---------------------------------------------------------------------------\u001b[0m",
      "\u001b[0;31mAssertionError\u001b[0m                            Traceback (most recent call last)",
      "\u001b[0;32m/tmp/ipykernel_801/2103537015.py\u001b[0m in \u001b[0;36m<module>\u001b[0;34m\u001b[0m\n\u001b[0;32m----> 1\u001b[0;31m \u001b[0;32massert\u001b[0m \u001b[0;32mFalse\u001b[0m\u001b[0;34m\u001b[0m\u001b[0;34m\u001b[0m\u001b[0m\n\u001b[0m",
      "\u001b[0;31mAssertionError\u001b[0m: "
     ]
    }
   ],
   "source": [
    "assert False"
   ]
  },
  {
   "cell_type": "markdown",
   "metadata": {},
   "source": [
    "submission"
   ]
  },
  {
   "cell_type": "code",
   "execution_count": null,
   "metadata": {},
   "outputs": [],
   "source": [
    "train, group_train = concat_train(datasets, 0, num_train_weeks)"
   ]
  },
  {
   "cell_type": "code",
   "execution_count": null,
   "metadata": {},
   "outputs": [],
   "source": [
    "train_dataset = lgb.Dataset(train[feature_columns], train['y'], group=group_train)\n",
    "best_iteration = model.best_iteration\n",
    "model = lgb.train(params, train_dataset, num_boost_round=best_iteration)\n",
    "lgb.plot_importance(model, importance_type='gain', figsize=(8, 16))"
   ]
  },
  {
   "cell_type": "code",
   "execution_count": null,
   "metadata": {},
   "outputs": [],
   "source": [
    "target_users = users['user'].values\n",
    "target_users"
   ]
  },
  {
   "cell_type": "code",
   "execution_count": null,
   "metadata": {},
   "outputs": [],
   "source": [
    "candidates = create_candidates(transactions, target_users, 1)"
   ]
  },
  {
   "cell_type": "code",
   "execution_count": null,
   "metadata": {},
   "outputs": [],
   "source": [
    "candidates = attach_features(transactions, users, items, candidates, 1)"
   ]
  },
  {
   "cell_type": "code",
   "execution_count": null,
   "metadata": {},
   "outputs": [],
   "source": [
    "candidates['pred'] = model.predict(candidates[feature_columns])\n",
    "pred = candidates.groupby(['user', 'item'])['pred'].max().reset_index()"
   ]
  },
  {
   "cell_type": "code",
   "execution_count": null,
   "metadata": {},
   "outputs": [],
   "source": [
    "pred = pred.sort_values(by=['user', 'pred'], ascending=False).reset_index(drop=True).groupby('user')['item'].apply(lambda x: list(x)[:12]).reset_index()\n",
    "pred"
   ]
  },
  {
   "cell_type": "code",
   "execution_count": null,
   "metadata": {},
   "outputs": [],
   "source": [
    "for i in range(5):\n",
    "    plot_images(dataset, pred['item'][i])"
   ]
  },
  {
   "cell_type": "code",
   "execution_count": null,
   "metadata": {},
   "outputs": [],
   "source": [
    "mp_user = pd.read_pickle(f\"input/{dataset}/mp_customer_id.pkl\")\n",
    "mp_item = pd.read_pickle(f\"input/{dataset}/mp_article_id.pkl\")"
   ]
  },
  {
   "cell_type": "code",
   "execution_count": null,
   "metadata": {},
   "outputs": [],
   "source": [
    "a_user = mp_user['val'].values\n",
    "a_item = mp_item['val'].values"
   ]
  },
  {
   "cell_type": "code",
   "execution_count": null,
   "metadata": {},
   "outputs": [],
   "source": [
    "pred['customer_id'] = pred['user'].apply(lambda x: a_user[x])\n",
    "pred['prediction'] = pred['item'].apply(lambda x: list(map(lambda y: a_item[y], x)))"
   ]
  },
  {
   "cell_type": "code",
   "execution_count": null,
   "metadata": {},
   "outputs": [],
   "source": [
    "pred['prediction'] = pred['prediction'].apply(lambda x: ' '.join(map(str, x)))"
   ]
  },
  {
   "cell_type": "code",
   "execution_count": null,
   "metadata": {},
   "outputs": [],
   "source": [
    "submission = pred[['customer_id', 'prediction']]\n",
    "submission"
   ]
  },
  {
   "cell_type": "code",
   "execution_count": null,
   "metadata": {},
   "outputs": [],
   "source": [
    "submission.to_csv('submission.csv', index=False)"
   ]
  },
  {
   "cell_type": "code",
   "execution_count": null,
   "metadata": {},
   "outputs": [],
   "source": []
  }
 ],
 "metadata": {
  "interpreter": {
   "hash": "c89b5301ada1d96cd3523f144e4a3cd3ad36f6698a61e6b8277fb627756a86c6"
  },
  "kernelspec": {
   "display_name": "Python 3 (ipykernel)",
   "language": "python",
   "name": "python3"
  },
  "language_info": {
   "codemirror_mode": {
    "name": "ipython",
    "version": 3
   },
   "file_extension": ".py",
   "mimetype": "text/x-python",
   "name": "python",
   "nbconvert_exporter": "python",
   "pygments_lexer": "ipython3",
   "version": "3.7.12"
  }
 },
 "nbformat": 4,
 "nbformat_minor": 4
}
