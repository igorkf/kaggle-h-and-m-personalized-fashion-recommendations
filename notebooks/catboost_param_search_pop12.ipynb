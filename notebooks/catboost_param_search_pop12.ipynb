{
 "cells": [
  {
   "cell_type": "code",
   "execution_count": 1,
   "metadata": {},
   "outputs": [],
   "source": [
    "import lightgbm as lgb\n",
    "import numpy as np\n",
    "import pandas as pd\n",
    "from tqdm.auto import tqdm\n",
    "\n",
    "from metric import apk, mapk\n",
    "from utils import plot_images\n",
    "import catboost"
   ]
  },
  {
   "cell_type": "code",
   "execution_count": 2,
   "metadata": {},
   "outputs": [],
   "source": [
    "def objective(trial):\n",
    "    num_popular_items = 12\n",
    "    num_repurchase_week = trial.suggest_int('num_repurchase_week', 8, 20)\n",
    "    num_cooc_week = trial.suggest_int('num_cooc_week', 4, 16)\n",
    "    num_train_weeks = trial.suggest_int('num_train_weeks', 1, 4)\n",
    "    volume_week = trial.suggest_int('volume_week', 1, 4)\n",
    "    cooc_prob = trial.suggest_uniform('cooc_prob', 0.02, 0.05)\n",
    "    transaction_dynamic_week = trial.suggest_int('transaction_dynamic_week', 1, 8)\n",
    "\n",
    "    dataset = '100'\n",
    "\n",
    "    transactions = pd.read_pickle(f\"input/{dataset}/transactions_train.pkl\")\n",
    "    users = pd.read_pickle(f\"input/{dataset}/users.pkl\")\n",
    "    items = pd.read_pickle(f\"input/{dataset}/items.pkl\")\n",
    "\n",
    "    def create_candidates(transactions: pd.DataFrame, target_users: np.ndarray, week: int) -> pd.DataFrame:\n",
    "        \"\"\"\n",
    "        transactions\n",
    "            original transactions (user, item, week)\n",
    "        target_users, week\n",
    "            候補生成対象のユーザー\n",
    "            weekで指定されている週の段階での情報のみから作られる\n",
    "        \"\"\"\n",
    "        assert len(target_users) == len(set(target_users))\n",
    "\n",
    "        def create_candidates_repurchase(\n",
    "                strategy: str,\n",
    "                transactions: pd.DataFrame,\n",
    "                target_users: np.ndarray,\n",
    "                week_start: int,\n",
    "                week_end: int) -> pd.DataFrame:\n",
    "            tr = transactions.query(\"user in @target_users and @week_start <= week <= @week_end\")[['user', 'item', 'week']].drop_duplicates(ignore_index=True)\n",
    "\n",
    "            gr_week = tr.groupby(['user', 'item'])['week'].min().reset_index(name='week')\n",
    "            gr_volume = tr.groupby(['user', 'item']).size().reset_index(name='volume')\n",
    "\n",
    "            gr_week['week_rank'] = gr_week.groupby('user')['week'].rank()\n",
    "            gr_volume['volume_rank'] = gr_volume.groupby('user')['volume'].rank()\n",
    "\n",
    "            candidates = gr_week.merge(gr_volume, on=['user', 'item'])\n",
    "            candidates = candidates[['user', 'item', 'week_rank', 'volume_rank']].rename(columns={'week_rank': f'{strategy}_week_rank', 'volume_rank': f'{strategy}_volume_rank'})\n",
    "\n",
    "            candidates['strategy'] = strategy\n",
    "            return candidates\n",
    "\n",
    "        def create_candidates_popular(\n",
    "                strategy: str,\n",
    "                transactions: pd.DataFrame,\n",
    "                target_users: np.ndarray,\n",
    "                week_start: int,\n",
    "                week_end: int) -> pd.DataFrame:\n",
    "            tr = transactions.query(\"@week_start <= week <= @week_end\")[['user', 'item']].drop_duplicates(ignore_index=True)\n",
    "            popular_items = tr['item'].value_counts().index.values[:num_popular_items]\n",
    "            popular_items = pd.DataFrame({\n",
    "                'item': popular_items,\n",
    "                'rank': range(num_popular_items),\n",
    "                'crossjoinkey': 1,\n",
    "            })\n",
    "\n",
    "            candidates = pd.DataFrame({\n",
    "                'user': target_users,\n",
    "                'crossjoinkey': 1,\n",
    "            })\n",
    "\n",
    "            candidates = candidates.merge(popular_items, on='crossjoinkey').drop('crossjoinkey', axis=1)\n",
    "            candidates = candidates.rename(columns={'rank': f'{strategy}_rank'})\n",
    "\n",
    "            candidates['strategy'] = strategy\n",
    "            return candidates\n",
    "\n",
    "        def create_candidates_cooc(\n",
    "                strategy: str,\n",
    "                transactions: pd.DataFrame,\n",
    "                week_start: int,\n",
    "                week_end: int,\n",
    "                base_candidates: pd.DataFrame) -> pd.DataFrame:\n",
    "            hoge = cooc_prob\n",
    "            tr = transactions.query(\"@week_start <= week == @week_end\")[['user', 'item', 'week']].drop_duplicates(ignore_index=True)\n",
    "            tr = tr.merge(tr.rename(columns={'item': 'item_with', 'week': 'week_with'}), on='user').query(\"item != item_with and week <= week_with\")[['item', 'item_with']].reset_index(drop=True)\n",
    "            gr_sz = tr.groupby('item').size().reset_index(name='tot')\n",
    "            gr_cnt = tr.groupby(['item', 'item_with']).size().reset_index(name='cnt')\n",
    "            item2item = gr_cnt.merge(gr_sz, on='item')\n",
    "            item2item['ratio'] = item2item['cnt'] / item2item['tot']\n",
    "            item2item = item2item.query(\"ratio >= @hoge\").reset_index(drop=True)\n",
    "\n",
    "            base_candidates_columns = [c for c in base_candidates.columns if '_' in c]\n",
    "            replace = {c: f\"{strategy}_{c}\" for c in base_candidates_columns}\n",
    "            candidates = base_candidates.merge(item2item, on='item').drop(['item', 'cnt'], axis=1).rename(columns={'item_with': 'item'}).rename(columns=replace)\n",
    "            candidates = candidates.rename(columns={'ratio': f'{strategy}_ratio', 'tot': f'{strategy}_tot'})\n",
    "\n",
    "            candidates['strategy'] = strategy\n",
    "            return candidates\n",
    "\n",
    "        def create_candidates_same_product_code(\n",
    "                strategy: str,\n",
    "                items: pd.DataFrame,\n",
    "                base_candidates: pd.DataFrame) -> pd.DataFrame:\n",
    "            item2item = items[['item', 'product_code']].merge(items[['item', 'product_code']].rename({'item': 'item_with'}, axis=1), on='product_code')[['item', 'item_with']].query(\"item != item_with\").reset_index(drop=True)\n",
    "\n",
    "            base_candidates_columns = [c for c in base_candidates.columns if '_' in c]\n",
    "            replace = {c: f\"{strategy}_{c}\" for c in base_candidates_columns}\n",
    "            candidates = base_candidates.merge(item2item, on='item').drop('item', axis=1).rename(columns={'item_with': 'item'}).rename(columns=replace)\n",
    "\n",
    "            candidates['strategy'] = strategy\n",
    "            return candidates\n",
    "\n",
    "        candidates_repurchase = create_candidates_repurchase('repurchase', transactions, target_users, week, week + num_repurchase_week)\n",
    "        candidates_popular = create_candidates_popular('pop', transactions, target_users, week, week)\n",
    "        candidates_cooc = create_candidates_cooc('cooc', transactions, week, week + num_cooc_week, candidates_repurchase)\n",
    "        candidates_same_product_code = create_candidates_same_product_code('same_product_code', items, candidates_repurchase)\n",
    "\n",
    "        candidates = [\n",
    "            candidates_repurchase,\n",
    "            candidates_popular,\n",
    "            candidates_cooc,\n",
    "            candidates_same_product_code,\n",
    "        ]\n",
    "\n",
    "        candidates = pd.concat(candidates).reset_index(drop=True)\n",
    "\n",
    "        volumes = candidates.groupby('strategy').size().reset_index(name='volume').sort_values(by='volume', ascending=False).reset_index(drop=True)\n",
    "        volumes['ratio'] = volumes['volume'] / volumes['volume'].sum()\n",
    "\n",
    "        return candidates\n",
    "\n",
    "    # valid: week=1\n",
    "    # train: week=2..1+num_train_weeks\n",
    "    candidates = []\n",
    "    for week in range(1, 2+num_train_weeks):\n",
    "        target_users = transactions.query(\"week == @week\")['user'].unique()\n",
    "        candidates.append(create_candidates(transactions, target_users, week+1))\n",
    "    def merge_labels(candidates: pd.DataFrame, week: int) -> pd.DataFrame:\n",
    "        \"\"\"\n",
    "        candidatesに対してweekで指定される週のトランザクションからラベルを付与する\n",
    "        \"\"\"\n",
    "        labels = transactions[transactions['week'] == week][['user', 'item']].drop_duplicates(ignore_index=True)\n",
    "        labels['y'] = 1\n",
    "        original_positives = len(labels)\n",
    "        labels = candidates.merge(labels, on=['user', 'item'], how='left')\n",
    "        labels['y'] = labels['y'].fillna(0)\n",
    "\n",
    "        remaining_positives_total = labels[['user', 'item', 'y']].drop_duplicates(ignore_index=True)['y'].sum()\n",
    "        recall = remaining_positives_total / original_positives\n",
    "\n",
    "        volumes = candidates.groupby('strategy').size().reset_index(name='volume')\n",
    "        remaining_positives = labels.groupby('strategy')['y'].sum().reset_index()\n",
    "        remaining_positives = remaining_positives.merge(volumes, on='strategy')\n",
    "        remaining_positives['recall'] = remaining_positives['y'] / original_positives\n",
    "        remaining_positives['hit_ratio'] = remaining_positives['y'] / remaining_positives['volume']\n",
    "        remaining_positives = remaining_positives.sort_values(by='y', ascending=False).reset_index(drop=True)\n",
    "\n",
    "        return labels\n",
    "\n",
    "    for idx in range(len(candidates)):\n",
    "        candidates[idx] = merge_labels(candidates[idx], 1+idx)\n",
    "\n",
    "    def get_query_group(df):\n",
    "        def run_length_encoding(sequence):\n",
    "            comp_seq_index, = np.concatenate(([True], sequence[1:] != sequence[:-1], [True])).nonzero()\n",
    "            return sequence[comp_seq_index[:-1]], np.ediff1d(comp_seq_index)\n",
    "        users = df['user'].values\n",
    "        _, group = run_length_encoding(users)\n",
    "        return list(group)\n",
    "\n",
    "    def drop_trivial_users(labels):\n",
    "        \"\"\"\n",
    "        LightGBMのxendgcやlambdarankでは正例のみや負例のみのuserは学習に無意味なのと、メトリックの計算がおかしくなるので省く\n",
    "        \"\"\"\n",
    "        bef = len(labels)\n",
    "        df = labels[labels['user'].isin(labels[['user', 'y']].drop_duplicates().groupby('user').size().reset_index(name='sz').query(\"sz==2\").user)].reset_index(drop=True)\n",
    "        aft = len(df)\n",
    "        return df\n",
    "\n",
    "    for idx in range(len(candidates)):\n",
    "        candidates[idx]['week'] = 1+idx\n",
    "\n",
    "    valid_all = candidates[0].copy()\n",
    "\n",
    "    for idx in range(len(candidates)):\n",
    "        candidates[idx] = drop_trivial_users(candidates[idx])\n",
    "\n",
    "    def attach_features(transactions: pd.DataFrame, users: pd.DataFrame, items: pd.DataFrame, candidates: pd.DataFrame, week: int) -> pd.DataFrame:\n",
    "        \"\"\"\n",
    "        user, itemに対して特徴を横付けする\n",
    "        week: これを含めた以前の情報は使って良い\n",
    "        \"\"\"\n",
    "        n_original = len(candidates)\n",
    "        df = candidates.copy()\n",
    "\n",
    "        # user static features\n",
    "        user_features = ['FN', 'Active', 'age', 'club_member_status_idx', 'fashion_news_frequency_idx']\n",
    "        df = df.merge(users[['user'] + user_features], on='user')\n",
    "\n",
    "        # item static features\n",
    "        item_features = [c for c in items.columns if c.endswith('idx')]\n",
    "        df = df.merge(items[['item'] + item_features], on='item')\n",
    "\n",
    "        # user dynamic features (transactions)\n",
    "        num_weeks = transaction_dynamic_week\n",
    "        week_end = week + num_weeks\n",
    "        tmp = transactions.query(\"@week <= week < @week_end\").groupby('user')[['price', 'sales_channel_id']].agg(['mean', 'std'])\n",
    "        tmp.columns = ['user_' + '_'.join(a) for a in tmp.columns.to_flat_index()]\n",
    "        df = df.merge(tmp, on='user', how='left')\n",
    "\n",
    "        # item dynamic features (transactions)\n",
    "        num_weeks = transaction_dynamic_week\n",
    "        week_end = week + num_weeks\n",
    "        tmp = transactions.query(\"@week <= week < @week_end\").groupby('item')[['price', 'sales_channel_id']].agg(['mean', 'std'])\n",
    "        tmp.columns = ['item_' + '_'.join(a) for a in tmp.columns.to_flat_index()]\n",
    "        df = df.merge(tmp, on='item', how='left')\n",
    "\n",
    "        # item dynamic features (user features)\n",
    "        num_weeks = transaction_dynamic_week\n",
    "        week_end = week + num_weeks\n",
    "        tmp = transactions.query(\"@week <= week < @week_end\").merge(users[['user', 'age']], on='user')\n",
    "        tmp = tmp.groupby('item')['age'].agg(['mean', 'std'])\n",
    "        tmp.columns = [f'age_{a}' for a in tmp.columns.to_flat_index()]\n",
    "        df = df.merge(tmp, on='item', how='left')\n",
    "\n",
    "        # item freshness features\n",
    "        tmp = transactions.query(\"@week <= week\").groupby('item')['week'].min().reset_index(name='item_week_min')\n",
    "        tmp['item_week_min'] -= week\n",
    "        df = df.merge(tmp, on='item', how='left')\n",
    "\n",
    "        # item volume features\n",
    "        num_weeks = volume_week\n",
    "        week_end = week + num_weeks\n",
    "        tmp = transactions.query(\"@week <= week < @week_end\").groupby('item').size().reset_index(name='item_volume')\n",
    "        df = df.merge(tmp, on='item', how='left')\n",
    "\n",
    "        # # user freshness features\n",
    "        # tmp = transactions.query(\"@week <= week\").groupby('user')['week'].min().reset_index(name='user_week_min')\n",
    "        # tmp['user_week_min'] -= week\n",
    "        # df = df.merge(tmp, on='user', how='left')\n",
    "\n",
    "        # # user volume features\n",
    "        # num_weeks = 1\n",
    "        # week_end = week + num_weeks\n",
    "        # tmp = transactions.query(\"@week <= week < @week_end\").groupby('user').size().reset_index(name='user_volume')\n",
    "        # df = df.merge(tmp, on='user', how='left')\n",
    "\n",
    "        # user-item freshness features\n",
    "        tmp = transactions.query(\"@week <= week\").groupby(['user', 'item'])['week'].min().reset_index(name='user_item_week_min')\n",
    "        tmp['user_item_week_min'] -= week\n",
    "        df = df.merge(tmp, on=['item', 'user'], how='left')\n",
    "\n",
    "        # user-item volume features\n",
    "        num_weeks = volume_week\n",
    "        week_end = week + num_weeks\n",
    "        tmp = transactions.query(\"@week <= week < @week_end\").groupby(['user', 'item']).size().reset_index(name='user_item_volume')\n",
    "        df = df.merge(tmp, on=['user', 'item'], how='left')\n",
    "\n",
    "        assert len(df) == n_original\n",
    "        return df\n",
    "\n",
    "\n",
    "    valid_all = attach_features(transactions, users, items, valid_all, 2)\n",
    "    for idx in range(len(candidates)):\n",
    "        candidates[idx] = attach_features(transactions, users, items, candidates[idx], 2+idx)\n",
    "\n",
    "    for idx in range(len(candidates)):\n",
    "        candidates[idx]['group'] = candidates[idx]['week'].astype(str) + '_' + candidates[idx]['user'].astype(str)\n",
    "        candidates[idx] = candidates[idx].sort_values(by='group').reset_index(drop=True)\n",
    "\n",
    "    valid = candidates[0]\n",
    "\n",
    "    def concat_train(datasets, begin, num):\n",
    "        train = pd.concat([datasets[idx] for idx in range(begin, begin+num)])\n",
    "        return train\n",
    "\n",
    "    train = concat_train(candidates, 1, num_train_weeks)\n",
    "    feature_columns = [c for c in valid.columns if c not in ['y', 'strategy', 'week', 'group']]\n",
    "\n",
    "\n",
    "    cat_feature_values = [c for c in feature_columns if c.endswith('idx')]\n",
    "    cat_features = [feature_columns.index(c) for c in cat_feature_values]\n",
    "\n",
    "    train_pool = catboost.Pool(data=train[feature_columns], label=train['y'], group_id=train['group'], cat_features=cat_features)\n",
    "    valid_pool = catboost.Pool(data=valid[feature_columns], label=valid['y'], group_id=valid['group'], cat_features=cat_features)\n",
    "\n",
    "    params = {\n",
    "        'loss_function': 'YetiRank',\n",
    "        'use_best_model': True,\n",
    "        'one_hot_max_size': 300,\n",
    "        'metric_period': 100,\n",
    "    }\n",
    "    model = catboost.CatBoost(params)\n",
    "    model.fit(train_pool, eval_set=valid_pool)\n",
    "\n",
    "    valid_all['pred'] = model.predict(valid_all[feature_columns])\n",
    "    pred = valid_all.groupby(['user', 'item'])['pred'].max().reset_index()\n",
    "\n",
    "    pred = pred.sort_values(by=['user', 'pred'], ascending=False).reset_index(drop=True).groupby('user')['item'].apply(lambda x: list(x)[:12]).reset_index()\n",
    "    pred\n",
    "\n",
    "    gt = transactions.query(\"week == 1\").groupby('user')['item'].apply(list).reset_index().rename(columns={'item': 'gt'})\n",
    "    merged = gt.merge(pred, on='user', how='left')\n",
    "    merged['item'] = merged['item'].fillna('').apply(list)\n",
    "    merged\n",
    "\n",
    "    return mapk(merged['gt'], merged['item'])\n"
   ]
  },
  {
   "cell_type": "code",
   "execution_count": 3,
   "metadata": {},
   "outputs": [
    {
     "name": "stderr",
     "output_type": "stream",
     "text": [
      "\u001b[32m[I 2022-04-07 14:41:34,703]\u001b[0m A new study created in memory with name: cat\u001b[0m\n"
     ]
    },
    {
     "name": "stdout",
     "output_type": "stream",
     "text": [
      "0:\ttest: 0.2946554\tbest: 0.2946554 (0)\ttotal: 533ms\tremaining: 8m 52s\n",
      "100:\ttest: 0.4426274\tbest: 0.4426274 (100)\ttotal: 39.8s\tremaining: 5m 54s\n",
      "200:\ttest: 0.4513364\tbest: 0.4513364 (200)\ttotal: 1m 18s\tremaining: 5m 12s\n",
      "300:\ttest: 0.4534541\tbest: 0.4534541 (300)\ttotal: 1m 57s\tremaining: 4m 32s\n",
      "400:\ttest: 0.4559337\tbest: 0.4559337 (400)\ttotal: 2m 35s\tremaining: 3m 52s\n",
      "500:\ttest: 0.4572042\tbest: 0.4572042 (500)\ttotal: 3m 14s\tremaining: 3m 13s\n",
      "600:\ttest: 0.4572855\tbest: 0.4572855 (600)\ttotal: 3m 52s\tremaining: 2m 34s\n",
      "700:\ttest: 0.4591008\tbest: 0.4591008 (700)\ttotal: 4m 30s\tremaining: 1m 55s\n",
      "800:\ttest: 0.4598348\tbest: 0.4598348 (800)\ttotal: 5m 8s\tremaining: 1m 16s\n",
      "900:\ttest: 0.4597135\tbest: 0.4598348 (800)\ttotal: 5m 46s\tremaining: 38.1s\n",
      "999:\ttest: 0.4587869\tbest: 0.4598348 (800)\ttotal: 6m 24s\tremaining: 0us\n",
      "\n",
      "bestTest = 0.4598347763\n",
      "bestIteration = 800\n",
      "\n",
      "Shrink model to first 801 iterations.\n"
     ]
    },
    {
     "name": "stderr",
     "output_type": "stream",
     "text": [
      "\u001b[32m[I 2022-04-07 14:50:10,246]\u001b[0m Trial 0 finished with value: 0.028928555638922562 and parameters: {'num_repurchase_week': 12, 'num_cooc_week': 8, 'num_train_weeks': 1, 'volume_week': 3, 'cooc_prob': 0.03345213126172819, 'transaction_dynamic_week': 4}. Best is trial 0 with value: 0.028928555638922562.\u001b[0m\n"
     ]
    },
    {
     "name": "stdout",
     "output_type": "stream",
     "text": [
      "0:\ttest: 0.2933335\tbest: 0.2933335 (0)\ttotal: 875ms\tremaining: 14m 34s\n",
      "100:\ttest: 0.4452110\tbest: 0.4452110 (100)\ttotal: 1m 28s\tremaining: 13m 10s\n",
      "200:\ttest: 0.4557164\tbest: 0.4557164 (200)\ttotal: 2m 56s\tremaining: 11m 42s\n",
      "300:\ttest: 0.4591164\tbest: 0.4591164 (300)\ttotal: 4m 23s\tremaining: 10m 12s\n",
      "400:\ttest: 0.4615290\tbest: 0.4615290 (400)\ttotal: 5m 51s\tremaining: 8m 44s\n",
      "500:\ttest: 0.4627775\tbest: 0.4627775 (500)\ttotal: 7m 17s\tremaining: 7m 16s\n",
      "600:\ttest: 0.4639101\tbest: 0.4639101 (600)\ttotal: 8m 44s\tremaining: 5m 48s\n",
      "700:\ttest: 0.4670378\tbest: 0.4670378 (700)\ttotal: 10m 11s\tremaining: 4m 20s\n",
      "800:\ttest: 0.4686896\tbest: 0.4686896 (800)\ttotal: 11m 37s\tremaining: 2m 53s\n",
      "900:\ttest: 0.4687768\tbest: 0.4687768 (900)\ttotal: 13m 4s\tremaining: 1m 26s\n",
      "999:\ttest: 0.4694986\tbest: 0.4694986 (999)\ttotal: 14m 29s\tremaining: 0us\n",
      "\n",
      "bestTest = 0.4694985823\n",
      "bestIteration = 999\n",
      "\n"
     ]
    },
    {
     "name": "stderr",
     "output_type": "stream",
     "text": [
      "\u001b[32m[I 2022-04-07 15:08:14,598]\u001b[0m Trial 1 finished with value: 0.02863794204653312 and parameters: {'num_repurchase_week': 8, 'num_cooc_week': 4, 'num_train_weeks': 4, 'volume_week': 3, 'cooc_prob': 0.03545554963499757, 'transaction_dynamic_week': 6}. Best is trial 0 with value: 0.028928555638922562.\u001b[0m\n"
     ]
    },
    {
     "name": "stdout",
     "output_type": "stream",
     "text": [
      "0:\ttest: 0.2805564\tbest: 0.2805564 (0)\ttotal: 881ms\tremaining: 14m 40s\n",
      "100:\ttest: 0.4258414\tbest: 0.4258414 (100)\ttotal: 1m 27s\tremaining: 12m 55s\n",
      "200:\ttest: 0.4324797\tbest: 0.4324797 (200)\ttotal: 2m 53s\tremaining: 11m 27s\n",
      "300:\ttest: 0.4370911\tbest: 0.4370911 (300)\ttotal: 4m 18s\tremaining: 10m\n",
      "400:\ttest: 0.4382316\tbest: 0.4382316 (400)\ttotal: 5m 43s\tremaining: 8m 32s\n",
      "500:\ttest: 0.4402875\tbest: 0.4402875 (500)\ttotal: 7m 8s\tremaining: 7m 6s\n",
      "600:\ttest: 0.4420112\tbest: 0.4420112 (600)\ttotal: 8m 32s\tremaining: 5m 40s\n",
      "700:\ttest: 0.4443167\tbest: 0.4443167 (700)\ttotal: 9m 56s\tremaining: 4m 14s\n",
      "800:\ttest: 0.4458087\tbest: 0.4458087 (800)\ttotal: 11m 20s\tremaining: 2m 49s\n",
      "900:\ttest: 0.4470631\tbest: 0.4470631 (900)\ttotal: 12m 44s\tremaining: 1m 24s\n",
      "999:\ttest: 0.4475025\tbest: 0.4475025 (999)\ttotal: 14m 7s\tremaining: 0us\n",
      "\n",
      "bestTest = 0.4475024578\n",
      "bestIteration = 999\n",
      "\n"
     ]
    },
    {
     "name": "stderr",
     "output_type": "stream",
     "text": [
      "\u001b[32m[I 2022-04-07 15:25:04,536]\u001b[0m Trial 2 finished with value: 0.028371243194993574 and parameters: {'num_repurchase_week': 10, 'num_cooc_week': 7, 'num_train_weeks': 2, 'volume_week': 3, 'cooc_prob': 0.024074839925327503, 'transaction_dynamic_week': 3}. Best is trial 0 with value: 0.028928555638922562.\u001b[0m\n"
     ]
    },
    {
     "name": "stdout",
     "output_type": "stream",
     "text": [
      "0:\ttest: 0.2797525\tbest: 0.2797525 (0)\ttotal: 2.49s\tremaining: 41m 27s\n",
      "100:\ttest: 0.4169000\tbest: 0.4169000 (100)\ttotal: 4m 6s\tremaining: 36m 32s\n",
      "200:\ttest: 0.4292320\tbest: 0.4292320 (200)\ttotal: 8m 11s\tremaining: 32m 35s\n",
      "300:\ttest: 0.4344493\tbest: 0.4344493 (300)\ttotal: 12m 15s\tremaining: 28m 28s\n",
      "400:\ttest: 0.4378017\tbest: 0.4378017 (400)\ttotal: 16m 18s\tremaining: 24m 20s\n",
      "500:\ttest: 0.4394798\tbest: 0.4394798 (500)\ttotal: 20m 20s\tremaining: 20m 15s\n",
      "600:\ttest: 0.4406641\tbest: 0.4406641 (600)\ttotal: 24m 21s\tremaining: 16m 10s\n",
      "700:\ttest: 0.4412038\tbest: 0.4412038 (700)\ttotal: 28m 23s\tremaining: 12m 6s\n",
      "800:\ttest: 0.4422863\tbest: 0.4422863 (800)\ttotal: 32m 25s\tremaining: 8m 3s\n",
      "900:\ttest: 0.4421683\tbest: 0.4422863 (800)\ttotal: 36m 27s\tremaining: 4m\n",
      "999:\ttest: 0.4432381\tbest: 0.4432381 (999)\ttotal: 40m 25s\tremaining: 0us\n",
      "\n",
      "bestTest = 0.4432381313\n",
      "bestIteration = 999\n",
      "\n"
     ]
    },
    {
     "name": "stderr",
     "output_type": "stream",
     "text": [
      "\u001b[32m[I 2022-04-07 16:09:37,826]\u001b[0m Trial 3 finished with value: 0.029890679271307657 and parameters: {'num_repurchase_week': 20, 'num_cooc_week': 12, 'num_train_weeks': 3, 'volume_week': 1, 'cooc_prob': 0.03073031606052501, 'transaction_dynamic_week': 7}. Best is trial 3 with value: 0.029890679271307657.\u001b[0m\n"
     ]
    },
    {
     "name": "stdout",
     "output_type": "stream",
     "text": [
      "0:\ttest: 0.2988265\tbest: 0.2988265 (0)\ttotal: 302ms\tremaining: 5m 1s\n",
      "100:\ttest: 0.4429848\tbest: 0.4429848 (100)\ttotal: 30.4s\tremaining: 4m 30s\n",
      "200:\ttest: 0.4512794\tbest: 0.4512794 (200)\ttotal: 1m\tremaining: 3m 59s\n",
      "300:\ttest: 0.4552768\tbest: 0.4552768 (300)\ttotal: 1m 30s\tremaining: 3m 29s\n",
      "400:\ttest: 0.4585469\tbest: 0.4585469 (400)\ttotal: 1m 59s\tremaining: 2m 59s\n",
      "500:\ttest: 0.4596580\tbest: 0.4596580 (500)\ttotal: 2m 29s\tremaining: 2m 28s\n",
      "600:\ttest: 0.4611812\tbest: 0.4611812 (600)\ttotal: 2m 58s\tremaining: 1m 58s\n",
      "700:\ttest: 0.4621329\tbest: 0.4621329 (700)\ttotal: 3m 28s\tremaining: 1m 28s\n",
      "800:\ttest: 0.4631755\tbest: 0.4631755 (800)\ttotal: 3m 57s\tremaining: 59s\n",
      "900:\ttest: 0.4642276\tbest: 0.4642276 (900)\ttotal: 4m 27s\tremaining: 29.3s\n",
      "999:\ttest: 0.4651550\tbest: 0.4651550 (999)\ttotal: 4m 56s\tremaining: 0us\n",
      "\n",
      "bestTest = 0.4651550204\n",
      "bestIteration = 999\n",
      "\n"
     ]
    },
    {
     "name": "stderr",
     "output_type": "stream",
     "text": [
      "\u001b[32m[I 2022-04-07 16:16:36,222]\u001b[0m Trial 4 finished with value: 0.028857083341249087 and parameters: {'num_repurchase_week': 12, 'num_cooc_week': 9, 'num_train_weeks': 1, 'volume_week': 1, 'cooc_prob': 0.044312139649449425, 'transaction_dynamic_week': 7}. Best is trial 3 with value: 0.029890679271307657.\u001b[0m\n"
     ]
    },
    {
     "name": "stdout",
     "output_type": "stream",
     "text": [
      "0:\ttest: 0.2856632\tbest: 0.2856632 (0)\ttotal: 3.7s\tremaining: 1h 1m 39s\n",
      "100:\ttest: 0.4071269\tbest: 0.4071269 (100)\ttotal: 5m 49s\tremaining: 51m 48s\n",
      "200:\ttest: 0.4161764\tbest: 0.4161764 (200)\ttotal: 11m 22s\tremaining: 45m 13s\n",
      "300:\ttest: 0.4207486\tbest: 0.4207486 (300)\ttotal: 16m 46s\tremaining: 38m 57s\n",
      "400:\ttest: 0.4249672\tbest: 0.4249672 (400)\ttotal: 22m 8s\tremaining: 33m 5s\n",
      "500:\ttest: 0.4284537\tbest: 0.4284537 (500)\ttotal: 27m 31s\tremaining: 27m 25s\n",
      "600:\ttest: 0.4298214\tbest: 0.4298214 (600)\ttotal: 32m 57s\tremaining: 21m 52s\n",
      "700:\ttest: 0.4306323\tbest: 0.4306323 (700)\ttotal: 38m 25s\tremaining: 16m 23s\n",
      "800:\ttest: 0.4319342\tbest: 0.4319342 (800)\ttotal: 43m 52s\tremaining: 10m 53s\n",
      "900:\ttest: 0.4323466\tbest: 0.4323466 (900)\ttotal: 49m 18s\tremaining: 5m 25s\n",
      "999:\ttest: 0.4326938\tbest: 0.4326938 (999)\ttotal: 54m 41s\tremaining: 0us\n",
      "\n",
      "bestTest = 0.4326938306\n",
      "bestIteration = 999\n",
      "\n"
     ]
    },
    {
     "name": "stderr",
     "output_type": "stream",
     "text": [
      "\u001b[32m[I 2022-04-07 17:16:12,982]\u001b[0m Trial 5 finished with value: 0.029184083144487664 and parameters: {'num_repurchase_week': 16, 'num_cooc_week': 11, 'num_train_weeks': 4, 'volume_week': 3, 'cooc_prob': 0.0216855065054401, 'transaction_dynamic_week': 2}. Best is trial 3 with value: 0.029890679271307657.\u001b[0m\n"
     ]
    },
    {
     "name": "stdout",
     "output_type": "stream",
     "text": [
      "0:\ttest: 0.2399811\tbest: 0.2399811 (0)\ttotal: 591ms\tremaining: 9m 50s\n",
      "100:\ttest: 0.4064227\tbest: 0.4064227 (100)\ttotal: 54.4s\tremaining: 8m 3s\n",
      "200:\ttest: 0.4132453\tbest: 0.4132453 (200)\ttotal: 1m 47s\tremaining: 7m 8s\n",
      "300:\ttest: 0.4179795\tbest: 0.4179795 (300)\ttotal: 2m 40s\tremaining: 6m 12s\n",
      "400:\ttest: 0.4204683\tbest: 0.4204683 (400)\ttotal: 3m 33s\tremaining: 5m 18s\n",
      "500:\ttest: 0.4233576\tbest: 0.4233576 (500)\ttotal: 4m 26s\tremaining: 4m 25s\n",
      "600:\ttest: 0.4231344\tbest: 0.4233576 (500)\ttotal: 5m 19s\tremaining: 3m 32s\n",
      "700:\ttest: 0.4238934\tbest: 0.4238934 (700)\ttotal: 6m 12s\tremaining: 2m 38s\n",
      "800:\ttest: 0.4249828\tbest: 0.4249828 (800)\ttotal: 7m 5s\tremaining: 1m 45s\n",
      "900:\ttest: 0.4248988\tbest: 0.4249828 (800)\ttotal: 7m 57s\tremaining: 52.5s\n",
      "999:\ttest: 0.4252649\tbest: 0.4252649 (999)\ttotal: 8m 50s\tremaining: 0us\n",
      "\n",
      "bestTest = 0.4252648708\n",
      "bestIteration = 999\n",
      "\n"
     ]
    },
    {
     "name": "stderr",
     "output_type": "stream",
     "text": [
      "\u001b[32m[I 2022-04-07 17:27:34,014]\u001b[0m Trial 6 finished with value: 0.029185713814581266 and parameters: {'num_repurchase_week': 17, 'num_cooc_week': 4, 'num_train_weeks': 1, 'volume_week': 4, 'cooc_prob': 0.04251036406490562, 'transaction_dynamic_week': 1}. Best is trial 3 with value: 0.029890679271307657.\u001b[0m\n"
     ]
    },
    {
     "name": "stdout",
     "output_type": "stream",
     "text": [
      "0:\ttest: 0.2785244\tbest: 0.2785244 (0)\ttotal: 1.57s\tremaining: 26m 10s\n",
      "100:\ttest: 0.4188755\tbest: 0.4188755 (100)\ttotal: 2m 40s\tremaining: 23m 47s\n",
      "200:\ttest: 0.4313861\tbest: 0.4313861 (200)\ttotal: 5m 19s\tremaining: 21m 8s\n",
      "300:\ttest: 0.4366518\tbest: 0.4366518 (300)\ttotal: 7m 56s\tremaining: 18m 27s\n",
      "400:\ttest: 0.4390964\tbest: 0.4390964 (400)\ttotal: 10m 33s\tremaining: 15m 46s\n",
      "500:\ttest: 0.4392402\tbest: 0.4392402 (500)\ttotal: 13m 10s\tremaining: 13m 7s\n",
      "600:\ttest: 0.4399586\tbest: 0.4399586 (600)\ttotal: 15m 46s\tremaining: 10m 28s\n",
      "700:\ttest: 0.4408504\tbest: 0.4408504 (700)\ttotal: 18m 22s\tremaining: 7m 50s\n",
      "800:\ttest: 0.4416652\tbest: 0.4416652 (800)\ttotal: 20m 57s\tremaining: 5m 12s\n",
      "900:\ttest: 0.4421247\tbest: 0.4421247 (900)\ttotal: 23m 33s\tremaining: 2m 35s\n",
      "999:\ttest: 0.4421688\tbest: 0.4421688 (999)\ttotal: 26m 7s\tremaining: 0us\n",
      "\n",
      "bestTest = 0.442168845\n",
      "bestIteration = 999\n",
      "\n"
     ]
    },
    {
     "name": "stderr",
     "output_type": "stream",
     "text": [
      "\u001b[32m[I 2022-04-07 17:57:36,430]\u001b[0m Trial 7 finished with value: 0.029520500164084803 and parameters: {'num_repurchase_week': 18, 'num_cooc_week': 15, 'num_train_weeks': 3, 'volume_week': 4, 'cooc_prob': 0.03663195602874758, 'transaction_dynamic_week': 8}. Best is trial 3 with value: 0.029890679271307657.\u001b[0m\n"
     ]
    },
    {
     "name": "stdout",
     "output_type": "stream",
     "text": [
      "0:\ttest: 0.2956050\tbest: 0.2956050 (0)\ttotal: 964ms\tremaining: 16m 2s\n",
      "100:\ttest: 0.4337482\tbest: 0.4337482 (100)\ttotal: 1m 39s\tremaining: 14m 48s\n",
      "200:\ttest: 0.4441468\tbest: 0.4441468 (200)\ttotal: 3m 20s\tremaining: 13m 15s\n",
      "300:\ttest: 0.4464593\tbest: 0.4464593 (300)\ttotal: 4m 58s\tremaining: 11m 33s\n",
      "400:\ttest: 0.4485591\tbest: 0.4485591 (400)\ttotal: 6m 36s\tremaining: 9m 51s\n",
      "500:\ttest: 0.4512419\tbest: 0.4512419 (500)\ttotal: 8m 13s\tremaining: 8m 11s\n",
      "600:\ttest: 0.4528325\tbest: 0.4528325 (600)\ttotal: 9m 50s\tremaining: 6m 32s\n",
      "700:\ttest: 0.4544058\tbest: 0.4544058 (700)\ttotal: 11m 27s\tremaining: 4m 53s\n",
      "800:\ttest: 0.4553221\tbest: 0.4553221 (800)\ttotal: 13m 4s\tremaining: 3m 14s\n",
      "900:\ttest: 0.4556571\tbest: 0.4556571 (900)\ttotal: 14m 40s\tremaining: 1m 36s\n",
      "999:\ttest: 0.4555970\tbest: 0.4556571 (900)\ttotal: 16m 15s\tremaining: 0us\n",
      "\n",
      "bestTest = 0.4556570544\n",
      "bestIteration = 900\n",
      "\n",
      "Shrink model to first 901 iterations.\n"
     ]
    },
    {
     "name": "stderr",
     "output_type": "stream",
     "text": [
      "\u001b[32m[I 2022-04-07 18:17:16,883]\u001b[0m Trial 8 finished with value: 0.029089912583703314 and parameters: {'num_repurchase_week': 14, 'num_cooc_week': 14, 'num_train_weeks': 3, 'volume_week': 2, 'cooc_prob': 0.04644963652680684, 'transaction_dynamic_week': 3}. Best is trial 3 with value: 0.029890679271307657.\u001b[0m\n"
     ]
    },
    {
     "name": "stdout",
     "output_type": "stream",
     "text": [
      "0:\ttest: 0.3026687\tbest: 0.3026687 (0)\ttotal: 401ms\tremaining: 6m 40s\n",
      "100:\ttest: 0.4352254\tbest: 0.4352254 (100)\ttotal: 38.7s\tremaining: 5m 44s\n",
      "200:\ttest: 0.4415849\tbest: 0.4415849 (200)\ttotal: 1m 16s\tremaining: 5m 5s\n",
      "300:\ttest: 0.4465124\tbest: 0.4465124 (300)\ttotal: 1m 54s\tremaining: 4m 26s\n",
      "400:\ttest: 0.4471722\tbest: 0.4471722 (400)\ttotal: 2m 32s\tremaining: 3m 47s\n",
      "500:\ttest: 0.4486216\tbest: 0.4486216 (500)\ttotal: 3m 9s\tremaining: 3m 9s\n",
      "600:\ttest: 0.4489374\tbest: 0.4489374 (600)\ttotal: 3m 47s\tremaining: 2m 31s\n",
      "700:\ttest: 0.4501420\tbest: 0.4501420 (700)\ttotal: 4m 24s\tremaining: 1m 52s\n",
      "800:\ttest: 0.4503562\tbest: 0.4503562 (800)\ttotal: 5m 2s\tremaining: 1m 15s\n",
      "900:\ttest: 0.4507979\tbest: 0.4507979 (900)\ttotal: 5m 39s\tremaining: 37.3s\n",
      "999:\ttest: 0.4515494\tbest: 0.4515494 (999)\ttotal: 6m 15s\tremaining: 0us\n",
      "\n",
      "bestTest = 0.4515493563\n",
      "bestIteration = 999\n",
      "\n"
     ]
    },
    {
     "name": "stderr",
     "output_type": "stream",
     "text": [
      "\u001b[32m[I 2022-04-07 18:25:41,781]\u001b[0m Trial 9 finished with value: 0.028805039894802643 and parameters: {'num_repurchase_week': 13, 'num_cooc_week': 4, 'num_train_weeks': 1, 'volume_week': 4, 'cooc_prob': 0.0473606801521671, 'transaction_dynamic_week': 7}. Best is trial 3 with value: 0.029890679271307657.\u001b[0m\n"
     ]
    },
    {
     "name": "stdout",
     "output_type": "stream",
     "text": [
      "0:\ttest: 0.2801102\tbest: 0.2801102 (0)\ttotal: 1.79s\tremaining: 29m 53s\n",
      "100:\ttest: 0.4099522\tbest: 0.4099522 (100)\ttotal: 3m 8s\tremaining: 27m 55s\n",
      "200:\ttest: 0.4206458\tbest: 0.4206458 (200)\ttotal: 6m 15s\tremaining: 24m 53s\n",
      "300:\ttest: 0.4269996\tbest: 0.4269996 (300)\ttotal: 9m 23s\tremaining: 21m 48s\n",
      "400:\ttest: 0.4294038\tbest: 0.4294038 (400)\ttotal: 12m 29s\tremaining: 18m 40s\n",
      "500:\ttest: 0.4317400\tbest: 0.4317400 (500)\ttotal: 15m 36s\tremaining: 15m 32s\n",
      "600:\ttest: 0.4328962\tbest: 0.4328962 (600)\ttotal: 18m 43s\tremaining: 12m 25s\n",
      "700:\ttest: 0.4335771\tbest: 0.4335771 (700)\ttotal: 21m 49s\tremaining: 9m 18s\n",
      "800:\ttest: 0.4337214\tbest: 0.4337214 (800)\ttotal: 24m 57s\tremaining: 6m 11s\n",
      "900:\ttest: 0.4342221\tbest: 0.4342221 (900)\ttotal: 28m 4s\tremaining: 3m 5s\n",
      "999:\ttest: 0.4349515\tbest: 0.4349515 (999)\ttotal: 31m 8s\tremaining: 0us\n",
      "\n",
      "bestTest = 0.4349514825\n",
      "bestIteration = 999\n",
      "\n"
     ]
    },
    {
     "name": "stderr",
     "output_type": "stream",
     "text": [
      "\u001b[32m[I 2022-04-07 19:00:18,169]\u001b[0m Trial 10 finished with value: 0.029507342330209012 and parameters: {'num_repurchase_week': 20, 'num_cooc_week': 12, 'num_train_weeks': 2, 'volume_week': 1, 'cooc_prob': 0.026336001453650084, 'transaction_dynamic_week': 5}. Best is trial 3 with value: 0.029890679271307657.\u001b[0m\n"
     ]
    },
    {
     "name": "stdout",
     "output_type": "stream",
     "text": [
      "0:\ttest: 0.2833683\tbest: 0.2833683 (0)\ttotal: 2.19s\tremaining: 36m 29s\n",
      "100:\ttest: 0.4190362\tbest: 0.4190362 (100)\ttotal: 3m 38s\tremaining: 32m 24s\n",
      "200:\ttest: 0.4297236\tbest: 0.4297236 (200)\ttotal: 7m 10s\tremaining: 28m 29s\n",
      "300:\ttest: 0.4338388\tbest: 0.4338388 (300)\ttotal: 10m 40s\tremaining: 24m 46s\n",
      "400:\ttest: 0.4362504\tbest: 0.4362504 (400)\ttotal: 14m 10s\tremaining: 21m 10s\n",
      "500:\ttest: 0.4377806\tbest: 0.4377806 (500)\ttotal: 17m 44s\tremaining: 17m 40s\n",
      "600:\ttest: 0.4394840\tbest: 0.4394840 (600)\ttotal: 21m 16s\tremaining: 14m 7s\n",
      "700:\ttest: 0.4400433\tbest: 0.4400433 (700)\ttotal: 24m 49s\tremaining: 10m 35s\n",
      "800:\ttest: 0.4407240\tbest: 0.4407240 (800)\ttotal: 28m 20s\tremaining: 7m 2s\n",
      "900:\ttest: 0.4418673\tbest: 0.4418673 (900)\ttotal: 31m 53s\tremaining: 3m 30s\n",
      "999:\ttest: 0.4422349\tbest: 0.4422349 (999)\ttotal: 35m 21s\tremaining: 0us\n",
      "\n",
      "bestTest = 0.4422349262\n",
      "bestIteration = 999\n",
      "\n"
     ]
    },
    {
     "name": "stderr",
     "output_type": "stream",
     "text": [
      "\u001b[32m[I 2022-04-07 19:39:53,397]\u001b[0m Trial 11 finished with value: 0.029777829294497127 and parameters: {'num_repurchase_week': 20, 'num_cooc_week': 16, 'num_train_weeks': 3, 'volume_week': 2, 'cooc_prob': 0.03279672619081458, 'transaction_dynamic_week': 8}. Best is trial 3 with value: 0.029890679271307657.\u001b[0m\n"
     ]
    },
    {
     "name": "stdout",
     "output_type": "stream",
     "text": [
      "0:\ttest: 0.2976316\tbest: 0.2976316 (0)\ttotal: 2.24s\tremaining: 37m 18s\n",
      "100:\ttest: 0.4120120\tbest: 0.4120120 (100)\ttotal: 3m 45s\tremaining: 33m 30s\n",
      "200:\ttest: 0.4239541\tbest: 0.4239541 (200)\ttotal: 7m 29s\tremaining: 29m 45s\n",
      "300:\ttest: 0.4286520\tbest: 0.4286520 (300)\ttotal: 11m 12s\tremaining: 26m\n",
      "400:\ttest: 0.4307669\tbest: 0.4307669 (400)\ttotal: 14m 54s\tremaining: 22m 16s\n",
      "500:\ttest: 0.4321392\tbest: 0.4321392 (500)\ttotal: 18m 35s\tremaining: 18m 31s\n",
      "600:\ttest: 0.4337852\tbest: 0.4337852 (600)\ttotal: 22m 16s\tremaining: 14m 47s\n",
      "700:\ttest: 0.4341522\tbest: 0.4341522 (700)\ttotal: 25m 58s\tremaining: 11m 4s\n",
      "800:\ttest: 0.4349705\tbest: 0.4349705 (800)\ttotal: 29m 40s\tremaining: 7m 22s\n",
      "900:\ttest: 0.4355723\tbest: 0.4355723 (900)\ttotal: 33m 20s\tremaining: 3m 39s\n",
      "999:\ttest: 0.4357874\tbest: 0.4357874 (999)\ttotal: 36m 59s\tremaining: 0us\n",
      "\n",
      "bestTest = 0.4357874442\n",
      "bestIteration = 999\n",
      "\n"
     ]
    },
    {
     "name": "stderr",
     "output_type": "stream",
     "text": [
      "\u001b[32m[I 2022-04-07 20:21:11,845]\u001b[0m Trial 12 finished with value: 0.02978304017441304 and parameters: {'num_repurchase_week': 20, 'num_cooc_week': 13, 'num_train_weeks': 3, 'volume_week': 2, 'cooc_prob': 0.030284041227316906, 'transaction_dynamic_week': 8}. Best is trial 3 with value: 0.029890679271307657.\u001b[0m\n"
     ]
    }
   ],
   "source": [
    "import optuna\n",
    "\n",
    "study = optuna.create_study(\n",
    "    direction='maximize',\n",
    "    study_name='cat',\n",
    ")\n",
    "study.optimize(objective, timeout=3600*5)\n",
    "study.trials_dataframe().sort_values(by='value',ascending=False).reset_index(drop=True).to_csv('cat.csv', index=False)"
   ]
  },
  {
   "cell_type": "code",
   "execution_count": 4,
   "metadata": {},
   "outputs": [],
   "source": [
    "import pickle\n",
    "with open(\"study.pkl\", 'wb') as f:\n",
    "    pickle.dump(study, f)"
   ]
  },
  {
   "cell_type": "code",
   "execution_count": 5,
   "metadata": {},
   "outputs": [
    {
     "data": {
      "application/vnd.plotly.v1+json": {
       "config": {
        "plotlyServerURL": "https://plot.ly"
       },
       "data": [
        {
         "type": "scatter",
         "xaxis": "x",
         "yaxis": "y"
        },
        {
         "colorbar": {
          "title": {
           "text": "Objective Value"
          }
         },
         "colorscale": [
          [
           0,
           "rgb(5,10,172)"
          ],
          [
           0.35,
           "rgb(40,60,190)"
          ],
          [
           0.5,
           "rgb(70,100,245)"
          ],
          [
           0.6,
           "rgb(90,120,245)"
          ],
          [
           0.7,
           "rgb(106,137,247)"
          ],
          [
           1,
           "rgb(220,220,220)"
          ]
         ],
         "connectgaps": true,
         "contours": {
          "coloring": "heatmap"
         },
         "hoverinfo": "none",
         "line": {
          "smoothing": 1.3
         },
         "reversescale": false,
         "showscale": true,
         "type": "contour",
         "x": [
          0.02040174782310375,
          0.0216855065054401,
          0.024074839925327503,
          0.026336001453650084,
          0.030284041227316906,
          0.03073031606052501,
          0.03279672619081458,
          0.03345213126172819,
          0.03545554963499757,
          0.03663195602874758,
          0.04251036406490562,
          0.044312139649449425,
          0.04644963652680684,
          0.0473606801521671,
          0.04864443883450345
         ],
         "xaxis": "x7",
         "y": [
          3.4,
          4,
          7,
          8,
          9,
          11,
          12,
          13,
          14,
          15,
          16,
          16.6
         ],
         "yaxis": "y7",
         "z": [
          [
           null,
           null,
           null,
           null,
           null,
           null,
           null,
           null,
           null,
           null,
           null,
           null,
           null,
           null,
           null
          ],
          [
           null,
           null,
           null,
           null,
           null,
           null,
           null,
           null,
           0.02863794204653312,
           null,
           0.029185713814581266,
           null,
           null,
           0.028805039894802643,
           null
          ],
          [
           null,
           null,
           0.028371243194993574,
           null,
           null,
           null,
           null,
           null,
           null,
           null,
           null,
           null,
           null,
           null,
           null
          ],
          [
           null,
           null,
           null,
           null,
           null,
           null,
           null,
           0.028928555638922562,
           null,
           null,
           null,
           null,
           null,
           null,
           null
          ],
          [
           null,
           null,
           null,
           null,
           null,
           null,
           null,
           null,
           null,
           null,
           null,
           0.028857083341249087,
           null,
           null,
           null
          ],
          [
           null,
           0.029184083144487664,
           null,
           null,
           null,
           null,
           null,
           null,
           null,
           null,
           null,
           null,
           null,
           null,
           null
          ],
          [
           null,
           null,
           null,
           0.029507342330209012,
           null,
           0.029890679271307657,
           null,
           null,
           null,
           null,
           null,
           null,
           null,
           null,
           null
          ],
          [
           null,
           null,
           null,
           null,
           0.02978304017441304,
           null,
           null,
           null,
           null,
           null,
           null,
           null,
           null,
           null,
           null
          ],
          [
           null,
           null,
           null,
           null,
           null,
           null,
           null,
           null,
           null,
           null,
           null,
           null,
           0.029089912583703314,
           null,
           null
          ],
          [
           null,
           null,
           null,
           null,
           null,
           null,
           null,
           null,
           null,
           0.029520500164084803,
           null,
           null,
           null,
           null,
           null
          ],
          [
           null,
           null,
           null,
           null,
           null,
           null,
           0.029777829294497127,
           null,
           null,
           null,
           null,
           null,
           null,
           null,
           null
          ],
          [
           null,
           null,
           null,
           null,
           null,
           null,
           null,
           null,
           null,
           null,
           null,
           null,
           null,
           null,
           null
          ]
         ]
        },
        {
         "marker": {
          "color": "black",
          "line": {
           "color": "Grey",
           "width": 0.5
          }
         },
         "mode": "markers",
         "showlegend": false,
         "type": "scatter",
         "x": [
          0.03345213126172819,
          0.03545554963499757,
          0.024074839925327503,
          0.03073031606052501,
          0.044312139649449425,
          0.0216855065054401,
          0.04251036406490562,
          0.03663195602874758,
          0.04644963652680684,
          0.0473606801521671,
          0.026336001453650084,
          0.03279672619081458,
          0.030284041227316906
         ],
         "xaxis": "x7",
         "y": [
          8,
          4,
          7,
          12,
          9,
          11,
          4,
          15,
          14,
          4,
          12,
          16,
          13
         ],
         "yaxis": "y7"
        },
        {
         "colorbar": {
          "title": {
           "text": "Objective Value"
          }
         },
         "colorscale": [
          [
           0,
           "rgb(5,10,172)"
          ],
          [
           0.35,
           "rgb(40,60,190)"
          ],
          [
           0.5,
           "rgb(70,100,245)"
          ],
          [
           0.6,
           "rgb(90,120,245)"
          ],
          [
           0.7,
           "rgb(106,137,247)"
          ],
          [
           1,
           "rgb(220,220,220)"
          ]
         ],
         "connectgaps": true,
         "contours": {
          "coloring": "heatmap"
         },
         "hoverinfo": "none",
         "line": {
          "smoothing": 1.3
         },
         "reversescale": false,
         "showscale": false,
         "type": "contour",
         "x": [
          0.02040174782310375,
          0.0216855065054401,
          0.024074839925327503,
          0.026336001453650084,
          0.030284041227316906,
          0.03073031606052501,
          0.03279672619081458,
          0.03345213126172819,
          0.03545554963499757,
          0.03663195602874758,
          0.04251036406490562,
          0.044312139649449425,
          0.04644963652680684,
          0.0473606801521671,
          0.04864443883450345
         ],
         "xaxis": "x13",
         "y": [
          7.4,
          8,
          10,
          12,
          13,
          14,
          16,
          17,
          18,
          20,
          20.6
         ],
         "yaxis": "y13",
         "z": [
          [
           null,
           null,
           null,
           null,
           null,
           null,
           null,
           null,
           null,
           null,
           null,
           null,
           null,
           null,
           null
          ],
          [
           null,
           null,
           null,
           null,
           null,
           null,
           null,
           null,
           0.02863794204653312,
           null,
           null,
           null,
           null,
           null,
           null
          ],
          [
           null,
           null,
           0.028371243194993574,
           null,
           null,
           null,
           null,
           null,
           null,
           null,
           null,
           null,
           null,
           null,
           null
          ],
          [
           null,
           null,
           null,
           null,
           null,
           null,
           null,
           0.028928555638922562,
           null,
           null,
           null,
           0.028857083341249087,
           null,
           null,
           null
          ],
          [
           null,
           null,
           null,
           null,
           null,
           null,
           null,
           null,
           null,
           null,
           null,
           null,
           null,
           0.028805039894802643,
           null
          ],
          [
           null,
           null,
           null,
           null,
           null,
           null,
           null,
           null,
           null,
           null,
           null,
           null,
           0.029089912583703314,
           null,
           null
          ],
          [
           null,
           0.029184083144487664,
           null,
           null,
           null,
           null,
           null,
           null,
           null,
           null,
           null,
           null,
           null,
           null,
           null
          ],
          [
           null,
           null,
           null,
           null,
           null,
           null,
           null,
           null,
           null,
           null,
           0.029185713814581266,
           null,
           null,
           null,
           null
          ],
          [
           null,
           null,
           null,
           null,
           null,
           null,
           null,
           null,
           null,
           0.029520500164084803,
           null,
           null,
           null,
           null,
           null
          ],
          [
           null,
           null,
           null,
           0.029507342330209012,
           0.02978304017441304,
           0.029890679271307657,
           0.029777829294497127,
           null,
           null,
           null,
           null,
           null,
           null,
           null,
           null
          ],
          [
           null,
           null,
           null,
           null,
           null,
           null,
           null,
           null,
           null,
           null,
           null,
           null,
           null,
           null,
           null
          ]
         ]
        },
        {
         "marker": {
          "color": "black",
          "line": {
           "color": "Grey",
           "width": 0.5
          }
         },
         "mode": "markers",
         "showlegend": false,
         "type": "scatter",
         "x": [
          0.03345213126172819,
          0.03545554963499757,
          0.024074839925327503,
          0.03073031606052501,
          0.044312139649449425,
          0.0216855065054401,
          0.04251036406490562,
          0.03663195602874758,
          0.04644963652680684,
          0.0473606801521671,
          0.026336001453650084,
          0.03279672619081458,
          0.030284041227316906
         ],
         "xaxis": "x13",
         "y": [
          12,
          8,
          10,
          20,
          12,
          16,
          17,
          18,
          14,
          13,
          20,
          20,
          20
         ],
         "yaxis": "y13"
        },
        {
         "colorbar": {
          "title": {
           "text": "Objective Value"
          }
         },
         "colorscale": [
          [
           0,
           "rgb(5,10,172)"
          ],
          [
           0.35,
           "rgb(40,60,190)"
          ],
          [
           0.5,
           "rgb(70,100,245)"
          ],
          [
           0.6,
           "rgb(90,120,245)"
          ],
          [
           0.7,
           "rgb(106,137,247)"
          ],
          [
           1,
           "rgb(220,220,220)"
          ]
         ],
         "connectgaps": true,
         "contours": {
          "coloring": "heatmap"
         },
         "hoverinfo": "none",
         "line": {
          "smoothing": 1.3
         },
         "reversescale": false,
         "showscale": false,
         "type": "contour",
         "x": [
          0.02040174782310375,
          0.0216855065054401,
          0.024074839925327503,
          0.026336001453650084,
          0.030284041227316906,
          0.03073031606052501,
          0.03279672619081458,
          0.03345213126172819,
          0.03545554963499757,
          0.03663195602874758,
          0.04251036406490562,
          0.044312139649449425,
          0.04644963652680684,
          0.0473606801521671,
          0.04864443883450345
         ],
         "xaxis": "x19",
         "y": [
          0.85,
          1,
          2,
          3,
          4,
          4.15
         ],
         "yaxis": "y19",
         "z": [
          [
           null,
           null,
           null,
           null,
           null,
           null,
           null,
           null,
           null,
           null,
           null,
           null,
           null,
           null,
           null
          ],
          [
           null,
           null,
           null,
           null,
           null,
           null,
           null,
           0.028928555638922562,
           null,
           null,
           0.029185713814581266,
           0.028857083341249087,
           null,
           0.028805039894802643,
           null
          ],
          [
           null,
           null,
           0.028371243194993574,
           0.029507342330209012,
           null,
           null,
           null,
           null,
           null,
           null,
           null,
           null,
           null,
           null,
           null
          ],
          [
           null,
           null,
           null,
           null,
           0.02978304017441304,
           0.029890679271307657,
           0.029777829294497127,
           null,
           null,
           0.029520500164084803,
           null,
           null,
           0.029089912583703314,
           null,
           null
          ],
          [
           null,
           0.029184083144487664,
           null,
           null,
           null,
           null,
           null,
           null,
           0.02863794204653312,
           null,
           null,
           null,
           null,
           null,
           null
          ],
          [
           null,
           null,
           null,
           null,
           null,
           null,
           null,
           null,
           null,
           null,
           null,
           null,
           null,
           null,
           null
          ]
         ]
        },
        {
         "marker": {
          "color": "black",
          "line": {
           "color": "Grey",
           "width": 0.5
          }
         },
         "mode": "markers",
         "showlegend": false,
         "type": "scatter",
         "x": [
          0.03345213126172819,
          0.03545554963499757,
          0.024074839925327503,
          0.03073031606052501,
          0.044312139649449425,
          0.0216855065054401,
          0.04251036406490562,
          0.03663195602874758,
          0.04644963652680684,
          0.0473606801521671,
          0.026336001453650084,
          0.03279672619081458,
          0.030284041227316906
         ],
         "xaxis": "x19",
         "y": [
          1,
          4,
          2,
          3,
          1,
          4,
          1,
          3,
          3,
          1,
          2,
          3,
          3
         ],
         "yaxis": "y19"
        },
        {
         "colorbar": {
          "title": {
           "text": "Objective Value"
          }
         },
         "colorscale": [
          [
           0,
           "rgb(5,10,172)"
          ],
          [
           0.35,
           "rgb(40,60,190)"
          ],
          [
           0.5,
           "rgb(70,100,245)"
          ],
          [
           0.6,
           "rgb(90,120,245)"
          ],
          [
           0.7,
           "rgb(106,137,247)"
          ],
          [
           1,
           "rgb(220,220,220)"
          ]
         ],
         "connectgaps": true,
         "contours": {
          "coloring": "heatmap"
         },
         "hoverinfo": "none",
         "line": {
          "smoothing": 1.3
         },
         "reversescale": false,
         "showscale": false,
         "type": "contour",
         "x": [
          0.02040174782310375,
          0.0216855065054401,
          0.024074839925327503,
          0.026336001453650084,
          0.030284041227316906,
          0.03073031606052501,
          0.03279672619081458,
          0.03345213126172819,
          0.03545554963499757,
          0.03663195602874758,
          0.04251036406490562,
          0.044312139649449425,
          0.04644963652680684,
          0.0473606801521671,
          0.04864443883450345
         ],
         "xaxis": "x25",
         "y": [
          0.6499999999999999,
          1,
          2,
          3,
          4,
          5,
          6,
          7,
          8,
          8.35
         ],
         "yaxis": "y25",
         "z": [
          [
           null,
           null,
           null,
           null,
           null,
           null,
           null,
           null,
           null,
           null,
           null,
           null,
           null,
           null,
           null
          ],
          [
           null,
           null,
           null,
           null,
           null,
           null,
           null,
           null,
           null,
           null,
           0.029185713814581266,
           null,
           null,
           null,
           null
          ],
          [
           null,
           0.029184083144487664,
           null,
           null,
           null,
           null,
           null,
           null,
           null,
           null,
           null,
           null,
           null,
           null,
           null
          ],
          [
           null,
           null,
           0.028371243194993574,
           null,
           null,
           null,
           null,
           null,
           null,
           null,
           null,
           null,
           0.029089912583703314,
           null,
           null
          ],
          [
           null,
           null,
           null,
           null,
           null,
           null,
           null,
           0.028928555638922562,
           null,
           null,
           null,
           null,
           null,
           null,
           null
          ],
          [
           null,
           null,
           null,
           0.029507342330209012,
           null,
           null,
           null,
           null,
           null,
           null,
           null,
           null,
           null,
           null,
           null
          ],
          [
           null,
           null,
           null,
           null,
           null,
           null,
           null,
           null,
           0.02863794204653312,
           null,
           null,
           null,
           null,
           null,
           null
          ],
          [
           null,
           null,
           null,
           null,
           null,
           0.029890679271307657,
           null,
           null,
           null,
           null,
           null,
           0.028857083341249087,
           null,
           0.028805039894802643,
           null
          ],
          [
           null,
           null,
           null,
           null,
           0.02978304017441304,
           null,
           0.029777829294497127,
           null,
           null,
           0.029520500164084803,
           null,
           null,
           null,
           null,
           null
          ],
          [
           null,
           null,
           null,
           null,
           null,
           null,
           null,
           null,
           null,
           null,
           null,
           null,
           null,
           null,
           null
          ]
         ]
        },
        {
         "marker": {
          "color": "black",
          "line": {
           "color": "Grey",
           "width": 0.5
          }
         },
         "mode": "markers",
         "showlegend": false,
         "type": "scatter",
         "x": [
          0.03345213126172819,
          0.03545554963499757,
          0.024074839925327503,
          0.03073031606052501,
          0.044312139649449425,
          0.0216855065054401,
          0.04251036406490562,
          0.03663195602874758,
          0.04644963652680684,
          0.0473606801521671,
          0.026336001453650084,
          0.03279672619081458,
          0.030284041227316906
         ],
         "xaxis": "x25",
         "y": [
          4,
          6,
          3,
          7,
          7,
          2,
          1,
          8,
          3,
          7,
          5,
          8,
          8
         ],
         "yaxis": "y25"
        },
        {
         "colorbar": {
          "title": {
           "text": "Objective Value"
          }
         },
         "colorscale": [
          [
           0,
           "rgb(5,10,172)"
          ],
          [
           0.35,
           "rgb(40,60,190)"
          ],
          [
           0.5,
           "rgb(70,100,245)"
          ],
          [
           0.6,
           "rgb(90,120,245)"
          ],
          [
           0.7,
           "rgb(106,137,247)"
          ],
          [
           1,
           "rgb(220,220,220)"
          ]
         ],
         "connectgaps": true,
         "contours": {
          "coloring": "heatmap"
         },
         "hoverinfo": "none",
         "line": {
          "smoothing": 1.3
         },
         "reversescale": false,
         "showscale": false,
         "type": "contour",
         "x": [
          0.02040174782310375,
          0.0216855065054401,
          0.024074839925327503,
          0.026336001453650084,
          0.030284041227316906,
          0.03073031606052501,
          0.03279672619081458,
          0.03345213126172819,
          0.03545554963499757,
          0.03663195602874758,
          0.04251036406490562,
          0.044312139649449425,
          0.04644963652680684,
          0.0473606801521671,
          0.04864443883450345
         ],
         "xaxis": "x31",
         "y": [
          0.85,
          1,
          2,
          3,
          4,
          4.15
         ],
         "yaxis": "y31",
         "z": [
          [
           null,
           null,
           null,
           null,
           null,
           null,
           null,
           null,
           null,
           null,
           null,
           null,
           null,
           null,
           null
          ],
          [
           null,
           null,
           null,
           0.029507342330209012,
           null,
           0.029890679271307657,
           null,
           null,
           null,
           null,
           null,
           0.028857083341249087,
           null,
           null,
           null
          ],
          [
           null,
           null,
           null,
           null,
           0.02978304017441304,
           null,
           0.029777829294497127,
           null,
           null,
           null,
           null,
           null,
           0.029089912583703314,
           null,
           null
          ],
          [
           null,
           0.029184083144487664,
           0.028371243194993574,
           null,
           null,
           null,
           null,
           0.028928555638922562,
           0.02863794204653312,
           null,
           null,
           null,
           null,
           null,
           null
          ],
          [
           null,
           null,
           null,
           null,
           null,
           null,
           null,
           null,
           null,
           0.029520500164084803,
           0.029185713814581266,
           null,
           null,
           0.028805039894802643,
           null
          ],
          [
           null,
           null,
           null,
           null,
           null,
           null,
           null,
           null,
           null,
           null,
           null,
           null,
           null,
           null,
           null
          ]
         ]
        },
        {
         "marker": {
          "color": "black",
          "line": {
           "color": "Grey",
           "width": 0.5
          }
         },
         "mode": "markers",
         "showlegend": false,
         "type": "scatter",
         "x": [
          0.03345213126172819,
          0.03545554963499757,
          0.024074839925327503,
          0.03073031606052501,
          0.044312139649449425,
          0.0216855065054401,
          0.04251036406490562,
          0.03663195602874758,
          0.04644963652680684,
          0.0473606801521671,
          0.026336001453650084,
          0.03279672619081458,
          0.030284041227316906
         ],
         "xaxis": "x31",
         "y": [
          3,
          3,
          3,
          1,
          1,
          3,
          4,
          4,
          2,
          4,
          1,
          2,
          2
         ],
         "yaxis": "y31"
        },
        {
         "colorbar": {
          "title": {
           "text": "Objective Value"
          }
         },
         "colorscale": [
          [
           0,
           "rgb(5,10,172)"
          ],
          [
           0.35,
           "rgb(40,60,190)"
          ],
          [
           0.5,
           "rgb(70,100,245)"
          ],
          [
           0.6,
           "rgb(90,120,245)"
          ],
          [
           0.7,
           "rgb(106,137,247)"
          ],
          [
           1,
           "rgb(220,220,220)"
          ]
         ],
         "connectgaps": true,
         "contours": {
          "coloring": "heatmap"
         },
         "hoverinfo": "none",
         "line": {
          "smoothing": 1.3
         },
         "reversescale": false,
         "showscale": false,
         "type": "contour",
         "x": [
          3.4,
          4,
          7,
          8,
          9,
          11,
          12,
          13,
          14,
          15,
          16,
          16.6
         ],
         "xaxis": "x2",
         "y": [
          0.02040174782310375,
          0.0216855065054401,
          0.024074839925327503,
          0.026336001453650084,
          0.030284041227316906,
          0.03073031606052501,
          0.03279672619081458,
          0.03345213126172819,
          0.03545554963499757,
          0.03663195602874758,
          0.04251036406490562,
          0.044312139649449425,
          0.04644963652680684,
          0.0473606801521671,
          0.04864443883450345
         ],
         "yaxis": "y2",
         "z": [
          [
           null,
           null,
           null,
           null,
           null,
           null,
           null,
           null,
           null,
           null,
           null,
           null
          ],
          [
           null,
           null,
           null,
           null,
           null,
           0.029184083144487664,
           null,
           null,
           null,
           null,
           null,
           null
          ],
          [
           null,
           null,
           0.028371243194993574,
           null,
           null,
           null,
           null,
           null,
           null,
           null,
           null,
           null
          ],
          [
           null,
           null,
           null,
           null,
           null,
           null,
           0.029507342330209012,
           null,
           null,
           null,
           null,
           null
          ],
          [
           null,
           null,
           null,
           null,
           null,
           null,
           null,
           0.02978304017441304,
           null,
           null,
           null,
           null
          ],
          [
           null,
           null,
           null,
           null,
           null,
           null,
           0.029890679271307657,
           null,
           null,
           null,
           null,
           null
          ],
          [
           null,
           null,
           null,
           null,
           null,
           null,
           null,
           null,
           null,
           null,
           0.029777829294497127,
           null
          ],
          [
           null,
           null,
           null,
           0.028928555638922562,
           null,
           null,
           null,
           null,
           null,
           null,
           null,
           null
          ],
          [
           null,
           0.02863794204653312,
           null,
           null,
           null,
           null,
           null,
           null,
           null,
           null,
           null,
           null
          ],
          [
           null,
           null,
           null,
           null,
           null,
           null,
           null,
           null,
           null,
           0.029520500164084803,
           null,
           null
          ],
          [
           null,
           0.029185713814581266,
           null,
           null,
           null,
           null,
           null,
           null,
           null,
           null,
           null,
           null
          ],
          [
           null,
           null,
           null,
           null,
           0.028857083341249087,
           null,
           null,
           null,
           null,
           null,
           null,
           null
          ],
          [
           null,
           null,
           null,
           null,
           null,
           null,
           null,
           null,
           0.029089912583703314,
           null,
           null,
           null
          ],
          [
           null,
           0.028805039894802643,
           null,
           null,
           null,
           null,
           null,
           null,
           null,
           null,
           null,
           null
          ],
          [
           null,
           null,
           null,
           null,
           null,
           null,
           null,
           null,
           null,
           null,
           null,
           null
          ]
         ]
        },
        {
         "marker": {
          "color": "black",
          "line": {
           "color": "Grey",
           "width": 0.5
          }
         },
         "mode": "markers",
         "showlegend": false,
         "type": "scatter",
         "x": [
          8,
          4,
          7,
          12,
          9,
          11,
          4,
          15,
          14,
          4,
          12,
          16,
          13
         ],
         "xaxis": "x2",
         "y": [
          0.03345213126172819,
          0.03545554963499757,
          0.024074839925327503,
          0.03073031606052501,
          0.044312139649449425,
          0.0216855065054401,
          0.04251036406490562,
          0.03663195602874758,
          0.04644963652680684,
          0.0473606801521671,
          0.026336001453650084,
          0.03279672619081458,
          0.030284041227316906
         ],
         "yaxis": "y2"
        },
        {
         "type": "scatter",
         "xaxis": "x8",
         "yaxis": "y8"
        },
        {
         "colorbar": {
          "title": {
           "text": "Objective Value"
          }
         },
         "colorscale": [
          [
           0,
           "rgb(5,10,172)"
          ],
          [
           0.35,
           "rgb(40,60,190)"
          ],
          [
           0.5,
           "rgb(70,100,245)"
          ],
          [
           0.6,
           "rgb(90,120,245)"
          ],
          [
           0.7,
           "rgb(106,137,247)"
          ],
          [
           1,
           "rgb(220,220,220)"
          ]
         ],
         "connectgaps": true,
         "contours": {
          "coloring": "heatmap"
         },
         "hoverinfo": "none",
         "line": {
          "smoothing": 1.3
         },
         "reversescale": false,
         "showscale": false,
         "type": "contour",
         "x": [
          3.4,
          4,
          7,
          8,
          9,
          11,
          12,
          13,
          14,
          15,
          16,
          16.6
         ],
         "xaxis": "x14",
         "y": [
          7.4,
          8,
          10,
          12,
          13,
          14,
          16,
          17,
          18,
          20,
          20.6
         ],
         "yaxis": "y14",
         "z": [
          [
           null,
           null,
           null,
           null,
           null,
           null,
           null,
           null,
           null,
           null,
           null,
           null
          ],
          [
           null,
           0.02863794204653312,
           null,
           null,
           null,
           null,
           null,
           null,
           null,
           null,
           null,
           null
          ],
          [
           null,
           null,
           0.028371243194993574,
           null,
           null,
           null,
           null,
           null,
           null,
           null,
           null,
           null
          ],
          [
           null,
           null,
           null,
           0.028928555638922562,
           0.028857083341249087,
           null,
           null,
           null,
           null,
           null,
           null,
           null
          ],
          [
           null,
           0.028805039894802643,
           null,
           null,
           null,
           null,
           null,
           null,
           null,
           null,
           null,
           null
          ],
          [
           null,
           null,
           null,
           null,
           null,
           null,
           null,
           null,
           0.029089912583703314,
           null,
           null,
           null
          ],
          [
           null,
           null,
           null,
           null,
           null,
           0.029184083144487664,
           null,
           null,
           null,
           null,
           null,
           null
          ],
          [
           null,
           0.029185713814581266,
           null,
           null,
           null,
           null,
           null,
           null,
           null,
           null,
           null,
           null
          ],
          [
           null,
           null,
           null,
           null,
           null,
           null,
           null,
           null,
           null,
           0.029520500164084803,
           null,
           null
          ],
          [
           null,
           null,
           null,
           null,
           null,
           null,
           0.029507342330209012,
           0.02978304017441304,
           null,
           null,
           0.029777829294497127,
           null
          ],
          [
           null,
           null,
           null,
           null,
           null,
           null,
           null,
           null,
           null,
           null,
           null,
           null
          ]
         ]
        },
        {
         "marker": {
          "color": "black",
          "line": {
           "color": "Grey",
           "width": 0.5
          }
         },
         "mode": "markers",
         "showlegend": false,
         "type": "scatter",
         "x": [
          8,
          4,
          7,
          12,
          9,
          11,
          4,
          15,
          14,
          4,
          12,
          16,
          13
         ],
         "xaxis": "x14",
         "y": [
          12,
          8,
          10,
          20,
          12,
          16,
          17,
          18,
          14,
          13,
          20,
          20,
          20
         ],
         "yaxis": "y14"
        },
        {
         "colorbar": {
          "title": {
           "text": "Objective Value"
          }
         },
         "colorscale": [
          [
           0,
           "rgb(5,10,172)"
          ],
          [
           0.35,
           "rgb(40,60,190)"
          ],
          [
           0.5,
           "rgb(70,100,245)"
          ],
          [
           0.6,
           "rgb(90,120,245)"
          ],
          [
           0.7,
           "rgb(106,137,247)"
          ],
          [
           1,
           "rgb(220,220,220)"
          ]
         ],
         "connectgaps": true,
         "contours": {
          "coloring": "heatmap"
         },
         "hoverinfo": "none",
         "line": {
          "smoothing": 1.3
         },
         "reversescale": false,
         "showscale": false,
         "type": "contour",
         "x": [
          3.4,
          4,
          7,
          8,
          9,
          11,
          12,
          13,
          14,
          15,
          16,
          16.6
         ],
         "xaxis": "x20",
         "y": [
          0.85,
          1,
          2,
          3,
          4,
          4.15
         ],
         "yaxis": "y20",
         "z": [
          [
           null,
           null,
           null,
           null,
           null,
           null,
           null,
           null,
           null,
           null,
           null,
           null
          ],
          [
           null,
           0.028805039894802643,
           null,
           0.028928555638922562,
           0.028857083341249087,
           null,
           null,
           null,
           null,
           null,
           null,
           null
          ],
          [
           null,
           null,
           0.028371243194993574,
           null,
           null,
           null,
           0.029507342330209012,
           null,
           null,
           null,
           null,
           null
          ],
          [
           null,
           null,
           null,
           null,
           null,
           null,
           0.029890679271307657,
           0.02978304017441304,
           0.029089912583703314,
           0.029520500164084803,
           0.029777829294497127,
           null
          ],
          [
           null,
           0.02863794204653312,
           null,
           null,
           null,
           0.029184083144487664,
           null,
           null,
           null,
           null,
           null,
           null
          ],
          [
           null,
           null,
           null,
           null,
           null,
           null,
           null,
           null,
           null,
           null,
           null,
           null
          ]
         ]
        },
        {
         "marker": {
          "color": "black",
          "line": {
           "color": "Grey",
           "width": 0.5
          }
         },
         "mode": "markers",
         "showlegend": false,
         "type": "scatter",
         "x": [
          8,
          4,
          7,
          12,
          9,
          11,
          4,
          15,
          14,
          4,
          12,
          16,
          13
         ],
         "xaxis": "x20",
         "y": [
          1,
          4,
          2,
          3,
          1,
          4,
          1,
          3,
          3,
          1,
          2,
          3,
          3
         ],
         "yaxis": "y20"
        },
        {
         "colorbar": {
          "title": {
           "text": "Objective Value"
          }
         },
         "colorscale": [
          [
           0,
           "rgb(5,10,172)"
          ],
          [
           0.35,
           "rgb(40,60,190)"
          ],
          [
           0.5,
           "rgb(70,100,245)"
          ],
          [
           0.6,
           "rgb(90,120,245)"
          ],
          [
           0.7,
           "rgb(106,137,247)"
          ],
          [
           1,
           "rgb(220,220,220)"
          ]
         ],
         "connectgaps": true,
         "contours": {
          "coloring": "heatmap"
         },
         "hoverinfo": "none",
         "line": {
          "smoothing": 1.3
         },
         "reversescale": false,
         "showscale": false,
         "type": "contour",
         "x": [
          3.4,
          4,
          7,
          8,
          9,
          11,
          12,
          13,
          14,
          15,
          16,
          16.6
         ],
         "xaxis": "x26",
         "y": [
          0.6499999999999999,
          1,
          2,
          3,
          4,
          5,
          6,
          7,
          8,
          8.35
         ],
         "yaxis": "y26",
         "z": [
          [
           null,
           null,
           null,
           null,
           null,
           null,
           null,
           null,
           null,
           null,
           null,
           null
          ],
          [
           null,
           0.029185713814581266,
           null,
           null,
           null,
           null,
           null,
           null,
           null,
           null,
           null,
           null
          ],
          [
           null,
           null,
           null,
           null,
           null,
           0.029184083144487664,
           null,
           null,
           null,
           null,
           null,
           null
          ],
          [
           null,
           null,
           0.028371243194993574,
           null,
           null,
           null,
           null,
           null,
           0.029089912583703314,
           null,
           null,
           null
          ],
          [
           null,
           null,
           null,
           0.028928555638922562,
           null,
           null,
           null,
           null,
           null,
           null,
           null,
           null
          ],
          [
           null,
           null,
           null,
           null,
           null,
           null,
           0.029507342330209012,
           null,
           null,
           null,
           null,
           null
          ],
          [
           null,
           0.02863794204653312,
           null,
           null,
           null,
           null,
           null,
           null,
           null,
           null,
           null,
           null
          ],
          [
           null,
           0.028805039894802643,
           null,
           null,
           0.028857083341249087,
           null,
           0.029890679271307657,
           null,
           null,
           null,
           null,
           null
          ],
          [
           null,
           null,
           null,
           null,
           null,
           null,
           null,
           0.02978304017441304,
           null,
           0.029520500164084803,
           0.029777829294497127,
           null
          ],
          [
           null,
           null,
           null,
           null,
           null,
           null,
           null,
           null,
           null,
           null,
           null,
           null
          ]
         ]
        },
        {
         "marker": {
          "color": "black",
          "line": {
           "color": "Grey",
           "width": 0.5
          }
         },
         "mode": "markers",
         "showlegend": false,
         "type": "scatter",
         "x": [
          8,
          4,
          7,
          12,
          9,
          11,
          4,
          15,
          14,
          4,
          12,
          16,
          13
         ],
         "xaxis": "x26",
         "y": [
          4,
          6,
          3,
          7,
          7,
          2,
          1,
          8,
          3,
          7,
          5,
          8,
          8
         ],
         "yaxis": "y26"
        },
        {
         "colorbar": {
          "title": {
           "text": "Objective Value"
          }
         },
         "colorscale": [
          [
           0,
           "rgb(5,10,172)"
          ],
          [
           0.35,
           "rgb(40,60,190)"
          ],
          [
           0.5,
           "rgb(70,100,245)"
          ],
          [
           0.6,
           "rgb(90,120,245)"
          ],
          [
           0.7,
           "rgb(106,137,247)"
          ],
          [
           1,
           "rgb(220,220,220)"
          ]
         ],
         "connectgaps": true,
         "contours": {
          "coloring": "heatmap"
         },
         "hoverinfo": "none",
         "line": {
          "smoothing": 1.3
         },
         "reversescale": false,
         "showscale": false,
         "type": "contour",
         "x": [
          3.4,
          4,
          7,
          8,
          9,
          11,
          12,
          13,
          14,
          15,
          16,
          16.6
         ],
         "xaxis": "x32",
         "y": [
          0.85,
          1,
          2,
          3,
          4,
          4.15
         ],
         "yaxis": "y32",
         "z": [
          [
           null,
           null,
           null,
           null,
           null,
           null,
           null,
           null,
           null,
           null,
           null,
           null
          ],
          [
           null,
           null,
           null,
           null,
           0.028857083341249087,
           null,
           0.029507342330209012,
           null,
           null,
           null,
           null,
           null
          ],
          [
           null,
           null,
           null,
           null,
           null,
           null,
           null,
           0.02978304017441304,
           0.029089912583703314,
           null,
           0.029777829294497127,
           null
          ],
          [
           null,
           0.02863794204653312,
           0.028371243194993574,
           0.028928555638922562,
           null,
           0.029184083144487664,
           null,
           null,
           null,
           null,
           null,
           null
          ],
          [
           null,
           0.028805039894802643,
           null,
           null,
           null,
           null,
           null,
           null,
           null,
           0.029520500164084803,
           null,
           null
          ],
          [
           null,
           null,
           null,
           null,
           null,
           null,
           null,
           null,
           null,
           null,
           null,
           null
          ]
         ]
        },
        {
         "marker": {
          "color": "black",
          "line": {
           "color": "Grey",
           "width": 0.5
          }
         },
         "mode": "markers",
         "showlegend": false,
         "type": "scatter",
         "x": [
          8,
          4,
          7,
          12,
          9,
          11,
          4,
          15,
          14,
          4,
          12,
          16,
          13
         ],
         "xaxis": "x32",
         "y": [
          3,
          3,
          3,
          1,
          1,
          3,
          4,
          4,
          2,
          4,
          1,
          2,
          2
         ],
         "yaxis": "y32"
        },
        {
         "colorbar": {
          "title": {
           "text": "Objective Value"
          }
         },
         "colorscale": [
          [
           0,
           "rgb(5,10,172)"
          ],
          [
           0.35,
           "rgb(40,60,190)"
          ],
          [
           0.5,
           "rgb(70,100,245)"
          ],
          [
           0.6,
           "rgb(90,120,245)"
          ],
          [
           0.7,
           "rgb(106,137,247)"
          ],
          [
           1,
           "rgb(220,220,220)"
          ]
         ],
         "connectgaps": true,
         "contours": {
          "coloring": "heatmap"
         },
         "hoverinfo": "none",
         "line": {
          "smoothing": 1.3
         },
         "reversescale": false,
         "showscale": false,
         "type": "contour",
         "x": [
          7.4,
          8,
          10,
          12,
          13,
          14,
          16,
          17,
          18,
          20,
          20.6
         ],
         "xaxis": "x3",
         "y": [
          0.02040174782310375,
          0.0216855065054401,
          0.024074839925327503,
          0.026336001453650084,
          0.030284041227316906,
          0.03073031606052501,
          0.03279672619081458,
          0.03345213126172819,
          0.03545554963499757,
          0.03663195602874758,
          0.04251036406490562,
          0.044312139649449425,
          0.04644963652680684,
          0.0473606801521671,
          0.04864443883450345
         ],
         "yaxis": "y3",
         "z": [
          [
           null,
           null,
           null,
           null,
           null,
           null,
           null,
           null,
           null,
           null,
           null
          ],
          [
           null,
           null,
           null,
           null,
           null,
           null,
           0.029184083144487664,
           null,
           null,
           null,
           null
          ],
          [
           null,
           null,
           0.028371243194993574,
           null,
           null,
           null,
           null,
           null,
           null,
           null,
           null
          ],
          [
           null,
           null,
           null,
           null,
           null,
           null,
           null,
           null,
           null,
           0.029507342330209012,
           null
          ],
          [
           null,
           null,
           null,
           null,
           null,
           null,
           null,
           null,
           null,
           0.02978304017441304,
           null
          ],
          [
           null,
           null,
           null,
           null,
           null,
           null,
           null,
           null,
           null,
           0.029890679271307657,
           null
          ],
          [
           null,
           null,
           null,
           null,
           null,
           null,
           null,
           null,
           null,
           0.029777829294497127,
           null
          ],
          [
           null,
           null,
           null,
           0.028928555638922562,
           null,
           null,
           null,
           null,
           null,
           null,
           null
          ],
          [
           null,
           0.02863794204653312,
           null,
           null,
           null,
           null,
           null,
           null,
           null,
           null,
           null
          ],
          [
           null,
           null,
           null,
           null,
           null,
           null,
           null,
           null,
           0.029520500164084803,
           null,
           null
          ],
          [
           null,
           null,
           null,
           null,
           null,
           null,
           null,
           0.029185713814581266,
           null,
           null,
           null
          ],
          [
           null,
           null,
           null,
           0.028857083341249087,
           null,
           null,
           null,
           null,
           null,
           null,
           null
          ],
          [
           null,
           null,
           null,
           null,
           null,
           0.029089912583703314,
           null,
           null,
           null,
           null,
           null
          ],
          [
           null,
           null,
           null,
           null,
           0.028805039894802643,
           null,
           null,
           null,
           null,
           null,
           null
          ],
          [
           null,
           null,
           null,
           null,
           null,
           null,
           null,
           null,
           null,
           null,
           null
          ]
         ]
        },
        {
         "marker": {
          "color": "black",
          "line": {
           "color": "Grey",
           "width": 0.5
          }
         },
         "mode": "markers",
         "showlegend": false,
         "type": "scatter",
         "x": [
          12,
          8,
          10,
          20,
          12,
          16,
          17,
          18,
          14,
          13,
          20,
          20,
          20
         ],
         "xaxis": "x3",
         "y": [
          0.03345213126172819,
          0.03545554963499757,
          0.024074839925327503,
          0.03073031606052501,
          0.044312139649449425,
          0.0216855065054401,
          0.04251036406490562,
          0.03663195602874758,
          0.04644963652680684,
          0.0473606801521671,
          0.026336001453650084,
          0.03279672619081458,
          0.030284041227316906
         ],
         "yaxis": "y3"
        },
        {
         "colorbar": {
          "title": {
           "text": "Objective Value"
          }
         },
         "colorscale": [
          [
           0,
           "rgb(5,10,172)"
          ],
          [
           0.35,
           "rgb(40,60,190)"
          ],
          [
           0.5,
           "rgb(70,100,245)"
          ],
          [
           0.6,
           "rgb(90,120,245)"
          ],
          [
           0.7,
           "rgb(106,137,247)"
          ],
          [
           1,
           "rgb(220,220,220)"
          ]
         ],
         "connectgaps": true,
         "contours": {
          "coloring": "heatmap"
         },
         "hoverinfo": "none",
         "line": {
          "smoothing": 1.3
         },
         "reversescale": false,
         "showscale": false,
         "type": "contour",
         "x": [
          7.4,
          8,
          10,
          12,
          13,
          14,
          16,
          17,
          18,
          20,
          20.6
         ],
         "xaxis": "x9",
         "y": [
          3.4,
          4,
          7,
          8,
          9,
          11,
          12,
          13,
          14,
          15,
          16,
          16.6
         ],
         "yaxis": "y9",
         "z": [
          [
           null,
           null,
           null,
           null,
           null,
           null,
           null,
           null,
           null,
           null,
           null
          ],
          [
           null,
           0.02863794204653312,
           null,
           null,
           0.028805039894802643,
           null,
           null,
           0.029185713814581266,
           null,
           null,
           null
          ],
          [
           null,
           null,
           0.028371243194993574,
           null,
           null,
           null,
           null,
           null,
           null,
           null,
           null
          ],
          [
           null,
           null,
           null,
           0.028928555638922562,
           null,
           null,
           null,
           null,
           null,
           null,
           null
          ],
          [
           null,
           null,
           null,
           0.028857083341249087,
           null,
           null,
           null,
           null,
           null,
           null,
           null
          ],
          [
           null,
           null,
           null,
           null,
           null,
           null,
           0.029184083144487664,
           null,
           null,
           null,
           null
          ],
          [
           null,
           null,
           null,
           null,
           null,
           null,
           null,
           null,
           null,
           0.029507342330209012,
           null
          ],
          [
           null,
           null,
           null,
           null,
           null,
           null,
           null,
           null,
           null,
           0.02978304017441304,
           null
          ],
          [
           null,
           null,
           null,
           null,
           null,
           0.029089912583703314,
           null,
           null,
           null,
           null,
           null
          ],
          [
           null,
           null,
           null,
           null,
           null,
           null,
           null,
           null,
           0.029520500164084803,
           null,
           null
          ],
          [
           null,
           null,
           null,
           null,
           null,
           null,
           null,
           null,
           null,
           0.029777829294497127,
           null
          ],
          [
           null,
           null,
           null,
           null,
           null,
           null,
           null,
           null,
           null,
           null,
           null
          ]
         ]
        },
        {
         "marker": {
          "color": "black",
          "line": {
           "color": "Grey",
           "width": 0.5
          }
         },
         "mode": "markers",
         "showlegend": false,
         "type": "scatter",
         "x": [
          12,
          8,
          10,
          20,
          12,
          16,
          17,
          18,
          14,
          13,
          20,
          20,
          20
         ],
         "xaxis": "x9",
         "y": [
          8,
          4,
          7,
          12,
          9,
          11,
          4,
          15,
          14,
          4,
          12,
          16,
          13
         ],
         "yaxis": "y9"
        },
        {
         "type": "scatter",
         "xaxis": "x15",
         "yaxis": "y15"
        },
        {
         "colorbar": {
          "title": {
           "text": "Objective Value"
          }
         },
         "colorscale": [
          [
           0,
           "rgb(5,10,172)"
          ],
          [
           0.35,
           "rgb(40,60,190)"
          ],
          [
           0.5,
           "rgb(70,100,245)"
          ],
          [
           0.6,
           "rgb(90,120,245)"
          ],
          [
           0.7,
           "rgb(106,137,247)"
          ],
          [
           1,
           "rgb(220,220,220)"
          ]
         ],
         "connectgaps": true,
         "contours": {
          "coloring": "heatmap"
         },
         "hoverinfo": "none",
         "line": {
          "smoothing": 1.3
         },
         "reversescale": false,
         "showscale": false,
         "type": "contour",
         "x": [
          7.4,
          8,
          10,
          12,
          13,
          14,
          16,
          17,
          18,
          20,
          20.6
         ],
         "xaxis": "x21",
         "y": [
          0.85,
          1,
          2,
          3,
          4,
          4.15
         ],
         "yaxis": "y21",
         "z": [
          [
           null,
           null,
           null,
           null,
           null,
           null,
           null,
           null,
           null,
           null,
           null
          ],
          [
           null,
           null,
           null,
           0.028857083341249087,
           0.028805039894802643,
           null,
           null,
           0.029185713814581266,
           null,
           null,
           null
          ],
          [
           null,
           null,
           0.028371243194993574,
           null,
           null,
           null,
           null,
           null,
           null,
           0.029507342330209012,
           null
          ],
          [
           null,
           null,
           null,
           null,
           null,
           0.029089912583703314,
           null,
           null,
           0.029520500164084803,
           0.02978304017441304,
           null
          ],
          [
           null,
           0.02863794204653312,
           null,
           null,
           null,
           null,
           0.029184083144487664,
           null,
           null,
           null,
           null
          ],
          [
           null,
           null,
           null,
           null,
           null,
           null,
           null,
           null,
           null,
           null,
           null
          ]
         ]
        },
        {
         "marker": {
          "color": "black",
          "line": {
           "color": "Grey",
           "width": 0.5
          }
         },
         "mode": "markers",
         "showlegend": false,
         "type": "scatter",
         "x": [
          12,
          8,
          10,
          20,
          12,
          16,
          17,
          18,
          14,
          13,
          20,
          20,
          20
         ],
         "xaxis": "x21",
         "y": [
          1,
          4,
          2,
          3,
          1,
          4,
          1,
          3,
          3,
          1,
          2,
          3,
          3
         ],
         "yaxis": "y21"
        },
        {
         "colorbar": {
          "title": {
           "text": "Objective Value"
          }
         },
         "colorscale": [
          [
           0,
           "rgb(5,10,172)"
          ],
          [
           0.35,
           "rgb(40,60,190)"
          ],
          [
           0.5,
           "rgb(70,100,245)"
          ],
          [
           0.6,
           "rgb(90,120,245)"
          ],
          [
           0.7,
           "rgb(106,137,247)"
          ],
          [
           1,
           "rgb(220,220,220)"
          ]
         ],
         "connectgaps": true,
         "contours": {
          "coloring": "heatmap"
         },
         "hoverinfo": "none",
         "line": {
          "smoothing": 1.3
         },
         "reversescale": false,
         "showscale": false,
         "type": "contour",
         "x": [
          7.4,
          8,
          10,
          12,
          13,
          14,
          16,
          17,
          18,
          20,
          20.6
         ],
         "xaxis": "x27",
         "y": [
          0.6499999999999999,
          1,
          2,
          3,
          4,
          5,
          6,
          7,
          8,
          8.35
         ],
         "yaxis": "y27",
         "z": [
          [
           null,
           null,
           null,
           null,
           null,
           null,
           null,
           null,
           null,
           null,
           null
          ],
          [
           null,
           null,
           null,
           null,
           null,
           null,
           null,
           0.029185713814581266,
           null,
           null,
           null
          ],
          [
           null,
           null,
           null,
           null,
           null,
           null,
           0.029184083144487664,
           null,
           null,
           null,
           null
          ],
          [
           null,
           null,
           0.028371243194993574,
           null,
           null,
           0.029089912583703314,
           null,
           null,
           null,
           null,
           null
          ],
          [
           null,
           null,
           null,
           0.028928555638922562,
           null,
           null,
           null,
           null,
           null,
           null,
           null
          ],
          [
           null,
           null,
           null,
           null,
           null,
           null,
           null,
           null,
           null,
           0.029507342330209012,
           null
          ],
          [
           null,
           0.02863794204653312,
           null,
           null,
           null,
           null,
           null,
           null,
           null,
           null,
           null
          ],
          [
           null,
           null,
           null,
           0.028857083341249087,
           0.028805039894802643,
           null,
           null,
           null,
           null,
           0.029890679271307657,
           null
          ],
          [
           null,
           null,
           null,
           null,
           null,
           null,
           null,
           null,
           0.029520500164084803,
           0.02978304017441304,
           null
          ],
          [
           null,
           null,
           null,
           null,
           null,
           null,
           null,
           null,
           null,
           null,
           null
          ]
         ]
        },
        {
         "marker": {
          "color": "black",
          "line": {
           "color": "Grey",
           "width": 0.5
          }
         },
         "mode": "markers",
         "showlegend": false,
         "type": "scatter",
         "x": [
          12,
          8,
          10,
          20,
          12,
          16,
          17,
          18,
          14,
          13,
          20,
          20,
          20
         ],
         "xaxis": "x27",
         "y": [
          4,
          6,
          3,
          7,
          7,
          2,
          1,
          8,
          3,
          7,
          5,
          8,
          8
         ],
         "yaxis": "y27"
        },
        {
         "colorbar": {
          "title": {
           "text": "Objective Value"
          }
         },
         "colorscale": [
          [
           0,
           "rgb(5,10,172)"
          ],
          [
           0.35,
           "rgb(40,60,190)"
          ],
          [
           0.5,
           "rgb(70,100,245)"
          ],
          [
           0.6,
           "rgb(90,120,245)"
          ],
          [
           0.7,
           "rgb(106,137,247)"
          ],
          [
           1,
           "rgb(220,220,220)"
          ]
         ],
         "connectgaps": true,
         "contours": {
          "coloring": "heatmap"
         },
         "hoverinfo": "none",
         "line": {
          "smoothing": 1.3
         },
         "reversescale": false,
         "showscale": false,
         "type": "contour",
         "x": [
          7.4,
          8,
          10,
          12,
          13,
          14,
          16,
          17,
          18,
          20,
          20.6
         ],
         "xaxis": "x33",
         "y": [
          0.85,
          1,
          2,
          3,
          4,
          4.15
         ],
         "yaxis": "y33",
         "z": [
          [
           null,
           null,
           null,
           null,
           null,
           null,
           null,
           null,
           null,
           null,
           null
          ],
          [
           null,
           null,
           null,
           0.028857083341249087,
           null,
           null,
           null,
           null,
           null,
           0.029507342330209012,
           null
          ],
          [
           null,
           null,
           null,
           null,
           null,
           0.029089912583703314,
           null,
           null,
           null,
           0.02978304017441304,
           null
          ],
          [
           null,
           0.02863794204653312,
           0.028371243194993574,
           0.028928555638922562,
           null,
           null,
           0.029184083144487664,
           null,
           null,
           null,
           null
          ],
          [
           null,
           null,
           null,
           null,
           0.028805039894802643,
           null,
           null,
           0.029185713814581266,
           0.029520500164084803,
           null,
           null
          ],
          [
           null,
           null,
           null,
           null,
           null,
           null,
           null,
           null,
           null,
           null,
           null
          ]
         ]
        },
        {
         "marker": {
          "color": "black",
          "line": {
           "color": "Grey",
           "width": 0.5
          }
         },
         "mode": "markers",
         "showlegend": false,
         "type": "scatter",
         "x": [
          12,
          8,
          10,
          20,
          12,
          16,
          17,
          18,
          14,
          13,
          20,
          20,
          20
         ],
         "xaxis": "x33",
         "y": [
          3,
          3,
          3,
          1,
          1,
          3,
          4,
          4,
          2,
          4,
          1,
          2,
          2
         ],
         "yaxis": "y33"
        },
        {
         "colorbar": {
          "title": {
           "text": "Objective Value"
          }
         },
         "colorscale": [
          [
           0,
           "rgb(5,10,172)"
          ],
          [
           0.35,
           "rgb(40,60,190)"
          ],
          [
           0.5,
           "rgb(70,100,245)"
          ],
          [
           0.6,
           "rgb(90,120,245)"
          ],
          [
           0.7,
           "rgb(106,137,247)"
          ],
          [
           1,
           "rgb(220,220,220)"
          ]
         ],
         "connectgaps": true,
         "contours": {
          "coloring": "heatmap"
         },
         "hoverinfo": "none",
         "line": {
          "smoothing": 1.3
         },
         "reversescale": false,
         "showscale": false,
         "type": "contour",
         "x": [
          0.85,
          1,
          2,
          3,
          4,
          4.15
         ],
         "xaxis": "x4",
         "y": [
          0.02040174782310375,
          0.0216855065054401,
          0.024074839925327503,
          0.026336001453650084,
          0.030284041227316906,
          0.03073031606052501,
          0.03279672619081458,
          0.03345213126172819,
          0.03545554963499757,
          0.03663195602874758,
          0.04251036406490562,
          0.044312139649449425,
          0.04644963652680684,
          0.0473606801521671,
          0.04864443883450345
         ],
         "yaxis": "y4",
         "z": [
          [
           null,
           null,
           null,
           null,
           null,
           null
          ],
          [
           null,
           null,
           null,
           null,
           0.029184083144487664,
           null
          ],
          [
           null,
           null,
           0.028371243194993574,
           null,
           null,
           null
          ],
          [
           null,
           null,
           0.029507342330209012,
           null,
           null,
           null
          ],
          [
           null,
           null,
           null,
           0.02978304017441304,
           null,
           null
          ],
          [
           null,
           null,
           null,
           0.029890679271307657,
           null,
           null
          ],
          [
           null,
           null,
           null,
           0.029777829294497127,
           null,
           null
          ],
          [
           null,
           0.028928555638922562,
           null,
           null,
           null,
           null
          ],
          [
           null,
           null,
           null,
           null,
           0.02863794204653312,
           null
          ],
          [
           null,
           null,
           null,
           0.029520500164084803,
           null,
           null
          ],
          [
           null,
           0.029185713814581266,
           null,
           null,
           null,
           null
          ],
          [
           null,
           0.028857083341249087,
           null,
           null,
           null,
           null
          ],
          [
           null,
           null,
           null,
           0.029089912583703314,
           null,
           null
          ],
          [
           null,
           0.028805039894802643,
           null,
           null,
           null,
           null
          ],
          [
           null,
           null,
           null,
           null,
           null,
           null
          ]
         ]
        },
        {
         "marker": {
          "color": "black",
          "line": {
           "color": "Grey",
           "width": 0.5
          }
         },
         "mode": "markers",
         "showlegend": false,
         "type": "scatter",
         "x": [
          1,
          4,
          2,
          3,
          1,
          4,
          1,
          3,
          3,
          1,
          2,
          3,
          3
         ],
         "xaxis": "x4",
         "y": [
          0.03345213126172819,
          0.03545554963499757,
          0.024074839925327503,
          0.03073031606052501,
          0.044312139649449425,
          0.0216855065054401,
          0.04251036406490562,
          0.03663195602874758,
          0.04644963652680684,
          0.0473606801521671,
          0.026336001453650084,
          0.03279672619081458,
          0.030284041227316906
         ],
         "yaxis": "y4"
        },
        {
         "colorbar": {
          "title": {
           "text": "Objective Value"
          }
         },
         "colorscale": [
          [
           0,
           "rgb(5,10,172)"
          ],
          [
           0.35,
           "rgb(40,60,190)"
          ],
          [
           0.5,
           "rgb(70,100,245)"
          ],
          [
           0.6,
           "rgb(90,120,245)"
          ],
          [
           0.7,
           "rgb(106,137,247)"
          ],
          [
           1,
           "rgb(220,220,220)"
          ]
         ],
         "connectgaps": true,
         "contours": {
          "coloring": "heatmap"
         },
         "hoverinfo": "none",
         "line": {
          "smoothing": 1.3
         },
         "reversescale": false,
         "showscale": false,
         "type": "contour",
         "x": [
          0.85,
          1,
          2,
          3,
          4,
          4.15
         ],
         "xaxis": "x10",
         "y": [
          3.4,
          4,
          7,
          8,
          9,
          11,
          12,
          13,
          14,
          15,
          16,
          16.6
         ],
         "yaxis": "y10",
         "z": [
          [
           null,
           null,
           null,
           null,
           null,
           null
          ],
          [
           null,
           0.028805039894802643,
           null,
           null,
           0.02863794204653312,
           null
          ],
          [
           null,
           null,
           0.028371243194993574,
           null,
           null,
           null
          ],
          [
           null,
           0.028928555638922562,
           null,
           null,
           null,
           null
          ],
          [
           null,
           0.028857083341249087,
           null,
           null,
           null,
           null
          ],
          [
           null,
           null,
           null,
           null,
           0.029184083144487664,
           null
          ],
          [
           null,
           null,
           0.029507342330209012,
           0.029890679271307657,
           null,
           null
          ],
          [
           null,
           null,
           null,
           0.02978304017441304,
           null,
           null
          ],
          [
           null,
           null,
           null,
           0.029089912583703314,
           null,
           null
          ],
          [
           null,
           null,
           null,
           0.029520500164084803,
           null,
           null
          ],
          [
           null,
           null,
           null,
           0.029777829294497127,
           null,
           null
          ],
          [
           null,
           null,
           null,
           null,
           null,
           null
          ]
         ]
        },
        {
         "marker": {
          "color": "black",
          "line": {
           "color": "Grey",
           "width": 0.5
          }
         },
         "mode": "markers",
         "showlegend": false,
         "type": "scatter",
         "x": [
          1,
          4,
          2,
          3,
          1,
          4,
          1,
          3,
          3,
          1,
          2,
          3,
          3
         ],
         "xaxis": "x10",
         "y": [
          8,
          4,
          7,
          12,
          9,
          11,
          4,
          15,
          14,
          4,
          12,
          16,
          13
         ],
         "yaxis": "y10"
        },
        {
         "colorbar": {
          "title": {
           "text": "Objective Value"
          }
         },
         "colorscale": [
          [
           0,
           "rgb(5,10,172)"
          ],
          [
           0.35,
           "rgb(40,60,190)"
          ],
          [
           0.5,
           "rgb(70,100,245)"
          ],
          [
           0.6,
           "rgb(90,120,245)"
          ],
          [
           0.7,
           "rgb(106,137,247)"
          ],
          [
           1,
           "rgb(220,220,220)"
          ]
         ],
         "connectgaps": true,
         "contours": {
          "coloring": "heatmap"
         },
         "hoverinfo": "none",
         "line": {
          "smoothing": 1.3
         },
         "reversescale": false,
         "showscale": false,
         "type": "contour",
         "x": [
          0.85,
          1,
          2,
          3,
          4,
          4.15
         ],
         "xaxis": "x16",
         "y": [
          7.4,
          8,
          10,
          12,
          13,
          14,
          16,
          17,
          18,
          20,
          20.6
         ],
         "yaxis": "y16",
         "z": [
          [
           null,
           null,
           null,
           null,
           null,
           null
          ],
          [
           null,
           null,
           null,
           null,
           0.02863794204653312,
           null
          ],
          [
           null,
           null,
           0.028371243194993574,
           null,
           null,
           null
          ],
          [
           null,
           0.028857083341249087,
           null,
           null,
           null,
           null
          ],
          [
           null,
           0.028805039894802643,
           null,
           null,
           null,
           null
          ],
          [
           null,
           null,
           null,
           0.029089912583703314,
           null,
           null
          ],
          [
           null,
           null,
           null,
           null,
           0.029184083144487664,
           null
          ],
          [
           null,
           0.029185713814581266,
           null,
           null,
           null,
           null
          ],
          [
           null,
           null,
           null,
           0.029520500164084803,
           null,
           null
          ],
          [
           null,
           null,
           0.029507342330209012,
           0.02978304017441304,
           null,
           null
          ],
          [
           null,
           null,
           null,
           null,
           null,
           null
          ]
         ]
        },
        {
         "marker": {
          "color": "black",
          "line": {
           "color": "Grey",
           "width": 0.5
          }
         },
         "mode": "markers",
         "showlegend": false,
         "type": "scatter",
         "x": [
          1,
          4,
          2,
          3,
          1,
          4,
          1,
          3,
          3,
          1,
          2,
          3,
          3
         ],
         "xaxis": "x16",
         "y": [
          12,
          8,
          10,
          20,
          12,
          16,
          17,
          18,
          14,
          13,
          20,
          20,
          20
         ],
         "yaxis": "y16"
        },
        {
         "type": "scatter",
         "xaxis": "x22",
         "yaxis": "y22"
        },
        {
         "colorbar": {
          "title": {
           "text": "Objective Value"
          }
         },
         "colorscale": [
          [
           0,
           "rgb(5,10,172)"
          ],
          [
           0.35,
           "rgb(40,60,190)"
          ],
          [
           0.5,
           "rgb(70,100,245)"
          ],
          [
           0.6,
           "rgb(90,120,245)"
          ],
          [
           0.7,
           "rgb(106,137,247)"
          ],
          [
           1,
           "rgb(220,220,220)"
          ]
         ],
         "connectgaps": true,
         "contours": {
          "coloring": "heatmap"
         },
         "hoverinfo": "none",
         "line": {
          "smoothing": 1.3
         },
         "reversescale": false,
         "showscale": false,
         "type": "contour",
         "x": [
          0.85,
          1,
          2,
          3,
          4,
          4.15
         ],
         "xaxis": "x28",
         "y": [
          0.6499999999999999,
          1,
          2,
          3,
          4,
          5,
          6,
          7,
          8,
          8.35
         ],
         "yaxis": "y28",
         "z": [
          [
           null,
           null,
           null,
           null,
           null,
           null
          ],
          [
           null,
           0.029185713814581266,
           null,
           null,
           null,
           null
          ],
          [
           null,
           null,
           null,
           null,
           0.029184083144487664,
           null
          ],
          [
           null,
           null,
           0.028371243194993574,
           0.029089912583703314,
           null,
           null
          ],
          [
           null,
           0.028928555638922562,
           null,
           null,
           null,
           null
          ],
          [
           null,
           null,
           0.029507342330209012,
           null,
           null,
           null
          ],
          [
           null,
           null,
           null,
           null,
           0.02863794204653312,
           null
          ],
          [
           null,
           0.028805039894802643,
           null,
           0.029890679271307657,
           null,
           null
          ],
          [
           null,
           null,
           null,
           0.02978304017441304,
           null,
           null
          ],
          [
           null,
           null,
           null,
           null,
           null,
           null
          ]
         ]
        },
        {
         "marker": {
          "color": "black",
          "line": {
           "color": "Grey",
           "width": 0.5
          }
         },
         "mode": "markers",
         "showlegend": false,
         "type": "scatter",
         "x": [
          1,
          4,
          2,
          3,
          1,
          4,
          1,
          3,
          3,
          1,
          2,
          3,
          3
         ],
         "xaxis": "x28",
         "y": [
          4,
          6,
          3,
          7,
          7,
          2,
          1,
          8,
          3,
          7,
          5,
          8,
          8
         ],
         "yaxis": "y28"
        },
        {
         "colorbar": {
          "title": {
           "text": "Objective Value"
          }
         },
         "colorscale": [
          [
           0,
           "rgb(5,10,172)"
          ],
          [
           0.35,
           "rgb(40,60,190)"
          ],
          [
           0.5,
           "rgb(70,100,245)"
          ],
          [
           0.6,
           "rgb(90,120,245)"
          ],
          [
           0.7,
           "rgb(106,137,247)"
          ],
          [
           1,
           "rgb(220,220,220)"
          ]
         ],
         "connectgaps": true,
         "contours": {
          "coloring": "heatmap"
         },
         "hoverinfo": "none",
         "line": {
          "smoothing": 1.3
         },
         "reversescale": false,
         "showscale": false,
         "type": "contour",
         "x": [
          0.85,
          1,
          2,
          3,
          4,
          4.15
         ],
         "xaxis": "x34",
         "y": [
          0.85,
          1,
          2,
          3,
          4,
          4.15
         ],
         "yaxis": "y34",
         "z": [
          [
           null,
           null,
           null,
           null,
           null,
           null
          ],
          [
           null,
           0.028857083341249087,
           0.029507342330209012,
           0.029890679271307657,
           null,
           null
          ],
          [
           null,
           null,
           null,
           0.02978304017441304,
           null,
           null
          ],
          [
           null,
           0.028928555638922562,
           0.028371243194993574,
           null,
           0.029184083144487664,
           null
          ],
          [
           null,
           0.028805039894802643,
           null,
           0.029520500164084803,
           null,
           null
          ],
          [
           null,
           null,
           null,
           null,
           null,
           null
          ]
         ]
        },
        {
         "marker": {
          "color": "black",
          "line": {
           "color": "Grey",
           "width": 0.5
          }
         },
         "mode": "markers",
         "showlegend": false,
         "type": "scatter",
         "x": [
          1,
          4,
          2,
          3,
          1,
          4,
          1,
          3,
          3,
          1,
          2,
          3,
          3
         ],
         "xaxis": "x34",
         "y": [
          3,
          3,
          3,
          1,
          1,
          3,
          4,
          4,
          2,
          4,
          1,
          2,
          2
         ],
         "yaxis": "y34"
        },
        {
         "colorbar": {
          "title": {
           "text": "Objective Value"
          }
         },
         "colorscale": [
          [
           0,
           "rgb(5,10,172)"
          ],
          [
           0.35,
           "rgb(40,60,190)"
          ],
          [
           0.5,
           "rgb(70,100,245)"
          ],
          [
           0.6,
           "rgb(90,120,245)"
          ],
          [
           0.7,
           "rgb(106,137,247)"
          ],
          [
           1,
           "rgb(220,220,220)"
          ]
         ],
         "connectgaps": true,
         "contours": {
          "coloring": "heatmap"
         },
         "hoverinfo": "none",
         "line": {
          "smoothing": 1.3
         },
         "reversescale": false,
         "showscale": false,
         "type": "contour",
         "x": [
          0.6499999999999999,
          1,
          2,
          3,
          4,
          5,
          6,
          7,
          8,
          8.35
         ],
         "xaxis": "x5",
         "y": [
          0.02040174782310375,
          0.0216855065054401,
          0.024074839925327503,
          0.026336001453650084,
          0.030284041227316906,
          0.03073031606052501,
          0.03279672619081458,
          0.03345213126172819,
          0.03545554963499757,
          0.03663195602874758,
          0.04251036406490562,
          0.044312139649449425,
          0.04644963652680684,
          0.0473606801521671,
          0.04864443883450345
         ],
         "yaxis": "y5",
         "z": [
          [
           null,
           null,
           null,
           null,
           null,
           null,
           null,
           null,
           null,
           null
          ],
          [
           null,
           null,
           0.029184083144487664,
           null,
           null,
           null,
           null,
           null,
           null,
           null
          ],
          [
           null,
           null,
           null,
           0.028371243194993574,
           null,
           null,
           null,
           null,
           null,
           null
          ],
          [
           null,
           null,
           null,
           null,
           null,
           0.029507342330209012,
           null,
           null,
           null,
           null
          ],
          [
           null,
           null,
           null,
           null,
           null,
           null,
           null,
           null,
           0.02978304017441304,
           null
          ],
          [
           null,
           null,
           null,
           null,
           null,
           null,
           null,
           0.029890679271307657,
           null,
           null
          ],
          [
           null,
           null,
           null,
           null,
           null,
           null,
           null,
           null,
           0.029777829294497127,
           null
          ],
          [
           null,
           null,
           null,
           null,
           0.028928555638922562,
           null,
           null,
           null,
           null,
           null
          ],
          [
           null,
           null,
           null,
           null,
           null,
           null,
           0.02863794204653312,
           null,
           null,
           null
          ],
          [
           null,
           null,
           null,
           null,
           null,
           null,
           null,
           null,
           0.029520500164084803,
           null
          ],
          [
           null,
           0.029185713814581266,
           null,
           null,
           null,
           null,
           null,
           null,
           null,
           null
          ],
          [
           null,
           null,
           null,
           null,
           null,
           null,
           null,
           0.028857083341249087,
           null,
           null
          ],
          [
           null,
           null,
           null,
           0.029089912583703314,
           null,
           null,
           null,
           null,
           null,
           null
          ],
          [
           null,
           null,
           null,
           null,
           null,
           null,
           null,
           0.028805039894802643,
           null,
           null
          ],
          [
           null,
           null,
           null,
           null,
           null,
           null,
           null,
           null,
           null,
           null
          ]
         ]
        },
        {
         "marker": {
          "color": "black",
          "line": {
           "color": "Grey",
           "width": 0.5
          }
         },
         "mode": "markers",
         "showlegend": false,
         "type": "scatter",
         "x": [
          4,
          6,
          3,
          7,
          7,
          2,
          1,
          8,
          3,
          7,
          5,
          8,
          8
         ],
         "xaxis": "x5",
         "y": [
          0.03345213126172819,
          0.03545554963499757,
          0.024074839925327503,
          0.03073031606052501,
          0.044312139649449425,
          0.0216855065054401,
          0.04251036406490562,
          0.03663195602874758,
          0.04644963652680684,
          0.0473606801521671,
          0.026336001453650084,
          0.03279672619081458,
          0.030284041227316906
         ],
         "yaxis": "y5"
        },
        {
         "colorbar": {
          "title": {
           "text": "Objective Value"
          }
         },
         "colorscale": [
          [
           0,
           "rgb(5,10,172)"
          ],
          [
           0.35,
           "rgb(40,60,190)"
          ],
          [
           0.5,
           "rgb(70,100,245)"
          ],
          [
           0.6,
           "rgb(90,120,245)"
          ],
          [
           0.7,
           "rgb(106,137,247)"
          ],
          [
           1,
           "rgb(220,220,220)"
          ]
         ],
         "connectgaps": true,
         "contours": {
          "coloring": "heatmap"
         },
         "hoverinfo": "none",
         "line": {
          "smoothing": 1.3
         },
         "reversescale": false,
         "showscale": false,
         "type": "contour",
         "x": [
          0.6499999999999999,
          1,
          2,
          3,
          4,
          5,
          6,
          7,
          8,
          8.35
         ],
         "xaxis": "x11",
         "y": [
          3.4,
          4,
          7,
          8,
          9,
          11,
          12,
          13,
          14,
          15,
          16,
          16.6
         ],
         "yaxis": "y11",
         "z": [
          [
           null,
           null,
           null,
           null,
           null,
           null,
           null,
           null,
           null,
           null
          ],
          [
           null,
           0.029185713814581266,
           null,
           null,
           null,
           null,
           0.02863794204653312,
           0.028805039894802643,
           null,
           null
          ],
          [
           null,
           null,
           null,
           0.028371243194993574,
           null,
           null,
           null,
           null,
           null,
           null
          ],
          [
           null,
           null,
           null,
           null,
           0.028928555638922562,
           null,
           null,
           null,
           null,
           null
          ],
          [
           null,
           null,
           null,
           null,
           null,
           null,
           null,
           0.028857083341249087,
           null,
           null
          ],
          [
           null,
           null,
           0.029184083144487664,
           null,
           null,
           null,
           null,
           null,
           null,
           null
          ],
          [
           null,
           null,
           null,
           null,
           null,
           0.029507342330209012,
           null,
           0.029890679271307657,
           null,
           null
          ],
          [
           null,
           null,
           null,
           null,
           null,
           null,
           null,
           null,
           0.02978304017441304,
           null
          ],
          [
           null,
           null,
           null,
           0.029089912583703314,
           null,
           null,
           null,
           null,
           null,
           null
          ],
          [
           null,
           null,
           null,
           null,
           null,
           null,
           null,
           null,
           0.029520500164084803,
           null
          ],
          [
           null,
           null,
           null,
           null,
           null,
           null,
           null,
           null,
           0.029777829294497127,
           null
          ],
          [
           null,
           null,
           null,
           null,
           null,
           null,
           null,
           null,
           null,
           null
          ]
         ]
        },
        {
         "marker": {
          "color": "black",
          "line": {
           "color": "Grey",
           "width": 0.5
          }
         },
         "mode": "markers",
         "showlegend": false,
         "type": "scatter",
         "x": [
          4,
          6,
          3,
          7,
          7,
          2,
          1,
          8,
          3,
          7,
          5,
          8,
          8
         ],
         "xaxis": "x11",
         "y": [
          8,
          4,
          7,
          12,
          9,
          11,
          4,
          15,
          14,
          4,
          12,
          16,
          13
         ],
         "yaxis": "y11"
        },
        {
         "colorbar": {
          "title": {
           "text": "Objective Value"
          }
         },
         "colorscale": [
          [
           0,
           "rgb(5,10,172)"
          ],
          [
           0.35,
           "rgb(40,60,190)"
          ],
          [
           0.5,
           "rgb(70,100,245)"
          ],
          [
           0.6,
           "rgb(90,120,245)"
          ],
          [
           0.7,
           "rgb(106,137,247)"
          ],
          [
           1,
           "rgb(220,220,220)"
          ]
         ],
         "connectgaps": true,
         "contours": {
          "coloring": "heatmap"
         },
         "hoverinfo": "none",
         "line": {
          "smoothing": 1.3
         },
         "reversescale": false,
         "showscale": false,
         "type": "contour",
         "x": [
          0.6499999999999999,
          1,
          2,
          3,
          4,
          5,
          6,
          7,
          8,
          8.35
         ],
         "xaxis": "x17",
         "y": [
          7.4,
          8,
          10,
          12,
          13,
          14,
          16,
          17,
          18,
          20,
          20.6
         ],
         "yaxis": "y17",
         "z": [
          [
           null,
           null,
           null,
           null,
           null,
           null,
           null,
           null,
           null,
           null
          ],
          [
           null,
           null,
           null,
           null,
           null,
           null,
           0.02863794204653312,
           null,
           null,
           null
          ],
          [
           null,
           null,
           null,
           0.028371243194993574,
           null,
           null,
           null,
           null,
           null,
           null
          ],
          [
           null,
           null,
           null,
           null,
           0.028928555638922562,
           null,
           null,
           0.028857083341249087,
           null,
           null
          ],
          [
           null,
           null,
           null,
           null,
           null,
           null,
           null,
           0.028805039894802643,
           null,
           null
          ],
          [
           null,
           null,
           null,
           0.029089912583703314,
           null,
           null,
           null,
           null,
           null,
           null
          ],
          [
           null,
           null,
           0.029184083144487664,
           null,
           null,
           null,
           null,
           null,
           null,
           null
          ],
          [
           null,
           0.029185713814581266,
           null,
           null,
           null,
           null,
           null,
           null,
           null,
           null
          ],
          [
           null,
           null,
           null,
           null,
           null,
           null,
           null,
           null,
           0.029520500164084803,
           null
          ],
          [
           null,
           null,
           null,
           null,
           null,
           0.029507342330209012,
           null,
           0.029890679271307657,
           0.02978304017441304,
           null
          ],
          [
           null,
           null,
           null,
           null,
           null,
           null,
           null,
           null,
           null,
           null
          ]
         ]
        },
        {
         "marker": {
          "color": "black",
          "line": {
           "color": "Grey",
           "width": 0.5
          }
         },
         "mode": "markers",
         "showlegend": false,
         "type": "scatter",
         "x": [
          4,
          6,
          3,
          7,
          7,
          2,
          1,
          8,
          3,
          7,
          5,
          8,
          8
         ],
         "xaxis": "x17",
         "y": [
          12,
          8,
          10,
          20,
          12,
          16,
          17,
          18,
          14,
          13,
          20,
          20,
          20
         ],
         "yaxis": "y17"
        },
        {
         "colorbar": {
          "title": {
           "text": "Objective Value"
          }
         },
         "colorscale": [
          [
           0,
           "rgb(5,10,172)"
          ],
          [
           0.35,
           "rgb(40,60,190)"
          ],
          [
           0.5,
           "rgb(70,100,245)"
          ],
          [
           0.6,
           "rgb(90,120,245)"
          ],
          [
           0.7,
           "rgb(106,137,247)"
          ],
          [
           1,
           "rgb(220,220,220)"
          ]
         ],
         "connectgaps": true,
         "contours": {
          "coloring": "heatmap"
         },
         "hoverinfo": "none",
         "line": {
          "smoothing": 1.3
         },
         "reversescale": false,
         "showscale": false,
         "type": "contour",
         "x": [
          0.6499999999999999,
          1,
          2,
          3,
          4,
          5,
          6,
          7,
          8,
          8.35
         ],
         "xaxis": "x23",
         "y": [
          0.85,
          1,
          2,
          3,
          4,
          4.15
         ],
         "yaxis": "y23",
         "z": [
          [
           null,
           null,
           null,
           null,
           null,
           null,
           null,
           null,
           null,
           null
          ],
          [
           null,
           0.029185713814581266,
           null,
           null,
           0.028928555638922562,
           null,
           null,
           0.028805039894802643,
           null,
           null
          ],
          [
           null,
           null,
           null,
           0.028371243194993574,
           null,
           0.029507342330209012,
           null,
           null,
           null,
           null
          ],
          [
           null,
           null,
           null,
           0.029089912583703314,
           null,
           null,
           null,
           0.029890679271307657,
           0.02978304017441304,
           null
          ],
          [
           null,
           null,
           0.029184083144487664,
           null,
           null,
           null,
           0.02863794204653312,
           null,
           null,
           null
          ],
          [
           null,
           null,
           null,
           null,
           null,
           null,
           null,
           null,
           null,
           null
          ]
         ]
        },
        {
         "marker": {
          "color": "black",
          "line": {
           "color": "Grey",
           "width": 0.5
          }
         },
         "mode": "markers",
         "showlegend": false,
         "type": "scatter",
         "x": [
          4,
          6,
          3,
          7,
          7,
          2,
          1,
          8,
          3,
          7,
          5,
          8,
          8
         ],
         "xaxis": "x23",
         "y": [
          1,
          4,
          2,
          3,
          1,
          4,
          1,
          3,
          3,
          1,
          2,
          3,
          3
         ],
         "yaxis": "y23"
        },
        {
         "type": "scatter",
         "xaxis": "x29",
         "yaxis": "y29"
        },
        {
         "colorbar": {
          "title": {
           "text": "Objective Value"
          }
         },
         "colorscale": [
          [
           0,
           "rgb(5,10,172)"
          ],
          [
           0.35,
           "rgb(40,60,190)"
          ],
          [
           0.5,
           "rgb(70,100,245)"
          ],
          [
           0.6,
           "rgb(90,120,245)"
          ],
          [
           0.7,
           "rgb(106,137,247)"
          ],
          [
           1,
           "rgb(220,220,220)"
          ]
         ],
         "connectgaps": true,
         "contours": {
          "coloring": "heatmap"
         },
         "hoverinfo": "none",
         "line": {
          "smoothing": 1.3
         },
         "reversescale": false,
         "showscale": false,
         "type": "contour",
         "x": [
          0.6499999999999999,
          1,
          2,
          3,
          4,
          5,
          6,
          7,
          8,
          8.35
         ],
         "xaxis": "x35",
         "y": [
          0.85,
          1,
          2,
          3,
          4,
          4.15
         ],
         "yaxis": "y35",
         "z": [
          [
           null,
           null,
           null,
           null,
           null,
           null,
           null,
           null,
           null,
           null
          ],
          [
           null,
           null,
           null,
           null,
           null,
           0.029507342330209012,
           null,
           0.028857083341249087,
           null,
           null
          ],
          [
           null,
           null,
           null,
           0.029089912583703314,
           null,
           null,
           null,
           null,
           0.02978304017441304,
           null
          ],
          [
           null,
           null,
           0.029184083144487664,
           0.028371243194993574,
           0.028928555638922562,
           null,
           0.02863794204653312,
           null,
           null,
           null
          ],
          [
           null,
           0.029185713814581266,
           null,
           null,
           null,
           null,
           null,
           0.028805039894802643,
           0.029520500164084803,
           null
          ],
          [
           null,
           null,
           null,
           null,
           null,
           null,
           null,
           null,
           null,
           null
          ]
         ]
        },
        {
         "marker": {
          "color": "black",
          "line": {
           "color": "Grey",
           "width": 0.5
          }
         },
         "mode": "markers",
         "showlegend": false,
         "type": "scatter",
         "x": [
          4,
          6,
          3,
          7,
          7,
          2,
          1,
          8,
          3,
          7,
          5,
          8,
          8
         ],
         "xaxis": "x35",
         "y": [
          3,
          3,
          3,
          1,
          1,
          3,
          4,
          4,
          2,
          4,
          1,
          2,
          2
         ],
         "yaxis": "y35"
        },
        {
         "colorbar": {
          "title": {
           "text": "Objective Value"
          }
         },
         "colorscale": [
          [
           0,
           "rgb(5,10,172)"
          ],
          [
           0.35,
           "rgb(40,60,190)"
          ],
          [
           0.5,
           "rgb(70,100,245)"
          ],
          [
           0.6,
           "rgb(90,120,245)"
          ],
          [
           0.7,
           "rgb(106,137,247)"
          ],
          [
           1,
           "rgb(220,220,220)"
          ]
         ],
         "connectgaps": true,
         "contours": {
          "coloring": "heatmap"
         },
         "hoverinfo": "none",
         "line": {
          "smoothing": 1.3
         },
         "reversescale": false,
         "showscale": false,
         "type": "contour",
         "x": [
          0.85,
          1,
          2,
          3,
          4,
          4.15
         ],
         "xaxis": "x6",
         "y": [
          0.02040174782310375,
          0.0216855065054401,
          0.024074839925327503,
          0.026336001453650084,
          0.030284041227316906,
          0.03073031606052501,
          0.03279672619081458,
          0.03345213126172819,
          0.03545554963499757,
          0.03663195602874758,
          0.04251036406490562,
          0.044312139649449425,
          0.04644963652680684,
          0.0473606801521671,
          0.04864443883450345
         ],
         "yaxis": "y6",
         "z": [
          [
           null,
           null,
           null,
           null,
           null,
           null
          ],
          [
           null,
           null,
           null,
           0.029184083144487664,
           null,
           null
          ],
          [
           null,
           null,
           null,
           0.028371243194993574,
           null,
           null
          ],
          [
           null,
           0.029507342330209012,
           null,
           null,
           null,
           null
          ],
          [
           null,
           null,
           0.02978304017441304,
           null,
           null,
           null
          ],
          [
           null,
           0.029890679271307657,
           null,
           null,
           null,
           null
          ],
          [
           null,
           null,
           0.029777829294497127,
           null,
           null,
           null
          ],
          [
           null,
           null,
           null,
           0.028928555638922562,
           null,
           null
          ],
          [
           null,
           null,
           null,
           0.02863794204653312,
           null,
           null
          ],
          [
           null,
           null,
           null,
           null,
           0.029520500164084803,
           null
          ],
          [
           null,
           null,
           null,
           null,
           0.029185713814581266,
           null
          ],
          [
           null,
           0.028857083341249087,
           null,
           null,
           null,
           null
          ],
          [
           null,
           null,
           0.029089912583703314,
           null,
           null,
           null
          ],
          [
           null,
           null,
           null,
           null,
           0.028805039894802643,
           null
          ],
          [
           null,
           null,
           null,
           null,
           null,
           null
          ]
         ]
        },
        {
         "marker": {
          "color": "black",
          "line": {
           "color": "Grey",
           "width": 0.5
          }
         },
         "mode": "markers",
         "showlegend": false,
         "type": "scatter",
         "x": [
          3,
          3,
          3,
          1,
          1,
          3,
          4,
          4,
          2,
          4,
          1,
          2,
          2
         ],
         "xaxis": "x6",
         "y": [
          0.03345213126172819,
          0.03545554963499757,
          0.024074839925327503,
          0.03073031606052501,
          0.044312139649449425,
          0.0216855065054401,
          0.04251036406490562,
          0.03663195602874758,
          0.04644963652680684,
          0.0473606801521671,
          0.026336001453650084,
          0.03279672619081458,
          0.030284041227316906
         ],
         "yaxis": "y6"
        },
        {
         "colorbar": {
          "title": {
           "text": "Objective Value"
          }
         },
         "colorscale": [
          [
           0,
           "rgb(5,10,172)"
          ],
          [
           0.35,
           "rgb(40,60,190)"
          ],
          [
           0.5,
           "rgb(70,100,245)"
          ],
          [
           0.6,
           "rgb(90,120,245)"
          ],
          [
           0.7,
           "rgb(106,137,247)"
          ],
          [
           1,
           "rgb(220,220,220)"
          ]
         ],
         "connectgaps": true,
         "contours": {
          "coloring": "heatmap"
         },
         "hoverinfo": "none",
         "line": {
          "smoothing": 1.3
         },
         "reversescale": false,
         "showscale": false,
         "type": "contour",
         "x": [
          0.85,
          1,
          2,
          3,
          4,
          4.15
         ],
         "xaxis": "x12",
         "y": [
          3.4,
          4,
          7,
          8,
          9,
          11,
          12,
          13,
          14,
          15,
          16,
          16.6
         ],
         "yaxis": "y12",
         "z": [
          [
           null,
           null,
           null,
           null,
           null,
           null
          ],
          [
           null,
           null,
           null,
           0.02863794204653312,
           0.028805039894802643,
           null
          ],
          [
           null,
           null,
           null,
           0.028371243194993574,
           null,
           null
          ],
          [
           null,
           null,
           null,
           0.028928555638922562,
           null,
           null
          ],
          [
           null,
           0.028857083341249087,
           null,
           null,
           null,
           null
          ],
          [
           null,
           null,
           null,
           0.029184083144487664,
           null,
           null
          ],
          [
           null,
           0.029507342330209012,
           null,
           null,
           null,
           null
          ],
          [
           null,
           null,
           0.02978304017441304,
           null,
           null,
           null
          ],
          [
           null,
           null,
           0.029089912583703314,
           null,
           null,
           null
          ],
          [
           null,
           null,
           null,
           null,
           0.029520500164084803,
           null
          ],
          [
           null,
           null,
           0.029777829294497127,
           null,
           null,
           null
          ],
          [
           null,
           null,
           null,
           null,
           null,
           null
          ]
         ]
        },
        {
         "marker": {
          "color": "black",
          "line": {
           "color": "Grey",
           "width": 0.5
          }
         },
         "mode": "markers",
         "showlegend": false,
         "type": "scatter",
         "x": [
          3,
          3,
          3,
          1,
          1,
          3,
          4,
          4,
          2,
          4,
          1,
          2,
          2
         ],
         "xaxis": "x12",
         "y": [
          8,
          4,
          7,
          12,
          9,
          11,
          4,
          15,
          14,
          4,
          12,
          16,
          13
         ],
         "yaxis": "y12"
        },
        {
         "colorbar": {
          "title": {
           "text": "Objective Value"
          }
         },
         "colorscale": [
          [
           0,
           "rgb(5,10,172)"
          ],
          [
           0.35,
           "rgb(40,60,190)"
          ],
          [
           0.5,
           "rgb(70,100,245)"
          ],
          [
           0.6,
           "rgb(90,120,245)"
          ],
          [
           0.7,
           "rgb(106,137,247)"
          ],
          [
           1,
           "rgb(220,220,220)"
          ]
         ],
         "connectgaps": true,
         "contours": {
          "coloring": "heatmap"
         },
         "hoverinfo": "none",
         "line": {
          "smoothing": 1.3
         },
         "reversescale": false,
         "showscale": false,
         "type": "contour",
         "x": [
          0.85,
          1,
          2,
          3,
          4,
          4.15
         ],
         "xaxis": "x18",
         "y": [
          7.4,
          8,
          10,
          12,
          13,
          14,
          16,
          17,
          18,
          20,
          20.6
         ],
         "yaxis": "y18",
         "z": [
          [
           null,
           null,
           null,
           null,
           null,
           null
          ],
          [
           null,
           null,
           null,
           0.02863794204653312,
           null,
           null
          ],
          [
           null,
           null,
           null,
           0.028371243194993574,
           null,
           null
          ],
          [
           null,
           0.028857083341249087,
           null,
           0.028928555638922562,
           null,
           null
          ],
          [
           null,
           null,
           null,
           null,
           0.028805039894802643,
           null
          ],
          [
           null,
           null,
           0.029089912583703314,
           null,
           null,
           null
          ],
          [
           null,
           null,
           null,
           0.029184083144487664,
           null,
           null
          ],
          [
           null,
           null,
           null,
           null,
           0.029185713814581266,
           null
          ],
          [
           null,
           null,
           null,
           null,
           0.029520500164084803,
           null
          ],
          [
           null,
           0.029507342330209012,
           0.02978304017441304,
           null,
           null,
           null
          ],
          [
           null,
           null,
           null,
           null,
           null,
           null
          ]
         ]
        },
        {
         "marker": {
          "color": "black",
          "line": {
           "color": "Grey",
           "width": 0.5
          }
         },
         "mode": "markers",
         "showlegend": false,
         "type": "scatter",
         "x": [
          3,
          3,
          3,
          1,
          1,
          3,
          4,
          4,
          2,
          4,
          1,
          2,
          2
         ],
         "xaxis": "x18",
         "y": [
          12,
          8,
          10,
          20,
          12,
          16,
          17,
          18,
          14,
          13,
          20,
          20,
          20
         ],
         "yaxis": "y18"
        },
        {
         "colorbar": {
          "title": {
           "text": "Objective Value"
          }
         },
         "colorscale": [
          [
           0,
           "rgb(5,10,172)"
          ],
          [
           0.35,
           "rgb(40,60,190)"
          ],
          [
           0.5,
           "rgb(70,100,245)"
          ],
          [
           0.6,
           "rgb(90,120,245)"
          ],
          [
           0.7,
           "rgb(106,137,247)"
          ],
          [
           1,
           "rgb(220,220,220)"
          ]
         ],
         "connectgaps": true,
         "contours": {
          "coloring": "heatmap"
         },
         "hoverinfo": "none",
         "line": {
          "smoothing": 1.3
         },
         "reversescale": false,
         "showscale": false,
         "type": "contour",
         "x": [
          0.85,
          1,
          2,
          3,
          4,
          4.15
         ],
         "xaxis": "x24",
         "y": [
          0.85,
          1,
          2,
          3,
          4,
          4.15
         ],
         "yaxis": "y24",
         "z": [
          [
           null,
           null,
           null,
           null,
           null,
           null
          ],
          [
           null,
           0.028857083341249087,
           null,
           0.028928555638922562,
           0.028805039894802643,
           null
          ],
          [
           null,
           0.029507342330209012,
           null,
           0.028371243194993574,
           null,
           null
          ],
          [
           null,
           0.029890679271307657,
           0.02978304017441304,
           null,
           0.029520500164084803,
           null
          ],
          [
           null,
           null,
           null,
           0.029184083144487664,
           null,
           null
          ],
          [
           null,
           null,
           null,
           null,
           null,
           null
          ]
         ]
        },
        {
         "marker": {
          "color": "black",
          "line": {
           "color": "Grey",
           "width": 0.5
          }
         },
         "mode": "markers",
         "showlegend": false,
         "type": "scatter",
         "x": [
          3,
          3,
          3,
          1,
          1,
          3,
          4,
          4,
          2,
          4,
          1,
          2,
          2
         ],
         "xaxis": "x24",
         "y": [
          1,
          4,
          2,
          3,
          1,
          4,
          1,
          3,
          3,
          1,
          2,
          3,
          3
         ],
         "yaxis": "y24"
        },
        {
         "colorbar": {
          "title": {
           "text": "Objective Value"
          }
         },
         "colorscale": [
          [
           0,
           "rgb(5,10,172)"
          ],
          [
           0.35,
           "rgb(40,60,190)"
          ],
          [
           0.5,
           "rgb(70,100,245)"
          ],
          [
           0.6,
           "rgb(90,120,245)"
          ],
          [
           0.7,
           "rgb(106,137,247)"
          ],
          [
           1,
           "rgb(220,220,220)"
          ]
         ],
         "connectgaps": true,
         "contours": {
          "coloring": "heatmap"
         },
         "hoverinfo": "none",
         "line": {
          "smoothing": 1.3
         },
         "reversescale": false,
         "showscale": false,
         "type": "contour",
         "x": [
          0.85,
          1,
          2,
          3,
          4,
          4.15
         ],
         "xaxis": "x30",
         "y": [
          0.6499999999999999,
          1,
          2,
          3,
          4,
          5,
          6,
          7,
          8,
          8.35
         ],
         "yaxis": "y30",
         "z": [
          [
           null,
           null,
           null,
           null,
           null,
           null
          ],
          [
           null,
           null,
           null,
           null,
           0.029185713814581266,
           null
          ],
          [
           null,
           null,
           null,
           0.029184083144487664,
           null,
           null
          ],
          [
           null,
           null,
           0.029089912583703314,
           0.028371243194993574,
           null,
           null
          ],
          [
           null,
           null,
           null,
           0.028928555638922562,
           null,
           null
          ],
          [
           null,
           0.029507342330209012,
           null,
           null,
           null,
           null
          ],
          [
           null,
           null,
           null,
           0.02863794204653312,
           null,
           null
          ],
          [
           null,
           0.028857083341249087,
           null,
           null,
           0.028805039894802643,
           null
          ],
          [
           null,
           null,
           0.02978304017441304,
           null,
           0.029520500164084803,
           null
          ],
          [
           null,
           null,
           null,
           null,
           null,
           null
          ]
         ]
        },
        {
         "marker": {
          "color": "black",
          "line": {
           "color": "Grey",
           "width": 0.5
          }
         },
         "mode": "markers",
         "showlegend": false,
         "type": "scatter",
         "x": [
          3,
          3,
          3,
          1,
          1,
          3,
          4,
          4,
          2,
          4,
          1,
          2,
          2
         ],
         "xaxis": "x30",
         "y": [
          4,
          6,
          3,
          7,
          7,
          2,
          1,
          8,
          3,
          7,
          5,
          8,
          8
         ],
         "yaxis": "y30"
        },
        {
         "type": "scatter",
         "xaxis": "x36",
         "yaxis": "y36"
        }
       ],
       "layout": {
        "template": {
         "data": {
          "bar": [
           {
            "error_x": {
             "color": "#2a3f5f"
            },
            "error_y": {
             "color": "#2a3f5f"
            },
            "marker": {
             "line": {
              "color": "#E5ECF6",
              "width": 0.5
             },
             "pattern": {
              "fillmode": "overlay",
              "size": 10,
              "solidity": 0.2
             }
            },
            "type": "bar"
           }
          ],
          "barpolar": [
           {
            "marker": {
             "line": {
              "color": "#E5ECF6",
              "width": 0.5
             },
             "pattern": {
              "fillmode": "overlay",
              "size": 10,
              "solidity": 0.2
             }
            },
            "type": "barpolar"
           }
          ],
          "carpet": [
           {
            "aaxis": {
             "endlinecolor": "#2a3f5f",
             "gridcolor": "white",
             "linecolor": "white",
             "minorgridcolor": "white",
             "startlinecolor": "#2a3f5f"
            },
            "baxis": {
             "endlinecolor": "#2a3f5f",
             "gridcolor": "white",
             "linecolor": "white",
             "minorgridcolor": "white",
             "startlinecolor": "#2a3f5f"
            },
            "type": "carpet"
           }
          ],
          "choropleth": [
           {
            "colorbar": {
             "outlinewidth": 0,
             "ticks": ""
            },
            "type": "choropleth"
           }
          ],
          "contour": [
           {
            "colorbar": {
             "outlinewidth": 0,
             "ticks": ""
            },
            "colorscale": [
             [
              0,
              "#0d0887"
             ],
             [
              0.1111111111111111,
              "#46039f"
             ],
             [
              0.2222222222222222,
              "#7201a8"
             ],
             [
              0.3333333333333333,
              "#9c179e"
             ],
             [
              0.4444444444444444,
              "#bd3786"
             ],
             [
              0.5555555555555556,
              "#d8576b"
             ],
             [
              0.6666666666666666,
              "#ed7953"
             ],
             [
              0.7777777777777778,
              "#fb9f3a"
             ],
             [
              0.8888888888888888,
              "#fdca26"
             ],
             [
              1,
              "#f0f921"
             ]
            ],
            "type": "contour"
           }
          ],
          "contourcarpet": [
           {
            "colorbar": {
             "outlinewidth": 0,
             "ticks": ""
            },
            "type": "contourcarpet"
           }
          ],
          "heatmap": [
           {
            "colorbar": {
             "outlinewidth": 0,
             "ticks": ""
            },
            "colorscale": [
             [
              0,
              "#0d0887"
             ],
             [
              0.1111111111111111,
              "#46039f"
             ],
             [
              0.2222222222222222,
              "#7201a8"
             ],
             [
              0.3333333333333333,
              "#9c179e"
             ],
             [
              0.4444444444444444,
              "#bd3786"
             ],
             [
              0.5555555555555556,
              "#d8576b"
             ],
             [
              0.6666666666666666,
              "#ed7953"
             ],
             [
              0.7777777777777778,
              "#fb9f3a"
             ],
             [
              0.8888888888888888,
              "#fdca26"
             ],
             [
              1,
              "#f0f921"
             ]
            ],
            "type": "heatmap"
           }
          ],
          "heatmapgl": [
           {
            "colorbar": {
             "outlinewidth": 0,
             "ticks": ""
            },
            "colorscale": [
             [
              0,
              "#0d0887"
             ],
             [
              0.1111111111111111,
              "#46039f"
             ],
             [
              0.2222222222222222,
              "#7201a8"
             ],
             [
              0.3333333333333333,
              "#9c179e"
             ],
             [
              0.4444444444444444,
              "#bd3786"
             ],
             [
              0.5555555555555556,
              "#d8576b"
             ],
             [
              0.6666666666666666,
              "#ed7953"
             ],
             [
              0.7777777777777778,
              "#fb9f3a"
             ],
             [
              0.8888888888888888,
              "#fdca26"
             ],
             [
              1,
              "#f0f921"
             ]
            ],
            "type": "heatmapgl"
           }
          ],
          "histogram": [
           {
            "marker": {
             "pattern": {
              "fillmode": "overlay",
              "size": 10,
              "solidity": 0.2
             }
            },
            "type": "histogram"
           }
          ],
          "histogram2d": [
           {
            "colorbar": {
             "outlinewidth": 0,
             "ticks": ""
            },
            "colorscale": [
             [
              0,
              "#0d0887"
             ],
             [
              0.1111111111111111,
              "#46039f"
             ],
             [
              0.2222222222222222,
              "#7201a8"
             ],
             [
              0.3333333333333333,
              "#9c179e"
             ],
             [
              0.4444444444444444,
              "#bd3786"
             ],
             [
              0.5555555555555556,
              "#d8576b"
             ],
             [
              0.6666666666666666,
              "#ed7953"
             ],
             [
              0.7777777777777778,
              "#fb9f3a"
             ],
             [
              0.8888888888888888,
              "#fdca26"
             ],
             [
              1,
              "#f0f921"
             ]
            ],
            "type": "histogram2d"
           }
          ],
          "histogram2dcontour": [
           {
            "colorbar": {
             "outlinewidth": 0,
             "ticks": ""
            },
            "colorscale": [
             [
              0,
              "#0d0887"
             ],
             [
              0.1111111111111111,
              "#46039f"
             ],
             [
              0.2222222222222222,
              "#7201a8"
             ],
             [
              0.3333333333333333,
              "#9c179e"
             ],
             [
              0.4444444444444444,
              "#bd3786"
             ],
             [
              0.5555555555555556,
              "#d8576b"
             ],
             [
              0.6666666666666666,
              "#ed7953"
             ],
             [
              0.7777777777777778,
              "#fb9f3a"
             ],
             [
              0.8888888888888888,
              "#fdca26"
             ],
             [
              1,
              "#f0f921"
             ]
            ],
            "type": "histogram2dcontour"
           }
          ],
          "mesh3d": [
           {
            "colorbar": {
             "outlinewidth": 0,
             "ticks": ""
            },
            "type": "mesh3d"
           }
          ],
          "parcoords": [
           {
            "line": {
             "colorbar": {
              "outlinewidth": 0,
              "ticks": ""
             }
            },
            "type": "parcoords"
           }
          ],
          "pie": [
           {
            "automargin": true,
            "type": "pie"
           }
          ],
          "scatter": [
           {
            "fillpattern": {
             "fillmode": "overlay",
             "size": 10,
             "solidity": 0.2
            },
            "type": "scatter"
           }
          ],
          "scatter3d": [
           {
            "line": {
             "colorbar": {
              "outlinewidth": 0,
              "ticks": ""
             }
            },
            "marker": {
             "colorbar": {
              "outlinewidth": 0,
              "ticks": ""
             }
            },
            "type": "scatter3d"
           }
          ],
          "scattercarpet": [
           {
            "marker": {
             "colorbar": {
              "outlinewidth": 0,
              "ticks": ""
             }
            },
            "type": "scattercarpet"
           }
          ],
          "scattergeo": [
           {
            "marker": {
             "colorbar": {
              "outlinewidth": 0,
              "ticks": ""
             }
            },
            "type": "scattergeo"
           }
          ],
          "scattergl": [
           {
            "marker": {
             "colorbar": {
              "outlinewidth": 0,
              "ticks": ""
             }
            },
            "type": "scattergl"
           }
          ],
          "scattermapbox": [
           {
            "marker": {
             "colorbar": {
              "outlinewidth": 0,
              "ticks": ""
             }
            },
            "type": "scattermapbox"
           }
          ],
          "scatterpolar": [
           {
            "marker": {
             "colorbar": {
              "outlinewidth": 0,
              "ticks": ""
             }
            },
            "type": "scatterpolar"
           }
          ],
          "scatterpolargl": [
           {
            "marker": {
             "colorbar": {
              "outlinewidth": 0,
              "ticks": ""
             }
            },
            "type": "scatterpolargl"
           }
          ],
          "scatterternary": [
           {
            "marker": {
             "colorbar": {
              "outlinewidth": 0,
              "ticks": ""
             }
            },
            "type": "scatterternary"
           }
          ],
          "surface": [
           {
            "colorbar": {
             "outlinewidth": 0,
             "ticks": ""
            },
            "colorscale": [
             [
              0,
              "#0d0887"
             ],
             [
              0.1111111111111111,
              "#46039f"
             ],
             [
              0.2222222222222222,
              "#7201a8"
             ],
             [
              0.3333333333333333,
              "#9c179e"
             ],
             [
              0.4444444444444444,
              "#bd3786"
             ],
             [
              0.5555555555555556,
              "#d8576b"
             ],
             [
              0.6666666666666666,
              "#ed7953"
             ],
             [
              0.7777777777777778,
              "#fb9f3a"
             ],
             [
              0.8888888888888888,
              "#fdca26"
             ],
             [
              1,
              "#f0f921"
             ]
            ],
            "type": "surface"
           }
          ],
          "table": [
           {
            "cells": {
             "fill": {
              "color": "#EBF0F8"
             },
             "line": {
              "color": "white"
             }
            },
            "header": {
             "fill": {
              "color": "#C8D4E3"
             },
             "line": {
              "color": "white"
             }
            },
            "type": "table"
           }
          ]
         },
         "layout": {
          "annotationdefaults": {
           "arrowcolor": "#2a3f5f",
           "arrowhead": 0,
           "arrowwidth": 1
          },
          "autotypenumbers": "strict",
          "coloraxis": {
           "colorbar": {
            "outlinewidth": 0,
            "ticks": ""
           }
          },
          "colorscale": {
           "diverging": [
            [
             0,
             "#8e0152"
            ],
            [
             0.1,
             "#c51b7d"
            ],
            [
             0.2,
             "#de77ae"
            ],
            [
             0.3,
             "#f1b6da"
            ],
            [
             0.4,
             "#fde0ef"
            ],
            [
             0.5,
             "#f7f7f7"
            ],
            [
             0.6,
             "#e6f5d0"
            ],
            [
             0.7,
             "#b8e186"
            ],
            [
             0.8,
             "#7fbc41"
            ],
            [
             0.9,
             "#4d9221"
            ],
            [
             1,
             "#276419"
            ]
           ],
           "sequential": [
            [
             0,
             "#0d0887"
            ],
            [
             0.1111111111111111,
             "#46039f"
            ],
            [
             0.2222222222222222,
             "#7201a8"
            ],
            [
             0.3333333333333333,
             "#9c179e"
            ],
            [
             0.4444444444444444,
             "#bd3786"
            ],
            [
             0.5555555555555556,
             "#d8576b"
            ],
            [
             0.6666666666666666,
             "#ed7953"
            ],
            [
             0.7777777777777778,
             "#fb9f3a"
            ],
            [
             0.8888888888888888,
             "#fdca26"
            ],
            [
             1,
             "#f0f921"
            ]
           ],
           "sequentialminus": [
            [
             0,
             "#0d0887"
            ],
            [
             0.1111111111111111,
             "#46039f"
            ],
            [
             0.2222222222222222,
             "#7201a8"
            ],
            [
             0.3333333333333333,
             "#9c179e"
            ],
            [
             0.4444444444444444,
             "#bd3786"
            ],
            [
             0.5555555555555556,
             "#d8576b"
            ],
            [
             0.6666666666666666,
             "#ed7953"
            ],
            [
             0.7777777777777778,
             "#fb9f3a"
            ],
            [
             0.8888888888888888,
             "#fdca26"
            ],
            [
             1,
             "#f0f921"
            ]
           ]
          },
          "colorway": [
           "#636efa",
           "#EF553B",
           "#00cc96",
           "#ab63fa",
           "#FFA15A",
           "#19d3f3",
           "#FF6692",
           "#B6E880",
           "#FF97FF",
           "#FECB52"
          ],
          "font": {
           "color": "#2a3f5f"
          },
          "geo": {
           "bgcolor": "white",
           "lakecolor": "white",
           "landcolor": "#E5ECF6",
           "showlakes": true,
           "showland": true,
           "subunitcolor": "white"
          },
          "hoverlabel": {
           "align": "left"
          },
          "hovermode": "closest",
          "mapbox": {
           "style": "light"
          },
          "paper_bgcolor": "white",
          "plot_bgcolor": "#E5ECF6",
          "polar": {
           "angularaxis": {
            "gridcolor": "white",
            "linecolor": "white",
            "ticks": ""
           },
           "bgcolor": "#E5ECF6",
           "radialaxis": {
            "gridcolor": "white",
            "linecolor": "white",
            "ticks": ""
           }
          },
          "scene": {
           "xaxis": {
            "backgroundcolor": "#E5ECF6",
            "gridcolor": "white",
            "gridwidth": 2,
            "linecolor": "white",
            "showbackground": true,
            "ticks": "",
            "zerolinecolor": "white"
           },
           "yaxis": {
            "backgroundcolor": "#E5ECF6",
            "gridcolor": "white",
            "gridwidth": 2,
            "linecolor": "white",
            "showbackground": true,
            "ticks": "",
            "zerolinecolor": "white"
           },
           "zaxis": {
            "backgroundcolor": "#E5ECF6",
            "gridcolor": "white",
            "gridwidth": 2,
            "linecolor": "white",
            "showbackground": true,
            "ticks": "",
            "zerolinecolor": "white"
           }
          },
          "shapedefaults": {
           "line": {
            "color": "#2a3f5f"
           }
          },
          "ternary": {
           "aaxis": {
            "gridcolor": "white",
            "linecolor": "white",
            "ticks": ""
           },
           "baxis": {
            "gridcolor": "white",
            "linecolor": "white",
            "ticks": ""
           },
           "bgcolor": "#E5ECF6",
           "caxis": {
            "gridcolor": "white",
            "linecolor": "white",
            "ticks": ""
           }
          },
          "title": {
           "x": 0.05
          },
          "xaxis": {
           "automargin": true,
           "gridcolor": "white",
           "linecolor": "white",
           "ticks": "",
           "title": {
            "standoff": 15
           },
           "zerolinecolor": "white",
           "zerolinewidth": 2
          },
          "yaxis": {
           "automargin": true,
           "gridcolor": "white",
           "linecolor": "white",
           "ticks": "",
           "title": {
            "standoff": 15
           },
           "zerolinecolor": "white",
           "zerolinewidth": 2
          }
         }
        },
        "title": {
         "text": "Contour Plot"
        },
        "xaxis": {
         "anchor": "y",
         "domain": [
          0,
          0.1388888888888889
         ],
         "matches": "x31",
         "range": [
          0.02040174782310375,
          0.04864443883450345
         ],
         "showticklabels": false
        },
        "xaxis10": {
         "anchor": "y10",
         "domain": [
          0.5166666666666667,
          0.6555555555555557
         ],
         "matches": "x34",
         "range": [
          0.85,
          4.15
         ],
         "showticklabels": false
        },
        "xaxis11": {
         "anchor": "y11",
         "domain": [
          0.6888888888888889,
          0.8277777777777777
         ],
         "matches": "x35",
         "range": [
          0.6499999999999999,
          8.35
         ],
         "showticklabels": false
        },
        "xaxis12": {
         "anchor": "y12",
         "domain": [
          0.861111111111111,
          1
         ],
         "matches": "x36",
         "range": [
          0.85,
          4.15
         ],
         "showticklabels": false
        },
        "xaxis13": {
         "anchor": "y13",
         "domain": [
          0,
          0.1388888888888889
         ],
         "matches": "x31",
         "range": [
          0.02040174782310375,
          0.04864443883450345
         ],
         "showticklabels": false
        },
        "xaxis14": {
         "anchor": "y14",
         "domain": [
          0.17222222222222222,
          0.3111111111111111
         ],
         "matches": "x32",
         "range": [
          3.4,
          16.6
         ],
         "showticklabels": false
        },
        "xaxis15": {
         "anchor": "y15",
         "domain": [
          0.34444444444444444,
          0.48333333333333334
         ],
         "matches": "x33",
         "range": [
          7.4,
          20.6
         ],
         "showticklabels": false
        },
        "xaxis16": {
         "anchor": "y16",
         "domain": [
          0.5166666666666667,
          0.6555555555555557
         ],
         "matches": "x34",
         "range": [
          0.85,
          4.15
         ],
         "showticklabels": false
        },
        "xaxis17": {
         "anchor": "y17",
         "domain": [
          0.6888888888888889,
          0.8277777777777777
         ],
         "matches": "x35",
         "range": [
          0.6499999999999999,
          8.35
         ],
         "showticklabels": false
        },
        "xaxis18": {
         "anchor": "y18",
         "domain": [
          0.861111111111111,
          1
         ],
         "matches": "x36",
         "range": [
          0.85,
          4.15
         ],
         "showticklabels": false
        },
        "xaxis19": {
         "anchor": "y19",
         "domain": [
          0,
          0.1388888888888889
         ],
         "matches": "x31",
         "range": [
          0.02040174782310375,
          0.04864443883450345
         ],
         "showticklabels": false
        },
        "xaxis2": {
         "anchor": "y2",
         "domain": [
          0.17222222222222222,
          0.3111111111111111
         ],
         "matches": "x32",
         "range": [
          3.4,
          16.6
         ],
         "showticklabels": false
        },
        "xaxis20": {
         "anchor": "y20",
         "domain": [
          0.17222222222222222,
          0.3111111111111111
         ],
         "matches": "x32",
         "range": [
          3.4,
          16.6
         ],
         "showticklabels": false
        },
        "xaxis21": {
         "anchor": "y21",
         "domain": [
          0.34444444444444444,
          0.48333333333333334
         ],
         "matches": "x33",
         "range": [
          7.4,
          20.6
         ],
         "showticklabels": false
        },
        "xaxis22": {
         "anchor": "y22",
         "domain": [
          0.5166666666666667,
          0.6555555555555557
         ],
         "matches": "x34",
         "range": [
          0.85,
          4.15
         ],
         "showticklabels": false
        },
        "xaxis23": {
         "anchor": "y23",
         "domain": [
          0.6888888888888889,
          0.8277777777777777
         ],
         "matches": "x35",
         "range": [
          0.6499999999999999,
          8.35
         ],
         "showticklabels": false
        },
        "xaxis24": {
         "anchor": "y24",
         "domain": [
          0.861111111111111,
          1
         ],
         "matches": "x36",
         "range": [
          0.85,
          4.15
         ],
         "showticklabels": false
        },
        "xaxis25": {
         "anchor": "y25",
         "domain": [
          0,
          0.1388888888888889
         ],
         "matches": "x31",
         "range": [
          0.02040174782310375,
          0.04864443883450345
         ],
         "showticklabels": false
        },
        "xaxis26": {
         "anchor": "y26",
         "domain": [
          0.17222222222222222,
          0.3111111111111111
         ],
         "matches": "x32",
         "range": [
          3.4,
          16.6
         ],
         "showticklabels": false
        },
        "xaxis27": {
         "anchor": "y27",
         "domain": [
          0.34444444444444444,
          0.48333333333333334
         ],
         "matches": "x33",
         "range": [
          7.4,
          20.6
         ],
         "showticklabels": false
        },
        "xaxis28": {
         "anchor": "y28",
         "domain": [
          0.5166666666666667,
          0.6555555555555557
         ],
         "matches": "x34",
         "range": [
          0.85,
          4.15
         ],
         "showticklabels": false
        },
        "xaxis29": {
         "anchor": "y29",
         "domain": [
          0.6888888888888889,
          0.8277777777777777
         ],
         "matches": "x35",
         "range": [
          0.6499999999999999,
          8.35
         ],
         "showticklabels": false
        },
        "xaxis3": {
         "anchor": "y3",
         "domain": [
          0.34444444444444444,
          0.48333333333333334
         ],
         "matches": "x33",
         "range": [
          7.4,
          20.6
         ],
         "showticklabels": false
        },
        "xaxis30": {
         "anchor": "y30",
         "domain": [
          0.861111111111111,
          1
         ],
         "matches": "x36",
         "range": [
          0.85,
          4.15
         ],
         "showticklabels": false
        },
        "xaxis31": {
         "anchor": "y31",
         "domain": [
          0,
          0.1388888888888889
         ],
         "range": [
          0.02040174782310375,
          0.04864443883450345
         ],
         "title": {
          "text": "cooc_prob"
         }
        },
        "xaxis32": {
         "anchor": "y32",
         "domain": [
          0.17222222222222222,
          0.3111111111111111
         ],
         "range": [
          3.4,
          16.6
         ],
         "title": {
          "text": "num_cooc_week"
         }
        },
        "xaxis33": {
         "anchor": "y33",
         "domain": [
          0.34444444444444444,
          0.48333333333333334
         ],
         "range": [
          7.4,
          20.6
         ],
         "title": {
          "text": "num_repurchase_week"
         }
        },
        "xaxis34": {
         "anchor": "y34",
         "domain": [
          0.5166666666666667,
          0.6555555555555557
         ],
         "range": [
          0.85,
          4.15
         ],
         "title": {
          "text": "num_train_weeks"
         }
        },
        "xaxis35": {
         "anchor": "y35",
         "domain": [
          0.6888888888888889,
          0.8277777777777777
         ],
         "range": [
          0.6499999999999999,
          8.35
         ],
         "title": {
          "text": "transaction_dynamic_week"
         }
        },
        "xaxis36": {
         "anchor": "y36",
         "domain": [
          0.861111111111111,
          1
         ],
         "range": [
          0.85,
          4.15
         ],
         "title": {
          "text": "volume_week"
         }
        },
        "xaxis4": {
         "anchor": "y4",
         "domain": [
          0.5166666666666667,
          0.6555555555555557
         ],
         "matches": "x34",
         "range": [
          0.85,
          4.15
         ],
         "showticklabels": false
        },
        "xaxis5": {
         "anchor": "y5",
         "domain": [
          0.6888888888888889,
          0.8277777777777777
         ],
         "matches": "x35",
         "range": [
          0.6499999999999999,
          8.35
         ],
         "showticklabels": false
        },
        "xaxis6": {
         "anchor": "y6",
         "domain": [
          0.861111111111111,
          1
         ],
         "matches": "x36",
         "range": [
          0.85,
          4.15
         ],
         "showticklabels": false
        },
        "xaxis7": {
         "anchor": "y7",
         "domain": [
          0,
          0.1388888888888889
         ],
         "matches": "x31",
         "range": [
          0.02040174782310375,
          0.04864443883450345
         ],
         "showticklabels": false
        },
        "xaxis8": {
         "anchor": "y8",
         "domain": [
          0.17222222222222222,
          0.3111111111111111
         ],
         "matches": "x32",
         "range": [
          3.4,
          16.6
         ],
         "showticklabels": false
        },
        "xaxis9": {
         "anchor": "y9",
         "domain": [
          0.34444444444444444,
          0.48333333333333334
         ],
         "matches": "x33",
         "range": [
          7.4,
          20.6
         ],
         "showticklabels": false
        },
        "yaxis": {
         "anchor": "x",
         "domain": [
          0.875,
          1
         ],
         "range": [
          0.02040174782310375,
          0.04864443883450345
         ],
         "title": {
          "text": "cooc_prob"
         }
        },
        "yaxis10": {
         "anchor": "x10",
         "domain": [
          0.7,
          0.825
         ],
         "matches": "y7",
         "range": [
          3.4,
          16.6
         ],
         "showticklabels": false
        },
        "yaxis11": {
         "anchor": "x11",
         "domain": [
          0.7,
          0.825
         ],
         "matches": "y7",
         "range": [
          3.4,
          16.6
         ],
         "showticklabels": false
        },
        "yaxis12": {
         "anchor": "x12",
         "domain": [
          0.7,
          0.825
         ],
         "matches": "y7",
         "range": [
          3.4,
          16.6
         ],
         "showticklabels": false
        },
        "yaxis13": {
         "anchor": "x13",
         "domain": [
          0.525,
          0.65
         ],
         "range": [
          7.4,
          20.6
         ],
         "title": {
          "text": "num_repurchase_week"
         }
        },
        "yaxis14": {
         "anchor": "x14",
         "domain": [
          0.525,
          0.65
         ],
         "matches": "y13",
         "range": [
          7.4,
          20.6
         ],
         "showticklabels": false
        },
        "yaxis15": {
         "anchor": "x15",
         "domain": [
          0.525,
          0.65
         ],
         "matches": "y13",
         "range": [
          7.4,
          20.6
         ],
         "showticklabels": false
        },
        "yaxis16": {
         "anchor": "x16",
         "domain": [
          0.525,
          0.65
         ],
         "matches": "y13",
         "range": [
          7.4,
          20.6
         ],
         "showticklabels": false
        },
        "yaxis17": {
         "anchor": "x17",
         "domain": [
          0.525,
          0.65
         ],
         "matches": "y13",
         "range": [
          7.4,
          20.6
         ],
         "showticklabels": false
        },
        "yaxis18": {
         "anchor": "x18",
         "domain": [
          0.525,
          0.65
         ],
         "matches": "y13",
         "range": [
          7.4,
          20.6
         ],
         "showticklabels": false
        },
        "yaxis19": {
         "anchor": "x19",
         "domain": [
          0.35,
          0.475
         ],
         "range": [
          0.85,
          4.15
         ],
         "title": {
          "text": "num_train_weeks"
         }
        },
        "yaxis2": {
         "anchor": "x2",
         "domain": [
          0.875,
          1
         ],
         "matches": "y",
         "range": [
          0.02040174782310375,
          0.04864443883450345
         ],
         "showticklabels": false
        },
        "yaxis20": {
         "anchor": "x20",
         "domain": [
          0.35,
          0.475
         ],
         "matches": "y19",
         "range": [
          0.85,
          4.15
         ],
         "showticklabels": false
        },
        "yaxis21": {
         "anchor": "x21",
         "domain": [
          0.35,
          0.475
         ],
         "matches": "y19",
         "range": [
          0.85,
          4.15
         ],
         "showticklabels": false
        },
        "yaxis22": {
         "anchor": "x22",
         "domain": [
          0.35,
          0.475
         ],
         "matches": "y19",
         "range": [
          0.85,
          4.15
         ],
         "showticklabels": false
        },
        "yaxis23": {
         "anchor": "x23",
         "domain": [
          0.35,
          0.475
         ],
         "matches": "y19",
         "range": [
          0.85,
          4.15
         ],
         "showticklabels": false
        },
        "yaxis24": {
         "anchor": "x24",
         "domain": [
          0.35,
          0.475
         ],
         "matches": "y19",
         "range": [
          0.85,
          4.15
         ],
         "showticklabels": false
        },
        "yaxis25": {
         "anchor": "x25",
         "domain": [
          0.175,
          0.3
         ],
         "range": [
          0.6499999999999999,
          8.35
         ],
         "title": {
          "text": "transaction_dynamic_week"
         }
        },
        "yaxis26": {
         "anchor": "x26",
         "domain": [
          0.175,
          0.3
         ],
         "matches": "y25",
         "range": [
          0.6499999999999999,
          8.35
         ],
         "showticklabels": false
        },
        "yaxis27": {
         "anchor": "x27",
         "domain": [
          0.175,
          0.3
         ],
         "matches": "y25",
         "range": [
          0.6499999999999999,
          8.35
         ],
         "showticklabels": false
        },
        "yaxis28": {
         "anchor": "x28",
         "domain": [
          0.175,
          0.3
         ],
         "matches": "y25",
         "range": [
          0.6499999999999999,
          8.35
         ],
         "showticklabels": false
        },
        "yaxis29": {
         "anchor": "x29",
         "domain": [
          0.175,
          0.3
         ],
         "matches": "y25",
         "range": [
          0.6499999999999999,
          8.35
         ],
         "showticklabels": false
        },
        "yaxis3": {
         "anchor": "x3",
         "domain": [
          0.875,
          1
         ],
         "matches": "y",
         "range": [
          0.02040174782310375,
          0.04864443883450345
         ],
         "showticklabels": false
        },
        "yaxis30": {
         "anchor": "x30",
         "domain": [
          0.175,
          0.3
         ],
         "matches": "y25",
         "range": [
          0.6499999999999999,
          8.35
         ],
         "showticklabels": false
        },
        "yaxis31": {
         "anchor": "x31",
         "domain": [
          0,
          0.125
         ],
         "range": [
          0.85,
          4.15
         ],
         "title": {
          "text": "volume_week"
         }
        },
        "yaxis32": {
         "anchor": "x32",
         "domain": [
          0,
          0.125
         ],
         "matches": "y31",
         "range": [
          0.85,
          4.15
         ],
         "showticklabels": false
        },
        "yaxis33": {
         "anchor": "x33",
         "domain": [
          0,
          0.125
         ],
         "matches": "y31",
         "range": [
          0.85,
          4.15
         ],
         "showticklabels": false
        },
        "yaxis34": {
         "anchor": "x34",
         "domain": [
          0,
          0.125
         ],
         "matches": "y31",
         "range": [
          0.85,
          4.15
         ],
         "showticklabels": false
        },
        "yaxis35": {
         "anchor": "x35",
         "domain": [
          0,
          0.125
         ],
         "matches": "y31",
         "range": [
          0.85,
          4.15
         ],
         "showticklabels": false
        },
        "yaxis36": {
         "anchor": "x36",
         "domain": [
          0,
          0.125
         ],
         "matches": "y31",
         "range": [
          0.85,
          4.15
         ],
         "showticklabels": false
        },
        "yaxis4": {
         "anchor": "x4",
         "domain": [
          0.875,
          1
         ],
         "matches": "y",
         "range": [
          0.02040174782310375,
          0.04864443883450345
         ],
         "showticklabels": false
        },
        "yaxis5": {
         "anchor": "x5",
         "domain": [
          0.875,
          1
         ],
         "matches": "y",
         "range": [
          0.02040174782310375,
          0.04864443883450345
         ],
         "showticklabels": false
        },
        "yaxis6": {
         "anchor": "x6",
         "domain": [
          0.875,
          1
         ],
         "matches": "y",
         "range": [
          0.02040174782310375,
          0.04864443883450345
         ],
         "showticklabels": false
        },
        "yaxis7": {
         "anchor": "x7",
         "domain": [
          0.7,
          0.825
         ],
         "range": [
          3.4,
          16.6
         ],
         "title": {
          "text": "num_cooc_week"
         }
        },
        "yaxis8": {
         "anchor": "x8",
         "domain": [
          0.7,
          0.825
         ],
         "matches": "y7",
         "range": [
          3.4,
          16.6
         ],
         "showticklabels": false
        },
        "yaxis9": {
         "anchor": "x9",
         "domain": [
          0.7,
          0.825
         ],
         "matches": "y7",
         "range": [
          3.4,
          16.6
         ],
         "showticklabels": false
        }
       }
      }
     },
     "metadata": {},
     "output_type": "display_data"
    }
   ],
   "source": [
    "optuna.visualization.plot_contour(study)"
   ]
  },
  {
   "cell_type": "code",
   "execution_count": 6,
   "metadata": {},
   "outputs": [
    {
     "data": {
      "application/vnd.plotly.v1+json": {
       "config": {
        "plotlyServerURL": "https://plot.ly"
       },
       "data": [
        {
         "cliponaxis": false,
         "hovertemplate": [
          "volume_week (IntUniformDistribution): 0.0035192049399355783<extra></extra>",
          "num_train_weeks (IntUniformDistribution): 0.014479457081546174<extra></extra>",
          "cooc_prob (UniformDistribution): 0.04331237570336563<extra></extra>",
          "transaction_dynamic_week (IntUniformDistribution): 0.06300729682559646<extra></extra>",
          "num_cooc_week (IntUniformDistribution): 0.13523914224342679<extra></extra>",
          "num_repurchase_week (IntUniformDistribution): 0.7404425232061294<extra></extra>"
         ],
         "marker": {
          "color": "rgb(66,146,198)"
         },
         "orientation": "h",
         "text": [
          "0.0035192049399355783",
          "0.014479457081546174",
          "0.04331237570336563",
          "0.06300729682559646",
          "0.13523914224342679",
          "0.7404425232061294"
         ],
         "textposition": "outside",
         "texttemplate": "%{text:.2f}",
         "type": "bar",
         "x": [
          0.0035192049399355783,
          0.014479457081546174,
          0.04331237570336563,
          0.06300729682559646,
          0.13523914224342679,
          0.7404425232061294
         ],
         "y": [
          "volume_week",
          "num_train_weeks",
          "cooc_prob",
          "transaction_dynamic_week",
          "num_cooc_week",
          "num_repurchase_week"
         ]
        }
       ],
       "layout": {
        "showlegend": false,
        "template": {
         "data": {
          "bar": [
           {
            "error_x": {
             "color": "#2a3f5f"
            },
            "error_y": {
             "color": "#2a3f5f"
            },
            "marker": {
             "line": {
              "color": "#E5ECF6",
              "width": 0.5
             },
             "pattern": {
              "fillmode": "overlay",
              "size": 10,
              "solidity": 0.2
             }
            },
            "type": "bar"
           }
          ],
          "barpolar": [
           {
            "marker": {
             "line": {
              "color": "#E5ECF6",
              "width": 0.5
             },
             "pattern": {
              "fillmode": "overlay",
              "size": 10,
              "solidity": 0.2
             }
            },
            "type": "barpolar"
           }
          ],
          "carpet": [
           {
            "aaxis": {
             "endlinecolor": "#2a3f5f",
             "gridcolor": "white",
             "linecolor": "white",
             "minorgridcolor": "white",
             "startlinecolor": "#2a3f5f"
            },
            "baxis": {
             "endlinecolor": "#2a3f5f",
             "gridcolor": "white",
             "linecolor": "white",
             "minorgridcolor": "white",
             "startlinecolor": "#2a3f5f"
            },
            "type": "carpet"
           }
          ],
          "choropleth": [
           {
            "colorbar": {
             "outlinewidth": 0,
             "ticks": ""
            },
            "type": "choropleth"
           }
          ],
          "contour": [
           {
            "colorbar": {
             "outlinewidth": 0,
             "ticks": ""
            },
            "colorscale": [
             [
              0,
              "#0d0887"
             ],
             [
              0.1111111111111111,
              "#46039f"
             ],
             [
              0.2222222222222222,
              "#7201a8"
             ],
             [
              0.3333333333333333,
              "#9c179e"
             ],
             [
              0.4444444444444444,
              "#bd3786"
             ],
             [
              0.5555555555555556,
              "#d8576b"
             ],
             [
              0.6666666666666666,
              "#ed7953"
             ],
             [
              0.7777777777777778,
              "#fb9f3a"
             ],
             [
              0.8888888888888888,
              "#fdca26"
             ],
             [
              1,
              "#f0f921"
             ]
            ],
            "type": "contour"
           }
          ],
          "contourcarpet": [
           {
            "colorbar": {
             "outlinewidth": 0,
             "ticks": ""
            },
            "type": "contourcarpet"
           }
          ],
          "heatmap": [
           {
            "colorbar": {
             "outlinewidth": 0,
             "ticks": ""
            },
            "colorscale": [
             [
              0,
              "#0d0887"
             ],
             [
              0.1111111111111111,
              "#46039f"
             ],
             [
              0.2222222222222222,
              "#7201a8"
             ],
             [
              0.3333333333333333,
              "#9c179e"
             ],
             [
              0.4444444444444444,
              "#bd3786"
             ],
             [
              0.5555555555555556,
              "#d8576b"
             ],
             [
              0.6666666666666666,
              "#ed7953"
             ],
             [
              0.7777777777777778,
              "#fb9f3a"
             ],
             [
              0.8888888888888888,
              "#fdca26"
             ],
             [
              1,
              "#f0f921"
             ]
            ],
            "type": "heatmap"
           }
          ],
          "heatmapgl": [
           {
            "colorbar": {
             "outlinewidth": 0,
             "ticks": ""
            },
            "colorscale": [
             [
              0,
              "#0d0887"
             ],
             [
              0.1111111111111111,
              "#46039f"
             ],
             [
              0.2222222222222222,
              "#7201a8"
             ],
             [
              0.3333333333333333,
              "#9c179e"
             ],
             [
              0.4444444444444444,
              "#bd3786"
             ],
             [
              0.5555555555555556,
              "#d8576b"
             ],
             [
              0.6666666666666666,
              "#ed7953"
             ],
             [
              0.7777777777777778,
              "#fb9f3a"
             ],
             [
              0.8888888888888888,
              "#fdca26"
             ],
             [
              1,
              "#f0f921"
             ]
            ],
            "type": "heatmapgl"
           }
          ],
          "histogram": [
           {
            "marker": {
             "pattern": {
              "fillmode": "overlay",
              "size": 10,
              "solidity": 0.2
             }
            },
            "type": "histogram"
           }
          ],
          "histogram2d": [
           {
            "colorbar": {
             "outlinewidth": 0,
             "ticks": ""
            },
            "colorscale": [
             [
              0,
              "#0d0887"
             ],
             [
              0.1111111111111111,
              "#46039f"
             ],
             [
              0.2222222222222222,
              "#7201a8"
             ],
             [
              0.3333333333333333,
              "#9c179e"
             ],
             [
              0.4444444444444444,
              "#bd3786"
             ],
             [
              0.5555555555555556,
              "#d8576b"
             ],
             [
              0.6666666666666666,
              "#ed7953"
             ],
             [
              0.7777777777777778,
              "#fb9f3a"
             ],
             [
              0.8888888888888888,
              "#fdca26"
             ],
             [
              1,
              "#f0f921"
             ]
            ],
            "type": "histogram2d"
           }
          ],
          "histogram2dcontour": [
           {
            "colorbar": {
             "outlinewidth": 0,
             "ticks": ""
            },
            "colorscale": [
             [
              0,
              "#0d0887"
             ],
             [
              0.1111111111111111,
              "#46039f"
             ],
             [
              0.2222222222222222,
              "#7201a8"
             ],
             [
              0.3333333333333333,
              "#9c179e"
             ],
             [
              0.4444444444444444,
              "#bd3786"
             ],
             [
              0.5555555555555556,
              "#d8576b"
             ],
             [
              0.6666666666666666,
              "#ed7953"
             ],
             [
              0.7777777777777778,
              "#fb9f3a"
             ],
             [
              0.8888888888888888,
              "#fdca26"
             ],
             [
              1,
              "#f0f921"
             ]
            ],
            "type": "histogram2dcontour"
           }
          ],
          "mesh3d": [
           {
            "colorbar": {
             "outlinewidth": 0,
             "ticks": ""
            },
            "type": "mesh3d"
           }
          ],
          "parcoords": [
           {
            "line": {
             "colorbar": {
              "outlinewidth": 0,
              "ticks": ""
             }
            },
            "type": "parcoords"
           }
          ],
          "pie": [
           {
            "automargin": true,
            "type": "pie"
           }
          ],
          "scatter": [
           {
            "fillpattern": {
             "fillmode": "overlay",
             "size": 10,
             "solidity": 0.2
            },
            "type": "scatter"
           }
          ],
          "scatter3d": [
           {
            "line": {
             "colorbar": {
              "outlinewidth": 0,
              "ticks": ""
             }
            },
            "marker": {
             "colorbar": {
              "outlinewidth": 0,
              "ticks": ""
             }
            },
            "type": "scatter3d"
           }
          ],
          "scattercarpet": [
           {
            "marker": {
             "colorbar": {
              "outlinewidth": 0,
              "ticks": ""
             }
            },
            "type": "scattercarpet"
           }
          ],
          "scattergeo": [
           {
            "marker": {
             "colorbar": {
              "outlinewidth": 0,
              "ticks": ""
             }
            },
            "type": "scattergeo"
           }
          ],
          "scattergl": [
           {
            "marker": {
             "colorbar": {
              "outlinewidth": 0,
              "ticks": ""
             }
            },
            "type": "scattergl"
           }
          ],
          "scattermapbox": [
           {
            "marker": {
             "colorbar": {
              "outlinewidth": 0,
              "ticks": ""
             }
            },
            "type": "scattermapbox"
           }
          ],
          "scatterpolar": [
           {
            "marker": {
             "colorbar": {
              "outlinewidth": 0,
              "ticks": ""
             }
            },
            "type": "scatterpolar"
           }
          ],
          "scatterpolargl": [
           {
            "marker": {
             "colorbar": {
              "outlinewidth": 0,
              "ticks": ""
             }
            },
            "type": "scatterpolargl"
           }
          ],
          "scatterternary": [
           {
            "marker": {
             "colorbar": {
              "outlinewidth": 0,
              "ticks": ""
             }
            },
            "type": "scatterternary"
           }
          ],
          "surface": [
           {
            "colorbar": {
             "outlinewidth": 0,
             "ticks": ""
            },
            "colorscale": [
             [
              0,
              "#0d0887"
             ],
             [
              0.1111111111111111,
              "#46039f"
             ],
             [
              0.2222222222222222,
              "#7201a8"
             ],
             [
              0.3333333333333333,
              "#9c179e"
             ],
             [
              0.4444444444444444,
              "#bd3786"
             ],
             [
              0.5555555555555556,
              "#d8576b"
             ],
             [
              0.6666666666666666,
              "#ed7953"
             ],
             [
              0.7777777777777778,
              "#fb9f3a"
             ],
             [
              0.8888888888888888,
              "#fdca26"
             ],
             [
              1,
              "#f0f921"
             ]
            ],
            "type": "surface"
           }
          ],
          "table": [
           {
            "cells": {
             "fill": {
              "color": "#EBF0F8"
             },
             "line": {
              "color": "white"
             }
            },
            "header": {
             "fill": {
              "color": "#C8D4E3"
             },
             "line": {
              "color": "white"
             }
            },
            "type": "table"
           }
          ]
         },
         "layout": {
          "annotationdefaults": {
           "arrowcolor": "#2a3f5f",
           "arrowhead": 0,
           "arrowwidth": 1
          },
          "autotypenumbers": "strict",
          "coloraxis": {
           "colorbar": {
            "outlinewidth": 0,
            "ticks": ""
           }
          },
          "colorscale": {
           "diverging": [
            [
             0,
             "#8e0152"
            ],
            [
             0.1,
             "#c51b7d"
            ],
            [
             0.2,
             "#de77ae"
            ],
            [
             0.3,
             "#f1b6da"
            ],
            [
             0.4,
             "#fde0ef"
            ],
            [
             0.5,
             "#f7f7f7"
            ],
            [
             0.6,
             "#e6f5d0"
            ],
            [
             0.7,
             "#b8e186"
            ],
            [
             0.8,
             "#7fbc41"
            ],
            [
             0.9,
             "#4d9221"
            ],
            [
             1,
             "#276419"
            ]
           ],
           "sequential": [
            [
             0,
             "#0d0887"
            ],
            [
             0.1111111111111111,
             "#46039f"
            ],
            [
             0.2222222222222222,
             "#7201a8"
            ],
            [
             0.3333333333333333,
             "#9c179e"
            ],
            [
             0.4444444444444444,
             "#bd3786"
            ],
            [
             0.5555555555555556,
             "#d8576b"
            ],
            [
             0.6666666666666666,
             "#ed7953"
            ],
            [
             0.7777777777777778,
             "#fb9f3a"
            ],
            [
             0.8888888888888888,
             "#fdca26"
            ],
            [
             1,
             "#f0f921"
            ]
           ],
           "sequentialminus": [
            [
             0,
             "#0d0887"
            ],
            [
             0.1111111111111111,
             "#46039f"
            ],
            [
             0.2222222222222222,
             "#7201a8"
            ],
            [
             0.3333333333333333,
             "#9c179e"
            ],
            [
             0.4444444444444444,
             "#bd3786"
            ],
            [
             0.5555555555555556,
             "#d8576b"
            ],
            [
             0.6666666666666666,
             "#ed7953"
            ],
            [
             0.7777777777777778,
             "#fb9f3a"
            ],
            [
             0.8888888888888888,
             "#fdca26"
            ],
            [
             1,
             "#f0f921"
            ]
           ]
          },
          "colorway": [
           "#636efa",
           "#EF553B",
           "#00cc96",
           "#ab63fa",
           "#FFA15A",
           "#19d3f3",
           "#FF6692",
           "#B6E880",
           "#FF97FF",
           "#FECB52"
          ],
          "font": {
           "color": "#2a3f5f"
          },
          "geo": {
           "bgcolor": "white",
           "lakecolor": "white",
           "landcolor": "#E5ECF6",
           "showlakes": true,
           "showland": true,
           "subunitcolor": "white"
          },
          "hoverlabel": {
           "align": "left"
          },
          "hovermode": "closest",
          "mapbox": {
           "style": "light"
          },
          "paper_bgcolor": "white",
          "plot_bgcolor": "#E5ECF6",
          "polar": {
           "angularaxis": {
            "gridcolor": "white",
            "linecolor": "white",
            "ticks": ""
           },
           "bgcolor": "#E5ECF6",
           "radialaxis": {
            "gridcolor": "white",
            "linecolor": "white",
            "ticks": ""
           }
          },
          "scene": {
           "xaxis": {
            "backgroundcolor": "#E5ECF6",
            "gridcolor": "white",
            "gridwidth": 2,
            "linecolor": "white",
            "showbackground": true,
            "ticks": "",
            "zerolinecolor": "white"
           },
           "yaxis": {
            "backgroundcolor": "#E5ECF6",
            "gridcolor": "white",
            "gridwidth": 2,
            "linecolor": "white",
            "showbackground": true,
            "ticks": "",
            "zerolinecolor": "white"
           },
           "zaxis": {
            "backgroundcolor": "#E5ECF6",
            "gridcolor": "white",
            "gridwidth": 2,
            "linecolor": "white",
            "showbackground": true,
            "ticks": "",
            "zerolinecolor": "white"
           }
          },
          "shapedefaults": {
           "line": {
            "color": "#2a3f5f"
           }
          },
          "ternary": {
           "aaxis": {
            "gridcolor": "white",
            "linecolor": "white",
            "ticks": ""
           },
           "baxis": {
            "gridcolor": "white",
            "linecolor": "white",
            "ticks": ""
           },
           "bgcolor": "#E5ECF6",
           "caxis": {
            "gridcolor": "white",
            "linecolor": "white",
            "ticks": ""
           }
          },
          "title": {
           "x": 0.05
          },
          "xaxis": {
           "automargin": true,
           "gridcolor": "white",
           "linecolor": "white",
           "ticks": "",
           "title": {
            "standoff": 15
           },
           "zerolinecolor": "white",
           "zerolinewidth": 2
          },
          "yaxis": {
           "automargin": true,
           "gridcolor": "white",
           "linecolor": "white",
           "ticks": "",
           "title": {
            "standoff": 15
           },
           "zerolinecolor": "white",
           "zerolinewidth": 2
          }
         }
        },
        "title": {
         "text": "Hyperparameter Importances"
        },
        "xaxis": {
         "title": {
          "text": "Importance for Objective Value"
         }
        },
        "yaxis": {
         "title": {
          "text": "Hyperparameter"
         }
        }
       }
      }
     },
     "metadata": {},
     "output_type": "display_data"
    }
   ],
   "source": [
    "optuna.visualization.plot_param_importances(study)"
   ]
  },
  {
   "cell_type": "code",
   "execution_count": 7,
   "metadata": {},
   "outputs": [
    {
     "data": {
      "application/vnd.plotly.v1+json": {
       "config": {
        "plotlyServerURL": "https://plot.ly"
       },
       "data": [
        {
         "mode": "markers",
         "name": "Objective Value",
         "type": "scatter",
         "x": [
          0,
          1,
          2,
          3,
          4,
          5,
          6,
          7,
          8,
          9,
          10,
          11,
          12
         ],
         "y": [
          0.028928555638922562,
          0.02863794204653312,
          0.028371243194993574,
          0.029890679271307657,
          0.028857083341249087,
          0.029184083144487664,
          0.029185713814581266,
          0.029520500164084803,
          0.029089912583703314,
          0.028805039894802643,
          0.029507342330209012,
          0.029777829294497127,
          0.02978304017441304
         ]
        },
        {
         "name": "Best Value",
         "type": "scatter",
         "x": [
          0,
          1,
          2,
          3,
          4,
          5,
          6,
          7,
          8,
          9,
          10,
          11,
          12
         ],
         "y": [
          0.028928555638922562,
          0.028928555638922562,
          0.028928555638922562,
          0.029890679271307657,
          0.029890679271307657,
          0.029890679271307657,
          0.029890679271307657,
          0.029890679271307657,
          0.029890679271307657,
          0.029890679271307657,
          0.029890679271307657,
          0.029890679271307657,
          0.029890679271307657
         ]
        }
       ],
       "layout": {
        "template": {
         "data": {
          "bar": [
           {
            "error_x": {
             "color": "#2a3f5f"
            },
            "error_y": {
             "color": "#2a3f5f"
            },
            "marker": {
             "line": {
              "color": "#E5ECF6",
              "width": 0.5
             },
             "pattern": {
              "fillmode": "overlay",
              "size": 10,
              "solidity": 0.2
             }
            },
            "type": "bar"
           }
          ],
          "barpolar": [
           {
            "marker": {
             "line": {
              "color": "#E5ECF6",
              "width": 0.5
             },
             "pattern": {
              "fillmode": "overlay",
              "size": 10,
              "solidity": 0.2
             }
            },
            "type": "barpolar"
           }
          ],
          "carpet": [
           {
            "aaxis": {
             "endlinecolor": "#2a3f5f",
             "gridcolor": "white",
             "linecolor": "white",
             "minorgridcolor": "white",
             "startlinecolor": "#2a3f5f"
            },
            "baxis": {
             "endlinecolor": "#2a3f5f",
             "gridcolor": "white",
             "linecolor": "white",
             "minorgridcolor": "white",
             "startlinecolor": "#2a3f5f"
            },
            "type": "carpet"
           }
          ],
          "choropleth": [
           {
            "colorbar": {
             "outlinewidth": 0,
             "ticks": ""
            },
            "type": "choropleth"
           }
          ],
          "contour": [
           {
            "colorbar": {
             "outlinewidth": 0,
             "ticks": ""
            },
            "colorscale": [
             [
              0,
              "#0d0887"
             ],
             [
              0.1111111111111111,
              "#46039f"
             ],
             [
              0.2222222222222222,
              "#7201a8"
             ],
             [
              0.3333333333333333,
              "#9c179e"
             ],
             [
              0.4444444444444444,
              "#bd3786"
             ],
             [
              0.5555555555555556,
              "#d8576b"
             ],
             [
              0.6666666666666666,
              "#ed7953"
             ],
             [
              0.7777777777777778,
              "#fb9f3a"
             ],
             [
              0.8888888888888888,
              "#fdca26"
             ],
             [
              1,
              "#f0f921"
             ]
            ],
            "type": "contour"
           }
          ],
          "contourcarpet": [
           {
            "colorbar": {
             "outlinewidth": 0,
             "ticks": ""
            },
            "type": "contourcarpet"
           }
          ],
          "heatmap": [
           {
            "colorbar": {
             "outlinewidth": 0,
             "ticks": ""
            },
            "colorscale": [
             [
              0,
              "#0d0887"
             ],
             [
              0.1111111111111111,
              "#46039f"
             ],
             [
              0.2222222222222222,
              "#7201a8"
             ],
             [
              0.3333333333333333,
              "#9c179e"
             ],
             [
              0.4444444444444444,
              "#bd3786"
             ],
             [
              0.5555555555555556,
              "#d8576b"
             ],
             [
              0.6666666666666666,
              "#ed7953"
             ],
             [
              0.7777777777777778,
              "#fb9f3a"
             ],
             [
              0.8888888888888888,
              "#fdca26"
             ],
             [
              1,
              "#f0f921"
             ]
            ],
            "type": "heatmap"
           }
          ],
          "heatmapgl": [
           {
            "colorbar": {
             "outlinewidth": 0,
             "ticks": ""
            },
            "colorscale": [
             [
              0,
              "#0d0887"
             ],
             [
              0.1111111111111111,
              "#46039f"
             ],
             [
              0.2222222222222222,
              "#7201a8"
             ],
             [
              0.3333333333333333,
              "#9c179e"
             ],
             [
              0.4444444444444444,
              "#bd3786"
             ],
             [
              0.5555555555555556,
              "#d8576b"
             ],
             [
              0.6666666666666666,
              "#ed7953"
             ],
             [
              0.7777777777777778,
              "#fb9f3a"
             ],
             [
              0.8888888888888888,
              "#fdca26"
             ],
             [
              1,
              "#f0f921"
             ]
            ],
            "type": "heatmapgl"
           }
          ],
          "histogram": [
           {
            "marker": {
             "pattern": {
              "fillmode": "overlay",
              "size": 10,
              "solidity": 0.2
             }
            },
            "type": "histogram"
           }
          ],
          "histogram2d": [
           {
            "colorbar": {
             "outlinewidth": 0,
             "ticks": ""
            },
            "colorscale": [
             [
              0,
              "#0d0887"
             ],
             [
              0.1111111111111111,
              "#46039f"
             ],
             [
              0.2222222222222222,
              "#7201a8"
             ],
             [
              0.3333333333333333,
              "#9c179e"
             ],
             [
              0.4444444444444444,
              "#bd3786"
             ],
             [
              0.5555555555555556,
              "#d8576b"
             ],
             [
              0.6666666666666666,
              "#ed7953"
             ],
             [
              0.7777777777777778,
              "#fb9f3a"
             ],
             [
              0.8888888888888888,
              "#fdca26"
             ],
             [
              1,
              "#f0f921"
             ]
            ],
            "type": "histogram2d"
           }
          ],
          "histogram2dcontour": [
           {
            "colorbar": {
             "outlinewidth": 0,
             "ticks": ""
            },
            "colorscale": [
             [
              0,
              "#0d0887"
             ],
             [
              0.1111111111111111,
              "#46039f"
             ],
             [
              0.2222222222222222,
              "#7201a8"
             ],
             [
              0.3333333333333333,
              "#9c179e"
             ],
             [
              0.4444444444444444,
              "#bd3786"
             ],
             [
              0.5555555555555556,
              "#d8576b"
             ],
             [
              0.6666666666666666,
              "#ed7953"
             ],
             [
              0.7777777777777778,
              "#fb9f3a"
             ],
             [
              0.8888888888888888,
              "#fdca26"
             ],
             [
              1,
              "#f0f921"
             ]
            ],
            "type": "histogram2dcontour"
           }
          ],
          "mesh3d": [
           {
            "colorbar": {
             "outlinewidth": 0,
             "ticks": ""
            },
            "type": "mesh3d"
           }
          ],
          "parcoords": [
           {
            "line": {
             "colorbar": {
              "outlinewidth": 0,
              "ticks": ""
             }
            },
            "type": "parcoords"
           }
          ],
          "pie": [
           {
            "automargin": true,
            "type": "pie"
           }
          ],
          "scatter": [
           {
            "fillpattern": {
             "fillmode": "overlay",
             "size": 10,
             "solidity": 0.2
            },
            "type": "scatter"
           }
          ],
          "scatter3d": [
           {
            "line": {
             "colorbar": {
              "outlinewidth": 0,
              "ticks": ""
             }
            },
            "marker": {
             "colorbar": {
              "outlinewidth": 0,
              "ticks": ""
             }
            },
            "type": "scatter3d"
           }
          ],
          "scattercarpet": [
           {
            "marker": {
             "colorbar": {
              "outlinewidth": 0,
              "ticks": ""
             }
            },
            "type": "scattercarpet"
           }
          ],
          "scattergeo": [
           {
            "marker": {
             "colorbar": {
              "outlinewidth": 0,
              "ticks": ""
             }
            },
            "type": "scattergeo"
           }
          ],
          "scattergl": [
           {
            "marker": {
             "colorbar": {
              "outlinewidth": 0,
              "ticks": ""
             }
            },
            "type": "scattergl"
           }
          ],
          "scattermapbox": [
           {
            "marker": {
             "colorbar": {
              "outlinewidth": 0,
              "ticks": ""
             }
            },
            "type": "scattermapbox"
           }
          ],
          "scatterpolar": [
           {
            "marker": {
             "colorbar": {
              "outlinewidth": 0,
              "ticks": ""
             }
            },
            "type": "scatterpolar"
           }
          ],
          "scatterpolargl": [
           {
            "marker": {
             "colorbar": {
              "outlinewidth": 0,
              "ticks": ""
             }
            },
            "type": "scatterpolargl"
           }
          ],
          "scatterternary": [
           {
            "marker": {
             "colorbar": {
              "outlinewidth": 0,
              "ticks": ""
             }
            },
            "type": "scatterternary"
           }
          ],
          "surface": [
           {
            "colorbar": {
             "outlinewidth": 0,
             "ticks": ""
            },
            "colorscale": [
             [
              0,
              "#0d0887"
             ],
             [
              0.1111111111111111,
              "#46039f"
             ],
             [
              0.2222222222222222,
              "#7201a8"
             ],
             [
              0.3333333333333333,
              "#9c179e"
             ],
             [
              0.4444444444444444,
              "#bd3786"
             ],
             [
              0.5555555555555556,
              "#d8576b"
             ],
             [
              0.6666666666666666,
              "#ed7953"
             ],
             [
              0.7777777777777778,
              "#fb9f3a"
             ],
             [
              0.8888888888888888,
              "#fdca26"
             ],
             [
              1,
              "#f0f921"
             ]
            ],
            "type": "surface"
           }
          ],
          "table": [
           {
            "cells": {
             "fill": {
              "color": "#EBF0F8"
             },
             "line": {
              "color": "white"
             }
            },
            "header": {
             "fill": {
              "color": "#C8D4E3"
             },
             "line": {
              "color": "white"
             }
            },
            "type": "table"
           }
          ]
         },
         "layout": {
          "annotationdefaults": {
           "arrowcolor": "#2a3f5f",
           "arrowhead": 0,
           "arrowwidth": 1
          },
          "autotypenumbers": "strict",
          "coloraxis": {
           "colorbar": {
            "outlinewidth": 0,
            "ticks": ""
           }
          },
          "colorscale": {
           "diverging": [
            [
             0,
             "#8e0152"
            ],
            [
             0.1,
             "#c51b7d"
            ],
            [
             0.2,
             "#de77ae"
            ],
            [
             0.3,
             "#f1b6da"
            ],
            [
             0.4,
             "#fde0ef"
            ],
            [
             0.5,
             "#f7f7f7"
            ],
            [
             0.6,
             "#e6f5d0"
            ],
            [
             0.7,
             "#b8e186"
            ],
            [
             0.8,
             "#7fbc41"
            ],
            [
             0.9,
             "#4d9221"
            ],
            [
             1,
             "#276419"
            ]
           ],
           "sequential": [
            [
             0,
             "#0d0887"
            ],
            [
             0.1111111111111111,
             "#46039f"
            ],
            [
             0.2222222222222222,
             "#7201a8"
            ],
            [
             0.3333333333333333,
             "#9c179e"
            ],
            [
             0.4444444444444444,
             "#bd3786"
            ],
            [
             0.5555555555555556,
             "#d8576b"
            ],
            [
             0.6666666666666666,
             "#ed7953"
            ],
            [
             0.7777777777777778,
             "#fb9f3a"
            ],
            [
             0.8888888888888888,
             "#fdca26"
            ],
            [
             1,
             "#f0f921"
            ]
           ],
           "sequentialminus": [
            [
             0,
             "#0d0887"
            ],
            [
             0.1111111111111111,
             "#46039f"
            ],
            [
             0.2222222222222222,
             "#7201a8"
            ],
            [
             0.3333333333333333,
             "#9c179e"
            ],
            [
             0.4444444444444444,
             "#bd3786"
            ],
            [
             0.5555555555555556,
             "#d8576b"
            ],
            [
             0.6666666666666666,
             "#ed7953"
            ],
            [
             0.7777777777777778,
             "#fb9f3a"
            ],
            [
             0.8888888888888888,
             "#fdca26"
            ],
            [
             1,
             "#f0f921"
            ]
           ]
          },
          "colorway": [
           "#636efa",
           "#EF553B",
           "#00cc96",
           "#ab63fa",
           "#FFA15A",
           "#19d3f3",
           "#FF6692",
           "#B6E880",
           "#FF97FF",
           "#FECB52"
          ],
          "font": {
           "color": "#2a3f5f"
          },
          "geo": {
           "bgcolor": "white",
           "lakecolor": "white",
           "landcolor": "#E5ECF6",
           "showlakes": true,
           "showland": true,
           "subunitcolor": "white"
          },
          "hoverlabel": {
           "align": "left"
          },
          "hovermode": "closest",
          "mapbox": {
           "style": "light"
          },
          "paper_bgcolor": "white",
          "plot_bgcolor": "#E5ECF6",
          "polar": {
           "angularaxis": {
            "gridcolor": "white",
            "linecolor": "white",
            "ticks": ""
           },
           "bgcolor": "#E5ECF6",
           "radialaxis": {
            "gridcolor": "white",
            "linecolor": "white",
            "ticks": ""
           }
          },
          "scene": {
           "xaxis": {
            "backgroundcolor": "#E5ECF6",
            "gridcolor": "white",
            "gridwidth": 2,
            "linecolor": "white",
            "showbackground": true,
            "ticks": "",
            "zerolinecolor": "white"
           },
           "yaxis": {
            "backgroundcolor": "#E5ECF6",
            "gridcolor": "white",
            "gridwidth": 2,
            "linecolor": "white",
            "showbackground": true,
            "ticks": "",
            "zerolinecolor": "white"
           },
           "zaxis": {
            "backgroundcolor": "#E5ECF6",
            "gridcolor": "white",
            "gridwidth": 2,
            "linecolor": "white",
            "showbackground": true,
            "ticks": "",
            "zerolinecolor": "white"
           }
          },
          "shapedefaults": {
           "line": {
            "color": "#2a3f5f"
           }
          },
          "ternary": {
           "aaxis": {
            "gridcolor": "white",
            "linecolor": "white",
            "ticks": ""
           },
           "baxis": {
            "gridcolor": "white",
            "linecolor": "white",
            "ticks": ""
           },
           "bgcolor": "#E5ECF6",
           "caxis": {
            "gridcolor": "white",
            "linecolor": "white",
            "ticks": ""
           }
          },
          "title": {
           "x": 0.05
          },
          "xaxis": {
           "automargin": true,
           "gridcolor": "white",
           "linecolor": "white",
           "ticks": "",
           "title": {
            "standoff": 15
           },
           "zerolinecolor": "white",
           "zerolinewidth": 2
          },
          "yaxis": {
           "automargin": true,
           "gridcolor": "white",
           "linecolor": "white",
           "ticks": "",
           "title": {
            "standoff": 15
           },
           "zerolinecolor": "white",
           "zerolinewidth": 2
          }
         }
        },
        "title": {
         "text": "Optimization History Plot"
        },
        "xaxis": {
         "title": {
          "text": "#Trials"
         }
        },
        "yaxis": {
         "title": {
          "text": "Objective Value"
         }
        }
       }
      }
     },
     "metadata": {},
     "output_type": "display_data"
    }
   ],
   "source": [
    "optuna.visualization.plot_optimization_history(study)"
   ]
  },
  {
   "cell_type": "code",
   "execution_count": 8,
   "metadata": {},
   "outputs": [
    {
     "data": {
      "text/html": [
       "<div>\n",
       "<style scoped>\n",
       "    .dataframe tbody tr th:only-of-type {\n",
       "        vertical-align: middle;\n",
       "    }\n",
       "\n",
       "    .dataframe tbody tr th {\n",
       "        vertical-align: top;\n",
       "    }\n",
       "\n",
       "    .dataframe thead th {\n",
       "        text-align: right;\n",
       "    }\n",
       "</style>\n",
       "<table border=\"1\" class=\"dataframe\">\n",
       "  <thead>\n",
       "    <tr style=\"text-align: right;\">\n",
       "      <th></th>\n",
       "      <th>number</th>\n",
       "      <th>value</th>\n",
       "      <th>datetime_start</th>\n",
       "      <th>datetime_complete</th>\n",
       "      <th>duration</th>\n",
       "      <th>params_cooc_prob</th>\n",
       "      <th>params_num_cooc_week</th>\n",
       "      <th>params_num_repurchase_week</th>\n",
       "      <th>params_num_train_weeks</th>\n",
       "      <th>params_transaction_dynamic_week</th>\n",
       "      <th>params_volume_week</th>\n",
       "      <th>state</th>\n",
       "    </tr>\n",
       "  </thead>\n",
       "  <tbody>\n",
       "    <tr>\n",
       "      <th>0</th>\n",
       "      <td>3</td>\n",
       "      <td>0.029891</td>\n",
       "      <td>2022-04-07 15:25:04.537707</td>\n",
       "      <td>2022-04-07 16:09:37.826500</td>\n",
       "      <td>0 days 00:44:33.288793</td>\n",
       "      <td>0.030730</td>\n",
       "      <td>12</td>\n",
       "      <td>20</td>\n",
       "      <td>3</td>\n",
       "      <td>7</td>\n",
       "      <td>1</td>\n",
       "      <td>COMPLETE</td>\n",
       "    </tr>\n",
       "    <tr>\n",
       "      <th>1</th>\n",
       "      <td>12</td>\n",
       "      <td>0.029783</td>\n",
       "      <td>2022-04-07 19:39:53.398351</td>\n",
       "      <td>2022-04-07 20:21:11.845156</td>\n",
       "      <td>0 days 00:41:18.446805</td>\n",
       "      <td>0.030284</td>\n",
       "      <td>13</td>\n",
       "      <td>20</td>\n",
       "      <td>3</td>\n",
       "      <td>8</td>\n",
       "      <td>2</td>\n",
       "      <td>COMPLETE</td>\n",
       "    </tr>\n",
       "    <tr>\n",
       "      <th>2</th>\n",
       "      <td>11</td>\n",
       "      <td>0.029778</td>\n",
       "      <td>2022-04-07 19:00:18.170230</td>\n",
       "      <td>2022-04-07 19:39:53.397055</td>\n",
       "      <td>0 days 00:39:35.226825</td>\n",
       "      <td>0.032797</td>\n",
       "      <td>16</td>\n",
       "      <td>20</td>\n",
       "      <td>3</td>\n",
       "      <td>8</td>\n",
       "      <td>2</td>\n",
       "      <td>COMPLETE</td>\n",
       "    </tr>\n",
       "    <tr>\n",
       "      <th>3</th>\n",
       "      <td>7</td>\n",
       "      <td>0.029521</td>\n",
       "      <td>2022-04-07 17:27:34.015229</td>\n",
       "      <td>2022-04-07 17:57:36.429954</td>\n",
       "      <td>0 days 00:30:02.414725</td>\n",
       "      <td>0.036632</td>\n",
       "      <td>15</td>\n",
       "      <td>18</td>\n",
       "      <td>3</td>\n",
       "      <td>8</td>\n",
       "      <td>4</td>\n",
       "      <td>COMPLETE</td>\n",
       "    </tr>\n",
       "    <tr>\n",
       "      <th>4</th>\n",
       "      <td>10</td>\n",
       "      <td>0.029507</td>\n",
       "      <td>2022-04-07 18:25:41.782136</td>\n",
       "      <td>2022-04-07 19:00:18.168923</td>\n",
       "      <td>0 days 00:34:36.386787</td>\n",
       "      <td>0.026336</td>\n",
       "      <td>12</td>\n",
       "      <td>20</td>\n",
       "      <td>2</td>\n",
       "      <td>5</td>\n",
       "      <td>1</td>\n",
       "      <td>COMPLETE</td>\n",
       "    </tr>\n",
       "    <tr>\n",
       "      <th>5</th>\n",
       "      <td>6</td>\n",
       "      <td>0.029186</td>\n",
       "      <td>2022-04-07 17:16:12.983537</td>\n",
       "      <td>2022-04-07 17:27:34.013984</td>\n",
       "      <td>0 days 00:11:21.030447</td>\n",
       "      <td>0.042510</td>\n",
       "      <td>4</td>\n",
       "      <td>17</td>\n",
       "      <td>1</td>\n",
       "      <td>1</td>\n",
       "      <td>4</td>\n",
       "      <td>COMPLETE</td>\n",
       "    </tr>\n",
       "    <tr>\n",
       "      <th>6</th>\n",
       "      <td>5</td>\n",
       "      <td>0.029184</td>\n",
       "      <td>2022-04-07 16:16:36.223654</td>\n",
       "      <td>2022-04-07 17:16:12.982363</td>\n",
       "      <td>0 days 00:59:36.758709</td>\n",
       "      <td>0.021686</td>\n",
       "      <td>11</td>\n",
       "      <td>16</td>\n",
       "      <td>4</td>\n",
       "      <td>2</td>\n",
       "      <td>3</td>\n",
       "      <td>COMPLETE</td>\n",
       "    </tr>\n",
       "    <tr>\n",
       "      <th>7</th>\n",
       "      <td>8</td>\n",
       "      <td>0.029090</td>\n",
       "      <td>2022-04-07 17:57:36.431243</td>\n",
       "      <td>2022-04-07 18:17:16.882731</td>\n",
       "      <td>0 days 00:19:40.451488</td>\n",
       "      <td>0.046450</td>\n",
       "      <td>14</td>\n",
       "      <td>14</td>\n",
       "      <td>3</td>\n",
       "      <td>3</td>\n",
       "      <td>2</td>\n",
       "      <td>COMPLETE</td>\n",
       "    </tr>\n",
       "    <tr>\n",
       "      <th>8</th>\n",
       "      <td>0</td>\n",
       "      <td>0.028929</td>\n",
       "      <td>2022-04-07 14:41:34.704799</td>\n",
       "      <td>2022-04-07 14:50:10.245815</td>\n",
       "      <td>0 days 00:08:35.541016</td>\n",
       "      <td>0.033452</td>\n",
       "      <td>8</td>\n",
       "      <td>12</td>\n",
       "      <td>1</td>\n",
       "      <td>4</td>\n",
       "      <td>3</td>\n",
       "      <td>COMPLETE</td>\n",
       "    </tr>\n",
       "    <tr>\n",
       "      <th>9</th>\n",
       "      <td>4</td>\n",
       "      <td>0.028857</td>\n",
       "      <td>2022-04-07 16:09:37.827727</td>\n",
       "      <td>2022-04-07 16:16:36.222477</td>\n",
       "      <td>0 days 00:06:58.394750</td>\n",
       "      <td>0.044312</td>\n",
       "      <td>9</td>\n",
       "      <td>12</td>\n",
       "      <td>1</td>\n",
       "      <td>7</td>\n",
       "      <td>1</td>\n",
       "      <td>COMPLETE</td>\n",
       "    </tr>\n",
       "  </tbody>\n",
       "</table>\n",
       "</div>"
      ],
      "text/plain": [
       "   number     value             datetime_start          datetime_complete  \\\n",
       "0       3  0.029891 2022-04-07 15:25:04.537707 2022-04-07 16:09:37.826500   \n",
       "1      12  0.029783 2022-04-07 19:39:53.398351 2022-04-07 20:21:11.845156   \n",
       "2      11  0.029778 2022-04-07 19:00:18.170230 2022-04-07 19:39:53.397055   \n",
       "3       7  0.029521 2022-04-07 17:27:34.015229 2022-04-07 17:57:36.429954   \n",
       "4      10  0.029507 2022-04-07 18:25:41.782136 2022-04-07 19:00:18.168923   \n",
       "5       6  0.029186 2022-04-07 17:16:12.983537 2022-04-07 17:27:34.013984   \n",
       "6       5  0.029184 2022-04-07 16:16:36.223654 2022-04-07 17:16:12.982363   \n",
       "7       8  0.029090 2022-04-07 17:57:36.431243 2022-04-07 18:17:16.882731   \n",
       "8       0  0.028929 2022-04-07 14:41:34.704799 2022-04-07 14:50:10.245815   \n",
       "9       4  0.028857 2022-04-07 16:09:37.827727 2022-04-07 16:16:36.222477   \n",
       "\n",
       "                duration  params_cooc_prob  params_num_cooc_week  \\\n",
       "0 0 days 00:44:33.288793          0.030730                    12   \n",
       "1 0 days 00:41:18.446805          0.030284                    13   \n",
       "2 0 days 00:39:35.226825          0.032797                    16   \n",
       "3 0 days 00:30:02.414725          0.036632                    15   \n",
       "4 0 days 00:34:36.386787          0.026336                    12   \n",
       "5 0 days 00:11:21.030447          0.042510                     4   \n",
       "6 0 days 00:59:36.758709          0.021686                    11   \n",
       "7 0 days 00:19:40.451488          0.046450                    14   \n",
       "8 0 days 00:08:35.541016          0.033452                     8   \n",
       "9 0 days 00:06:58.394750          0.044312                     9   \n",
       "\n",
       "   params_num_repurchase_week  params_num_train_weeks  \\\n",
       "0                          20                       3   \n",
       "1                          20                       3   \n",
       "2                          20                       3   \n",
       "3                          18                       3   \n",
       "4                          20                       2   \n",
       "5                          17                       1   \n",
       "6                          16                       4   \n",
       "7                          14                       3   \n",
       "8                          12                       1   \n",
       "9                          12                       1   \n",
       "\n",
       "   params_transaction_dynamic_week  params_volume_week     state  \n",
       "0                                7                   1  COMPLETE  \n",
       "1                                8                   2  COMPLETE  \n",
       "2                                8                   2  COMPLETE  \n",
       "3                                8                   4  COMPLETE  \n",
       "4                                5                   1  COMPLETE  \n",
       "5                                1                   4  COMPLETE  \n",
       "6                                2                   3  COMPLETE  \n",
       "7                                3                   2  COMPLETE  \n",
       "8                                4                   3  COMPLETE  \n",
       "9                                7                   1  COMPLETE  "
      ]
     },
     "execution_count": 8,
     "metadata": {},
     "output_type": "execute_result"
    }
   ],
   "source": [
    "df_params = study.trials_dataframe().sort_values(by='value',ascending=False).reset_index(drop=True)\n",
    "df_params.head(10)"
   ]
  },
  {
   "cell_type": "code",
   "execution_count": null,
   "metadata": {},
   "outputs": [],
   "source": []
  }
 ],
 "metadata": {
  "interpreter": {
   "hash": "c89b5301ada1d96cd3523f144e4a3cd3ad36f6698a61e6b8277fb627756a86c6"
  },
  "kernelspec": {
   "display_name": "Python 3.9.10 64-bit ('3.9.10')",
   "language": "python",
   "name": "python3"
  },
  "language_info": {
   "codemirror_mode": {
    "name": "ipython",
    "version": 3
   },
   "file_extension": ".py",
   "mimetype": "text/x-python",
   "name": "python",
   "nbconvert_exporter": "python",
   "pygments_lexer": "ipython3",
   "version": "3.9.12"
  },
  "orig_nbformat": 4
 },
 "nbformat": 4,
 "nbformat_minor": 2
}
